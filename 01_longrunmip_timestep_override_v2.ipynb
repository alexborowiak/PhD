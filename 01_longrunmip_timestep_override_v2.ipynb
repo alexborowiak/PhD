{
 "cells": [
  {
   "cell_type": "markdown",
   "id": "30f5a1ec",
   "metadata": {},
   "source": [
    "# Time Analysis\n",
    "\n",
    "* Time analysis of lungrunmip data\n",
    "* Number of models for each experiment.\n",
    "This notebook contains an exploration of the timesteps in the longrunmip data.\n",
    "The notebooks also contains a time override. The models in my study all need to have the same timestamps - year since initialisation. The easiest way to go about this is overriding all time stamps and adding back in new time depending if annual or monthly (ann or monn in file name). "
   ]
  },
  {
   "cell_type": "code",
   "execution_count": 137,
   "id": "cd237fda",
   "metadata": {},
   "outputs": [],
   "source": [
    "import os, sys, warnings, cftime\n",
    "import xarray as xr\n",
    "import numpy as np\n",
    "import pandas as pd\n",
    "import matplotlib.pyplot \n",
    "import matplotlib.pyplot as plt\n",
    "warnings.filterwarnings('ignore')\n",
    "import constants\n",
    "sys.path.append(constants.MODULE_DIR)\n",
    "from importlib import reload\n",
    "from time import perf_counter\n",
    "from typing import List\n",
    "import re\n",
    "import xarray_class_accessors as xca\n",
    "import utils\n",
    "import open_ds"
   ]
  },
  {
   "cell_type": "markdown",
   "id": "99fe34d5",
   "metadata": {},
   "source": [
    "# Files"
   ]
  },
  {
   "cell_type": "code",
   "execution_count": 146,
   "id": "2cec4ec5",
   "metadata": {},
   "outputs": [],
   "source": [
    "def refactor_longronmip_netcdf(ds: xr.Dataset) -> xr.Dataset:\n",
    "    ds = open_ds.refactor_dims(ds)\n",
    "\n",
    "    freq = 'M' if re.search('\\w+mon\\w+', fname) else 'Y'\n",
    "    print(f'| {freq=} |', end='')\n",
    "    ds['time'] = open_ds.make_new_time(ds, freq=freq, debug=False)\n",
    "    \n",
    "    \n",
    "    if freq == 'M':\n",
    "        \n",
    "        print(f' resample=True, old_length = {len(ds.time.values)}, ', end='')\n",
    "        ds = ds.resample(time='Y').mean()\n",
    "    print(f' length = {len(ds.time.values)}')\n",
    "        \n",
    "    return ds\n",
    "            "
   ]
  },
  {
   "cell_type": "code",
   "execution_count": 147,
   "id": "12729ac9",
   "metadata": {},
   "outputs": [
    {
     "data": {
      "text/plain": [
       "['tas', 'netTOA', 'pr', '.ipynb_checkpoints', 'psl', 'sic']"
      ]
     },
     "execution_count": 147,
     "metadata": {},
     "output_type": "execute_result"
    }
   ],
   "source": [
    "os.listdir(constants.LONGRUNMIP_DIR)"
   ]
  },
  {
   "cell_type": "code",
   "execution_count": 148,
   "id": "f26d4618",
   "metadata": {},
   "outputs": [],
   "source": [
    "# The directory where all of the longrun mip data used in this notebook is stored.\n",
    "variable = 'pr'\n",
    "ROOT_DIR = os.path.join(constants.LONGRUNMIP_DIR, variable, 'regrid')"
   ]
  },
  {
   "cell_type": "code",
   "execution_count": 156,
   "id": "b203af63",
   "metadata": {},
   "outputs": [
    {
     "name": "stdout",
     "output_type": "stream",
     "text": [
      "lenght = 50\n",
      " 0. pr_mon_ECEARTH_rcp85_1271_g025.nc\n",
      " 1. pr_mon_MPIESM12_control_1237_g025.nc\n"
     ]
    }
   ],
   "source": [
    "# All the files\n",
    "files = os.listdir(ROOT_DIR)\n",
    "utils.pprint_list(files)"
   ]
  },
  {
   "cell_type": "code",
   "execution_count": 157,
   "id": "270f4f28",
   "metadata": {},
   "outputs": [
    {
     "data": {
      "text/plain": [
       "'/g/data/w40/ab2313/PhD/longrunmip/pr/regrid_retimestamped'"
      ]
     },
     "execution_count": 157,
     "metadata": {},
     "output_type": "execute_result"
    }
   ],
   "source": [
    "OUTPUT_DIR = os.path.join(constants.LONGRUNMIP_DIR, variable, 'regrid_retimestamped')\n",
    "OUTPUT_DIR"
   ]
  },
  {
   "cell_type": "code",
   "execution_count": 158,
   "id": "6b3dc577",
   "metadata": {},
   "outputs": [],
   "source": [
    "try:\n",
    "    os.mkdir(OUTPUT_DIR)\n",
    "except FileExistsError as e:\n",
    "    pass"
   ]
  },
  {
   "cell_type": "code",
   "execution_count": null,
   "id": "6a72aee8",
   "metadata": {},
   "outputs": [
    {
     "name": "stdout",
     "output_type": "stream",
     "text": [
      "- pr_mon_GFDLESM2M_control_1340_g025.nc| freq='M' | resample=True, old_length = 16080,  length = 1340\n",
      "| complete (128.60581745859236)\n",
      "- pr_mon_CESM104_abrupt4x_5900_g025.ncpr_mon_CESM104_abrupt4x_5900_g025.nc has failed.\n",
      "| freq='M' | resample=True, old_length = 1340,  length = 112\n",
      "| complete (6.739913293160498)\n",
      "- pr_mon_CCSM3_control_1530_g025.nc| freq='M' | resample=True, old_length = 18360,  length = 1530\n",
      "| complete (153.91942045465112)\n",
      "- pr_mon_CCSM3_abrupt8x_1450_g025.nc| freq='M' | resample=True, old_length = 17400,  length = 1450\n",
      "| complete (138.56768074817955)\n",
      "- pr_ann_HadGEM2ES_abrupt4x_1299_g025.nc| freq='Y' | length = 1299\n",
      "| complete (2.379066358320415)\n",
      "- pr_mon_MPIESM12_abrupt4x_999_g025.nc| freq='M' | resample=True, old_length = 12000,  length = 1000\n",
      "| complete (87.88444184698164)\n",
      "- pr_mon_MPIESM12_abrupt2x_999_g025.nc| freq='M' | resample=True, old_length = 12000,  length = 1000\n",
      "| complete (87.47770055849105)\n",
      "- pr_mon_IPSLCM5A_abrupt4x_1000_g025.nc| freq='M' | resample=True, old_length = 12000,  length = 1000\n",
      "| complete (110.38416965212673)\n",
      "- pr_mon_GFDLESM2M_1pct2x_4500_g025.nc| freq='M' | resample=True, old_length = 54000,  length = 4500\n",
      "| complete (659.5733067691326)\n",
      "- pr_mon_MIROC32_abrupt4x_150_g025.nc| freq='M' | resample=True, old_length = 1800,  length = 150\n",
      "| complete (11.548533675260842)\n",
      "- pr_mon_MIROC32_control_680_g025.nc| freq='M' | resample=True, old_length = 8172,  length = 681\n",
      "| complete (68.81563384179026)\n",
      "- pr_mon_GISSE2R_1pct4x_5001_g025.nc| freq='M' | resample=True, old_length = 60012, "
     ]
    }
   ],
   "source": [
    "failed_files = []\n",
    "for i, fname in enumerate(files[37:]):\n",
    "    t1 = perf_counter()\n",
    "    \n",
    "    print(f'- {fname}', end='')\n",
    "    fpath = os.path.join(ROOT_DIR, fname)\n",
    "    try:\n",
    "        ds = open_ds.open_dataset(fpath)\n",
    "    except:\n",
    "        print(f'{fname} has failed.')\n",
    "        failed_files.append(fname)\n",
    "        \n",
    "    if ds:\n",
    "        ds = refactor_longronmip_netcdf(ds)\n",
    "        ds.to_netcdf(os.path.join(OUTPUT_DIR, fname))\n",
    "            \n",
    "        t2 = perf_counter()\n",
    "        print(f'| complete ({t2-t1})')"
   ]
  },
  {
   "cell_type": "code",
   "execution_count": null,
   "id": "6f863246",
   "metadata": {},
   "outputs": [],
   "source": [
    "utils.pprint_list(failed_files)"
   ]
  },
  {
   "cell_type": "code",
   "execution_count": 166,
   "id": "4867c129",
   "metadata": {},
   "outputs": [
    {
     "name": "stdout",
     "output_type": "stream",
     "text": [
      "lenght = 38\n",
      " 0. pr_mon_ECEARTH_rcp85_1271_g025.nc\n",
      " 1. pr_mon_MPIESM12_control_1237_g025.nc\n"
     ]
    }
   ],
   "source": [
    "file_check = os.listdir(OUTPUT_DIR)\n",
    "utils.pprint_list(file_check)"
   ]
  },
  {
   "cell_type": "code",
   "execution_count": null,
   "id": "04bf27d0",
   "metadata": {},
   "outputs": [],
   "source": [
    "# '/g/data/w40/ab2313/PhD/longrunmip/pr/regrid/pr_mon_CESM104_abrupt4x_5900_g025.nc'"
   ]
  }
 ],
 "metadata": {
  "kernelspec": {
   "display_name": "Python 3 (ipykernel)",
   "language": "python",
   "name": "python3"
  },
  "language_info": {
   "codemirror_mode": {
    "name": "ipython",
    "version": 3
   },
   "file_extension": ".py",
   "mimetype": "text/x-python",
   "name": "python",
   "nbconvert_exporter": "python",
   "pygments_lexer": "ipython3",
   "version": "3.9.13"
  }
 },
 "nbformat": 4,
 "nbformat_minor": 5
}
