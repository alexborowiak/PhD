{
 "cells": [
  {
   "cell_type": "code",
   "execution_count": 1,
   "id": "53705399",
   "metadata": {},
   "outputs": [
    {
     "name": "stderr",
     "output_type": "stream",
     "text": [
      "2022-02-10 11:59:28,495 - __main__ - DEBUG - debug message\n",
      "2022-02-10 11:59:28,497 - __main__ - INFO - info message\n",
      "2022-02-10 11:59:28,502 - __main__ - WARNING - warn message\n",
      "2022-02-10 11:59:28,503 - __main__ - ERROR - error message\n",
      "2022-02-10 11:59:28,508 - __main__ - CRITICAL - critical message\n"
     ]
    }
   ],
   "source": [
    "###################\n",
    "# SETUP LOGGER\n",
    "###################\n",
    "\n",
    "import logging\n",
    "\n",
    "# create logger\n",
    "logger = logging.getLogger(__name__)\n",
    "# set log level for all handlers to debug\n",
    "logger.setLevel(logging.DEBUG)\n",
    "\n",
    "# create console handler and set level to debug\n",
    "# best for development or debugging\n",
    "consoleHandler = logging.StreamHandler()\n",
    "consoleHandler.setLevel(logging.DEBUG)\n",
    "\n",
    "# create formatter\n",
    "formatter = logging.Formatter('%(asctime)s - %(name)s - %(levelname)s - %(message)s')\n",
    "\n",
    "# add formatter to ch\n",
    "consoleHandler.setFormatter(formatter)\n",
    "\n",
    "# add ch to logger\n",
    "logger.addHandler(consoleHandler)\n",
    "\n",
    "###################\n",
    "# USE LOGGER\n",
    "###################\n",
    "\n",
    "# example usage\n",
    "logger.debug('debug message')\n",
    "logger.info('info message')\n",
    "logger.warning('warn message')\n",
    "logger.error('error message')\n",
    "logger.critical('critical message')"
   ]
  },
  {
   "cell_type": "code",
   "execution_count": 17,
   "id": "50649247",
   "metadata": {},
   "outputs": [],
   "source": [
    "logginglevel = 'DEBUG'"
   ]
  },
  {
   "cell_type": "code",
   "execution_count": 18,
   "id": "55d146e6",
   "metadata": {},
   "outputs": [],
   "source": [
    "eval(f'logging.getLogger().setLevel(logging.{logginglevel})')"
   ]
  },
  {
   "cell_type": "code",
   "execution_count": 5,
   "id": "89b21286",
   "metadata": {},
   "outputs": [],
   "source": [
    "# Dynamillcaly setting the logger\n",
    "consoleHandler.setLevel(logging.ERROR)"
   ]
  },
  {
   "cell_type": "code",
   "execution_count": 6,
   "id": "73f32b5e",
   "metadata": {},
   "outputs": [
    {
     "name": "stderr",
     "output_type": "stream",
     "text": [
      "2022-02-10 13:58:21,182 - __main__ - ERROR - error message\n",
      "2022-02-10 13:58:21,184 - __main__ - CRITICAL - critical message\n"
     ]
    }
   ],
   "source": [
    "logger.debug('debug message')\n",
    "logger.info('info message')\n",
    "logger.warning('warn message')\n",
    "logger.error('error message')\n",
    "logger.critical('critical message')"
   ]
  },
  {
   "cell_type": "code",
   "execution_count": 12,
   "id": "9a274db0",
   "metadata": {},
   "outputs": [],
   "source": [
    "logginglevel = 'ERROR'#'DEBUG'"
   ]
  },
  {
   "cell_type": "code",
   "execution_count": 15,
   "id": "2b50929a",
   "metadata": {},
   "outputs": [
    {
     "name": "stdout",
     "output_type": "stream",
     "text": [
      "CPU times: user 138 µs, sys: 69 µs, total: 207 µs\n",
      "Wall time: 267 µs\n"
     ]
    }
   ],
   "source": [
    "%%time\n",
    "eval(f'consoleHandler.setLevel(logging.{logginglevel})')"
   ]
  },
  {
   "cell_type": "code",
   "execution_count": 14,
   "id": "b09134d1",
   "metadata": {},
   "outputs": [
    {
     "name": "stderr",
     "output_type": "stream",
     "text": [
      "2022-02-10 16:02:12,702 - __main__ - ERROR - error message\n",
      "2022-02-10 16:02:12,707 - __main__ - CRITICAL - critical message\n"
     ]
    }
   ],
   "source": [
    "logger.debug('debug message')\n",
    "logger.info('info message')\n",
    "logger.warning('warn message')\n",
    "logger.error('error message')\n",
    "logger.critical('critical message')"
   ]
  },
  {
   "cell_type": "code",
   "execution_count": null,
   "id": "fc83bd7c",
   "metadata": {},
   "outputs": [],
   "source": []
  }
 ],
 "metadata": {
  "kernelspec": {
   "display_name": "Python 3 (ipykernel)",
   "language": "python",
   "name": "python3"
  },
  "language_info": {
   "codemirror_mode": {
    "name": "ipython",
    "version": 3
   },
   "file_extension": ".py",
   "mimetype": "text/x-python",
   "name": "python",
   "nbconvert_exporter": "python",
   "pygments_lexer": "ipython3",
   "version": "3.9.9"
  }
 },
 "nbformat": 4,
 "nbformat_minor": 5
}
