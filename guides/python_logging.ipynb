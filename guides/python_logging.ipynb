{
 "cells": [
  {
   "cell_type": "code",
   "execution_count": 12,
   "id": "e479fca4",
   "metadata": {},
   "outputs": [],
   "source": [
    "# https://stackoverflow.com/questions/18786912/get-output-from-the-logging-module-in-ipython-notebook\n",
    "\n",
    "# import logging, sys\n",
    "\n",
    "# logger = logging.getLogger()\n",
    "# # fhandler = logging.FileHandler(filename='mylog.log', mode='a')\n",
    "# # fhandler = logging.StreamHandler()\n",
    "# formatter = logging.Formatter('%(asctime)s - %(name)s - %(levelname)s - %(message)s')\n",
    "# fhandler.setFormatter(formatter)\n",
    "# logger.setLevel(logging.DEBUG)\n",
    "# logger.handlers = sys.stdout #  [0].stream"
   ]
  },
  {
   "cell_type": "code",
   "execution_count": 1,
   "id": "38228d9f",
   "metadata": {},
   "outputs": [],
   "source": [
    "# https://stackoverflow.com/questions/6847862/how-to-change-the-format-of-logged-messages-temporarily-in-python\n",
    "# import logging, sys\n",
    "\n",
    "# logger = logging.getLogger()  # Logger\n",
    "# logger_handler = logging.StreamHandler()  # Handler for the logger\n",
    "# logger.addHandler(logger_handler)\n",
    "\n",
    "# # First, generic formatter:\n",
    "# logger_handler.setFormatter(logging.Formatter('%(message)s'))\n",
    "# logger.error('error message')  # Test\n",
    "\n",
    "# # New formatter for the handler:\n",
    "# logger_handler.setFormatter(logging.Formatter('PROCESSING FILE xxx - %(message)s'))\n",
    "# logger.error('error message')  \n",
    "\n",
    "# logger.handlers[0].stream = sys.stdout\n",
    "\n",
    "# logger.error('Alex')"
   ]
  },
  {
   "cell_type": "code",
   "execution_count": 1,
   "id": "0a273f5d",
   "metadata": {},
   "outputs": [],
   "source": [
    "import logging, sys\n",
    "\n",
    "logger = logging.getLogger()  \n",
    "logger_handler = logging.StreamHandler()  \n",
    "logger.addHandler(logger_handler)\n",
    "logger_handler.setFormatter(logging.Formatter('[-%(name)s -%(funcName)s -%(levelname)s] %(message)s'))\n",
    "logger.handlers[0].stream = sys.stdout"
   ]
  },
  {
   "cell_type": "code",
   "execution_count": 2,
   "id": "5d4feecd",
   "metadata": {},
   "outputs": [],
   "source": [
    "logger.setLevel(logging.DEBUG)"
   ]
  },
  {
   "cell_type": "code",
   "execution_count": 3,
   "id": "5ee00e41",
   "metadata": {},
   "outputs": [
    {
     "name": "stdout",
     "output_type": "stream",
     "text": [
      "- root -<cell line: 1> - DEBUG Alex\n",
      "- root -<cell line: 2> - DEBUG Alex\n"
     ]
    }
   ],
   "source": [
    "logger.debug('Alex')\n",
    "logger.debug('Alex')"
   ]
  },
  {
   "cell_type": "code",
   "execution_count": 4,
   "id": "9258e954",
   "metadata": {},
   "outputs": [],
   "source": [
    "def ttt():\n",
    "    logger.debug('Alex')"
   ]
  },
  {
   "cell_type": "code",
   "execution_count": 5,
   "id": "3cd6454f",
   "metadata": {},
   "outputs": [
    {
     "name": "stdout",
     "output_type": "stream",
     "text": [
      "- root -ttt - DEBUG Alex\n"
     ]
    }
   ],
   "source": [
    "ttt()"
   ]
  },
  {
   "cell_type": "code",
   "execution_count": null,
   "id": "732e5abc",
   "metadata": {},
   "outputs": [],
   "source": []
  }
 ],
 "metadata": {
  "kernelspec": {
   "display_name": "Python 3 (ipykernel)",
   "language": "python",
   "name": "python3"
  },
  "language_info": {
   "codemirror_mode": {
    "name": "ipython",
    "version": 3
   },
   "file_extension": ".py",
   "mimetype": "text/x-python",
   "name": "python",
   "nbconvert_exporter": "python",
   "pygments_lexer": "ipython3",
   "version": "3.9.13"
  }
 },
 "nbformat": 4,
 "nbformat_minor": 5
}
