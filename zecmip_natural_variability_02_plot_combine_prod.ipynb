{
 "cells": [
  {
   "cell_type": "code",
   "execution_count": 1,
   "id": "fd2c7147-84e3-4477-a2db-2a68c364a3e3",
   "metadata": {},
   "outputs": [],
   "source": [
    "import os\n",
    "import sys\n",
    "from importlib import reload\n",
    "from typing import Union, List, Optional, Tuple\n",
    "\n",
    "import numpy as np\n",
    "import pandas as pd\n",
    "import xarray as xr\n",
    "import matplotlib.pyplot as plt\n",
    "import matplotlib.gridspec as gridspec\n",
    "\n",
    "sys.path.append(os.path.join(os.getcwd(), 'Documents', 'PhD'))\n",
    "import constants\n",
    "sys.path.append(constants.MODULE_DIR)\n",
    "\n",
    "import zecmip_plotting\n",
    "import utils\n",
    "logger = utils.get_notebook_logger()"
   ]
  },
  {
   "cell_type": "code",
   "execution_count": 2,
   "id": "288c05c1-b36f-4850-93d9-ee5f4c72040d",
   "metadata": {},
   "outputs": [],
   "source": [
    "import listXarray as lxr\n",
    "reload(lxr)\n",
    "from listXarray import listXarray"
   ]
  },
  {
   "cell_type": "code",
   "execution_count": 3,
   "id": "782d1a8c-3028-4bbb-a698-98c920c34407",
   "metadata": {},
   "outputs": [],
   "source": [
    "VARIABLE_CONTROL_MAP = {\n",
    "    'tas':{'xlabel': r'Temperature Anomaly ($^\\circ C$)', 'cmap':'RdBu_r', 'relative_difference':False},\n",
    "    'pr': {'xlabel': 'Precipitation Anomaly (mm/day)', 'cmap':'BrBG', 'relative_difference':False}}\n",
    "LABEl_MAP = VARIABLE_CONTROL_MAP"
   ]
  },
  {
   "cell_type": "code",
   "execution_count": 4,
   "id": "775862cf-c025-458c-8295-ce8f14bb1dc4",
   "metadata": {},
   "outputs": [],
   "source": [
    "ROOT_DIR = '/g/data/w40/ab2313/PhD/zecmip/xrlist'"
   ]
  },
  {
   "cell_type": "code",
   "execution_count": 5,
   "id": "19944cd8-d12e-4ec5-b4d7-953014d80c02",
   "metadata": {},
   "outputs": [
    {
     "data": {
      "text/plain": [
       "['tas_zec50_xrlist.csv',\n",
       " 'tas_zec50_xrlist',\n",
       " 'pr_esmpi_zec25_xrlist',\n",
       " 'pr_zec50_xrlist',\n",
       " 'pr_zec50_xrlist.csv',\n",
       " 'pr_zec25_xrlist.csv',\n",
       " 'tas_esmpi_zec25_xrlist',\n",
       " 'tas_zec25_xrlist',\n",
       " 'tas_zec25_xrlist.csv',\n",
       " '.ipynb_checkpoints',\n",
       " 'tas_esmpi_zec50_xrlist',\n",
       " 'pr_esmpi_zec50_xrlist',\n",
       " 'pr_zec25_xrlist']"
      ]
     },
     "execution_count": 5,
     "metadata": {},
     "output_type": "execute_result"
    }
   ],
   "source": [
    "os.listdir(ROOT_DIR)"
   ]
  },
  {
   "cell_type": "code",
   "execution_count": 8,
   "id": "661fc36b-3a7b-444f-9da7-98e2f88afc7a",
   "metadata": {},
   "outputs": [],
   "source": [
    "# Load temperature data from pi-Control\n",
    "tas_esmpi_zec25_xrlist = lxr.read_listxarray(os.path.join(ROOT_DIR, 'tas_esmpi_zec25_xrlist'), use_cftime=True)\n",
    "tas_esmpi_zec50_xrlist = lxr.read_listxarray(os.path.join(ROOT_DIR, 'tas_esmpi_zec50_xrlist'), use_cftime=True)"
   ]
  },
  {
   "cell_type": "code",
   "execution_count": 9,
   "id": "3da9679e-6c38-48e9-95da-8fdb3e11aa32",
   "metadata": {},
   "outputs": [
    {
     "ename": "EmptyDataError",
     "evalue": "No columns to parse from file",
     "output_type": "error",
     "traceback": [
      "\u001b[0;31m---------------------------------------------------------------------------\u001b[0m",
      "\u001b[0;31mEmptyDataError\u001b[0m                            Traceback (most recent call last)",
      "Cell \u001b[0;32mIn[9], line 2\u001b[0m\n\u001b[1;32m      1\u001b[0m \u001b[38;5;66;03m# The ZEC50 values form CSV\u001b[39;00m\n\u001b[0;32m----> 2\u001b[0m tas_zec50_df \u001b[38;5;241m=\u001b[39m \u001b[43mpd\u001b[49m\u001b[38;5;241;43m.\u001b[39;49m\u001b[43mread_csv\u001b[49m\u001b[43m(\u001b[49m\u001b[43mos\u001b[49m\u001b[38;5;241;43m.\u001b[39;49m\u001b[43mpath\u001b[49m\u001b[38;5;241;43m.\u001b[39;49m\u001b[43mjoin\u001b[49m\u001b[43m(\u001b[49m\u001b[43mROOT_DIR\u001b[49m\u001b[43m,\u001b[49m\u001b[43m \u001b[49m\u001b[38;5;124;43m'\u001b[39;49m\u001b[38;5;124;43mtas_zec50_xrlist.csv\u001b[39;49m\u001b[38;5;124;43m'\u001b[39;49m\u001b[43m)\u001b[49m\u001b[43m,\u001b[49m\u001b[43m \u001b[49m\u001b[43mindex_col\u001b[49m\u001b[38;5;241;43m=\u001b[39;49m\u001b[38;5;124;43m'\u001b[39;49m\u001b[38;5;124;43mmodel\u001b[39;49m\u001b[38;5;124;43m'\u001b[39;49m\u001b[43m)\u001b[49m\n\u001b[1;32m      3\u001b[0m tas_zec25_df \u001b[38;5;241m=\u001b[39m pd\u001b[38;5;241m.\u001b[39mread_csv(os\u001b[38;5;241m.\u001b[39mpath\u001b[38;5;241m.\u001b[39mjoin(ROOT_DIR,\u001b[38;5;124m'\u001b[39m\u001b[38;5;124mtas_zec25_xrlist.csv\u001b[39m\u001b[38;5;124m'\u001b[39m), index_col\u001b[38;5;241m=\u001b[39m\u001b[38;5;124m'\u001b[39m\u001b[38;5;124mmodel\u001b[39m\u001b[38;5;124m'\u001b[39m)\n",
      "File \u001b[0;32m/g/data/hh5/public/apps/miniconda3/envs/analysis3-23.04/lib/python3.9/site-packages/pandas/io/parsers/readers.py:912\u001b[0m, in \u001b[0;36mread_csv\u001b[0;34m(filepath_or_buffer, sep, delimiter, header, names, index_col, usecols, dtype, engine, converters, true_values, false_values, skipinitialspace, skiprows, skipfooter, nrows, na_values, keep_default_na, na_filter, verbose, skip_blank_lines, parse_dates, infer_datetime_format, keep_date_col, date_parser, date_format, dayfirst, cache_dates, iterator, chunksize, compression, thousands, decimal, lineterminator, quotechar, quoting, doublequote, escapechar, comment, encoding, encoding_errors, dialect, on_bad_lines, delim_whitespace, low_memory, memory_map, float_precision, storage_options, dtype_backend)\u001b[0m\n\u001b[1;32m    899\u001b[0m kwds_defaults \u001b[38;5;241m=\u001b[39m _refine_defaults_read(\n\u001b[1;32m    900\u001b[0m     dialect,\n\u001b[1;32m    901\u001b[0m     delimiter,\n\u001b[0;32m   (...)\u001b[0m\n\u001b[1;32m    908\u001b[0m     dtype_backend\u001b[38;5;241m=\u001b[39mdtype_backend,\n\u001b[1;32m    909\u001b[0m )\n\u001b[1;32m    910\u001b[0m kwds\u001b[38;5;241m.\u001b[39mupdate(kwds_defaults)\n\u001b[0;32m--> 912\u001b[0m \u001b[38;5;28;01mreturn\u001b[39;00m \u001b[43m_read\u001b[49m\u001b[43m(\u001b[49m\u001b[43mfilepath_or_buffer\u001b[49m\u001b[43m,\u001b[49m\u001b[43m \u001b[49m\u001b[43mkwds\u001b[49m\u001b[43m)\u001b[49m\n",
      "File \u001b[0;32m/g/data/hh5/public/apps/miniconda3/envs/analysis3-23.04/lib/python3.9/site-packages/pandas/io/parsers/readers.py:577\u001b[0m, in \u001b[0;36m_read\u001b[0;34m(filepath_or_buffer, kwds)\u001b[0m\n\u001b[1;32m    574\u001b[0m _validate_names(kwds\u001b[38;5;241m.\u001b[39mget(\u001b[38;5;124m\"\u001b[39m\u001b[38;5;124mnames\u001b[39m\u001b[38;5;124m\"\u001b[39m, \u001b[38;5;28;01mNone\u001b[39;00m))\n\u001b[1;32m    576\u001b[0m \u001b[38;5;66;03m# Create the parser.\u001b[39;00m\n\u001b[0;32m--> 577\u001b[0m parser \u001b[38;5;241m=\u001b[39m \u001b[43mTextFileReader\u001b[49m\u001b[43m(\u001b[49m\u001b[43mfilepath_or_buffer\u001b[49m\u001b[43m,\u001b[49m\u001b[43m \u001b[49m\u001b[38;5;241;43m*\u001b[39;49m\u001b[38;5;241;43m*\u001b[39;49m\u001b[43mkwds\u001b[49m\u001b[43m)\u001b[49m\n\u001b[1;32m    579\u001b[0m \u001b[38;5;28;01mif\u001b[39;00m chunksize \u001b[38;5;129;01mor\u001b[39;00m iterator:\n\u001b[1;32m    580\u001b[0m     \u001b[38;5;28;01mreturn\u001b[39;00m parser\n",
      "File \u001b[0;32m/g/data/hh5/public/apps/miniconda3/envs/analysis3-23.04/lib/python3.9/site-packages/pandas/io/parsers/readers.py:1407\u001b[0m, in \u001b[0;36mTextFileReader.__init__\u001b[0;34m(self, f, engine, **kwds)\u001b[0m\n\u001b[1;32m   1404\u001b[0m     \u001b[38;5;28mself\u001b[39m\u001b[38;5;241m.\u001b[39moptions[\u001b[38;5;124m\"\u001b[39m\u001b[38;5;124mhas_index_names\u001b[39m\u001b[38;5;124m\"\u001b[39m] \u001b[38;5;241m=\u001b[39m kwds[\u001b[38;5;124m\"\u001b[39m\u001b[38;5;124mhas_index_names\u001b[39m\u001b[38;5;124m\"\u001b[39m]\n\u001b[1;32m   1406\u001b[0m \u001b[38;5;28mself\u001b[39m\u001b[38;5;241m.\u001b[39mhandles: IOHandles \u001b[38;5;241m|\u001b[39m \u001b[38;5;28;01mNone\u001b[39;00m \u001b[38;5;241m=\u001b[39m \u001b[38;5;28;01mNone\u001b[39;00m\n\u001b[0;32m-> 1407\u001b[0m \u001b[38;5;28mself\u001b[39m\u001b[38;5;241m.\u001b[39m_engine \u001b[38;5;241m=\u001b[39m \u001b[38;5;28;43mself\u001b[39;49m\u001b[38;5;241;43m.\u001b[39;49m\u001b[43m_make_engine\u001b[49m\u001b[43m(\u001b[49m\u001b[43mf\u001b[49m\u001b[43m,\u001b[49m\u001b[43m \u001b[49m\u001b[38;5;28;43mself\u001b[39;49m\u001b[38;5;241;43m.\u001b[39;49m\u001b[43mengine\u001b[49m\u001b[43m)\u001b[49m\n",
      "File \u001b[0;32m/g/data/hh5/public/apps/miniconda3/envs/analysis3-23.04/lib/python3.9/site-packages/pandas/io/parsers/readers.py:1679\u001b[0m, in \u001b[0;36mTextFileReader._make_engine\u001b[0;34m(self, f, engine)\u001b[0m\n\u001b[1;32m   1676\u001b[0m     \u001b[38;5;28;01mraise\u001b[39;00m \u001b[38;5;167;01mValueError\u001b[39;00m(msg)\n\u001b[1;32m   1678\u001b[0m \u001b[38;5;28;01mtry\u001b[39;00m:\n\u001b[0;32m-> 1679\u001b[0m     \u001b[38;5;28;01mreturn\u001b[39;00m \u001b[43mmapping\u001b[49m\u001b[43m[\u001b[49m\u001b[43mengine\u001b[49m\u001b[43m]\u001b[49m\u001b[43m(\u001b[49m\u001b[43mf\u001b[49m\u001b[43m,\u001b[49m\u001b[43m \u001b[49m\u001b[38;5;241;43m*\u001b[39;49m\u001b[38;5;241;43m*\u001b[39;49m\u001b[38;5;28;43mself\u001b[39;49m\u001b[38;5;241;43m.\u001b[39;49m\u001b[43moptions\u001b[49m\u001b[43m)\u001b[49m\n\u001b[1;32m   1680\u001b[0m \u001b[38;5;28;01mexcept\u001b[39;00m \u001b[38;5;167;01mException\u001b[39;00m:\n\u001b[1;32m   1681\u001b[0m     \u001b[38;5;28;01mif\u001b[39;00m \u001b[38;5;28mself\u001b[39m\u001b[38;5;241m.\u001b[39mhandles \u001b[38;5;129;01mis\u001b[39;00m \u001b[38;5;129;01mnot\u001b[39;00m \u001b[38;5;28;01mNone\u001b[39;00m:\n",
      "File \u001b[0;32m/g/data/hh5/public/apps/miniconda3/envs/analysis3-23.04/lib/python3.9/site-packages/pandas/io/parsers/c_parser_wrapper.py:93\u001b[0m, in \u001b[0;36mCParserWrapper.__init__\u001b[0;34m(self, src, **kwds)\u001b[0m\n\u001b[1;32m     90\u001b[0m \u001b[38;5;28;01mif\u001b[39;00m kwds[\u001b[38;5;124m\"\u001b[39m\u001b[38;5;124mdtype_backend\u001b[39m\u001b[38;5;124m\"\u001b[39m] \u001b[38;5;241m==\u001b[39m \u001b[38;5;124m\"\u001b[39m\u001b[38;5;124mpyarrow\u001b[39m\u001b[38;5;124m\"\u001b[39m:\n\u001b[1;32m     91\u001b[0m     \u001b[38;5;66;03m# Fail here loudly instead of in cython after reading\u001b[39;00m\n\u001b[1;32m     92\u001b[0m     import_optional_dependency(\u001b[38;5;124m\"\u001b[39m\u001b[38;5;124mpyarrow\u001b[39m\u001b[38;5;124m\"\u001b[39m)\n\u001b[0;32m---> 93\u001b[0m \u001b[38;5;28mself\u001b[39m\u001b[38;5;241m.\u001b[39m_reader \u001b[38;5;241m=\u001b[39m \u001b[43mparsers\u001b[49m\u001b[38;5;241;43m.\u001b[39;49m\u001b[43mTextReader\u001b[49m\u001b[43m(\u001b[49m\u001b[43msrc\u001b[49m\u001b[43m,\u001b[49m\u001b[43m \u001b[49m\u001b[38;5;241;43m*\u001b[39;49m\u001b[38;5;241;43m*\u001b[39;49m\u001b[43mkwds\u001b[49m\u001b[43m)\u001b[49m\n\u001b[1;32m     95\u001b[0m \u001b[38;5;28mself\u001b[39m\u001b[38;5;241m.\u001b[39munnamed_cols \u001b[38;5;241m=\u001b[39m \u001b[38;5;28mself\u001b[39m\u001b[38;5;241m.\u001b[39m_reader\u001b[38;5;241m.\u001b[39munnamed_cols\n\u001b[1;32m     97\u001b[0m \u001b[38;5;66;03m# error: Cannot determine type of 'names'\u001b[39;00m\n",
      "File \u001b[0;32m/g/data/hh5/public/apps/miniconda3/envs/analysis3-23.04/lib/python3.9/site-packages/pandas/_libs/parsers.pyx:557\u001b[0m, in \u001b[0;36mpandas._libs.parsers.TextReader.__cinit__\u001b[0;34m()\u001b[0m\n",
      "\u001b[0;31mEmptyDataError\u001b[0m: No columns to parse from file"
     ]
    }
   ],
   "source": [
    "# The ZEC50 values form CSV\n",
    "tas_zec50_df = pd.read_csv(os.path.join(ROOT_DIR, 'tas_zec50_xrlist.csv'), index_col='model')\n",
    "tas_zec25_df = pd.read_csv(os.path.join(ROOT_DIR,'tas_zec25_xrlist.csv'), index_col='model')"
   ]
  },
  {
   "cell_type": "code",
   "execution_count": 10,
   "id": "fab236d7-62bf-431c-b3c5-a9f3456d429b",
   "metadata": {},
   "outputs": [],
   "source": [
    "# The ZEC50 precipitation values form CSV\n",
    "pr_zec50_df = pd.read_csv(os.path.join(ROOT_DIR,'pr_zec50_xrlist.csv'), index_col='model')\n",
    "pr_zec25_df = pd.read_csv(os.path.join(ROOT_DIR,'pr_zec25_xrlist.csv'), index_col='model')"
   ]
  },
  {
   "cell_type": "code",
   "execution_count": 11,
   "id": "5eaf9930-85ad-46ef-8e93-83a5260ec2cd",
   "metadata": {},
   "outputs": [],
   "source": [
    "# Load precipitation data from pi-Control\n",
    "pr_esmpi_zec25_xrlist = lxr.read_listxarray(os.path.join(ROOT_DIR, 'pr_esmpi_zec25_xrlist'), use_cftime=True)\n",
    "pr_esmpi_zec50_xrlist = lxr.read_listxarray(os.path.join(ROOT_DIR, 'pr_esmpi_zec50_xrlist'), use_cftime=True)"
   ]
  },
  {
   "cell_type": "code",
   "execution_count": 12,
   "id": "e430deef-bd01-4b63-966c-ae26cbe8b547",
   "metadata": {},
   "outputs": [],
   "source": [
    "# The bins and steps to use for each variabile\n",
    "bound_tas = 0.32; step_tas=0.01 #tas\n",
    "bins_tas = np.arange(-bound_tas, bound_tas+step_tas, step_tas)\n",
    "\n",
    "bound_pr = 0.051; step_pr=0.0008 # pr - mm/day 0.0005\n",
    "bins_pr = np.arange(-bound_pr, bound_pr+step_pr, step_pr)"
   ]
  },
  {
   "cell_type": "code",
   "execution_count": 13,
   "id": "b36fd857-c52a-41a4-af2d-cfbf450b6f75",
   "metadata": {},
   "outputs": [
    {
     "data": {
      "text/plain": [
       "(65, 129)"
      ]
     },
     "execution_count": 13,
     "metadata": {},
     "output_type": "execute_result"
    }
   ],
   "source": [
    "len(bins_tas), len(bins_pr)"
   ]
  },
  {
   "cell_type": "code",
   "execution_count": null,
   "id": "3d493bd4-98be-42bc-a5bd-62aa10f8e4a4",
   "metadata": {},
   "outputs": [],
   "source": [
    "repated_kwargs = dict(add_legend=False)"
   ]
  },
  {
   "cell_type": "code",
   "execution_count": null,
   "id": "26288667-1e33-4894-a880-4e31cee96081",
   "metadata": {},
   "outputs": [],
   "source": [
    "fig = plt.figure(figsize=(12, 12))\n",
    "gs = gridspec.GridSpec(len(tas_esmpi_zec25_xrlist), 2, hspace=0, wspace=0)\n",
    "axes_left = [fig.add_subplot(gs[i, 0]) for i in range(len(tas_esmpi_zec25_xrlist))]\n",
    "axes_right_all = np.array([fig.add_subplot(gs[i, 1]) for i in range(len(tas_esmpi_zec25_xrlist))])\n",
    "\n",
    "# There are less models for precipitation. So don't need all, but want the models to algin still\n",
    "axes_right = np.take(axes_right_all, [0, 1, 2, 4, 5, 6, 8])\n",
    "\n",
    "axes_right_unused = np.take(axes_right_all, [3, 7])\n",
    "\n",
    "variable = 'tas'\n",
    "\n",
    "fig, axes_left = zecmip_plotting.plot_histogram(tas_esmpi_zec25_xrlist.to_dataarray(data_var='tas'), zec_vals=tas_zec25_df, line_label= 'pi-Control ZEC$_{25}}$', \n",
    "                           bar_label=r'ZEC$_{25}}$', fig=fig, axes=axes_left, bins=bins_tas, step=step_tas,\n",
    "                           line_color='cornflowerblue', title_loc='', xlim=0.42, logginglevel='ERROR', **repated_kwargs)\n",
    "\n",
    "fig, axes_left = zecmip_plotting.plot_histogram(tas_esmpi_zec50_xrlist.to_dataarray(data_var='tas'), zec_vals=tas_zec50_df, title_loc='', line_label='ZEC$_{50}}$',\n",
    "                           xlabel=LABEl_MAP[variable]['xlabel'],  bar_label= r'pi-Control ZEC$_{50}}$', fig=fig, axes=axes_left,\n",
    "                           bar_color='purple', line_color='darkmagenta', xlim=0.42, bins=bins_tas, step=step_tas, logginglevel='ERROR', **repated_kwargs)\n",
    "\n",
    "\n",
    "variable = 'pr'\n",
    "\n",
    "fig, axes_right = zecmip_plotting.plot_histogram(pr_esmpi_zec25_xrlist.to_dataarray(data_var='pr'), zec_vals=pr_zec25_df,\n",
    "                                 fig=fig, axes=axes_right, bins=bins_pr, step=step_pr, ylabel_right=True, \n",
    "                                 line_label= 'pi-Control ZEC$_{25}}$', bar_label=r'ZEC$_{25}}$', \n",
    "                                 line_color='cornflowerblue', xlim=0.05, ylim=0.25,  title_loc='', logginglevel='ERROR', **repated_kwargs)\n",
    "\n",
    "fig, axes_right = zecmip_plotting.plot_histogram(pr_esmpi_zec50_xrlist.to_dataarray(data_var='pr'), zec_vals=pr_zec50_df,\n",
    "                                 fig=fig, axes=axes_right, bins=bins_pr, step=step_pr, ylabel_right=True,\n",
    "                                 title_loc='', line_label='ZEC$_{50}}$', xlabel=LABEl_MAP[variable]['xlabel'], \n",
    "                                 bar_label= r'pi-Control ZEC$_{50}}$',bar_color='purple', line_color='darkmagenta',\n",
    "                                 logginglevel='ERROR', xlim=0.05, ylim=0.25,  **repated_kwargs)\n",
    "\n",
    "[ax.yaxis.tick_right() for ax in axes_right]\n",
    "\n",
    "leg = axes_right[0].legend(ncol=4, bbox_to_anchor=[0.9, 1.4], fontsize=12)\n",
    "\n",
    "\n",
    "axes_left[0].set_title('Global Mean Surface Air Temperature', size=15)\n",
    "axes_right[0].set_title('Global Mean Precipitation', size=15)\n",
    "\n",
    "\n",
    "for ax in axes_right_unused:\n",
    "    ax.set_xticklabels(''); ax.set_yticks([]); ax.set_yticklabels('')"
   ]
  },
  {
   "cell_type": "code",
   "execution_count": 28,
   "id": "f0fa8bc1-2aaa-45be-b1f4-70ce83bcf822",
   "metadata": {},
   "outputs": [
    {
     "ename": "TypeError",
     "evalue": "plot_histogram() missing 2 required positional arguments: 'bins' and 'step'",
     "output_type": "error",
     "traceback": [
      "\u001b[0;31m---------------------------------------------------------------------------\u001b[0m",
      "\u001b[0;31mTypeError\u001b[0m                                 Traceback (most recent call last)",
      "Cell \u001b[0;32mIn[28], line 5\u001b[0m\n\u001b[1;32m      2\u001b[0m gs \u001b[38;5;241m=\u001b[39m gridspec\u001b[38;5;241m.\u001b[39mGridSpec(\u001b[38;5;28mlen\u001b[39m(tas_esmpi_zec25_xrlist), \u001b[38;5;241m1\u001b[39m, hspace\u001b[38;5;241m=\u001b[39m\u001b[38;5;241m0\u001b[39m)\n\u001b[1;32m      3\u001b[0m axes \u001b[38;5;241m=\u001b[39m [fig\u001b[38;5;241m.\u001b[39madd_subplot(gs[i]) \u001b[38;5;28;01mfor\u001b[39;00m i \u001b[38;5;129;01min\u001b[39;00m \u001b[38;5;28mrange\u001b[39m(\u001b[38;5;28mlen\u001b[39m(tas_esmpi_zec25_xrlist))]\n\u001b[0;32m----> 5\u001b[0m fig, axes \u001b[38;5;241m=\u001b[39m \u001b[43mplot_histogram\u001b[49m\u001b[43m(\u001b[49m\u001b[43mtas_esmpi_zec25_xrlist\u001b[49m\u001b[38;5;241;43m.\u001b[39;49m\u001b[43mto_dataarray\u001b[49m\u001b[43m(\u001b[49m\u001b[43mdata_var\u001b[49m\u001b[38;5;241;43m=\u001b[39;49m\u001b[38;5;124;43m'\u001b[39;49m\u001b[38;5;124;43mtas\u001b[39;49m\u001b[38;5;124;43m'\u001b[39;49m\u001b[43m)\u001b[49m\u001b[43m,\u001b[49m\u001b[43m \u001b[49m\u001b[43mzec_vals\u001b[49m\u001b[38;5;241;43m=\u001b[39;49m\u001b[43mtas_zec25_df\u001b[49m\u001b[43m,\u001b[49m\u001b[43m \u001b[49m\u001b[43mline_label\u001b[49m\u001b[38;5;241;43m=\u001b[39;49m\u001b[43m \u001b[49m\u001b[38;5;124;43m'\u001b[39;49m\u001b[38;5;124;43mpi-Control ZEC$_\u001b[39;49m\u001b[38;5;132;43;01m{25}\u001b[39;49;00m\u001b[38;5;124;43m}$\u001b[39;49m\u001b[38;5;124;43m'\u001b[39;49m\u001b[43m,\u001b[49m\u001b[43m \u001b[49m\n\u001b[1;32m      6\u001b[0m \u001b[43m                           \u001b[49m\u001b[43mbar_label\u001b[49m\u001b[38;5;241;43m=\u001b[39;49m\u001b[38;5;124;43mr\u001b[39;49m\u001b[38;5;124;43m'\u001b[39;49m\u001b[38;5;124;43mZEC$_\u001b[39;49m\u001b[38;5;132;43;01m{25}\u001b[39;49;00m\u001b[38;5;124;43m}$\u001b[39;49m\u001b[38;5;124;43m'\u001b[39;49m\u001b[43m,\u001b[49m\u001b[43m \u001b[49m\u001b[43mfig\u001b[49m\u001b[38;5;241;43m=\u001b[39;49m\u001b[43mfig\u001b[49m\u001b[43m,\u001b[49m\u001b[43m \u001b[49m\u001b[43maxes\u001b[49m\u001b[38;5;241;43m=\u001b[39;49m\u001b[43maxes\u001b[49m\u001b[43m,\u001b[49m\u001b[43m \u001b[49m\n\u001b[1;32m      7\u001b[0m \u001b[43m                           \u001b[49m\u001b[43mline_color\u001b[49m\u001b[38;5;241;43m=\u001b[39;49m\u001b[38;5;124;43m'\u001b[39;49m\u001b[38;5;124;43mcornflowerblue\u001b[39;49m\u001b[38;5;124;43m'\u001b[39;49m\u001b[43m,\u001b[49m\u001b[43m \u001b[49m\u001b[43mtitle_loc\u001b[49m\u001b[38;5;241;43m=\u001b[39;49m\u001b[38;5;124;43m'\u001b[39;49m\u001b[38;5;124;43m'\u001b[39;49m\u001b[43m,\u001b[49m\u001b[43m \u001b[49m\u001b[43mlogginglevel\u001b[49m\u001b[38;5;241;43m=\u001b[39;49m\u001b[38;5;124;43m'\u001b[39;49m\u001b[38;5;124;43mINFO\u001b[39;49m\u001b[38;5;124;43m'\u001b[39;49m\u001b[43m,\u001b[49m\u001b[43m \u001b[49m\u001b[38;5;241;43m*\u001b[39;49m\u001b[38;5;241;43m*\u001b[39;49m\u001b[43mrepated_kwargs\u001b[49m\u001b[43m)\u001b[49m\n\u001b[1;32m      8\u001b[0m fig, axes \u001b[38;5;241m=\u001b[39m plot_histogram(tas_esmpi_zec50_xrlist\u001b[38;5;241m.\u001b[39mto_dataarray(data_var\u001b[38;5;241m=\u001b[39m\u001b[38;5;124m'\u001b[39m\u001b[38;5;124mtas\u001b[39m\u001b[38;5;124m'\u001b[39m), zec_vals\u001b[38;5;241m=\u001b[39mtas_zec50_df, title_loc\u001b[38;5;241m=\u001b[39m\u001b[38;5;124m'\u001b[39m\u001b[38;5;124m'\u001b[39m, line_label\u001b[38;5;241m=\u001b[39m\u001b[38;5;124m'\u001b[39m\u001b[38;5;124mZEC$_\u001b[39m\u001b[38;5;132;01m{50}\u001b[39;00m\u001b[38;5;124m}$\u001b[39m\u001b[38;5;124m'\u001b[39m,\n\u001b[1;32m      9\u001b[0m                            xlabel\u001b[38;5;241m=\u001b[39mLABEl_MAP[variable][\u001b[38;5;124m'\u001b[39m\u001b[38;5;124mxlabel\u001b[39m\u001b[38;5;124m'\u001b[39m],  bar_label\u001b[38;5;241m=\u001b[39m \u001b[38;5;124mr\u001b[39m\u001b[38;5;124m'\u001b[39m\u001b[38;5;124mpi-Control ZEC$_\u001b[39m\u001b[38;5;132;01m{50}\u001b[39;00m\u001b[38;5;124m}$\u001b[39m\u001b[38;5;124m'\u001b[39m, fig\u001b[38;5;241m=\u001b[39mfig, axes\u001b[38;5;241m=\u001b[39maxes,\n\u001b[1;32m     10\u001b[0m                            bar_color\u001b[38;5;241m=\u001b[39m\u001b[38;5;124m'\u001b[39m\u001b[38;5;124mpurple\u001b[39m\u001b[38;5;124m'\u001b[39m, line_color\u001b[38;5;241m=\u001b[39m\u001b[38;5;124m'\u001b[39m\u001b[38;5;124mdarkmagenta\u001b[39m\u001b[38;5;124m'\u001b[39m, logginglevel\u001b[38;5;241m=\u001b[39m\u001b[38;5;124m'\u001b[39m\u001b[38;5;124mERROR\u001b[39m\u001b[38;5;124m'\u001b[39m, \u001b[38;5;241m*\u001b[39m\u001b[38;5;241m*\u001b[39mrepated_kwargs)\n\u001b[1;32m     12\u001b[0m leg \u001b[38;5;241m=\u001b[39m axes[\u001b[38;5;241m0\u001b[39m]\u001b[38;5;241m.\u001b[39mlegend(ncol\u001b[38;5;241m=\u001b[39m\u001b[38;5;241m4\u001b[39m, bbox_to_anchor\u001b[38;5;241m=\u001b[39m[\u001b[38;5;241m0.9\u001b[39m, \u001b[38;5;241m1.4\u001b[39m], fontsize\u001b[38;5;241m=\u001b[39m\u001b[38;5;241m12\u001b[39m)\n",
      "\u001b[0;31mTypeError\u001b[0m: plot_histogram() missing 2 required positional arguments: 'bins' and 'step'"
     ]
    },
    {
     "data": {
      "image/png": "[encoded data removed]",
      "text/plain": [
       "<Figure size 1200x1200 with 9 Axes>"
      ]
     },
     "metadata": {},
     "output_type": "display_data"
    }
   ],
   "source": [
    "fig = plt.figure(figsize=(12, 12))\n",
    "gs = gridspec.GridSpec(len(tas_esmpi_zec25_xrlist), 1, hspace=0)\n",
    "axes = [fig.add_subplot(gs[i]) for i in range(len(tas_esmpi_zec25_xrlist))]\n",
    "\n",
    "fig, axes = plot_histogram(tas_esmpi_zec25_xrlist.to_dataarray(data_var='tas'), zec_vals=tas_zec25_df, line_label= 'pi-Control ZEC$_{25}}$', \n",
    "                           bar_label=r'ZEC$_{25}}$', fig=fig, axes=axes, \n",
    "                           line_color='cornflowerblue', title_loc='', logginglevel='INFO', **repated_kwargs)\n",
    "fig, axes = plot_histogram(tas_esmpi_zec50_xrlist.to_dataarray(data_var='tas'), zec_vals=tas_zec50_df, title_loc='', line_label='ZEC$_{50}}$',\n",
    "                           xlabel=LABEl_MAP[variable]['xlabel'],  bar_label= r'pi-Control ZEC$_{50}}$', fig=fig, axes=axes,\n",
    "                           bar_color='purple', line_color='darkmagenta', logginglevel='ERROR', **repated_kwargs)\n",
    "\n",
    "leg = axes[0].legend(ncol=4, bbox_to_anchor=[0.9, 1.4], fontsize=12)"
   ]
  },
  {
   "cell_type": "code",
   "execution_count": null,
   "id": "3d01f20d-9069-45e5-b5f4-dd48f48e1bd5",
   "metadata": {},
   "outputs": [],
   "source": []
  }
 ],
 "metadata": {
  "kernelspec": {
   "display_name": "Python 3 (ipykernel)",
   "language": "python",
   "name": "python3"
  },
  "language_info": {
   "codemirror_mode": {
    "name": "ipython",
    "version": 3
   },
   "file_extension": ".py",
   "mimetype": "text/x-python",
   "name": "python",
   "nbconvert_exporter": "python",
   "pygments_lexer": "ipython3",
   "version": "3.10.13"
  }
 },
 "nbformat": 4,
 "nbformat_minor": 5
}
