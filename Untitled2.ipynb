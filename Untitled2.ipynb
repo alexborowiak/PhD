{
 "cells": [
  {
   "cell_type": "code",
   "execution_count": 1,
   "metadata": {},
   "outputs": [],
   "source": [
    "import clef"
   ]
  },
  {
   "cell_type": "code",
   "execution_count": 2,
   "metadata": {},
   "outputs": [
    {
     "name": "stdout",
     "output_type": "stream",
     "text": [
      "Usage: clef [OPTIONS] COMMAND [ARGS]...\r\n",
      "\r\n",
      "Options:\r\n",
      "  --remote   returns only ESGF search results\r\n",
      "  --local    returns only local files matching arguments in local database\r\n",
      "  --missing  returns only missing files matching ESGF search\r\n",
      "  --request  send NCI request to download missing files matching ESGF search\r\n",
      "  --debug    Show debug info\r\n",
      "  --help     Show this message and exit.\r\n",
      "\r\n",
      "Commands:\r\n",
      "  cmip5  Search ESGF and local database for CMIP5 files Constraints can be...\r\n",
      "  cmip6  Search ESGF and local database for CMIP6 files Constraints can be...\r\n",
      "  ds     Search local database for non-ESGF datasets\r\n"
     ]
    }
   ],
   "source": [
    "! clef"
   ]
  },
  {
   "cell_type": "code",
   "execution_count": 14,
   "metadata": {},
   "outputs": [
    {
     "name": "stdout",
     "output_type": "stream",
     "text": [
      "ERROR: Failed to authenticate with NCI clef.nci.org.au database\r\n",
      "You need to be part of one of the CMIP groups: oi10, al33, rr3.\r\n",
      "If you are already please contact the NCI helpdesk\r\n"
     ]
    }
   ],
   "source": [
    "! clef cmip6"
   ]
  },
  {
   "cell_type": "code",
   "execution_count": 12,
   "metadata": {},
   "outputs": [
    {
     "name": "stdout",
     "output_type": "stream",
     "text": [
      "admin\n",
      "replicas\n"
     ]
    }
   ],
   "source": [
    "%%bash\n",
    "cd /g/data/oi10\n",
    "ls"
   ]
  },
  {
   "cell_type": "code",
   "execution_count": null,
   "metadata": {},
   "outputs": [],
   "source": []
  }
 ],
 "metadata": {
  "kernelspec": {
   "display_name": "Python 3",
   "language": "python",
   "name": "python3"
  },
  "language_info": {
   "codemirror_mode": {
    "name": "ipython",
    "version": 3
   },
   "file_extension": ".py",
   "mimetype": "text/x-python",
   "name": "python",
   "nbconvert_exporter": "python",
   "pygments_lexer": "ipython3",
   "version": "3.8.6"
  }
 },
 "nbformat": 4,
 "nbformat_minor": 4
}
