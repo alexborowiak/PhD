{
 "cells": [
  {
   "cell_type": "markdown",
   "id": "9d9c11ca",
   "metadata": {},
   "source": [
    "# Saving Loess Detrended Data\n",
    "Saving all data with loess detrend.\n",
    "\n",
    "<b> PHD-1 </b>\n",
    "* Switched read_and_merge_netcdfs from longrunmip_loaded function to open_ds - all opening files are now done within the one py file\n",
    "* longrunmip loader removed. Better just to load files in one by one\n",
    "* Moved from init to top level\n",
    "* Removed all extra code (see nb 23 in init for old code).\n"
   ]
  },
  {
   "cell_type": "code",
   "execution_count": 60,
   "id": "542a5b85",
   "metadata": {},
   "outputs": [],
   "source": [
    "import xarray as xr\n",
    "from importlib import reload\n",
    "import numpy as np\n",
    "import pandas as pd\n",
    "import os\n",
    "# from glob import glob\n",
    "from time import perf_counter\n",
    "import matplotlib.pyplot as plt\n",
    "import sys\n",
    "sys.path.append('modules')\n",
    "import constants\n",
    "import xarray_class_accessors as xca\n",
    "import open_ds\n",
    "# import signal_to_noise as sn\n",
    "import utils\n",
    "from classes import ExperimentTypes\n",
    "from warnings import filterwarnings\n",
    "filterwarnings('ignore')\n",
    "from itertools import chain\n",
    "from functools import partial\n",
    "from time import perf_counter\n",
    "from multiprocessing import Pool"
   ]
  },
  {
   "cell_type": "code",
   "execution_count": 113,
   "id": "f9dc0233",
   "metadata": {},
   "outputs": [
    {
     "data": {
      "text/plain": [
       "'/g/data/w40/ab2313/PhD/longrunmip/tas/regrid_retimestamped'"
      ]
     },
     "execution_count": 113,
     "metadata": {},
     "output_type": "execute_result"
    }
   ],
   "source": [
    "# Notes: Surf contains a T cell extra variable and also return divide by 0 error.\n",
    "variable = 'tas' # pr, tas\n",
    "\n",
    "ROOT_DIR = os.path.join(constants.LONGRUNMIP_DIR, variable,'regrid_retimestamped')\n",
    "ROOT_DIR"
   ]
  },
  {
   "cell_type": "code",
   "execution_count": 114,
   "id": "786ed319",
   "metadata": {},
   "outputs": [
    {
     "name": "stdout",
     "output_type": "stream",
     "text": [
      "lenght = 7\n",
      " 0. ccsm3\n",
      " 1. cesm104\n",
      " 2. cnrmcm61\n",
      " 3. hadcm3l\n",
      " 4. ipslcm5a\n",
      " 5. mpiesm11\n",
      " 6. mpiesm12\n"
     ]
    }
   ],
   "source": [
    "models_to_get = open_ds.get_models_longer_than_length()\n",
    "utils.pprint_list(models_to_get, num_start_items=7)"
   ]
  },
  {
   "cell_type": "code",
   "execution_count": 115,
   "id": "6201444b",
   "metadata": {},
   "outputs": [
    {
     "name": "stdout",
     "output_type": "stream",
     "text": [
      "lenght = 7\n",
      " 0. tas_mon_CCSM3_abrupt4x_2120_g025.nc\n",
      " 1. tas_mon_CESM104_abrupt4x_5900_g025.nc\n"
     ]
    }
   ],
   "source": [
    "files_to_open_abrupt4x = open_ds.get_file_names_from_from_directory(ROOT_DIR,\n",
    "                                                                    ExperimentTypes.ABRUPT4X, \n",
    "                                                                    models_to_get)\n",
    "utils.pprint_list(files_to_open_abrupt4x)"
   ]
  },
  {
   "cell_type": "code",
   "execution_count": 116,
   "id": "631bee02",
   "metadata": {},
   "outputs": [
    {
     "name": "stdout",
     "output_type": "stream",
     "text": [
      "lenght = 7\n",
      " 0. tas_mon_CCSM3_control_1530_g025.nc\n",
      " 1. tas_mon_CESM104_control_1000_g025.nc\n"
     ]
    }
   ],
   "source": [
    "files_to_open_control = open_ds.get_file_names_from_from_directory(ROOT_DIR,\n",
    "                                                                    ExperimentTypes.CONTROL, \n",
    "                                                                    models_to_get)\n",
    "utils.pprint_list(files_to_open_control)"
   ]
  },
  {
   "cell_type": "markdown",
   "id": "37d47c92",
   "metadata": {
    "heading_collapsed": true
   },
   "source": [
    "# Functions"
   ]
  },
  {
   "cell_type": "code",
   "execution_count": 52,
   "id": "13cf5537",
   "metadata": {
    "hidden": true
   },
   "outputs": [],
   "source": [
    "def get_lowess_metadata() -> dict[str, str]:\n",
    "    now = pd.Timestamp.now().strftime(format = '%Y/%m/%d')\n",
    "    history = {'history': f'Modified by Alex Borowiak on {now}','stats': 'loess detrended data'}\n",
    "    return history"
   ]
  },
  {
   "cell_type": "code",
   "execution_count": 67,
   "id": "d5a7003f",
   "metadata": {
    "hidden": true
   },
   "outputs": [],
   "source": [
    "def open_and_data_and_apply_loess_filter(fname, ROOT_DIR, OUTPUT_DIR):\n",
    "    print(f'{fname} -> {os.path.join(OUTPUT_DIR, fname)}\\n')\n",
    "    ds = xr.open_dataarray(os.path.join(ROOT_DIR, fname), use_cftime=True, chunks=chunks)\n",
    "    \n",
    "    ds_loess = ds.sn.loess_grid()\n",
    "    \n",
    "    ds_loess.attrs = {**ds_loess.attrs, **get_lowess_metadata()}\n",
    "    \n",
    "    ds_loess.to_netcdf(os.path.join(OUTPUT_DIR, fname))\n",
    "    print(f'{fname} completed') "
   ]
  },
  {
   "cell_type": "markdown",
   "id": "fe30129c",
   "metadata": {
    "heading_collapsed": true
   },
   "source": [
    "# Single Model Sample"
   ]
  },
  {
   "cell_type": "code",
   "execution_count": 7,
   "id": "e2a22b8f",
   "metadata": {
    "hidden": true
   },
   "outputs": [
    {
     "data": {
      "text/plain": [
       "'pr_mon_CCSM3_abrupt4x_2120_g025.nc'"
      ]
     },
     "execution_count": 7,
     "metadata": {},
     "output_type": "execute_result"
    }
   ],
   "source": [
    "fname = files_to_open_abrupt4x[0]\n",
    "fname"
   ]
  },
  {
   "cell_type": "code",
   "execution_count": 8,
   "id": "71530aa1",
   "metadata": {
    "hidden": true
   },
   "outputs": [],
   "source": [
    "REGRID_LAT = 72\n",
    "REGRID_LON = 144"
   ]
  },
  {
   "cell_type": "code",
   "execution_count": 9,
   "id": "61822270",
   "metadata": {
    "hidden": true
   },
   "outputs": [
    {
     "data": {
      "text/html": [
       "<div><svg style=\"position: absolute; width: 0; height: 0; overflow: hidden\">\n",
       "<defs>\n",
       "<symbol id=\"icon-database\" viewBox=\"0 0 32 32\">\n",
       "<path d=\"M16 0c-8.837 0-16 2.239-16 5v4c0 2.761 7.163 5 16 5s16-2.239 16-5v-4c0-2.761-7.163-5-16-5z\"></path>\n",
       "<path d=\"M16 17c-8.837 0-16-2.239-16-5v6c0 2.761 7.163 5 16 5s16-2.239 16-5v-6c0 2.761-7.163 5-16 5z\"></path>\n",
       "<path d=\"M16 26c-8.837 0-16-2.239-16-5v6c0 2.761 7.163 5 16 5s16-2.239 16-5v-6c0 2.761-7.163 5-16 5z\"></path>\n",
       "</symbol>\n",
       "<symbol id=\"icon-file-text2\" viewBox=\"0 0 32 32\">\n",
       "<path d=\"M28.681 7.159c-0.694-0.947-1.662-2.053-2.724-3.116s-2.169-2.030-3.116-2.724c-1.612-1.182-2.393-1.319-2.841-1.319h-15.5c-1.378 0-2.5 1.121-2.5 2.5v27c0 1.378 1.122 2.5 2.5 2.5h23c1.378 0 2.5-1.122 2.5-2.5v-19.5c0-0.448-0.137-1.23-1.319-2.841zM24.543 5.457c0.959 0.959 1.712 1.825 2.268 2.543h-4.811v-4.811c0.718 0.556 1.584 1.309 2.543 2.268zM28 29.5c0 0.271-0.229 0.5-0.5 0.5h-23c-0.271 0-0.5-0.229-0.5-0.5v-27c0-0.271 0.229-0.5 0.5-0.5 0 0 15.499-0 15.5 0v7c0 0.552 0.448 1 1 1h7v19.5z\"></path>\n",
       "<path d=\"M23 26h-14c-0.552 0-1-0.448-1-1s0.448-1 1-1h14c0.552 0 1 0.448 1 1s-0.448 1-1 1z\"></path>\n",
       "<path d=\"M23 22h-14c-0.552 0-1-0.448-1-1s0.448-1 1-1h14c0.552 0 1 0.448 1 1s-0.448 1-1 1z\"></path>\n",
       "<path d=\"M23 18h-14c-0.552 0-1-0.448-1-1s0.448-1 1-1h14c0.552 0 1 0.448 1 1s-0.448 1-1 1z\"></path>\n",
       "</symbol>\n",
       "</defs>\n",
       "</svg>\n",
       "<style>/* CSS stylesheet for displaying xarray objects in jupyterlab.\n",
       " *\n",
       " */\n",
       "\n",
       ":root {\n",
       "  --xr-font-color0: var(--jp-content-font-color0, rgba(0, 0, 0, 1));\n",
       "  --xr-font-color2: var(--jp-content-font-color2, rgba(0, 0, 0, 0.54));\n",
       "  --xr-font-color3: var(--jp-content-font-color3, rgba(0, 0, 0, 0.38));\n",
       "  --xr-border-color: var(--jp-border-color2, #e0e0e0);\n",
       "  --xr-disabled-color: var(--jp-layout-color3, #bdbdbd);\n",
       "  --xr-background-color: var(--jp-layout-color0, white);\n",
       "  --xr-background-color-row-even: var(--jp-layout-color1, white);\n",
       "  --xr-background-color-row-odd: var(--jp-layout-color2, #eeeeee);\n",
       "}\n",
       "\n",
       "html[theme=dark],\n",
       "body.vscode-dark {\n",
       "  --xr-font-color0: rgba(255, 255, 255, 1);\n",
       "  --xr-font-color2: rgba(255, 255, 255, 0.54);\n",
       "  --xr-font-color3: rgba(255, 255, 255, 0.38);\n",
       "  --xr-border-color: #1F1F1F;\n",
       "  --xr-disabled-color: #515151;\n",
       "  --xr-background-color: #111111;\n",
       "  --xr-background-color-row-even: #111111;\n",
       "  --xr-background-color-row-odd: #313131;\n",
       "}\n",
       "\n",
       ".xr-wrap {\n",
       "  display: block !important;\n",
       "  min-width: 300px;\n",
       "  max-width: 700px;\n",
       "}\n",
       "\n",
       ".xr-text-repr-fallback {\n",
       "  /* fallback to plain text repr when CSS is not injected (untrusted notebook) */\n",
       "  display: none;\n",
       "}\n",
       "\n",
       ".xr-header {\n",
       "  padding-top: 6px;\n",
       "  padding-bottom: 6px;\n",
       "  margin-bottom: 4px;\n",
       "  border-bottom: solid 1px var(--xr-border-color);\n",
       "}\n",
       "\n",
       ".xr-header > div,\n",
       ".xr-header > ul {\n",
       "  display: inline;\n",
       "  margin-top: 0;\n",
       "  margin-bottom: 0;\n",
       "}\n",
       "\n",
       ".xr-obj-type,\n",
       ".xr-array-name {\n",
       "  margin-left: 2px;\n",
       "  margin-right: 10px;\n",
       "}\n",
       "\n",
       ".xr-obj-type {\n",
       "  color: var(--xr-font-color2);\n",
       "}\n",
       "\n",
       ".xr-sections {\n",
       "  padding-left: 0 !important;\n",
       "  display: grid;\n",
       "  grid-template-columns: 150px auto auto 1fr 20px 20px;\n",
       "}\n",
       "\n",
       ".xr-section-item {\n",
       "  display: contents;\n",
       "}\n",
       "\n",
       ".xr-section-item input {\n",
       "  display: none;\n",
       "}\n",
       "\n",
       ".xr-section-item input + label {\n",
       "  color: var(--xr-disabled-color);\n",
       "}\n",
       "\n",
       ".xr-section-item input:enabled + label {\n",
       "  cursor: pointer;\n",
       "  color: var(--xr-font-color2);\n",
       "}\n",
       "\n",
       ".xr-section-item input:enabled + label:hover {\n",
       "  color: var(--xr-font-color0);\n",
       "}\n",
       "\n",
       ".xr-section-summary {\n",
       "  grid-column: 1;\n",
       "  color: var(--xr-font-color2);\n",
       "  font-weight: 500;\n",
       "}\n",
       "\n",
       ".xr-section-summary > span {\n",
       "  display: inline-block;\n",
       "  padding-left: 0.5em;\n",
       "}\n",
       "\n",
       ".xr-section-summary-in:disabled + label {\n",
       "  color: var(--xr-font-color2);\n",
       "}\n",
       "\n",
       ".xr-section-summary-in + label:before {\n",
       "  display: inline-block;\n",
       "  content: '►';\n",
       "  font-size: 11px;\n",
       "  width: 15px;\n",
       "  text-align: center;\n",
       "}\n",
       "\n",
       ".xr-section-summary-in:disabled + label:before {\n",
       "  color: var(--xr-disabled-color);\n",
       "}\n",
       "\n",
       ".xr-section-summary-in:checked + label:before {\n",
       "  content: '▼';\n",
       "}\n",
       "\n",
       ".xr-section-summary-in:checked + label > span {\n",
       "  display: none;\n",
       "}\n",
       "\n",
       ".xr-section-summary,\n",
       ".xr-section-inline-details {\n",
       "  padding-top: 4px;\n",
       "  padding-bottom: 4px;\n",
       "}\n",
       "\n",
       ".xr-section-inline-details {\n",
       "  grid-column: 2 / -1;\n",
       "}\n",
       "\n",
       ".xr-section-details {\n",
       "  display: none;\n",
       "  grid-column: 1 / -1;\n",
       "  margin-bottom: 5px;\n",
       "}\n",
       "\n",
       ".xr-section-summary-in:checked ~ .xr-section-details {\n",
       "  display: contents;\n",
       "}\n",
       "\n",
       ".xr-array-wrap {\n",
       "  grid-column: 1 / -1;\n",
       "  display: grid;\n",
       "  grid-template-columns: 20px auto;\n",
       "}\n",
       "\n",
       ".xr-array-wrap > label {\n",
       "  grid-column: 1;\n",
       "  vertical-align: top;\n",
       "}\n",
       "\n",
       ".xr-preview {\n",
       "  color: var(--xr-font-color3);\n",
       "}\n",
       "\n",
       ".xr-array-preview,\n",
       ".xr-array-data {\n",
       "  padding: 0 5px !important;\n",
       "  grid-column: 2;\n",
       "}\n",
       "\n",
       ".xr-array-data,\n",
       ".xr-array-in:checked ~ .xr-array-preview {\n",
       "  display: none;\n",
       "}\n",
       "\n",
       ".xr-array-in:checked ~ .xr-array-data,\n",
       ".xr-array-preview {\n",
       "  display: inline-block;\n",
       "}\n",
       "\n",
       ".xr-dim-list {\n",
       "  display: inline-block !important;\n",
       "  list-style: none;\n",
       "  padding: 0 !important;\n",
       "  margin: 0;\n",
       "}\n",
       "\n",
       ".xr-dim-list li {\n",
       "  display: inline-block;\n",
       "  padding: 0;\n",
       "  margin: 0;\n",
       "}\n",
       "\n",
       ".xr-dim-list:before {\n",
       "  content: '(';\n",
       "}\n",
       "\n",
       ".xr-dim-list:after {\n",
       "  content: ')';\n",
       "}\n",
       "\n",
       ".xr-dim-list li:not(:last-child):after {\n",
       "  content: ',';\n",
       "  padding-right: 5px;\n",
       "}\n",
       "\n",
       ".xr-has-index {\n",
       "  font-weight: bold;\n",
       "}\n",
       "\n",
       ".xr-var-list,\n",
       ".xr-var-item {\n",
       "  display: contents;\n",
       "}\n",
       "\n",
       ".xr-var-item > div,\n",
       ".xr-var-item label,\n",
       ".xr-var-item > .xr-var-name span {\n",
       "  background-color: var(--xr-background-color-row-even);\n",
       "  margin-bottom: 0;\n",
       "}\n",
       "\n",
       ".xr-var-item > .xr-var-name:hover span {\n",
       "  padding-right: 5px;\n",
       "}\n",
       "\n",
       ".xr-var-list > li:nth-child(odd) > div,\n",
       ".xr-var-list > li:nth-child(odd) > label,\n",
       ".xr-var-list > li:nth-child(odd) > .xr-var-name span {\n",
       "  background-color: var(--xr-background-color-row-odd);\n",
       "}\n",
       "\n",
       ".xr-var-name {\n",
       "  grid-column: 1;\n",
       "}\n",
       "\n",
       ".xr-var-dims {\n",
       "  grid-column: 2;\n",
       "}\n",
       "\n",
       ".xr-var-dtype {\n",
       "  grid-column: 3;\n",
       "  text-align: right;\n",
       "  color: var(--xr-font-color2);\n",
       "}\n",
       "\n",
       ".xr-var-preview {\n",
       "  grid-column: 4;\n",
       "}\n",
       "\n",
       ".xr-var-name,\n",
       ".xr-var-dims,\n",
       ".xr-var-dtype,\n",
       ".xr-preview,\n",
       ".xr-attrs dt {\n",
       "  white-space: nowrap;\n",
       "  overflow: hidden;\n",
       "  text-overflow: ellipsis;\n",
       "  padding-right: 10px;\n",
       "}\n",
       "\n",
       ".xr-var-name:hover,\n",
       ".xr-var-dims:hover,\n",
       ".xr-var-dtype:hover,\n",
       ".xr-attrs dt:hover {\n",
       "  overflow: visible;\n",
       "  width: auto;\n",
       "  z-index: 1;\n",
       "}\n",
       "\n",
       ".xr-var-attrs,\n",
       ".xr-var-data {\n",
       "  display: none;\n",
       "  background-color: var(--xr-background-color) !important;\n",
       "  padding-bottom: 5px !important;\n",
       "}\n",
       "\n",
       ".xr-var-attrs-in:checked ~ .xr-var-attrs,\n",
       ".xr-var-data-in:checked ~ .xr-var-data {\n",
       "  display: block;\n",
       "}\n",
       "\n",
       ".xr-var-data > table {\n",
       "  float: right;\n",
       "}\n",
       "\n",
       ".xr-var-name span,\n",
       ".xr-var-data,\n",
       ".xr-attrs {\n",
       "  padding-left: 25px !important;\n",
       "}\n",
       "\n",
       ".xr-attrs,\n",
       ".xr-var-attrs,\n",
       ".xr-var-data {\n",
       "  grid-column: 1 / -1;\n",
       "}\n",
       "\n",
       "dl.xr-attrs {\n",
       "  padding: 0;\n",
       "  margin: 0;\n",
       "  display: grid;\n",
       "  grid-template-columns: 125px auto;\n",
       "}\n",
       "\n",
       ".xr-attrs dt,\n",
       ".xr-attrs dd {\n",
       "  padding: 0;\n",
       "  margin: 0;\n",
       "  float: left;\n",
       "  padding-right: 10px;\n",
       "  width: auto;\n",
       "}\n",
       "\n",
       ".xr-attrs dt {\n",
       "  font-weight: normal;\n",
       "  grid-column: 1;\n",
       "}\n",
       "\n",
       ".xr-attrs dt:hover span {\n",
       "  display: inline-block;\n",
       "  background: var(--xr-background-color);\n",
       "  padding-right: 10px;\n",
       "}\n",
       "\n",
       ".xr-attrs dd {\n",
       "  grid-column: 2;\n",
       "  white-space: pre-wrap;\n",
       "  word-break: break-all;\n",
       "}\n",
       "\n",
       ".xr-icon-database,\n",
       ".xr-icon-file-text2 {\n",
       "  display: inline-block;\n",
       "  vertical-align: middle;\n",
       "  width: 1em;\n",
       "  height: 1.5em !important;\n",
       "  stroke-width: 0;\n",
       "  stroke: currentColor;\n",
       "  fill: currentColor;\n",
       "}\n",
       "</style><pre class='xr-text-repr-fallback'>&lt;xarray.DataArray &#x27;pr&#x27; (time: 2120, lat: 72, lon: 144)&gt;\n",
       "dask.array&lt;open_dataset-4f3c089d423134f74869e4d4ed5548f2pr, shape=(2120, 72, 144), dtype=float32, chunksize=(2120, 18, 36), chunktype=numpy.ndarray&gt;\n",
       "Coordinates:\n",
       "  * time     (time) object 0001-12-31 00:00:00 ... 2120-12-31 00:00:00\n",
       "  * lon      (lon) float32 1.25 3.75 6.25 8.75 11.25 ... 351.2 353.8 356.2 358.8\n",
       "  * lat      (lat) float32 -88.75 -86.25 -83.75 -81.25 ... 83.75 86.25 88.75</pre><div class='xr-wrap' style='display:none'><div class='xr-header'><div class='xr-obj-type'>xarray.DataArray</div><div class='xr-array-name'>'pr'</div><ul class='xr-dim-list'><li><span class='xr-has-index'>time</span>: 2120</li><li><span class='xr-has-index'>lat</span>: 72</li><li><span class='xr-has-index'>lon</span>: 144</li></ul></div><ul class='xr-sections'><li class='xr-section-item'><div class='xr-array-wrap'><input id='section-f65bc131-a268-4a80-a568-25384f71ea66' class='xr-array-in' type='checkbox' checked><label for='section-f65bc131-a268-4a80-a568-25384f71ea66' title='Show/hide data repr'><svg class='icon xr-icon-database'><use xlink:href='#icon-database'></use></svg></label><div class='xr-array-preview xr-preview'><span>dask.array&lt;chunksize=(2120, 18, 36), meta=np.ndarray&gt;</span></div><div class='xr-array-data'><table>\n",
       "    <tr>\n",
       "        <td>\n",
       "            <table>\n",
       "                <thead>\n",
       "                    <tr>\n",
       "                        <td> </td>\n",
       "                        <th> Array </th>\n",
       "                        <th> Chunk </th>\n",
       "                    </tr>\n",
       "                </thead>\n",
       "                <tbody>\n",
       "                    \n",
       "                    <tr>\n",
       "                        <th> Bytes </th>\n",
       "                        <td> 83.85 MiB </td>\n",
       "                        <td> 5.24 MiB </td>\n",
       "                    </tr>\n",
       "                    \n",
       "                    <tr>\n",
       "                        <th> Shape </th>\n",
       "                        <td> (2120, 72, 144) </td>\n",
       "                        <td> (2120, 18, 36) </td>\n",
       "                    </tr>\n",
       "                    <tr>\n",
       "                        <th> Count </th>\n",
       "                        <td> 17 Tasks </td>\n",
       "                        <td> 16 Chunks </td>\n",
       "                    </tr>\n",
       "                    <tr>\n",
       "                    <th> Type </th>\n",
       "                    <td> float32 </td>\n",
       "                    <td> numpy.ndarray </td>\n",
       "                    </tr>\n",
       "                </tbody>\n",
       "            </table>\n",
       "        </td>\n",
       "        <td>\n",
       "        <svg width=\"166\" height=\"152\" style=\"stroke:rgb(0,0,0);stroke-width:1\" >\n",
       "\n",
       "  <!-- Horizontal lines -->\n",
       "  <line x1=\"10\" y1=\"0\" x2=\"80\" y2=\"70\" style=\"stroke-width:2\" />\n",
       "  <line x1=\"10\" y1=\"8\" x2=\"80\" y2=\"78\" />\n",
       "  <line x1=\"10\" y1=\"16\" x2=\"80\" y2=\"86\" />\n",
       "  <line x1=\"10\" y1=\"24\" x2=\"80\" y2=\"94\" />\n",
       "  <line x1=\"10\" y1=\"32\" x2=\"80\" y2=\"102\" style=\"stroke-width:2\" />\n",
       "\n",
       "  <!-- Vertical lines -->\n",
       "  <line x1=\"10\" y1=\"0\" x2=\"10\" y2=\"32\" style=\"stroke-width:2\" />\n",
       "  <line x1=\"80\" y1=\"70\" x2=\"80\" y2=\"102\" style=\"stroke-width:2\" />\n",
       "\n",
       "  <!-- Colored Rectangle -->\n",
       "  <polygon points=\"10.0,0.0 80.58823529411765,70.58823529411765 80.58823529411765,102.7257062064323 10.0,32.13747091231466\" style=\"fill:#ECB172A0;stroke-width:0\"/>\n",
       "\n",
       "  <!-- Horizontal lines -->\n",
       "  <line x1=\"10\" y1=\"0\" x2=\"46\" y2=\"0\" style=\"stroke-width:2\" />\n",
       "  <line x1=\"80\" y1=\"70\" x2=\"116\" y2=\"70\" style=\"stroke-width:2\" />\n",
       "\n",
       "  <!-- Vertical lines -->\n",
       "  <line x1=\"10\" y1=\"0\" x2=\"80\" y2=\"70\" style=\"stroke-width:2\" />\n",
       "  <line x1=\"19\" y1=\"0\" x2=\"89\" y2=\"70\" />\n",
       "  <line x1=\"28\" y1=\"0\" x2=\"98\" y2=\"70\" />\n",
       "  <line x1=\"37\" y1=\"0\" x2=\"107\" y2=\"70\" />\n",
       "  <line x1=\"46\" y1=\"0\" x2=\"116\" y2=\"70\" style=\"stroke-width:2\" />\n",
       "\n",
       "  <!-- Colored Rectangle -->\n",
       "  <polygon points=\"10.0,0.0 46.35974256505998,0.0 116.94797785917763,70.58823529411765 80.58823529411765,70.58823529411765\" style=\"fill:#ECB172A0;stroke-width:0\"/>\n",
       "\n",
       "  <!-- Horizontal lines -->\n",
       "  <line x1=\"80\" y1=\"70\" x2=\"116\" y2=\"70\" style=\"stroke-width:2\" />\n",
       "  <line x1=\"80\" y1=\"78\" x2=\"116\" y2=\"78\" />\n",
       "  <line x1=\"80\" y1=\"86\" x2=\"116\" y2=\"86\" />\n",
       "  <line x1=\"80\" y1=\"94\" x2=\"116\" y2=\"94\" />\n",
       "  <line x1=\"80\" y1=\"102\" x2=\"116\" y2=\"102\" style=\"stroke-width:2\" />\n",
       "\n",
       "  <!-- Vertical lines -->\n",
       "  <line x1=\"80\" y1=\"70\" x2=\"80\" y2=\"102\" style=\"stroke-width:2\" />\n",
       "  <line x1=\"89\" y1=\"70\" x2=\"89\" y2=\"102\" />\n",
       "  <line x1=\"98\" y1=\"70\" x2=\"98\" y2=\"102\" />\n",
       "  <line x1=\"107\" y1=\"70\" x2=\"107\" y2=\"102\" />\n",
       "  <line x1=\"116\" y1=\"70\" x2=\"116\" y2=\"102\" style=\"stroke-width:2\" />\n",
       "\n",
       "  <!-- Colored Rectangle -->\n",
       "  <polygon points=\"80.58823529411765,70.58823529411765 116.94797785917763,70.58823529411765 116.94797785917763,102.7257062064323 80.58823529411765,102.7257062064323\" style=\"fill:#ECB172A0;stroke-width:0\"/>\n",
       "\n",
       "  <!-- Text -->\n",
       "  <text x=\"98.768107\" y=\"122.725706\" font-size=\"1.0rem\" font-weight=\"100\" text-anchor=\"middle\" >144</text>\n",
       "  <text x=\"136.947978\" y=\"86.656971\" font-size=\"1.0rem\" font-weight=\"100\" text-anchor=\"middle\" transform=\"rotate(0,136.947978,86.656971)\">72</text>\n",
       "  <text x=\"35.294118\" y=\"87.431589\" font-size=\"1.0rem\" font-weight=\"100\" text-anchor=\"middle\" transform=\"rotate(45,35.294118,87.431589)\">2120</text>\n",
       "</svg>\n",
       "        </td>\n",
       "    </tr>\n",
       "</table></div></div></li><li class='xr-section-item'><input id='section-c04808c1-9d3d-48bf-9e61-6a5f3182f742' class='xr-section-summary-in' type='checkbox'  checked><label for='section-c04808c1-9d3d-48bf-9e61-6a5f3182f742' class='xr-section-summary' >Coordinates: <span>(3)</span></label><div class='xr-section-inline-details'></div><div class='xr-section-details'><ul class='xr-var-list'><li class='xr-var-item'><div class='xr-var-name'><span class='xr-has-index'>time</span></div><div class='xr-var-dims'>(time)</div><div class='xr-var-dtype'>object</div><div class='xr-var-preview xr-preview'>0001-12-31 00:00:00 ... 2120-12-...</div><input id='attrs-1a21fec3-35b7-4427-bcfa-3b0b87cb2bf5' class='xr-var-attrs-in' type='checkbox' disabled><label for='attrs-1a21fec3-35b7-4427-bcfa-3b0b87cb2bf5' title='Show/Hide attributes'><svg class='icon xr-icon-file-text2'><use xlink:href='#icon-file-text2'></use></svg></label><input id='data-8e59dd43-e16c-4ef2-90fa-6f621df9a98f' class='xr-var-data-in' type='checkbox'><label for='data-8e59dd43-e16c-4ef2-90fa-6f621df9a98f' title='Show/Hide data repr'><svg class='icon xr-icon-database'><use xlink:href='#icon-database'></use></svg></label><div class='xr-var-attrs'><dl class='xr-attrs'></dl></div><div class='xr-var-data'><pre>array([cftime.DatetimeGregorian(1, 12, 31, 0, 0, 0, 0, has_year_zero=False),\n",
       "       cftime.DatetimeGregorian(2, 12, 31, 0, 0, 0, 0, has_year_zero=False),\n",
       "       cftime.DatetimeGregorian(3, 12, 31, 0, 0, 0, 0, has_year_zero=False),\n",
       "       ...,\n",
       "       cftime.DatetimeGregorian(2118, 12, 31, 0, 0, 0, 0, has_year_zero=False),\n",
       "       cftime.DatetimeGregorian(2119, 12, 31, 0, 0, 0, 0, has_year_zero=False),\n",
       "       cftime.DatetimeGregorian(2120, 12, 31, 0, 0, 0, 0, has_year_zero=False)],\n",
       "      dtype=object)</pre></div></li><li class='xr-var-item'><div class='xr-var-name'><span class='xr-has-index'>lon</span></div><div class='xr-var-dims'>(lon)</div><div class='xr-var-dtype'>float32</div><div class='xr-var-preview xr-preview'>1.25 3.75 6.25 ... 356.2 358.8</div><input id='attrs-328568e7-bf2f-403e-9f65-4c3430143552' class='xr-var-attrs-in' type='checkbox' ><label for='attrs-328568e7-bf2f-403e-9f65-4c3430143552' title='Show/Hide attributes'><svg class='icon xr-icon-file-text2'><use xlink:href='#icon-file-text2'></use></svg></label><input id='data-b9fb4507-fcc0-4acb-91a6-caca7ae2f3f6' class='xr-var-data-in' type='checkbox'><label for='data-b9fb4507-fcc0-4acb-91a6-caca7ae2f3f6' title='Show/Hide data repr'><svg class='icon xr-icon-database'><use xlink:href='#icon-database'></use></svg></label><div class='xr-var-attrs'><dl class='xr-attrs'><dt><span>standard_name :</span></dt><dd>longitude</dd><dt><span>long_name :</span></dt><dd>longitude</dd><dt><span>units :</span></dt><dd>degrees_east</dd><dt><span>axis :</span></dt><dd>X</dd></dl></div><div class='xr-var-data'><pre>array([  1.25,   3.75,   6.25,   8.75,  11.25,  13.75,  16.25,  18.75,  21.25,\n",
       "        23.75,  26.25,  28.75,  31.25,  33.75,  36.25,  38.75,  41.25,  43.75,\n",
       "        46.25,  48.75,  51.25,  53.75,  56.25,  58.75,  61.25,  63.75,  66.25,\n",
       "        68.75,  71.25,  73.75,  76.25,  78.75,  81.25,  83.75,  86.25,  88.75,\n",
       "        91.25,  93.75,  96.25,  98.75, 101.25, 103.75, 106.25, 108.75, 111.25,\n",
       "       113.75, 116.25, 118.75, 121.25, 123.75, 126.25, 128.75, 131.25, 133.75,\n",
       "       136.25, 138.75, 141.25, 143.75, 146.25, 148.75, 151.25, 153.75, 156.25,\n",
       "       158.75, 161.25, 163.75, 166.25, 168.75, 171.25, 173.75, 176.25, 178.75,\n",
       "       181.25, 183.75, 186.25, 188.75, 191.25, 193.75, 196.25, 198.75, 201.25,\n",
       "       203.75, 206.25, 208.75, 211.25, 213.75, 216.25, 218.75, 221.25, 223.75,\n",
       "       226.25, 228.75, 231.25, 233.75, 236.25, 238.75, 241.25, 243.75, 246.25,\n",
       "       248.75, 251.25, 253.75, 256.25, 258.75, 261.25, 263.75, 266.25, 268.75,\n",
       "       271.25, 273.75, 276.25, 278.75, 281.25, 283.75, 286.25, 288.75, 291.25,\n",
       "       293.75, 296.25, 298.75, 301.25, 303.75, 306.25, 308.75, 311.25, 313.75,\n",
       "       316.25, 318.75, 321.25, 323.75, 326.25, 328.75, 331.25, 333.75, 336.25,\n",
       "       338.75, 341.25, 343.75, 346.25, 348.75, 351.25, 353.75, 356.25, 358.75],\n",
       "      dtype=float32)</pre></div></li><li class='xr-var-item'><div class='xr-var-name'><span class='xr-has-index'>lat</span></div><div class='xr-var-dims'>(lat)</div><div class='xr-var-dtype'>float32</div><div class='xr-var-preview xr-preview'>-88.75 -86.25 ... 86.25 88.75</div><input id='attrs-a4ebfc17-245f-4122-a017-c3c75409c876' class='xr-var-attrs-in' type='checkbox' ><label for='attrs-a4ebfc17-245f-4122-a017-c3c75409c876' title='Show/Hide attributes'><svg class='icon xr-icon-file-text2'><use xlink:href='#icon-file-text2'></use></svg></label><input id='data-df6413a9-63ba-44dd-8163-e78614fe02bf' class='xr-var-data-in' type='checkbox'><label for='data-df6413a9-63ba-44dd-8163-e78614fe02bf' title='Show/Hide data repr'><svg class='icon xr-icon-database'><use xlink:href='#icon-database'></use></svg></label><div class='xr-var-attrs'><dl class='xr-attrs'><dt><span>standard_name :</span></dt><dd>latitude</dd><dt><span>long_name :</span></dt><dd>latitude</dd><dt><span>units :</span></dt><dd>degrees_north</dd><dt><span>axis :</span></dt><dd>Y</dd></dl></div><div class='xr-var-data'><pre>array([-88.75, -86.25, -83.75, -81.25, -78.75, -76.25, -73.75, -71.25, -68.75,\n",
       "       -66.25, -63.75, -61.25, -58.75, -56.25, -53.75, -51.25, -48.75, -46.25,\n",
       "       -43.75, -41.25, -38.75, -36.25, -33.75, -31.25, -28.75, -26.25, -23.75,\n",
       "       -21.25, -18.75, -16.25, -13.75, -11.25,  -8.75,  -6.25,  -3.75,  -1.25,\n",
       "         1.25,   3.75,   6.25,   8.75,  11.25,  13.75,  16.25,  18.75,  21.25,\n",
       "        23.75,  26.25,  28.75,  31.25,  33.75,  36.25,  38.75,  41.25,  43.75,\n",
       "        46.25,  48.75,  51.25,  53.75,  56.25,  58.75,  61.25,  63.75,  66.25,\n",
       "        68.75,  71.25,  73.75,  76.25,  78.75,  81.25,  83.75,  86.25,  88.75],\n",
       "      dtype=float32)</pre></div></li></ul></div></li><li class='xr-section-item'><input id='section-c1b8c82f-413b-4f9e-8e84-2c08c49464c4' class='xr-section-summary-in' type='checkbox' disabled ><label for='section-c1b8c82f-413b-4f9e-8e84-2c08c49464c4' class='xr-section-summary'  title='Expand/collapse section'>Attributes: <span>(0)</span></label><div class='xr-section-inline-details'></div><div class='xr-section-details'><dl class='xr-attrs'></dl></div></li></ul></div></div>"
      ],
      "text/plain": [
       "<xarray.DataArray 'pr' (time: 2120, lat: 72, lon: 144)>\n",
       "dask.array<open_dataset-4f3c089d423134f74869e4d4ed5548f2pr, shape=(2120, 72, 144), dtype=float32, chunksize=(2120, 18, 36), chunktype=numpy.ndarray>\n",
       "Coordinates:\n",
       "  * time     (time) object 0001-12-31 00:00:00 ... 2120-12-31 00:00:00\n",
       "  * lon      (lon) float32 1.25 3.75 6.25 8.75 11.25 ... 351.2 353.8 356.2 358.8\n",
       "  * lat      (lat) float32 -88.75 -86.25 -83.75 -81.25 ... 83.75 86.25 88.75"
      ]
     },
     "execution_count": 9,
     "metadata": {},
     "output_type": "execute_result"
    }
   ],
   "source": [
    "chunks = {'lat':72/4,'lon':144/4,'time':-1}\n",
    "ds = xr.open_dataarray(os.path.join(ROOT_DIR, fname), use_cftime=True, chunks=chunks)\n",
    "ds"
   ]
  },
  {
   "cell_type": "code",
   "execution_count": 28,
   "id": "17347664",
   "metadata": {
    "hidden": true
   },
   "outputs": [
    {
     "name": "stdout",
     "output_type": "stream",
     "text": [
      "CPU times: user 1.9 s, sys: 86 ms, total: 1.99 s\n",
      "Wall time: 2.01 s\n"
     ]
    }
   ],
   "source": [
    "%%time\n",
    "# Time taken for pr_mon_CCSM3_abrupt4x_2120_g025: 1h 9min 44s\n",
    "ds_loess = ds.sel(lat=slice(-20, -15), lon=slice(110, 115)).sn.loess_grid()"
   ]
  },
  {
   "cell_type": "code",
   "execution_count": 29,
   "id": "2784ebb5",
   "metadata": {
    "hidden": true
   },
   "outputs": [],
   "source": [
    "ds_loess.attrs = {**ds_loess.attrs, **get_lowess_metadata()}"
   ]
  },
  {
   "cell_type": "code",
   "execution_count": 40,
   "id": "96e1b2ef",
   "metadata": {
    "hidden": true
   },
   "outputs": [
    {
     "data": {
      "text/plain": [
       "<matplotlib.legend.Legend at 0x7f2d1c91ef10>"
      ]
     },
     "execution_count": 40,
     "metadata": {},
     "output_type": "execute_result"
    },
    {
     "data": {
      "image/png": "[encoded data removed]",
      "text/plain": [
       "<Figure size 720x432 with 2 Axes>"
      ]
     },
     "metadata": {
      "needs_background": "light"
     },
     "output_type": "display_data"
    }
   ],
   "source": [
    "fig, (ax1, ax2) = plt.subplots(2,1, figsize=(10,6))\n",
    "ds_loess.isel(lat=0, lon=0).plot(ax=ax1, label='lowess')\n",
    "ds.isel(lat=0, lon=0).plot(ax=ax1, label='raw')\n",
    "ax1.legend()\n",
    "\n",
    "ds_loess.isel(lat=0, lon=0, time=slice(0,200)).plot(ax=ax2,label='lowess')\n",
    "ds.isel(lat=0, lon=0, time=slice(0,200)).plot(ax=ax2, label='raw')\n",
    "ax2.legend()"
   ]
  },
  {
   "cell_type": "markdown",
   "id": "4c3e0a1d",
   "metadata": {},
   "source": [
    "# All Files"
   ]
  },
  {
   "cell_type": "code",
   "execution_count": 97,
   "id": "333fbc77",
   "metadata": {},
   "outputs": [],
   "source": [
    "chunks = {'lat':72/4,'lon':144/4,'time':-1}"
   ]
  },
  {
   "cell_type": "code",
   "execution_count": 98,
   "id": "7b14006f",
   "metadata": {},
   "outputs": [
    {
     "data": {
      "text/plain": [
       "'/g/data/w40/ab2313/PhD/longrunmip/sic/lowess'"
      ]
     },
     "execution_count": 98,
     "metadata": {},
     "output_type": "execute_result"
    }
   ],
   "source": [
    "OUTPUT_DIR = os.path.join(constants.LONGRUNMIP_DIR, variable, 'lowess')\n",
    "OUTPUT_DIR"
   ]
  },
  {
   "cell_type": "code",
   "execution_count": 99,
   "id": "c4dd3129",
   "metadata": {},
   "outputs": [],
   "source": [
    "try:\n",
    "    os.mkdir(OUTPUT_DIR)\n",
    "except FileExistsError as e:\n",
    "    pass"
   ]
  },
  {
   "cell_type": "code",
   "execution_count": 100,
   "id": "2f97ffe1",
   "metadata": {},
   "outputs": [
    {
     "data": {
      "text/plain": [
       "13"
      ]
     },
     "execution_count": 100,
     "metadata": {},
     "output_type": "execute_result"
    }
   ],
   "source": [
    "len(files_to_open_control+files_to_open_abrupt4x)"
   ]
  },
  {
   "cell_type": "code",
   "execution_count": 101,
   "id": "562a5a1c",
   "metadata": {},
   "outputs": [],
   "source": [
    "MAX_LENGTH = 1200"
   ]
  },
  {
   "cell_type": "code",
   "execution_count": 126,
   "id": "d7411d87",
   "metadata": {},
   "outputs": [
    {
     "data": {
      "text/plain": [
       "['tas_mon_CCSM3_control_1530_g025.nc',\n",
       " 'tas_mon_CESM104_control_1000_g025.nc',\n",
       " 'tas_mon_CNRMCM61_control_2000_g025.nc',\n",
       " 'tas_mon_HadCM3L_control_1000_g025.nc',\n",
       " 'tas_mon_IPSLCM5A_control_1000_g025.nc',\n",
       " 'tas_ann_MPIESM11_control_2000_g025.nc',\n",
       " 'tas_mon_MPIESM12_control_1237_g025.nc']"
      ]
     },
     "execution_count": 126,
     "metadata": {},
     "output_type": "execute_result"
    }
   ],
   "source": [
    "files_to_open_control"
   ]
  },
  {
   "cell_type": "code",
   "execution_count": 106,
   "id": "975012ef",
   "metadata": {},
   "outputs": [
    {
     "name": "stdout",
     "output_type": "stream",
     "text": [
      "1: sic_mon_CNRMCM61_control_2000_g025.ncdivision by zero\n",
      "2: sic_mon_HadCM3L_control_1000_g025.ncdivision by zero\n",
      "3: sic_mon_IPSLCM5A_control_1200_g025.ncdivision by zero\n",
      "4: sic_mon_MPIESM11_control_2000_g025.ncdivision by zero\n",
      "5: sic_mon_MPIESM12_control_1500_g025.ncdivision by zero\n",
      "6: sic_mon_CCSM3_abrupt4x_2120_g025.nc -> /g/data/w40/ab2313/PhD/longrunmip/sic/lowess/sic_mon_CCSM3_abrupt4x_2120_g025.nc (2278.8056756611913)\n",
      "7: sic_mon_CNRMCM61_abrupt4x_1850_g025.ncdivision by zero\n",
      "8: sic_mon_HadCM3L_abrupt4x_1000_g025.ncdivision by zero\n",
      "9: sic_mon_IPSLCM5A_abrupt4x_1000_g025.ncdivision by zero\n",
      "10: sic_mon_MPIESM11_abrupt4x_4520_g025.ncdivision by zero\n",
      "11: sic_mon_MPIESM12_abrupt4x_1000_g025.ncdivision by zero\n"
     ]
    }
   ],
   "source": [
    "failed_files = []\n",
    "for i,fname in enumerate(chain(files_to_open_control, files_to_open_abrupt4x)):\n",
    "    t1 = perf_counter()\n",
    "    print(f'{i+1}: {fname} ', end='')\n",
    "    try:\n",
    "        da = xr.open_dataset(os.path.join(ROOT_DIR, fname), use_cftime=True, chunks=chunks).to_array()\n",
    "        da = da.isel(time=slice(None, MAX_LENGTH))\n",
    "\n",
    "        da_loess = da.sn.loess_grid()\n",
    "\n",
    "        da_loess.attrs = {**ds_loess.attrs, **get_lowess_metadata()}\n",
    "\n",
    "        print(f' -> {os.path.join(OUTPUT_DIR, fname)}', end ='')\n",
    "        da_loess.to_netcdf(os.path.join(OUTPUT_DIR, fname))\n",
    "        t2 = perf_counter()\n",
    "        print(f' ({t2-t1})')\n",
    "    except ZeroDivisionError as e:\n",
    "        failed_files.append({fname: 'ZeroDivisionError'})\n",
    "        print(e)"
   ]
  },
  {
   "cell_type": "markdown",
   "id": "29a5d30e",
   "metadata": {},
   "source": [
    "# With MulitProcessing"
   ]
  },
  {
   "cell_type": "code",
   "execution_count": 109,
   "id": "6040fdb0",
   "metadata": {},
   "outputs": [],
   "source": [
    "from functools import partial\n",
    "from multiprocessing import Pool"
   ]
  },
  {
   "cell_type": "code",
   "execution_count": 123,
   "id": "466aa593",
   "metadata": {},
   "outputs": [],
   "source": [
    "import utils\n",
    "logger = utils.get_notebook_logger()"
   ]
  },
  {
   "cell_type": "code",
   "execution_count": null,
   "id": "7aa51125",
   "metadata": {},
   "outputs": [],
   "source": [
    "OUTPUT_DIR = os.path.join(OUTPUT_DIR, 'test_csm')\n",
    "\n",
    "try:\n",
    "    os.mkdir(OUTPUT_DIR)\n",
    "except FileExistsError as e:\n",
    "    pass"
   ]
  },
  {
   "cell_type": "code",
   "execution_count": 124,
   "id": "2c313228",
   "metadata": {},
   "outputs": [],
   "source": [
    "utils.change_logging_level('DEBUG')"
   ]
  },
  {
   "cell_type": "code",
   "execution_count": 112,
   "id": "590df6d5",
   "metadata": {},
   "outputs": [],
   "source": [
    "def open_and_data_and_apply_loess_filter(fname, ROOT_DIR, OUPTUT_DIR):\n",
    "    t1 = perf_counter()\n",
    "    logger.info(f'{i+1}: {fname} ', end='')\n",
    "    try:\n",
    "        da = xr.open_dataset(os.path.join(ROOT_DIR, fname), use_cftime=True, chunks=chunks).to_array()\n",
    "        da = da.isel(time=slice(None, MAX_LENGTH))\n",
    "\n",
    "        da_loess = da.sn.loess_grid()\n",
    "\n",
    "        da_loess.attrs = {**ds_loess.attrs, **get_lowess_metadata()}\n",
    "\n",
    "        logger.debug(f' -> {os.path.join(OUTPUT_DIR, fname)}', end ='')\n",
    "        da_loess.to_netcdf(os.path.join(OUTPUT_DIR, fname))\n",
    "        t2 = perf_counter()\n",
    "        logger.debug(f' ({t2-t1})')\n",
    "    except ZeroDivisionError as e:\n",
    "        failed_files.append({fname: 'ZeroDivisionError'})\n",
    "        logger.error(e)"
   ]
  },
  {
   "cell_type": "code",
   "execution_count": 110,
   "id": "fcc24f7f",
   "metadata": {},
   "outputs": [],
   "source": [
    "open_and_data_and_apply_loess_filter_partial = partial(open_and_data_and_apply_loess_filter,\n",
    "                                              ROOT_DIR=ROOT_DIR, OUTPUT_DIR=OUTPUT_DIR)"
   ]
  },
  {
   "cell_type": "code",
   "execution_count": 70,
   "id": "51b48da0",
   "metadata": {},
   "outputs": [],
   "source": [
    "%%time\n",
    "with Pool() as pool:\n",
    "    pool.map(open_and_data_and_apply_loess_filter_partial, \n",
    "             chain(files_to_open_control, files_to_open_abrupt4x))"
   ]
  }
 ],
 "metadata": {
  "celltoolbar": "Tags",
  "kernelspec": {
   "display_name": "Python 3 (ipykernel)",
   "language": "python",
   "name": "python3"
  },
  "language_info": {
   "codemirror_mode": {
    "name": "ipython",
    "version": 3
   },
   "file_extension": ".py",
   "mimetype": "text/x-python",
   "name": "python",
   "nbconvert_exporter": "python",
   "pygments_lexer": "ipython3",
   "version": "3.9.13"
  }
 },
 "nbformat": 4,
 "nbformat_minor": 5
}
