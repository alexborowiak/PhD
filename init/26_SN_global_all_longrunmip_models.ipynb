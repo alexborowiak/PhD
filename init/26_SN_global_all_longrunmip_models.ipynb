{
 "cells": [
  {
   "cell_type": "code",
   "execution_count": 6,
   "id": "fffeea11",
   "metadata": {},
   "outputs": [],
   "source": [
    "import xarray as xr\n",
    "import os\n",
    "import numpy as np\n",
    "import pandas as pd\n",
    "import matplotlib.pyplot \n",
    "import xarray_class_accessors as xca\n",
    "\n",
    "import warnings\n",
    "\n",
    "warnings.filterwarnings('ignore')"
   ]
  },
  {
   "cell_type": "code",
   "execution_count": 7,
   "id": "66c90bcf",
   "metadata": {},
   "outputs": [],
   "source": [
    "# The directory where all of the longrun mip data used in this notebook is stored.\n",
    "ROOT_DIR = '/g/data/w40/ab2313/longrunmip/regrid'"
   ]
  },
  {
   "cell_type": "code",
   "execution_count": 8,
   "id": "b0b9e208",
   "metadata": {},
   "outputs": [],
   "source": [
    "IMG_DIR = '../../images/PhD/init'"
   ]
  },
  {
   "cell_type": "markdown",
   "id": "6dd4af1c",
   "metadata": {},
   "source": [
    "# Functions"
   ]
  },
  {
   "cell_type": "code",
   "execution_count": 9,
   "id": "976dcaa5",
   "metadata": {
    "code_folding": []
   },
   "outputs": [],
   "source": [
    "def open_and_process_data(file):\n",
    "    # We don't want to run this for the conrol. These should be compared \n",
    "    # to the control. \n",
    "    \n",
    "    # Splittign the file name up\n",
    "    file_split= model_files[0].split('_')\n",
    "\n",
    "    # Monthly or annual\n",
    "    time_step = file_split[1]\n",
    "\n",
    "    # Abrupt 4x, abrupt 8x...\n",
    "    deck_type = file_split[3]\n",
    "\n",
    "\n",
    "    # Opening the file\n",
    "    print(f'Opening file {os.path.join(ROOT_DIR,file)}')\n",
    "    data = xr.open_dataset(os.path.join(ROOT_DIR,file), use_cftime=True).tas\n",
    "    print(data)\n",
    "\n",
    "    # If we have a monthly timestep - make sure years are full and resample.\n",
    "    if time_step == 'mon':\n",
    "\n",
    "        data = data.correct_data.apply_corrections()\n",
    "        data = data.resample(time='Y').mean()\n",
    "\n",
    "    print('-----------')\n",
    "        \n",
    "    return data"
   ]
  },
  {
   "cell_type": "code",
   "execution_count": 10,
   "id": "3579c494",
   "metadata": {},
   "outputs": [],
   "source": [
    "def print_progress(i, length):\n",
    "    stars = '*' * i\n",
    "    spaces = ' ' * (length - i)\n",
    "    print(f'[{stars}{spaces}]', end='\\r')"
   ]
  },
  {
   "cell_type": "markdown",
   "id": "99fe34d5",
   "metadata": {},
   "source": [
    "# Files"
   ]
  },
  {
   "cell_type": "code",
   "execution_count": 11,
   "id": "b203af63",
   "metadata": {},
   "outputs": [
    {
     "data": {
      "text/plain": [
       "['tas_ann_HadGEM2_control_239_g025.nc',\n",
       " 'tas_mon_HadCM3L_control_1000_g025.nc',\n",
       " 'tas_mon_GFDLCM3_control_5200_g025.nc',\n",
       " 'tas_mon_ECHAM5MPIOM_abrupt4x_1001_g025.nc',\n",
       " 'tas_mon_GFDLCM3_1pct2x_5000_g025.nc',\n",
       " 'tas_mon_CCSM3_control_1530_g025.nc',\n",
       " 'tas_mon_GISSE2R_control_5225_g025.nc',\n",
       " 'tas_mon_HadCM3L_abrupt2x_1000_g025.nc',\n",
       " 'tas_mon_ECEARTH_abrupt4x_150_g025.nc',\n",
       " 'tas_mon_MIROC32_1pct2x_2003_g025.nc',\n",
       " 'tas_mon_MPIESM12_abrupt2x_999_g025.nc',\n",
       " 'tas_ann_HadGEM2_abrupt4x_1299_g025.nc',\n",
       " 'tas_mon_HadCM3L_abrupt6x_1000_g025.nc',\n",
       " 'tas_ann_MPIESM11_control_2000_g025.nc',\n",
       " 'tas_ann_FAMOUS_abrupt2x_3000_g025.nc',\n",
       " 'tas_mon_ECEARTH_rcp85_1271_g025.nc',\n",
       " 'tas_mon_GISSE2R_abrupt4x_5001_g025.nc',\n",
       " 'tas_mon_CESM104_abrupt2x_2500_g025.nc',\n",
       " 'ECH.nc',\n",
       " 'tas_mon_IPSLCM5A_control_1000_g025.nc',\n",
       " 'tas_mon_ECHAM5MPIOM_control_100_g025.nc',\n",
       " 'tas_mon_GFDLESM2M_control_1340_g025.nc',\n",
       " 'tas_mon_ECEARTH_historical_156_g025.nc',\n",
       " 'tas_mon_MPIESM12_abrupt8x_999_g025.nc',\n",
       " 'tas_mon_MPIESM12_control_1237_g025.nc',\n",
       " 'tas_mon_CNRMCM61_abrupt2x_750_g025.nc',\n",
       " 'tas_mon_CCSM3_abrupt8x_1450_g025.nc',\n",
       " 'tas_mon_CCSM3_abrupt2x_3000_g025.nc',\n",
       " 'tas_mon_MPIESM12_abrupt4x_999_g025.nc',\n",
       " 'tas_ann_GFDLESM2M_control_150_g025.nc',\n",
       " 'tas_mon_CNRMCM61_abrupt4x_1850_g025.nc',\n",
       " 'tas_mon_GISSE2R_1pct4x_5001_g025.nc',\n",
       " 'tas_ann_FAMOUS_control_3000_g025.nc',\n",
       " 'tas_mon_CCSM3_abrupt4x_2120_g025.nc',\n",
       " 'tas_mon_MIROC32_abrupt4x_150_g025.nc',\n",
       " 'tas_mon_HadCM3L_abrupt8x_1000_g025.nc',\n",
       " 'tas_ann_MPIESM11_abrupt4x_4459_g025.nc',\n",
       " 'tas_mon_CESM104_control_1000_g025.nc',\n",
       " 'tas_mon_ECEARTH_control_508_g025.nc',\n",
       " 'tas_mon_MIROC32_1pct4x_2002_g025.nc',\n",
       " 'tas_mon_CESM104_abrupt4x_5900_g025.nc',\n",
       " 'tas_mon_MPIESM12_abrupt32x_103_g025.nc',\n",
       " 'tas_ann_GFDLCM3_control_150_g025.nc',\n",
       " 'tas_mon_CESM104_abrupt8x_5100_g025.nc',\n",
       " 'tas_ann_FAMOUS_abrupt4x_3000_g025.nc',\n",
       " 'tas_mon_HadCM3L_abrupt4x_1000_g025.nc',\n",
       " 'tas_mon_GFDLESM2M_1pct2x_4500_g025.nc',\n",
       " 'tas_mon_IPSLCM5A_abrupt4x_1000_g025.nc',\n",
       " 'tas_mon_MIROC32_control_680_g025.nc',\n",
       " 'tas_ann_ECHAM5MPIOM_1pct4x_6080_g025.nc',\n",
       " 'tas_ann_GFDLCM3_abrupt4x_150_g025.nc',\n",
       " 'tas_mon_MPIESM12_abrupt16x_999_g025.nc',\n",
       " 'tas_mon_ECHAM5MPIOM_1pct4x_6080_g025.nc',\n",
       " 'tas_mon_CNRMCM61_control_2000_g025.nc',\n",
       " 'tas_ann_GFDLESM2M_abrupt4x_150_g025.nc']"
      ]
     },
     "execution_count": 11,
     "metadata": {},
     "output_type": "execute_result"
    }
   ],
   "source": [
    "# All the files\n",
    "files = os.listdir(ROOT_DIR)\n",
    "files"
   ]
  },
  {
   "cell_type": "code",
   "execution_count": 12,
   "id": "76f2d36d",
   "metadata": {},
   "outputs": [
    {
     "data": {
      "text/plain": [
       "55"
      ]
     },
     "execution_count": 12,
     "metadata": {},
     "output_type": "execute_result"
    }
   ],
   "source": [
    "len(files)"
   ]
  },
  {
   "cell_type": "markdown",
   "id": "ffe4e979",
   "metadata": {},
   "source": [
    "# Shortest Length\n",
    "Getting the shortest length so all the files are the same length"
   ]
  },
  {
   "cell_type": "code",
   "execution_count": 13,
   "id": "cc5ee84a",
   "metadata": {},
   "outputs": [
    {
     "name": "stdout",
     "output_type": "stream",
     "text": [
      "[***       ]\r"
     ]
    }
   ],
   "source": [
    "print_progress(3,10)"
   ]
  },
  {
   "cell_type": "code",
   "execution_count": 14,
   "id": "d47f7e5b",
   "metadata": {},
   "outputs": [
    {
     "data": {
      "text/plain": [
       "array([1.50000e+00, 2.50000e+00, 3.50000e+00, ..., 1.19015e+04,\n",
       "       1.19015e+04, 1.20005e+04])"
      ]
     },
     "execution_count": 14,
     "metadata": {},
     "output_type": "execute_result"
    }
   ],
   "source": [
    "a = xr.open_dataset(os.path.join(ROOT_DIR, 'tas_mon_HadCM3L_abrupt2x_1000_g025.nc')).month.values\n",
    "a"
   ]
  },
  {
   "cell_type": "code",
   "execution_count": 15,
   "id": "73f0d40a",
   "metadata": {},
   "outputs": [
    {
     "name": "stdout",
     "output_type": "stream",
     "text": [
      "1.5 2.5 3.5 4.5 5.5\n"
     ]
    }
   ],
   "source": [
    "print(*a[:5])"
   ]
  },
  {
   "cell_type": "code",
   "execution_count": 16,
   "id": "7a0fcb7a",
   "metadata": {
    "scrolled": false
   },
   "outputs": [
    {
     "name": "stdout",
     "output_type": "stream",
     "text": [
      "tas_ann_HadGEM2_control_239_g025.nc: \n",
      "1860-06-01 00:00:00 1861-06-01 00:00:00 1862-06-01 00:00:00 1863-06-01 00:00:00 1864-06-01 00:00:00\n",
      "-----------\n",
      "tas_mon_HadCM3L_control_1000_g025.nc: \n",
      "FAILED\n",
      "-----------\n",
      "tas_mon_GFDLCM3_control_5200_g025.nc: \n",
      "0001-01-16 12:00:00 0001-02-15 00:00:00 0001-03-16 12:00:00 0001-04-16 00:00:00 0001-05-16 12:00:00\n",
      "-----------\n",
      "tas_mon_ECHAM5MPIOM_abrupt4x_1001_g025.nc: \n",
      "25000131.75 25000228.75 25000331.75 25000430.75 25000531.75\n",
      "-----------\n",
      "tas_mon_GFDLCM3_1pct2x_5000_g025.nc: \n",
      "0001-01-16 12:00:00 0001-02-15 00:00:00 0001-03-16 12:00:00 0001-04-16 00:00:00 0001-05-16 12:00:00\n",
      "-----------\n",
      "tas_mon_CCSM3_control_1530_g025.nc: \n",
      "0001-02-01 00:00:00 0001-03-01 00:00:00 0001-04-01 00:00:00 0001-05-01 00:00:00 0001-06-01 00:00:00\n",
      "-----------\n",
      "tas_mon_GISSE2R_control_5225_g025.nc: \n",
      "3981-01-16 12:00:00 3981-02-15 00:00:00 3981-03-16 12:00:00 3981-04-16 00:00:00 3981-05-16 12:00:00\n",
      "-----------\n",
      "tas_mon_HadCM3L_abrupt2x_1000_g025.nc: \n",
      "FAILED\n",
      "-----------\n",
      "tas_mon_ECEARTH_abrupt4x_150_g025.nc: \n",
      "18500115.0 18500215.0 18500315.0 18500415.0 18500515.0\n",
      "-----------\n",
      "tas_mon_MIROC32_1pct2x_2003_g025.nc: \n",
      "FAILED\n",
      "-----------\n",
      "tas_mon_MPIESM12_abrupt2x_999_g025.nc: \n",
      "1850-01-31 23:52:00 1850-02-28 23:52:00 1850-03-31 23:52:00 1850-04-30 23:52:00 1850-05-31 23:52:00\n",
      "-----------\n",
      "tas_ann_HadGEM2_abrupt4x_1299_g025.nc: \n",
      "1860-06-01 00:00:00 1861-06-01 00:00:00 1862-06-01 00:00:00 1863-06-01 00:00:00 1864-06-01 00:00:00\n",
      "-----------\n",
      "tas_mon_HadCM3L_abrupt6x_1000_g025.nc: \n",
      "FAILED\n",
      "-----------\n",
      "tas_ann_MPIESM11_control_2000_g025.nc: \n",
      "18500716.494444445 18510716.494444445 18520716.494444445 18530716.494444445 18540716.494444445\n",
      "-----------\n",
      "tas_ann_FAMOUS_abrupt2x_3000_g025.nc: \n",
      "5002-06-01 00:00:00 5003-06-01 00:00:00 5004-06-01 00:00:00 5005-06-01 00:00:00 5006-06-01 00:00:00\n",
      "-----------\n",
      "tas_mon_ECEARTH_rcp85_1271_g025.nc: \n",
      "20060115.0 20060215.0 20060315.0 20060415.0 20060515.0\n",
      "-----------\n",
      "tas_mon_GISSE2R_abrupt4x_5001_g025.nc: \n",
      "1850-01-16 12:00:00 1850-02-15 00:00:00 1850-03-16 12:00:00 1850-04-16 00:00:00 1850-05-16 12:00:00\n",
      "-----------\n",
      "tas_mon_CESM104_abrupt2x_2500_g025.nc: \n",
      "0420-02-01 00:00:00 0420-03-01 00:00:00 0420-04-01 00:00:00 0420-05-01 00:00:00 0420-06-01 00:00:00\n",
      "-----------\n",
      "ECH.nc: \n",
      "2500-12-31 18:00:00 2501-12-31 18:00:00 2502-12-31 18:00:00 2503-12-31 18:00:00 2504-12-31 18:00:00\n",
      "-----------\n",
      "tas_mon_IPSLCM5A_control_1000_g025.nc: \n",
      "1800-01-16 12:00:00 1800-02-15 00:00:00 1800-03-16 12:00:00 1800-04-16 00:00:00 1800-05-16 12:00:00\n",
      "-----------\n",
      "tas_mon_ECHAM5MPIOM_control_100_g025.nc: \n",
      "2400-01-31 18:00:00 2400-02-29 18:00:00 2400-03-31 18:00:00 2400-04-30 18:00:00 2400-05-31 18:00:00\n",
      "-----------\n",
      "tas_mon_GFDLESM2M_control_1340_g025.nc: \n",
      "0161-01-16 12:00:00 0161-02-15 00:00:00 0161-03-16 12:00:00 0161-04-16 00:00:00 0161-05-16 12:00:00\n",
      "-----------\n",
      "tas_mon_ECEARTH_historical_156_g025.nc: \n",
      "18500115.0 18500215.0 18500315.0 18500415.0 18500515.0\n",
      "-----------\n",
      "tas_mon_MPIESM12_abrupt8x_999_g025.nc: \n",
      "1850-01-31 23:52:00 1850-02-28 23:52:00 1850-03-31 23:52:00 1850-04-30 23:52:00 1850-05-31 23:52:00\n",
      "-----------\n",
      "tas_mon_MPIESM12_control_1237_g025.nc: \n",
      "1850-01-31 23:52:00 1850-02-28 23:52:00 1850-03-31 23:52:00 1850-04-30 23:52:00 1850-05-31 23:52:00\n",
      "-----------\n",
      "tas_mon_CNRMCM61_abrupt2x_750_g025.nc: \n",
      "1850-01-16 12:00:00 1850-02-15 00:00:00 1850-03-16 12:00:00 1850-04-16 00:00:00 1850-05-16 12:00:00\n",
      "-----------\n",
      "tas_mon_CCSM3_abrupt8x_1450_g025.nc: \n",
      "0001-02-01 00:00:00 0001-03-01 00:00:00 0001-04-01 00:00:00 0001-05-01 00:00:00 0001-06-01 00:00:00\n",
      "-----------\n",
      "tas_mon_CCSM3_abrupt2x_3000_g025.nc: \n",
      "0001-02-01 00:00:00 0001-03-01 00:00:00 0001-04-01 00:00:00 0001-05-01 00:00:00 0001-06-01 00:00:00\n",
      "-----------\n",
      "tas_mon_MPIESM12_abrupt4x_999_g025.nc: \n",
      "1850-01-31 23:52:00 1850-02-28 23:52:00 1850-03-31 23:52:00 1850-04-30 23:52:00 1850-05-31 23:52:00\n",
      "-----------\n",
      "tas_ann_GFDLESM2M_control_150_g025.nc: \n",
      "FAILED\n",
      "-----------\n",
      "tas_mon_CNRMCM61_abrupt4x_1850_g025.nc: \n",
      "1850-01-16 12:00:00 1850-02-15 00:00:00 1850-03-16 12:00:00 1850-04-16 00:00:00 1850-05-16 12:00:00\n",
      "-----------\n",
      "tas_mon_GISSE2R_1pct4x_5001_g025.nc: \n",
      "1850-01-16 12:00:00 1850-02-15 00:00:00 1850-03-16 12:00:00 1850-04-16 00:00:00 1850-05-16 12:00:00\n",
      "-----------\n",
      "tas_ann_FAMOUS_control_3000_g025.nc: \n",
      "5002-06-01 00:00:00 5003-06-01 00:00:00 5004-06-01 00:00:00 5005-06-01 00:00:00 5006-06-01 00:00:00\n",
      "-----------\n",
      "tas_mon_CCSM3_abrupt4x_2120_g025.nc: \n",
      "0001-02-01 00:00:00 0001-03-01 00:00:00 0001-04-01 00:00:00 0001-05-01 00:00:00 0001-06-01 00:00:00\n",
      "-----------\n",
      "tas_mon_MIROC32_abrupt4x_150_g025.nc: \n",
      "FAILED\n",
      "-----------\n",
      "tas_mon_HadCM3L_abrupt8x_1000_g025.nc: \n",
      "FAILED\n",
      "-----------\n",
      "tas_ann_MPIESM11_abrupt4x_4459_g025.nc: \n",
      "18500716.494444445 18510716.494444445 18520716.494444445 18530716.494444445 18540716.494444445\n",
      "-----------\n",
      "tas_mon_CESM104_control_1000_g025.nc: \n",
      "0420-02-01 00:00:00 0420-03-01 00:00:00 0420-04-01 00:00:00 0420-05-01 00:00:00 0420-06-01 00:00:00\n",
      "-----------\n",
      "tas_mon_ECEARTH_control_508_g025.nc: \n",
      "18500115.0 18500215.0 18500315.0 18500415.0 18500515.0\n",
      "-----------\n",
      "tas_mon_MIROC32_1pct4x_2002_g025.nc: \n",
      "FAILED\n",
      "-----------\n",
      "tas_mon_CESM104_abrupt4x_5900_g025.nc: \n",
      "0420-02-01 00:00:00 0420-03-01 00:00:00 0420-04-01 00:00:00 0420-05-01 00:00:00 0420-06-01 00:00:00\n",
      "-----------\n",
      "tas_mon_MPIESM12_abrupt32x_103_g025.nc: \n",
      "1850-01-31T23:52:00.000000000 1850-02-28T23:52:00.000000000 1850-03-31T23:52:00.000000000 1850-04-30T23:52:00.000000000 1850-05-31T23:52:00.000000000\n",
      "-----------\n",
      "tas_ann_GFDLCM3_control_150_g025.nc: \n",
      "FAILED\n",
      "-----------\n",
      "tas_mon_CESM104_abrupt8x_5100_g025.nc: \n",
      "0420-02-01 00:00:00 0420-03-01 00:00:00 0420-04-01 00:00:00 0420-05-01 00:00:00 0420-06-01 00:00:00\n",
      "-----------\n",
      "tas_ann_FAMOUS_abrupt4x_3000_g025.nc: \n",
      "5002-06-01 00:00:00 5003-06-01 00:00:00 5004-06-01 00:00:00 5005-06-01 00:00:00 5006-06-01 00:00:00\n",
      "-----------\n",
      "tas_mon_HadCM3L_abrupt4x_1000_g025.nc: \n",
      "FAILED\n",
      "-----------\n",
      "tas_mon_GFDLESM2M_1pct2x_4500_g025.nc: \n",
      "0001-01-16 12:00:00 0001-02-15 00:00:00 0001-03-16 12:00:00 0001-04-16 00:00:00 0001-05-16 12:00:00\n",
      "-----------\n",
      "tas_mon_IPSLCM5A_abrupt4x_1000_g025.nc: \n",
      "1850-01-16 12:00:00 1850-02-15 00:00:00 1850-03-16 12:00:00 1850-04-16 00:00:00 1850-05-16 12:00:00\n",
      "-----------\n",
      "tas_mon_MIROC32_control_680_g025.nc: \n",
      "FAILED\n",
      "-----------\n",
      "tas_ann_ECHAM5MPIOM_1pct4x_6080_g025.nc: \n",
      "2500-12-31 18:00:00 2501-12-31 18:00:00 2502-12-31 18:00:00 2503-12-31 18:00:00 2504-12-31 18:00:00\n",
      "-----------\n",
      "tas_ann_GFDLCM3_abrupt4x_150_g025.nc: \n",
      "FAILED\n",
      "-----------\n",
      "tas_mon_MPIESM12_abrupt16x_999_g025.nc: \n",
      "1850-01-31 23:52:00 1850-02-28 23:52:00 1850-03-31 23:52:00 1850-04-30 23:52:00 1850-05-31 23:52:00\n",
      "-----------\n",
      "tas_mon_ECHAM5MPIOM_1pct4x_6080_g025.nc: \n",
      "2500-01-31 18:00:00 2500-02-28 18:00:00 2500-03-31 18:00:00 2500-04-30 18:00:00 2500-05-31 18:00:00\n",
      "-----------\n",
      "tas_mon_CNRMCM61_control_2000_g025.nc: \n",
      "1850-01-16 12:00:00 1850-02-15 00:00:00 1850-03-16 12:00:00 1850-04-16 00:00:00 1850-05-16 12:00:00\n",
      "-----------\n",
      "tas_ann_GFDLESM2M_abrupt4x_150_g025.nc: \n",
      "FAILED\n",
      "-----------\n"
     ]
    }
   ],
   "source": [
    "timesteps = []\n",
    "\n",
    "for i,file in enumerate(files):\n",
    "    \n",
    "#     print_progress(i,len(files))\n",
    "    \n",
    "#     data = open_and_process_data(file)\n",
    "    print(f'{file}: ')\n",
    "    try:\n",
    "        data = xr.open_dataset(os.path.join(ROOT_DIR, file))\n",
    "        print(data.time.values[:5])\n",
    "    except:\n",
    "        print('FAILED')\n",
    "    \n",
    "    print('-----------')\n",
    "    \n",
    "    \n",
    "#     timesteps.append(f'{file}: {data.time.values[:5]}')\n",
    "#     print(f'{file}: {data.time.values[:5]}', end='')\n",
    "#     print(data.time.values[:5])\n",
    "    \n",
    "#     print(timesteps)\n",
    "    \n",
    "    data.close()\n",
    "    \n"
   ]
  },
  {
   "cell_type": "markdown",
   "id": "ddb8b7ed",
   "metadata": {},
   "source": [
    "# SN Plots"
   ]
  },
  {
   "cell_type": "code",
   "execution_count": 101,
   "id": "948d2d50",
   "metadata": {},
   "outputs": [
    {
     "data": {
      "text/plain": [
       "array(['CCSM3', 'CESM104', 'CNRMCM61', 'ECEARTH', 'ECHAM5MPIOM', 'FAMOUS',\n",
       "       'GFDLCM3', 'GFDLESM2M', 'GISSE2R', 'HadCM3L', 'IPSLCM5A',\n",
       "       'MIROC32', 'MPIESM11', 'MPIESM12'], dtype='<U11')"
      ]
     },
     "execution_count": 101,
     "metadata": {},
     "output_type": "execute_result"
    }
   ],
   "source": [
    "# The model is the second string when splitting by '_', then there should be \n",
    "# double ups so just need the unique entries.\n",
    "models = np.unique(np.array([file.split('_')[2] for file in files]))\n",
    "models"
   ]
  },
  {
   "cell_type": "code",
   "execution_count": 102,
   "id": "566e3842",
   "metadata": {},
   "outputs": [
    {
     "name": "stdout",
     "output_type": "stream",
     "text": [
      "14\n"
     ]
    }
   ],
   "source": [
    "print(len(models))"
   ]
  },
  {
   "cell_type": "code",
   "execution_count": 49,
   "id": "d8f82dc1",
   "metadata": {},
   "outputs": [
    {
     "data": {
      "text/plain": [
       "[['tas_mon_CCSM3_abrupt4x_2120_g025.nc'],\n",
       " ['tas_mon_CESM104_abrupt2x_2500_g025.nc',\n",
       "  'tas_mon_CESM104_control_1000_g025.nc'],\n",
       " ['tas_mon_CNRMCM61_abrupt4x_1850_g025.nc',\n",
       "  'tas_mon_CNRMCM61_control_2000_g025.nc'],\n",
       " ['tas_mon_ECEARTH_abrupt4x_150_g025.nc',\n",
       "  'tas_mon_ECEARTH_control_508_g025.nc'],\n",
       " ['tas_mon_ECHAM5MPIOM_control_100_g025.nc',\n",
       "  'tas_ann_ECHAM5MPIOM_1pct4x_6080_g025.nc'],\n",
       " ['tas_ann_FAMOUS_control_3000_g025.nc',\n",
       "  'tas_ann_FAMOUS_abrupt4x_3000_g025.nc'],\n",
       " ['tas_mon_GFDLCM3_1pct2x_5000_g025.nc'],\n",
       " ['tas_mon_GFDLESM2M_control_1340_g025.nc',\n",
       "  'tas_ann_GFDLESM2M_control_150_g025.nc'],\n",
       " ['tas_mon_HadCM3L_abrupt8x_1000_g025.nc'],\n",
       " ['tas_mon_IPSLCM5A_control_1000_g025.nc',\n",
       "  'tas_mon_IPSLCM5A_abrupt4x_1000_g025.nc'],\n",
       " ['tas_mon_MIROC32_1pct4x_2002_g025.nc',\n",
       "  'tas_mon_MIROC32_control_680_g025.nc'],\n",
       " ['tas_ann_MPIESM11_control_2000_g025.nc'],\n",
       " ['tas_mon_MPIESM12_abrupt2x_999_g025.nc',\n",
       "  'tas_mon_MPIESM12_control_1237_g025.nc',\n",
       "  'tas_mon_MPIESM12_abrupt4x_999_g025.nc',\n",
       "  'tas_mon_MPIESM12_abrupt32x_103_g025.nc',\n",
       "  'tas_mon_MPIESM12_abrupt16x_999_g025.nc']]"
      ]
     },
     "execution_count": 49,
     "metadata": {},
     "output_type": "execute_result"
    }
   ],
   "source": [
    "model_file_groups = []\n",
    "\n",
    "for model in models:\n",
    "    \n",
    "    # Finding all the different files for a particular model.\n",
    "    files_for_model = [file for file in files if model in file]\n",
    "    model_file_groups.append(files_for_model)\n",
    "       \n",
    "model_file_groups"
   ]
  },
  {
   "cell_type": "code",
   "execution_count": 51,
   "id": "27e85861",
   "metadata": {},
   "outputs": [
    {
     "data": {
      "text/plain": [
       "'tas_mon_MPIESM12_control_1237_g025.nc'"
      ]
     },
     "execution_count": 51,
     "metadata": {},
     "output_type": "execute_result"
    }
   ],
   "source": [
    "control_file = [file for file in model_files if 'control' in file][0]\n",
    "\n",
    "# Control\n",
    "# THe SN for the piControl is get the stable/unstable bounds for each gridcell. \n",
    "# This is to work out what can be considered natural variabilbity of the system.\n",
    "\n",
    "control = xr.open_dataset(os.path.join(ROOT_DIR,control_file), use_cftime=True).tas\n",
    "\n",
    "# Applying corrections.\n",
    "control = control.correct_data.apply_corrections()\n",
    "\n",
    "# Only want the yearly average. This needs to be done after corrections. \n",
    "control = control.resample(time='Y').mean()\n",
    "control "
   ]
  },
  {
   "cell_type": "code",
   "execution_count": 84,
   "id": "1d93d743",
   "metadata": {
    "code_folding": [
     0,
     48
    ]
   },
   "outputs": [],
   "source": [
    "def roll_period_length_test(conrol: xr.DataArray,\n",
    "                            data: xr.DataArray, \n",
    "                            smallest_period = 23,\n",
    "                            largest_period = 270,\n",
    "                            step_size = 8) -> xr.DataArray:\n",
    "    '''\n",
    "    This function is for testing the effect of the role period length on the signal \n",
    "    to nosie of the data.\n",
    "    Perameters:\n",
    "    ----------\n",
    "    control: xr.DataArray\n",
    "        An array consisting of the data for the piControl for the respective model.\n",
    "        This data should be the latitude weighted global mean temperature anomaly.\n",
    "        This is used for calculating the upper and lower boundds that define if the\n",
    "        S/N value are stable or increasing or decreasing trends.\n",
    "    data: xr.DataArray\n",
    "        This is the data that is to be tested. This should be the latitude weighted \n",
    "        global mean temperature anomalies.\n",
    "    smallest_period: int\n",
    "        The smallest perid to be test.\n",
    "    largest_period: int\n",
    "        The largest perid to be test.\n",
    "    step_size: int\n",
    "        The size of the step.\n",
    "        \n",
    "    Returns:\n",
    "    -------\n",
    "    unstable_da: xr.DataArray\n",
    "        Contains just the S/N for increasing (positive S/N) and decreasing (negative S/N)\n",
    "        trends.\n",
    "    '''\n",
    "    \n",
    "    assert isinstance(smallest_period, int), 'smallest_period must be int'\n",
    "    assert isinstance(largest_period , int), 'largest_period must be int'\n",
    "    assert isinstance(step_size, int), 'step_size must be int'\n",
    "    \n",
    "    \n",
    "    decreasing_array = []\n",
    "    increasing_array = []\n",
    "    stable_array = []\n",
    "    sn_array = []\n",
    "    \n",
    "    # Must use python range, not numpy, this doesn't work with the folling xarray for some \n",
    "    # reason. \n",
    "    roll_periods = range(smallest_period, largest_period,step_size,)\n",
    "    \n",
    "    print('Calculating S/N for roll periods ', end='')\n",
    "    \n",
    "    for roll_period in roll_periods:\n",
    "\n",
    "        print(f'{roll_period}, ', end='')\n",
    "\n",
    "        \n",
    "        #### Control\n",
    "        # Signal\n",
    "        control_signal = control.sn.signal_grad(roll_period = roll_period)\n",
    "\n",
    "        # Noise\n",
    "        control_loess = control.sn.loess_grid()\n",
    "        control_noise = control_loess.sn.noise_grad(roll_period = roll_period)\n",
    "\n",
    "        # Signal to Noise\n",
    "        control_an_sn = control_anom_smean_signal/control_anom_smean_noise\n",
    "        \n",
    "        # The upper and lower bounds of what is stable.\n",
    "        control_ubound = control_sn.reduce(xca.dask_percentile,dim='time', q=99)\n",
    "        control_lbound = control_sn.reduce(xca.dask_percentile,dim='time', q=1)\n",
    "\n",
    "        ###### Data\n",
    "        data_signal = data.sn.signal_grad(roll_period = roll_period)\n",
    "        data_loess = data.sn.loess_grid()\n",
    "        data_noise = data_loess.sn.noise_grad(roll_period = roll_period)\n",
    "        data_sn = data_signal/data_noise\n",
    "\n",
    "\n",
    "        # TEMP\n",
    "        # The global mean temperature anomalies that are stable\n",
    "        data_sn_stable = data.where(\n",
    "            np.logical_and(\n",
    "                                data_sn <= control_smean_ubound,\n",
    "                                data_sn >= control_smean_lbound \n",
    "                                    )\n",
    "                                          )\n",
    "        # Increasing temperature\n",
    "        data_sn_increasing = data_sn.where(\n",
    "                                data_sn >= control_smean_ubound \n",
    "                                    )\n",
    "        # Decreasing temperature.\n",
    "        data_sn_decreasing = data_sn.where(\n",
    "                                data_sn <= control_smean_lbound \n",
    "                                    )\n",
    "\n",
    "        increasing_array.append(data_sn_increasing)\n",
    "        decreasing_array.append(data_sn_decreasing)\n",
    "        stable_array.append(data__snstable)\n",
    "        sn_array.append(data_sn)\n",
    "\n",
    "        \n",
    "    # The increasing trends for each roll period\n",
    "    increasing_trend_ds = xr.concat(increasing_array, pd.Index(roll_periods, name = 'roll_period'))\n",
    "    \n",
    "    # The decreasing trends for each roll period\n",
    "    decreasing_trend_ds = xr.concat(decreasing_array, pd.Index(roll_periods, name = 'roll_period'))\n",
    "\n",
    "    # Just the points that are unstable\n",
    "    unstable_da = (\n",
    "                    xr.where(np.isfinite(increasing_trend_ds), 1, 0) \n",
    "                  + xr.where(np.isfinite(decreasing_trend_ds), -1, 0)\n",
    "                 )\n",
    "    \n",
    "    return unstable_da"
   ]
  },
  {
   "cell_type": "code",
   "execution_count": 96,
   "id": "d323a602",
   "metadata": {
    "code_folding": [
     0
    ]
   },
   "outputs": [],
   "source": [
    "def _open_and_process_control(control_file):\n",
    "    \n",
    "    # Control\n",
    "    # THe SN for the piControl is get the stable/unstable bounds for each gridcell. \n",
    "    # This is to work out what can be considered natural variabilbity of the system.\n",
    "\n",
    "    control = xr.open_dataset(os.path.join(ROOT_DIR,control_file), use_cftime=True).tas\n",
    "    \n",
    "    \n",
    "    if control_file.split('_') == 'mon':\n",
    "        # Applying corrections.\n",
    "        control = control.correct_data.apply_corrections()\n",
    "\n",
    "        # Only want the yearly average. This needs to be done after corrections. \n",
    "        control = control.resample(time='Y').mean()\n",
    "        \n",
    "    return control"
   ]
  },
  {
   "cell_type": "code",
   "execution_count": 98,
   "id": "4eec7086",
   "metadata": {},
   "outputs": [
    {
     "name": "stdout",
     "output_type": "stream",
     "text": [
      "piControl: tas_mon_MPIESM12_control_1237_g025.nc\n",
      "-----------\n",
      "Opening file /g/data/w40/ab2313/longrunmip/regrid/tas_mon_MPIESM12_abrupt2x_999_g025.nc\n",
      "Testing months in each year...\n",
      "Inital time length: 12000\n",
      "\n",
      "Data Correction complete - all years now have 12 months\n",
      "Final time length: 12000\n",
      "-----------\n",
      "Calculating S/N for roll periods 23, "
     ]
    },
    {
     "ename": "KeyboardInterrupt",
     "evalue": "",
     "output_type": "error",
     "traceback": [
      "\u001b[0;31m---------------------------------------------------------------------------\u001b[0m",
      "\u001b[0;31mKeyboardInterrupt\u001b[0m                         Traceback (most recent call last)",
      "\u001b[0;32m<ipython-input-98-73aae3d9096f>\u001b[0m in \u001b[0;36m<module>\u001b[0;34m\u001b[0m\n\u001b[1;32m     13\u001b[0m         \u001b[0mdata\u001b[0m \u001b[0;34m=\u001b[0m \u001b[0m_open_and_process_data\u001b[0m\u001b[0;34m(\u001b[0m\u001b[0mfile\u001b[0m\u001b[0;34m)\u001b[0m\u001b[0;34m\u001b[0m\u001b[0;34m\u001b[0m\u001b[0m\n\u001b[1;32m     14\u001b[0m \u001b[0;34m\u001b[0m\u001b[0m\n\u001b[0;32m---> 15\u001b[0;31m         \u001b[0munstable_da\u001b[0m \u001b[0;34m=\u001b[0m \u001b[0mroll_period_length_test\u001b[0m\u001b[0;34m(\u001b[0m\u001b[0mcontrol\u001b[0m\u001b[0;34m,\u001b[0m \u001b[0mdata\u001b[0m\u001b[0;34m)\u001b[0m\u001b[0;34m\u001b[0m\u001b[0;34m\u001b[0m\u001b[0m\n\u001b[0m\u001b[1;32m     16\u001b[0m \u001b[0;34m\u001b[0m\u001b[0m\n\u001b[1;32m     17\u001b[0m     \u001b[0mprint\u001b[0m\u001b[0;34m(\u001b[0m\u001b[0;34m'----------\\n----------'\u001b[0m\u001b[0;34m)\u001b[0m\u001b[0;34m\u001b[0m\u001b[0;34m\u001b[0m\u001b[0m\n",
      "\u001b[0;32m<ipython-input-84-cd5f41bacce7>\u001b[0m in \u001b[0;36mroll_period_length_test\u001b[0;34m(conrol, data, smallest_period, largest_period, step_size)\u001b[0m\n\u001b[1;32m     54\u001b[0m         \u001b[0;31m#### Control\u001b[0m\u001b[0;34m\u001b[0m\u001b[0;34m\u001b[0m\u001b[0;34m\u001b[0m\u001b[0m\n\u001b[1;32m     55\u001b[0m         \u001b[0;31m# Signal\u001b[0m\u001b[0;34m\u001b[0m\u001b[0;34m\u001b[0m\u001b[0;34m\u001b[0m\u001b[0m\n\u001b[0;32m---> 56\u001b[0;31m         \u001b[0mcontrol_signal\u001b[0m \u001b[0;34m=\u001b[0m \u001b[0mcontrol\u001b[0m\u001b[0;34m.\u001b[0m\u001b[0msn\u001b[0m\u001b[0;34m.\u001b[0m\u001b[0msignal_grad\u001b[0m\u001b[0;34m(\u001b[0m\u001b[0mroll_period\u001b[0m \u001b[0;34m=\u001b[0m \u001b[0mroll_period\u001b[0m\u001b[0;34m)\u001b[0m\u001b[0;34m\u001b[0m\u001b[0;34m\u001b[0m\u001b[0m\n\u001b[0m\u001b[1;32m     57\u001b[0m \u001b[0;34m\u001b[0m\u001b[0m\n\u001b[1;32m     58\u001b[0m         \u001b[0;31m# Noise\u001b[0m\u001b[0;34m\u001b[0m\u001b[0;34m\u001b[0m\u001b[0;34m\u001b[0m\u001b[0m\n",
      "\u001b[0;32m~/Documents/PhD/init/xarray_class_accessors.py\u001b[0m in \u001b[0;36msignal_grad\u001b[0;34m(self, roll_period, min_periods)\u001b[0m\n\u001b[1;32m    308\u001b[0m         \u001b[0;31m# Getting the graident at each point with the rolling function. Then multipolying\u001b[0m\u001b[0;34m\u001b[0m\u001b[0;34m\u001b[0m\u001b[0;34m\u001b[0m\u001b[0m\n\u001b[1;32m    309\u001b[0m         \u001b[0;31m# by the number of points to get the signal.\u001b[0m\u001b[0;34m\u001b[0m\u001b[0;34m\u001b[0m\u001b[0;34m\u001b[0m\u001b[0m\n\u001b[0;32m--> 310\u001b[0;31m         \u001b[0msignal\u001b[0m \u001b[0;34m=\u001b[0m \u001b[0mdata\u001b[0m\u001b[0;34m.\u001b[0m\u001b[0mrolling\u001b[0m\u001b[0;34m(\u001b[0m\u001b[0mtime\u001b[0m \u001b[0;34m=\u001b[0m \u001b[0mroll_period\u001b[0m\u001b[0;34m,\u001b[0m \u001b[0mmin_periods\u001b[0m \u001b[0;34m=\u001b[0m \u001b[0mmin_periods\u001b[0m\u001b[0;34m,\u001b[0m \u001b[0mcenter\u001b[0m \u001b[0;34m=\u001b[0m \u001b[0;32mTrue\u001b[0m\u001b[0;34m)\u001b[0m\u001b[0;31m\\\u001b[0m\u001b[0;34m\u001b[0m\u001b[0;34m\u001b[0m\u001b[0m\n\u001b[0m\u001b[1;32m    311\u001b[0m             \u001b[0;34m.\u001b[0m\u001b[0mreduce\u001b[0m\u001b[0;34m(\u001b[0m\u001b[0mself\u001b[0m\u001b[0;34m.\u001b[0m\u001b[0m_apply_along_helper\u001b[0m\u001b[0;34m,\u001b[0m \u001b[0mfunc1d\u001b[0m \u001b[0;34m=\u001b[0m \u001b[0mself\u001b[0m\u001b[0;34m.\u001b[0m\u001b[0m_grid_trend\u001b[0m\u001b[0;34m)\u001b[0m \u001b[0;34m*\u001b[0m \u001b[0mroll_period\u001b[0m\u001b[0;34m\u001b[0m\u001b[0;34m\u001b[0m\u001b[0m\n\u001b[1;32m    312\u001b[0m \u001b[0;34m\u001b[0m\u001b[0m\n",
      "\u001b[0;32m/g/data3/hh5/public/apps/miniconda3/envs/analysis3-21.04/lib/python3.8/site-packages/xarray/core/rolling.py\u001b[0m in \u001b[0;36mreduce\u001b[0;34m(self, func, keep_attrs, **kwargs)\u001b[0m\n\u001b[1;32m    442\u001b[0m         )\n\u001b[1;32m    443\u001b[0m \u001b[0;34m\u001b[0m\u001b[0m\n\u001b[0;32m--> 444\u001b[0;31m         result = windows.reduce(\n\u001b[0m\u001b[1;32m    445\u001b[0m             \u001b[0mfunc\u001b[0m\u001b[0;34m,\u001b[0m \u001b[0mdim\u001b[0m\u001b[0;34m=\u001b[0m\u001b[0mlist\u001b[0m\u001b[0;34m(\u001b[0m\u001b[0mrolling_dim\u001b[0m\u001b[0;34m.\u001b[0m\u001b[0mvalues\u001b[0m\u001b[0;34m(\u001b[0m\u001b[0;34m)\u001b[0m\u001b[0;34m)\u001b[0m\u001b[0;34m,\u001b[0m \u001b[0mkeep_attrs\u001b[0m\u001b[0;34m=\u001b[0m\u001b[0mkeep_attrs\u001b[0m\u001b[0;34m,\u001b[0m \u001b[0;34m**\u001b[0m\u001b[0mkwargs\u001b[0m\u001b[0;34m\u001b[0m\u001b[0;34m\u001b[0m\u001b[0m\n\u001b[1;32m    446\u001b[0m         )\n",
      "\u001b[0;32m/g/data3/hh5/public/apps/miniconda3/envs/analysis3-21.04/lib/python3.8/site-packages/xarray/core/dataarray.py\u001b[0m in \u001b[0;36mreduce\u001b[0;34m(self, func, dim, axis, keep_attrs, keepdims, **kwargs)\u001b[0m\n\u001b[1;32m   2630\u001b[0m         \"\"\"\n\u001b[1;32m   2631\u001b[0m \u001b[0;34m\u001b[0m\u001b[0m\n\u001b[0;32m-> 2632\u001b[0;31m         \u001b[0mvar\u001b[0m \u001b[0;34m=\u001b[0m \u001b[0mself\u001b[0m\u001b[0;34m.\u001b[0m\u001b[0mvariable\u001b[0m\u001b[0;34m.\u001b[0m\u001b[0mreduce\u001b[0m\u001b[0;34m(\u001b[0m\u001b[0mfunc\u001b[0m\u001b[0;34m,\u001b[0m \u001b[0mdim\u001b[0m\u001b[0;34m,\u001b[0m \u001b[0maxis\u001b[0m\u001b[0;34m,\u001b[0m \u001b[0mkeep_attrs\u001b[0m\u001b[0;34m,\u001b[0m \u001b[0mkeepdims\u001b[0m\u001b[0;34m,\u001b[0m \u001b[0;34m**\u001b[0m\u001b[0mkwargs\u001b[0m\u001b[0;34m)\u001b[0m\u001b[0;34m\u001b[0m\u001b[0;34m\u001b[0m\u001b[0m\n\u001b[0m\u001b[1;32m   2633\u001b[0m         \u001b[0;32mreturn\u001b[0m \u001b[0mself\u001b[0m\u001b[0;34m.\u001b[0m\u001b[0m_replace_maybe_drop_dims\u001b[0m\u001b[0;34m(\u001b[0m\u001b[0mvar\u001b[0m\u001b[0;34m)\u001b[0m\u001b[0;34m\u001b[0m\u001b[0;34m\u001b[0m\u001b[0m\n\u001b[1;32m   2634\u001b[0m \u001b[0;34m\u001b[0m\u001b[0m\n",
      "\u001b[0;32m/g/data3/hh5/public/apps/miniconda3/envs/analysis3-21.04/lib/python3.8/site-packages/xarray/core/variable.py\u001b[0m in \u001b[0;36mreduce\u001b[0;34m(self, func, dim, axis, keep_attrs, keepdims, **kwargs)\u001b[0m\n\u001b[1;32m   1721\u001b[0m             )\n\u001b[1;32m   1722\u001b[0m             \u001b[0;32mif\u001b[0m \u001b[0maxis\u001b[0m \u001b[0;32mis\u001b[0m \u001b[0;32mnot\u001b[0m \u001b[0;32mNone\u001b[0m\u001b[0;34m:\u001b[0m\u001b[0;34m\u001b[0m\u001b[0;34m\u001b[0m\u001b[0m\n\u001b[0;32m-> 1723\u001b[0;31m                 \u001b[0mdata\u001b[0m \u001b[0;34m=\u001b[0m \u001b[0mfunc\u001b[0m\u001b[0;34m(\u001b[0m\u001b[0mself\u001b[0m\u001b[0;34m.\u001b[0m\u001b[0mdata\u001b[0m\u001b[0;34m,\u001b[0m \u001b[0maxis\u001b[0m\u001b[0;34m=\u001b[0m\u001b[0maxis\u001b[0m\u001b[0;34m,\u001b[0m \u001b[0;34m**\u001b[0m\u001b[0mkwargs\u001b[0m\u001b[0;34m)\u001b[0m\u001b[0;34m\u001b[0m\u001b[0;34m\u001b[0m\u001b[0m\n\u001b[0m\u001b[1;32m   1724\u001b[0m             \u001b[0;32melse\u001b[0m\u001b[0;34m:\u001b[0m\u001b[0;34m\u001b[0m\u001b[0;34m\u001b[0m\u001b[0m\n\u001b[1;32m   1725\u001b[0m                 \u001b[0mdata\u001b[0m \u001b[0;34m=\u001b[0m \u001b[0mfunc\u001b[0m\u001b[0;34m(\u001b[0m\u001b[0mself\u001b[0m\u001b[0;34m.\u001b[0m\u001b[0mdata\u001b[0m\u001b[0;34m,\u001b[0m \u001b[0;34m**\u001b[0m\u001b[0mkwargs\u001b[0m\u001b[0;34m)\u001b[0m\u001b[0;34m\u001b[0m\u001b[0;34m\u001b[0m\u001b[0m\n",
      "\u001b[0;32m~/Documents/PhD/init/xarray_class_accessors.py\u001b[0m in \u001b[0;36m_apply_along_helper\u001b[0;34m(arr, axis, func1d)\u001b[0m\n\u001b[1;32m    273\u001b[0m \u001b[0;34m\u001b[0m\u001b[0m\n\u001b[1;32m    274\u001b[0m         \u001b[0;31m# func1ds, axis, arr\u001b[0m\u001b[0;34m\u001b[0m\u001b[0;34m\u001b[0m\u001b[0;34m\u001b[0m\u001b[0m\n\u001b[0;32m--> 275\u001b[0;31m         \u001b[0;32mreturn\u001b[0m \u001b[0mnp\u001b[0m\u001b[0;34m.\u001b[0m\u001b[0mapply_along_axis\u001b[0m\u001b[0;34m(\u001b[0m\u001b[0mfunc1d\u001b[0m\u001b[0;34m,\u001b[0m \u001b[0maxis\u001b[0m\u001b[0;34m[\u001b[0m\u001b[0;36m0\u001b[0m\u001b[0;34m]\u001b[0m\u001b[0;34m,\u001b[0m \u001b[0marr\u001b[0m\u001b[0;34m)\u001b[0m\u001b[0;34m\u001b[0m\u001b[0;34m\u001b[0m\u001b[0m\n\u001b[0m\u001b[1;32m    276\u001b[0m \u001b[0;34m\u001b[0m\u001b[0m\n\u001b[1;32m    277\u001b[0m \u001b[0;34m\u001b[0m\u001b[0m\n",
      "\u001b[0;32m<__array_function__ internals>\u001b[0m in \u001b[0;36mapply_along_axis\u001b[0;34m(*args, **kwargs)\u001b[0m\n",
      "\u001b[0;32m/g/data3/hh5/public/apps/miniconda3/envs/analysis3-21.04/lib/python3.8/site-packages/numpy/lib/shape_base.py\u001b[0m in \u001b[0;36mapply_along_axis\u001b[0;34m(func1d, axis, arr, *args, **kwargs)\u001b[0m\n\u001b[1;32m    400\u001b[0m     \u001b[0mbuff\u001b[0m\u001b[0;34m[\u001b[0m\u001b[0mind0\u001b[0m\u001b[0;34m]\u001b[0m \u001b[0;34m=\u001b[0m \u001b[0mres\u001b[0m\u001b[0;34m\u001b[0m\u001b[0;34m\u001b[0m\u001b[0m\n\u001b[1;32m    401\u001b[0m     \u001b[0;32mfor\u001b[0m \u001b[0mind\u001b[0m \u001b[0;32min\u001b[0m \u001b[0minds\u001b[0m\u001b[0;34m:\u001b[0m\u001b[0;34m\u001b[0m\u001b[0;34m\u001b[0m\u001b[0m\n\u001b[0;32m--> 402\u001b[0;31m         \u001b[0mbuff\u001b[0m\u001b[0;34m[\u001b[0m\u001b[0mind\u001b[0m\u001b[0;34m]\u001b[0m \u001b[0;34m=\u001b[0m \u001b[0masanyarray\u001b[0m\u001b[0;34m(\u001b[0m\u001b[0mfunc1d\u001b[0m\u001b[0;34m(\u001b[0m\u001b[0minarr_view\u001b[0m\u001b[0;34m[\u001b[0m\u001b[0mind\u001b[0m\u001b[0;34m]\u001b[0m\u001b[0;34m,\u001b[0m \u001b[0;34m*\u001b[0m\u001b[0margs\u001b[0m\u001b[0;34m,\u001b[0m \u001b[0;34m**\u001b[0m\u001b[0mkwargs\u001b[0m\u001b[0;34m)\u001b[0m\u001b[0;34m)\u001b[0m\u001b[0;34m\u001b[0m\u001b[0;34m\u001b[0m\u001b[0m\n\u001b[0m\u001b[1;32m    403\u001b[0m \u001b[0;34m\u001b[0m\u001b[0m\n\u001b[1;32m    404\u001b[0m     \u001b[0;32mif\u001b[0m \u001b[0;32mnot\u001b[0m \u001b[0misinstance\u001b[0m\u001b[0;34m(\u001b[0m\u001b[0mres\u001b[0m\u001b[0;34m,\u001b[0m \u001b[0mmatrix\u001b[0m\u001b[0;34m)\u001b[0m\u001b[0;34m:\u001b[0m\u001b[0;34m\u001b[0m\u001b[0;34m\u001b[0m\u001b[0m\n",
      "\u001b[0;32m~/Documents/PhD/init/xarray_class_accessors.py\u001b[0m in \u001b[0;36m_grid_trend\u001b[0;34m(x, use)\u001b[0m\n\u001b[1;32m    253\u001b[0m             \u001b[0;32mreturn\u001b[0m \u001b[0mnp\u001b[0m\u001b[0;34m.\u001b[0m\u001b[0mnan\u001b[0m\u001b[0;34m\u001b[0m\u001b[0;34m\u001b[0m\u001b[0m\n\u001b[1;32m    254\u001b[0m \u001b[0;34m\u001b[0m\u001b[0m\n\u001b[0;32m--> 255\u001b[0;31m         \u001b[0mpoly\u001b[0m \u001b[0;34m=\u001b[0m \u001b[0mnp\u001b[0m\u001b[0;34m.\u001b[0m\u001b[0mpolyfit\u001b[0m\u001b[0;34m(\u001b[0m\u001b[0mt\u001b[0m\u001b[0;34m,\u001b[0m\u001b[0mx\u001b[0m\u001b[0;34m,\u001b[0m\u001b[0;36m1\u001b[0m\u001b[0;34m)\u001b[0m\u001b[0;34m\u001b[0m\u001b[0;34m\u001b[0m\u001b[0m\n\u001b[0m\u001b[1;32m    256\u001b[0m \u001b[0;34m\u001b[0m\u001b[0m\n\u001b[1;32m    257\u001b[0m         \u001b[0;32mreturn\u001b[0m \u001b[0mpoly\u001b[0m\u001b[0;34m[\u001b[0m\u001b[0muse\u001b[0m\u001b[0;34m]\u001b[0m\u001b[0;34m\u001b[0m\u001b[0;34m\u001b[0m\u001b[0m\n",
      "\u001b[0;32m<__array_function__ internals>\u001b[0m in \u001b[0;36mpolyfit\u001b[0;34m(*args, **kwargs)\u001b[0m\n",
      "\u001b[0;32m/g/data3/hh5/public/apps/miniconda3/envs/analysis3-21.04/lib/python3.8/site-packages/numpy/lib/polynomial.py\u001b[0m in \u001b[0;36mpolyfit\u001b[0;34m(x, y, deg, rcond, full, w, cov)\u001b[0m\n\u001b[1;32m    659\u001b[0m     \u001b[0mlhs\u001b[0m \u001b[0;34m/=\u001b[0m \u001b[0mscale\u001b[0m\u001b[0;34m\u001b[0m\u001b[0;34m\u001b[0m\u001b[0m\n\u001b[1;32m    660\u001b[0m     \u001b[0mc\u001b[0m\u001b[0;34m,\u001b[0m \u001b[0mresids\u001b[0m\u001b[0;34m,\u001b[0m \u001b[0mrank\u001b[0m\u001b[0;34m,\u001b[0m \u001b[0ms\u001b[0m \u001b[0;34m=\u001b[0m \u001b[0mlstsq\u001b[0m\u001b[0;34m(\u001b[0m\u001b[0mlhs\u001b[0m\u001b[0;34m,\u001b[0m \u001b[0mrhs\u001b[0m\u001b[0;34m,\u001b[0m \u001b[0mrcond\u001b[0m\u001b[0;34m)\u001b[0m\u001b[0;34m\u001b[0m\u001b[0;34m\u001b[0m\u001b[0m\n\u001b[0;32m--> 661\u001b[0;31m     \u001b[0mc\u001b[0m \u001b[0;34m=\u001b[0m \u001b[0;34m(\u001b[0m\u001b[0mc\u001b[0m\u001b[0;34m.\u001b[0m\u001b[0mT\u001b[0m\u001b[0;34m/\u001b[0m\u001b[0mscale\u001b[0m\u001b[0;34m)\u001b[0m\u001b[0;34m.\u001b[0m\u001b[0mT\u001b[0m  \u001b[0;31m# broadcast scale coefficients\u001b[0m\u001b[0;34m\u001b[0m\u001b[0;34m\u001b[0m\u001b[0m\n\u001b[0m\u001b[1;32m    662\u001b[0m \u001b[0;34m\u001b[0m\u001b[0m\n\u001b[1;32m    663\u001b[0m     \u001b[0;31m# warn on rank reduction, which indicates an ill conditioned matrix\u001b[0m\u001b[0;34m\u001b[0m\u001b[0;34m\u001b[0m\u001b[0;34m\u001b[0m\u001b[0m\n",
      "\u001b[0;31mKeyboardInterrupt\u001b[0m: "
     ]
    }
   ],
   "source": [
    "for model_files in model_file_groups[-1:]:\n",
    "    \n",
    "    # The file for the control data\n",
    "    control_file = [file for file in model_files if 'control' in file][0]\n",
    "    \n",
    "    print(f'piControl: {control_file}')\n",
    "    \n",
    "    control = _open_and_process_control(control_file)\n",
    "    \n",
    "    print('-----------')\n",
    "\n",
    "    for file in model_files:\n",
    "        \n",
    "        \n",
    "        if 'control' not in file:\n",
    "            data = _open_and_process_data(file)\n",
    "\n",
    "            unstable_da = roll_period_length_test(control, data)\n",
    "        else:\n",
    "            pass\n",
    "        \n",
    "    print('----------\\n----------')"
   ]
  },
  {
   "cell_type": "code",
   "execution_count": null,
   "id": "10065c68",
   "metadata": {},
   "outputs": [],
   "source": []
  }
 ],
 "metadata": {
  "kernelspec": {
   "display_name": "Python 3",
   "language": "python",
   "name": "python3"
  },
  "language_info": {
   "codemirror_mode": {
    "name": "ipython",
    "version": 3
   },
   "file_extension": ".py",
   "mimetype": "text/x-python",
   "name": "python",
   "nbconvert_exporter": "python",
   "pygments_lexer": "ipython3",
   "version": "3.8.10"
  }
 },
 "nbformat": 4,
 "nbformat_minor": 5
}
