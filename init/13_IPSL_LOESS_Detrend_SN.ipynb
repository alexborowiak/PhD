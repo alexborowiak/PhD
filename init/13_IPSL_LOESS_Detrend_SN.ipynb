{
 "cells": [
  {
   "cell_type": "code",
   "execution_count": 10,
   "metadata": {},
   "outputs": [],
   "source": [
    "import numpy as np\n",
    "import pandas as pd\n",
    "import xarray as xr\n",
    "import matplotlib.pyplot as plt\n",
    "import cartopy.crs as ccrs\n",
    "import matplotlib.gridspec as gridspec\n",
    "import os\n",
    "import sys\n",
    "import plotly.graph_objects as go\n",
    "\n",
    "from importlib import reload\n",
    "\n",
    "sys.path.append('')\n",
    "import deck_load\n",
    "\n",
    "import inspect\n",
    "\n",
    "import warnings\n",
    "warnings.filterwarnings(\"ignore\")\n",
    "import plot_type\n",
    "\n",
    "import signal_to_noise as sn"
   ]
  },
  {
   "cell_type": "code",
   "execution_count": 29,
   "metadata": {},
   "outputs": [],
   "source": [
    "import statsmodels.api as sm "
   ]
  },
  {
   "cell_type": "code",
   "execution_count": 30,
   "metadata": {},
   "outputs": [],
   "source": [
    "lowess = sm.nonparametric.lowess"
   ]
  },
  {
   "cell_type": "code",
   "execution_count": 3,
   "metadata": {},
   "outputs": [],
   "source": [
    "ipsl = deck_load.Deck('IPSL','IPSL-CM6A-LR','r1i1p1f1','ts')"
   ]
  },
  {
   "cell_type": "code",
   "execution_count": 4,
   "metadata": {},
   "outputs": [
    {
     "name": "stdout",
     "output_type": "stream",
     "text": [
      "Weighted Space mean of DECK data for IPSL IPSL-CM6A-LR \n",
      "**** ENS: r1i1p1f1 \n",
      "**** VAR: ts\n",
      "Time frame: 1850 - 3849\n"
     ]
    },
    {
     "data": {
      "text/plain": []
     },
     "execution_count": 4,
     "metadata": {},
     "output_type": "execute_result"
    }
   ],
   "source": [
    "# The anomalies based upon the 1850 to 1900 climatology,\n",
    "ipsl_anom = ipsl.anomalies()\n",
    "ipsl_anom"
   ]
  },
  {
   "cell_type": "code",
   "execution_count": 5,
   "metadata": {},
   "outputs": [
    {
     "data": {
      "text/html": [
       "<div><svg style=\"position: absolute; width: 0; height: 0; overflow: hidden\">\n",
       "<defs>\n",
       "<symbol id=\"icon-database\" viewBox=\"0 0 32 32\">\n",
       "<path d=\"M16 0c-8.837 0-16 2.239-16 5v4c0 2.761 7.163 5 16 5s16-2.239 16-5v-4c0-2.761-7.163-5-16-5z\"></path>\n",
       "<path d=\"M16 17c-8.837 0-16-2.239-16-5v6c0 2.761 7.163 5 16 5s16-2.239 16-5v-6c0 2.761-7.163 5-16 5z\"></path>\n",
       "<path d=\"M16 26c-8.837 0-16-2.239-16-5v6c0 2.761 7.163 5 16 5s16-2.239 16-5v-6c0 2.761-7.163 5-16 5z\"></path>\n",
       "</symbol>\n",
       "<symbol id=\"icon-file-text2\" viewBox=\"0 0 32 32\">\n",
       "<path d=\"M28.681 7.159c-0.694-0.947-1.662-2.053-2.724-3.116s-2.169-2.030-3.116-2.724c-1.612-1.182-2.393-1.319-2.841-1.319h-15.5c-1.378 0-2.5 1.121-2.5 2.5v27c0 1.378 1.122 2.5 2.5 2.5h23c1.378 0 2.5-1.122 2.5-2.5v-19.5c0-0.448-0.137-1.23-1.319-2.841zM24.543 5.457c0.959 0.959 1.712 1.825 2.268 2.543h-4.811v-4.811c0.718 0.556 1.584 1.309 2.543 2.268zM28 29.5c0 0.271-0.229 0.5-0.5 0.5h-23c-0.271 0-0.5-0.229-0.5-0.5v-27c0-0.271 0.229-0.5 0.5-0.5 0 0 15.499-0 15.5 0v7c0 0.552 0.448 1 1 1h7v19.5z\"></path>\n",
       "<path d=\"M23 26h-14c-0.552 0-1-0.448-1-1s0.448-1 1-1h14c0.552 0 1 0.448 1 1s-0.448 1-1 1z\"></path>\n",
       "<path d=\"M23 22h-14c-0.552 0-1-0.448-1-1s0.448-1 1-1h14c0.552 0 1 0.448 1 1s-0.448 1-1 1z\"></path>\n",
       "<path d=\"M23 18h-14c-0.552 0-1-0.448-1-1s0.448-1 1-1h14c0.552 0 1 0.448 1 1s-0.448 1-1 1z\"></path>\n",
       "</symbol>\n",
       "</defs>\n",
       "</svg>\n",
       "<style>/* CSS stylesheet for displaying xarray objects in jupyterlab.\n",
       " *\n",
       " */\n",
       "\n",
       ":root {\n",
       "  --xr-font-color0: var(--jp-content-font-color0, rgba(0, 0, 0, 1));\n",
       "  --xr-font-color2: var(--jp-content-font-color2, rgba(0, 0, 0, 0.54));\n",
       "  --xr-font-color3: var(--jp-content-font-color3, rgba(0, 0, 0, 0.38));\n",
       "  --xr-border-color: var(--jp-border-color2, #e0e0e0);\n",
       "  --xr-disabled-color: var(--jp-layout-color3, #bdbdbd);\n",
       "  --xr-background-color: var(--jp-layout-color0, white);\n",
       "  --xr-background-color-row-even: var(--jp-layout-color1, white);\n",
       "  --xr-background-color-row-odd: var(--jp-layout-color2, #eeeeee);\n",
       "}\n",
       "\n",
       "html[theme=dark],\n",
       "body.vscode-dark {\n",
       "  --xr-font-color0: rgba(255, 255, 255, 1);\n",
       "  --xr-font-color2: rgba(255, 255, 255, 0.54);\n",
       "  --xr-font-color3: rgba(255, 255, 255, 0.38);\n",
       "  --xr-border-color: #1F1F1F;\n",
       "  --xr-disabled-color: #515151;\n",
       "  --xr-background-color: #111111;\n",
       "  --xr-background-color-row-even: #111111;\n",
       "  --xr-background-color-row-odd: #313131;\n",
       "}\n",
       "\n",
       ".xr-wrap {\n",
       "  display: block;\n",
       "  min-width: 300px;\n",
       "  max-width: 700px;\n",
       "}\n",
       "\n",
       ".xr-text-repr-fallback {\n",
       "  /* fallback to plain text repr when CSS is not injected (untrusted notebook) */\n",
       "  display: none;\n",
       "}\n",
       "\n",
       ".xr-header {\n",
       "  padding-top: 6px;\n",
       "  padding-bottom: 6px;\n",
       "  margin-bottom: 4px;\n",
       "  border-bottom: solid 1px var(--xr-border-color);\n",
       "}\n",
       "\n",
       ".xr-header > div,\n",
       ".xr-header > ul {\n",
       "  display: inline;\n",
       "  margin-top: 0;\n",
       "  margin-bottom: 0;\n",
       "}\n",
       "\n",
       ".xr-obj-type,\n",
       ".xr-array-name {\n",
       "  margin-left: 2px;\n",
       "  margin-right: 10px;\n",
       "}\n",
       "\n",
       ".xr-obj-type {\n",
       "  color: var(--xr-font-color2);\n",
       "}\n",
       "\n",
       ".xr-sections {\n",
       "  padding-left: 0 !important;\n",
       "  display: grid;\n",
       "  grid-template-columns: 150px auto auto 1fr 20px 20px;\n",
       "}\n",
       "\n",
       ".xr-section-item {\n",
       "  display: contents;\n",
       "}\n",
       "\n",
       ".xr-section-item input {\n",
       "  display: none;\n",
       "}\n",
       "\n",
       ".xr-section-item input + label {\n",
       "  color: var(--xr-disabled-color);\n",
       "}\n",
       "\n",
       ".xr-section-item input:enabled + label {\n",
       "  cursor: pointer;\n",
       "  color: var(--xr-font-color2);\n",
       "}\n",
       "\n",
       ".xr-section-item input:enabled + label:hover {\n",
       "  color: var(--xr-font-color0);\n",
       "}\n",
       "\n",
       ".xr-section-summary {\n",
       "  grid-column: 1;\n",
       "  color: var(--xr-font-color2);\n",
       "  font-weight: 500;\n",
       "}\n",
       "\n",
       ".xr-section-summary > span {\n",
       "  display: inline-block;\n",
       "  padding-left: 0.5em;\n",
       "}\n",
       "\n",
       ".xr-section-summary-in:disabled + label {\n",
       "  color: var(--xr-font-color2);\n",
       "}\n",
       "\n",
       ".xr-section-summary-in + label:before {\n",
       "  display: inline-block;\n",
       "  content: '►';\n",
       "  font-size: 11px;\n",
       "  width: 15px;\n",
       "  text-align: center;\n",
       "}\n",
       "\n",
       ".xr-section-summary-in:disabled + label:before {\n",
       "  color: var(--xr-disabled-color);\n",
       "}\n",
       "\n",
       ".xr-section-summary-in:checked + label:before {\n",
       "  content: '▼';\n",
       "}\n",
       "\n",
       ".xr-section-summary-in:checked + label > span {\n",
       "  display: none;\n",
       "}\n",
       "\n",
       ".xr-section-summary,\n",
       ".xr-section-inline-details {\n",
       "  padding-top: 4px;\n",
       "  padding-bottom: 4px;\n",
       "}\n",
       "\n",
       ".xr-section-inline-details {\n",
       "  grid-column: 2 / -1;\n",
       "}\n",
       "\n",
       ".xr-section-details {\n",
       "  display: none;\n",
       "  grid-column: 1 / -1;\n",
       "  margin-bottom: 5px;\n",
       "}\n",
       "\n",
       ".xr-section-summary-in:checked ~ .xr-section-details {\n",
       "  display: contents;\n",
       "}\n",
       "\n",
       ".xr-array-wrap {\n",
       "  grid-column: 1 / -1;\n",
       "  display: grid;\n",
       "  grid-template-columns: 20px auto;\n",
       "}\n",
       "\n",
       ".xr-array-wrap > label {\n",
       "  grid-column: 1;\n",
       "  vertical-align: top;\n",
       "}\n",
       "\n",
       ".xr-preview {\n",
       "  color: var(--xr-font-color3);\n",
       "}\n",
       "\n",
       ".xr-array-preview,\n",
       ".xr-array-data {\n",
       "  padding: 0 5px !important;\n",
       "  grid-column: 2;\n",
       "}\n",
       "\n",
       ".xr-array-data,\n",
       ".xr-array-in:checked ~ .xr-array-preview {\n",
       "  display: none;\n",
       "}\n",
       "\n",
       ".xr-array-in:checked ~ .xr-array-data,\n",
       ".xr-array-preview {\n",
       "  display: inline-block;\n",
       "}\n",
       "\n",
       ".xr-dim-list {\n",
       "  display: inline-block !important;\n",
       "  list-style: none;\n",
       "  padding: 0 !important;\n",
       "  margin: 0;\n",
       "}\n",
       "\n",
       ".xr-dim-list li {\n",
       "  display: inline-block;\n",
       "  padding: 0;\n",
       "  margin: 0;\n",
       "}\n",
       "\n",
       ".xr-dim-list:before {\n",
       "  content: '(';\n",
       "}\n",
       "\n",
       ".xr-dim-list:after {\n",
       "  content: ')';\n",
       "}\n",
       "\n",
       ".xr-dim-list li:not(:last-child):after {\n",
       "  content: ',';\n",
       "  padding-right: 5px;\n",
       "}\n",
       "\n",
       ".xr-has-index {\n",
       "  font-weight: bold;\n",
       "}\n",
       "\n",
       ".xr-var-list,\n",
       ".xr-var-item {\n",
       "  display: contents;\n",
       "}\n",
       "\n",
       ".xr-var-item > div,\n",
       ".xr-var-item label,\n",
       ".xr-var-item > .xr-var-name span {\n",
       "  background-color: var(--xr-background-color-row-even);\n",
       "  margin-bottom: 0;\n",
       "}\n",
       "\n",
       ".xr-var-item > .xr-var-name:hover span {\n",
       "  padding-right: 5px;\n",
       "}\n",
       "\n",
       ".xr-var-list > li:nth-child(odd) > div,\n",
       ".xr-var-list > li:nth-child(odd) > label,\n",
       ".xr-var-list > li:nth-child(odd) > .xr-var-name span {\n",
       "  background-color: var(--xr-background-color-row-odd);\n",
       "}\n",
       "\n",
       ".xr-var-name {\n",
       "  grid-column: 1;\n",
       "}\n",
       "\n",
       ".xr-var-dims {\n",
       "  grid-column: 2;\n",
       "}\n",
       "\n",
       ".xr-var-dtype {\n",
       "  grid-column: 3;\n",
       "  text-align: right;\n",
       "  color: var(--xr-font-color2);\n",
       "}\n",
       "\n",
       ".xr-var-preview {\n",
       "  grid-column: 4;\n",
       "}\n",
       "\n",
       ".xr-var-name,\n",
       ".xr-var-dims,\n",
       ".xr-var-dtype,\n",
       ".xr-preview,\n",
       ".xr-attrs dt {\n",
       "  white-space: nowrap;\n",
       "  overflow: hidden;\n",
       "  text-overflow: ellipsis;\n",
       "  padding-right: 10px;\n",
       "}\n",
       "\n",
       ".xr-var-name:hover,\n",
       ".xr-var-dims:hover,\n",
       ".xr-var-dtype:hover,\n",
       ".xr-attrs dt:hover {\n",
       "  overflow: visible;\n",
       "  width: auto;\n",
       "  z-index: 1;\n",
       "}\n",
       "\n",
       ".xr-var-attrs,\n",
       ".xr-var-data {\n",
       "  display: none;\n",
       "  background-color: var(--xr-background-color) !important;\n",
       "  padding-bottom: 5px !important;\n",
       "}\n",
       "\n",
       ".xr-var-attrs-in:checked ~ .xr-var-attrs,\n",
       ".xr-var-data-in:checked ~ .xr-var-data {\n",
       "  display: block;\n",
       "}\n",
       "\n",
       ".xr-var-data > table {\n",
       "  float: right;\n",
       "}\n",
       "\n",
       ".xr-var-name span,\n",
       ".xr-var-data,\n",
       ".xr-attrs {\n",
       "  padding-left: 25px !important;\n",
       "}\n",
       "\n",
       ".xr-attrs,\n",
       ".xr-var-attrs,\n",
       ".xr-var-data {\n",
       "  grid-column: 1 / -1;\n",
       "}\n",
       "\n",
       "dl.xr-attrs {\n",
       "  padding: 0;\n",
       "  margin: 0;\n",
       "  display: grid;\n",
       "  grid-template-columns: 125px auto;\n",
       "}\n",
       "\n",
       ".xr-attrs dt,\n",
       ".xr-attrs dd {\n",
       "  padding: 0;\n",
       "  margin: 0;\n",
       "  float: left;\n",
       "  padding-right: 10px;\n",
       "  width: auto;\n",
       "}\n",
       "\n",
       ".xr-attrs dt {\n",
       "  font-weight: normal;\n",
       "  grid-column: 1;\n",
       "}\n",
       "\n",
       ".xr-attrs dt:hover span {\n",
       "  display: inline-block;\n",
       "  background: var(--xr-background-color);\n",
       "  padding-right: 10px;\n",
       "}\n",
       "\n",
       ".xr-attrs dd {\n",
       "  grid-column: 2;\n",
       "  white-space: pre-wrap;\n",
       "  word-break: break-all;\n",
       "}\n",
       "\n",
       ".xr-icon-database,\n",
       ".xr-icon-file-text2 {\n",
       "  display: inline-block;\n",
       "  vertical-align: middle;\n",
       "  width: 1em;\n",
       "  height: 1.5em !important;\n",
       "  stroke-width: 0;\n",
       "  stroke: currentColor;\n",
       "  fill: currentColor;\n",
       "}\n",
       "</style><pre class='xr-text-repr-fallback'>&lt;xarray.DataArray &#x27;ts&#x27; (scenario: 4, time: 2000)&gt;\n",
       "dask.array&lt;truediv, shape=(4, 2000), dtype=float32, chunksize=(1, 8), chunktype=numpy.ndarray&gt;\n",
       "Coordinates:\n",
       "  * time      (time) object 1850-12-31 00:00:00 ... 3849-12-31 00:00:00\n",
       "  * scenario  (scenario) object &#x27;1pctCO2&#x27; &#x27;abrupt-4xCO2&#x27; ... &#x27;piControl&#x27;</pre><div class='xr-wrap' hidden><div class='xr-header'><div class='xr-obj-type'>xarray.DataArray</div><div class='xr-array-name'>'ts'</div><ul class='xr-dim-list'><li><span class='xr-has-index'>scenario</span>: 4</li><li><span class='xr-has-index'>time</span>: 2000</li></ul></div><ul class='xr-sections'><li class='xr-section-item'><div class='xr-array-wrap'><input id='section-f487d941-b5a8-4ccd-89c6-ad0a31f794da' class='xr-array-in' type='checkbox' checked><label for='section-f487d941-b5a8-4ccd-89c6-ad0a31f794da' title='Show/hide data repr'><svg class='icon xr-icon-database'><use xlink:href='#icon-database'></use></svg></label><div class='xr-array-preview xr-preview'><span>dask.array&lt;chunksize=(1, 8), meta=np.ndarray&gt;</span></div><div class='xr-array-data'><table>\n",
       "<tr>\n",
       "<td>\n",
       "<table>\n",
       "  <thead>\n",
       "    <tr><td> </td><th> Array </th><th> Chunk </th></tr>\n",
       "  </thead>\n",
       "  <tbody>\n",
       "    <tr><th> Bytes </th><td> 32.00 kB </td> <td> 32 B </td></tr>\n",
       "    <tr><th> Shape </th><td> (4, 2000) </td> <td> (1, 8) </td></tr>\n",
       "    <tr><th> Count </th><td> 229604 Tasks </td><td> 1000 Chunks </td></tr>\n",
       "    <tr><th> Type </th><td> float32 </td><td> numpy.ndarray </td></tr>\n",
       "  </tbody>\n",
       "</table>\n",
       "</td>\n",
       "<td>\n",
       "<svg width=\"170\" height=\"75\" style=\"stroke:rgb(0,0,0);stroke-width:1\" >\n",
       "\n",
       "  <!-- Horizontal lines -->\n",
       "  <line x1=\"0\" y1=\"0\" x2=\"120\" y2=\"0\" style=\"stroke-width:2\" />\n",
       "  <line x1=\"0\" y1=\"6\" x2=\"120\" y2=\"6\" />\n",
       "  <line x1=\"0\" y1=\"12\" x2=\"120\" y2=\"12\" />\n",
       "  <line x1=\"0\" y1=\"19\" x2=\"120\" y2=\"19\" />\n",
       "  <line x1=\"0\" y1=\"25\" x2=\"120\" y2=\"25\" style=\"stroke-width:2\" />\n",
       "\n",
       "  <!-- Vertical lines -->\n",
       "  <line x1=\"0\" y1=\"0\" x2=\"0\" y2=\"25\" style=\"stroke-width:2\" />\n",
       "  <line x1=\"6\" y1=\"0\" x2=\"6\" y2=\"25\" />\n",
       "  <line x1=\"12\" y1=\"0\" x2=\"12\" y2=\"25\" />\n",
       "  <line x1=\"18\" y1=\"0\" x2=\"18\" y2=\"25\" />\n",
       "  <line x1=\"24\" y1=\"0\" x2=\"24\" y2=\"25\" />\n",
       "  <line x1=\"31\" y1=\"0\" x2=\"31\" y2=\"25\" />\n",
       "  <line x1=\"37\" y1=\"0\" x2=\"37\" y2=\"25\" />\n",
       "  <line x1=\"44\" y1=\"0\" x2=\"44\" y2=\"25\" />\n",
       "  <line x1=\"50\" y1=\"0\" x2=\"50\" y2=\"25\" />\n",
       "  <line x1=\"56\" y1=\"0\" x2=\"56\" y2=\"25\" />\n",
       "  <line x1=\"62\" y1=\"0\" x2=\"62\" y2=\"25\" />\n",
       "  <line x1=\"69\" y1=\"0\" x2=\"69\" y2=\"25\" />\n",
       "  <line x1=\"75\" y1=\"0\" x2=\"75\" y2=\"25\" />\n",
       "  <line x1=\"82\" y1=\"0\" x2=\"82\" y2=\"25\" />\n",
       "  <line x1=\"88\" y1=\"0\" x2=\"88\" y2=\"25\" />\n",
       "  <line x1=\"94\" y1=\"0\" x2=\"94\" y2=\"25\" />\n",
       "  <line x1=\"100\" y1=\"0\" x2=\"100\" y2=\"25\" />\n",
       "  <line x1=\"107\" y1=\"0\" x2=\"107\" y2=\"25\" />\n",
       "  <line x1=\"113\" y1=\"0\" x2=\"113\" y2=\"25\" />\n",
       "  <line x1=\"120\" y1=\"0\" x2=\"120\" y2=\"25\" style=\"stroke-width:2\" />\n",
       "\n",
       "  <!-- Colored Rectangle -->\n",
       "  <polygon points=\"0.0,0.0 120.0,0.0 120.0,25.412616514582485 0.0,25.412616514582485\" style=\"fill:#8B4903A0;stroke-width:0\"/>\n",
       "\n",
       "  <!-- Text -->\n",
       "  <text x=\"60.000000\" y=\"45.412617\" font-size=\"1.0rem\" font-weight=\"100\" text-anchor=\"middle\" >2000</text>\n",
       "  <text x=\"140.000000\" y=\"12.706308\" font-size=\"1.0rem\" font-weight=\"100\" text-anchor=\"middle\" transform=\"rotate(0,140.000000,12.706308)\">4</text>\n",
       "</svg>\n",
       "</td>\n",
       "</tr>\n",
       "</table></div></div></li><li class='xr-section-item'><input id='section-c3d70fe7-d621-4687-ad89-5b2520dd41a0' class='xr-section-summary-in' type='checkbox'  checked><label for='section-c3d70fe7-d621-4687-ad89-5b2520dd41a0' class='xr-section-summary' >Coordinates: <span>(2)</span></label><div class='xr-section-inline-details'></div><div class='xr-section-details'><ul class='xr-var-list'><li class='xr-var-item'><div class='xr-var-name'><span class='xr-has-index'>time</span></div><div class='xr-var-dims'>(time)</div><div class='xr-var-dtype'>object</div><div class='xr-var-preview xr-preview'>1850-12-31 00:00:00 ... 3849-12-...</div><input id='attrs-7c2f45a9-a688-4df6-8875-d9cce69a2301' class='xr-var-attrs-in' type='checkbox' disabled><label for='attrs-7c2f45a9-a688-4df6-8875-d9cce69a2301' title='Show/Hide attributes'><svg class='icon xr-icon-file-text2'><use xlink:href='#icon-file-text2'></use></svg></label><input id='data-573f2b94-7f50-4c9c-adb9-a3569c87dfaa' class='xr-var-data-in' type='checkbox'><label for='data-573f2b94-7f50-4c9c-adb9-a3569c87dfaa' title='Show/Hide data repr'><svg class='icon xr-icon-database'><use xlink:href='#icon-database'></use></svg></label><div class='xr-var-attrs'><dl class='xr-attrs'></dl></div><div class='xr-var-data'><pre>array([cftime.DatetimeGregorian(1850, 12, 31, 0, 0, 0, 0),\n",
       "       cftime.DatetimeGregorian(1851, 12, 31, 0, 0, 0, 0),\n",
       "       cftime.DatetimeGregorian(1852, 12, 31, 0, 0, 0, 0), ...,\n",
       "       cftime.DatetimeGregorian(3847, 12, 31, 0, 0, 0, 0),\n",
       "       cftime.DatetimeGregorian(3848, 12, 31, 0, 0, 0, 0),\n",
       "       cftime.DatetimeGregorian(3849, 12, 31, 0, 0, 0, 0)], dtype=object)</pre></div></li><li class='xr-var-item'><div class='xr-var-name'><span class='xr-has-index'>scenario</span></div><div class='xr-var-dims'>(scenario)</div><div class='xr-var-dtype'>object</div><div class='xr-var-preview xr-preview'>&#x27;1pctCO2&#x27; ... &#x27;piControl&#x27;</div><input id='attrs-47562348-0177-46b1-a141-0dc379cd3966' class='xr-var-attrs-in' type='checkbox' disabled><label for='attrs-47562348-0177-46b1-a141-0dc379cd3966' title='Show/Hide attributes'><svg class='icon xr-icon-file-text2'><use xlink:href='#icon-file-text2'></use></svg></label><input id='data-6ad9b984-c0a3-4ff6-9934-a85d1d109bfc' class='xr-var-data-in' type='checkbox'><label for='data-6ad9b984-c0a3-4ff6-9934-a85d1d109bfc' title='Show/Hide data repr'><svg class='icon xr-icon-database'><use xlink:href='#icon-database'></use></svg></label><div class='xr-var-attrs'><dl class='xr-attrs'></dl></div><div class='xr-var-data'><pre>array([&#x27;1pctCO2&#x27;, &#x27;abrupt-4xCO2&#x27;, &#x27;historical&#x27;, &#x27;piControl&#x27;], dtype=object)</pre></div></li></ul></div></li><li class='xr-section-item'><input id='section-21e75a88-5dcc-4f79-87d9-e38ca2b38059' class='xr-section-summary-in' type='checkbox' disabled ><label for='section-21e75a88-5dcc-4f79-87d9-e38ca2b38059' class='xr-section-summary'  title='Expand/collapse section'>Attributes: <span>(0)</span></label><div class='xr-section-inline-details'></div><div class='xr-section-details'><dl class='xr-attrs'></dl></div></li></ul></div></div>"
      ],
      "text/plain": [
       "<xarray.DataArray 'ts' (scenario: 4, time: 2000)>\n",
       "dask.array<truediv, shape=(4, 2000), dtype=float32, chunksize=(1, 8), chunktype=numpy.ndarray>\n",
       "Coordinates:\n",
       "  * time      (time) object 1850-12-31 00:00:00 ... 3849-12-31 00:00:00\n",
       "  * scenario  (scenario) object '1pctCO2' 'abrupt-4xCO2' ... 'piControl'"
      ]
     },
     "execution_count": 5,
     "metadata": {},
     "output_type": "execute_result"
    }
   ],
   "source": [
    "# The space mean of the anomaies (smean)\n",
    "ipsl_anom_smean = ipsl_anom.space_mean()\n",
    "ipsl_anom_smean"
   ]
  },
  {
   "cell_type": "code",
   "execution_count": 150,
   "metadata": {},
   "outputs": [],
   "source": [
    "# PUtting the space mean anomalies into memory, so each time I use the data it doesn't have to be\n",
    "# recalcualted.\n",
    "ipsl_anom_smean = ipsl_anom_smean.compute()"
   ]
  },
  {
   "cell_type": "code",
   "execution_count": 151,
   "metadata": {},
   "outputs": [],
   "source": [
    "ROLL_PERIOD = 27\n",
    "MIN_PERIODS = ROLL_PERIOD"
   ]
  },
  {
   "cell_type": "code",
   "execution_count": 152,
   "metadata": {},
   "outputs": [],
   "source": [
    "sn = reload(sn)\n",
    "ipsl_smean_signal = ipsl_anom_smean.rolling(time = ROLL_PERIOD, min_periods = MIN_PERIODS, center = True)\\\n",
    "        .reduce(sn.apply_along_helper, func1d = sn.grid_trend)"
   ]
  },
  {
   "cell_type": "code",
   "execution_count": 153,
   "metadata": {},
   "outputs": [
    {
     "data": {
      "text/html": [
       "<div><svg style=\"position: absolute; width: 0; height: 0; overflow: hidden\">\n",
       "<defs>\n",
       "<symbol id=\"icon-database\" viewBox=\"0 0 32 32\">\n",
       "<path d=\"M16 0c-8.837 0-16 2.239-16 5v4c0 2.761 7.163 5 16 5s16-2.239 16-5v-4c0-2.761-7.163-5-16-5z\"></path>\n",
       "<path d=\"M16 17c-8.837 0-16-2.239-16-5v6c0 2.761 7.163 5 16 5s16-2.239 16-5v-6c0 2.761-7.163 5-16 5z\"></path>\n",
       "<path d=\"M16 26c-8.837 0-16-2.239-16-5v6c0 2.761 7.163 5 16 5s16-2.239 16-5v-6c0 2.761-7.163 5-16 5z\"></path>\n",
       "</symbol>\n",
       "<symbol id=\"icon-file-text2\" viewBox=\"0 0 32 32\">\n",
       "<path d=\"M28.681 7.159c-0.694-0.947-1.662-2.053-2.724-3.116s-2.169-2.030-3.116-2.724c-1.612-1.182-2.393-1.319-2.841-1.319h-15.5c-1.378 0-2.5 1.121-2.5 2.5v27c0 1.378 1.122 2.5 2.5 2.5h23c1.378 0 2.5-1.122 2.5-2.5v-19.5c0-0.448-0.137-1.23-1.319-2.841zM24.543 5.457c0.959 0.959 1.712 1.825 2.268 2.543h-4.811v-4.811c0.718 0.556 1.584 1.309 2.543 2.268zM28 29.5c0 0.271-0.229 0.5-0.5 0.5h-23c-0.271 0-0.5-0.229-0.5-0.5v-27c0-0.271 0.229-0.5 0.5-0.5 0 0 15.499-0 15.5 0v7c0 0.552 0.448 1 1 1h7v19.5z\"></path>\n",
       "<path d=\"M23 26h-14c-0.552 0-1-0.448-1-1s0.448-1 1-1h14c0.552 0 1 0.448 1 1s-0.448 1-1 1z\"></path>\n",
       "<path d=\"M23 22h-14c-0.552 0-1-0.448-1-1s0.448-1 1-1h14c0.552 0 1 0.448 1 1s-0.448 1-1 1z\"></path>\n",
       "<path d=\"M23 18h-14c-0.552 0-1-0.448-1-1s0.448-1 1-1h14c0.552 0 1 0.448 1 1s-0.448 1-1 1z\"></path>\n",
       "</symbol>\n",
       "</defs>\n",
       "</svg>\n",
       "<style>/* CSS stylesheet for displaying xarray objects in jupyterlab.\n",
       " *\n",
       " */\n",
       "\n",
       ":root {\n",
       "  --xr-font-color0: var(--jp-content-font-color0, rgba(0, 0, 0, 1));\n",
       "  --xr-font-color2: var(--jp-content-font-color2, rgba(0, 0, 0, 0.54));\n",
       "  --xr-font-color3: var(--jp-content-font-color3, rgba(0, 0, 0, 0.38));\n",
       "  --xr-border-color: var(--jp-border-color2, #e0e0e0);\n",
       "  --xr-disabled-color: var(--jp-layout-color3, #bdbdbd);\n",
       "  --xr-background-color: var(--jp-layout-color0, white);\n",
       "  --xr-background-color-row-even: var(--jp-layout-color1, white);\n",
       "  --xr-background-color-row-odd: var(--jp-layout-color2, #eeeeee);\n",
       "}\n",
       "\n",
       "html[theme=dark],\n",
       "body.vscode-dark {\n",
       "  --xr-font-color0: rgba(255, 255, 255, 1);\n",
       "  --xr-font-color2: rgba(255, 255, 255, 0.54);\n",
       "  --xr-font-color3: rgba(255, 255, 255, 0.38);\n",
       "  --xr-border-color: #1F1F1F;\n",
       "  --xr-disabled-color: #515151;\n",
       "  --xr-background-color: #111111;\n",
       "  --xr-background-color-row-even: #111111;\n",
       "  --xr-background-color-row-odd: #313131;\n",
       "}\n",
       "\n",
       ".xr-wrap {\n",
       "  display: block;\n",
       "  min-width: 300px;\n",
       "  max-width: 700px;\n",
       "}\n",
       "\n",
       ".xr-text-repr-fallback {\n",
       "  /* fallback to plain text repr when CSS is not injected (untrusted notebook) */\n",
       "  display: none;\n",
       "}\n",
       "\n",
       ".xr-header {\n",
       "  padding-top: 6px;\n",
       "  padding-bottom: 6px;\n",
       "  margin-bottom: 4px;\n",
       "  border-bottom: solid 1px var(--xr-border-color);\n",
       "}\n",
       "\n",
       ".xr-header > div,\n",
       ".xr-header > ul {\n",
       "  display: inline;\n",
       "  margin-top: 0;\n",
       "  margin-bottom: 0;\n",
       "}\n",
       "\n",
       ".xr-obj-type,\n",
       ".xr-array-name {\n",
       "  margin-left: 2px;\n",
       "  margin-right: 10px;\n",
       "}\n",
       "\n",
       ".xr-obj-type {\n",
       "  color: var(--xr-font-color2);\n",
       "}\n",
       "\n",
       ".xr-sections {\n",
       "  padding-left: 0 !important;\n",
       "  display: grid;\n",
       "  grid-template-columns: 150px auto auto 1fr 20px 20px;\n",
       "}\n",
       "\n",
       ".xr-section-item {\n",
       "  display: contents;\n",
       "}\n",
       "\n",
       ".xr-section-item input {\n",
       "  display: none;\n",
       "}\n",
       "\n",
       ".xr-section-item input + label {\n",
       "  color: var(--xr-disabled-color);\n",
       "}\n",
       "\n",
       ".xr-section-item input:enabled + label {\n",
       "  cursor: pointer;\n",
       "  color: var(--xr-font-color2);\n",
       "}\n",
       "\n",
       ".xr-section-item input:enabled + label:hover {\n",
       "  color: var(--xr-font-color0);\n",
       "}\n",
       "\n",
       ".xr-section-summary {\n",
       "  grid-column: 1;\n",
       "  color: var(--xr-font-color2);\n",
       "  font-weight: 500;\n",
       "}\n",
       "\n",
       ".xr-section-summary > span {\n",
       "  display: inline-block;\n",
       "  padding-left: 0.5em;\n",
       "}\n",
       "\n",
       ".xr-section-summary-in:disabled + label {\n",
       "  color: var(--xr-font-color2);\n",
       "}\n",
       "\n",
       ".xr-section-summary-in + label:before {\n",
       "  display: inline-block;\n",
       "  content: '►';\n",
       "  font-size: 11px;\n",
       "  width: 15px;\n",
       "  text-align: center;\n",
       "}\n",
       "\n",
       ".xr-section-summary-in:disabled + label:before {\n",
       "  color: var(--xr-disabled-color);\n",
       "}\n",
       "\n",
       ".xr-section-summary-in:checked + label:before {\n",
       "  content: '▼';\n",
       "}\n",
       "\n",
       ".xr-section-summary-in:checked + label > span {\n",
       "  display: none;\n",
       "}\n",
       "\n",
       ".xr-section-summary,\n",
       ".xr-section-inline-details {\n",
       "  padding-top: 4px;\n",
       "  padding-bottom: 4px;\n",
       "}\n",
       "\n",
       ".xr-section-inline-details {\n",
       "  grid-column: 2 / -1;\n",
       "}\n",
       "\n",
       ".xr-section-details {\n",
       "  display: none;\n",
       "  grid-column: 1 / -1;\n",
       "  margin-bottom: 5px;\n",
       "}\n",
       "\n",
       ".xr-section-summary-in:checked ~ .xr-section-details {\n",
       "  display: contents;\n",
       "}\n",
       "\n",
       ".xr-array-wrap {\n",
       "  grid-column: 1 / -1;\n",
       "  display: grid;\n",
       "  grid-template-columns: 20px auto;\n",
       "}\n",
       "\n",
       ".xr-array-wrap > label {\n",
       "  grid-column: 1;\n",
       "  vertical-align: top;\n",
       "}\n",
       "\n",
       ".xr-preview {\n",
       "  color: var(--xr-font-color3);\n",
       "}\n",
       "\n",
       ".xr-array-preview,\n",
       ".xr-array-data {\n",
       "  padding: 0 5px !important;\n",
       "  grid-column: 2;\n",
       "}\n",
       "\n",
       ".xr-array-data,\n",
       ".xr-array-in:checked ~ .xr-array-preview {\n",
       "  display: none;\n",
       "}\n",
       "\n",
       ".xr-array-in:checked ~ .xr-array-data,\n",
       ".xr-array-preview {\n",
       "  display: inline-block;\n",
       "}\n",
       "\n",
       ".xr-dim-list {\n",
       "  display: inline-block !important;\n",
       "  list-style: none;\n",
       "  padding: 0 !important;\n",
       "  margin: 0;\n",
       "}\n",
       "\n",
       ".xr-dim-list li {\n",
       "  display: inline-block;\n",
       "  padding: 0;\n",
       "  margin: 0;\n",
       "}\n",
       "\n",
       ".xr-dim-list:before {\n",
       "  content: '(';\n",
       "}\n",
       "\n",
       ".xr-dim-list:after {\n",
       "  content: ')';\n",
       "}\n",
       "\n",
       ".xr-dim-list li:not(:last-child):after {\n",
       "  content: ',';\n",
       "  padding-right: 5px;\n",
       "}\n",
       "\n",
       ".xr-has-index {\n",
       "  font-weight: bold;\n",
       "}\n",
       "\n",
       ".xr-var-list,\n",
       ".xr-var-item {\n",
       "  display: contents;\n",
       "}\n",
       "\n",
       ".xr-var-item > div,\n",
       ".xr-var-item label,\n",
       ".xr-var-item > .xr-var-name span {\n",
       "  background-color: var(--xr-background-color-row-even);\n",
       "  margin-bottom: 0;\n",
       "}\n",
       "\n",
       ".xr-var-item > .xr-var-name:hover span {\n",
       "  padding-right: 5px;\n",
       "}\n",
       "\n",
       ".xr-var-list > li:nth-child(odd) > div,\n",
       ".xr-var-list > li:nth-child(odd) > label,\n",
       ".xr-var-list > li:nth-child(odd) > .xr-var-name span {\n",
       "  background-color: var(--xr-background-color-row-odd);\n",
       "}\n",
       "\n",
       ".xr-var-name {\n",
       "  grid-column: 1;\n",
       "}\n",
       "\n",
       ".xr-var-dims {\n",
       "  grid-column: 2;\n",
       "}\n",
       "\n",
       ".xr-var-dtype {\n",
       "  grid-column: 3;\n",
       "  text-align: right;\n",
       "  color: var(--xr-font-color2);\n",
       "}\n",
       "\n",
       ".xr-var-preview {\n",
       "  grid-column: 4;\n",
       "}\n",
       "\n",
       ".xr-var-name,\n",
       ".xr-var-dims,\n",
       ".xr-var-dtype,\n",
       ".xr-preview,\n",
       ".xr-attrs dt {\n",
       "  white-space: nowrap;\n",
       "  overflow: hidden;\n",
       "  text-overflow: ellipsis;\n",
       "  padding-right: 10px;\n",
       "}\n",
       "\n",
       ".xr-var-name:hover,\n",
       ".xr-var-dims:hover,\n",
       ".xr-var-dtype:hover,\n",
       ".xr-attrs dt:hover {\n",
       "  overflow: visible;\n",
       "  width: auto;\n",
       "  z-index: 1;\n",
       "}\n",
       "\n",
       ".xr-var-attrs,\n",
       ".xr-var-data {\n",
       "  display: none;\n",
       "  background-color: var(--xr-background-color) !important;\n",
       "  padding-bottom: 5px !important;\n",
       "}\n",
       "\n",
       ".xr-var-attrs-in:checked ~ .xr-var-attrs,\n",
       ".xr-var-data-in:checked ~ .xr-var-data {\n",
       "  display: block;\n",
       "}\n",
       "\n",
       ".xr-var-data > table {\n",
       "  float: right;\n",
       "}\n",
       "\n",
       ".xr-var-name span,\n",
       ".xr-var-data,\n",
       ".xr-attrs {\n",
       "  padding-left: 25px !important;\n",
       "}\n",
       "\n",
       ".xr-attrs,\n",
       ".xr-var-attrs,\n",
       ".xr-var-data {\n",
       "  grid-column: 1 / -1;\n",
       "}\n",
       "\n",
       "dl.xr-attrs {\n",
       "  padding: 0;\n",
       "  margin: 0;\n",
       "  display: grid;\n",
       "  grid-template-columns: 125px auto;\n",
       "}\n",
       "\n",
       ".xr-attrs dt,\n",
       ".xr-attrs dd {\n",
       "  padding: 0;\n",
       "  margin: 0;\n",
       "  float: left;\n",
       "  padding-right: 10px;\n",
       "  width: auto;\n",
       "}\n",
       "\n",
       ".xr-attrs dt {\n",
       "  font-weight: normal;\n",
       "  grid-column: 1;\n",
       "}\n",
       "\n",
       ".xr-attrs dt:hover span {\n",
       "  display: inline-block;\n",
       "  background: var(--xr-background-color);\n",
       "  padding-right: 10px;\n",
       "}\n",
       "\n",
       ".xr-attrs dd {\n",
       "  grid-column: 2;\n",
       "  white-space: pre-wrap;\n",
       "  word-break: break-all;\n",
       "}\n",
       "\n",
       ".xr-icon-database,\n",
       ".xr-icon-file-text2 {\n",
       "  display: inline-block;\n",
       "  vertical-align: middle;\n",
       "  width: 1em;\n",
       "  height: 1.5em !important;\n",
       "  stroke-width: 0;\n",
       "  stroke: currentColor;\n",
       "  fill: currentColor;\n",
       "}\n",
       "</style><pre class='xr-text-repr-fallback'>&lt;xarray.DataArray &#x27;ts&#x27; (scenario: 4, time: 2000)&gt;\n",
       "array([[nan, nan, nan, ..., nan, nan, nan],\n",
       "       [nan, nan, nan, ..., nan, nan, nan],\n",
       "       [nan, nan, nan, ..., nan, nan, nan],\n",
       "       [nan, nan, nan, ..., nan, nan, nan]])\n",
       "Coordinates:\n",
       "  * time      (time) object 1850-12-31 00:00:00 ... 3849-12-31 00:00:00\n",
       "  * scenario  (scenario) object &#x27;1pctCO2&#x27; &#x27;abrupt-4xCO2&#x27; ... &#x27;piControl&#x27;</pre><div class='xr-wrap' hidden><div class='xr-header'><div class='xr-obj-type'>xarray.DataArray</div><div class='xr-array-name'>'ts'</div><ul class='xr-dim-list'><li><span class='xr-has-index'>scenario</span>: 4</li><li><span class='xr-has-index'>time</span>: 2000</li></ul></div><ul class='xr-sections'><li class='xr-section-item'><div class='xr-array-wrap'><input id='section-8c54b21c-f712-49d7-b85a-1cfddb4dc09f' class='xr-array-in' type='checkbox' checked><label for='section-8c54b21c-f712-49d7-b85a-1cfddb4dc09f' title='Show/hide data repr'><svg class='icon xr-icon-database'><use xlink:href='#icon-database'></use></svg></label><div class='xr-array-preview xr-preview'><span>nan nan nan nan nan nan nan nan ... nan nan nan nan nan nan nan nan</span></div><div class='xr-array-data'><pre>array([[nan, nan, nan, ..., nan, nan, nan],\n",
       "       [nan, nan, nan, ..., nan, nan, nan],\n",
       "       [nan, nan, nan, ..., nan, nan, nan],\n",
       "       [nan, nan, nan, ..., nan, nan, nan]])</pre></div></div></li><li class='xr-section-item'><input id='section-4ea58265-2fe6-494e-b70e-27ab3cc074d7' class='xr-section-summary-in' type='checkbox'  checked><label for='section-4ea58265-2fe6-494e-b70e-27ab3cc074d7' class='xr-section-summary' >Coordinates: <span>(2)</span></label><div class='xr-section-inline-details'></div><div class='xr-section-details'><ul class='xr-var-list'><li class='xr-var-item'><div class='xr-var-name'><span class='xr-has-index'>time</span></div><div class='xr-var-dims'>(time)</div><div class='xr-var-dtype'>object</div><div class='xr-var-preview xr-preview'>1850-12-31 00:00:00 ... 3849-12-...</div><input id='attrs-6cbf2706-2709-4114-b4e4-686afe4f4da0' class='xr-var-attrs-in' type='checkbox' disabled><label for='attrs-6cbf2706-2709-4114-b4e4-686afe4f4da0' title='Show/Hide attributes'><svg class='icon xr-icon-file-text2'><use xlink:href='#icon-file-text2'></use></svg></label><input id='data-6fb8e80a-5fdb-401f-ac46-a5ef82670f77' class='xr-var-data-in' type='checkbox'><label for='data-6fb8e80a-5fdb-401f-ac46-a5ef82670f77' title='Show/Hide data repr'><svg class='icon xr-icon-database'><use xlink:href='#icon-database'></use></svg></label><div class='xr-var-attrs'><dl class='xr-attrs'></dl></div><div class='xr-var-data'><pre>array([cftime.DatetimeGregorian(1850, 12, 31, 0, 0, 0, 0),\n",
       "       cftime.DatetimeGregorian(1851, 12, 31, 0, 0, 0, 0),\n",
       "       cftime.DatetimeGregorian(1852, 12, 31, 0, 0, 0, 0), ...,\n",
       "       cftime.DatetimeGregorian(3847, 12, 31, 0, 0, 0, 0),\n",
       "       cftime.DatetimeGregorian(3848, 12, 31, 0, 0, 0, 0),\n",
       "       cftime.DatetimeGregorian(3849, 12, 31, 0, 0, 0, 0)], dtype=object)</pre></div></li><li class='xr-var-item'><div class='xr-var-name'><span class='xr-has-index'>scenario</span></div><div class='xr-var-dims'>(scenario)</div><div class='xr-var-dtype'>object</div><div class='xr-var-preview xr-preview'>&#x27;1pctCO2&#x27; ... &#x27;piControl&#x27;</div><input id='attrs-e52489ba-242c-4a89-9a48-9b48d5b06813' class='xr-var-attrs-in' type='checkbox' disabled><label for='attrs-e52489ba-242c-4a89-9a48-9b48d5b06813' title='Show/Hide attributes'><svg class='icon xr-icon-file-text2'><use xlink:href='#icon-file-text2'></use></svg></label><input id='data-fb0b59fe-4847-4b7a-ae5c-39677e68803c' class='xr-var-data-in' type='checkbox'><label for='data-fb0b59fe-4847-4b7a-ae5c-39677e68803c' title='Show/Hide data repr'><svg class='icon xr-icon-database'><use xlink:href='#icon-database'></use></svg></label><div class='xr-var-attrs'><dl class='xr-attrs'></dl></div><div class='xr-var-data'><pre>array([&#x27;1pctCO2&#x27;, &#x27;abrupt-4xCO2&#x27;, &#x27;historical&#x27;, &#x27;piControl&#x27;], dtype=object)</pre></div></li></ul></div></li><li class='xr-section-item'><input id='section-c5278678-e0b9-475c-a331-ad17e445438d' class='xr-section-summary-in' type='checkbox' disabled ><label for='section-c5278678-e0b9-475c-a331-ad17e445438d' class='xr-section-summary'  title='Expand/collapse section'>Attributes: <span>(0)</span></label><div class='xr-section-inline-details'></div><div class='xr-section-details'><dl class='xr-attrs'></dl></div></li></ul></div></div>"
      ],
      "text/plain": [
       "<xarray.DataArray 'ts' (scenario: 4, time: 2000)>\n",
       "array([[nan, nan, nan, ..., nan, nan, nan],\n",
       "       [nan, nan, nan, ..., nan, nan, nan],\n",
       "       [nan, nan, nan, ..., nan, nan, nan],\n",
       "       [nan, nan, nan, ..., nan, nan, nan]])\n",
       "Coordinates:\n",
       "  * time      (time) object 1850-12-31 00:00:00 ... 3849-12-31 00:00:00\n",
       "  * scenario  (scenario) object '1pctCO2' 'abrupt-4xCO2' ... 'piControl'"
      ]
     },
     "execution_count": 153,
     "metadata": {},
     "output_type": "execute_result"
    }
   ],
   "source": [
    "ipsl_smean_signal"
   ]
  },
  {
   "cell_type": "code",
   "execution_count": 154,
   "metadata": {},
   "outputs": [
    {
     "data": {
      "image/png": "[encoded data removed]",
      "text/plain": [
       "<Figure size 1080x288 with 1 Axes>"
      ]
     },
     "metadata": {
      "needs_background": "light"
     },
     "output_type": "display_data"
    }
   ],
   "source": [
    "data = ipsl_smean_signal\n",
    "\n",
    "fig, ax = plt.subplots(figsize = (15,4))\n",
    "\n",
    "time = data.time.values\n",
    "for scenario in data.scenario.values:\n",
    "    ax.plot(time, data.sel(scenario = scenario),\n",
    "                              label = scenario)\n",
    "\n",
    "ax.set_title('DECK Signal');\n",
    "ax.legend(ncol  = 4, loc = 'upper center', fontsize = 12)\n",
    "ax.spines['right'].set_visible(False)\n",
    "ax.spines['top'].set_visible(False)\n",
    "ax.set_xlabel('Year')\n",
    "ax.set_ylabel('Gradient')\n",
    "ax.grid(alpha = 0.4, linestyle = ':')"
   ]
  },
  {
   "cell_type": "markdown",
   "metadata": {},
   "source": [
    "<b> Manual Signal Calculation for time 0 </b>"
   ]
  },
  {
   "cell_type": "code",
   "execution_count": 182,
   "metadata": {},
   "outputs": [
    {
     "data": {
      "text/plain": [
       "27"
      ]
     },
     "execution_count": 182,
     "metadata": {},
     "output_type": "execute_result"
    }
   ],
   "source": [
    "ROLL_PERIOD"
   ]
  },
  {
   "cell_type": "code",
   "execution_count": 203,
   "metadata": {},
   "outputs": [],
   "source": [
    "ipsl_abrupt = ipsl_anom_smean.sel(scenario = 'abrupt-4xCO2')\n",
    "ipsl_abrupt = ipsl_abrupt.where(np.isfinite(ipsl_abrupt), drop = True)\n",
    "y = ipsl_abrupt.values\n",
    "x = np.arange(len(y))"
   ]
  },
  {
   "cell_type": "code",
   "execution_count": 205,
   "metadata": {},
   "outputs": [
    {
     "data": {
      "application/vnd.plotly.v1+json": {
       "config": {
        "plotlyServerURL": "https://plot.ly"
       },
       "data": [
        {
         "type": "scatter",
         "x": [
          0,
          1,
          2,
          3,
          4,
          5,
          6,
          7,
          8,
          9,
          10,
          11,
          12,
          13,
          14,
          15,
          16,
          17,
          18,
          19,
          20,
          21,
          22,
          23,
          24,
          25,
          26,
          27,
          28,
          29,
          30,
          31,
          32,
          33,
          34,
          35,
          36,
          37,
          38,
          39,
          40,
          41,
          42,
          43,
          44,
          45,
          46,
          47,
          48,
          49,
          50,
          51,
          52,
          53,
          54,
          55,
          56,
          57,
          58,
          59,
          60,
          61,
          62,
          63,
          64,
          65,
          66,
          67,
          68,
          69,
          70,
          71,
          72,
          73,
          74,
          75,
          76,
          77,
          78,
          79,
          80,
          81,
          82,
          83,
          84,
          85,
          86,
          87,
          88,
          89,
          90,
          91,
          92,
          93,
          94,
          95,
          96,
          97,
          98,
          99,
          100,
          101,
          102,
          103,
          104,
          105,
          106,
          107,
          108,
          109,
          110,
          111,
          112,
          113,
          114,
          115,
          116,
          117,
          118,
          119,
          120,
          121,
          122,
          123,
          124,
          125,
          126,
          127,
          128,
          129,
          130,
          131,
          132,
          133,
          134,
          135,
          136,
          137,
          138,
          139,
          140,
          141,
          142,
          143,
          144,
          145,
          146,
          147,
          148,
          149,
          150,
          151,
          152,
          153,
          154,
          155,
          156,
          157,
          158,
          159,
          160,
          161,
          162,
          163,
          164,
          165,
          166,
          167,
          168,
          169,
          170,
          171,
          172,
          173,
          174,
          175,
          176,
          177,
          178,
          179,
          180,
          181,
          182,
          183,
          184,
          185,
          186,
          187,
          188,
          189,
          190,
          191,
          192,
          193,
          194,
          195,
          196,
          197,
          198,
          199,
          200,
          201,
          202,
          203,
          204,
          205,
          206,
          207,
          208,
          209,
          210,
          211,
          212,
          213,
          214,
          215,
          216,
          217,
          218,
          219,
          220,
          221,
          222,
          223,
          224,
          225,
          226,
          227,
          228,
          229,
          230,
          231,
          232,
          233,
          234,
          235,
          236,
          237,
          238,
          239,
          240,
          241,
          242,
          243,
          244,
          245,
          246,
          247,
          248,
          249,
          250,
          251,
          252,
          253,
          254,
          255,
          256,
          257,
          258,
          259,
          260,
          261,
          262,
          263,
          264,
          265,
          266,
          267,
          268,
          269,
          270,
          271,
          272,
          273,
          274,
          275,
          276,
          277,
          278,
          279,
          280,
          281,
          282,
          283,
          284,
          285,
          286,
          287,
          288,
          289,
          290,
          291,
          292,
          293,
          294,
          295,
          296,
          297,
          298,
          299,
          300,
          301,
          302,
          303,
          304,
          305,
          306,
          307,
          308,
          309,
          310,
          311,
          312,
          313,
          314,
          315,
          316,
          317,
          318,
          319,
          320,
          321,
          322,
          323,
          324,
          325,
          326,
          327,
          328,
          329,
          330,
          331,
          332,
          333,
          334,
          335,
          336,
          337,
          338,
          339,
          340,
          341,
          342,
          343,
          344,
          345,
          346,
          347,
          348,
          349,
          350,
          351,
          352,
          353,
          354,
          355,
          356,
          357,
          358,
          359,
          360,
          361,
          362,
          363,
          364,
          365,
          366,
          367,
          368,
          369,
          370,
          371,
          372,
          373,
          374,
          375,
          376,
          377,
          378,
          379,
          380,
          381,
          382,
          383,
          384,
          385,
          386,
          387,
          388,
          389,
          390,
          391,
          392,
          393,
          394,
          395,
          396,
          397,
          398,
          399,
          400,
          401,
          402,
          403,
          404,
          405,
          406,
          407,
          408,
          409,
          410,
          411,
          412,
          413,
          414,
          415,
          416,
          417,
          418,
          419,
          420,
          421,
          422,
          423,
          424,
          425,
          426,
          427,
          428,
          429,
          430,
          431,
          432,
          433,
          434,
          435,
          436,
          437,
          438,
          439,
          440,
          441,
          442,
          443,
          444,
          445,
          446,
          447,
          448,
          449,
          450,
          451,
          452,
          453,
          454,
          455,
          456,
          457,
          458,
          459,
          460,
          461,
          462,
          463,
          464,
          465,
          466,
          467,
          468,
          469,
          470,
          471,
          472,
          473,
          474,
          475,
          476,
          477,
          478,
          479,
          480,
          481,
          482,
          483,
          484,
          485,
          486,
          487,
          488,
          489,
          490,
          491,
          492,
          493,
          494,
          495,
          496,
          497,
          498,
          499,
          500,
          501,
          502,
          503,
          504,
          505,
          506,
          507,
          508,
          509,
          510,
          511,
          512,
          513,
          514,
          515,
          516,
          517,
          518,
          519,
          520,
          521,
          522,
          523,
          524,
          525,
          526,
          527,
          528,
          529,
          530,
          531,
          532,
          533,
          534,
          535,
          536,
          537,
          538,
          539,
          540,
          541,
          542,
          543,
          544,
          545,
          546,
          547,
          548,
          549,
          550,
          551,
          552,
          553,
          554,
          555,
          556,
          557,
          558,
          559,
          560,
          561,
          562,
          563,
          564,
          565,
          566,
          567,
          568,
          569,
          570,
          571,
          572,
          573,
          574,
          575,
          576,
          577,
          578,
          579,
          580,
          581,
          582,
          583,
          584,
          585,
          586,
          587,
          588,
          589,
          590,
          591,
          592,
          593,
          594,
          595,
          596,
          597,
          598,
          599,
          600,
          601,
          602,
          603,
          604,
          605,
          606,
          607,
          608,
          609,
          610,
          611,
          612,
          613,
          614,
          615,
          616,
          617,
          618,
          619,
          620,
          621,
          622,
          623,
          624,
          625,
          626,
          627,
          628,
          629,
          630,
          631,
          632,
          633,
          634,
          635,
          636,
          637,
          638,
          639,
          640,
          641,
          642,
          643,
          644,
          645,
          646,
          647,
          648,
          649,
          650,
          651,
          652,
          653,
          654,
          655,
          656,
          657,
          658,
          659,
          660,
          661,
          662,
          663,
          664,
          665,
          666,
          667,
          668,
          669,
          670,
          671,
          672,
          673,
          674,
          675,
          676,
          677,
          678,
          679,
          680,
          681,
          682,
          683,
          684,
          685,
          686,
          687,
          688,
          689,
          690,
          691,
          692,
          693,
          694,
          695,
          696,
          697,
          698,
          699,
          700,
          701,
          702,
          703,
          704,
          705,
          706,
          707,
          708,
          709,
          710,
          711,
          712,
          713,
          714,
          715,
          716,
          717,
          718,
          719,
          720,
          721,
          722,
          723,
          724,
          725,
          726,
          727,
          728,
          729,
          730,
          731,
          732,
          733,
          734,
          735,
          736,
          737,
          738,
          739,
          740,
          741,
          742,
          743,
          744,
          745,
          746,
          747,
          748,
          749,
          750,
          751,
          752,
          753,
          754,
          755,
          756,
          757,
          758,
          759,
          760,
          761,
          762,
          763,
          764,
          765,
          766,
          767,
          768,
          769,
          770,
          771,
          772,
          773,
          774,
          775,
          776,
          777,
          778,
          779,
          780,
          781,
          782,
          783,
          784,
          785,
          786,
          787,
          788,
          789,
          790,
          791,
          792,
          793,
          794,
          795,
          796,
          797,
          798,
          799,
          800,
          801,
          802,
          803,
          804,
          805,
          806,
          807,
          808,
          809,
          810,
          811,
          812,
          813,
          814,
          815,
          816,
          817,
          818,
          819,
          820,
          821,
          822,
          823,
          824,
          825,
          826,
          827,
          828,
          829,
          830,
          831,
          832,
          833,
          834,
          835,
          836,
          837,
          838,
          839,
          840,
          841,
          842,
          843,
          844,
          845,
          846,
          847,
          848,
          849,
          850,
          851,
          852,
          853,
          854,
          855,
          856,
          857,
          858,
          859,
          860,
          861,
          862,
          863,
          864,
          865,
          866,
          867,
          868,
          869,
          870,
          871,
          872,
          873,
          874,
          875,
          876,
          877,
          878,
          879,
          880,
          881,
          882,
          883,
          884,
          885,
          886,
          887,
          888,
          889,
          890,
          891,
          892,
          893,
          894,
          895,
          896,
          897,
          898,
          899
         ],
         "y": [
          1.216593861579895,
          2.054781436920166,
          2.502671957015991,
          2.921539783477783,
          3.1400601863861084,
          3.37148118019104,
          3.4917774200439453,
          3.585803270339966,
          3.8124887943267822,
          3.813122034072876,
          3.982862710952759,
          4.187078952789307,
          4.363959312438965,
          4.372125148773193,
          4.526364803314209,
          4.767603874206543,
          4.608987808227539,
          4.67345666885376,
          4.854197978973389,
          5.172161102294922,
          5.21629524230957,
          5.165781497955322,
          5.230693817138672,
          5.288013458251953,
          5.273471355438232,
          5.152388095855713,
          5.365667819976807,
          5.460720062255859,
          5.508203506469727,
          5.706526279449463,
          5.781279563903809,
          5.5469818115234375,
          5.685164451599121,
          5.606128692626953,
          5.552289009094238,
          5.551136493682861,
          5.650279521942139,
          5.6260528564453125,
          5.66592264175415,
          5.691442966461182,
          5.952191352844238,
          5.972938537597656,
          5.776435375213623,
          5.957657814025879,
          5.907754898071289,
          5.8221259117126465,
          5.953335285186768,
          6.05147123336792,
          5.9853410720825195,
          5.986581802368164,
          5.980227947235107,
          5.972428321838379,
          5.837466716766357,
          5.823579788208008,
          5.946036338806152,
          6.209292888641357,
          6.151712894439697,
          5.9677534103393555,
          6.087501525878906,
          6.118417739868164,
          6.184529781341553,
          6.362090587615967,
          6.221530914306641,
          6.1434831619262695,
          6.391640663146973,
          6.320185661315918,
          6.1764068603515625,
          6.164762496948242,
          6.260995864868164,
          6.450306415557861,
          6.527695655822754,
          6.291255474090576,
          6.156310081481934,
          6.2581915855407715,
          6.708982467651367,
          6.470216274261475,
          6.331310272216797,
          6.390926837921143,
          6.58722448348999,
          6.491957187652588,
          6.225321292877197,
          6.178515434265137,
          6.534065246582031,
          6.601130485534668,
          6.536452770233154,
          6.489570617675781,
          6.474728584289551,
          6.63083553314209,
          6.588949203491211,
          6.3949408531188965,
          6.44597864151001,
          6.5646467208862305,
          6.7462382316589355,
          6.7823028564453125,
          6.620739936828613,
          6.616089344024658,
          6.689530849456787,
          6.7095770835876465,
          6.819455146789551,
          6.686366081237793,
          6.461401462554932,
          6.659065246582031,
          6.764700412750244,
          6.648047924041748,
          6.546926021575928,
          6.720865249633789,
          6.955667495727539,
          6.824247360229492,
          6.620718002319336,
          6.680876731872559,
          6.766404151916504,
          6.844398498535156,
          6.863158226013184,
          6.609955787658691,
          6.859258651733398,
          6.880077362060547,
          6.821454048156738,
          7.129549503326416,
          6.918849468231201,
          6.643631458282471,
          6.76215124130249,
          6.824887752532959,
          6.9689621925354,
          6.901586532592773,
          6.677024841308594,
          6.829620838165283,
          6.960766315460205,
          7.128200531005859,
          6.801680564880371,
          6.756640434265137,
          6.852254867553711,
          6.78338098526001,
          6.9209394454956055,
          7.155325889587402,
          6.918985366821289,
          6.769946575164795,
          7.070178985595703,
          7.079457759857178,
          6.961309909820557,
          6.824957370758057,
          6.784407615661621,
          6.743953704833984,
          6.701152324676514,
          6.981509685516357,
          7.102579116821289,
          6.982966899871826,
          6.951025009155273,
          7.095694065093994,
          6.9942626953125,
          7.019798278808594,
          7.235907554626465,
          7.232221603393555,
          7.138827323913574,
          6.94097375869751,
          7.015397071838379,
          7.038538932800293,
          7.151198863983154,
          7.093044281005859,
          7.000798225402832,
          7.011089324951172,
          6.891889572143555,
          6.8255934715271,
          6.954455375671387,
          7.327608108520508,
          7.250517845153809,
          7.079471111297607,
          7.117899417877197,
          7.231448650360107,
          7.040406703948975,
          7.015757083892822,
          7.104958534240723,
          7.1649580001831055,
          7.107038497924805,
          6.9849019050598145,
          7.2757720947265625,
          7.24957799911499,
          7.02950382232666,
          7.337815284729004,
          7.410200595855713,
          7.232963562011719,
          7.0760955810546875,
          7.288018226623535,
          7.453307628631592,
          7.37399959564209,
          7.251013278961182,
          7.245650291442871,
          7.206088066101074,
          7.233434677124023,
          7.077408790588379,
          7.156868934631348,
          7.441129684448242,
          7.293192386627197,
          7.429556369781494,
          7.418903350830078,
          7.186892986297607,
          7.555374622344971,
          7.4521918296813965,
          7.435137748718262,
          7.477951526641846,
          7.336604118347168,
          7.453939437866211,
          7.469902515411377,
          7.390527248382568,
          7.454484939575195,
          7.341391086578369,
          7.397953987121582,
          7.372188091278076,
          7.388696193695068,
          7.643857955932617,
          7.490627288818359,
          7.386409282684326,
          7.54146146774292,
          7.507193565368652,
          7.550511360168457,
          7.520902633666992,
          7.540709495544434,
          7.5254316329956055,
          7.273756980895996,
          7.456358909606934,
          7.843759059906006,
          7.557306289672852,
          7.544754981994629,
          7.690698623657227,
          7.480953693389893,
          7.404402256011963,
          7.653387069702148,
          7.701052188873291,
          7.477475643157959,
          7.280677318572998,
          7.4673967361450195,
          7.7556304931640625,
          7.642732620239258,
          7.573604583740234,
          7.648375511169434,
          7.674516201019287,
          7.74678897857666,
          7.535491466522217,
          7.53141975402832,
          7.762516975402832,
          7.7720627784729,
          7.652725696563721,
          7.668703079223633,
          7.7810282707214355,
          7.76179838180542,
          7.558979511260986,
          7.762053489685059,
          7.826048851013184,
          7.754928112030029,
          7.635097980499268,
          7.654773712158203,
          7.68818473815918,
          7.83634090423584,
          7.742328643798828,
          7.717495918273926,
          7.72695779800415,
          7.629466533660889,
          7.87382698059082,
          7.79700231552124,
          7.548964977264404,
          7.596987724304199,
          7.619710922241211,
          7.800597190856934,
          7.721156120300293,
          7.5455803871154785,
          7.762368679046631,
          7.793030738830566,
          7.645687580108643,
          7.677308082580566,
          7.9967942237854,
          8.174538612365723,
          8.008915901184082,
          7.614451885223389,
          7.768938064575195,
          7.975668907165527,
          7.883446216583252,
          7.791226387023926,
          7.697196960449219,
          7.6639533042907715,
          7.623892784118652,
          8.09705924987793,
          7.938845634460449,
          7.68337869644165,
          7.855840682983398,
          7.56331729888916,
          7.58929443359375,
          7.891856670379639,
          7.867624282836914,
          8.140473365783691,
          7.9281110763549805,
          7.852329254150391,
          8.009872436523438,
          7.980282783508301,
          7.892833709716797,
          7.828332901000977,
          8.083159446716309,
          7.711668014526367,
          7.766602516174316,
          7.968570709228516,
          7.998319625854492,
          8.174211502075195,
          7.960223197937012,
          7.993666172027588,
          8.058967590332031,
          8.052201271057129,
          8.031661987304688,
          8.147090911865234,
          8.059273719787598,
          7.9455108642578125,
          8.00026798248291,
          7.972498416900635,
          8.062182426452637,
          7.91717004776001,
          7.932757377624512,
          8.12380599975586,
          7.921727657318115,
          7.78056001663208,
          7.996030330657959,
          7.899715900421143,
          7.879669189453125,
          8.01887035369873,
          7.967713356018066,
          7.957519054412842,
          7.91920804977417,
          7.96216344833374,
          8.065284729003906,
          7.848893642425537,
          7.939642906188965,
          7.973728656768799,
          8.01545238494873,
          8.103296279907227,
          8.048601150512695,
          8.101372718811035,
          8.193974494934082,
          8.036730766296387,
          8.006878852844238,
          8.274724006652832,
          8.370615005493164,
          8.112665176391602,
          7.977736473083496,
          8.209513664245605,
          8.284980773925781,
          8.08979606628418,
          8.1290922164917,
          8.288079261779785,
          8.278467178344727,
          8.074357986450195,
          8.055680274963379,
          8.094367027282715,
          8.069012641906738,
          8.259145736694336,
          8.306479454040527,
          8.448383331298828,
          8.133792877197266,
          8.04660415649414,
          8.448517799377441,
          8.314125061035156,
          8.059679985046387,
          8.152557373046875,
          8.162073135375977,
          8.152495384216309,
          8.2701997756958,
          8.118168830871582,
          8.336548805236816,
          8.293336868286133,
          8.132745742797852,
          8.161165237426758,
          8.368545532226562,
          8.32569694519043,
          8.106440544128418,
          8.082620620727539,
          8.213380813598633,
          8.255764961242676,
          8.230053901672363,
          8.094581604003906,
          8.281352996826172,
          8.310529708862305,
          8.343232154846191,
          8.289972305297852,
          8.210182189941406,
          8.398200988769531,
          8.443597793579102,
          8.074701309204102,
          8.140119552612305,
          8.369820594787598,
          8.280768394470215,
          8.25366497039795,
          8.33837604522705,
          8.172317504882812,
          8.36690902709961,
          8.509404182434082,
          8.441259384155273,
          8.225595474243164,
          8.41243839263916,
          8.331103324890137,
          8.270820617675781,
          8.418778419494629,
          8.32446002960205,
          8.317270278930664,
          8.400372505187988,
          8.369808197021484,
          8.483808517456055,
          8.459609031677246,
          8.283567428588867,
          8.405277252197266,
          8.377763748168945,
          8.431503295898438,
          8.330065727233887,
          8.293530464172363,
          8.435955047607422,
          8.291251182556152,
          8.227025985717773,
          8.245277404785156,
          8.37570571899414,
          8.370661735534668,
          8.372401237487793,
          8.473618507385254,
          8.29758071899414,
          8.354736328125,
          8.562786102294922,
          8.607840538024902,
          8.265536308288574,
          8.385963439941406,
          8.501745223999023,
          8.715069770812988,
          8.584883689880371,
          8.521416664123535,
          8.628225326538086,
          8.711743354797363,
          8.328495979309082,
          8.474145889282227,
          8.55260944366455,
          8.386844635009766,
          8.529275894165039,
          8.446293830871582,
          8.710554122924805,
          8.688114166259766,
          8.794845581054688,
          8.588128089904785,
          8.481522560119629,
          8.679132461547852,
          8.632648468017578,
          8.534866333007812,
          8.507759094238281,
          8.710290908813477,
          8.688063621520996,
          8.576863288879395,
          8.471819877624512,
          8.61175537109375,
          8.781338691711426,
          8.385106086730957,
          8.331143379211426,
          8.489585876464844,
          8.70964241027832,
          8.582324981689453,
          8.400877952575684,
          8.279289245605469,
          8.725117683410645,
          8.914478302001953,
          8.57717227935791,
          8.524295806884766,
          8.717134475708008,
          8.55790901184082,
          8.482484817504883,
          8.654431343078613,
          8.454217910766602,
          8.652480125427246,
          8.662325859069824,
          8.623684883117676,
          8.432692527770996,
          8.454461097717285,
          8.538318634033203,
          8.530112266540527,
          8.771931648254395,
          8.707414627075195,
          8.758081436157227,
          8.588275909423828,
          8.600849151611328,
          8.757499694824219,
          8.522761344909668,
          8.471961975097656,
          8.62546443939209,
          8.651656150817871,
          8.692466735839844,
          8.548543930053711,
          8.432861328125,
          8.464391708374023,
          8.730008125305176,
          8.641441345214844,
          8.464240074157715,
          8.670798301696777,
          8.785207748413086,
          8.528749465942383,
          8.514508247375488,
          8.683886528015137,
          8.707869529724121,
          8.601728439331055,
          8.70284366607666,
          8.55663776397705,
          8.601566314697266,
          8.631314277648926,
          8.752938270568848,
          8.837371826171875,
          8.850836753845215,
          8.638117790222168,
          8.7138032913208,
          8.814302444458008,
          8.834253311157227,
          8.778944969177246,
          8.618175506591797,
          8.803974151611328,
          8.677353858947754,
          8.582626342773438,
          8.511552810668945,
          8.739578247070312,
          8.955534934997559,
          8.709344863891602,
          8.613487243652344,
          8.703904151916504,
          8.998291969299316,
          8.655742645263672,
          8.663122177124023,
          8.841821670532227,
          8.899410247802734,
          8.700155258178711,
          8.71422004699707,
          8.849308967590332,
          8.956204414367676,
          8.811483383178711,
          8.818077087402344,
          8.871702194213867,
          8.94616413116455,
          8.666584014892578,
          8.607963562011719,
          8.846296310424805,
          8.9312162399292,
          8.73403549194336,
          8.594846725463867,
          8.835184097290039,
          8.806224822998047,
          8.8895845413208,
          8.853032112121582,
          8.784823417663574,
          8.584272384643555,
          8.751259803771973,
          8.863703727722168,
          8.849398612976074,
          8.773202896118164,
          8.83907699584961,
          8.7929105758667,
          8.855807304382324,
          8.725178718566895,
          8.745462417602539,
          8.790918350219727,
          8.993577003479004,
          8.969022750854492,
          8.790847778320312,
          8.781901359558105,
          8.967348098754883,
          9.051462173461914,
          8.926300048828125,
          8.863219261169434,
          8.923966407775879,
          8.85661792755127,
          8.70302963256836,
          8.942078590393066,
          9.209073066711426,
          8.888318061828613,
          8.82166862487793,
          8.84965991973877,
          9.0604248046875,
          8.839388847351074,
          8.829948425292969,
          8.849446296691895,
          8.880492210388184,
          8.757746696472168,
          8.759255409240723,
          8.890660285949707,
          8.92082405090332,
          8.737942695617676,
          8.633379936218262,
          8.856722831726074,
          8.90397834777832,
          8.960227012634277,
          9.052851676940918,
          8.83227252960205,
          8.930451393127441,
          8.894753456115723,
          8.991010665893555,
          8.9027681350708,
          8.785111427307129,
          8.872908592224121,
          8.702678680419922,
          8.728535652160645,
          8.9224214553833,
          8.90647029876709,
          8.77468490600586,
          8.792583465576172,
          8.931611061096191,
          8.917840957641602,
          8.942394256591797,
          8.743663787841797,
          8.749930381774902,
          8.939168930053711,
          9.019458770751953,
          8.739614486694336,
          8.965145111083984,
          8.94437313079834,
          8.819921493530273,
          9.001836776733398,
          8.986631393432617,
          8.88073444366455,
          8.853741645812988,
          8.793062210083008,
          8.798906326293945,
          8.747615814208984,
          8.763601303100586,
          8.79728889465332,
          8.979631423950195,
          9.050570487976074,
          8.885411262512207,
          8.838418960571289,
          8.959708213806152,
          9.075223922729492,
          8.909414291381836,
          8.849919319152832,
          8.922242164611816,
          8.863099098205566,
          8.90046215057373,
          9.001202583312988,
          8.731850624084473,
          8.792487144470215,
          8.907611846923828,
          8.90418815612793,
          8.774428367614746,
          8.953869819641113,
          9.062077522277832,
          8.911032676696777,
          9.066642761230469,
          8.861780166625977,
          8.860061645507812,
          9.080796241760254,
          9.061492919921875,
          8.833636283874512,
          8.80505084991455,
          9.028199195861816,
          8.897332191467285,
          8.941988945007324,
          9.059908866882324,
          9.027013778686523,
          8.934477806091309,
          9.115321159362793,
          8.910185813903809,
          8.862653732299805,
          9.004988670349121,
          9.125235557556152,
          9.026575088500977,
          9.159512519836426,
          9.096473693847656,
          9.225638389587402,
          9.003365516662598,
          8.907910346984863,
          9.19607925415039,
          9.165680885314941,
          9.074275970458984,
          8.923124313354492,
          9.002887725830078,
          9.005274772644043,
          9.041834831237793,
          9.147168159484863,
          8.922959327697754,
          8.795100212097168,
          9.126949310302734,
          9.072787284851074,
          8.961036682128906,
          8.837030410766602,
          8.95994758605957,
          9.16070556640625,
          8.890822410583496,
          8.887513160705566,
          8.989236831665039,
          8.979098320007324,
          8.878029823303223,
          8.87846565246582,
          9.002248764038086,
          8.813556671142578,
          8.816746711730957,
          8.972020149230957,
          9.07229232788086,
          8.963295936584473,
          8.969568252563477,
          8.90760612487793,
          9.034645080566406,
          8.943082809448242,
          8.836947441101074,
          8.985995292663574,
          8.900647163391113,
          8.74318790435791,
          8.941963195800781,
          8.968461036682129,
          9.064393043518066,
          9.019108772277832,
          8.99107551574707,
          8.92965316772461,
          8.872637748718262,
          8.95643138885498,
          9.185332298278809,
          8.775221824645996,
          8.914708137512207,
          9.239326477050781,
          9.186052322387695,
          8.988208770751953,
          9.00048828125,
          9.1793851852417,
          9.153220176696777,
          9.171305656433105,
          9.2112398147583,
          8.991957664489746,
          9.134173393249512,
          9.03538990020752,
          9.17646312713623,
          9.108613967895508,
          8.942604064941406,
          8.966836929321289,
          9.08583927154541,
          9.304337501525879,
          9.106013298034668,
          9.055330276489258,
          9.163666725158691,
          9.007883071899414,
          9.081009864807129,
          8.820745468139648,
          8.886013984680176,
          8.879568099975586,
          8.624042510986328,
          8.827144622802734,
          9.210763931274414,
          9.203168869018555,
          9.007115364074707,
          8.936297416687012,
          9.08084774017334,
          9.191654205322266,
          9.139166831970215,
          9.148785591125488,
          9.200430870056152,
          9.22614860534668,
          8.943891525268555,
          9.00299072265625,
          8.922967910766602,
          9.015191078186035,
          9.156898498535156,
          9.000594139099121,
          9.02769947052002,
          8.9393892288208,
          9.04613208770752,
          9.162775993347168,
          9.158129692077637,
          9.124626159667969,
          9.127870559692383,
          9.209884643554688,
          9.13094425201416,
          9.284732818603516,
          9.05488395690918,
          8.907193183898926,
          9.058722496032715,
          9.280604362487793,
          9.202394485473633,
          9.217615127563477,
          9.061636924743652,
          9.092500686645508,
          9.339035987854004,
          9.41016674041748,
          9.345558166503906,
          9.220137596130371,
          9.148903846740723,
          9.285616874694824,
          9.31551742553711,
          9.054924964904785,
          9.038371086120605,
          9.247138023376465,
          9.427522659301758,
          9.227975845336914,
          8.964595794677734,
          9.149490356445312,
          9.275444984436035,
          9.266087532043457,
          8.9871187210083,
          8.916621208190918,
          9.067127227783203,
          9.148398399353027,
          9.103978157043457,
          9.087555885314941,
          8.959054946899414,
          9.203432083129883,
          9.17302417755127,
          9.12651538848877,
          9.223085403442383,
          9.250166893005371,
          9.239877700805664,
          9.115726470947266,
          9.234333038330078,
          9.356139183044434,
          9.178016662597656,
          9.207093238830566,
          9.333342552185059,
          9.255057334899902,
          9.22248649597168,
          9.236665725708008,
          9.290412902832031,
          9.121180534362793,
          9.03514575958252,
          9.102934837341309,
          9.193331718444824,
          9.20022964477539,
          9.252792358398438,
          9.548543930053711,
          9.41338062286377,
          9.29671859741211,
          9.270049095153809,
          9.158703804016113,
          9.206990242004395,
          9.302515983581543,
          8.991922378540039,
          9.10112190246582,
          9.194869041442871,
          9.09714412689209,
          8.979232788085938,
          9.08389663696289,
          9.08518123626709,
          9.070101737976074,
          9.128385543823242,
          9.07841968536377,
          9.1925687789917,
          9.144315719604492,
          9.06721305847168,
          9.140471458435059,
          9.234112739562988,
          9.346693992614746,
          9.24103832244873,
          9.12531566619873,
          9.242500305175781,
          9.355706214904785,
          9.143903732299805,
          9.347339630126953,
          9.074538230895996,
          9.01542854309082,
          9.061174392700195,
          9.213982582092285,
          9.273429870605469,
          9.16295051574707,
          9.237151145935059,
          9.205577850341797,
          9.340259552001953,
          9.319530487060547,
          9.256595611572266,
          9.373942375183105,
          9.522000312805176,
          9.384671211242676,
          9.203530311584473,
          9.253189086914062,
          9.319342613220215,
          9.263898849487305,
          9.43446159362793,
          9.261194229125977,
          9.277761459350586,
          9.179460525512695,
          9.273487091064453,
          9.35910415649414,
          9.458982467651367,
          9.24480152130127,
          9.09717082977295,
          9.19790267944336,
          9.203070640563965,
          9.228887557983398,
          9.362746238708496,
          9.419744491577148,
          9.27403736114502,
          9.335516929626465,
          9.393288612365723,
          9.414974212646484,
          9.342691421508789,
          9.338480949401855,
          9.430359840393066,
          9.38138198852539,
          9.264084815979004,
          9.357006072998047,
          9.419700622558594,
          9.428049087524414,
          9.290077209472656,
          9.334502220153809,
          9.353863716125488,
          9.35102653503418,
          9.429689407348633,
          9.327824592590332,
          9.338732719421387,
          9.220297813415527,
          9.248871803283691,
          9.46626091003418,
          9.314555168151855,
          9.277134895324707,
          9.361693382263184
         ]
        }
       ],
       "layout": {
        "template": {
         "data": {
          "bar": [
           {
            "error_x": {
             "color": "#2a3f5f"
            },
            "error_y": {
             "color": "#2a3f5f"
            },
            "marker": {
             "line": {
              "color": "#E5ECF6",
              "width": 0.5
             }
            },
            "type": "bar"
           }
          ],
          "barpolar": [
           {
            "marker": {
             "line": {
              "color": "#E5ECF6",
              "width": 0.5
             }
            },
            "type": "barpolar"
           }
          ],
          "carpet": [
           {
            "aaxis": {
             "endlinecolor": "#2a3f5f",
             "gridcolor": "white",
             "linecolor": "white",
             "minorgridcolor": "white",
             "startlinecolor": "#2a3f5f"
            },
            "baxis": {
             "endlinecolor": "#2a3f5f",
             "gridcolor": "white",
             "linecolor": "white",
             "minorgridcolor": "white",
             "startlinecolor": "#2a3f5f"
            },
            "type": "carpet"
           }
          ],
          "choropleth": [
           {
            "colorbar": {
             "outlinewidth": 0,
             "ticks": ""
            },
            "type": "choropleth"
           }
          ],
          "contour": [
           {
            "colorbar": {
             "outlinewidth": 0,
             "ticks": ""
            },
            "colorscale": [
             [
              0,
              "#0d0887"
             ],
             [
              0.1111111111111111,
              "#46039f"
             ],
             [
              0.2222222222222222,
              "#7201a8"
             ],
             [
              0.3333333333333333,
              "#9c179e"
             ],
             [
              0.4444444444444444,
              "#bd3786"
             ],
             [
              0.5555555555555556,
              "#d8576b"
             ],
             [
              0.6666666666666666,
              "#ed7953"
             ],
             [
              0.7777777777777778,
              "#fb9f3a"
             ],
             [
              0.8888888888888888,
              "#fdca26"
             ],
             [
              1,
              "#f0f921"
             ]
            ],
            "type": "contour"
           }
          ],
          "contourcarpet": [
           {
            "colorbar": {
             "outlinewidth": 0,
             "ticks": ""
            },
            "type": "contourcarpet"
           }
          ],
          "heatmap": [
           {
            "colorbar": {
             "outlinewidth": 0,
             "ticks": ""
            },
            "colorscale": [
             [
              0,
              "#0d0887"
             ],
             [
              0.1111111111111111,
              "#46039f"
             ],
             [
              0.2222222222222222,
              "#7201a8"
             ],
             [
              0.3333333333333333,
              "#9c179e"
             ],
             [
              0.4444444444444444,
              "#bd3786"
             ],
             [
              0.5555555555555556,
              "#d8576b"
             ],
             [
              0.6666666666666666,
              "#ed7953"
             ],
             [
              0.7777777777777778,
              "#fb9f3a"
             ],
             [
              0.8888888888888888,
              "#fdca26"
             ],
             [
              1,
              "#f0f921"
             ]
            ],
            "type": "heatmap"
           }
          ],
          "heatmapgl": [
           {
            "colorbar": {
             "outlinewidth": 0,
             "ticks": ""
            },
            "colorscale": [
             [
              0,
              "#0d0887"
             ],
             [
              0.1111111111111111,
              "#46039f"
             ],
             [
              0.2222222222222222,
              "#7201a8"
             ],
             [
              0.3333333333333333,
              "#9c179e"
             ],
             [
              0.4444444444444444,
              "#bd3786"
             ],
             [
              0.5555555555555556,
              "#d8576b"
             ],
             [
              0.6666666666666666,
              "#ed7953"
             ],
             [
              0.7777777777777778,
              "#fb9f3a"
             ],
             [
              0.8888888888888888,
              "#fdca26"
             ],
             [
              1,
              "#f0f921"
             ]
            ],
            "type": "heatmapgl"
           }
          ],
          "histogram": [
           {
            "marker": {
             "colorbar": {
              "outlinewidth": 0,
              "ticks": ""
             }
            },
            "type": "histogram"
           }
          ],
          "histogram2d": [
           {
            "colorbar": {
             "outlinewidth": 0,
             "ticks": ""
            },
            "colorscale": [
             [
              0,
              "#0d0887"
             ],
             [
              0.1111111111111111,
              "#46039f"
             ],
             [
              0.2222222222222222,
              "#7201a8"
             ],
             [
              0.3333333333333333,
              "#9c179e"
             ],
             [
              0.4444444444444444,
              "#bd3786"
             ],
             [
              0.5555555555555556,
              "#d8576b"
             ],
             [
              0.6666666666666666,
              "#ed7953"
             ],
             [
              0.7777777777777778,
              "#fb9f3a"
             ],
             [
              0.8888888888888888,
              "#fdca26"
             ],
             [
              1,
              "#f0f921"
             ]
            ],
            "type": "histogram2d"
           }
          ],
          "histogram2dcontour": [
           {
            "colorbar": {
             "outlinewidth": 0,
             "ticks": ""
            },
            "colorscale": [
             [
              0,
              "#0d0887"
             ],
             [
              0.1111111111111111,
              "#46039f"
             ],
             [
              0.2222222222222222,
              "#7201a8"
             ],
             [
              0.3333333333333333,
              "#9c179e"
             ],
             [
              0.4444444444444444,
              "#bd3786"
             ],
             [
              0.5555555555555556,
              "#d8576b"
             ],
             [
              0.6666666666666666,
              "#ed7953"
             ],
             [
              0.7777777777777778,
              "#fb9f3a"
             ],
             [
              0.8888888888888888,
              "#fdca26"
             ],
             [
              1,
              "#f0f921"
             ]
            ],
            "type": "histogram2dcontour"
           }
          ],
          "mesh3d": [
           {
            "colorbar": {
             "outlinewidth": 0,
             "ticks": ""
            },
            "type": "mesh3d"
           }
          ],
          "parcoords": [
           {
            "line": {
             "colorbar": {
              "outlinewidth": 0,
              "ticks": ""
             }
            },
            "type": "parcoords"
           }
          ],
          "pie": [
           {
            "automargin": true,
            "type": "pie"
           }
          ],
          "scatter": [
           {
            "marker": {
             "colorbar": {
              "outlinewidth": 0,
              "ticks": ""
             }
            },
            "type": "scatter"
           }
          ],
          "scatter3d": [
           {
            "line": {
             "colorbar": {
              "outlinewidth": 0,
              "ticks": ""
             }
            },
            "marker": {
             "colorbar": {
              "outlinewidth": 0,
              "ticks": ""
             }
            },
            "type": "scatter3d"
           }
          ],
          "scattercarpet": [
           {
            "marker": {
             "colorbar": {
              "outlinewidth": 0,
              "ticks": ""
             }
            },
            "type": "scattercarpet"
           }
          ],
          "scattergeo": [
           {
            "marker": {
             "colorbar": {
              "outlinewidth": 0,
              "ticks": ""
             }
            },
            "type": "scattergeo"
           }
          ],
          "scattergl": [
           {
            "marker": {
             "colorbar": {
              "outlinewidth": 0,
              "ticks": ""
             }
            },
            "type": "scattergl"
           }
          ],
          "scattermapbox": [
           {
            "marker": {
             "colorbar": {
              "outlinewidth": 0,
              "ticks": ""
             }
            },
            "type": "scattermapbox"
           }
          ],
          "scatterpolar": [
           {
            "marker": {
             "colorbar": {
              "outlinewidth": 0,
              "ticks": ""
             }
            },
            "type": "scatterpolar"
           }
          ],
          "scatterpolargl": [
           {
            "marker": {
             "colorbar": {
              "outlinewidth": 0,
              "ticks": ""
             }
            },
            "type": "scatterpolargl"
           }
          ],
          "scatterternary": [
           {
            "marker": {
             "colorbar": {
              "outlinewidth": 0,
              "ticks": ""
             }
            },
            "type": "scatterternary"
           }
          ],
          "surface": [
           {
            "colorbar": {
             "outlinewidth": 0,
             "ticks": ""
            },
            "colorscale": [
             [
              0,
              "#0d0887"
             ],
             [
              0.1111111111111111,
              "#46039f"
             ],
             [
              0.2222222222222222,
              "#7201a8"
             ],
             [
              0.3333333333333333,
              "#9c179e"
             ],
             [
              0.4444444444444444,
              "#bd3786"
             ],
             [
              0.5555555555555556,
              "#d8576b"
             ],
             [
              0.6666666666666666,
              "#ed7953"
             ],
             [
              0.7777777777777778,
              "#fb9f3a"
             ],
             [
              0.8888888888888888,
              "#fdca26"
             ],
             [
              1,
              "#f0f921"
             ]
            ],
            "type": "surface"
           }
          ],
          "table": [
           {
            "cells": {
             "fill": {
              "color": "#EBF0F8"
             },
             "line": {
              "color": "white"
             }
            },
            "header": {
             "fill": {
              "color": "#C8D4E3"
             },
             "line": {
              "color": "white"
             }
            },
            "type": "table"
           }
          ]
         },
         "layout": {
          "annotationdefaults": {
           "arrowcolor": "#2a3f5f",
           "arrowhead": 0,
           "arrowwidth": 1
          },
          "autotypenumbers": "strict",
          "coloraxis": {
           "colorbar": {
            "outlinewidth": 0,
            "ticks": ""
           }
          },
          "colorscale": {
           "diverging": [
            [
             0,
             "#8e0152"
            ],
            [
             0.1,
             "#c51b7d"
            ],
            [
             0.2,
             "#de77ae"
            ],
            [
             0.3,
             "#f1b6da"
            ],
            [
             0.4,
             "#fde0ef"
            ],
            [
             0.5,
             "#f7f7f7"
            ],
            [
             0.6,
             "#e6f5d0"
            ],
            [
             0.7,
             "#b8e186"
            ],
            [
             0.8,
             "#7fbc41"
            ],
            [
             0.9,
             "#4d9221"
            ],
            [
             1,
             "#276419"
            ]
           ],
           "sequential": [
            [
             0,
             "#0d0887"
            ],
            [
             0.1111111111111111,
             "#46039f"
            ],
            [
             0.2222222222222222,
             "#7201a8"
            ],
            [
             0.3333333333333333,
             "#9c179e"
            ],
            [
             0.4444444444444444,
             "#bd3786"
            ],
            [
             0.5555555555555556,
             "#d8576b"
            ],
            [
             0.6666666666666666,
             "#ed7953"
            ],
            [
             0.7777777777777778,
             "#fb9f3a"
            ],
            [
             0.8888888888888888,
             "#fdca26"
            ],
            [
             1,
             "#f0f921"
            ]
           ],
           "sequentialminus": [
            [
             0,
             "#0d0887"
            ],
            [
             0.1111111111111111,
             "#46039f"
            ],
            [
             0.2222222222222222,
             "#7201a8"
            ],
            [
             0.3333333333333333,
             "#9c179e"
            ],
            [
             0.4444444444444444,
             "#bd3786"
            ],
            [
             0.5555555555555556,
             "#d8576b"
            ],
            [
             0.6666666666666666,
             "#ed7953"
            ],
            [
             0.7777777777777778,
             "#fb9f3a"
            ],
            [
             0.8888888888888888,
             "#fdca26"
            ],
            [
             1,
             "#f0f921"
            ]
           ]
          },
          "colorway": [
           "#636efa",
           "#EF553B",
           "#00cc96",
           "#ab63fa",
           "#FFA15A",
           "#19d3f3",
           "#FF6692",
           "#B6E880",
           "#FF97FF",
           "#FECB52"
          ],
          "font": {
           "color": "#2a3f5f"
          },
          "geo": {
           "bgcolor": "white",
           "lakecolor": "white",
           "landcolor": "#E5ECF6",
           "showlakes": true,
           "showland": true,
           "subunitcolor": "white"
          },
          "hoverlabel": {
           "align": "left"
          },
          "hovermode": "closest",
          "mapbox": {
           "style": "light"
          },
          "paper_bgcolor": "white",
          "plot_bgcolor": "#E5ECF6",
          "polar": {
           "angularaxis": {
            "gridcolor": "white",
            "linecolor": "white",
            "ticks": ""
           },
           "bgcolor": "#E5ECF6",
           "radialaxis": {
            "gridcolor": "white",
            "linecolor": "white",
            "ticks": ""
           }
          },
          "scene": {
           "xaxis": {
            "backgroundcolor": "#E5ECF6",
            "gridcolor": "white",
            "gridwidth": 2,
            "linecolor": "white",
            "showbackground": true,
            "ticks": "",
            "zerolinecolor": "white"
           },
           "yaxis": {
            "backgroundcolor": "#E5ECF6",
            "gridcolor": "white",
            "gridwidth": 2,
            "linecolor": "white",
            "showbackground": true,
            "ticks": "",
            "zerolinecolor": "white"
           },
           "zaxis": {
            "backgroundcolor": "#E5ECF6",
            "gridcolor": "white",
            "gridwidth": 2,
            "linecolor": "white",
            "showbackground": true,
            "ticks": "",
            "zerolinecolor": "white"
           }
          },
          "shapedefaults": {
           "line": {
            "color": "#2a3f5f"
           }
          },
          "ternary": {
           "aaxis": {
            "gridcolor": "white",
            "linecolor": "white",
            "ticks": ""
           },
           "baxis": {
            "gridcolor": "white",
            "linecolor": "white",
            "ticks": ""
           },
           "bgcolor": "#E5ECF6",
           "caxis": {
            "gridcolor": "white",
            "linecolor": "white",
            "ticks": ""
           }
          },
          "title": {
           "x": 0.05
          },
          "xaxis": {
           "automargin": true,
           "gridcolor": "white",
           "linecolor": "white",
           "ticks": "",
           "title": {
            "standoff": 15
           },
           "zerolinecolor": "white",
           "zerolinewidth": 2
          },
          "yaxis": {
           "automargin": true,
           "gridcolor": "white",
           "linecolor": "white",
           "ticks": "",
           "title": {
            "standoff": 15
           },
           "zerolinecolor": "white",
           "zerolinewidth": 2
          }
         }
        }
       }
      },
      "text/html": [
       "<div>                            <div id=\"0c39c631-7770-428d-bfea-aaa65f5cb770\" class=\"plotly-graph-div\" style=\"height:525px; width:100%;\"></div>            <script type=\"text/javascript\">                require([\"plotly\"], function(Plotly) {                    window.PLOTLYENV=window.PLOTLYENV || {};                                    if (document.getElementById(\"0c39c631-7770-428d-bfea-aaa65f5cb770\")) {                    Plotly.newPlot(                        \"0c39c631-7770-428d-bfea-aaa65f5cb770\",                        [{\"type\": \"scatter\", \"x\": [0, 1, 2, 3, 4, 5, 6, 7, 8, 9, 10, 11, 12, 13, 14, 15, 16, 17, 18, 19, 20, 21, 22, 23, 24, 25, 26, 27, 28, 29, 30, 31, 32, 33, 34, 35, 36, 37, 38, 39, 40, 41, 42, 43, 44, 45, 46, 47, 48, 49, 50, 51, 52, 53, 54, 55, 56, 57, 58, 59, 60, 61, 62, 63, 64, 65, 66, 67, 68, 69, 70, 71, 72, 73, 74, 75, 76, 77, 78, 79, 80, 81, 82, 83, 84, 85, 86, 87, 88, 89, 90, 91, 92, 93, 94, 95, 96, 97, 98, 99, 100, 101, 102, 103, 104, 105, 106, 107, 108, 109, 110, 111, 112, 113, 114, 115, 116, 117, 118, 119, 120, 121, 122, 123, 124, 125, 126, 127, 128, 129, 130, 131, 132, 133, 134, 135, 136, 137, 138, 139, 140, 141, 142, 143, 144, 145, 146, 147, 148, 149, 150, 151, 152, 153, 154, 155, 156, 157, 158, 159, 160, 161, 162, 163, 164, 165, 166, 167, 168, 169, 170, 171, 172, 173, 174, 175, 176, 177, 178, 179, 180, 181, 182, 183, 184, 185, 186, 187, 188, 189, 190, 191, 192, 193, 194, 195, 196, 197, 198, 199, 200, 201, 202, 203, 204, 205, 206, 207, 208, 209, 210, 211, 212, 213, 214, 215, 216, 217, 218, 219, 220, 221, 222, 223, 224, 225, 226, 227, 228, 229, 230, 231, 232, 233, 234, 235, 236, 237, 238, 239, 240, 241, 242, 243, 244, 245, 246, 247, 248, 249, 250, 251, 252, 253, 254, 255, 256, 257, 258, 259, 260, 261, 262, 263, 264, 265, 266, 267, 268, 269, 270, 271, 272, 273, 274, 275, 276, 277, 278, 279, 280, 281, 282, 283, 284, 285, 286, 287, 288, 289, 290, 291, 292, 293, 294, 295, 296, 297, 298, 299, 300, 301, 302, 303, 304, 305, 306, 307, 308, 309, 310, 311, 312, 313, 314, 315, 316, 317, 318, 319, 320, 321, 322, 323, 324, 325, 326, 327, 328, 329, 330, 331, 332, 333, 334, 335, 336, 337, 338, 339, 340, 341, 342, 343, 344, 345, 346, 347, 348, 349, 350, 351, 352, 353, 354, 355, 356, 357, 358, 359, 360, 361, 362, 363, 364, 365, 366, 367, 368, 369, 370, 371, 372, 373, 374, 375, 376, 377, 378, 379, 380, 381, 382, 383, 384, 385, 386, 387, 388, 389, 390, 391, 392, 393, 394, 395, 396, 397, 398, 399, 400, 401, 402, 403, 404, 405, 406, 407, 408, 409, 410, 411, 412, 413, 414, 415, 416, 417, 418, 419, 420, 421, 422, 423, 424, 425, 426, 427, 428, 429, 430, 431, 432, 433, 434, 435, 436, 437, 438, 439, 440, 441, 442, 443, 444, 445, 446, 447, 448, 449, 450, 451, 452, 453, 454, 455, 456, 457, 458, 459, 460, 461, 462, 463, 464, 465, 466, 467, 468, 469, 470, 471, 472, 473, 474, 475, 476, 477, 478, 479, 480, 481, 482, 483, 484, 485, 486, 487, 488, 489, 490, 491, 492, 493, 494, 495, 496, 497, 498, 499, 500, 501, 502, 503, 504, 505, 506, 507, 508, 509, 510, 511, 512, 513, 514, 515, 516, 517, 518, 519, 520, 521, 522, 523, 524, 525, 526, 527, 528, 529, 530, 531, 532, 533, 534, 535, 536, 537, 538, 539, 540, 541, 542, 543, 544, 545, 546, 547, 548, 549, 550, 551, 552, 553, 554, 555, 556, 557, 558, 559, 560, 561, 562, 563, 564, 565, 566, 567, 568, 569, 570, 571, 572, 573, 574, 575, 576, 577, 578, 579, 580, 581, 582, 583, 584, 585, 586, 587, 588, 589, 590, 591, 592, 593, 594, 595, 596, 597, 598, 599, 600, 601, 602, 603, 604, 605, 606, 607, 608, 609, 610, 611, 612, 613, 614, 615, 616, 617, 618, 619, 620, 621, 622, 623, 624, 625, 626, 627, 628, 629, 630, 631, 632, 633, 634, 635, 636, 637, 638, 639, 640, 641, 642, 643, 644, 645, 646, 647, 648, 649, 650, 651, 652, 653, 654, 655, 656, 657, 658, 659, 660, 661, 662, 663, 664, 665, 666, 667, 668, 669, 670, 671, 672, 673, 674, 675, 676, 677, 678, 679, 680, 681, 682, 683, 684, 685, 686, 687, 688, 689, 690, 691, 692, 693, 694, 695, 696, 697, 698, 699, 700, 701, 702, 703, 704, 705, 706, 707, 708, 709, 710, 711, 712, 713, 714, 715, 716, 717, 718, 719, 720, 721, 722, 723, 724, 725, 726, 727, 728, 729, 730, 731, 732, 733, 734, 735, 736, 737, 738, 739, 740, 741, 742, 743, 744, 745, 746, 747, 748, 749, 750, 751, 752, 753, 754, 755, 756, 757, 758, 759, 760, 761, 762, 763, 764, 765, 766, 767, 768, 769, 770, 771, 772, 773, 774, 775, 776, 777, 778, 779, 780, 781, 782, 783, 784, 785, 786, 787, 788, 789, 790, 791, 792, 793, 794, 795, 796, 797, 798, 799, 800, 801, 802, 803, 804, 805, 806, 807, 808, 809, 810, 811, 812, 813, 814, 815, 816, 817, 818, 819, 820, 821, 822, 823, 824, 825, 826, 827, 828, 829, 830, 831, 832, 833, 834, 835, 836, 837, 838, 839, 840, 841, 842, 843, 844, 845, 846, 847, 848, 849, 850, 851, 852, 853, 854, 855, 856, 857, 858, 859, 860, 861, 862, 863, 864, 865, 866, 867, 868, 869, 870, 871, 872, 873, 874, 875, 876, 877, 878, 879, 880, 881, 882, 883, 884, 885, 886, 887, 888, 889, 890, 891, 892, 893, 894, 895, 896, 897, 898, 899], \"y\": [1.216593861579895, 2.054781436920166, 2.502671957015991, 2.921539783477783, 3.1400601863861084, 3.37148118019104, 3.4917774200439453, 3.585803270339966, 3.8124887943267822, 3.813122034072876, 3.982862710952759, 4.187078952789307, 4.363959312438965, 4.372125148773193, 4.526364803314209, 4.767603874206543, 4.608987808227539, 4.67345666885376, 4.854197978973389, 5.172161102294922, 5.21629524230957, 5.165781497955322, 5.230693817138672, 5.288013458251953, 5.273471355438232, 5.152388095855713, 5.365667819976807, 5.460720062255859, 5.508203506469727, 5.706526279449463, 5.781279563903809, 5.5469818115234375, 5.685164451599121, 5.606128692626953, 5.552289009094238, 5.551136493682861, 5.650279521942139, 5.6260528564453125, 5.66592264175415, 5.691442966461182, 5.952191352844238, 5.972938537597656, 5.776435375213623, 5.957657814025879, 5.907754898071289, 5.8221259117126465, 5.953335285186768, 6.05147123336792, 5.9853410720825195, 5.986581802368164, 5.980227947235107, 5.972428321838379, 5.837466716766357, 5.823579788208008, 5.946036338806152, 6.209292888641357, 6.151712894439697, 5.9677534103393555, 6.087501525878906, 6.118417739868164, 6.184529781341553, 6.362090587615967, 6.221530914306641, 6.1434831619262695, 6.391640663146973, 6.320185661315918, 6.1764068603515625, 6.164762496948242, 6.260995864868164, 6.450306415557861, 6.527695655822754, 6.291255474090576, 6.156310081481934, 6.2581915855407715, 6.708982467651367, 6.470216274261475, 6.331310272216797, 6.390926837921143, 6.58722448348999, 6.491957187652588, 6.225321292877197, 6.178515434265137, 6.534065246582031, 6.601130485534668, 6.536452770233154, 6.489570617675781, 6.474728584289551, 6.63083553314209, 6.588949203491211, 6.3949408531188965, 6.44597864151001, 6.5646467208862305, 6.7462382316589355, 6.7823028564453125, 6.620739936828613, 6.616089344024658, 6.689530849456787, 6.7095770835876465, 6.819455146789551, 6.686366081237793, 6.461401462554932, 6.659065246582031, 6.764700412750244, 6.648047924041748, 6.546926021575928, 6.720865249633789, 6.955667495727539, 6.824247360229492, 6.620718002319336, 6.680876731872559, 6.766404151916504, 6.844398498535156, 6.863158226013184, 6.609955787658691, 6.859258651733398, 6.880077362060547, 6.821454048156738, 7.129549503326416, 6.918849468231201, 6.643631458282471, 6.76215124130249, 6.824887752532959, 6.9689621925354, 6.901586532592773, 6.677024841308594, 6.829620838165283, 6.960766315460205, 7.128200531005859, 6.801680564880371, 6.756640434265137, 6.852254867553711, 6.78338098526001, 6.9209394454956055, 7.155325889587402, 6.918985366821289, 6.769946575164795, 7.070178985595703, 7.079457759857178, 6.961309909820557, 6.824957370758057, 6.784407615661621, 6.743953704833984, 6.701152324676514, 6.981509685516357, 7.102579116821289, 6.982966899871826, 6.951025009155273, 7.095694065093994, 6.9942626953125, 7.019798278808594, 7.235907554626465, 7.232221603393555, 7.138827323913574, 6.94097375869751, 7.015397071838379, 7.038538932800293, 7.151198863983154, 7.093044281005859, 7.000798225402832, 7.011089324951172, 6.891889572143555, 6.8255934715271, 6.954455375671387, 7.327608108520508, 7.250517845153809, 7.079471111297607, 7.117899417877197, 7.231448650360107, 7.040406703948975, 7.015757083892822, 7.104958534240723, 7.1649580001831055, 7.107038497924805, 6.9849019050598145, 7.2757720947265625, 7.24957799911499, 7.02950382232666, 7.337815284729004, 7.410200595855713, 7.232963562011719, 7.0760955810546875, 7.288018226623535, 7.453307628631592, 7.37399959564209, 7.251013278961182, 7.245650291442871, 7.206088066101074, 7.233434677124023, 7.077408790588379, 7.156868934631348, 7.441129684448242, 7.293192386627197, 7.429556369781494, 7.418903350830078, 7.186892986297607, 7.555374622344971, 7.4521918296813965, 7.435137748718262, 7.477951526641846, 7.336604118347168, 7.453939437866211, 7.469902515411377, 7.390527248382568, 7.454484939575195, 7.341391086578369, 7.397953987121582, 7.372188091278076, 7.388696193695068, 7.643857955932617, 7.490627288818359, 7.386409282684326, 7.54146146774292, 7.507193565368652, 7.550511360168457, 7.520902633666992, 7.540709495544434, 7.5254316329956055, 7.273756980895996, 7.456358909606934, 7.843759059906006, 7.557306289672852, 7.544754981994629, 7.690698623657227, 7.480953693389893, 7.404402256011963, 7.653387069702148, 7.701052188873291, 7.477475643157959, 7.280677318572998, 7.4673967361450195, 7.7556304931640625, 7.642732620239258, 7.573604583740234, 7.648375511169434, 7.674516201019287, 7.74678897857666, 7.535491466522217, 7.53141975402832, 7.762516975402832, 7.7720627784729, 7.652725696563721, 7.668703079223633, 7.7810282707214355, 7.76179838180542, 7.558979511260986, 7.762053489685059, 7.826048851013184, 7.754928112030029, 7.635097980499268, 7.654773712158203, 7.68818473815918, 7.83634090423584, 7.742328643798828, 7.717495918273926, 7.72695779800415, 7.629466533660889, 7.87382698059082, 7.79700231552124, 7.548964977264404, 7.596987724304199, 7.619710922241211, 7.800597190856934, 7.721156120300293, 7.5455803871154785, 7.762368679046631, 7.793030738830566, 7.645687580108643, 7.677308082580566, 7.9967942237854, 8.174538612365723, 8.008915901184082, 7.614451885223389, 7.768938064575195, 7.975668907165527, 7.883446216583252, 7.791226387023926, 7.697196960449219, 7.6639533042907715, 7.623892784118652, 8.09705924987793, 7.938845634460449, 7.68337869644165, 7.855840682983398, 7.56331729888916, 7.58929443359375, 7.891856670379639, 7.867624282836914, 8.140473365783691, 7.9281110763549805, 7.852329254150391, 8.009872436523438, 7.980282783508301, 7.892833709716797, 7.828332901000977, 8.083159446716309, 7.711668014526367, 7.766602516174316, 7.968570709228516, 7.998319625854492, 8.174211502075195, 7.960223197937012, 7.993666172027588, 8.058967590332031, 8.052201271057129, 8.031661987304688, 8.147090911865234, 8.059273719787598, 7.9455108642578125, 8.00026798248291, 7.972498416900635, 8.062182426452637, 7.91717004776001, 7.932757377624512, 8.12380599975586, 7.921727657318115, 7.78056001663208, 7.996030330657959, 7.899715900421143, 7.879669189453125, 8.01887035369873, 7.967713356018066, 7.957519054412842, 7.91920804977417, 7.96216344833374, 8.065284729003906, 7.848893642425537, 7.939642906188965, 7.973728656768799, 8.01545238494873, 8.103296279907227, 8.048601150512695, 8.101372718811035, 8.193974494934082, 8.036730766296387, 8.006878852844238, 8.274724006652832, 8.370615005493164, 8.112665176391602, 7.977736473083496, 8.209513664245605, 8.284980773925781, 8.08979606628418, 8.1290922164917, 8.288079261779785, 8.278467178344727, 8.074357986450195, 8.055680274963379, 8.094367027282715, 8.069012641906738, 8.259145736694336, 8.306479454040527, 8.448383331298828, 8.133792877197266, 8.04660415649414, 8.448517799377441, 8.314125061035156, 8.059679985046387, 8.152557373046875, 8.162073135375977, 8.152495384216309, 8.2701997756958, 8.118168830871582, 8.336548805236816, 8.293336868286133, 8.132745742797852, 8.161165237426758, 8.368545532226562, 8.32569694519043, 8.106440544128418, 8.082620620727539, 8.213380813598633, 8.255764961242676, 8.230053901672363, 8.094581604003906, 8.281352996826172, 8.310529708862305, 8.343232154846191, 8.289972305297852, 8.210182189941406, 8.398200988769531, 8.443597793579102, 8.074701309204102, 8.140119552612305, 8.369820594787598, 8.280768394470215, 8.25366497039795, 8.33837604522705, 8.172317504882812, 8.36690902709961, 8.509404182434082, 8.441259384155273, 8.225595474243164, 8.41243839263916, 8.331103324890137, 8.270820617675781, 8.418778419494629, 8.32446002960205, 8.317270278930664, 8.400372505187988, 8.369808197021484, 8.483808517456055, 8.459609031677246, 8.283567428588867, 8.405277252197266, 8.377763748168945, 8.431503295898438, 8.330065727233887, 8.293530464172363, 8.435955047607422, 8.291251182556152, 8.227025985717773, 8.245277404785156, 8.37570571899414, 8.370661735534668, 8.372401237487793, 8.473618507385254, 8.29758071899414, 8.354736328125, 8.562786102294922, 8.607840538024902, 8.265536308288574, 8.385963439941406, 8.501745223999023, 8.715069770812988, 8.584883689880371, 8.521416664123535, 8.628225326538086, 8.711743354797363, 8.328495979309082, 8.474145889282227, 8.55260944366455, 8.386844635009766, 8.529275894165039, 8.446293830871582, 8.710554122924805, 8.688114166259766, 8.794845581054688, 8.588128089904785, 8.481522560119629, 8.679132461547852, 8.632648468017578, 8.534866333007812, 8.507759094238281, 8.710290908813477, 8.688063621520996, 8.576863288879395, 8.471819877624512, 8.61175537109375, 8.781338691711426, 8.385106086730957, 8.331143379211426, 8.489585876464844, 8.70964241027832, 8.582324981689453, 8.400877952575684, 8.279289245605469, 8.725117683410645, 8.914478302001953, 8.57717227935791, 8.524295806884766, 8.717134475708008, 8.55790901184082, 8.482484817504883, 8.654431343078613, 8.454217910766602, 8.652480125427246, 8.662325859069824, 8.623684883117676, 8.432692527770996, 8.454461097717285, 8.538318634033203, 8.530112266540527, 8.771931648254395, 8.707414627075195, 8.758081436157227, 8.588275909423828, 8.600849151611328, 8.757499694824219, 8.522761344909668, 8.471961975097656, 8.62546443939209, 8.651656150817871, 8.692466735839844, 8.548543930053711, 8.432861328125, 8.464391708374023, 8.730008125305176, 8.641441345214844, 8.464240074157715, 8.670798301696777, 8.785207748413086, 8.528749465942383, 8.514508247375488, 8.683886528015137, 8.707869529724121, 8.601728439331055, 8.70284366607666, 8.55663776397705, 8.601566314697266, 8.631314277648926, 8.752938270568848, 8.837371826171875, 8.850836753845215, 8.638117790222168, 8.7138032913208, 8.814302444458008, 8.834253311157227, 8.778944969177246, 8.618175506591797, 8.803974151611328, 8.677353858947754, 8.582626342773438, 8.511552810668945, 8.739578247070312, 8.955534934997559, 8.709344863891602, 8.613487243652344, 8.703904151916504, 8.998291969299316, 8.655742645263672, 8.663122177124023, 8.841821670532227, 8.899410247802734, 8.700155258178711, 8.71422004699707, 8.849308967590332, 8.956204414367676, 8.811483383178711, 8.818077087402344, 8.871702194213867, 8.94616413116455, 8.666584014892578, 8.607963562011719, 8.846296310424805, 8.9312162399292, 8.73403549194336, 8.594846725463867, 8.835184097290039, 8.806224822998047, 8.8895845413208, 8.853032112121582, 8.784823417663574, 8.584272384643555, 8.751259803771973, 8.863703727722168, 8.849398612976074, 8.773202896118164, 8.83907699584961, 8.7929105758667, 8.855807304382324, 8.725178718566895, 8.745462417602539, 8.790918350219727, 8.993577003479004, 8.969022750854492, 8.790847778320312, 8.781901359558105, 8.967348098754883, 9.051462173461914, 8.926300048828125, 8.863219261169434, 8.923966407775879, 8.85661792755127, 8.70302963256836, 8.942078590393066, 9.209073066711426, 8.888318061828613, 8.82166862487793, 8.84965991973877, 9.0604248046875, 8.839388847351074, 8.829948425292969, 8.849446296691895, 8.880492210388184, 8.757746696472168, 8.759255409240723, 8.890660285949707, 8.92082405090332, 8.737942695617676, 8.633379936218262, 8.856722831726074, 8.90397834777832, 8.960227012634277, 9.052851676940918, 8.83227252960205, 8.930451393127441, 8.894753456115723, 8.991010665893555, 8.9027681350708, 8.785111427307129, 8.872908592224121, 8.702678680419922, 8.728535652160645, 8.9224214553833, 8.90647029876709, 8.77468490600586, 8.792583465576172, 8.931611061096191, 8.917840957641602, 8.942394256591797, 8.743663787841797, 8.749930381774902, 8.939168930053711, 9.019458770751953, 8.739614486694336, 8.965145111083984, 8.94437313079834, 8.819921493530273, 9.001836776733398, 8.986631393432617, 8.88073444366455, 8.853741645812988, 8.793062210083008, 8.798906326293945, 8.747615814208984, 8.763601303100586, 8.79728889465332, 8.979631423950195, 9.050570487976074, 8.885411262512207, 8.838418960571289, 8.959708213806152, 9.075223922729492, 8.909414291381836, 8.849919319152832, 8.922242164611816, 8.863099098205566, 8.90046215057373, 9.001202583312988, 8.731850624084473, 8.792487144470215, 8.907611846923828, 8.90418815612793, 8.774428367614746, 8.953869819641113, 9.062077522277832, 8.911032676696777, 9.066642761230469, 8.861780166625977, 8.860061645507812, 9.080796241760254, 9.061492919921875, 8.833636283874512, 8.80505084991455, 9.028199195861816, 8.897332191467285, 8.941988945007324, 9.059908866882324, 9.027013778686523, 8.934477806091309, 9.115321159362793, 8.910185813903809, 8.862653732299805, 9.004988670349121, 9.125235557556152, 9.026575088500977, 9.159512519836426, 9.096473693847656, 9.225638389587402, 9.003365516662598, 8.907910346984863, 9.19607925415039, 9.165680885314941, 9.074275970458984, 8.923124313354492, 9.002887725830078, 9.005274772644043, 9.041834831237793, 9.147168159484863, 8.922959327697754, 8.795100212097168, 9.126949310302734, 9.072787284851074, 8.961036682128906, 8.837030410766602, 8.95994758605957, 9.16070556640625, 8.890822410583496, 8.887513160705566, 8.989236831665039, 8.979098320007324, 8.878029823303223, 8.87846565246582, 9.002248764038086, 8.813556671142578, 8.816746711730957, 8.972020149230957, 9.07229232788086, 8.963295936584473, 8.969568252563477, 8.90760612487793, 9.034645080566406, 8.943082809448242, 8.836947441101074, 8.985995292663574, 8.900647163391113, 8.74318790435791, 8.941963195800781, 8.968461036682129, 9.064393043518066, 9.019108772277832, 8.99107551574707, 8.92965316772461, 8.872637748718262, 8.95643138885498, 9.185332298278809, 8.775221824645996, 8.914708137512207, 9.239326477050781, 9.186052322387695, 8.988208770751953, 9.00048828125, 9.1793851852417, 9.153220176696777, 9.171305656433105, 9.2112398147583, 8.991957664489746, 9.134173393249512, 9.03538990020752, 9.17646312713623, 9.108613967895508, 8.942604064941406, 8.966836929321289, 9.08583927154541, 9.304337501525879, 9.106013298034668, 9.055330276489258, 9.163666725158691, 9.007883071899414, 9.081009864807129, 8.820745468139648, 8.886013984680176, 8.879568099975586, 8.624042510986328, 8.827144622802734, 9.210763931274414, 9.203168869018555, 9.007115364074707, 8.936297416687012, 9.08084774017334, 9.191654205322266, 9.139166831970215, 9.148785591125488, 9.200430870056152, 9.22614860534668, 8.943891525268555, 9.00299072265625, 8.922967910766602, 9.015191078186035, 9.156898498535156, 9.000594139099121, 9.02769947052002, 8.9393892288208, 9.04613208770752, 9.162775993347168, 9.158129692077637, 9.124626159667969, 9.127870559692383, 9.209884643554688, 9.13094425201416, 9.284732818603516, 9.05488395690918, 8.907193183898926, 9.058722496032715, 9.280604362487793, 9.202394485473633, 9.217615127563477, 9.061636924743652, 9.092500686645508, 9.339035987854004, 9.41016674041748, 9.345558166503906, 9.220137596130371, 9.148903846740723, 9.285616874694824, 9.31551742553711, 9.054924964904785, 9.038371086120605, 9.247138023376465, 9.427522659301758, 9.227975845336914, 8.964595794677734, 9.149490356445312, 9.275444984436035, 9.266087532043457, 8.9871187210083, 8.916621208190918, 9.067127227783203, 9.148398399353027, 9.103978157043457, 9.087555885314941, 8.959054946899414, 9.203432083129883, 9.17302417755127, 9.12651538848877, 9.223085403442383, 9.250166893005371, 9.239877700805664, 9.115726470947266, 9.234333038330078, 9.356139183044434, 9.178016662597656, 9.207093238830566, 9.333342552185059, 9.255057334899902, 9.22248649597168, 9.236665725708008, 9.290412902832031, 9.121180534362793, 9.03514575958252, 9.102934837341309, 9.193331718444824, 9.20022964477539, 9.252792358398438, 9.548543930053711, 9.41338062286377, 9.29671859741211, 9.270049095153809, 9.158703804016113, 9.206990242004395, 9.302515983581543, 8.991922378540039, 9.10112190246582, 9.194869041442871, 9.09714412689209, 8.979232788085938, 9.08389663696289, 9.08518123626709, 9.070101737976074, 9.128385543823242, 9.07841968536377, 9.1925687789917, 9.144315719604492, 9.06721305847168, 9.140471458435059, 9.234112739562988, 9.346693992614746, 9.24103832244873, 9.12531566619873, 9.242500305175781, 9.355706214904785, 9.143903732299805, 9.347339630126953, 9.074538230895996, 9.01542854309082, 9.061174392700195, 9.213982582092285, 9.273429870605469, 9.16295051574707, 9.237151145935059, 9.205577850341797, 9.340259552001953, 9.319530487060547, 9.256595611572266, 9.373942375183105, 9.522000312805176, 9.384671211242676, 9.203530311584473, 9.253189086914062, 9.319342613220215, 9.263898849487305, 9.43446159362793, 9.261194229125977, 9.277761459350586, 9.179460525512695, 9.273487091064453, 9.35910415649414, 9.458982467651367, 9.24480152130127, 9.09717082977295, 9.19790267944336, 9.203070640563965, 9.228887557983398, 9.362746238708496, 9.419744491577148, 9.27403736114502, 9.335516929626465, 9.393288612365723, 9.414974212646484, 9.342691421508789, 9.338480949401855, 9.430359840393066, 9.38138198852539, 9.264084815979004, 9.357006072998047, 9.419700622558594, 9.428049087524414, 9.290077209472656, 9.334502220153809, 9.353863716125488, 9.35102653503418, 9.429689407348633, 9.327824592590332, 9.338732719421387, 9.220297813415527, 9.248871803283691, 9.46626091003418, 9.314555168151855, 9.277134895324707, 9.361693382263184]}],                        {\"template\": {\"data\": {\"bar\": [{\"error_x\": {\"color\": \"#2a3f5f\"}, \"error_y\": {\"color\": \"#2a3f5f\"}, \"marker\": {\"line\": {\"color\": \"#E5ECF6\", \"width\": 0.5}}, \"type\": \"bar\"}], \"barpolar\": [{\"marker\": {\"line\": {\"color\": \"#E5ECF6\", \"width\": 0.5}}, \"type\": \"barpolar\"}], \"carpet\": [{\"aaxis\": {\"endlinecolor\": \"#2a3f5f\", \"gridcolor\": \"white\", \"linecolor\": \"white\", \"minorgridcolor\": \"white\", \"startlinecolor\": \"#2a3f5f\"}, \"baxis\": {\"endlinecolor\": \"#2a3f5f\", \"gridcolor\": \"white\", \"linecolor\": \"white\", \"minorgridcolor\": \"white\", \"startlinecolor\": \"#2a3f5f\"}, \"type\": \"carpet\"}], \"choropleth\": [{\"colorbar\": {\"outlinewidth\": 0, \"ticks\": \"\"}, \"type\": \"choropleth\"}], \"contour\": [{\"colorbar\": {\"outlinewidth\": 0, \"ticks\": \"\"}, \"colorscale\": [[0.0, \"#0d0887\"], [0.1111111111111111, \"#46039f\"], [0.2222222222222222, \"#7201a8\"], [0.3333333333333333, \"#9c179e\"], [0.4444444444444444, \"#bd3786\"], [0.5555555555555556, \"#d8576b\"], [0.6666666666666666, \"#ed7953\"], [0.7777777777777778, \"#fb9f3a\"], [0.8888888888888888, \"#fdca26\"], [1.0, \"#f0f921\"]], \"type\": \"contour\"}], \"contourcarpet\": [{\"colorbar\": {\"outlinewidth\": 0, \"ticks\": \"\"}, \"type\": \"contourcarpet\"}], \"heatmap\": [{\"colorbar\": {\"outlinewidth\": 0, \"ticks\": \"\"}, \"colorscale\": [[0.0, \"#0d0887\"], [0.1111111111111111, \"#46039f\"], [0.2222222222222222, \"#7201a8\"], [0.3333333333333333, \"#9c179e\"], [0.4444444444444444, \"#bd3786\"], [0.5555555555555556, \"#d8576b\"], [0.6666666666666666, \"#ed7953\"], [0.7777777777777778, \"#fb9f3a\"], [0.8888888888888888, \"#fdca26\"], [1.0, \"#f0f921\"]], \"type\": \"heatmap\"}], \"heatmapgl\": [{\"colorbar\": {\"outlinewidth\": 0, \"ticks\": \"\"}, \"colorscale\": [[0.0, \"#0d0887\"], [0.1111111111111111, \"#46039f\"], [0.2222222222222222, \"#7201a8\"], [0.3333333333333333, \"#9c179e\"], [0.4444444444444444, \"#bd3786\"], [0.5555555555555556, \"#d8576b\"], [0.6666666666666666, \"#ed7953\"], [0.7777777777777778, \"#fb9f3a\"], [0.8888888888888888, \"#fdca26\"], [1.0, \"#f0f921\"]], \"type\": \"heatmapgl\"}], \"histogram\": [{\"marker\": {\"colorbar\": {\"outlinewidth\": 0, \"ticks\": \"\"}}, \"type\": \"histogram\"}], \"histogram2d\": [{\"colorbar\": {\"outlinewidth\": 0, \"ticks\": \"\"}, \"colorscale\": [[0.0, \"#0d0887\"], [0.1111111111111111, \"#46039f\"], [0.2222222222222222, \"#7201a8\"], [0.3333333333333333, \"#9c179e\"], [0.4444444444444444, \"#bd3786\"], [0.5555555555555556, \"#d8576b\"], [0.6666666666666666, \"#ed7953\"], [0.7777777777777778, \"#fb9f3a\"], [0.8888888888888888, \"#fdca26\"], [1.0, \"#f0f921\"]], \"type\": \"histogram2d\"}], \"histogram2dcontour\": [{\"colorbar\": {\"outlinewidth\": 0, \"ticks\": \"\"}, \"colorscale\": [[0.0, \"#0d0887\"], [0.1111111111111111, \"#46039f\"], [0.2222222222222222, \"#7201a8\"], [0.3333333333333333, \"#9c179e\"], [0.4444444444444444, \"#bd3786\"], [0.5555555555555556, \"#d8576b\"], [0.6666666666666666, \"#ed7953\"], [0.7777777777777778, \"#fb9f3a\"], [0.8888888888888888, \"#fdca26\"], [1.0, \"#f0f921\"]], \"type\": \"histogram2dcontour\"}], \"mesh3d\": [{\"colorbar\": {\"outlinewidth\": 0, \"ticks\": \"\"}, \"type\": \"mesh3d\"}], \"parcoords\": [{\"line\": {\"colorbar\": {\"outlinewidth\": 0, \"ticks\": \"\"}}, \"type\": \"parcoords\"}], \"pie\": [{\"automargin\": true, \"type\": \"pie\"}], \"scatter\": [{\"marker\": {\"colorbar\": {\"outlinewidth\": 0, \"ticks\": \"\"}}, \"type\": \"scatter\"}], \"scatter3d\": [{\"line\": {\"colorbar\": {\"outlinewidth\": 0, \"ticks\": \"\"}}, \"marker\": {\"colorbar\": {\"outlinewidth\": 0, \"ticks\": \"\"}}, \"type\": \"scatter3d\"}], \"scattercarpet\": [{\"marker\": {\"colorbar\": {\"outlinewidth\": 0, \"ticks\": \"\"}}, \"type\": \"scattercarpet\"}], \"scattergeo\": [{\"marker\": {\"colorbar\": {\"outlinewidth\": 0, \"ticks\": \"\"}}, \"type\": \"scattergeo\"}], \"scattergl\": [{\"marker\": {\"colorbar\": {\"outlinewidth\": 0, \"ticks\": \"\"}}, \"type\": \"scattergl\"}], \"scattermapbox\": [{\"marker\": {\"colorbar\": {\"outlinewidth\": 0, \"ticks\": \"\"}}, \"type\": \"scattermapbox\"}], \"scatterpolar\": [{\"marker\": {\"colorbar\": {\"outlinewidth\": 0, \"ticks\": \"\"}}, \"type\": \"scatterpolar\"}], \"scatterpolargl\": [{\"marker\": {\"colorbar\": {\"outlinewidth\": 0, \"ticks\": \"\"}}, \"type\": \"scatterpolargl\"}], \"scatterternary\": [{\"marker\": {\"colorbar\": {\"outlinewidth\": 0, \"ticks\": \"\"}}, \"type\": \"scatterternary\"}], \"surface\": [{\"colorbar\": {\"outlinewidth\": 0, \"ticks\": \"\"}, \"colorscale\": [[0.0, \"#0d0887\"], [0.1111111111111111, \"#46039f\"], [0.2222222222222222, \"#7201a8\"], [0.3333333333333333, \"#9c179e\"], [0.4444444444444444, \"#bd3786\"], [0.5555555555555556, \"#d8576b\"], [0.6666666666666666, \"#ed7953\"], [0.7777777777777778, \"#fb9f3a\"], [0.8888888888888888, \"#fdca26\"], [1.0, \"#f0f921\"]], \"type\": \"surface\"}], \"table\": [{\"cells\": {\"fill\": {\"color\": \"#EBF0F8\"}, \"line\": {\"color\": \"white\"}}, \"header\": {\"fill\": {\"color\": \"#C8D4E3\"}, \"line\": {\"color\": \"white\"}}, \"type\": \"table\"}]}, \"layout\": {\"annotationdefaults\": {\"arrowcolor\": \"#2a3f5f\", \"arrowhead\": 0, \"arrowwidth\": 1}, \"autotypenumbers\": \"strict\", \"coloraxis\": {\"colorbar\": {\"outlinewidth\": 0, \"ticks\": \"\"}}, \"colorscale\": {\"diverging\": [[0, \"#8e0152\"], [0.1, \"#c51b7d\"], [0.2, \"#de77ae\"], [0.3, \"#f1b6da\"], [0.4, \"#fde0ef\"], [0.5, \"#f7f7f7\"], [0.6, \"#e6f5d0\"], [0.7, \"#b8e186\"], [0.8, \"#7fbc41\"], [0.9, \"#4d9221\"], [1, \"#276419\"]], \"sequential\": [[0.0, \"#0d0887\"], [0.1111111111111111, \"#46039f\"], [0.2222222222222222, \"#7201a8\"], [0.3333333333333333, \"#9c179e\"], [0.4444444444444444, \"#bd3786\"], [0.5555555555555556, \"#d8576b\"], [0.6666666666666666, \"#ed7953\"], [0.7777777777777778, \"#fb9f3a\"], [0.8888888888888888, \"#fdca26\"], [1.0, \"#f0f921\"]], \"sequentialminus\": [[0.0, \"#0d0887\"], [0.1111111111111111, \"#46039f\"], [0.2222222222222222, \"#7201a8\"], [0.3333333333333333, \"#9c179e\"], [0.4444444444444444, \"#bd3786\"], [0.5555555555555556, \"#d8576b\"], [0.6666666666666666, \"#ed7953\"], [0.7777777777777778, \"#fb9f3a\"], [0.8888888888888888, \"#fdca26\"], [1.0, \"#f0f921\"]]}, \"colorway\": [\"#636efa\", \"#EF553B\", \"#00cc96\", \"#ab63fa\", \"#FFA15A\", \"#19d3f3\", \"#FF6692\", \"#B6E880\", \"#FF97FF\", \"#FECB52\"], \"font\": {\"color\": \"#2a3f5f\"}, \"geo\": {\"bgcolor\": \"white\", \"lakecolor\": \"white\", \"landcolor\": \"#E5ECF6\", \"showlakes\": true, \"showland\": true, \"subunitcolor\": \"white\"}, \"hoverlabel\": {\"align\": \"left\"}, \"hovermode\": \"closest\", \"mapbox\": {\"style\": \"light\"}, \"paper_bgcolor\": \"white\", \"plot_bgcolor\": \"#E5ECF6\", \"polar\": {\"angularaxis\": {\"gridcolor\": \"white\", \"linecolor\": \"white\", \"ticks\": \"\"}, \"bgcolor\": \"#E5ECF6\", \"radialaxis\": {\"gridcolor\": \"white\", \"linecolor\": \"white\", \"ticks\": \"\"}}, \"scene\": {\"xaxis\": {\"backgroundcolor\": \"#E5ECF6\", \"gridcolor\": \"white\", \"gridwidth\": 2, \"linecolor\": \"white\", \"showbackground\": true, \"ticks\": \"\", \"zerolinecolor\": \"white\"}, \"yaxis\": {\"backgroundcolor\": \"#E5ECF6\", \"gridcolor\": \"white\", \"gridwidth\": 2, \"linecolor\": \"white\", \"showbackground\": true, \"ticks\": \"\", \"zerolinecolor\": \"white\"}, \"zaxis\": {\"backgroundcolor\": \"#E5ECF6\", \"gridcolor\": \"white\", \"gridwidth\": 2, \"linecolor\": \"white\", \"showbackground\": true, \"ticks\": \"\", \"zerolinecolor\": \"white\"}}, \"shapedefaults\": {\"line\": {\"color\": \"#2a3f5f\"}}, \"ternary\": {\"aaxis\": {\"gridcolor\": \"white\", \"linecolor\": \"white\", \"ticks\": \"\"}, \"baxis\": {\"gridcolor\": \"white\", \"linecolor\": \"white\", \"ticks\": \"\"}, \"bgcolor\": \"#E5ECF6\", \"caxis\": {\"gridcolor\": \"white\", \"linecolor\": \"white\", \"ticks\": \"\"}}, \"title\": {\"x\": 0.05}, \"xaxis\": {\"automargin\": true, \"gridcolor\": \"white\", \"linecolor\": \"white\", \"ticks\": \"\", \"title\": {\"standoff\": 15}, \"zerolinecolor\": \"white\", \"zerolinewidth\": 2}, \"yaxis\": {\"automargin\": true, \"gridcolor\": \"white\", \"linecolor\": \"white\", \"ticks\": \"\", \"title\": {\"standoff\": 15}, \"zerolinecolor\": \"white\", \"zerolinewidth\": 2}}}},                        {\"responsive\": true}                    ).then(function(){\n",
       "                            \n",
       "var gd = document.getElementById('0c39c631-7770-428d-bfea-aaa65f5cb770');\n",
       "var x = new MutationObserver(function (mutations, observer) {{\n",
       "        var display = window.getComputedStyle(gd).display;\n",
       "        if (!display || display === 'none') {{\n",
       "            console.log([gd, 'removed!']);\n",
       "            Plotly.purge(gd);\n",
       "            observer.disconnect();\n",
       "        }}\n",
       "}});\n",
       "\n",
       "// Listen for the removal of the full notebook cells\n",
       "var notebookContainer = gd.closest('#notebook-container');\n",
       "if (notebookContainer) {{\n",
       "    x.observe(notebookContainer, {childList: true});\n",
       "}}\n",
       "\n",
       "// Listen for the clearing of the current output cell\n",
       "var outputEl = gd.closest('.output');\n",
       "if (outputEl) {{\n",
       "    x.observe(outputEl, {childList: true});\n",
       "}}\n",
       "\n",
       "                        })                };                });            </script>        </div>"
      ]
     },
     "metadata": {},
     "output_type": "display_data"
    }
   ],
   "source": [
    "\n",
    "fig = go.Figure(data = go.Scatter(x  = x, y = y))\n",
    "fig.show()"
   ]
  },
  {
   "cell_type": "code",
   "execution_count": 210,
   "metadata": {},
   "outputs": [
    {
     "name": "stdout",
     "output_type": "stream",
     "text": [
      "0 1.2165939 27 5.46072\n"
     ]
    }
   ],
   "source": [
    "x1,y1,x2,y2 = x[0],y[0],x[ROLL_PERIOD],y[ROLL_PERIOD]\n",
    "print(x1,y1,x2,y2)"
   ]
  },
  {
   "cell_type": "code",
   "execution_count": 211,
   "metadata": {},
   "outputs": [
    {
     "data": {
      "text/plain": [
       "4.2441263"
      ]
     },
     "execution_count": 211,
     "metadata": {},
     "output_type": "execute_result"
    }
   ],
   "source": [
    "dy = y2 - y1\n",
    "dy"
   ]
  },
  {
   "cell_type": "code",
   "execution_count": 212,
   "metadata": {},
   "outputs": [
    {
     "data": {
      "text/plain": [
       "27"
      ]
     },
     "execution_count": 212,
     "metadata": {},
     "output_type": "execute_result"
    }
   ],
   "source": [
    "dx = x2  - x1\n",
    "dx"
   ]
  },
  {
   "cell_type": "code",
   "execution_count": 213,
   "metadata": {},
   "outputs": [
    {
     "data": {
      "text/plain": [
       "0.15718986369945384"
      ]
     },
     "execution_count": 213,
     "metadata": {},
     "output_type": "execute_result"
    }
   ],
   "source": [
    "manual_grad = dy/dx\n",
    "manual_grad"
   ]
  },
  {
   "cell_type": "code",
   "execution_count": 216,
   "metadata": {},
   "outputs": [
    {
     "data": {
      "application/vnd.plotly.v1+json": {
       "config": {
        "plotlyServerURL": "https://plot.ly"
       },
       "data": [
        {
         "name": "temp anom",
         "type": "scatter",
         "x": [
          0,
          1,
          2,
          3,
          4,
          5,
          6,
          7,
          8,
          9,
          10,
          11,
          12,
          13,
          14,
          15,
          16,
          17,
          18,
          19,
          20,
          21,
          22,
          23,
          24,
          25,
          26,
          27,
          28,
          29,
          30,
          31,
          32,
          33,
          34,
          35,
          36,
          37,
          38,
          39,
          40,
          41,
          42,
          43,
          44,
          45,
          46
         ],
         "y": [
          1.216593861579895,
          2.054781436920166,
          2.502671957015991,
          2.921539783477783,
          3.1400601863861084,
          3.37148118019104,
          3.4917774200439453,
          3.585803270339966,
          3.8124887943267822,
          3.813122034072876,
          3.982862710952759,
          4.187078952789307,
          4.363959312438965,
          4.372125148773193,
          4.526364803314209,
          4.767603874206543,
          4.608987808227539,
          4.67345666885376,
          4.854197978973389,
          5.172161102294922,
          5.21629524230957,
          5.165781497955322,
          5.230693817138672,
          5.288013458251953,
          5.273471355438232,
          5.152388095855713,
          5.365667819976807,
          5.460720062255859,
          5.508203506469727,
          5.706526279449463,
          5.781279563903809,
          5.5469818115234375,
          5.685164451599121,
          5.606128692626953,
          5.552289009094238,
          5.551136493682861,
          5.650279521942139,
          5.6260528564453125,
          5.66592264175415,
          5.691442966461182,
          5.952191352844238,
          5.972938537597656,
          5.776435375213623,
          5.957657814025879,
          5.907754898071289,
          5.8221259117126465,
          5.953335285186768
         ]
        },
        {
         "name": "trend line",
         "type": "scatter",
         "x": [
          0,
          27
         ],
         "y": [
          1.216593861579895,
          5.460720062255859
         ]
        }
       ],
       "layout": {
        "template": {
         "data": {
          "bar": [
           {
            "error_x": {
             "color": "#2a3f5f"
            },
            "error_y": {
             "color": "#2a3f5f"
            },
            "marker": {
             "line": {
              "color": "#E5ECF6",
              "width": 0.5
             }
            },
            "type": "bar"
           }
          ],
          "barpolar": [
           {
            "marker": {
             "line": {
              "color": "#E5ECF6",
              "width": 0.5
             }
            },
            "type": "barpolar"
           }
          ],
          "carpet": [
           {
            "aaxis": {
             "endlinecolor": "#2a3f5f",
             "gridcolor": "white",
             "linecolor": "white",
             "minorgridcolor": "white",
             "startlinecolor": "#2a3f5f"
            },
            "baxis": {
             "endlinecolor": "#2a3f5f",
             "gridcolor": "white",
             "linecolor": "white",
             "minorgridcolor": "white",
             "startlinecolor": "#2a3f5f"
            },
            "type": "carpet"
           }
          ],
          "choropleth": [
           {
            "colorbar": {
             "outlinewidth": 0,
             "ticks": ""
            },
            "type": "choropleth"
           }
          ],
          "contour": [
           {
            "colorbar": {
             "outlinewidth": 0,
             "ticks": ""
            },
            "colorscale": [
             [
              0,
              "#0d0887"
             ],
             [
              0.1111111111111111,
              "#46039f"
             ],
             [
              0.2222222222222222,
              "#7201a8"
             ],
             [
              0.3333333333333333,
              "#9c179e"
             ],
             [
              0.4444444444444444,
              "#bd3786"
             ],
             [
              0.5555555555555556,
              "#d8576b"
             ],
             [
              0.6666666666666666,
              "#ed7953"
             ],
             [
              0.7777777777777778,
              "#fb9f3a"
             ],
             [
              0.8888888888888888,
              "#fdca26"
             ],
             [
              1,
              "#f0f921"
             ]
            ],
            "type": "contour"
           }
          ],
          "contourcarpet": [
           {
            "colorbar": {
             "outlinewidth": 0,
             "ticks": ""
            },
            "type": "contourcarpet"
           }
          ],
          "heatmap": [
           {
            "colorbar": {
             "outlinewidth": 0,
             "ticks": ""
            },
            "colorscale": [
             [
              0,
              "#0d0887"
             ],
             [
              0.1111111111111111,
              "#46039f"
             ],
             [
              0.2222222222222222,
              "#7201a8"
             ],
             [
              0.3333333333333333,
              "#9c179e"
             ],
             [
              0.4444444444444444,
              "#bd3786"
             ],
             [
              0.5555555555555556,
              "#d8576b"
             ],
             [
              0.6666666666666666,
              "#ed7953"
             ],
             [
              0.7777777777777778,
              "#fb9f3a"
             ],
             [
              0.8888888888888888,
              "#fdca26"
             ],
             [
              1,
              "#f0f921"
             ]
            ],
            "type": "heatmap"
           }
          ],
          "heatmapgl": [
           {
            "colorbar": {
             "outlinewidth": 0,
             "ticks": ""
            },
            "colorscale": [
             [
              0,
              "#0d0887"
             ],
             [
              0.1111111111111111,
              "#46039f"
             ],
             [
              0.2222222222222222,
              "#7201a8"
             ],
             [
              0.3333333333333333,
              "#9c179e"
             ],
             [
              0.4444444444444444,
              "#bd3786"
             ],
             [
              0.5555555555555556,
              "#d8576b"
             ],
             [
              0.6666666666666666,
              "#ed7953"
             ],
             [
              0.7777777777777778,
              "#fb9f3a"
             ],
             [
              0.8888888888888888,
              "#fdca26"
             ],
             [
              1,
              "#f0f921"
             ]
            ],
            "type": "heatmapgl"
           }
          ],
          "histogram": [
           {
            "marker": {
             "colorbar": {
              "outlinewidth": 0,
              "ticks": ""
             }
            },
            "type": "histogram"
           }
          ],
          "histogram2d": [
           {
            "colorbar": {
             "outlinewidth": 0,
             "ticks": ""
            },
            "colorscale": [
             [
              0,
              "#0d0887"
             ],
             [
              0.1111111111111111,
              "#46039f"
             ],
             [
              0.2222222222222222,
              "#7201a8"
             ],
             [
              0.3333333333333333,
              "#9c179e"
             ],
             [
              0.4444444444444444,
              "#bd3786"
             ],
             [
              0.5555555555555556,
              "#d8576b"
             ],
             [
              0.6666666666666666,
              "#ed7953"
             ],
             [
              0.7777777777777778,
              "#fb9f3a"
             ],
             [
              0.8888888888888888,
              "#fdca26"
             ],
             [
              1,
              "#f0f921"
             ]
            ],
            "type": "histogram2d"
           }
          ],
          "histogram2dcontour": [
           {
            "colorbar": {
             "outlinewidth": 0,
             "ticks": ""
            },
            "colorscale": [
             [
              0,
              "#0d0887"
             ],
             [
              0.1111111111111111,
              "#46039f"
             ],
             [
              0.2222222222222222,
              "#7201a8"
             ],
             [
              0.3333333333333333,
              "#9c179e"
             ],
             [
              0.4444444444444444,
              "#bd3786"
             ],
             [
              0.5555555555555556,
              "#d8576b"
             ],
             [
              0.6666666666666666,
              "#ed7953"
             ],
             [
              0.7777777777777778,
              "#fb9f3a"
             ],
             [
              0.8888888888888888,
              "#fdca26"
             ],
             [
              1,
              "#f0f921"
             ]
            ],
            "type": "histogram2dcontour"
           }
          ],
          "mesh3d": [
           {
            "colorbar": {
             "outlinewidth": 0,
             "ticks": ""
            },
            "type": "mesh3d"
           }
          ],
          "parcoords": [
           {
            "line": {
             "colorbar": {
              "outlinewidth": 0,
              "ticks": ""
             }
            },
            "type": "parcoords"
           }
          ],
          "pie": [
           {
            "automargin": true,
            "type": "pie"
           }
          ],
          "scatter": [
           {
            "marker": {
             "colorbar": {
              "outlinewidth": 0,
              "ticks": ""
             }
            },
            "type": "scatter"
           }
          ],
          "scatter3d": [
           {
            "line": {
             "colorbar": {
              "outlinewidth": 0,
              "ticks": ""
             }
            },
            "marker": {
             "colorbar": {
              "outlinewidth": 0,
              "ticks": ""
             }
            },
            "type": "scatter3d"
           }
          ],
          "scattercarpet": [
           {
            "marker": {
             "colorbar": {
              "outlinewidth": 0,
              "ticks": ""
             }
            },
            "type": "scattercarpet"
           }
          ],
          "scattergeo": [
           {
            "marker": {
             "colorbar": {
              "outlinewidth": 0,
              "ticks": ""
             }
            },
            "type": "scattergeo"
           }
          ],
          "scattergl": [
           {
            "marker": {
             "colorbar": {
              "outlinewidth": 0,
              "ticks": ""
             }
            },
            "type": "scattergl"
           }
          ],
          "scattermapbox": [
           {
            "marker": {
             "colorbar": {
              "outlinewidth": 0,
              "ticks": ""
             }
            },
            "type": "scattermapbox"
           }
          ],
          "scatterpolar": [
           {
            "marker": {
             "colorbar": {
              "outlinewidth": 0,
              "ticks": ""
             }
            },
            "type": "scatterpolar"
           }
          ],
          "scatterpolargl": [
           {
            "marker": {
             "colorbar": {
              "outlinewidth": 0,
              "ticks": ""
             }
            },
            "type": "scatterpolargl"
           }
          ],
          "scatterternary": [
           {
            "marker": {
             "colorbar": {
              "outlinewidth": 0,
              "ticks": ""
             }
            },
            "type": "scatterternary"
           }
          ],
          "surface": [
           {
            "colorbar": {
             "outlinewidth": 0,
             "ticks": ""
            },
            "colorscale": [
             [
              0,
              "#0d0887"
             ],
             [
              0.1111111111111111,
              "#46039f"
             ],
             [
              0.2222222222222222,
              "#7201a8"
             ],
             [
              0.3333333333333333,
              "#9c179e"
             ],
             [
              0.4444444444444444,
              "#bd3786"
             ],
             [
              0.5555555555555556,
              "#d8576b"
             ],
             [
              0.6666666666666666,
              "#ed7953"
             ],
             [
              0.7777777777777778,
              "#fb9f3a"
             ],
             [
              0.8888888888888888,
              "#fdca26"
             ],
             [
              1,
              "#f0f921"
             ]
            ],
            "type": "surface"
           }
          ],
          "table": [
           {
            "cells": {
             "fill": {
              "color": "#EBF0F8"
             },
             "line": {
              "color": "white"
             }
            },
            "header": {
             "fill": {
              "color": "#C8D4E3"
             },
             "line": {
              "color": "white"
             }
            },
            "type": "table"
           }
          ]
         },
         "layout": {
          "annotationdefaults": {
           "arrowcolor": "#2a3f5f",
           "arrowhead": 0,
           "arrowwidth": 1
          },
          "autotypenumbers": "strict",
          "coloraxis": {
           "colorbar": {
            "outlinewidth": 0,
            "ticks": ""
           }
          },
          "colorscale": {
           "diverging": [
            [
             0,
             "#8e0152"
            ],
            [
             0.1,
             "#c51b7d"
            ],
            [
             0.2,
             "#de77ae"
            ],
            [
             0.3,
             "#f1b6da"
            ],
            [
             0.4,
             "#fde0ef"
            ],
            [
             0.5,
             "#f7f7f7"
            ],
            [
             0.6,
             "#e6f5d0"
            ],
            [
             0.7,
             "#b8e186"
            ],
            [
             0.8,
             "#7fbc41"
            ],
            [
             0.9,
             "#4d9221"
            ],
            [
             1,
             "#276419"
            ]
           ],
           "sequential": [
            [
             0,
             "#0d0887"
            ],
            [
             0.1111111111111111,
             "#46039f"
            ],
            [
             0.2222222222222222,
             "#7201a8"
            ],
            [
             0.3333333333333333,
             "#9c179e"
            ],
            [
             0.4444444444444444,
             "#bd3786"
            ],
            [
             0.5555555555555556,
             "#d8576b"
            ],
            [
             0.6666666666666666,
             "#ed7953"
            ],
            [
             0.7777777777777778,
             "#fb9f3a"
            ],
            [
             0.8888888888888888,
             "#fdca26"
            ],
            [
             1,
             "#f0f921"
            ]
           ],
           "sequentialminus": [
            [
             0,
             "#0d0887"
            ],
            [
             0.1111111111111111,
             "#46039f"
            ],
            [
             0.2222222222222222,
             "#7201a8"
            ],
            [
             0.3333333333333333,
             "#9c179e"
            ],
            [
             0.4444444444444444,
             "#bd3786"
            ],
            [
             0.5555555555555556,
             "#d8576b"
            ],
            [
             0.6666666666666666,
             "#ed7953"
            ],
            [
             0.7777777777777778,
             "#fb9f3a"
            ],
            [
             0.8888888888888888,
             "#fdca26"
            ],
            [
             1,
             "#f0f921"
            ]
           ]
          },
          "colorway": [
           "#636efa",
           "#EF553B",
           "#00cc96",
           "#ab63fa",
           "#FFA15A",
           "#19d3f3",
           "#FF6692",
           "#B6E880",
           "#FF97FF",
           "#FECB52"
          ],
          "font": {
           "color": "#2a3f5f"
          },
          "geo": {
           "bgcolor": "white",
           "lakecolor": "white",
           "landcolor": "#E5ECF6",
           "showlakes": true,
           "showland": true,
           "subunitcolor": "white"
          },
          "hoverlabel": {
           "align": "left"
          },
          "hovermode": "closest",
          "mapbox": {
           "style": "light"
          },
          "paper_bgcolor": "white",
          "plot_bgcolor": "#E5ECF6",
          "polar": {
           "angularaxis": {
            "gridcolor": "white",
            "linecolor": "white",
            "ticks": ""
           },
           "bgcolor": "#E5ECF6",
           "radialaxis": {
            "gridcolor": "white",
            "linecolor": "white",
            "ticks": ""
           }
          },
          "scene": {
           "xaxis": {
            "backgroundcolor": "#E5ECF6",
            "gridcolor": "white",
            "gridwidth": 2,
            "linecolor": "white",
            "showbackground": true,
            "ticks": "",
            "zerolinecolor": "white"
           },
           "yaxis": {
            "backgroundcolor": "#E5ECF6",
            "gridcolor": "white",
            "gridwidth": 2,
            "linecolor": "white",
            "showbackground": true,
            "ticks": "",
            "zerolinecolor": "white"
           },
           "zaxis": {
            "backgroundcolor": "#E5ECF6",
            "gridcolor": "white",
            "gridwidth": 2,
            "linecolor": "white",
            "showbackground": true,
            "ticks": "",
            "zerolinecolor": "white"
           }
          },
          "shapedefaults": {
           "line": {
            "color": "#2a3f5f"
           }
          },
          "ternary": {
           "aaxis": {
            "gridcolor": "white",
            "linecolor": "white",
            "ticks": ""
           },
           "baxis": {
            "gridcolor": "white",
            "linecolor": "white",
            "ticks": ""
           },
           "bgcolor": "#E5ECF6",
           "caxis": {
            "gridcolor": "white",
            "linecolor": "white",
            "ticks": ""
           }
          },
          "title": {
           "x": 0.05
          },
          "xaxis": {
           "automargin": true,
           "gridcolor": "white",
           "linecolor": "white",
           "ticks": "",
           "title": {
            "standoff": 15
           },
           "zerolinecolor": "white",
           "zerolinewidth": 2
          },
          "yaxis": {
           "automargin": true,
           "gridcolor": "white",
           "linecolor": "white",
           "ticks": "",
           "title": {
            "standoff": 15
           },
           "zerolinecolor": "white",
           "zerolinewidth": 2
          }
         }
        }
       }
      },
      "text/html": [
       "<div>                            <div id=\"f7123e40-d0a2-4490-97b4-2583274e5efb\" class=\"plotly-graph-div\" style=\"height:525px; width:100%;\"></div>            <script type=\"text/javascript\">                require([\"plotly\"], function(Plotly) {                    window.PLOTLYENV=window.PLOTLYENV || {};                                    if (document.getElementById(\"f7123e40-d0a2-4490-97b4-2583274e5efb\")) {                    Plotly.newPlot(                        \"f7123e40-d0a2-4490-97b4-2583274e5efb\",                        [{\"name\": \"temp anom\", \"type\": \"scatter\", \"x\": [0, 1, 2, 3, 4, 5, 6, 7, 8, 9, 10, 11, 12, 13, 14, 15, 16, 17, 18, 19, 20, 21, 22, 23, 24, 25, 26, 27, 28, 29, 30, 31, 32, 33, 34, 35, 36, 37, 38, 39, 40, 41, 42, 43, 44, 45, 46], \"y\": [1.216593861579895, 2.054781436920166, 2.502671957015991, 2.921539783477783, 3.1400601863861084, 3.37148118019104, 3.4917774200439453, 3.585803270339966, 3.8124887943267822, 3.813122034072876, 3.982862710952759, 4.187078952789307, 4.363959312438965, 4.372125148773193, 4.526364803314209, 4.767603874206543, 4.608987808227539, 4.67345666885376, 4.854197978973389, 5.172161102294922, 5.21629524230957, 5.165781497955322, 5.230693817138672, 5.288013458251953, 5.273471355438232, 5.152388095855713, 5.365667819976807, 5.460720062255859, 5.508203506469727, 5.706526279449463, 5.781279563903809, 5.5469818115234375, 5.685164451599121, 5.606128692626953, 5.552289009094238, 5.551136493682861, 5.650279521942139, 5.6260528564453125, 5.66592264175415, 5.691442966461182, 5.952191352844238, 5.972938537597656, 5.776435375213623, 5.957657814025879, 5.907754898071289, 5.8221259117126465, 5.953335285186768]}, {\"name\": \"trend line\", \"type\": \"scatter\", \"x\": [0, 27], \"y\": [1.216593861579895, 5.460720062255859]}],                        {\"template\": {\"data\": {\"bar\": [{\"error_x\": {\"color\": \"#2a3f5f\"}, \"error_y\": {\"color\": \"#2a3f5f\"}, \"marker\": {\"line\": {\"color\": \"#E5ECF6\", \"width\": 0.5}}, \"type\": \"bar\"}], \"barpolar\": [{\"marker\": {\"line\": {\"color\": \"#E5ECF6\", \"width\": 0.5}}, \"type\": \"barpolar\"}], \"carpet\": [{\"aaxis\": {\"endlinecolor\": \"#2a3f5f\", \"gridcolor\": \"white\", \"linecolor\": \"white\", \"minorgridcolor\": \"white\", \"startlinecolor\": \"#2a3f5f\"}, \"baxis\": {\"endlinecolor\": \"#2a3f5f\", \"gridcolor\": \"white\", \"linecolor\": \"white\", \"minorgridcolor\": \"white\", \"startlinecolor\": \"#2a3f5f\"}, \"type\": \"carpet\"}], \"choropleth\": [{\"colorbar\": {\"outlinewidth\": 0, \"ticks\": \"\"}, \"type\": \"choropleth\"}], \"contour\": [{\"colorbar\": {\"outlinewidth\": 0, \"ticks\": \"\"}, \"colorscale\": [[0.0, \"#0d0887\"], [0.1111111111111111, \"#46039f\"], [0.2222222222222222, \"#7201a8\"], [0.3333333333333333, \"#9c179e\"], [0.4444444444444444, \"#bd3786\"], [0.5555555555555556, \"#d8576b\"], [0.6666666666666666, \"#ed7953\"], [0.7777777777777778, \"#fb9f3a\"], [0.8888888888888888, \"#fdca26\"], [1.0, \"#f0f921\"]], \"type\": \"contour\"}], \"contourcarpet\": [{\"colorbar\": {\"outlinewidth\": 0, \"ticks\": \"\"}, \"type\": \"contourcarpet\"}], \"heatmap\": [{\"colorbar\": {\"outlinewidth\": 0, \"ticks\": \"\"}, \"colorscale\": [[0.0, \"#0d0887\"], [0.1111111111111111, \"#46039f\"], [0.2222222222222222, \"#7201a8\"], [0.3333333333333333, \"#9c179e\"], [0.4444444444444444, \"#bd3786\"], [0.5555555555555556, \"#d8576b\"], [0.6666666666666666, \"#ed7953\"], [0.7777777777777778, \"#fb9f3a\"], [0.8888888888888888, \"#fdca26\"], [1.0, \"#f0f921\"]], \"type\": \"heatmap\"}], \"heatmapgl\": [{\"colorbar\": {\"outlinewidth\": 0, \"ticks\": \"\"}, \"colorscale\": [[0.0, \"#0d0887\"], [0.1111111111111111, \"#46039f\"], [0.2222222222222222, \"#7201a8\"], [0.3333333333333333, \"#9c179e\"], [0.4444444444444444, \"#bd3786\"], [0.5555555555555556, \"#d8576b\"], [0.6666666666666666, \"#ed7953\"], [0.7777777777777778, \"#fb9f3a\"], [0.8888888888888888, \"#fdca26\"], [1.0, \"#f0f921\"]], \"type\": \"heatmapgl\"}], \"histogram\": [{\"marker\": {\"colorbar\": {\"outlinewidth\": 0, \"ticks\": \"\"}}, \"type\": \"histogram\"}], \"histogram2d\": [{\"colorbar\": {\"outlinewidth\": 0, \"ticks\": \"\"}, \"colorscale\": [[0.0, \"#0d0887\"], [0.1111111111111111, \"#46039f\"], [0.2222222222222222, \"#7201a8\"], [0.3333333333333333, \"#9c179e\"], [0.4444444444444444, \"#bd3786\"], [0.5555555555555556, \"#d8576b\"], [0.6666666666666666, \"#ed7953\"], [0.7777777777777778, \"#fb9f3a\"], [0.8888888888888888, \"#fdca26\"], [1.0, \"#f0f921\"]], \"type\": \"histogram2d\"}], \"histogram2dcontour\": [{\"colorbar\": {\"outlinewidth\": 0, \"ticks\": \"\"}, \"colorscale\": [[0.0, \"#0d0887\"], [0.1111111111111111, \"#46039f\"], [0.2222222222222222, \"#7201a8\"], [0.3333333333333333, \"#9c179e\"], [0.4444444444444444, \"#bd3786\"], [0.5555555555555556, \"#d8576b\"], [0.6666666666666666, \"#ed7953\"], [0.7777777777777778, \"#fb9f3a\"], [0.8888888888888888, \"#fdca26\"], [1.0, \"#f0f921\"]], \"type\": \"histogram2dcontour\"}], \"mesh3d\": [{\"colorbar\": {\"outlinewidth\": 0, \"ticks\": \"\"}, \"type\": \"mesh3d\"}], \"parcoords\": [{\"line\": {\"colorbar\": {\"outlinewidth\": 0, \"ticks\": \"\"}}, \"type\": \"parcoords\"}], \"pie\": [{\"automargin\": true, \"type\": \"pie\"}], \"scatter\": [{\"marker\": {\"colorbar\": {\"outlinewidth\": 0, \"ticks\": \"\"}}, \"type\": \"scatter\"}], \"scatter3d\": [{\"line\": {\"colorbar\": {\"outlinewidth\": 0, \"ticks\": \"\"}}, \"marker\": {\"colorbar\": {\"outlinewidth\": 0, \"ticks\": \"\"}}, \"type\": \"scatter3d\"}], \"scattercarpet\": [{\"marker\": {\"colorbar\": {\"outlinewidth\": 0, \"ticks\": \"\"}}, \"type\": \"scattercarpet\"}], \"scattergeo\": [{\"marker\": {\"colorbar\": {\"outlinewidth\": 0, \"ticks\": \"\"}}, \"type\": \"scattergeo\"}], \"scattergl\": [{\"marker\": {\"colorbar\": {\"outlinewidth\": 0, \"ticks\": \"\"}}, \"type\": \"scattergl\"}], \"scattermapbox\": [{\"marker\": {\"colorbar\": {\"outlinewidth\": 0, \"ticks\": \"\"}}, \"type\": \"scattermapbox\"}], \"scatterpolar\": [{\"marker\": {\"colorbar\": {\"outlinewidth\": 0, \"ticks\": \"\"}}, \"type\": \"scatterpolar\"}], \"scatterpolargl\": [{\"marker\": {\"colorbar\": {\"outlinewidth\": 0, \"ticks\": \"\"}}, \"type\": \"scatterpolargl\"}], \"scatterternary\": [{\"marker\": {\"colorbar\": {\"outlinewidth\": 0, \"ticks\": \"\"}}, \"type\": \"scatterternary\"}], \"surface\": [{\"colorbar\": {\"outlinewidth\": 0, \"ticks\": \"\"}, \"colorscale\": [[0.0, \"#0d0887\"], [0.1111111111111111, \"#46039f\"], [0.2222222222222222, \"#7201a8\"], [0.3333333333333333, \"#9c179e\"], [0.4444444444444444, \"#bd3786\"], [0.5555555555555556, \"#d8576b\"], [0.6666666666666666, \"#ed7953\"], [0.7777777777777778, \"#fb9f3a\"], [0.8888888888888888, \"#fdca26\"], [1.0, \"#f0f921\"]], \"type\": \"surface\"}], \"table\": [{\"cells\": {\"fill\": {\"color\": \"#EBF0F8\"}, \"line\": {\"color\": \"white\"}}, \"header\": {\"fill\": {\"color\": \"#C8D4E3\"}, \"line\": {\"color\": \"white\"}}, \"type\": \"table\"}]}, \"layout\": {\"annotationdefaults\": {\"arrowcolor\": \"#2a3f5f\", \"arrowhead\": 0, \"arrowwidth\": 1}, \"autotypenumbers\": \"strict\", \"coloraxis\": {\"colorbar\": {\"outlinewidth\": 0, \"ticks\": \"\"}}, \"colorscale\": {\"diverging\": [[0, \"#8e0152\"], [0.1, \"#c51b7d\"], [0.2, \"#de77ae\"], [0.3, \"#f1b6da\"], [0.4, \"#fde0ef\"], [0.5, \"#f7f7f7\"], [0.6, \"#e6f5d0\"], [0.7, \"#b8e186\"], [0.8, \"#7fbc41\"], [0.9, \"#4d9221\"], [1, \"#276419\"]], \"sequential\": [[0.0, \"#0d0887\"], [0.1111111111111111, \"#46039f\"], [0.2222222222222222, \"#7201a8\"], [0.3333333333333333, \"#9c179e\"], [0.4444444444444444, \"#bd3786\"], [0.5555555555555556, \"#d8576b\"], [0.6666666666666666, \"#ed7953\"], [0.7777777777777778, \"#fb9f3a\"], [0.8888888888888888, \"#fdca26\"], [1.0, \"#f0f921\"]], \"sequentialminus\": [[0.0, \"#0d0887\"], [0.1111111111111111, \"#46039f\"], [0.2222222222222222, \"#7201a8\"], [0.3333333333333333, \"#9c179e\"], [0.4444444444444444, \"#bd3786\"], [0.5555555555555556, \"#d8576b\"], [0.6666666666666666, \"#ed7953\"], [0.7777777777777778, \"#fb9f3a\"], [0.8888888888888888, \"#fdca26\"], [1.0, \"#f0f921\"]]}, \"colorway\": [\"#636efa\", \"#EF553B\", \"#00cc96\", \"#ab63fa\", \"#FFA15A\", \"#19d3f3\", \"#FF6692\", \"#B6E880\", \"#FF97FF\", \"#FECB52\"], \"font\": {\"color\": \"#2a3f5f\"}, \"geo\": {\"bgcolor\": \"white\", \"lakecolor\": \"white\", \"landcolor\": \"#E5ECF6\", \"showlakes\": true, \"showland\": true, \"subunitcolor\": \"white\"}, \"hoverlabel\": {\"align\": \"left\"}, \"hovermode\": \"closest\", \"mapbox\": {\"style\": \"light\"}, \"paper_bgcolor\": \"white\", \"plot_bgcolor\": \"#E5ECF6\", \"polar\": {\"angularaxis\": {\"gridcolor\": \"white\", \"linecolor\": \"white\", \"ticks\": \"\"}, \"bgcolor\": \"#E5ECF6\", \"radialaxis\": {\"gridcolor\": \"white\", \"linecolor\": \"white\", \"ticks\": \"\"}}, \"scene\": {\"xaxis\": {\"backgroundcolor\": \"#E5ECF6\", \"gridcolor\": \"white\", \"gridwidth\": 2, \"linecolor\": \"white\", \"showbackground\": true, \"ticks\": \"\", \"zerolinecolor\": \"white\"}, \"yaxis\": {\"backgroundcolor\": \"#E5ECF6\", \"gridcolor\": \"white\", \"gridwidth\": 2, \"linecolor\": \"white\", \"showbackground\": true, \"ticks\": \"\", \"zerolinecolor\": \"white\"}, \"zaxis\": {\"backgroundcolor\": \"#E5ECF6\", \"gridcolor\": \"white\", \"gridwidth\": 2, \"linecolor\": \"white\", \"showbackground\": true, \"ticks\": \"\", \"zerolinecolor\": \"white\"}}, \"shapedefaults\": {\"line\": {\"color\": \"#2a3f5f\"}}, \"ternary\": {\"aaxis\": {\"gridcolor\": \"white\", \"linecolor\": \"white\", \"ticks\": \"\"}, \"baxis\": {\"gridcolor\": \"white\", \"linecolor\": \"white\", \"ticks\": \"\"}, \"bgcolor\": \"#E5ECF6\", \"caxis\": {\"gridcolor\": \"white\", \"linecolor\": \"white\", \"ticks\": \"\"}}, \"title\": {\"x\": 0.05}, \"xaxis\": {\"automargin\": true, \"gridcolor\": \"white\", \"linecolor\": \"white\", \"ticks\": \"\", \"title\": {\"standoff\": 15}, \"zerolinecolor\": \"white\", \"zerolinewidth\": 2}, \"yaxis\": {\"automargin\": true, \"gridcolor\": \"white\", \"linecolor\": \"white\", \"ticks\": \"\", \"title\": {\"standoff\": 15}, \"zerolinecolor\": \"white\", \"zerolinewidth\": 2}}}},                        {\"responsive\": true}                    ).then(function(){\n",
       "                            \n",
       "var gd = document.getElementById('f7123e40-d0a2-4490-97b4-2583274e5efb');\n",
       "var x = new MutationObserver(function (mutations, observer) {{\n",
       "        var display = window.getComputedStyle(gd).display;\n",
       "        if (!display || display === 'none') {{\n",
       "            console.log([gd, 'removed!']);\n",
       "            Plotly.purge(gd);\n",
       "            observer.disconnect();\n",
       "        }}\n",
       "}});\n",
       "\n",
       "// Listen for the removal of the full notebook cells\n",
       "var notebookContainer = gd.closest('#notebook-container');\n",
       "if (notebookContainer) {{\n",
       "    x.observe(notebookContainer, {childList: true});\n",
       "}}\n",
       "\n",
       "// Listen for the clearing of the current output cell\n",
       "var outputEl = gd.closest('.output');\n",
       "if (outputEl) {{\n",
       "    x.observe(outputEl, {childList: true});\n",
       "}}\n",
       "\n",
       "                        })                };                });            </script>        </div>"
      ]
     },
     "metadata": {},
     "output_type": "display_data"
    }
   ],
   "source": [
    "fig = go.Figure()\n",
    "\n",
    "fig.add_trace(go.Scatter(x = x[:ROLL_PERIOD + 20], y = y[:ROLL_PERIOD + 20], name = 'temp anom'))\n",
    "fig.add_trace(go.Scatter(x = [x1, x2], y = [y1, y2], name = 'trend line'))"
   ]
  },
  {
   "cell_type": "markdown",
   "metadata": {},
   "source": [
    "# LOESS Detrend"
   ]
  },
  {
   "cell_type": "markdown",
   "metadata": {},
   "source": [
    "* https://www.statsmodels.org/stable/_modules/statsmodels/nonparametric/smoothers_lowess.html#lowess\n",
    "* https://towardsdatascience.com/lowess-regression-in-python-how-to-discover-clear-patterns-in-your-data-f26e523d7a35"
   ]
  },
  {
   "cell_type": "code",
   "execution_count": 155,
   "metadata": {},
   "outputs": [],
   "source": [
    "ipsl_abrupt = ipsl_anom_smean.sel(scenario = 'abrupt-4xCO2')\n",
    "ipsl_abrupt = ipsl_abrupt.where(np.isfinite(ipsl_abrupt), drop = True)\n",
    "y = ipsl_abrupt.values\n",
    "x = np.arange(len(y))"
   ]
  },
  {
   "cell_type": "code",
   "execution_count": 156,
   "metadata": {},
   "outputs": [
    {
     "data": {
      "text/plain": [
       "0.011111111111111112"
      ]
     },
     "execution_count": 156,
     "metadata": {},
     "output_type": "execute_result"
    }
   ],
   "source": [
    "step_size = 10\n",
    "frac = step_size/len(y)\n",
    "frac"
   ]
  },
  {
   "cell_type": "code",
   "execution_count": 157,
   "metadata": {},
   "outputs": [],
   "source": [
    "yhat = lowess(y, x, frac  = frac)"
   ]
  },
  {
   "cell_type": "code",
   "execution_count": 158,
   "metadata": {},
   "outputs": [
    {
     "data": {
      "text/plain": [
       "(900, 2)"
      ]
     },
     "execution_count": 158,
     "metadata": {},
     "output_type": "execute_result"
    }
   ],
   "source": [
    "yhat.shape"
   ]
  },
  {
   "cell_type": "code",
   "execution_count": 159,
   "metadata": {},
   "outputs": [],
   "source": [
    "ipsl_abrupt_detrend_loess = ipsl_abrupt - yhat[:,1]"
   ]
  },
  {
   "cell_type": "code",
   "execution_count": 160,
   "metadata": {},
   "outputs": [
    {
     "data": {
      "image/png": "[encoded data removed]",
      "text/plain": [
       "<Figure size 1080x432 with 1 Axes>"
      ]
     },
     "metadata": {
      "needs_background": "light"
     },
     "output_type": "display_data"
    }
   ],
   "source": [
    "fig, ax = plt.subplots(figsize = (15,6))\n",
    "ax.plot(yhat[:,0], yhat[:,1], label  = 'abrupt4x')\n",
    "ax.plot(x,y, zorder = -1, label = 'lowess')\n",
    "ax.plot(x,ipsl_abrupt_detrend_loess.values)\n",
    "\n",
    "ax.legend(ncol  = 2, loc = 'best', fontsize = 12)\n",
    "ax.spines['right'].set_visible(False)\n",
    "ax.spines['top'].set_visible(False)\n",
    "ax.grid(alpha = 0.4, linestyle = ':')"
   ]
  },
  {
   "cell_type": "code",
   "execution_count": 161,
   "metadata": {},
   "outputs": [
    {
     "data": {
      "text/plain": [
       "Coordinates:\n",
       "  * time      (time) object 1850-12-31 00:00:00 ... 2749-12-31 00:00:00\n",
       "    scenario  <U12 'abrupt-4xCO2'"
      ]
     },
     "execution_count": 161,
     "metadata": {},
     "output_type": "execute_result"
    }
   ],
   "source": [
    "ipsl_abrupt_detrend_loess_std =\\\n",
    "            ipsl_abrupt_detrend_loess.rolling(time = ROLL_PERIOD).reduce(np.std)\n",
    "ipsl_abrupt_detrend_loess_std.coords"
   ]
  },
  {
   "cell_type": "code",
   "execution_count": 162,
   "metadata": {},
   "outputs": [
    {
     "data": {
      "image/png": "[encoded data removed]",
      "text/plain": [
       "<Figure size 1080x288 with 1 Axes>"
      ]
     },
     "metadata": {
      "needs_background": "light"
     },
     "output_type": "display_data"
    }
   ],
   "source": [
    "data = ipsl_abrupt_detrend_loess_std\n",
    "\n",
    "fig, ax = plt.subplots(figsize = (15,4))\n",
    "ax.plot(data.time.values, data.values)\n",
    "\n",
    "ax.spines['right'].set_visible(False)\n",
    "ax.spines['top'].set_visible(False)\n",
    "ax.grid(alpha = 0.4, linestyle = ':')"
   ]
  },
  {
   "cell_type": "code",
   "execution_count": 163,
   "metadata": {},
   "outputs": [
    {
     "data": {
      "text/html": [
       "<div><svg style=\"position: absolute; width: 0; height: 0; overflow: hidden\">\n",
       "<defs>\n",
       "<symbol id=\"icon-database\" viewBox=\"0 0 32 32\">\n",
       "<path d=\"M16 0c-8.837 0-16 2.239-16 5v4c0 2.761 7.163 5 16 5s16-2.239 16-5v-4c0-2.761-7.163-5-16-5z\"></path>\n",
       "<path d=\"M16 17c-8.837 0-16-2.239-16-5v6c0 2.761 7.163 5 16 5s16-2.239 16-5v-6c0 2.761-7.163 5-16 5z\"></path>\n",
       "<path d=\"M16 26c-8.837 0-16-2.239-16-5v6c0 2.761 7.163 5 16 5s16-2.239 16-5v-6c0 2.761-7.163 5-16 5z\"></path>\n",
       "</symbol>\n",
       "<symbol id=\"icon-file-text2\" viewBox=\"0 0 32 32\">\n",
       "<path d=\"M28.681 7.159c-0.694-0.947-1.662-2.053-2.724-3.116s-2.169-2.030-3.116-2.724c-1.612-1.182-2.393-1.319-2.841-1.319h-15.5c-1.378 0-2.5 1.121-2.5 2.5v27c0 1.378 1.122 2.5 2.5 2.5h23c1.378 0 2.5-1.122 2.5-2.5v-19.5c0-0.448-0.137-1.23-1.319-2.841zM24.543 5.457c0.959 0.959 1.712 1.825 2.268 2.543h-4.811v-4.811c0.718 0.556 1.584 1.309 2.543 2.268zM28 29.5c0 0.271-0.229 0.5-0.5 0.5h-23c-0.271 0-0.5-0.229-0.5-0.5v-27c0-0.271 0.229-0.5 0.5-0.5 0 0 15.499-0 15.5 0v7c0 0.552 0.448 1 1 1h7v19.5z\"></path>\n",
       "<path d=\"M23 26h-14c-0.552 0-1-0.448-1-1s0.448-1 1-1h14c0.552 0 1 0.448 1 1s-0.448 1-1 1z\"></path>\n",
       "<path d=\"M23 22h-14c-0.552 0-1-0.448-1-1s0.448-1 1-1h14c0.552 0 1 0.448 1 1s-0.448 1-1 1z\"></path>\n",
       "<path d=\"M23 18h-14c-0.552 0-1-0.448-1-1s0.448-1 1-1h14c0.552 0 1 0.448 1 1s-0.448 1-1 1z\"></path>\n",
       "</symbol>\n",
       "</defs>\n",
       "</svg>\n",
       "<style>/* CSS stylesheet for displaying xarray objects in jupyterlab.\n",
       " *\n",
       " */\n",
       "\n",
       ":root {\n",
       "  --xr-font-color0: var(--jp-content-font-color0, rgba(0, 0, 0, 1));\n",
       "  --xr-font-color2: var(--jp-content-font-color2, rgba(0, 0, 0, 0.54));\n",
       "  --xr-font-color3: var(--jp-content-font-color3, rgba(0, 0, 0, 0.38));\n",
       "  --xr-border-color: var(--jp-border-color2, #e0e0e0);\n",
       "  --xr-disabled-color: var(--jp-layout-color3, #bdbdbd);\n",
       "  --xr-background-color: var(--jp-layout-color0, white);\n",
       "  --xr-background-color-row-even: var(--jp-layout-color1, white);\n",
       "  --xr-background-color-row-odd: var(--jp-layout-color2, #eeeeee);\n",
       "}\n",
       "\n",
       "html[theme=dark],\n",
       "body.vscode-dark {\n",
       "  --xr-font-color0: rgba(255, 255, 255, 1);\n",
       "  --xr-font-color2: rgba(255, 255, 255, 0.54);\n",
       "  --xr-font-color3: rgba(255, 255, 255, 0.38);\n",
       "  --xr-border-color: #1F1F1F;\n",
       "  --xr-disabled-color: #515151;\n",
       "  --xr-background-color: #111111;\n",
       "  --xr-background-color-row-even: #111111;\n",
       "  --xr-background-color-row-odd: #313131;\n",
       "}\n",
       "\n",
       ".xr-wrap {\n",
       "  display: block;\n",
       "  min-width: 300px;\n",
       "  max-width: 700px;\n",
       "}\n",
       "\n",
       ".xr-text-repr-fallback {\n",
       "  /* fallback to plain text repr when CSS is not injected (untrusted notebook) */\n",
       "  display: none;\n",
       "}\n",
       "\n",
       ".xr-header {\n",
       "  padding-top: 6px;\n",
       "  padding-bottom: 6px;\n",
       "  margin-bottom: 4px;\n",
       "  border-bottom: solid 1px var(--xr-border-color);\n",
       "}\n",
       "\n",
       ".xr-header > div,\n",
       ".xr-header > ul {\n",
       "  display: inline;\n",
       "  margin-top: 0;\n",
       "  margin-bottom: 0;\n",
       "}\n",
       "\n",
       ".xr-obj-type,\n",
       ".xr-array-name {\n",
       "  margin-left: 2px;\n",
       "  margin-right: 10px;\n",
       "}\n",
       "\n",
       ".xr-obj-type {\n",
       "  color: var(--xr-font-color2);\n",
       "}\n",
       "\n",
       ".xr-sections {\n",
       "  padding-left: 0 !important;\n",
       "  display: grid;\n",
       "  grid-template-columns: 150px auto auto 1fr 20px 20px;\n",
       "}\n",
       "\n",
       ".xr-section-item {\n",
       "  display: contents;\n",
       "}\n",
       "\n",
       ".xr-section-item input {\n",
       "  display: none;\n",
       "}\n",
       "\n",
       ".xr-section-item input + label {\n",
       "  color: var(--xr-disabled-color);\n",
       "}\n",
       "\n",
       ".xr-section-item input:enabled + label {\n",
       "  cursor: pointer;\n",
       "  color: var(--xr-font-color2);\n",
       "}\n",
       "\n",
       ".xr-section-item input:enabled + label:hover {\n",
       "  color: var(--xr-font-color0);\n",
       "}\n",
       "\n",
       ".xr-section-summary {\n",
       "  grid-column: 1;\n",
       "  color: var(--xr-font-color2);\n",
       "  font-weight: 500;\n",
       "}\n",
       "\n",
       ".xr-section-summary > span {\n",
       "  display: inline-block;\n",
       "  padding-left: 0.5em;\n",
       "}\n",
       "\n",
       ".xr-section-summary-in:disabled + label {\n",
       "  color: var(--xr-font-color2);\n",
       "}\n",
       "\n",
       ".xr-section-summary-in + label:before {\n",
       "  display: inline-block;\n",
       "  content: '►';\n",
       "  font-size: 11px;\n",
       "  width: 15px;\n",
       "  text-align: center;\n",
       "}\n",
       "\n",
       ".xr-section-summary-in:disabled + label:before {\n",
       "  color: var(--xr-disabled-color);\n",
       "}\n",
       "\n",
       ".xr-section-summary-in:checked + label:before {\n",
       "  content: '▼';\n",
       "}\n",
       "\n",
       ".xr-section-summary-in:checked + label > span {\n",
       "  display: none;\n",
       "}\n",
       "\n",
       ".xr-section-summary,\n",
       ".xr-section-inline-details {\n",
       "  padding-top: 4px;\n",
       "  padding-bottom: 4px;\n",
       "}\n",
       "\n",
       ".xr-section-inline-details {\n",
       "  grid-column: 2 / -1;\n",
       "}\n",
       "\n",
       ".xr-section-details {\n",
       "  display: none;\n",
       "  grid-column: 1 / -1;\n",
       "  margin-bottom: 5px;\n",
       "}\n",
       "\n",
       ".xr-section-summary-in:checked ~ .xr-section-details {\n",
       "  display: contents;\n",
       "}\n",
       "\n",
       ".xr-array-wrap {\n",
       "  grid-column: 1 / -1;\n",
       "  display: grid;\n",
       "  grid-template-columns: 20px auto;\n",
       "}\n",
       "\n",
       ".xr-array-wrap > label {\n",
       "  grid-column: 1;\n",
       "  vertical-align: top;\n",
       "}\n",
       "\n",
       ".xr-preview {\n",
       "  color: var(--xr-font-color3);\n",
       "}\n",
       "\n",
       ".xr-array-preview,\n",
       ".xr-array-data {\n",
       "  padding: 0 5px !important;\n",
       "  grid-column: 2;\n",
       "}\n",
       "\n",
       ".xr-array-data,\n",
       ".xr-array-in:checked ~ .xr-array-preview {\n",
       "  display: none;\n",
       "}\n",
       "\n",
       ".xr-array-in:checked ~ .xr-array-data,\n",
       ".xr-array-preview {\n",
       "  display: inline-block;\n",
       "}\n",
       "\n",
       ".xr-dim-list {\n",
       "  display: inline-block !important;\n",
       "  list-style: none;\n",
       "  padding: 0 !important;\n",
       "  margin: 0;\n",
       "}\n",
       "\n",
       ".xr-dim-list li {\n",
       "  display: inline-block;\n",
       "  padding: 0;\n",
       "  margin: 0;\n",
       "}\n",
       "\n",
       ".xr-dim-list:before {\n",
       "  content: '(';\n",
       "}\n",
       "\n",
       ".xr-dim-list:after {\n",
       "  content: ')';\n",
       "}\n",
       "\n",
       ".xr-dim-list li:not(:last-child):after {\n",
       "  content: ',';\n",
       "  padding-right: 5px;\n",
       "}\n",
       "\n",
       ".xr-has-index {\n",
       "  font-weight: bold;\n",
       "}\n",
       "\n",
       ".xr-var-list,\n",
       ".xr-var-item {\n",
       "  display: contents;\n",
       "}\n",
       "\n",
       ".xr-var-item > div,\n",
       ".xr-var-item label,\n",
       ".xr-var-item > .xr-var-name span {\n",
       "  background-color: var(--xr-background-color-row-even);\n",
       "  margin-bottom: 0;\n",
       "}\n",
       "\n",
       ".xr-var-item > .xr-var-name:hover span {\n",
       "  padding-right: 5px;\n",
       "}\n",
       "\n",
       ".xr-var-list > li:nth-child(odd) > div,\n",
       ".xr-var-list > li:nth-child(odd) > label,\n",
       ".xr-var-list > li:nth-child(odd) > .xr-var-name span {\n",
       "  background-color: var(--xr-background-color-row-odd);\n",
       "}\n",
       "\n",
       ".xr-var-name {\n",
       "  grid-column: 1;\n",
       "}\n",
       "\n",
       ".xr-var-dims {\n",
       "  grid-column: 2;\n",
       "}\n",
       "\n",
       ".xr-var-dtype {\n",
       "  grid-column: 3;\n",
       "  text-align: right;\n",
       "  color: var(--xr-font-color2);\n",
       "}\n",
       "\n",
       ".xr-var-preview {\n",
       "  grid-column: 4;\n",
       "}\n",
       "\n",
       ".xr-var-name,\n",
       ".xr-var-dims,\n",
       ".xr-var-dtype,\n",
       ".xr-preview,\n",
       ".xr-attrs dt {\n",
       "  white-space: nowrap;\n",
       "  overflow: hidden;\n",
       "  text-overflow: ellipsis;\n",
       "  padding-right: 10px;\n",
       "}\n",
       "\n",
       ".xr-var-name:hover,\n",
       ".xr-var-dims:hover,\n",
       ".xr-var-dtype:hover,\n",
       ".xr-attrs dt:hover {\n",
       "  overflow: visible;\n",
       "  width: auto;\n",
       "  z-index: 1;\n",
       "}\n",
       "\n",
       ".xr-var-attrs,\n",
       ".xr-var-data {\n",
       "  display: none;\n",
       "  background-color: var(--xr-background-color) !important;\n",
       "  padding-bottom: 5px !important;\n",
       "}\n",
       "\n",
       ".xr-var-attrs-in:checked ~ .xr-var-attrs,\n",
       ".xr-var-data-in:checked ~ .xr-var-data {\n",
       "  display: block;\n",
       "}\n",
       "\n",
       ".xr-var-data > table {\n",
       "  float: right;\n",
       "}\n",
       "\n",
       ".xr-var-name span,\n",
       ".xr-var-data,\n",
       ".xr-attrs {\n",
       "  padding-left: 25px !important;\n",
       "}\n",
       "\n",
       ".xr-attrs,\n",
       ".xr-var-attrs,\n",
       ".xr-var-data {\n",
       "  grid-column: 1 / -1;\n",
       "}\n",
       "\n",
       "dl.xr-attrs {\n",
       "  padding: 0;\n",
       "  margin: 0;\n",
       "  display: grid;\n",
       "  grid-template-columns: 125px auto;\n",
       "}\n",
       "\n",
       ".xr-attrs dt,\n",
       ".xr-attrs dd {\n",
       "  padding: 0;\n",
       "  margin: 0;\n",
       "  float: left;\n",
       "  padding-right: 10px;\n",
       "  width: auto;\n",
       "}\n",
       "\n",
       ".xr-attrs dt {\n",
       "  font-weight: normal;\n",
       "  grid-column: 1;\n",
       "}\n",
       "\n",
       ".xr-attrs dt:hover span {\n",
       "  display: inline-block;\n",
       "  background: var(--xr-background-color);\n",
       "  padding-right: 10px;\n",
       "}\n",
       "\n",
       ".xr-attrs dd {\n",
       "  grid-column: 2;\n",
       "  white-space: pre-wrap;\n",
       "  word-break: break-all;\n",
       "}\n",
       "\n",
       ".xr-icon-database,\n",
       ".xr-icon-file-text2 {\n",
       "  display: inline-block;\n",
       "  vertical-align: middle;\n",
       "  width: 1em;\n",
       "  height: 1.5em !important;\n",
       "  stroke-width: 0;\n",
       "  stroke: currentColor;\n",
       "  fill: currentColor;\n",
       "}\n",
       "</style><pre class='xr-text-repr-fallback'>&lt;xarray.DataArray &#x27;ts&#x27; (scenario: 4, time: 2000)&gt;\n",
       "array([[nan, nan, nan, ..., nan, nan, nan],\n",
       "       [nan, nan, nan, ..., nan, nan, nan],\n",
       "       [nan, nan, nan, ..., nan, nan, nan],\n",
       "       [nan, nan, nan, ..., nan, nan, nan]])\n",
       "Coordinates:\n",
       "  * time      (time) object 1850-12-31 00:00:00 ... 3849-12-31 00:00:00\n",
       "  * scenario  (scenario) object &#x27;1pctCO2&#x27; &#x27;abrupt-4xCO2&#x27; ... &#x27;piControl&#x27;</pre><div class='xr-wrap' hidden><div class='xr-header'><div class='xr-obj-type'>xarray.DataArray</div><div class='xr-array-name'>'ts'</div><ul class='xr-dim-list'><li><span class='xr-has-index'>scenario</span>: 4</li><li><span class='xr-has-index'>time</span>: 2000</li></ul></div><ul class='xr-sections'><li class='xr-section-item'><div class='xr-array-wrap'><input id='section-e44ae45d-fe4e-451b-bd48-fb575708d256' class='xr-array-in' type='checkbox' checked><label for='section-e44ae45d-fe4e-451b-bd48-fb575708d256' title='Show/hide data repr'><svg class='icon xr-icon-database'><use xlink:href='#icon-database'></use></svg></label><div class='xr-array-preview xr-preview'><span>nan nan nan nan nan nan nan nan ... nan nan nan nan nan nan nan nan</span></div><div class='xr-array-data'><pre>array([[nan, nan, nan, ..., nan, nan, nan],\n",
       "       [nan, nan, nan, ..., nan, nan, nan],\n",
       "       [nan, nan, nan, ..., nan, nan, nan],\n",
       "       [nan, nan, nan, ..., nan, nan, nan]])</pre></div></div></li><li class='xr-section-item'><input id='section-abe2e6d6-f442-49a8-9f49-dd3d51885d35' class='xr-section-summary-in' type='checkbox'  checked><label for='section-abe2e6d6-f442-49a8-9f49-dd3d51885d35' class='xr-section-summary' >Coordinates: <span>(2)</span></label><div class='xr-section-inline-details'></div><div class='xr-section-details'><ul class='xr-var-list'><li class='xr-var-item'><div class='xr-var-name'><span class='xr-has-index'>time</span></div><div class='xr-var-dims'>(time)</div><div class='xr-var-dtype'>object</div><div class='xr-var-preview xr-preview'>1850-12-31 00:00:00 ... 3849-12-...</div><input id='attrs-74e95cc2-3a00-4d4d-a50b-d759688baa4d' class='xr-var-attrs-in' type='checkbox' disabled><label for='attrs-74e95cc2-3a00-4d4d-a50b-d759688baa4d' title='Show/Hide attributes'><svg class='icon xr-icon-file-text2'><use xlink:href='#icon-file-text2'></use></svg></label><input id='data-0207ae60-84c9-4af5-a5cb-613e40585cd5' class='xr-var-data-in' type='checkbox'><label for='data-0207ae60-84c9-4af5-a5cb-613e40585cd5' title='Show/Hide data repr'><svg class='icon xr-icon-database'><use xlink:href='#icon-database'></use></svg></label><div class='xr-var-attrs'><dl class='xr-attrs'></dl></div><div class='xr-var-data'><pre>array([cftime.DatetimeGregorian(1850, 12, 31, 0, 0, 0, 0),\n",
       "       cftime.DatetimeGregorian(1851, 12, 31, 0, 0, 0, 0),\n",
       "       cftime.DatetimeGregorian(1852, 12, 31, 0, 0, 0, 0), ...,\n",
       "       cftime.DatetimeGregorian(3847, 12, 31, 0, 0, 0, 0),\n",
       "       cftime.DatetimeGregorian(3848, 12, 31, 0, 0, 0, 0),\n",
       "       cftime.DatetimeGregorian(3849, 12, 31, 0, 0, 0, 0)], dtype=object)</pre></div></li><li class='xr-var-item'><div class='xr-var-name'><span class='xr-has-index'>scenario</span></div><div class='xr-var-dims'>(scenario)</div><div class='xr-var-dtype'>object</div><div class='xr-var-preview xr-preview'>&#x27;1pctCO2&#x27; ... &#x27;piControl&#x27;</div><input id='attrs-3da85ff7-5e3b-4813-95b7-7b764f0888dc' class='xr-var-attrs-in' type='checkbox' disabled><label for='attrs-3da85ff7-5e3b-4813-95b7-7b764f0888dc' title='Show/Hide attributes'><svg class='icon xr-icon-file-text2'><use xlink:href='#icon-file-text2'></use></svg></label><input id='data-8be63b07-56ce-4d4f-91e5-942c4810b2e1' class='xr-var-data-in' type='checkbox'><label for='data-8be63b07-56ce-4d4f-91e5-942c4810b2e1' title='Show/Hide data repr'><svg class='icon xr-icon-database'><use xlink:href='#icon-database'></use></svg></label><div class='xr-var-attrs'><dl class='xr-attrs'></dl></div><div class='xr-var-data'><pre>array([&#x27;1pctCO2&#x27;, &#x27;abrupt-4xCO2&#x27;, &#x27;historical&#x27;, &#x27;piControl&#x27;], dtype=object)</pre></div></li></ul></div></li><li class='xr-section-item'><input id='section-3b506f39-87b5-461d-9208-0d6e20d66692' class='xr-section-summary-in' type='checkbox' disabled ><label for='section-3b506f39-87b5-461d-9208-0d6e20d66692' class='xr-section-summary'  title='Expand/collapse section'>Attributes: <span>(0)</span></label><div class='xr-section-inline-details'></div><div class='xr-section-details'><dl class='xr-attrs'></dl></div></li></ul></div></div>"
      ],
      "text/plain": [
       "<xarray.DataArray 'ts' (scenario: 4, time: 2000)>\n",
       "array([[nan, nan, nan, ..., nan, nan, nan],\n",
       "       [nan, nan, nan, ..., nan, nan, nan],\n",
       "       [nan, nan, nan, ..., nan, nan, nan],\n",
       "       [nan, nan, nan, ..., nan, nan, nan]])\n",
       "Coordinates:\n",
       "  * time      (time) object 1850-12-31 00:00:00 ... 3849-12-31 00:00:00\n",
       "  * scenario  (scenario) object '1pctCO2' 'abrupt-4xCO2' ... 'piControl'"
      ]
     },
     "execution_count": 163,
     "metadata": {},
     "output_type": "execute_result"
    }
   ],
   "source": [
    " ipsl_smean_signal"
   ]
  },
  {
   "cell_type": "code",
   "execution_count": 164,
   "metadata": {},
   "outputs": [],
   "source": [
    "ipsl_abrupt_signal = ipsl_smean_signal.sel(scenario = 'abrupt-4xCO2')\n",
    "ipsl_abrupt_signal = ipsl_abrupt_signal.where(\n",
    "                ipsl_abrupt_signal.time.isin(ipsl_abrupt_detrend_loess_std.time.values) , \n",
    "                drop = True)"
   ]
  },
  {
   "cell_type": "code",
   "execution_count": 165,
   "metadata": {},
   "outputs": [],
   "source": [
    " ipsl_smean_sn_loess =  ipsl_abrupt_signal/ipsl_abrupt_detrend_loess_std"
   ]
  },
  {
   "cell_type": "code",
   "execution_count": 166,
   "metadata": {},
   "outputs": [
    {
     "data": {
      "image/png": "[encoded data removed]",
      "text/plain": [
       "<Figure size 1080x288 with 1 Axes>"
      ]
     },
     "metadata": {
      "needs_background": "light"
     },
     "output_type": "display_data"
    }
   ],
   "source": [
    "data =  ipsl_smean_sn_loess \n",
    "\n",
    "fig, ax = plt.subplots(figsize = (15,4))\n",
    "ax.plot(data.time.values, data.values)\n",
    "\n",
    "ax.spines['right'].set_visible(False)\n",
    "ax.spines['top'].set_visible(False)\n",
    "3ax.grid(alpha = 0.4, linestyle = ':')"
   ]
  },
  {
   "cell_type": "markdown",
   "metadata": {},
   "source": [
    "# Functinoal Lowess"
   ]
  }
 ],
 "metadata": {
  "kernelspec": {
   "display_name": "Python 3",
   "language": "python",
   "name": "python3"
  },
  "language_info": {
   "codemirror_mode": {
    "name": "ipython",
    "version": 3
   },
   "file_extension": ".py",
   "mimetype": "text/x-python",
   "name": "python",
   "nbconvert_exporter": "python",
   "pygments_lexer": "ipython3",
   "version": "3.8.6"
  }
 },
 "nbformat": 4,
 "nbformat_minor": 4
}
