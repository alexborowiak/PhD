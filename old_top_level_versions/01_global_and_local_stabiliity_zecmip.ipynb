{
 "cells": [
  {
   "cell_type": "markdown",
   "id": "3012ac88",
   "metadata": {},
   "source": [
    "# The stability of the global average on different window lengths\n",
    "This notebook outllines different methods that can be used to de-trend the LongRunMIP and ZECMIP time series."
   ]
  },
  {
   "cell_type": "markdown",
   "id": "b2fd3bb2-4900-45a1-a2c5-12191da3f2e7",
   "metadata": {
    "tags": []
   },
   "source": [
    "# Imports"
   ]
  },
  {
   "cell_type": "code",
   "execution_count": 1,
   "id": "138fa016",
   "metadata": {
    "ExecuteTime": {
     "end_time": "2023-04-07T05:02:21.389896Z",
     "start_time": "2023-04-07T05:02:10.545832Z"
    }
   },
   "outputs": [],
   "source": [
    "import nc_time_axis\n",
    "import warnings\n",
    "\n",
    "import xarray as xr\n",
    "import numpy as np\n",
    "import pandas as pd\n",
    "from importlib import reload\n",
    "from numba import njit\n",
    "from scipy.stats import spearmanr\n",
    "import matplotlib.pyplot as plt\n",
    "import cartopy.crs as ccrs\n",
    "import matplotlib.gridspec as gridspec \n",
    "from matplotlib.axes import Axes\n",
    "import matplotlib as mpl\n",
    "import time\n",
    "\n",
    "import os\n",
    "import sys\n",
    "import string\n",
    "\n",
    "from numpy.typing import ArrayLike\n",
    "from typing import Optional, Callable, List, Tuple, Dict\n",
    "\n",
    "warnings.filterwarnings('ignore')"
   ]
  },
  {
   "cell_type": "code",
   "execution_count": 2,
   "id": "32ec13a6-49ca-47f4-8c83-9a5af39da37f",
   "metadata": {
    "ExecuteTime": {
     "end_time": "2023-04-07T05:02:21.399654Z",
     "start_time": "2023-04-07T05:02:21.394523Z"
    }
   },
   "outputs": [],
   "source": [
    "sys.path.append(os.path.join(os.getcwd(), 'Documents/PhD'))"
   ]
  },
  {
   "cell_type": "code",
   "execution_count": 3,
   "id": "b5528ad2",
   "metadata": {
    "ExecuteTime": {
     "end_time": "2023-04-07T05:02:24.663651Z",
     "start_time": "2023-04-07T05:02:21.402485Z"
    }
   },
   "outputs": [],
   "source": [
    "import constants\n",
    "from constants import PlotConfig\n",
    "sys.path.append(constants.MODULE_DIR)\n",
    "import sn_plotting\n",
    "import xarray_class_accessors as xca\n",
    "import utils\n",
    "import stats\n",
    "import xarray_extender as xce\n",
    "import signal_to_noise as sn\n",
    "import open_ds\n",
    "from classes import ExperimentTypes, LocationsLatLon\n",
    "import plotting_functions\n",
    "import xarray_extender as xe\n",
    "\n",
    "logger = utils.get_notebook_logger()"
   ]
  },
  {
   "cell_type": "code",
   "execution_count": 4,
   "id": "a8360f29",
   "metadata": {
    "ExecuteTime": {
     "end_time": "2023-04-07T05:02:24.691416Z",
     "start_time": "2023-04-07T05:02:24.670057Z"
    }
   },
   "outputs": [],
   "source": [
    "notebook_number='01'"
   ]
  },
  {
   "cell_type": "code",
   "execution_count": 5,
   "id": "33b79737",
   "metadata": {
    "ExecuteTime": {
     "end_time": "2023-04-07T05:02:24.858039Z",
     "start_time": "2023-04-07T05:02:24.699901Z"
    }
   },
   "outputs": [],
   "source": [
    "%matplotlib inline"
   ]
  },
  {
   "cell_type": "code",
   "execution_count": 6,
   "id": "fd35041a",
   "metadata": {
    "ExecuteTime": {
     "end_time": "2023-04-07T05:02:24.876685Z",
     "start_time": "2023-04-07T05:02:24.861136Z"
    }
   },
   "outputs": [],
   "source": [
    "# import dask.distributed as dd\n",
    "# import tempfile\n",
    "\n",
    "# tempdir = tempfile.TemporaryDirectory(\"dask-worker-space\")\n",
    "# dd.Client(local_directory=tempdir.name, memory_limit='20gb')"
   ]
  },
  {
   "cell_type": "markdown",
   "id": "8be5605e",
   "metadata": {},
   "source": [
    "# Loading Data"
   ]
  },
  {
   "cell_type": "code",
   "execution_count": 7,
   "id": "533c5730",
   "metadata": {
    "ExecuteTime": {
     "end_time": "2023-04-07T05:02:24.934726Z",
     "start_time": "2023-04-07T05:02:24.880719Z"
    }
   },
   "outputs": [
    {
     "data": {
      "text/plain": [
       "{'variable': 'tas', 'mask': None, 'hemisphere': 'global'}"
      ]
     },
     "execution_count": 7,
     "metadata": {},
     "output_type": "execute_result"
    }
   ],
   "source": [
    "experiment_params = constants.EXPERIMENTS_TO_RUN[0]\n",
    "experiment_params"
   ]
  },
  {
   "cell_type": "code",
   "execution_count": 8,
   "id": "483b976f",
   "metadata": {
    "ExecuteTime": {
     "end_time": "2023-04-07T05:02:24.968347Z",
     "start_time": "2023-04-07T05:02:24.938359Z"
    }
   },
   "outputs": [
    {
     "data": {
      "text/plain": [
       "('/g/data/w40/ab2313/PhD/zecmip/regridded',)"
      ]
     },
     "execution_count": 8,
     "metadata": {},
     "output_type": "execute_result"
    }
   ],
   "source": [
    "constants.ZECMIP_LOCAL_REGRIDDED_DIR,"
   ]
  },
  {
   "cell_type": "code",
   "execution_count": 9,
   "id": "7d529a16",
   "metadata": {
    "ExecuteTime": {
     "end_time": "2023-04-07T05:02:42.915453Z",
     "start_time": "2023-04-07T05:02:24.971532Z"
    }
   },
   "outputs": [],
   "source": [
    "experiment_zec_da = open_ds.open_mfdataset_nc(os.path.join(constants.ZECMIP_LOCAL_REGRIDDED_DIR, 'A1'), \n",
    "                                              to_array=False).tas\n",
    "picontrol_zec_da = open_ds.open_mfdataset_nc(os.path.join(constants.ZECMIP_LOCAL_REGRIDDED_DIR, 'picontrol'),\n",
    "                                             to_array=False).tas"
   ]
  },
  {
   "cell_type": "code",
   "execution_count": 10,
   "id": "9bb7901d",
   "metadata": {
    "ExecuteTime": {
     "end_time": "2023-04-07T05:02:45.795233Z",
     "start_time": "2023-04-07T05:02:42.919826Z"
    }
   },
   "outputs": [
    {
     "name": "stdout",
     "output_type": "stream",
     "text": [
      "(None, None)\n"
     ]
    }
   ],
   "source": [
    "experiment_zec_ds_smean, picontrol_zec_ds_smean = sn.calculate_global_value(\n",
    "    experiment_zec_da, picontrol_zec_da, experiment_params[\"variable\"])"
   ]
  },
  {
   "cell_type": "code",
   "execution_count": 11,
   "id": "64510b41",
   "metadata": {
    "ExecuteTime": {
     "end_time": "2023-04-07T05:02:45.841359Z",
     "start_time": "2023-04-07T05:02:45.798826Z"
    }
   },
   "outputs": [
    {
     "data": {
      "text/plain": [
       "'/g/data/w40/ab2313/PhD/zecmip/regridded/signal_to_noise'"
      ]
     },
     "execution_count": 11,
     "metadata": {},
     "output_type": "execute_result"
    }
   ],
   "source": [
    "SN_DIR = os.path.join(constants.ZECMIP_LOCAL_REGRIDDED_DIR, 'signal_to_noise')\n",
    "SN_DIR"
   ]
  },
  {
   "cell_type": "code",
   "execution_count": 12,
   "id": "932c5c5f",
   "metadata": {
    "ExecuteTime": {
     "end_time": "2023-04-07T05:02:45.908049Z",
     "start_time": "2023-04-07T05:02:45.844645Z"
    }
   },
   "outputs": [
    {
     "data": {
      "text/plain": [
       "['exp_rolling_noise_False.nc',\n",
       " 'control_rolling_noise_False.nc',\n",
       " 'control_rolling_noise_True.nc',\n",
       " 'exp_rolling_noise_True.nc']"
      ]
     },
     "execution_count": 12,
     "metadata": {},
     "output_type": "execute_result"
    }
   ],
   "source": [
    "local_signal_to_noise_files = [f for f in  os.listdir(SN_DIR) if 'A1' not in f]\n",
    "local_signal_to_noise_files"
   ]
  },
  {
   "cell_type": "code",
   "execution_count": 13,
   "id": "27697bd7",
   "metadata": {
    "ExecuteTime": {
     "end_time": "2023-04-07T05:15:57.645122Z",
     "start_time": "2023-04-07T05:02:45.911593Z"
    },
    "scrolled": true
   },
   "outputs": [
    {
     "name": "stdout",
     "output_type": "stream",
     "text": [
      "['exp_rolling_noise_False.nc', 'control_rolling_noise_False.nc', 'control_rolling_noise_True.nc', 'exp_rolling_noise_True.nc']\n"
     ]
    }
   ],
   "source": [
    "# Opening local data into dictionary\n",
    "local_data_obj = {}\n",
    "for fname in local_signal_to_noise_files:\n",
    "    ds = xr.open_dataset(os.path.join(SN_DIR, fname)).chunk('auto')\n",
    "    # LOL. OMFGGGGGGGGGG!!!! Don't need all of these windows.\n",
    "    local_data_obj[fname] = ds.sel(window=[21, 41]).persist()\n",
    "\n",
    "print(list(local_data_obj.keys()))"
   ]
  },
  {
   "cell_type": "markdown",
   "id": "9e731f0c",
   "metadata": {},
   "source": [
    "# Local"
   ]
  },
  {
   "cell_type": "markdown",
   "id": "2eaefad0",
   "metadata": {
    "tags": []
   },
   "source": [
    "### Calculations"
   ]
  },
  {
   "cell_type": "code",
   "execution_count": 14,
   "id": "73a9c97e",
   "metadata": {
    "ExecuteTime": {
     "end_time": "2023-04-07T05:15:57.676825Z",
     "start_time": "2023-04-07T05:15:57.663189Z"
    }
   },
   "outputs": [],
   "source": [
    "def calculate_and_add_upper_and_lower_bound(ds:xr.Dataset, control_ds:xr.Dataset)->xr.Dataset:\n",
    "    '''\n",
    "    Takes the picontrol from a run and also the experiment in questions. The upper and lower bound \n",
    "    are calculated and added to the dataset\n",
    "    '''\n",
    "    control__lbound, control__ubound = sn.calculate_upper_and_lower_bounds(control_ds.signal_to_noise,\n",
    "                                                                           logginglevel='INFO')\n",
    "    \n",
    "    ds_w_bounds = xe.add_lower_upper_to_dataset(ds.signal_to_noise,\n",
    "                                                control__lbound, control__ubound)\n",
    "    return ds_w_bounds"
   ]
  },
  {
   "cell_type": "code",
   "execution_count": null,
   "id": "398308f9",
   "metadata": {
    "ExecuteTime": {
     "start_time": "2023-04-07T05:02:10.610Z"
    }
   },
   "outputs": [
    {
     "name": "stdout",
     "output_type": "stream",
     "text": [
      "- Calculating Upper and lower control bounds\n",
      "- Map blocks used\n"
     ]
    }
   ],
   "source": [
    "exp_local_sn_static_ds = calculate_and_add_upper_and_lower_bound(\n",
    "    local_data_obj['exp_rolling_noise_False.nc'],\n",
    "    local_data_obj['control_rolling_noise_False.nc'].isel(time=slice(1,100)).chunk({'time':-1, 'lat':-1})\n",
    "    ).persist()"
   ]
  },
  {
   "cell_type": "code",
   "execution_count": 15,
   "id": "3ad9764c",
   "metadata": {
    "ExecuteTime": {
     "end_time": "2023-04-07T05:16:31.333405Z",
     "start_time": "2023-04-07T05:16:11.240757Z"
    }
   },
   "outputs": [
    {
     "name": "stdout",
     "output_type": "stream",
     "text": [
      "- Calculating Upper and lower control bounds\n",
      "- Map blocks used\n",
      "ERROR! Session/line number was not unique in database. History logging moved to new session 1095\n"
     ]
    },
    {
     "name": "stderr",
     "output_type": "stream",
     "text": [
      "\n",
      "KeyboardInterrupt\n",
      "\n"
     ]
    }
   ],
   "source": [
    "exp_local_sn_rolling_ds = calculate_and_add_upper_and_lower_bound(\n",
    "    local_data_obj['exp_rolling_noise_True.nc'],\n",
    "    local_data_obj['control_rolling_noise_True.nc'].isel(time=slice(1,100)).chunk({'time':-1, 'lat':-1})\n",
    "    ).persist()"
   ]
  },
  {
   "cell_type": "code",
   "execution_count": null,
   "id": "2c760551",
   "metadata": {
    "ExecuteTime": {
     "end_time": "2023-04-07T05:16:31.592513Z",
     "start_time": "2023-04-07T05:16:31.592477Z"
    }
   },
   "outputs": [],
   "source": [
    "# Fraction of models stable at each time.\n",
    "# static_fraction_stable_local = sn.get_fraction_stable_ds(exp_local_sn_ds)\n",
    "static_year_stable_local = sn.get_stable_year_ds(exp_local_sn_static_ds).persist()\n",
    "rolling_year_stable_local = sn.get_stable_year_ds(exp_local_sn_rolling_ds).persist()"
   ]
  },
  {
   "cell_type": "code",
   "execution_count": null,
   "id": "ddaaaed0",
   "metadata": {
    "ExecuteTime": {
     "end_time": "2023-04-07T05:16:31.594159Z",
     "start_time": "2023-04-07T05:16:31.594125Z"
    }
   },
   "outputs": [],
   "source": [
    "static_year_stable_local_average = xe.get_average_and_uncertainty_across_dim(\n",
    "    static_year_stable_local, 'model', averaging_method='mean', uncertainty_method='max_min')\n",
    "\n",
    "rollling_year_stable_local_average = xe.get_average_and_uncertainty_across_dim(\n",
    "    rolling_year_stable_local, 'model', averaging_method='mean', uncertainty_method='max_min')\n",
    "\n",
    "static_year_stable_local_average"
   ]
  },
  {
   "cell_type": "markdown",
   "id": "f7a86ef4",
   "metadata": {
    "jp-MarkdownHeadingCollapsed": true,
    "tags": []
   },
   "source": [
    "### Plotting"
   ]
  },
  {
   "cell_type": "code",
   "execution_count": null,
   "id": "3f9c13ec",
   "metadata": {
    "ExecuteTime": {
     "end_time": "2023-04-07T05:16:31.636287Z",
     "start_time": "2023-04-07T05:16:31.636251Z"
    }
   },
   "outputs": [],
   "source": [
    "bound = 3\n",
    "step=0.25\n",
    "signal_to_noise_levels = np.arange(-bound, bound+step, step)"
   ]
  },
  {
   "cell_type": "code",
   "execution_count": null,
   "id": "e08ee26e",
   "metadata": {
    "ExecuteTime": {
     "end_time": "2023-04-07T05:16:31.644809Z",
     "start_time": "2023-04-07T05:16:31.644774Z"
    }
   },
   "outputs": [],
   "source": [
    "max_effective_lenght = 100"
   ]
  },
  {
   "cell_type": "code",
   "execution_count": null,
   "id": "544921ce",
   "metadata": {
    "ExecuteTime": {
     "end_time": "2023-04-07T05:16:31.682838Z",
     "start_time": "2023-04-07T05:16:31.682804Z"
    }
   },
   "outputs": [],
   "source": [
    "\n",
    "fig = plt.figure(figsize=(22,16))\n",
    "gs = gridspec.GridSpec(3, 2, height_ratios=[1, 1, 0.1])\n",
    "ax1 = fig.add_subplot(gs[0, 0], projection=ccrs.PlateCarree())\n",
    "ax2 = fig.add_subplot(gs[0, 1], projection=ccrs.PlateCarree())\n",
    "ax3 = fig.add_subplot(gs[1, 0], projection=ccrs.PlateCarree())\n",
    "ax4 = fig.add_subplot(gs[1, 1], projection=ccrs.PlateCarree())\n",
    "\n",
    "plot_kwargs = dict(levels=signal_to_noise_levels, cmap='RdBu_r', add_colorbar=False, extend='both')\n",
    "\n",
    "window=21\n",
    "exp_local_sn_static_ds.lower_bound.mean(dim='model').sel(window=window).plot(ax=ax1, **plot_kwargs)\n",
    "cplot = exp_local_sn_static_ds.upper_bound.mean(dim='model').sel(window=window).plot(ax=ax2, **plot_kwargs)\n",
    "\n",
    "window=41\n",
    "exp_local_sn_static_ds.lower_bound.mean(dim='model').sel(window=window).plot(ax=ax3, **plot_kwargs)\n",
    "exp_local_sn_static_ds.upper_bound.mean(dim='model').sel(window=window).plot(ax=ax4, **plot_kwargs)\n",
    "\n",
    "sn_plotting.format_plot(fig, ax1)\n",
    "sn_plotting.format_plot(fig, ax2)\n",
    "sn_plotting.format_plot(fig, ax3)\n",
    "sn_plotting.format_plot(fig, ax4)\n",
    "\n",
    "ax1.set_title('Lower Bound', fontsize=16)\n",
    "ax2.set_title('Upper Bound', fontsize=16)\n",
    "fig.suptitle(f'Multi-model Mean Bounds ({window=})', fontsize=22, y=0.9)\n",
    "\n",
    "\n",
    "cax = plt.subplot(gs[2, :])\n",
    "cbar = plt.colorbar(cplot, cax=cax, orientation='horizontal')\n",
    "cbar.ax.set_title('Signal-to-noise')"
   ]
  },
  {
   "cell_type": "code",
   "execution_count": null,
   "id": "ae6e56b7",
   "metadata": {
    "ExecuteTime": {
     "end_time": "2023-04-07T05:16:31.684376Z",
     "start_time": "2023-04-07T05:16:31.684343Z"
    }
   },
   "outputs": [],
   "source": [
    "\n",
    "fig = plt.figure(figsize=(22,16))\n",
    "gs = gridspec.GridSpec(3, 2, height_ratios=[1, 1, 0.1])\n",
    "ax1 = fig.add_subplot(gs[0, 0], projection=ccrs.PlateCarree())\n",
    "ax2 = fig.add_subplot(gs[0, 1], projection=ccrs.PlateCarree())\n",
    "ax3 = fig.add_subplot(gs[1, 0], projection=ccrs.PlateCarree())\n",
    "ax4 = fig.add_subplot(gs[1, 1], projection=ccrs.PlateCarree())\n",
    "\n",
    "plot_kwargs = dict(levels=signal_to_noise_levels, cmap='RdBu_r', add_colorbar=False, extend='both')\n",
    "\n",
    "window=21\n",
    "exp_local_sn_rolling_ds.lower_bound.mean(dim='model').sel(window=window).plot(ax=ax1, **plot_kwargs)\n",
    "cplot = exp_local_sn_rolling_ds.upper_bound.mean(dim='model').sel(window=window).plot(ax=ax2, **plot_kwargs)\n",
    "\n",
    "window=41\n",
    "exp_local_sn_rolling_ds.lower_bound.mean(dim='model').sel(window=window).plot(ax=ax3, **plot_kwargs)\n",
    "exp_local_sn_rolling_ds.upper_bound.mean(dim='model').sel(window=window).plot(ax=ax4, **plot_kwargs)\n",
    "\n",
    "sn_plotting.format_plot(fig, ax1)\n",
    "sn_plotting.format_plot(fig, ax2)\n",
    "sn_plotting.format_plot(fig, ax3)\n",
    "sn_plotting.format_plot(fig, ax4)\n",
    "\n",
    "ax1.set_title('Lower Bound', fontsize=16)\n",
    "ax2.set_title('Upper Bound', fontsize=16)\n",
    "fig.suptitle(f'Multi-model Mean Bounds ({window=})', fontsize=22, y=0.9)\n",
    "\n",
    "\n",
    "cax = plt.subplot(gs[2, :])\n",
    "cbar = plt.colorbar(cplot, cax=cax, orientation='horizontal')\n",
    "cbar.ax.set_title('Signal-to-noise')"
   ]
  },
  {
   "cell_type": "code",
   "execution_count": null,
   "id": "297f7d59",
   "metadata": {
    "ExecuteTime": {
     "end_time": "2023-04-07T05:16:31.685908Z",
     "start_time": "2023-04-07T05:16:31.685868Z"
    }
   },
   "outputs": [],
   "source": [
    "((rollling_year_stable_local_average.squeeze().drop('variable').to_array(name='new') -\n",
    "    static_year_stable_local_average.squeeze().drop('variable').to_array(name='new')).\n",
    " isel(window=0).sel(variable='average_value')).plot()"
   ]
  },
  {
   "cell_type": "code",
   "execution_count": null,
   "id": "f36856d6",
   "metadata": {
    "ExecuteTime": {
     "end_time": "2023-04-07T05:16:31.698292Z",
     "start_time": "2023-04-07T05:16:31.698258Z"
    }
   },
   "outputs": [],
   "source": [
    "fig, axes, plots = sn_plotting.map_plot_all_for_coords(\n",
    "    rollling_year_stable_local_average[['average_value']] -\\\n",
    "    static_year_stable_local_average[['average_value']], hspace=.6, \n",
    "    column_coord='window', column_title_tag='Years', y=1.2, row_labels=['Mean'],\n",
    "    variable=experiment_params['variable'], extend='neither', cmap='RdBu')\n",
    "\n",
    "\n",
    "save_name = os.path.join(constants.IMAGE_SAVE_DIR_TOP_LEVEL,\n",
    "                         f'{notebook_number}_global_average_year_of_diff.png')\n",
    "print(save_name)\n",
    "fig.savefig(save_name, dpi=300, bbox_inches='tight')"
   ]
  },
  {
   "cell_type": "code",
   "execution_count": null,
   "id": "614b54f1",
   "metadata": {
    "ExecuteTime": {
     "end_time": "2023-04-07T05:16:31.699792Z",
     "start_time": "2023-04-07T05:16:31.699759Z"
    }
   },
   "outputs": [],
   "source": [
    "reload(sn_plotting)\n",
    "reload(plotting_functions)"
   ]
  },
  {
   "cell_type": "code",
   "execution_count": null,
   "id": "7ae56066",
   "metadata": {
    "ExecuteTime": {
     "end_time": "2023-04-07T05:16:31.701369Z",
     "start_time": "2023-04-07T05:16:31.701336Z"
    }
   },
   "outputs": [],
   "source": [
    "fig, axes, plots = sn_plotting.map_plot_all_for_coords(\n",
    "    rollling_year_stable_local_average.squeeze().drop('variable').to_array(name='new'), column_coord='window',\n",
    "    column_title_tag='Years', y=1.05, row_coord='variable', row_labels=['Mean', 'Uncertainty'],\n",
    "    variable=experiment_params['variable'], extend='max', cmap='Blues', vmin=0, one_colorbar=True)\n",
    "\n",
    "save_name = os.path.join(constants.IMAGE_SAVE_DIR_TOP_LEVEL,\n",
    "                         f'{notebook_number}_local_average_year_of_stabilisation_rolling.png')\n",
    "print(save_name)\n",
    "fig.savefig(save_name, dpi=300, bbox_inches='tight')"
   ]
  },
  {
   "cell_type": "code",
   "execution_count": null,
   "id": "ec095514",
   "metadata": {
    "ExecuteTime": {
     "end_time": "2023-04-07T05:16:31.702856Z",
     "start_time": "2023-04-07T05:16:31.702823Z"
    }
   },
   "outputs": [],
   "source": [
    "fig, axes, plots = sn_plotting.map_plot_all_for_coords(\n",
    "    static_year_stable_local_average.squeeze().drop('variable').to_array(name='new'), column_coord='window',\n",
    "    column_title_tag='Years', y=1.05, row_coord='variable', row_labels=['Mean', 'Uncertainty'],\n",
    "    variable=experiment_params['variable'], extend='max', cmap='Blues', vmin=0, one_colorbar=True)\n",
    "\n",
    "save_name = os.path.join(constants.IMAGE_SAVE_DIR_TOP_LEVEL,\n",
    "                         f'{notebook_number}_local_average_year_of_stabilisation_static.png')\n",
    "print(save_name)\n",
    "fig.savefig(save_name, dpi=300, bbox_inches='tight')"
   ]
  },
  {
   "cell_type": "code",
   "execution_count": null,
   "id": "5d0f1e0f",
   "metadata": {
    "ExecuteTime": {
     "end_time": "2023-04-07T05:16:31.710452Z",
     "start_time": "2023-04-07T05:16:31.710418Z"
    }
   },
   "outputs": [],
   "source": [
    "fig, axes, plots = sn_plotting.map_plot_all_for_coords(\n",
    "    static_year_stable_local, column_coord='window', row_coord='model', y=0.92,\n",
    "    variable=experiment_params['variable'], extend='max', cmap='Blues', vmin=0)\n",
    "\n",
    "save_name = os.path.join(constants.IMAGE_SAVE_DIR_TOP_LEVEL,\n",
    "                         f'{notebook_number}_all_model_year_of_stabilisation_static.png')\n",
    "print(save_name)\n",
    "fig.savefig(save_name, dpi=300, bbox_inches='tight')"
   ]
  },
  {
   "cell_type": "code",
   "execution_count": null,
   "id": "1543b941",
   "metadata": {
    "ExecuteTime": {
     "end_time": "2023-04-07T05:16:31.715745Z",
     "start_time": "2023-04-07T05:16:31.715711Z"
    }
   },
   "outputs": [],
   "source": [
    "fig, axes, plots = sn_plotting.map_plot_all_for_coords(\n",
    "    rolling_year_stable_local, column_coord='window', row_coord='model', y=0.92,\n",
    "    variable=experiment_params['variable'], extend='max', cmap='Blues', vmin=0)\n",
    "\n",
    "save_name = os.path.join(constants.IMAGE_SAVE_DIR_TOP_LEVEL,\n",
    "                         f'{notebook_number}_all_model_year_of_stabilisation_rolling.png')\n",
    "print(save_name)\n",
    "fig.savefig(save_name, dpi=300, bbox_inches='tight')"
   ]
  },
  {
   "cell_type": "markdown",
   "id": "2c941093",
   "metadata": {
    "tags": []
   },
   "source": [
    "# Global"
   ]
  },
  {
   "cell_type": "markdown",
   "id": "7e8609ce-cc11-4b3e-a375-218cc69664fb",
   "metadata": {
    "tags": []
   },
   "source": [
    "## Calculations"
   ]
  },
  {
   "cell_type": "code",
   "execution_count": null,
   "id": "2e2352f6",
   "metadata": {
    "ExecuteTime": {
     "end_time": "2023-04-07T05:16:31.807471Z",
     "start_time": "2023-04-07T05:16:31.807435Z"
    }
   },
   "outputs": [],
   "source": [
    "trend_da = stats.trend_fit(experiment_zec_ds_smean, method='polynomial', order=3)\n",
    "detrended_da = experiment_zec_ds_smean - trend_da"
   ]
  },
  {
   "cell_type": "code",
   "execution_count": null,
   "id": "991e6a79",
   "metadata": {
    "ExecuteTime": {
     "end_time": "2023-04-07T05:16:31.809043Z",
     "start_time": "2023-04-07T05:16:31.809009Z"
    }
   },
   "outputs": [],
   "source": [
    "sn_multi_static_ds = sn.multiwindow_signal_to_nosie_and_bounds(\n",
    "    experiment_zec_ds_smean, picontrol_zec_ds_smean,\n",
    "    rolling_noise=False, da_for_noise = detrended_da, parallel=False,\n",
    "    logginglevel='ERROR', return_all=True,\n",
    "    **constants.ZECMIP_MULTI_WINDOW_RUN_PARAMS)"
   ]
  },
  {
   "cell_type": "code",
   "execution_count": null,
   "id": "318e29bd",
   "metadata": {
    "ExecuteTime": {
     "end_time": "2023-04-07T05:16:31.933245Z",
     "start_time": "2023-04-07T05:16:31.933209Z"
    }
   },
   "outputs": [],
   "source": [
    "sn_multi_rolling_ds = sn.multiwindow_signal_to_nosie_and_bounds(\n",
    "    experiment_zec_ds_smean, picontrol_zec_ds_smean,\n",
    "    rolling_noise=True, da_for_noise = detrended_da, parallel=False,\n",
    "    logginglevel='ERROR', return_all=True,\n",
    "    **constants.ZECMIP_MULTI_WINDOW_RUN_PARAMS)"
   ]
  },
  {
   "cell_type": "code",
   "execution_count": null,
   "id": "87de29ea-dad1-4911-8193-ef1a3583a06e",
   "metadata": {
    "ExecuteTime": {
     "end_time": "2023-04-07T05:16:31.934817Z",
     "start_time": "2023-04-07T05:16:31.934784Z"
    }
   },
   "outputs": [],
   "source": [
    "max_effective_length = 50"
   ]
  },
  {
   "cell_type": "code",
   "execution_count": null,
   "id": "d843dd18",
   "metadata": {
    "ExecuteTime": {
     "end_time": "2023-04-07T05:16:31.936315Z",
     "start_time": "2023-04-07T05:16:31.936282Z"
    }
   },
   "outputs": [],
   "source": [
    "# Number of models stable at each time step.\n",
    "rolling_stability_levels_ds = sn.stability_levels(sn_multi_rolling_ds)\n",
    "static_stability_levels_ds = sn.stability_levels(sn_multi_static_ds)\n",
    "\n",
    "# Year when models first become stable.\n",
    "rolling_year_stable = sn.get_stable_year_ds(sn_multi_rolling_ds, max_effective_length=max_effective_length)\n",
    "static_year_stable = sn.get_stable_year_ds(sn_multi_static_ds, max_effective_length=max_effective_length)"
   ]
  },
  {
   "cell_type": "code",
   "execution_count": null,
   "id": "efc82cb3-8451-47c4-9e84-6dbbbebd1d5f",
   "metadata": {
    "ExecuteTime": {
     "end_time": "2023-04-07T05:16:31.937840Z",
     "start_time": "2023-04-07T05:16:31.937807Z"
    }
   },
   "outputs": [],
   "source": [
    "unstable_rolling = sn_multi_rolling_ds.utils.above_or_below(\n",
    "                                'signal_to_noise', greater_than_var='upper_bound', less_than_var='lower_bound')\n",
    "unstable_rolling"
   ]
  },
  {
   "cell_type": "code",
   "execution_count": null,
   "id": "08cbdd0c-b38d-4be8-a362-703808edc946",
   "metadata": {
    "ExecuteTime": {
     "end_time": "2023-04-07T05:16:31.939383Z",
     "start_time": "2023-04-07T05:16:31.939350Z"
    }
   },
   "outputs": [],
   "source": [
    "@njit()\n",
    "def mean_after_index(arr, index, window):\n",
    "    val_array = []\n",
    "    for num,ind in enumerate(index):\n",
    "        vals = arr[num, ind:ind+window]\n",
    "        val_array.append(np.nanmean(vals))\n",
    "    return val_array"
   ]
  },
  {
   "cell_type": "code",
   "execution_count": null,
   "id": "5e0cb20f-0edd-4594-9b6f-a8ab966e3660",
   "metadata": {
    "ExecuteTime": {
     "end_time": "2023-04-07T05:16:31.940880Z",
     "start_time": "2023-04-07T05:16:31.940848Z"
    }
   },
   "outputs": [],
   "source": [
    "def index_over_dim(da:xr.DataArray, index_da:xr.DataArray)->xr.DataArray:\n",
    "    arr = da.values; val_stor = []\n",
    "    for window in index_da.window.values:\n",
    "        index = index_da.sel(window=window).squeeze().time.values\n",
    "        val_array = mean_after_index(arr, index, window=window)\n",
    "        val_stor.append(np.array(val_array))\n",
    "    return np.array(val_stor)"
   ]
  },
  {
   "cell_type": "code",
   "execution_count": null,
   "id": "2b26963c-2b04-448a-9798-67b644303902",
   "metadata": {
    "ExecuteTime": {
     "end_time": "2023-04-07T05:16:31.942401Z",
     "start_time": "2023-04-07T05:16:31.942368Z"
    }
   },
   "outputs": [],
   "source": [
    "stable_temp_ds = xr.zeros_like(rolling_year_stable.squeeze().rename({'time':'temp'})).to_array().astype(float)\n",
    "\n",
    "stable_temp_ds += index_over_dim(experiment_zec_ds_smean.squeeze().transpose(), rolling_year_stable)"
   ]
  },
  {
   "cell_type": "code",
   "execution_count": null,
   "id": "6a3b4239-bb03-4d60-a43c-470f46f4fede",
   "metadata": {
    "ExecuteTime": {
     "end_time": "2023-04-07T05:16:31.951087Z",
     "start_time": "2023-04-07T05:16:31.951052Z"
    }
   },
   "outputs": [],
   "source": [
    "experiment_zec_da.shape"
   ]
  },
  {
   "cell_type": "code",
   "execution_count": null,
   "id": "e3625c9d-e96b-45ea-a78b-6085a8da3e98",
   "metadata": {
    "ExecuteTime": {
     "end_time": "2023-04-07T05:16:31.954126Z",
     "start_time": "2023-04-07T05:16:31.954092Z"
    }
   },
   "outputs": [],
   "source": [
    "rolling_year_stable_local.isel(window=0).squeeze().time.shape"
   ]
  },
  {
   "cell_type": "code",
   "execution_count": null,
   "id": "62f1475c",
   "metadata": {
    "ExecuteTime": {
     "end_time": "2023-04-07T05:16:31.955638Z",
     "start_time": "2023-04-07T05:16:31.955605Z"
    }
   },
   "outputs": [],
   "source": [
    "experiment_zec_da"
   ]
  },
  {
   "cell_type": "code",
   "execution_count": null,
   "id": "586df05f",
   "metadata": {
    "ExecuteTime": {
     "end_time": "2023-04-07T05:16:31.957147Z",
     "start_time": "2023-04-07T05:16:31.957114Z"
    }
   },
   "outputs": [],
   "source": [
    "experiment_zec_da_anom = experiment_zec_da - experiment_zec_da.isel(time=slice(None, 10)).mean(dim='time')"
   ]
  },
  {
   "cell_type": "code",
   "execution_count": null,
   "id": "5c257c82",
   "metadata": {
    "ExecuteTime": {
     "end_time": "2023-04-07T05:16:31.958695Z",
     "start_time": "2023-04-07T05:16:31.958662Z"
    }
   },
   "outputs": [],
   "source": [
    "experiment_zec_da_anom.isel(model=0)"
   ]
  },
  {
   "cell_type": "code",
   "execution_count": null,
   "id": "d4f5c794-8955-482c-87c3-54d8b54a5552",
   "metadata": {
    "ExecuteTime": {
     "end_time": "2023-04-07T05:16:31.991926Z",
     "start_time": "2023-04-07T05:16:31.991891Z"
    }
   },
   "outputs": [],
   "source": [
    "arr1 = experiment_zec_da.values\n",
    "arr2 = rolling_year_stable_local.isel(window=0).squeeze().time.values"
   ]
  },
  {
   "cell_type": "code",
   "execution_count": null,
   "id": "84d7d276-01a7-49ec-b96e-5206e89d3d3a",
   "metadata": {
    "ExecuteTime": {
     "end_time": "2023-04-07T05:16:31.993472Z",
     "start_time": "2023-04-07T05:16:31.993439Z"
    }
   },
   "outputs": [],
   "source": [
    "I, J, K = np.ix_(np.arange(8), np.arange(96), np.arange(192))"
   ]
  },
  {
   "cell_type": "code",
   "execution_count": null,
   "id": "4f59d77c-2cc1-4701-8336-6a46899c832b",
   "metadata": {
    "ExecuteTime": {
     "end_time": "2023-04-07T05:16:31.995010Z",
     "start_time": "2023-04-07T05:16:31.994976Z"
    }
   },
   "outputs": [],
   "source": [
    "anomaly_at_index_ds = xr.zeros_like(rolling_year_stable_local.isel(window=0).squeeze().rename({'time':'temp'}))\n",
    "anomaly_at_index_ds += arr1[arr2.astype(int), I, J, K]"
   ]
  },
  {
   "cell_type": "code",
   "execution_count": null,
   "id": "d8e770fb",
   "metadata": {
    "ExecuteTime": {
     "end_time": "2023-04-07T05:16:31.996485Z",
     "start_time": "2023-04-07T05:16:31.996453Z"
    }
   },
   "outputs": [],
   "source": [
    "anomaly_at_index_ds.temp.isel(model=0).plot()"
   ]
  },
  {
   "cell_type": "markdown",
   "id": "8344e203",
   "metadata": {
    "jp-MarkdownHeadingCollapsed": true,
    "tags": []
   },
   "source": [
    "# Plotting"
   ]
  },
  {
   "cell_type": "code",
   "execution_count": null,
   "id": "d3787119-b625-4ae8-9a2d-373d2dbbe722",
   "metadata": {
    "ExecuteTime": {
     "end_time": "2023-04-07T05:16:31.997999Z",
     "start_time": "2023-04-07T05:16:31.997962Z"
    }
   },
   "outputs": [],
   "source": [
    "model = 2"
   ]
  },
  {
   "cell_type": "code",
   "execution_count": null,
   "id": "0d504549-0543-4732-8d39-5175aa4e9aaa",
   "metadata": {
    "ExecuteTime": {
     "end_time": "2023-04-07T05:16:32.211151Z",
     "start_time": "2023-04-07T05:16:32.211115Z"
    }
   },
   "outputs": [],
   "source": [
    "# Manual Calculation for Demonstations\n",
    "WINDOW=25\n",
    "# Sample period is the years that we want to look at\n",
    "sample_period = (0,WINDOW) #(1200,1261), 61\n",
    "\n",
    "# The length of the sample_period varible\n",
    "window_length = WINDOW\n",
    "\n",
    "# Subset\n",
    "sample_data = experiment_zec_ds_smean.isel(time=slice(*sample_period), model=model)\n",
    "sample_values = sample_data.values\n",
    "x = np.arange(len(sample_values))\n",
    "\n",
    "# Gradient and y-intercept of the sample data (use=[0,1] will return grad and y intercept)\n",
    "p = np.polyfit(x=x, y=sample_values, deg=1)\n",
    "fitted_line = np.polyval(p, x=x)"
   ]
  },
  {
   "cell_type": "code",
   "execution_count": null,
   "id": "6f23b679-1e87-4c9b-86af-69a04086ef6e",
   "metadata": {
    "ExecuteTime": {
     "end_time": "2023-04-07T05:16:32.212764Z",
     "start_time": "2023-04-07T05:16:32.212731Z"
    }
   },
   "outputs": [],
   "source": [
    "plt.style.use('seaborn-darkgrid')\n",
    "fig = plt.figure(figsize=(12,18))\n",
    "axes = [fig.add_subplot(3,1,i) for i in range(1,3)]\n",
    "\n",
    "\n",
    "# ---> axes[0]\n",
    "sample_data.plot(ax=axes[0], marker='o', label='Simulation', color='green')\n",
    "axes[0].plot(sample_data.time.values, fitted_line, label='Lienar Trend Fit', color='blue')\n",
    "axes[0].set_xlim(sample_data.time.values[0], sample_data.time.values[-1])\n",
    "axes[0].legend(ncol=2, fontsize=constants.PlotConfig.legend_text_size)\n",
    "\n",
    "plotting_functions.format_axis(axes[0], title='Signal Calculation', xlabel='Time (years)', ylabel='GMST\\n'+r'Anomaly ($^{\\circ}C$)', labelpad=55)\n",
    "plotting_functions.add_figure_label(axes[0], 'a)')\n",
    "\n",
    "# ---> axes[1]\n",
    "ax1 = axes[1]; ax2 = axes[1].twinx()\n",
    "lns1 = experiment_zec_ds_smean.isel(model=model).plot(ax=ax1, color='green', label='Simulation')\n",
    "lns2 = trend_da.isel(model=model).plot(ax=ax1, label='Trend Line', color='green', linestyle=':')\n",
    "lns3 = detrended_da.isel(model=model).plot(ax=ax2, label='De-trended Simulation', color='blue')\n",
    "\n",
    "ax1.set_yticks([0.8, 1, 1.2, 1.4, 1.6, 1.8])\n",
    "ax1.set_ylim([0.8, 1.8])\n",
    "ax2_ytick_locations=np.linspace(ax2.get_yticks()[0], ax2.get_yticks()[-1], len(ax1.get_yticks()))\n",
    "ax2.set_yticks(ax2_ytick_locations)\n",
    "\n",
    "lns = lns1+lns2+lns3\n",
    "labs = [l.get_label() for l in lns]\n",
    "ax1.legend(lns, labs, ncol=3, loc='best', fontsize=constants.PlotConfig.legend_text_size)\n",
    "\n",
    "plotting_functions.format_axis(ax1, title='Noise Calculation', xlabel='Time (years)', ylabel='GMST\\n'+r'Anomaly ($^{\\circ}C$)', labelpad=55)\n",
    "plotting_functions.format_axis(ax2, title='Noise Calculation', ylabel='GMST\\nAnomaly\\nDetrended' + r'($^{\\circ}C$)', labelpad=55)\n",
    "plotting_functions.add_figure_label(ax1, 'b)')\n",
    "\n",
    "fig.savefig(os.path.join(constants.IMAGE_SAVE_DIR_TOP_LEVEL, f'{notebook_number}_method_demonstration.png'), bbox_inches='tight', dpi=300)"
   ]
  },
  {
   "cell_type": "code",
   "execution_count": null,
   "id": "5de1f6c3",
   "metadata": {
    "ExecuteTime": {
     "end_time": "2023-04-07T05:16:32.214303Z",
     "start_time": "2023-04-07T05:16:32.214270Z"
    }
   },
   "outputs": [],
   "source": [
    "models = experiment_zec_ds_smean.model.values\n",
    "ncols = 2\n",
    "nrows = int(np.ceil(len(models)/ncols))\n",
    "\n",
    "fig = plt.figure(figsize=(8*ncols, 3*nrows))\n",
    "for plot_num, model in enumerate(models):\n",
    "    ax = fig.add_subplot(nrows,ncols,plot_num+1)\n",
    "    experiment_zec_ds_smean.sel(model=model).plot(ax=ax, color='red')\n",
    "    trend_da.sel(model=model).plot(ax=ax, linewidth=2.5, color='green')\n",
    "    detrended_da.sel(model=model).plot(ax=ax, color='blue')"
   ]
  },
  {
   "cell_type": "code",
   "execution_count": null,
   "id": "2aeaf568",
   "metadata": {
    "ExecuteTime": {
     "end_time": "2023-04-07T05:16:32.215758Z",
     "start_time": "2023-04-07T05:16:32.215725Z"
    }
   },
   "outputs": [],
   "source": [
    "fig, ax = sn_plotting.plot_median_stable_year(static_year_stable, rolling_year_stable)\n",
    "\n",
    "fig.savefig(os.path.join(constants.IMAGE_SAVE_DIR_TOP_LEVEL,\n",
    "                         f'{notebook_number}_stabilisation_year_double_poly_vs_static.png'),\n",
    "           dpi=300)"
   ]
  },
  {
   "cell_type": "code",
   "execution_count": null,
   "id": "d756e612",
   "metadata": {
    "ExecuteTime": {
     "end_time": "2023-04-07T05:16:32.217306Z",
     "start_time": "2023-04-07T05:16:32.217273Z"
    }
   },
   "outputs": [],
   "source": [
    "fig, ax = sn_plotting.plot_stable_year_all_models(static_year_stable-rolling_year_stable, exp_type='zecmip')\n",
    "\n",
    "save_name = os.path.join(constants.IMAGE_SAVE_DIR_TOP_LEVEL,\n",
    "                         f'{notebook_number}_global_average_year_of_stabilisation_diff.png')\n",
    "print(save_name)\n",
    "fig.savefig(save_name, dpi=300, bbox_inches='tight')"
   ]
  },
  {
   "cell_type": "code",
   "execution_count": null,
   "id": "6f300664",
   "metadata": {
    "ExecuteTime": {
     "end_time": "2023-04-07T05:16:32.218776Z",
     "start_time": "2023-04-07T05:16:32.218744Z"
    }
   },
   "outputs": [],
   "source": [
    "fig, ax = sn_plotting.plot_stable_year_all_models(static_year_stable, exp_type='zecmip')\n",
    "save_name = os.path.join(constants.IMAGE_SAVE_DIR_TOP_LEVEL,\n",
    "                         f'{notebook_number}_global_average_year_of_stabilisation_static.png')\n",
    "print(save_name)\n",
    "fig.savefig(save_name, dpi=300, bbox_inches='tight')"
   ]
  },
  {
   "cell_type": "code",
   "execution_count": null,
   "id": "a3bb9a0c",
   "metadata": {
    "ExecuteTime": {
     "end_time": "2023-04-07T05:16:32.220694Z",
     "start_time": "2023-04-07T05:16:32.220661Z"
    }
   },
   "outputs": [],
   "source": [
    "fig, ax = sn_plotting.plot_stable_year_all_models(rolling_year_stable, exp_type='zecmip')\n",
    "save_name = os.path.join(constants.IMAGE_SAVE_DIR_TOP_LEVEL, f'{notebook_number}_global_average_year_of_stabilisation_rolling.png')\n",
    "print(save_name)\n",
    "fig.savefig(save_name, dpi=300, bbox_inches='tight')"
   ]
  },
  {
   "cell_type": "code",
   "execution_count": null,
   "id": "27a3a844-3365-4266-ae5e-011a2eac4716",
   "metadata": {
    "ExecuteTime": {
     "end_time": "2023-04-07T05:16:32.222347Z",
     "start_time": "2023-04-07T05:16:32.222314Z"
    }
   },
   "outputs": [],
   "source": [
    "fig, ax = sn_plotting.plot_stable_year_all_models(stable_temp_ds_2.to_dataset(name='time'), exp_type='zecmip', \n",
    "                                                 xlabel=f'Global Mean\\n{longname} Anomaly\\n({units})')"
   ]
  },
  {
   "cell_type": "code",
   "execution_count": null,
   "id": "92996a07-52a7-4016-8214-605e87746ce5",
   "metadata": {
    "ExecuteTime": {
     "end_time": "2023-04-07T05:16:32.223792Z",
     "start_time": "2023-04-07T05:16:32.223759Z"
    }
   },
   "outputs": [],
   "source": [
    "reload(sn_plotting)\n",
    "reload(plotting_functions)"
   ]
  },
  {
   "cell_type": "code",
   "execution_count": null,
   "id": "acc81393-10a2-4735-a14c-4a237b4d011b",
   "metadata": {
    "ExecuteTime": {
     "end_time": "2023-04-07T05:16:32.225386Z",
     "start_time": "2023-04-07T05:16:32.225353Z"
    }
   },
   "outputs": [],
   "source": [
    "fig = plt.figure(figsize=(35, 16))\n",
    "gs = gridspec.GridSpec(1,2, wspace=0.25)\n",
    "ax1 = fig.add_subplot(gs[0])\n",
    "ax2 = fig.add_subplot(gs[1])\n",
    "reload(sn_plotting)\n",
    "fig, ax = sn_plotting.plot_stable_year_all_models(rolling_year_stable, exp_type='zecmip', ncol=5, \n",
    "                                                 fig=fig, ax=ax1, legend_loc = 'top_ofset',\n",
    "                                                 bbox_to_anchor=(2.1, 1.15), font_scale=1.5)\n",
    "\n",
    "fig, ax =sn_plotting.plot_stable_year_all_models(stable_temp_ds_2.to_dataset(name='time'), fig=fig, ax=ax2, exp_type='zecmip', \n",
    "                                                 xlabel=f'Global Mean\\n{longname} Anomaly\\n({units})',\n",
    "                                                 add_legend=False, font_scale=1.5, xlabelpad=60)\n",
    "\n",
    "save_name = os.path.join(constants.IMAGE_SAVE_DIR_TOP_LEVEL,\n",
    "                         f'{notebook_number}_global_average_year_of_stabilisation_and_temp_anomaly.png')\n",
    "print(save_name)\n",
    "fig.savefig(save_name, dpi=300, bbox_inches='tight')"
   ]
  },
  {
   "cell_type": "code",
   "execution_count": null,
   "id": "6130018f-ae49-4cbf-b508-b56f76da3676",
   "metadata": {
    "ExecuteTime": {
     "end_time": "2023-04-07T05:16:32.226876Z",
     "start_time": "2023-04-07T05:16:32.226843Z"
    }
   },
   "outputs": [],
   "source": [
    "reload(sn_plotting)"
   ]
  },
  {
   "cell_type": "code",
   "execution_count": null,
   "id": "a34da1e3",
   "metadata": {
    "ExecuteTime": {
     "end_time": "2023-04-07T05:16:32.228388Z",
     "start_time": "2023-04-07T05:16:32.228355Z"
    }
   },
   "outputs": [],
   "source": [
    "fig = plt.figure(figsize=(35, 16))\n",
    "gs = gridspec.GridSpec(1,2, wspace=0.25)\n",
    "ax1 = fig.add_subplot(gs[0])\n",
    "ax2 = fig.add_subplot(gs[1])\n",
    "reload(sn_plotting)\n",
    "fig, ax = sn_plotting.plot_stable_year_all_models(rolling_year_stable, exp_type='zecmip', ncol=5, \n",
    "                                                 fig=fig, ax=ax1, legend_loc = 'top_ofset',\n",
    "                                                 bbox_to_anchor=(2.1, 1.15), font_scale=1.5)\n",
    "fig, ax = sn_plotting.plot_stable_year_all_models(static_year_stable, exp_type='zecmip', \n",
    "                                                 fig=fig, ax=ax2, add_legend=False, font_scale=1.5)\n",
    "save_name = os.path.join(constants.IMAGE_SAVE_DIR_TOP_LEVEL,\n",
    "                         f'{notebook_number}_global_average_year_of_stabilisation_static_and_rolling.png')\n",
    "print(save_name)\n",
    "fig.savefig(save_name, dpi=300, bbox_inches='tight')"
   ]
  },
  {
   "cell_type": "code",
   "execution_count": null,
   "id": "356b2d1a",
   "metadata": {
    "ExecuteTime": {
     "end_time": "2023-04-07T05:16:32.229902Z",
     "start_time": "2023-04-07T05:16:32.229851Z"
    }
   },
   "outputs": [],
   "source": [
    "units = constants.VARIABLE_INFO[experiment_params[\"variable\"]][\"units\"]\n",
    "longname = constants.VARIABLE_INFO[experiment_params[\"variable\"]]['longname']\n",
    "hemisphere_title = string.capwords(experiment_params['hemisphere'].replace('_', ' '))\n",
    "mask_title = f'({experiment_params[\"mask\"]} only)' if experiment_params[\"mask\"] else ''"
   ]
  },
  {
   "cell_type": "code",
   "execution_count": null,
   "id": "4df8b080",
   "metadata": {
    "ExecuteTime": {
     "end_time": "2023-04-07T05:16:32.343733Z",
     "start_time": "2023-04-07T05:16:32.343696Z"
    }
   },
   "outputs": [],
   "source": [
    "plt.style.use('seaborn-darkgrid')\n",
    "fig, ax = sn_plotting.plot_all_coord_lines(picontrol_zec_ds_smean, exp_type='zecmip', xlabel='Time (Years)',\n",
    "                              ylabel=f'Global Mean\\n{longname}\\n({units})', ncol=1)\n",
    "save_name = os.path.join(constants.IMAGE_SAVE_DIR_TOP_LEVEL, f'{notebook_number}_global_average_picontrol_time_series.png'); print(save_name)\n",
    "# fig.savefig(save_name, dpi=300, bbox_inches='tight')"
   ]
  },
  {
   "cell_type": "code",
   "execution_count": null,
   "id": "23a4ee59",
   "metadata": {
    "ExecuteTime": {
     "end_time": "2023-04-07T05:16:32.345493Z",
     "start_time": "2023-04-07T05:16:32.345460Z"
    }
   },
   "outputs": [],
   "source": [
    "plt.style.use('seaborn-darkgrid')\n",
    "fig, ax = sn_plotting.plot_all_coord_lines(experiment_zec_ds_smean, exp_type='zecmip',\n",
    "                               xlabel='Time (Years)', ylabel=f'Global Mean\\n{longname}\\nAnomaly({units})', ncol=1)\n",
    "save_name = os.path.join(constants.IMAGE_SAVE_DIR_TOP_LEVEL,\n",
    "                         f'{notebook_number}_global_average_A1_time_series.png')\n",
    "print(save_name)\n",
    "fig.savefig(save_name, dpi=300, bbox_inches='tight')"
   ]
  },
  {
   "cell_type": "code",
   "execution_count": null,
   "id": "6566dc39",
   "metadata": {
    "ExecuteTime": {
     "end_time": "2023-04-07T05:16:32.347016Z",
     "start_time": "2023-04-07T05:16:32.346981Z"
    }
   },
   "outputs": [],
   "source": [
    "models = rolling_year_stable.model.values\n",
    "levels = np.arange(0, len(models)+1,1)\n",
    "my_blues = plotting_functions.create_discrete_cmap('Blues', levels=levels, add_white=True)\n",
    "my_reds = plotting_functions.create_discrete_cmap('Reds', levels=levels, add_white=True)\n",
    "\n",
    "plot_kwargs = dict(exp_type='zecmip',vmin=0, vmax=len(models)+1, step=1, tick_offset='center',\n",
    "                   extend='neither', cbar_label='Number of Unstable Models')\n",
    "\n",
    "comparison_kwargs = dict(max_color_lim=50, xlims=(0,50), font_scale=1.6)"
   ]
  },
  {
   "cell_type": "code",
   "execution_count": null,
   "id": "6aaf6da9",
   "metadata": {
    "ExecuteTime": {
     "end_time": "2023-04-07T05:16:32.348483Z",
     "start_time": "2023-04-07T05:16:32.348450Z"
    }
   },
   "outputs": [],
   "source": [
    "mpl.rcParams.update(mpl.rcParamsDefault)\n",
    "\n",
    "fig = plt.figure(figsize=(sn_plotting.plot_kwargs['width'],\n",
    "                          sn_plotting.plot_kwargs['height']*2.1))\n",
    "\n",
    "gs = gridspec.GridSpec(3,1, height_ratios=[1, 1, 0.1], hspace=sn_plotting.plot_kwargs['hspace'])\n",
    "axes = [fig.add_subplot(gs[i]) for i in range(3)]\n",
    "\n",
    "sn_plotting.sn_multi_window_in_time(\n",
    "    static_stability_levels_ds.sel(stability='unstable').count(dim='model'), cmap=my_blues,\n",
    "    fig=fig, gs=gs, ax=axes[0], add_colorbar=False, return_all=False, axes_title='Static Noise',\n",
    "    **plot_kwargs, **comparison_kwargs)\n",
    "\n",
    "sn_plotting.sn_multi_window_in_time(\n",
    "    rolling_stability_levels_ds.sel(stability='unstable').count(dim='model'), cmap=my_blues,\n",
    "    fig=fig, gs=gs, ax=axes[1], cax=axes[2], return_all=False, axes_title='Rolling Noise',\n",
    "    **plot_kwargs, **comparison_kwargs)\n",
    "\n",
    "\n",
    "save_name = os.path.join(constants.IMAGE_SAVE_DIR_TOP_LEVEL,\n",
    "   f'{notebook_number}_global_average_stabilisation_pattern_comparison_static_and_rolling.png')\n",
    "print(save_name)\n",
    "fig.savefig(save_name, dpi=300, bbox_inches='tight')"
   ]
  },
  {
   "cell_type": "code",
   "execution_count": null,
   "id": "f9169f7c-84df-4a20-9de4-4d34c2f1afab",
   "metadata": {
    "ExecuteTime": {
     "end_time": "2023-04-07T05:16:32.350043Z",
     "start_time": "2023-04-07T05:16:32.350010Z"
    }
   },
   "outputs": [],
   "source": [
    "reload(sn_plotting)\n",
    "%matplotlib inline"
   ]
  },
  {
   "cell_type": "code",
   "execution_count": null,
   "id": "5c7c1f42-de18-48a4-bca4-aa7970b76264",
   "metadata": {
    "ExecuteTime": {
     "end_time": "2023-04-07T05:16:32.351541Z",
     "start_time": "2023-04-07T05:16:32.351508Z"
    }
   },
   "outputs": [],
   "source": [
    "stability_colorplot_kwargs = dict(max_color_lim=50, xlims=(0, 90),patch=True,\n",
    "                                  ax2_ylabel=f'Global Mean\\n{longname}\\nAnomaly({units})')"
   ]
  },
  {
   "cell_type": "code",
   "execution_count": null,
   "id": "d9696934-148d-4d9c-ab74-14f688d6325b",
   "metadata": {
    "ExecuteTime": {
     "end_time": "2023-04-07T05:16:32.353063Z",
     "start_time": "2023-04-07T05:16:32.353030Z"
    },
    "tags": []
   },
   "outputs": [],
   "source": [
    "models = unstalbe_rolling.model.values\n",
    "sn_levels = np.arange(-4, 4+.5, 0.5)\n",
    "\n",
    "fig = plt.figure(figsize=(sn_plotting.plot_kwargs['width'], sn_plotting.plot_kwargs['height']*len(models)/1.5))\n",
    "gs = gridspec.GridSpec(len(models)+1, 1, height_ratios=len(models)*[1] + [0.2], hspace=sn_plotting.plot_kwargs['hspace']*1.1)\n",
    "axes = [fig.add_subplot(gs[i]) for i in range(len(models))]\n",
    "\n",
    "for num, model in enumerate(models):\n",
    "    add_colorbar=False; cax=None\n",
    "    if num == len(models)-1: add_colorbar=True; cax=fig.add_subplot(gs[num+1])\n",
    "    sn_plotting.sn_multi_window_in_time(\n",
    "        unstable_rolling.sel(model=model).signal_to_noise, cmap='RdBu_r',\n",
    "        fig=fig, gs=gs, ax=axes[num], cax=cax, add_colorbar=add_colorbar,\n",
    "        axes_title=model, bbox_to_anchor=(1, 1.4),\n",
    "        temp_da=experiment_zec_ds_smean.sel(model=model),\n",
    "        stable_point_ds = rolling_year_stable.sel(model=model), labelpad=80,\n",
    "        extend='both', cut_ticks=2, vmax=4, step=0.5,  font_scale=1.4, cbar_label='Signal-To-Noise Ratio',\n",
    "        hspace=0.2, return_all=False, **stability_colorplot_kwargs)  \n",
    "    \n",
    "for num, ax in enumerate(axes): plotting_functions.add_figure_label(ax, f'{chr(97+num)})', font_scale=1.4)\n",
    "    \n",
    "save_name = os.path.join(constants.IMAGE_SAVE_DIR_TOP_LEVEL,\n",
    "                         f'{notebook_number}_global_all_model_sn_pattern.png')\n",
    "print(save_name)\n",
    "fig.savefig(save_name, dpi=300, bbox_inches='tight')"
   ]
  },
  {
   "cell_type": "code",
   "execution_count": null,
   "id": "48ca4eca",
   "metadata": {
    "ExecuteTime": {
     "end_time": "2023-04-07T05:16:32.377411Z",
     "start_time": "2023-04-07T05:16:32.377375Z"
    }
   },
   "outputs": [],
   "source": [
    "%matplotlib inline"
   ]
  },
  {
   "cell_type": "code",
   "execution_count": null,
   "id": "8272c5db",
   "metadata": {
    "ExecuteTime": {
     "end_time": "2023-04-07T05:16:32.437541Z",
     "start_time": "2023-04-07T05:16:32.437507Z"
    }
   },
   "outputs": [],
   "source": [
    "reload(plotting_functions)\n",
    "reload(sn_plotting)"
   ]
  },
  {
   "cell_type": "code",
   "execution_count": null,
   "id": "5bc5ed09",
   "metadata": {
    "ExecuteTime": {
     "end_time": "2023-04-07T05:16:32.439124Z",
     "start_time": "2023-04-07T05:16:32.439090Z"
    }
   },
   "outputs": [],
   "source": [
    "fig = plt.figure(figsize=(sn_plotting.plot_kwargs['width'], sn_plotting.plot_kwargs['height']*2.1))\n",
    "\n",
    "gs = gridspec.GridSpec(3,1, height_ratios=[1, 1, 0.1], hspace=sn_plotting.plot_kwargs['hspace'])\n",
    "axes = [fig.add_subplot(gs[i]) for i in range(3)]\n",
    "\n",
    "sn_plotting.sn_multi_window_in_time(\n",
    "    rolling_stability_levels_ds.sel(stability='increasing').count(dim='model'), cmap=my_blues,\n",
    "    fig=fig, gs=gs, ax=axes[0], add_colorbar=False, return_all=False,\n",
    "    axes_title='Increasing Temperature Trends', bbox_to_anchor=(1, 1.4),\n",
    "    temp_da=experiment_zec_ds_smean,  **stability_colorplot_kwargs,  **plot_kwargs)\n",
    "\n",
    "sn_plotting.sn_multi_window_in_time(\n",
    "    rolling_stability_levels_ds.sel(stability='decreasing').count(dim='model'), cmap=my_blues,\n",
    "    fig=fig, gs=gs, ax=axes[1], cax=axes[2], return_all=False,\n",
    "    axes_title='Decreasing Temperature Trends',\n",
    "    add_legend=False,\n",
    "    temp_da=experiment_zec_ds_smean, **stability_colorplot_kwargs,  **plot_kwargs)\n",
    "\n",
    "\n",
    "for num, ax_ in enumerate(axes):\n",
    "    plotting_functions.add_figure_label(ax_, f'{chr(97+num)})')\n",
    "\n",
    "save_name = os.path.join(constants.IMAGE_SAVE_DIR_TOP_LEVEL,\n",
    "                         f'{notebook_number}_global_average_stabilisation_pattern_rolling.png')\n",
    "print(save_name)\n",
    "fig.savefig(save_name, dpi=300, bbox_inches='tight')"
   ]
  },
  {
   "cell_type": "code",
   "execution_count": null,
   "id": "9dc41d2b",
   "metadata": {
    "ExecuteTime": {
     "end_time": "2023-04-07T05:16:32.454433Z",
     "start_time": "2023-04-07T05:16:32.454377Z"
    }
   },
   "outputs": [],
   "source": [
    "%matplotlib inline"
   ]
  },
  {
   "cell_type": "code",
   "execution_count": null,
   "id": "957142eb",
   "metadata": {
    "ExecuteTime": {
     "end_time": "2023-04-07T05:16:32.456466Z",
     "start_time": "2023-04-07T05:16:32.456433Z"
    }
   },
   "outputs": [],
   "source": [
    "fig, axes = sn_plotting.sn_multi_window_in_time(\n",
    "    static_stability_levels_ds.sel(stability='increasing').count(dim='model'),\n",
    "    temp_da=experiment_zec_ds_smean, cmap=my_reds, **stability_colorplot_kwargs,  **plot_kwargs)\n",
    "fig\n",
    "\n",
    "save_name = os.path.join(constants.IMAGE_SAVE_DIR_TOP_LEVEL,\n",
    "                         f'{notebook_number}_global_average_stabilisation_pattern_warming_static.png')\n",
    "print(save_name)\n",
    "fig.savefig(save_name, dpi=300, bbox_inches='tight')\n",
    "fig"
   ]
  },
  {
   "cell_type": "code",
   "execution_count": null,
   "id": "806d35e8",
   "metadata": {
    "ExecuteTime": {
     "end_time": "2023-04-07T05:16:32.457975Z",
     "start_time": "2023-04-07T05:16:32.457913Z"
    }
   },
   "outputs": [],
   "source": [
    "fig, axes = sn_plotting.sn_multi_window_in_time(\n",
    "    static_stability_levels_ds.sel(stability='decreasing').count(dim='model'),\n",
    "    temp_da=experiment_zec_ds_smean, cmap=my_blues, **stability_colorplot_kwargs,  **plot_kwargs)\n",
    "\n",
    "save_name = os.path.join(constants.IMAGE_SAVE_DIR_TOP_LEVEL,\n",
    "                         f'{notebook_number}_global_average_stabilisation_pattern_cooling_static.png')\n",
    "print(save_name)\n",
    "fig.savefig(save_name, dpi=300, bbox_inches='tight')\n",
    "fig"
   ]
  },
  {
   "cell_type": "code",
   "execution_count": null,
   "id": "e4b6ec51",
   "metadata": {
    "ExecuteTime": {
     "end_time": "2023-04-07T05:16:32.459449Z",
     "start_time": "2023-04-07T05:16:32.459416Z"
    }
   },
   "outputs": [],
   "source": [
    "noise_levels = sn_plotting.create_levels(vmax=.13, vmin=0.1, step=.002)"
   ]
  },
  {
   "cell_type": "code",
   "execution_count": null,
   "id": "bfa8392a",
   "metadata": {
    "ExecuteTime": {
     "end_time": "2023-04-07T05:16:32.460899Z",
     "start_time": "2023-04-07T05:16:32.460866Z"
    }
   },
   "outputs": [],
   "source": [
    "%matplotlib inline"
   ]
  },
  {
   "cell_type": "code",
   "execution_count": null,
   "id": "5ac60e80",
   "metadata": {
    "ExecuteTime": {
     "end_time": "2023-04-07T05:16:32.462538Z",
     "start_time": "2023-04-07T05:16:32.462506Z"
    }
   },
   "outputs": [],
   "source": [
    "sn_plotting.plot_heatmap(sn_multi_rolling_ds.noise.mean(dim='model'), levels=noise_levels, \n",
    "                                figsize=(sn_plotting.plot_kwargs['width']/3,\n",
    "                                         sn_plotting.plot_kwargs['height']/2), \n",
    "                               cmap='RdBu', extend='both', cut_ticks=2, max_color_lim=50, \n",
    "                               font_scale=0.8, cbar_label='Noise', hspace=0.2, return_all=False)\n",
    "\n",
    "save_name = os.path.join(constants.IMAGE_SAVE_DIR_TOP_LEVEL,\n",
    "                         f'{notebook_number}_global_average_noise_rolling.png')\n",
    "print(save_name)\n",
    "fig.savefig(save_name, dpi=300, bbox_inches='tight')"
   ]
  },
  {
   "cell_type": "code",
   "execution_count": null,
   "id": "1e844a15",
   "metadata": {
    "ExecuteTime": {
     "end_time": "2023-04-07T05:16:32.464180Z",
     "start_time": "2023-04-07T05:16:32.464147Z"
    }
   },
   "outputs": [],
   "source": [
    "percent_frac = sn_multi_rolling_ds.noise*100/sn_multi_static_ds.noise\n",
    "diff = sn_multi_rolling_ds.noise - sn_multi_static_ds.noise\n",
    "percent_diff = diff * 100/sn_multi_rolling_ds.noise"
   ]
  },
  {
   "cell_type": "code",
   "execution_count": null,
   "id": "e0d8ad1e",
   "metadata": {
    "ExecuteTime": {
     "end_time": "2023-04-07T05:16:32.595911Z",
     "start_time": "2023-04-07T05:16:32.595875Z"
    }
   },
   "outputs": [],
   "source": [
    "# plot_kwargs_2 = dict(height=12, width=22, hspace=0.3, #vmin=-8, vmax=8, step=2, \n",
    "#                    cmap = 'RdBu_r', line_color = 'limegreen', line_alpha=0.65, \n",
    "#                    ax2_ylabel = 'Anomaly', cbar_label = 'Signal-to-Noise', cbartick_offset=0,\n",
    "#                    axes_title='',\n",
    "#                    title='', label_size=12, extend='both', xlowerlim=None, xupperlim=None,  filter_max=True,)"
   ]
  }
 ],
 "metadata": {
  "kernelspec": {
   "display_name": "Python 3 (ipykernel)",
   "language": "python",
   "name": "python3"
  },
  "language_info": {
   "codemirror_mode": {
    "name": "ipython",
    "version": 3
   },
   "file_extension": ".py",
   "mimetype": "text/x-python",
   "name": "python",
   "nbconvert_exporter": "python",
   "pygments_lexer": "ipython3",
   "version": "3.9.15"
  },
  "toc": {
   "base_numbering": 1,
   "nav_menu": {},
   "number_sections": true,
   "sideBar": true,
   "skip_h1_title": false,
   "title_cell": "Table of Contents",
   "title_sidebar": "Contents",
   "toc_cell": false,
   "toc_position": {},
   "toc_section_display": true,
   "toc_window_display": false
  },
  "varInspector": {
   "cols": {
    "lenName": 16,
    "lenType": 16,
    "lenVar": 40
   },
   "kernels_config": {
    "python": {
     "delete_cmd_postfix": "",
     "delete_cmd_prefix": "del ",
     "library": "var_list.py",
     "varRefreshCmd": "print(var_dic_list())"
    },
    "r": {
     "delete_cmd_postfix": ") ",
     "delete_cmd_prefix": "rm(",
     "library": "var_list.r",
     "varRefreshCmd": "cat(var_dic_list()) "
    }
   },
   "oldHeight": 588.85,
   "position": {
    "height": "611.083px",
    "left": "1560px",
    "right": "20px",
    "top": "107px",
    "width": "566.767px"
   },
   "types_to_exclude": [
    "module",
    "function",
    "builtin_function_or_method",
    "instance",
    "_Feature"
   ],
   "varInspector_section_display": "block",
   "window_display": false
  }
 },
 "nbformat": 4,
 "nbformat_minor": 5
}
