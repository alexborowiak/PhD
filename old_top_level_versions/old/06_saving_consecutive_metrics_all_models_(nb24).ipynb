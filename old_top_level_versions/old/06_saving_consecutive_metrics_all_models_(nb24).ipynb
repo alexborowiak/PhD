{
 "cells": [
  {
   "cell_type": "markdown",
   "id": "dcdb290e",
   "metadata": {},
   "source": [
    "# 06_saving_consecutive_metrics_all_models\n",
    "* Calculating the consecutive metrics for all models and then saving this to a folder with in the consecutve metrics folder with the folder name being the window length.\n",
    "\n",
    "PHD-10\n",
    "* Newer more streamlined version from Documents/PhD/03_SN_global_different_windows_(nb25).ipynb\n",
    "* ALl S/N calculation and bound are handled by function"
   ]
  },
  {
   "cell_type": "markdown",
   "id": "4c9edfed",
   "metadata": {},
   "source": [
    "# Preamble"
   ]
  },
  {
   "cell_type": "code",
   "execution_count": 3,
   "id": "b1faf97d",
   "metadata": {},
   "outputs": [],
   "source": [
    "import numpy as np\n",
    "import os\n",
    "from time import perf_counter\n",
    "import itertools\n",
    "import matplotlib.pyplot as plt\n",
    "import xarray as xr\n",
    "from importlib import reload\n",
    "from glob import glob\n",
    "import cartopy.crs as ccrs\n",
    "import matplotlib.ticker as mticker\n",
    "from enum import Enum\n",
    "from dask.diagnostics import ProgressBar\n",
    "from typing import Dict, List"
   ]
  },
  {
   "cell_type": "code",
   "execution_count": 4,
   "id": "abc2014f",
   "metadata": {},
   "outputs": [
    {
     "data": {
      "text/plain": [
       "{'ccsm3': {'control': 1530, '4xCO2': 2120},\n",
       " 'cesm104': {'control': 1000, '4xCO2': 5900},\n",
       " 'cnrmcm61': {'control': 2000, '4xCO2': 1850},\n",
       " 'famous': {'control': 3000, '4xCO2': 3000},\n",
       " 'gisse2r': {'control': 5225, '4xCO2': 5001},\n",
       " 'hadcm3l': {'control': 1000, '4xCO2': 1000},\n",
       " 'ipslcm5a': {'control': 1000, '4xCO2': 1000},\n",
       " 'mpiesm11': {'control': 2000, '4xCO2': 4459},\n",
       " 'mpiesm12': {'control': 1237, '4xCO2': 1000}}"
      ]
     },
     "execution_count": 4,
     "metadata": {},
     "output_type": "execute_result"
    }
   ],
   "source": [
    "import json\n",
    "\n",
    "with open('data/longrunmip_model_lengths.json') as f:\n",
    "    longrunmip_model_lengths = json.loads(f.read())\n",
    "    \n",
    "longrunmip_model_lengths['good_models']"
   ]
  },
  {
   "cell_type": "code",
   "execution_count": 6,
   "id": "12456875",
   "metadata": {},
   "outputs": [],
   "source": [
    "import sys\n",
    "sys.path.append('modules')\n",
    "# Custom xarray classes that addes different method.\n",
    "import xarray_class_accessors as xca\n",
    "\n",
    "# Custom plots for signal to noise functions.\n",
    "import sn_plotting\n",
    "import signal_to_noise as sn\n",
    "import open_ds\n",
    "import constants"
   ]
  },
  {
   "cell_type": "code",
   "execution_count": 7,
   "id": "a4d9a983",
   "metadata": {},
   "outputs": [
    {
     "data": {
      "text/plain": [
       "'/g/data/w40/ab2313/PhD/longrunmip/consecutive_metrics'"
      ]
     },
     "execution_count": 7,
     "metadata": {},
     "output_type": "execute_result"
    }
   ],
   "source": [
    "constants.LONGRUNMIP_CONSECMET_DIR"
   ]
  },
  {
   "cell_type": "code",
   "execution_count": 8,
   "id": "2fa142b5",
   "metadata": {},
   "outputs": [
    {
     "data": {
      "text/plain": [
       "'/g/data/w40/ab2313/PhD/longrunmip/regrid_retimestamped'"
      ]
     },
     "execution_count": 8,
     "metadata": {},
     "output_type": "execute_result"
    }
   ],
   "source": [
    "# The directory where all of the longrun mip data used in this notebook is stored.\n",
    "LONGRUNMIP_RETIMED_DIR = constants.LONGRUNMIP_RETIMED_DIR\n",
    "LONGRUNMIP_RETIMED_DIR"
   ]
  },
  {
   "cell_type": "code",
   "execution_count": 9,
   "id": "7eb46a72",
   "metadata": {},
   "outputs": [
    {
     "data": {
      "text/plain": [
       "'/g/data/w40/ab2313/PhD/longrunmip/regrid_retimestamped/loess'"
      ]
     },
     "execution_count": 9,
     "metadata": {},
     "output_type": "execute_result"
    }
   ],
   "source": [
    "# It takes a while to run the loess filter for each grid cell. So this has been pre-generated and saved.\n",
    "LONRUNMIP_LOESS_DIR = constants.LONRUNMIP_LOESS_DIR\n",
    "LONRUNMIP_LOESS_DIR"
   ]
  },
  {
   "cell_type": "code",
   "execution_count": 10,
   "id": "6d244cde",
   "metadata": {},
   "outputs": [
    {
     "data": {
      "text/plain": [
       "'/g/data/w40/ab2313/PhD/longrunmip'"
      ]
     },
     "execution_count": 10,
     "metadata": {},
     "output_type": "execute_result"
    }
   ],
   "source": [
    "constants.LONGRUNMIP_DIR"
   ]
  },
  {
   "cell_type": "code",
   "execution_count": 11,
   "id": "e7f2c481",
   "metadata": {},
   "outputs": [],
   "source": [
    "chunks = {'lat':48/2,'lon':96/2,'time':100}"
   ]
  },
  {
   "cell_type": "markdown",
   "id": "d0b4c043",
   "metadata": {},
   "source": [
    "# File Names"
   ]
  },
  {
   "cell_type": "code",
   "execution_count": 12,
   "id": "e9e6d1c0",
   "metadata": {},
   "outputs": [
    {
     "data": {
      "text/plain": [
       "['ccsm3',\n",
       " 'cesm104',\n",
       " 'cnrmcm61',\n",
       " 'famous',\n",
       " 'gisse2r',\n",
       " 'hadcm3l',\n",
       " 'ipslcm5a',\n",
       " 'mpiesm11',\n",
       " 'mpiesm12']"
      ]
     },
     "execution_count": 12,
     "metadata": {},
     "output_type": "execute_result"
    }
   ],
   "source": [
    "list(longrunmip_model_lengths['good_models'])"
   ]
  },
  {
   "cell_type": "code",
   "execution_count": 13,
   "id": "02b34c3b",
   "metadata": {},
   "outputs": [
    {
     "data": {
      "text/plain": [
       "['ecearth', 'miroc32']"
      ]
     },
     "execution_count": 13,
     "metadata": {},
     "output_type": "execute_result"
    }
   ],
   "source": [
    "list(longrunmip_model_lengths['bad_models'])"
   ]
  },
  {
   "cell_type": "code",
   "execution_count": 14,
   "id": "2ce2b62e",
   "metadata": {},
   "outputs": [
    {
     "name": "stdout",
     "output_type": "stream",
     "text": [
      "abrupt4x_raw\n",
      "ECHAM5MPIOM, ECEARTH, HadGEM2, MIROC32, GFDLCM3, GFDLESM2M, \n",
      "- Fraction of good models 1.0\n",
      "------\n",
      "control_raw\n",
      "HadGEM2, GFDLCM3, ECHAM5MPIOM, GFDLESM2M, GFDLESM2M, ECEARTH, GFDLCM3, MIROC32, \n",
      "- Fraction of good models 1.0\n",
      "------\n",
      "abrupt4x_loess\n",
      "ECHAM5MPIOM, GFDLESM2M, MIROC32, GFDLCM3, HadGEM2, ECEARTH, \n",
      "- Fraction of good models 1.0\n",
      "------\n",
      "control_loess\n",
      "GFDLESM2M, ECEARTH, GFDLCM3, MIROC32, HadGEM2, ECHAM5MPIOM, \n",
      "- Fraction of good models 1.0\n",
      "------\n"
     ]
    }
   ],
   "source": [
    "FILE_NAME_DICT = open_ds.get_exeriment_file_names()"
   ]
  },
  {
   "cell_type": "code",
   "execution_count": 15,
   "id": "28bb74c5",
   "metadata": {},
   "outputs": [
    {
     "data": {
      "text/plain": [
       "dict_keys(['abrupt4x_raw', 'control_raw', 'abrupt4x_loess', 'control_loess'])"
      ]
     },
     "execution_count": 15,
     "metadata": {},
     "output_type": "execute_result"
    }
   ],
   "source": [
    "FILE_NAME_DICT.keys()"
   ]
  },
  {
   "cell_type": "code",
   "execution_count": 16,
   "id": "15f92f5e",
   "metadata": {},
   "outputs": [
    {
     "data": {
      "text/plain": [
       "['tas_mon_GISSE2R_abrupt4x_5001_g025.nc',\n",
       " 'tas_mon_MPIESM12_abrupt4x_999_g025.nc',\n",
       " 'tas_mon_CNRMCM61_abrupt4x_1850_g025.nc',\n",
       " 'tas_mon_CCSM3_abrupt4x_2120_g025.nc',\n",
       " 'tas_ann_MPIESM11_abrupt4x_4459_g025.nc',\n",
       " 'tas_mon_CESM104_abrupt4x_5900_g025.nc',\n",
       " 'tas_ann_FAMOUS_abrupt4x_3000_g025.nc',\n",
       " 'tas_mon_HadCM3L_abrupt4x_1000_g025.nc',\n",
       " 'tas_mon_IPSLCM5A_abrupt4x_1000_g025.nc']"
      ]
     },
     "execution_count": 16,
     "metadata": {},
     "output_type": "execute_result"
    }
   ],
   "source": [
    "FILE_NAME_DICT['abrupt4x_raw']['file_names']"
   ]
  },
  {
   "cell_type": "code",
   "execution_count": 17,
   "id": "bf43cbf5",
   "metadata": {},
   "outputs": [],
   "source": [
    "assert len(FILE_NAME_DICT['abrupt4x_raw']['file_names']) == len(list(longrunmip_model_lengths['good_models']))"
   ]
  },
  {
   "cell_type": "code",
   "execution_count": 18,
   "id": "3dcbd119",
   "metadata": {},
   "outputs": [
    {
     "data": {
      "text/plain": [
       "['GISSE2R',\n",
       " 'MPIESM12',\n",
       " 'CNRMCM61',\n",
       " 'CCSM3',\n",
       " 'MPIESM11',\n",
       " 'CESM104',\n",
       " 'FAMOUS',\n",
       " 'HadCM3L',\n",
       " 'IPSLCM5A']"
      ]
     },
     "execution_count": 18,
     "metadata": {},
     "output_type": "execute_result"
    }
   ],
   "source": [
    "# List of all the models that have an experiment\n",
    "models  = [f.split('_')[2] for f in FILE_NAME_DICT['abrupt4x_raw']['file_names']]\n",
    "models"
   ]
  },
  {
   "cell_type": "markdown",
   "id": "88145e00",
   "metadata": {},
   "source": [
    "# Procssing and Saving All Models"
   ]
  },
  {
   "cell_type": "code",
   "execution_count": 19,
   "id": "985fed8a",
   "metadata": {},
   "outputs": [
    {
     "data": {
      "text/plain": [
       "dict_keys(['abrupt4x_raw', 'control_raw', 'abrupt4x_loess', 'control_loess'])"
      ]
     },
     "execution_count": 19,
     "metadata": {},
     "output_type": "execute_result"
    }
   ],
   "source": [
    "FILE_NAME_DICT.keys()"
   ]
  },
  {
   "cell_type": "code",
   "execution_count": 20,
   "id": "3e08c1a7",
   "metadata": {},
   "outputs": [
    {
     "data": {
      "text/plain": [
       "{'abrupt4x_raw': 'tas_mon_CNRMCM61_abrupt4x_1850_g025.nc',\n",
       " 'control_raw': 'tas_mon_CNRMCM61_control_2000_g025.nc',\n",
       " 'abrupt4x_loess': 'tas_mon_CNRMCM61_abrupt4x_1850_g025_loess.nc',\n",
       " 'control_loess': 'tas_mon_CNRMCM61_control_2000_g025_loess.nc'}"
      ]
     },
     "execution_count": 20,
     "metadata": {},
     "output_type": "execute_result"
    }
   ],
   "source": [
    "model_fnames = open_ds.get_all_file_names_for_model(models[2], FILE_NAME_DICT)\n",
    "model_fnames"
   ]
  },
  {
   "cell_type": "code",
   "execution_count": 32,
   "id": "dd7628ac",
   "metadata": {},
   "outputs": [],
   "source": [
    "RUN_PARAMETERS = {'window': 101, 'requested_length': 500}"
   ]
  },
  {
   "cell_type": "code",
   "execution_count": 33,
   "id": "d4ef0f53",
   "metadata": {},
   "outputs": [
    {
     "data": {
      "text/plain": [
       "'/g/data/w40/ab2313/PhD/longrunmip/consecutive_metrics/window_101_length_500'"
      ]
     },
     "execution_count": 33,
     "metadata": {},
     "output_type": "execute_result"
    }
   ],
   "source": [
    "output_path = os.path.join(\n",
    "        constants.LONGRUNMIP_CONSECMET_DIR, \n",
    "        f\"window_{RUN_PARAMETERS['window']}_length_{RUN_PARAMETERS['requested_length']}\"\n",
    "    )\n",
    "output_path"
   ]
  },
  {
   "cell_type": "code",
   "execution_count": 34,
   "id": "0d592cec",
   "metadata": {},
   "outputs": [
    {
     "data": {
      "text/plain": [
       "True"
      ]
     },
     "execution_count": 34,
     "metadata": {},
     "output_type": "execute_result"
    }
   ],
   "source": [
    "os.path.isdir(output_path)"
   ]
  },
  {
   "cell_type": "code",
   "execution_count": 43,
   "id": "7476a595",
   "metadata": {},
   "outputs": [
    {
     "data": {
      "text/plain": [
       "['da_sn_CNRMCM61.nc',\n",
       " 'da_sn_MPIESM12.nc',\n",
       " 'da_sn_GISSE2R.nc',\n",
       " 'da_sn_CCSM3.nc']"
      ]
     },
     "execution_count": 43,
     "metadata": {},
     "output_type": "execute_result"
    }
   ],
   "source": [
    "completed_files = list(map(os.path.basename, glob(output_path + '/*da_sn_[!stable]*')))\n",
    "completed_files"
   ]
  },
  {
   "cell_type": "code",
   "execution_count": 44,
   "id": "c7857a7c",
   "metadata": {},
   "outputs": [
    {
     "data": {
      "text/plain": [
       "['CNRMCM61', 'MPIESM12', 'GISSE2R', 'CCSM3']"
      ]
     },
     "execution_count": 44,
     "metadata": {},
     "output_type": "execute_result"
    }
   ],
   "source": [
    "completed_models = [v.split('.')[0].split('_')[2]for v in completed_files]\n",
    "completed_models"
   ]
  },
  {
   "cell_type": "code",
   "execution_count": 45,
   "id": "26c031ce",
   "metadata": {},
   "outputs": [
    {
     "data": {
      "text/plain": [
       "['GISSE2R',\n",
       " 'MPIESM12',\n",
       " 'CNRMCM61',\n",
       " 'CCSM3',\n",
       " 'MPIESM11',\n",
       " 'CESM104',\n",
       " 'FAMOUS',\n",
       " 'HadCM3L',\n",
       " 'IPSLCM5A']"
      ]
     },
     "execution_count": 45,
     "metadata": {},
     "output_type": "execute_result"
    }
   ],
   "source": [
    "models"
   ]
  },
  {
   "cell_type": "code",
   "execution_count": 47,
   "id": "bf60e008",
   "metadata": {},
   "outputs": [
    {
     "data": {
      "text/plain": [
       "['MPIESM11', 'CESM104', 'FAMOUS', 'HadCM3L', 'IPSLCM5A']"
      ]
     },
     "execution_count": 47,
     "metadata": {},
     "output_type": "execute_result"
    }
   ],
   "source": [
    "needed_models = [v for  v in models if v not in completed_models]\n",
    "needed_models"
   ]
  },
  {
   "cell_type": "code",
   "execution_count": 48,
   "id": "0bc99880",
   "metadata": {},
   "outputs": [
    {
     "data": {
      "text/plain": [
       "{'window': 101, 'requested_length': 500}"
      ]
     },
     "execution_count": 48,
     "metadata": {},
     "output_type": "execute_result"
    }
   ],
   "source": [
    "RUN_PARAMETERS"
   ]
  },
  {
   "cell_type": "code",
   "execution_count": 49,
   "id": "e40eaece",
   "metadata": {},
   "outputs": [],
   "source": [
    "def open_dataarray_subset(DIR, fname, RUN_PARAMETERS):\n",
    "    fpath = os.path.join(DIR, fname)\n",
    "    print(f'- Opening {fpath}')\n",
    "    da = xr.open_dataset( fpath,use_cftime = True, chunks = chunks).tas\n",
    "    # Need to go +window past length or final points will be cut off.\n",
    "    true_length = RUN_PARAMETERS['requested_length'] + RUN_PARAMETERS['window']\n",
    "    da = da.isel(time=slice(0, true_length))\n",
    "    \n",
    "    print(f'    + Needed length  - {true_length} - Opened length - {len(da.time.values)}')\n",
    "    return da.compute()                 "
   ]
  },
  {
   "cell_type": "code",
   "execution_count": 50,
   "id": "a7f5ef03",
   "metadata": {
    "code_folding": []
   },
   "outputs": [
    {
     "name": "stdout",
     "output_type": "stream",
     "text": [
      "Getting data for MPIESM11 with parameters {'window': 101, 'requested_length': 500} (1/5)\n",
      "- Opening /g/data/w40/ab2313/PhD/longrunmip/regrid_retimestamped/tas_ann_MPIESM11_abrupt4x_4459_g025.nc\n",
      "    + Needed length  - 601 - Opened length - 601\n",
      "- Opening /g/data/w40/ab2313/PhD/longrunmip/regrid_retimestamped/tas_ann_MPIESM11_control_2000_g025.nc\n",
      "    + Needed length  - 601 - Opened length - 601\n",
      "- Opening /g/data/w40/ab2313/PhD/longrunmip/regrid_retimestamped/loess/tas_ann_MPIESM11_abrupt4x_4459_g025_loess.nc\n",
      "    + Needed length  - 601 - Opened length - 601\n",
      "- Opening /g/data/w40/ab2313/PhD/longrunmip/regrid_retimestamped/loess/tas_ann_MPIESM11_control_2000_g025_loess.nc\n",
      "    + Needed length  - 601 - Opened length - 601\n",
      "--------\n",
      "Using historical dataset\n",
      "Calculating signal to noise\n",
      "Computing signal to noise\n",
      "Calculating consecutive metrics\n",
      "New data has shape (5, 72, 144)\n",
      "Computing consecutve metrics\n",
      "--------\n",
      "Saving to /g/data/w40/ab2313/PhD/longrunmip/consecutive_metrics/window_101_length_500\n",
      "    + /g/data/w40/ab2313/PhD/longrunmip/consecutive_metrics/window_101_length_500/consec_mets_MPIESM11.nc\n",
      "    + /g/data/w40/ab2313/PhD/longrunmip/consecutive_metrics/window_101_length_500/da_sn_stable_MPIESM11.nc\n",
      "    + /g/data/w40/ab2313/PhD/longrunmip/consecutive_metrics/window_101_length_500/da_sn_MPIESM11.nc\n",
      "- Time taken: 6585.567282364005 seconds\n",
      "\n",
      "\n",
      "\n",
      "Getting data for CESM104 with parameters {'window': 101, 'requested_length': 500} (2/5)\n",
      "- Opening /g/data/w40/ab2313/PhD/longrunmip/regrid_retimestamped/tas_mon_CESM104_abrupt4x_5900_g025.nc\n",
      "    + Needed length  - 601 - Opened length - 601\n",
      "- Opening /g/data/w40/ab2313/PhD/longrunmip/regrid_retimestamped/tas_mon_CESM104_control_1000_g025.nc\n",
      "    + Needed length  - 601 - Opened length - 601\n",
      "- Opening /g/data/w40/ab2313/PhD/longrunmip/regrid_retimestamped/loess/tas_mon_CESM104_abrupt4x_5900_g025_loess.nc\n",
      "    + Needed length  - 601 - Opened length - 601\n",
      "- Opening /g/data/w40/ab2313/PhD/longrunmip/regrid_retimestamped/loess/tas_mon_CESM104_control_1000_g025_loess.nc\n",
      "    + Needed length  - 601 - Opened length - 601\n",
      "--------\n",
      "Using historical dataset\n",
      "Calculating signal to noise\n",
      "Computing signal to noise\n",
      "Calculating consecutive metrics\n",
      "New data has shape (5, 72, 144)\n",
      "Computing consecutve metrics\n",
      "--------\n",
      "Saving to /g/data/w40/ab2313/PhD/longrunmip/consecutive_metrics/window_101_length_500\n",
      "    + /g/data/w40/ab2313/PhD/longrunmip/consecutive_metrics/window_101_length_500/consec_mets_CESM104.nc\n",
      "    + /g/data/w40/ab2313/PhD/longrunmip/consecutive_metrics/window_101_length_500/da_sn_stable_CESM104.nc\n",
      "    + /g/data/w40/ab2313/PhD/longrunmip/consecutive_metrics/window_101_length_500/da_sn_CESM104.nc\n",
      "- Time taken: 6208.220402073115 seconds\n",
      "\n",
      "\n",
      "\n",
      "Getting data for FAMOUS with parameters {'window': 101, 'requested_length': 500} (3/5)\n",
      "- Opening /g/data/w40/ab2313/PhD/longrunmip/regrid_retimestamped/tas_ann_FAMOUS_abrupt4x_3000_g025.nc\n",
      "    + Needed length  - 601 - Opened length - 601\n",
      "- Opening /g/data/w40/ab2313/PhD/longrunmip/regrid_retimestamped/tas_ann_FAMOUS_control_3000_g025.nc\n",
      "    + Needed length  - 601 - Opened length - 601\n",
      "- Opening /g/data/w40/ab2313/PhD/longrunmip/regrid_retimestamped/loess/tas_ann_FAMOUS_abrupt4x_3000_g025_loess.nc\n",
      "    + Needed length  - 601 - Opened length - 601\n",
      "- Opening /g/data/w40/ab2313/PhD/longrunmip/regrid_retimestamped/loess/tas_ann_FAMOUS_control_3000_g025_loess.nc\n",
      "    + Needed length  - 601 - Opened length - 601\n",
      "--------\n",
      "Using historical dataset\n",
      "Calculating signal to noise\n",
      "Computing signal to noise\n",
      "Calculating consecutive metrics\n",
      "New data has shape (5, 72, 144)\n",
      "Computing consecutve metrics\n",
      "--------\n",
      "Saving to /g/data/w40/ab2313/PhD/longrunmip/consecutive_metrics/window_101_length_500\n",
      "    + /g/data/w40/ab2313/PhD/longrunmip/consecutive_metrics/window_101_length_500/consec_mets_FAMOUS.nc\n",
      "    + /g/data/w40/ab2313/PhD/longrunmip/consecutive_metrics/window_101_length_500/da_sn_stable_FAMOUS.nc\n",
      "    + /g/data/w40/ab2313/PhD/longrunmip/consecutive_metrics/window_101_length_500/da_sn_FAMOUS.nc\n",
      "- Time taken: 6210.180902709952 seconds\n",
      "\n",
      "\n",
      "\n",
      "Getting data for HadCM3L with parameters {'window': 101, 'requested_length': 500} (4/5)\n",
      "- Opening /g/data/w40/ab2313/PhD/longrunmip/regrid_retimestamped/tas_mon_HadCM3L_abrupt4x_1000_g025.nc\n",
      "    + Needed length  - 601 - Opened length - 601\n",
      "- Opening /g/data/w40/ab2313/PhD/longrunmip/regrid_retimestamped/tas_mon_HadCM3L_control_1000_g025.nc\n",
      "    + Needed length  - 601 - Opened length - 601\n",
      "- Opening /g/data/w40/ab2313/PhD/longrunmip/regrid_retimestamped/loess/tas_mon_HadCM3L_abrupt4x_1000_g025_loess.nc\n",
      "    + Needed length  - 601 - Opened length - 601\n",
      "- Opening /g/data/w40/ab2313/PhD/longrunmip/regrid_retimestamped/loess/tas_mon_HadCM3L_control_1000_g025_loess.nc\n",
      "    + Needed length  - 601 - Opened length - 601\n",
      "--------\n",
      "Using historical dataset\n",
      "Calculating signal to noise\n",
      "Computing signal to noise\n",
      "Calculating consecutive metrics\n",
      "New data has shape (5, 72, 144)\n",
      "Computing consecutve metrics\n",
      "--------\n",
      "Saving to /g/data/w40/ab2313/PhD/longrunmip/consecutive_metrics/window_101_length_500\n",
      "    + /g/data/w40/ab2313/PhD/longrunmip/consecutive_metrics/window_101_length_500/consec_mets_HadCM3L.nc\n",
      "    + /g/data/w40/ab2313/PhD/longrunmip/consecutive_metrics/window_101_length_500/da_sn_stable_HadCM3L.nc\n",
      "    + /g/data/w40/ab2313/PhD/longrunmip/consecutive_metrics/window_101_length_500/da_sn_HadCM3L.nc\n",
      "- Time taken: 5856.173444265034 seconds\n",
      "\n",
      "\n",
      "\n",
      "Getting data for IPSLCM5A with parameters {'window': 101, 'requested_length': 500} (5/5)\n",
      "- Opening /g/data/w40/ab2313/PhD/longrunmip/regrid_retimestamped/tas_mon_IPSLCM5A_abrupt4x_1000_g025.nc\n",
      "    + Needed length  - 601 - Opened length - 601\n",
      "- Opening /g/data/w40/ab2313/PhD/longrunmip/regrid_retimestamped/tas_mon_IPSLCM5A_control_1000_g025.nc\n",
      "    + Needed length  - 601 - Opened length - 601\n",
      "- Opening /g/data/w40/ab2313/PhD/longrunmip/regrid_retimestamped/loess/tas_mon_IPSLCM5A_abrupt4x_1000_g025_loess.nc\n",
      "    + Needed length  - 601 - Opened length - 601\n",
      "- Opening /g/data/w40/ab2313/PhD/longrunmip/regrid_retimestamped/loess/tas_mon_IPSLCM5A_control_1000_g025_loess.nc\n",
      "    + Needed length  - 601 - Opened length - 601\n",
      "--------\n",
      "Using historical dataset\n",
      "Calculating signal to noise\n",
      "Computing signal to noise\n",
      "Calculating consecutive metrics\n",
      "New data has shape (5, 72, 144)\n",
      "Computing consecutve metrics\n",
      "--------\n",
      "Saving to /g/data/w40/ab2313/PhD/longrunmip/consecutive_metrics/window_101_length_500\n",
      "    + /g/data/w40/ab2313/PhD/longrunmip/consecutive_metrics/window_101_length_500/consec_mets_IPSLCM5A.nc\n",
      "    + /g/data/w40/ab2313/PhD/longrunmip/consecutive_metrics/window_101_length_500/da_sn_stable_IPSLCM5A.nc\n",
      "    + /g/data/w40/ab2313/PhD/longrunmip/consecutive_metrics/window_101_length_500/da_sn_IPSLCM5A.nc\n",
      "- Time taken: 6169.955614296952 seconds\n",
      "\n",
      "\n",
      "\n"
     ]
    }
   ],
   "source": [
    "for i,model in enumerate(needed_models):\n",
    "    t_start = perf_counter()\n",
    "    print(f'Getting data for {model} with parameters {RUN_PARAMETERS} ({i+1}/{len(needed_models)})')\n",
    "    model_fnames = open_ds.get_all_file_names_for_model(model, FILE_NAME_DICT)\n",
    "    \n",
    "\n",
    "    # Opening data for control and experiment\n",
    "    single_experiment = open_dataarray_subset(\n",
    "        LONGRUNMIP_RETIMED_DIR,model_fnames['abrupt4x_raw'], \n",
    "        RUN_PARAMETERS)\n",
    "    \n",
    "    single_control = open_dataarray_subset(\n",
    "        LONGRUNMIP_RETIMED_DIR,model_fnames['control_raw'], \n",
    "        RUN_PARAMETERS)\n",
    "    \n",
    "    single_experiment_loess = open_dataarray_subset(\n",
    "        LONRUNMIP_LOESS_DIR,model_fnames['abrupt4x_loess'], \n",
    "        RUN_PARAMETERS)\n",
    "    \n",
    "    single_control_loess = open_dataarray_subset(\n",
    "        LONRUNMIP_LOESS_DIR,model_fnames['control_loess'], \n",
    "        RUN_PARAMETERS)\n",
    "    \n",
    "    \n",
    "    # Getting the anomalies for the experiment\n",
    "    print('--------')\n",
    "    experiment_anom = single_experiment.clima.anomalies(start = single_experiment.time.dt.year.values[0], \n",
    "                                              end = single_experiment.time.dt.year.values[-1],\n",
    "                                historical = single_experiment)\n",
    "\n",
    "    print('Calculating signal to noise')\n",
    "    # Signal to noise\n",
    "    ds_sn, ds_sn_stable, ds_sn_increasing, ds_sn_decreasing =\\\n",
    "            sn.global_sn(experiment_anom, single_control, \n",
    "                         single_experiment_loess, single_control_loess, \n",
    "                         window=RUN_PARAMETERS['window'])\n",
    "    \n",
    "\n",
    "    print('Computing signal to noise')\n",
    "    ds_sn = ds_sn.compute()\n",
    "    ds_sn_stable = ds_sn_stable.compute()\n",
    "\n",
    "    \n",
    "    # Consecutive metrics\n",
    "    print('Calculating consecutive metrics')\n",
    "    stable_consec_mets_ds = ds_sn_stable['signal_to_noise'].sn.calculate_consecutive_metrics()\n",
    "    print('Computing consecutve metrics')\n",
    "    stable_consec_mets_ds = stable_consec_mets_ds.compute()\n",
    "    \n",
    "    # Saving\n",
    "    print('--------')\n",
    "    print(f'Saving to {output_path}')\n",
    "    \n",
    "    consec_save_name = os.path.join(output_path, f'consec_mets_{model}.nc')\n",
    "    print(f'    + {consec_save_name}')\n",
    "    stable_consec_mets_ds.to_netcdf(consec_save_name)\n",
    "    \n",
    "    stable_save_name = os.path.join(output_path, f'da_sn_stable_{model}.nc')\n",
    "    print(f'    + {stable_save_name}')\n",
    "    ds_sn_stable.to_netcdf(stable_save_name)\n",
    "    \n",
    "    sn_save_name = os.path.join(output_path, f'da_sn_{model}.nc')\n",
    "    print(f'    + {sn_save_name}')\n",
    "    ds_sn.to_netcdf(sn_save_name)\n",
    "\n",
    "    t_final = perf_counter()\n",
    "    print(f'- Time taken: {t_final - t_start} seconds')\n",
    "    print('\\n\\n')\n"
   ]
  }
 ],
 "metadata": {
  "celltoolbar": "Tags",
  "kernelspec": {
   "display_name": "Python 3 (ipykernel)",
   "language": "python",
   "name": "python3"
  },
  "language_info": {
   "codemirror_mode": {
    "name": "ipython",
    "version": 3
   },
   "file_extension": ".py",
   "mimetype": "text/x-python",
   "name": "python",
   "nbconvert_exporter": "python",
   "pygments_lexer": "ipython3",
   "version": "3.9.13"
  }
 },
 "nbformat": 4,
 "nbformat_minor": 5
}
