{
 "cells": [
  {
   "cell_type": "markdown",
   "id": "9d9c11ca",
   "metadata": {},
   "source": [
    "# Saving Loess Detrended Data\n",
    "Saving all data with loess detrend.\n",
    "\n",
    "<b> PHD-1 </b>\n",
    "* Switched read_and_merge_netcdfs from longrunmip_loaded function to open_ds - all opening files are now done within the one py file\n",
    "* longrunmip loader removed. Better just to load files in one by one\n",
    "* Moved from init to top level\n",
    "* Removed all extra code (see nb 23 in init for old code).\n"
   ]
  },
  {
   "cell_type": "code",
   "execution_count": 2,
   "id": "542a5b85",
   "metadata": {},
   "outputs": [],
   "source": [
    "import xarray as xr\n",
    "from importlib import reload\n",
    "import numpy as np\n",
    "import pandas as pd\n",
    "import os\n",
    "from glob import glob\n",
    "from time import perf_counter"
   ]
  },
  {
   "cell_type": "code",
   "execution_count": 12,
   "id": "c383b3f1",
   "metadata": {},
   "outputs": [],
   "source": [
    "import sys\n",
    "sys.path.append('modules')\n",
    "import constants\n",
    "import xarray_class_accessors as xca\n",
    "import open_ds\n",
    "import signal_to_noise as sn"
   ]
  },
  {
   "cell_type": "code",
   "execution_count": 21,
   "id": "46228c71",
   "metadata": {},
   "outputs": [],
   "source": [
    "chunks = {'lat':48/2,'lon':96/2,'time':-1}"
   ]
  },
  {
   "cell_type": "code",
   "execution_count": 14,
   "id": "f9dc0233",
   "metadata": {},
   "outputs": [
    {
     "data": {
      "text/plain": [
       "'/g/data/w40/ab2313/PhD/longrunmip/regrid_retimestamped'"
      ]
     },
     "execution_count": 14,
     "metadata": {},
     "output_type": "execute_result"
    }
   ],
   "source": [
    "# The directory where all of the longrun mip data used in this notebook is stored.\n",
    "ROOT_DIR = os.path.join(constants.LONGRUNMIP_DIR,'regrid_retimestamped')\n",
    "ROOT_DIR"
   ]
  },
  {
   "cell_type": "code",
   "execution_count": 15,
   "id": "4231235b",
   "metadata": {},
   "outputs": [
    {
     "data": {
      "text/plain": [
       "['tas_ann_HadGEM2_control_239_g025.nc',\n",
       " 'tas_mon_HadCM3L_control_1000_g025.nc',\n",
       " 'tas_mon_GFDLCM3_control_5200_g025.nc',\n",
       " 'tas_mon_ECHAM5MPIOM_abrupt4x_1001_g025.nc',\n",
       " 'tas_mon_GFDLCM3_1pct2x_5000_g025.nc']"
      ]
     },
     "execution_count": 15,
     "metadata": {},
     "output_type": "execute_result"
    }
   ],
   "source": [
    "os.listdir(ROOT_DIR)[:5]"
   ]
  },
  {
   "cell_type": "markdown",
   "id": "ba795d17",
   "metadata": {},
   "source": [
    "# Data"
   ]
  },
  {
   "cell_type": "code",
   "execution_count": 16,
   "id": "dbc7a456",
   "metadata": {
    "tags": [
     "PHD-1"
    ]
   },
   "outputs": [
    {
     "data": {
      "text/plain": [
       "['tas_mon_ECHAM5MPIOM_abrupt4x_1001_g025.nc',\n",
       " 'tas_mon_ECEARTH_abrupt4x_150_g025.nc',\n",
       " 'tas_ann_HadGEM2_abrupt4x_1299_g025.nc']"
      ]
     },
     "execution_count": 16,
     "metadata": {},
     "output_type": "execute_result"
    }
   ],
   "source": [
    "fnames_abrupt4x = list(map(os.path.basename, glob(os.path.join(ROOT_DIR, '*abrupt4x*'))))\n",
    "fnames_abrupt4x[:3]"
   ]
  },
  {
   "cell_type": "code",
   "execution_count": 17,
   "id": "921a52f0",
   "metadata": {
    "tags": [
     "PHD-1"
    ]
   },
   "outputs": [
    {
     "data": {
      "text/plain": [
       "['tas_ann_HadGEM2_control_239_g025.nc',\n",
       " 'tas_mon_HadCM3L_control_1000_g025.nc',\n",
       " 'tas_mon_GFDLCM3_control_5200_g025.nc']"
      ]
     },
     "execution_count": 17,
     "metadata": {},
     "output_type": "execute_result"
    }
   ],
   "source": [
    "fnames_control = list(map(os.path.basename, glob(os.path.join(ROOT_DIR, '*control*'))))\n",
    "fnames_control[:3]"
   ]
  },
  {
   "cell_type": "code",
   "execution_count": 18,
   "id": "378fe6d4",
   "metadata": {
    "tags": [
     "PHD-1"
    ]
   },
   "outputs": [
    {
     "data": {
      "text/plain": [
       "['ECHAM5MPIOM',\n",
       " 'ECEARTH',\n",
       " 'HadGEM2',\n",
       " 'GISSE2R',\n",
       " 'MPIESM12',\n",
       " 'CNRMCM61',\n",
       " 'CCSM3',\n",
       " 'MIROC32',\n",
       " 'MPIESM11',\n",
       " 'CESM104',\n",
       " 'FAMOUS',\n",
       " 'HadCM3L',\n",
       " 'IPSLCM5A',\n",
       " 'GFDLCM3',\n",
       " 'GFDLESM2M']"
      ]
     },
     "execution_count": 18,
     "metadata": {},
     "output_type": "execute_result"
    }
   ],
   "source": [
    "# List of all the models that have an experiment\n",
    "models  = [f.split('_')[2] for f in fnames_abrupt4x]\n",
    "models"
   ]
  },
  {
   "cell_type": "markdown",
   "id": "fe30129c",
   "metadata": {
    "heading_collapsed": true,
    "tags": [
     "PHD-1"
    ]
   },
   "source": [
    "# Single Model Sample"
   ]
  },
  {
   "cell_type": "code",
   "execution_count": 51,
   "id": "1d9e38f2",
   "metadata": {
    "hidden": true
   },
   "outputs": [
    {
     "name": "stdout",
     "output_type": "stream",
     "text": [
      "ECHAM5MPIOM\n"
     ]
    }
   ],
   "source": [
    "model = models[0]\n",
    "print(model)"
   ]
  },
  {
   "cell_type": "code",
   "execution_count": 52,
   "id": "7ddb4d7f",
   "metadata": {
    "hidden": true,
    "tags": [
     "PHD-1"
    ]
   },
   "outputs": [],
   "source": [
    "chunks = {'lat':100,'lon':100}"
   ]
  },
  {
   "cell_type": "code",
   "execution_count": 53,
   "id": "28079b53",
   "metadata": {
    "hidden": true
   },
   "outputs": [
    {
     "data": {
      "text/plain": [
       "'/g/data/w40/ab2313/PhD/longrunmip/regrid_retimestamped'"
      ]
     },
     "execution_count": 53,
     "metadata": {},
     "output_type": "execute_result"
    }
   ],
   "source": [
    "ROOT_DIR"
   ]
  },
  {
   "cell_type": "code",
   "execution_count": 59,
   "id": "e62c4b92",
   "metadata": {
    "hidden": true,
    "tags": [
     "PHD-1"
    ]
   },
   "outputs": [
    {
     "name": "stdout",
     "output_type": "stream",
     "text": [
      "tas_mon_ECHAM5MPIOM_abrupt4x_1001_g025.nc tas_mon_ECHAM5MPIOM_control_100_g025.nc\n"
     ]
    }
   ],
   "source": [
    "fname_experiment = [f for f in fnames_abrupt4x if model in f][0]\n",
    "fname_control = [f for f in fnames_control if model in f][0]\n",
    "\n",
    "print(fname_experiment, fname_control)"
   ]
  },
  {
   "cell_type": "code",
   "execution_count": 60,
   "id": "75ec365b",
   "metadata": {
    "hidden": true,
    "tags": [
     "PHD-1"
    ]
   },
   "outputs": [],
   "source": [
    "# Data for the model\n",
    "single_experiment =  xr.open_dataset(os.path.join(ROOT_DIR,fname_experiment),\n",
    "                             use_cftime = True, chunks = chunks).tas\n",
    "\n",
    "# if model not in list(control_ds.data_vars):\n",
    "#     continue\n",
    "single_control = xr.open_dataset(os.path.join(ROOT_DIR,fname_control),\n",
    "                             use_cftime = True, chunks = chunks).tas"
   ]
  },
  {
   "cell_type": "code",
   "execution_count": 8,
   "id": "6e26d68d",
   "metadata": {
    "hidden": true,
    "tags": [
     "PHD-1"
    ]
   },
   "outputs": [
    {
     "name": "stdout",
     "output_type": "stream",
     "text": [
      "echam5mpiom\n",
      "Using historical dataset\n"
     ]
    }
   ],
   "source": [
    "# Getting the anomalies for the experiment\n",
    "experiment_anom = single_experiment.clima.anomalies(start = single_experiment.time.dt.year.values[0], \n",
    "                                          end = single_experiment.time.dt.year.values[-1],\n",
    "                            historical = single_experiment)"
   ]
  },
  {
   "cell_type": "code",
   "execution_count": 9,
   "id": "61e32128",
   "metadata": {
    "hidden": true
   },
   "outputs": [
    {
     "data": {
      "text/html": [
       "<div><svg style=\"position: absolute; width: 0; height: 0; overflow: hidden\">\n",
       "<defs>\n",
       "<symbol id=\"icon-database\" viewBox=\"0 0 32 32\">\n",
       "<path d=\"M16 0c-8.837 0-16 2.239-16 5v4c0 2.761 7.163 5 16 5s16-2.239 16-5v-4c0-2.761-7.163-5-16-5z\"></path>\n",
       "<path d=\"M16 17c-8.837 0-16-2.239-16-5v6c0 2.761 7.163 5 16 5s16-2.239 16-5v-6c0 2.761-7.163 5-16 5z\"></path>\n",
       "<path d=\"M16 26c-8.837 0-16-2.239-16-5v6c0 2.761 7.163 5 16 5s16-2.239 16-5v-6c0 2.761-7.163 5-16 5z\"></path>\n",
       "</symbol>\n",
       "<symbol id=\"icon-file-text2\" viewBox=\"0 0 32 32\">\n",
       "<path d=\"M28.681 7.159c-0.694-0.947-1.662-2.053-2.724-3.116s-2.169-2.030-3.116-2.724c-1.612-1.182-2.393-1.319-2.841-1.319h-15.5c-1.378 0-2.5 1.121-2.5 2.5v27c0 1.378 1.122 2.5 2.5 2.5h23c1.378 0 2.5-1.122 2.5-2.5v-19.5c0-0.448-0.137-1.23-1.319-2.841zM24.543 5.457c0.959 0.959 1.712 1.825 2.268 2.543h-4.811v-4.811c0.718 0.556 1.584 1.309 2.543 2.268zM28 29.5c0 0.271-0.229 0.5-0.5 0.5h-23c-0.271 0-0.5-0.229-0.5-0.5v-27c0-0.271 0.229-0.5 0.5-0.5 0 0 15.499-0 15.5 0v7c0 0.552 0.448 1 1 1h7v19.5z\"></path>\n",
       "<path d=\"M23 26h-14c-0.552 0-1-0.448-1-1s0.448-1 1-1h14c0.552 0 1 0.448 1 1s-0.448 1-1 1z\"></path>\n",
       "<path d=\"M23 22h-14c-0.552 0-1-0.448-1-1s0.448-1 1-1h14c0.552 0 1 0.448 1 1s-0.448 1-1 1z\"></path>\n",
       "<path d=\"M23 18h-14c-0.552 0-1-0.448-1-1s0.448-1 1-1h14c0.552 0 1 0.448 1 1s-0.448 1-1 1z\"></path>\n",
       "</symbol>\n",
       "</defs>\n",
       "</svg>\n",
       "<style>/* CSS stylesheet for displaying xarray objects in jupyterlab.\n",
       " *\n",
       " */\n",
       "\n",
       ":root {\n",
       "  --xr-font-color0: var(--jp-content-font-color0, rgba(0, 0, 0, 1));\n",
       "  --xr-font-color2: var(--jp-content-font-color2, rgba(0, 0, 0, 0.54));\n",
       "  --xr-font-color3: var(--jp-content-font-color3, rgba(0, 0, 0, 0.38));\n",
       "  --xr-border-color: var(--jp-border-color2, #e0e0e0);\n",
       "  --xr-disabled-color: var(--jp-layout-color3, #bdbdbd);\n",
       "  --xr-background-color: var(--jp-layout-color0, white);\n",
       "  --xr-background-color-row-even: var(--jp-layout-color1, white);\n",
       "  --xr-background-color-row-odd: var(--jp-layout-color2, #eeeeee);\n",
       "}\n",
       "\n",
       "html[theme=dark],\n",
       "body.vscode-dark {\n",
       "  --xr-font-color0: rgba(255, 255, 255, 1);\n",
       "  --xr-font-color2: rgba(255, 255, 255, 0.54);\n",
       "  --xr-font-color3: rgba(255, 255, 255, 0.38);\n",
       "  --xr-border-color: #1F1F1F;\n",
       "  --xr-disabled-color: #515151;\n",
       "  --xr-background-color: #111111;\n",
       "  --xr-background-color-row-even: #111111;\n",
       "  --xr-background-color-row-odd: #313131;\n",
       "}\n",
       "\n",
       ".xr-wrap {\n",
       "  display: block !important;\n",
       "  min-width: 300px;\n",
       "  max-width: 700px;\n",
       "}\n",
       "\n",
       ".xr-text-repr-fallback {\n",
       "  /* fallback to plain text repr when CSS is not injected (untrusted notebook) */\n",
       "  display: none;\n",
       "}\n",
       "\n",
       ".xr-header {\n",
       "  padding-top: 6px;\n",
       "  padding-bottom: 6px;\n",
       "  margin-bottom: 4px;\n",
       "  border-bottom: solid 1px var(--xr-border-color);\n",
       "}\n",
       "\n",
       ".xr-header > div,\n",
       ".xr-header > ul {\n",
       "  display: inline;\n",
       "  margin-top: 0;\n",
       "  margin-bottom: 0;\n",
       "}\n",
       "\n",
       ".xr-obj-type,\n",
       ".xr-array-name {\n",
       "  margin-left: 2px;\n",
       "  margin-right: 10px;\n",
       "}\n",
       "\n",
       ".xr-obj-type {\n",
       "  color: var(--xr-font-color2);\n",
       "}\n",
       "\n",
       ".xr-sections {\n",
       "  padding-left: 0 !important;\n",
       "  display: grid;\n",
       "  grid-template-columns: 150px auto auto 1fr 20px 20px;\n",
       "}\n",
       "\n",
       ".xr-section-item {\n",
       "  display: contents;\n",
       "}\n",
       "\n",
       ".xr-section-item input {\n",
       "  display: none;\n",
       "}\n",
       "\n",
       ".xr-section-item input + label {\n",
       "  color: var(--xr-disabled-color);\n",
       "}\n",
       "\n",
       ".xr-section-item input:enabled + label {\n",
       "  cursor: pointer;\n",
       "  color: var(--xr-font-color2);\n",
       "}\n",
       "\n",
       ".xr-section-item input:enabled + label:hover {\n",
       "  color: var(--xr-font-color0);\n",
       "}\n",
       "\n",
       ".xr-section-summary {\n",
       "  grid-column: 1;\n",
       "  color: var(--xr-font-color2);\n",
       "  font-weight: 500;\n",
       "}\n",
       "\n",
       ".xr-section-summary > span {\n",
       "  display: inline-block;\n",
       "  padding-left: 0.5em;\n",
       "}\n",
       "\n",
       ".xr-section-summary-in:disabled + label {\n",
       "  color: var(--xr-font-color2);\n",
       "}\n",
       "\n",
       ".xr-section-summary-in + label:before {\n",
       "  display: inline-block;\n",
       "  content: '►';\n",
       "  font-size: 11px;\n",
       "  width: 15px;\n",
       "  text-align: center;\n",
       "}\n",
       "\n",
       ".xr-section-summary-in:disabled + label:before {\n",
       "  color: var(--xr-disabled-color);\n",
       "}\n",
       "\n",
       ".xr-section-summary-in:checked + label:before {\n",
       "  content: '▼';\n",
       "}\n",
       "\n",
       ".xr-section-summary-in:checked + label > span {\n",
       "  display: none;\n",
       "}\n",
       "\n",
       ".xr-section-summary,\n",
       ".xr-section-inline-details {\n",
       "  padding-top: 4px;\n",
       "  padding-bottom: 4px;\n",
       "}\n",
       "\n",
       ".xr-section-inline-details {\n",
       "  grid-column: 2 / -1;\n",
       "}\n",
       "\n",
       ".xr-section-details {\n",
       "  display: none;\n",
       "  grid-column: 1 / -1;\n",
       "  margin-bottom: 5px;\n",
       "}\n",
       "\n",
       ".xr-section-summary-in:checked ~ .xr-section-details {\n",
       "  display: contents;\n",
       "}\n",
       "\n",
       ".xr-array-wrap {\n",
       "  grid-column: 1 / -1;\n",
       "  display: grid;\n",
       "  grid-template-columns: 20px auto;\n",
       "}\n",
       "\n",
       ".xr-array-wrap > label {\n",
       "  grid-column: 1;\n",
       "  vertical-align: top;\n",
       "}\n",
       "\n",
       ".xr-preview {\n",
       "  color: var(--xr-font-color3);\n",
       "}\n",
       "\n",
       ".xr-array-preview,\n",
       ".xr-array-data {\n",
       "  padding: 0 5px !important;\n",
       "  grid-column: 2;\n",
       "}\n",
       "\n",
       ".xr-array-data,\n",
       ".xr-array-in:checked ~ .xr-array-preview {\n",
       "  display: none;\n",
       "}\n",
       "\n",
       ".xr-array-in:checked ~ .xr-array-data,\n",
       ".xr-array-preview {\n",
       "  display: inline-block;\n",
       "}\n",
       "\n",
       ".xr-dim-list {\n",
       "  display: inline-block !important;\n",
       "  list-style: none;\n",
       "  padding: 0 !important;\n",
       "  margin: 0;\n",
       "}\n",
       "\n",
       ".xr-dim-list li {\n",
       "  display: inline-block;\n",
       "  padding: 0;\n",
       "  margin: 0;\n",
       "}\n",
       "\n",
       ".xr-dim-list:before {\n",
       "  content: '(';\n",
       "}\n",
       "\n",
       ".xr-dim-list:after {\n",
       "  content: ')';\n",
       "}\n",
       "\n",
       ".xr-dim-list li:not(:last-child):after {\n",
       "  content: ',';\n",
       "  padding-right: 5px;\n",
       "}\n",
       "\n",
       ".xr-has-index {\n",
       "  font-weight: bold;\n",
       "}\n",
       "\n",
       ".xr-var-list,\n",
       ".xr-var-item {\n",
       "  display: contents;\n",
       "}\n",
       "\n",
       ".xr-var-item > div,\n",
       ".xr-var-item label,\n",
       ".xr-var-item > .xr-var-name span {\n",
       "  background-color: var(--xr-background-color-row-even);\n",
       "  margin-bottom: 0;\n",
       "}\n",
       "\n",
       ".xr-var-item > .xr-var-name:hover span {\n",
       "  padding-right: 5px;\n",
       "}\n",
       "\n",
       ".xr-var-list > li:nth-child(odd) > div,\n",
       ".xr-var-list > li:nth-child(odd) > label,\n",
       ".xr-var-list > li:nth-child(odd) > .xr-var-name span {\n",
       "  background-color: var(--xr-background-color-row-odd);\n",
       "}\n",
       "\n",
       ".xr-var-name {\n",
       "  grid-column: 1;\n",
       "}\n",
       "\n",
       ".xr-var-dims {\n",
       "  grid-column: 2;\n",
       "}\n",
       "\n",
       ".xr-var-dtype {\n",
       "  grid-column: 3;\n",
       "  text-align: right;\n",
       "  color: var(--xr-font-color2);\n",
       "}\n",
       "\n",
       ".xr-var-preview {\n",
       "  grid-column: 4;\n",
       "}\n",
       "\n",
       ".xr-var-name,\n",
       ".xr-var-dims,\n",
       ".xr-var-dtype,\n",
       ".xr-preview,\n",
       ".xr-attrs dt {\n",
       "  white-space: nowrap;\n",
       "  overflow: hidden;\n",
       "  text-overflow: ellipsis;\n",
       "  padding-right: 10px;\n",
       "}\n",
       "\n",
       ".xr-var-name:hover,\n",
       ".xr-var-dims:hover,\n",
       ".xr-var-dtype:hover,\n",
       ".xr-attrs dt:hover {\n",
       "  overflow: visible;\n",
       "  width: auto;\n",
       "  z-index: 1;\n",
       "}\n",
       "\n",
       ".xr-var-attrs,\n",
       ".xr-var-data {\n",
       "  display: none;\n",
       "  background-color: var(--xr-background-color) !important;\n",
       "  padding-bottom: 5px !important;\n",
       "}\n",
       "\n",
       ".xr-var-attrs-in:checked ~ .xr-var-attrs,\n",
       ".xr-var-data-in:checked ~ .xr-var-data {\n",
       "  display: block;\n",
       "}\n",
       "\n",
       ".xr-var-data > table {\n",
       "  float: right;\n",
       "}\n",
       "\n",
       ".xr-var-name span,\n",
       ".xr-var-data,\n",
       ".xr-attrs {\n",
       "  padding-left: 25px !important;\n",
       "}\n",
       "\n",
       ".xr-attrs,\n",
       ".xr-var-attrs,\n",
       ".xr-var-data {\n",
       "  grid-column: 1 / -1;\n",
       "}\n",
       "\n",
       "dl.xr-attrs {\n",
       "  padding: 0;\n",
       "  margin: 0;\n",
       "  display: grid;\n",
       "  grid-template-columns: 125px auto;\n",
       "}\n",
       "\n",
       ".xr-attrs dt,\n",
       ".xr-attrs dd {\n",
       "  padding: 0;\n",
       "  margin: 0;\n",
       "  float: left;\n",
       "  padding-right: 10px;\n",
       "  width: auto;\n",
       "}\n",
       "\n",
       ".xr-attrs dt {\n",
       "  font-weight: normal;\n",
       "  grid-column: 1;\n",
       "}\n",
       "\n",
       ".xr-attrs dt:hover span {\n",
       "  display: inline-block;\n",
       "  background: var(--xr-background-color);\n",
       "  padding-right: 10px;\n",
       "}\n",
       "\n",
       ".xr-attrs dd {\n",
       "  grid-column: 2;\n",
       "  white-space: pre-wrap;\n",
       "  word-break: break-all;\n",
       "}\n",
       "\n",
       ".xr-icon-database,\n",
       ".xr-icon-file-text2 {\n",
       "  display: inline-block;\n",
       "  vertical-align: middle;\n",
       "  width: 1em;\n",
       "  height: 1.5em !important;\n",
       "  stroke-width: 0;\n",
       "  stroke: currentColor;\n",
       "  fill: currentColor;\n",
       "}\n",
       "</style><pre class='xr-text-repr-fallback'>&lt;xarray.DataArray &#x27;echam5mpiom&#x27; (time: 1001, lat: 72, lon: 144)&gt;\n",
       "dask.array&lt;getitem, shape=(1001, 72, 144), dtype=float32, chunksize=(8, 72, 144), chunktype=numpy.ndarray&gt;\n",
       "Coordinates:\n",
       "  * time     (time) object 0000-12-31 00:00:00 ... 1000-12-31 00:00:00\n",
       "  * lon      (lon) float64 1.25 3.75 6.25 8.75 11.25 ... 351.2 353.8 356.2 358.8\n",
       "  * lat      (lat) float64 -88.75 -86.25 -83.75 -81.25 ... 83.75 86.25 88.75</pre><div class='xr-wrap' style='display:none'><div class='xr-header'><div class='xr-obj-type'>xarray.DataArray</div><div class='xr-array-name'>'echam5mpiom'</div><ul class='xr-dim-list'><li><span class='xr-has-index'>time</span>: 1001</li><li><span class='xr-has-index'>lat</span>: 72</li><li><span class='xr-has-index'>lon</span>: 144</li></ul></div><ul class='xr-sections'><li class='xr-section-item'><div class='xr-array-wrap'><input id='section-762ed63e-2a04-44f7-b77b-dd47df739558' class='xr-array-in' type='checkbox' checked><label for='section-762ed63e-2a04-44f7-b77b-dd47df739558' title='Show/hide data repr'><svg class='icon xr-icon-database'><use xlink:href='#icon-database'></use></svg></label><div class='xr-array-preview xr-preview'><span>dask.array&lt;chunksize=(8, 72, 144), meta=np.ndarray&gt;</span></div><div class='xr-array-data'><table>\n",
       "    <tr>\n",
       "        <td>\n",
       "            <table>\n",
       "                <thead>\n",
       "                    <tr>\n",
       "                        <td> </td>\n",
       "                        <th> Array </th>\n",
       "                        <th> Chunk </th>\n",
       "                    </tr>\n",
       "                </thead>\n",
       "                <tbody>\n",
       "                    \n",
       "                    <tr>\n",
       "                        <th> Bytes </th>\n",
       "                        <td> 39.59 MiB </td>\n",
       "                        <td> 324.00 kiB </td>\n",
       "                    </tr>\n",
       "                    \n",
       "                    <tr>\n",
       "                        <th> Shape </th>\n",
       "                        <td> (1001, 72, 144) </td>\n",
       "                        <td> (8, 72, 144) </td>\n",
       "                    </tr>\n",
       "                    <tr>\n",
       "                        <th> Count </th>\n",
       "                        <td> 864 Tasks </td>\n",
       "                        <td> 126 Chunks </td>\n",
       "                    </tr>\n",
       "                    <tr>\n",
       "                    <th> Type </th>\n",
       "                    <td> float32 </td>\n",
       "                    <td> numpy.ndarray </td>\n",
       "                    </tr>\n",
       "                </tbody>\n",
       "            </table>\n",
       "        </td>\n",
       "        <td>\n",
       "        <svg width=\"171\" height=\"157\" style=\"stroke:rgb(0,0,0);stroke-width:1\" >\n",
       "\n",
       "  <!-- Horizontal lines -->\n",
       "  <line x1=\"10\" y1=\"0\" x2=\"80\" y2=\"70\" style=\"stroke-width:2\" />\n",
       "  <line x1=\"10\" y1=\"36\" x2=\"80\" y2=\"107\" style=\"stroke-width:2\" />\n",
       "\n",
       "  <!-- Vertical lines -->\n",
       "  <line x1=\"10\" y1=\"0\" x2=\"10\" y2=\"36\" style=\"stroke-width:2\" />\n",
       "  <line x1=\"13\" y1=\"3\" x2=\"13\" y2=\"40\" />\n",
       "  <line x1=\"17\" y1=\"7\" x2=\"17\" y2=\"44\" />\n",
       "  <line x1=\"20\" y1=\"10\" x2=\"20\" y2=\"47\" />\n",
       "  <line x1=\"24\" y1=\"14\" x2=\"24\" y2=\"51\" />\n",
       "  <line x1=\"28\" y1=\"18\" x2=\"28\" y2=\"55\" />\n",
       "  <line x1=\"32\" y1=\"22\" x2=\"32\" y2=\"58\" />\n",
       "  <line x1=\"35\" y1=\"25\" x2=\"35\" y2=\"62\" />\n",
       "  <line x1=\"39\" y1=\"29\" x2=\"39\" y2=\"66\" />\n",
       "  <line x1=\"43\" y1=\"33\" x2=\"43\" y2=\"69\" />\n",
       "  <line x1=\"47\" y1=\"37\" x2=\"47\" y2=\"73\" />\n",
       "  <line x1=\"50\" y1=\"40\" x2=\"50\" y2=\"77\" />\n",
       "  <line x1=\"54\" y1=\"44\" x2=\"54\" y2=\"81\" />\n",
       "  <line x1=\"58\" y1=\"48\" x2=\"58\" y2=\"85\" />\n",
       "  <line x1=\"61\" y1=\"51\" x2=\"61\" y2=\"88\" />\n",
       "  <line x1=\"65\" y1=\"55\" x2=\"65\" y2=\"92\" />\n",
       "  <line x1=\"69\" y1=\"59\" x2=\"69\" y2=\"96\" />\n",
       "  <line x1=\"73\" y1=\"63\" x2=\"73\" y2=\"99\" />\n",
       "  <line x1=\"77\" y1=\"67\" x2=\"77\" y2=\"103\" />\n",
       "  <line x1=\"80\" y1=\"70\" x2=\"80\" y2=\"107\" style=\"stroke-width:2\" />\n",
       "\n",
       "  <!-- Colored Rectangle -->\n",
       "  <polygon points=\"10.0,0.0 80.58823529411765,70.58823529411765 80.58823529411765,107.28913566569256 10.0,36.700900371574896\" style=\"fill:#8B4903A0;stroke-width:0\"/>\n",
       "\n",
       "  <!-- Horizontal lines -->\n",
       "  <line x1=\"10\" y1=\"0\" x2=\"50\" y2=\"0\" style=\"stroke-width:2\" />\n",
       "  <line x1=\"13\" y1=\"3\" x2=\"53\" y2=\"3\" />\n",
       "  <line x1=\"17\" y1=\"7\" x2=\"57\" y2=\"7\" />\n",
       "  <line x1=\"20\" y1=\"10\" x2=\"61\" y2=\"10\" />\n",
       "  <line x1=\"24\" y1=\"14\" x2=\"65\" y2=\"14\" />\n",
       "  <line x1=\"28\" y1=\"18\" x2=\"69\" y2=\"18\" />\n",
       "  <line x1=\"32\" y1=\"22\" x2=\"72\" y2=\"22\" />\n",
       "  <line x1=\"35\" y1=\"25\" x2=\"76\" y2=\"25\" />\n",
       "  <line x1=\"39\" y1=\"29\" x2=\"80\" y2=\"29\" />\n",
       "  <line x1=\"43\" y1=\"33\" x2=\"83\" y2=\"33\" />\n",
       "  <line x1=\"47\" y1=\"37\" x2=\"87\" y2=\"37\" />\n",
       "  <line x1=\"50\" y1=\"40\" x2=\"91\" y2=\"40\" />\n",
       "  <line x1=\"54\" y1=\"44\" x2=\"95\" y2=\"44\" />\n",
       "  <line x1=\"58\" y1=\"48\" x2=\"99\" y2=\"48\" />\n",
       "  <line x1=\"61\" y1=\"51\" x2=\"102\" y2=\"51\" />\n",
       "  <line x1=\"65\" y1=\"55\" x2=\"106\" y2=\"55\" />\n",
       "  <line x1=\"69\" y1=\"59\" x2=\"110\" y2=\"59\" />\n",
       "  <line x1=\"73\" y1=\"63\" x2=\"113\" y2=\"63\" />\n",
       "  <line x1=\"77\" y1=\"67\" x2=\"117\" y2=\"67\" />\n",
       "  <line x1=\"80\" y1=\"70\" x2=\"121\" y2=\"70\" style=\"stroke-width:2\" />\n",
       "\n",
       "  <!-- Vertical lines -->\n",
       "  <line x1=\"10\" y1=\"0\" x2=\"80\" y2=\"70\" style=\"stroke-width:2\" />\n",
       "  <line x1=\"50\" y1=\"0\" x2=\"121\" y2=\"70\" style=\"stroke-width:2\" />\n",
       "\n",
       "  <!-- Colored Rectangle -->\n",
       "  <polygon points=\"10.0,0.0 50.502717104123455,0.0 121.09095239824111,70.58823529411765 80.58823529411765,70.58823529411765\" style=\"fill:#8B4903A0;stroke-width:0\"/>\n",
       "\n",
       "  <!-- Horizontal lines -->\n",
       "  <line x1=\"80\" y1=\"70\" x2=\"121\" y2=\"70\" style=\"stroke-width:2\" />\n",
       "  <line x1=\"80\" y1=\"107\" x2=\"121\" y2=\"107\" style=\"stroke-width:2\" />\n",
       "\n",
       "  <!-- Vertical lines -->\n",
       "  <line x1=\"80\" y1=\"70\" x2=\"80\" y2=\"107\" style=\"stroke-width:2\" />\n",
       "  <line x1=\"121\" y1=\"70\" x2=\"121\" y2=\"107\" style=\"stroke-width:2\" />\n",
       "\n",
       "  <!-- Colored Rectangle -->\n",
       "  <polygon points=\"80.58823529411765,70.58823529411765 121.09095239824111,70.58823529411765 121.09095239824111,107.28913566569256 80.58823529411765,107.28913566569256\" style=\"fill:#ECB172A0;stroke-width:0\"/>\n",
       "\n",
       "  <!-- Text -->\n",
       "  <text x=\"100.839594\" y=\"127.289136\" font-size=\"1.0rem\" font-weight=\"100\" text-anchor=\"middle\" >144</text>\n",
       "  <text x=\"141.090952\" y=\"88.938685\" font-size=\"1.0rem\" font-weight=\"100\" text-anchor=\"middle\" transform=\"rotate(0,141.090952,88.938685)\">72</text>\n",
       "  <text x=\"35.294118\" y=\"91.995018\" font-size=\"1.0rem\" font-weight=\"100\" text-anchor=\"middle\" transform=\"rotate(45,35.294118,91.995018)\">1001</text>\n",
       "</svg>\n",
       "        </td>\n",
       "    </tr>\n",
       "</table></div></div></li><li class='xr-section-item'><input id='section-149191d2-bea1-4841-9605-a86c953b58a3' class='xr-section-summary-in' type='checkbox'  checked><label for='section-149191d2-bea1-4841-9605-a86c953b58a3' class='xr-section-summary' >Coordinates: <span>(3)</span></label><div class='xr-section-inline-details'></div><div class='xr-section-details'><ul class='xr-var-list'><li class='xr-var-item'><div class='xr-var-name'><span class='xr-has-index'>time</span></div><div class='xr-var-dims'>(time)</div><div class='xr-var-dtype'>object</div><div class='xr-var-preview xr-preview'>0000-12-31 00:00:00 ... 1000-12-...</div><input id='attrs-1a259c89-fc10-49c4-83fb-c3a350e1e13d' class='xr-var-attrs-in' type='checkbox' disabled><label for='attrs-1a259c89-fc10-49c4-83fb-c3a350e1e13d' title='Show/Hide attributes'><svg class='icon xr-icon-file-text2'><use xlink:href='#icon-file-text2'></use></svg></label><input id='data-ae5144f4-c9c4-4b87-8c6e-2b386fc9f1bf' class='xr-var-data-in' type='checkbox'><label for='data-ae5144f4-c9c4-4b87-8c6e-2b386fc9f1bf' title='Show/Hide data repr'><svg class='icon xr-icon-database'><use xlink:href='#icon-database'></use></svg></label><div class='xr-var-attrs'><dl class='xr-attrs'></dl></div><div class='xr-var-data'><pre>array([cftime.DatetimeNoLeap(0, 12, 31, 0, 0, 0, 0, has_year_zero=True),\n",
       "       cftime.DatetimeNoLeap(1, 12, 31, 0, 0, 0, 0, has_year_zero=True),\n",
       "       cftime.DatetimeNoLeap(2, 12, 31, 0, 0, 0, 0, has_year_zero=True), ...,\n",
       "       cftime.DatetimeNoLeap(998, 12, 31, 0, 0, 0, 0, has_year_zero=True),\n",
       "       cftime.DatetimeNoLeap(999, 12, 31, 0, 0, 0, 0, has_year_zero=True),\n",
       "       cftime.DatetimeNoLeap(1000, 12, 31, 0, 0, 0, 0, has_year_zero=True)],\n",
       "      dtype=object)</pre></div></li><li class='xr-var-item'><div class='xr-var-name'><span class='xr-has-index'>lon</span></div><div class='xr-var-dims'>(lon)</div><div class='xr-var-dtype'>float64</div><div class='xr-var-preview xr-preview'>1.25 3.75 6.25 ... 356.2 358.8</div><input id='attrs-583a2816-6c50-4eb9-a0e8-0d0e4fb6eabd' class='xr-var-attrs-in' type='checkbox' ><label for='attrs-583a2816-6c50-4eb9-a0e8-0d0e4fb6eabd' title='Show/Hide attributes'><svg class='icon xr-icon-file-text2'><use xlink:href='#icon-file-text2'></use></svg></label><input id='data-b9179335-ba92-4676-b6d6-96d8a598e5df' class='xr-var-data-in' type='checkbox'><label for='data-b9179335-ba92-4676-b6d6-96d8a598e5df' title='Show/Hide data repr'><svg class='icon xr-icon-database'><use xlink:href='#icon-database'></use></svg></label><div class='xr-var-attrs'><dl class='xr-attrs'><dt><span>standard_name :</span></dt><dd>longitude</dd><dt><span>long_name :</span></dt><dd>longitude</dd><dt><span>units :</span></dt><dd>degrees_east</dd><dt><span>axis :</span></dt><dd>X</dd></dl></div><div class='xr-var-data'><pre>array([  1.25,   3.75,   6.25,   8.75,  11.25,  13.75,  16.25,  18.75,  21.25,\n",
       "        23.75,  26.25,  28.75,  31.25,  33.75,  36.25,  38.75,  41.25,  43.75,\n",
       "        46.25,  48.75,  51.25,  53.75,  56.25,  58.75,  61.25,  63.75,  66.25,\n",
       "        68.75,  71.25,  73.75,  76.25,  78.75,  81.25,  83.75,  86.25,  88.75,\n",
       "        91.25,  93.75,  96.25,  98.75, 101.25, 103.75, 106.25, 108.75, 111.25,\n",
       "       113.75, 116.25, 118.75, 121.25, 123.75, 126.25, 128.75, 131.25, 133.75,\n",
       "       136.25, 138.75, 141.25, 143.75, 146.25, 148.75, 151.25, 153.75, 156.25,\n",
       "       158.75, 161.25, 163.75, 166.25, 168.75, 171.25, 173.75, 176.25, 178.75,\n",
       "       181.25, 183.75, 186.25, 188.75, 191.25, 193.75, 196.25, 198.75, 201.25,\n",
       "       203.75, 206.25, 208.75, 211.25, 213.75, 216.25, 218.75, 221.25, 223.75,\n",
       "       226.25, 228.75, 231.25, 233.75, 236.25, 238.75, 241.25, 243.75, 246.25,\n",
       "       248.75, 251.25, 253.75, 256.25, 258.75, 261.25, 263.75, 266.25, 268.75,\n",
       "       271.25, 273.75, 276.25, 278.75, 281.25, 283.75, 286.25, 288.75, 291.25,\n",
       "       293.75, 296.25, 298.75, 301.25, 303.75, 306.25, 308.75, 311.25, 313.75,\n",
       "       316.25, 318.75, 321.25, 323.75, 326.25, 328.75, 331.25, 333.75, 336.25,\n",
       "       338.75, 341.25, 343.75, 346.25, 348.75, 351.25, 353.75, 356.25, 358.75])</pre></div></li><li class='xr-var-item'><div class='xr-var-name'><span class='xr-has-index'>lat</span></div><div class='xr-var-dims'>(lat)</div><div class='xr-var-dtype'>float64</div><div class='xr-var-preview xr-preview'>-88.75 -86.25 ... 86.25 88.75</div><input id='attrs-7d9ca096-1195-4e6b-856c-131d0f94bfd9' class='xr-var-attrs-in' type='checkbox' ><label for='attrs-7d9ca096-1195-4e6b-856c-131d0f94bfd9' title='Show/Hide attributes'><svg class='icon xr-icon-file-text2'><use xlink:href='#icon-file-text2'></use></svg></label><input id='data-53c84734-2dc0-4ba3-acc5-f395312105e3' class='xr-var-data-in' type='checkbox'><label for='data-53c84734-2dc0-4ba3-acc5-f395312105e3' title='Show/Hide data repr'><svg class='icon xr-icon-database'><use xlink:href='#icon-database'></use></svg></label><div class='xr-var-attrs'><dl class='xr-attrs'><dt><span>standard_name :</span></dt><dd>latitude</dd><dt><span>long_name :</span></dt><dd>latitude</dd><dt><span>units :</span></dt><dd>degrees_north</dd><dt><span>axis :</span></dt><dd>Y</dd></dl></div><div class='xr-var-data'><pre>array([-88.75, -86.25, -83.75, -81.25, -78.75, -76.25, -73.75, -71.25, -68.75,\n",
       "       -66.25, -63.75, -61.25, -58.75, -56.25, -53.75, -51.25, -48.75, -46.25,\n",
       "       -43.75, -41.25, -38.75, -36.25, -33.75, -31.25, -28.75, -26.25, -23.75,\n",
       "       -21.25, -18.75, -16.25, -13.75, -11.25,  -8.75,  -6.25,  -3.75,  -1.25,\n",
       "         1.25,   3.75,   6.25,   8.75,  11.25,  13.75,  16.25,  18.75,  21.25,\n",
       "        23.75,  26.25,  28.75,  31.25,  33.75,  36.25,  38.75,  41.25,  43.75,\n",
       "        46.25,  48.75,  51.25,  53.75,  56.25,  58.75,  61.25,  63.75,  66.25,\n",
       "        68.75,  71.25,  73.75,  76.25,  78.75,  81.25,  83.75,  86.25,  88.75])</pre></div></li></ul></div></li><li class='xr-section-item'><input id='section-ed553bd5-8aa2-47ad-be95-5b198d3d4ac3' class='xr-section-summary-in' type='checkbox' disabled ><label for='section-ed553bd5-8aa2-47ad-be95-5b198d3d4ac3' class='xr-section-summary'  title='Expand/collapse section'>Attributes: <span>(0)</span></label><div class='xr-section-inline-details'></div><div class='xr-section-details'><dl class='xr-attrs'></dl></div></li></ul></div></div>"
      ],
      "text/plain": [
       "<xarray.DataArray 'echam5mpiom' (time: 1001, lat: 72, lon: 144)>\n",
       "dask.array<getitem, shape=(1001, 72, 144), dtype=float32, chunksize=(8, 72, 144), chunktype=numpy.ndarray>\n",
       "Coordinates:\n",
       "  * time     (time) object 0000-12-31 00:00:00 ... 1000-12-31 00:00:00\n",
       "  * lon      (lon) float64 1.25 3.75 6.25 8.75 11.25 ... 351.2 353.8 356.2 358.8\n",
       "  * lat      (lat) float64 -88.75 -86.25 -83.75 -81.25 ... 83.75 86.25 88.75"
      ]
     },
     "execution_count": 9,
     "metadata": {},
     "output_type": "execute_result"
    }
   ],
   "source": [
    "# Drop na from time dim: loess will try and do this and get a mismatch otherwise\n",
    "single_control = single_control.dropna(dim='time')\n",
    "experiment_anom = experiment_anom.dropna(dim='time')\n",
    "experiment_anom"
   ]
  },
  {
   "cell_type": "code",
   "execution_count": 10,
   "id": "17347664",
   "metadata": {
    "hidden": true
   },
   "outputs": [],
   "source": [
    "# Loess filtering\n",
    "loess_experiment_anom = experiment_anom.sn.loess_grid()"
   ]
  },
  {
   "cell_type": "code",
   "execution_count": 11,
   "id": "cd0cbdb5",
   "metadata": {
    "hidden": true
   },
   "outputs": [],
   "source": [
    "loess_control = single_control.sn.loess_grid()"
   ]
  },
  {
   "cell_type": "code",
   "execution_count": 13,
   "id": "53bdaacb",
   "metadata": {
    "hidden": true
   },
   "outputs": [
    {
     "name": "stdout",
     "output_type": "stream",
     "text": [
      "tas_mon_ECHAM5MPIOM_control_100_g025.nc tas_mon_ECHAM5MPIOM_abrupt4x_1001_g025.nc\n"
     ]
    }
   ],
   "source": [
    "# Get the file name for the control and experiment by searching for the file name\n",
    "# containing the model in the list.\n",
    "\n",
    "control_save_name = [f for f in fnames_control if model.upper() in f.upper()][0]\n",
    "experiment_save_name = [f for f in fnames_abrupt4x if model.upper() in f.upper()][0]\n",
    "\n",
    "print(control_save_name, experiment_save_name)"
   ]
  },
  {
   "cell_type": "code",
   "execution_count": 29,
   "id": "9b49e73d",
   "metadata": {
    "hidden": true
   },
   "outputs": [
    {
     "name": "stdout",
     "output_type": "stream",
     "text": [
      "tas_mon_ECHAM5MPIOM_control_100_g025_loess_loess.nc tas_mon_ECHAM5MPIOM_abrupt4x_1001_g025_loess_loess.nc\n"
     ]
    }
   ],
   "source": [
    "control_save_name = control_save_name.replace('.nc', '_loess.nc')\n",
    "experiment_save_name = experiment_save_name.replace('.nc', '_loess.nc')\n",
    "print(control_save_name, experiment_save_name)"
   ]
  },
  {
   "cell_type": "code",
   "execution_count": 31,
   "id": "2784ebb5",
   "metadata": {
    "hidden": true,
    "tags": [
     "PHD-1"
    ]
   },
   "outputs": [],
   "source": [
    "\n",
    "# Adding some attributes\n",
    "now = pd.Timestamp.now().strftime(format = '%Y/%m/%d')\n",
    "history = {'history': f'Modified by Alex Borowiak on {now}','stats': 'loess detrended data'}\n",
    "loess_experiment_anom.attrs = history\n",
    "loess_control.attrs = history"
   ]
  },
  {
   "cell_type": "code",
   "execution_count": 33,
   "id": "3cd2f289",
   "metadata": {
    "hidden": true
   },
   "outputs": [
    {
     "name": "stdout",
     "output_type": "stream",
     "text": [
      "/g/data/w40/ab2313/PhD/longrunmip/regrid_retimestamped/loess/tas_mon_ECHAM5MPIOM_abrupt4x_1001_g025_loess_loess.nc\n",
      "/g/data/w40/ab2313/PhD/longrunmip/regrid_retimestamped/loess/tas_mon_ECHAM5MPIOM_control_100_g025_loess_loess.nc\n"
     ]
    }
   ],
   "source": [
    "# loess_experiment_anom.to_netcdf(os.path.join(ROOT_DIR, 'loess', experiment_save_name))\n",
    "# loess_control.to_netcdf(os.path.join(ROOT_DIR, 'loess', control_save_name))\n",
    "\n",
    "print(os.path.join(ROOT_DIR, 'loess', experiment_save_name),\\\n",
    "    os.path.join(ROOT_DIR, 'loess', control_save_name), sep='\\n')"
   ]
  },
  {
   "cell_type": "markdown",
   "id": "83874e9c",
   "metadata": {
    "tags": [
     "PHD-1"
    ]
   },
   "source": [
    "# Looping Through All"
   ]
  },
  {
   "cell_type": "code",
   "execution_count": 19,
   "id": "25457c9d",
   "metadata": {
    "tags": [
     "PHD-1"
    ]
   },
   "outputs": [
    {
     "data": {
      "text/plain": [
       "['ECHAM5MPIOM',\n",
       " 'ECEARTH',\n",
       " 'HadGEM2',\n",
       " 'GISSE2R',\n",
       " 'MPIESM12',\n",
       " 'CNRMCM61',\n",
       " 'CCSM3',\n",
       " 'MIROC32',\n",
       " 'MPIESM11',\n",
       " 'CESM104',\n",
       " 'FAMOUS',\n",
       " 'HadCM3L',\n",
       " 'IPSLCM5A',\n",
       " 'GFDLCM3',\n",
       " 'GFDLESM2M']"
      ]
     },
     "execution_count": 19,
     "metadata": {},
     "output_type": "execute_result"
    }
   ],
   "source": [
    "models"
   ]
  },
  {
   "cell_type": "code",
   "execution_count": 22,
   "id": "a3ec65ab",
   "metadata": {
    "scrolled": false,
    "tags": [
     "PHD-1"
    ]
   },
   "outputs": [
    {
     "name": "stdout",
     "output_type": "stream",
     "text": [
      "ECHAM5MPIOM\n",
      "- Files to open:\n",
      "tas_mon_ECHAM5MPIOM_abrupt4x_1001_g025.nc tas_mon_ECHAM5MPIOM_control_100_g025.nc\n",
      "- Path to files /g/data/w40/ab2313/PhD/longrunmip/regrid_retimestamped\n",
      "- Opening experiminet\n",
      "- Opening control. Using historical dataset\n",
      "- Removing nans\n",
      "- Applying loess filter to experiment\n",
      "- Applying loess filter to control\n",
      "tas_mon_ECHAM5MPIOM_control_100_g025.nc tas_mon_ECHAM5MPIOM_abrupt4x_1001_g025.nc\n",
      "- New file names:\n",
      "tas_mon_ECHAM5MPIOM_control_100_g025_loess.nc tas_mon_ECHAM5MPIOM_abrupt4x_1001_g025_loess.nc\n",
      "- Adding metedata to files {'history': 'Modified by Alex Borowiak on 2022/05/11', 'stats': 'loess detrended data'}\n",
      "- Saving files as:\n",
      "/g/data/w40/ab2313/PhD/longrunmip/regrid_retimestamped/loess/tas_mon_ECHAM5MPIOM_abrupt4x_1001_g025_loess.nc\n",
      "/g/data/w40/ab2313/PhD/longrunmip/regrid_retimestamped/loess/tas_mon_ECHAM5MPIOM_control_100_g025_loess.nc\n",
      "COMPLETE - 33.00794105860017 minutes \n",
      "\n",
      "\n",
      "ECEARTH\n",
      "- Files to open:\n",
      "tas_mon_ECEARTH_abrupt4x_150_g025.nc tas_mon_ECEARTH_control_508_g025.nc\n",
      "- Path to files /g/data/w40/ab2313/PhD/longrunmip/regrid_retimestamped\n",
      "- Opening experiminet\n",
      "- Opening control. Using historical dataset\n",
      "- Removing nans\n",
      "- Applying loess filter to experiment\n",
      "- Applying loess filter to control\n",
      "tas_mon_ECEARTH_control_508_g025.nc tas_mon_ECEARTH_abrupt4x_150_g025.nc\n",
      "- New file names:\n",
      "tas_mon_ECEARTH_control_508_g025_loess.nc tas_mon_ECEARTH_abrupt4x_150_g025_loess.nc\n",
      "- Adding metedata to files {'history': 'Modified by Alex Borowiak on 2022/05/11', 'stats': 'loess detrended data'}\n",
      "- Saving files as:\n",
      "/g/data/w40/ab2313/PhD/longrunmip/regrid_retimestamped/loess/tas_mon_ECEARTH_abrupt4x_150_g025_loess.nc\n",
      "/g/data/w40/ab2313/PhD/longrunmip/regrid_retimestamped/loess/tas_mon_ECEARTH_control_508_g025_loess.nc\n",
      "COMPLETE - 18.64674853676697 minutes \n",
      "\n",
      "\n",
      "HadGEM2\n",
      "- Files to open:\n",
      "tas_ann_HadGEM2_abrupt4x_1299_g025.nc tas_ann_HadGEM2_control_239_g025.nc\n",
      "- Path to files /g/data/w40/ab2313/PhD/longrunmip/regrid_retimestamped\n",
      "- Opening experiminet\n",
      "- Opening control. Using historical dataset\n",
      "- Removing nans\n",
      "- Applying loess filter to experiment\n",
      "- Applying loess filter to control\n",
      "tas_ann_HadGEM2_control_239_g025.nc tas_ann_HadGEM2_abrupt4x_1299_g025.nc\n",
      "- New file names:\n",
      "tas_ann_HadGEM2_control_239_g025_loess.nc tas_ann_HadGEM2_abrupt4x_1299_g025_loess.nc\n",
      "- Adding metedata to files {'history': 'Modified by Alex Borowiak on 2022/05/11', 'stats': 'loess detrended data'}\n",
      "- Saving files as:\n",
      "/g/data/w40/ab2313/PhD/longrunmip/regrid_retimestamped/loess/tas_ann_HadGEM2_abrupt4x_1299_g025_loess.nc\n",
      "/g/data/w40/ab2313/PhD/longrunmip/regrid_retimestamped/loess/tas_ann_HadGEM2_control_239_g025_loess.nc\n",
      "COMPLETE - 46.42888040391651 minutes \n",
      "\n",
      "\n",
      "GISSE2R\n",
      "- Files to open:\n",
      "tas_mon_GISSE2R_abrupt4x_5001_g025.nc tas_mon_GISSE2R_control_5225_g025.nc\n",
      "- Path to files /g/data/w40/ab2313/PhD/longrunmip/regrid_retimestamped\n",
      "- Opening experiminet\n",
      "- Opening control. Using historical dataset\n",
      "- Removing nans\n",
      "- Applying loess filter to experiment\n",
      "- Applying loess filter to control\n",
      "tas_mon_GISSE2R_control_5225_g025.nc tas_mon_GISSE2R_abrupt4x_5001_g025.nc\n",
      "- New file names:\n",
      "tas_mon_GISSE2R_control_5225_g025_loess.nc tas_mon_GISSE2R_abrupt4x_5001_g025_loess.nc\n",
      "- Adding metedata to files {'history': 'Modified by Alex Borowiak on 2022/05/11', 'stats': 'loess detrended data'}\n",
      "- Saving files as:\n",
      "/g/data/w40/ab2313/PhD/longrunmip/regrid_retimestamped/loess/tas_mon_GISSE2R_abrupt4x_5001_g025_loess.nc\n",
      "/g/data/w40/ab2313/PhD/longrunmip/regrid_retimestamped/loess/tas_mon_GISSE2R_control_5225_g025_loess.nc\n",
      "COMPLETE - 339.6792711542822 minutes \n",
      "\n",
      "\n",
      "MPIESM12\n",
      "- Files to open:\n",
      "tas_mon_MPIESM12_abrupt4x_999_g025.nc tas_mon_MPIESM12_control_1237_g025.nc\n",
      "- Path to files /g/data/w40/ab2313/PhD/longrunmip/regrid_retimestamped\n",
      "- Opening experiminet\n",
      "- Opening control. Using historical dataset\n",
      "- Removing nans\n",
      "- Applying loess filter to experiment\n",
      "- Applying loess filter to control\n",
      "tas_mon_MPIESM12_control_1237_g025.nc tas_mon_MPIESM12_abrupt4x_999_g025.nc\n",
      "- New file names:\n",
      "tas_mon_MPIESM12_control_1237_g025_loess.nc tas_mon_MPIESM12_abrupt4x_999_g025_loess.nc\n",
      "- Adding metedata to files {'history': 'Modified by Alex Borowiak on 2022/05/11', 'stats': 'loess detrended data'}\n",
      "- Saving files as:\n",
      "/g/data/w40/ab2313/PhD/longrunmip/regrid_retimestamped/loess/tas_mon_MPIESM12_abrupt4x_999_g025_loess.nc\n",
      "/g/data/w40/ab2313/PhD/longrunmip/regrid_retimestamped/loess/tas_mon_MPIESM12_control_1237_g025_loess.nc\n",
      "COMPLETE - 65.37222067825108 minutes \n",
      "\n",
      "\n",
      "CNRMCM61\n",
      "- Files to open:\n",
      "tas_mon_CNRMCM61_abrupt4x_1850_g025.nc tas_mon_CNRMCM61_control_2000_g025.nc\n",
      "- Path to files /g/data/w40/ab2313/PhD/longrunmip/regrid_retimestamped\n",
      "- Opening experiminet\n",
      "- Opening control. Using historical dataset\n",
      "- Removing nans\n",
      "- Applying loess filter to experiment\n",
      "- Applying loess filter to control\n",
      "tas_mon_CNRMCM61_control_2000_g025.nc tas_mon_CNRMCM61_abrupt4x_1850_g025.nc\n",
      "- New file names:\n",
      "tas_mon_CNRMCM61_control_2000_g025_loess.nc tas_mon_CNRMCM61_abrupt4x_1850_g025_loess.nc\n",
      "- Adding metedata to files {'history': 'Modified by Alex Borowiak on 2022/05/11', 'stats': 'loess detrended data'}\n",
      "- Saving files as:\n",
      "/g/data/w40/ab2313/PhD/longrunmip/regrid_retimestamped/loess/tas_mon_CNRMCM61_abrupt4x_1850_g025_loess.nc\n",
      "/g/data/w40/ab2313/PhD/longrunmip/regrid_retimestamped/loess/tas_mon_CNRMCM61_control_2000_g025_loess.nc\n",
      "COMPLETE - 107.81293245715011 minutes \n",
      "\n",
      "\n",
      "CCSM3\n",
      "- Files to open:\n",
      "tas_mon_CCSM3_abrupt4x_2120_g025.nc tas_mon_CCSM3_control_1530_g025.nc\n",
      "- Path to files /g/data/w40/ab2313/PhD/longrunmip/regrid_retimestamped\n",
      "- Opening experiminet\n",
      "- Opening control. Using historical dataset\n",
      "- Removing nans\n",
      "- Applying loess filter to experiment\n",
      "- Applying loess filter to control\n",
      "tas_mon_CCSM3_control_1530_g025.nc tas_mon_CCSM3_abrupt4x_2120_g025.nc\n",
      "- New file names:\n",
      "tas_mon_CCSM3_control_1530_g025_loess.nc tas_mon_CCSM3_abrupt4x_2120_g025_loess.nc\n",
      "- Adding metedata to files {'history': 'Modified by Alex Borowiak on 2022/05/12', 'stats': 'loess detrended data'}\n",
      "- Saving files as:\n",
      "/g/data/w40/ab2313/PhD/longrunmip/regrid_retimestamped/loess/tas_mon_CCSM3_abrupt4x_2120_g025_loess.nc\n",
      "/g/data/w40/ab2313/PhD/longrunmip/regrid_retimestamped/loess/tas_mon_CCSM3_control_1530_g025_loess.nc\n",
      "COMPLETE - 91.73214273138437 minutes \n",
      "\n",
      "\n",
      "MIROC32\n",
      "- Files to open:\n",
      "tas_mon_MIROC32_abrupt4x_150_g025.nc tas_mon_MIROC32_control_680_g025.nc\n",
      "- Path to files /g/data/w40/ab2313/PhD/longrunmip/regrid_retimestamped\n",
      "- Opening experiminet\n",
      "- Opening control. Using historical dataset\n",
      "- Removing nans\n",
      "- Applying loess filter to experiment\n",
      "- Applying loess filter to control\n",
      "tas_mon_MIROC32_control_680_g025.nc tas_mon_MIROC32_abrupt4x_150_g025.nc\n",
      "- New file names:\n",
      "tas_mon_MIROC32_control_680_g025_loess.nc tas_mon_MIROC32_abrupt4x_150_g025_loess.nc\n",
      "- Adding metedata to files {'history': 'Modified by Alex Borowiak on 2022/05/12', 'stats': 'loess detrended data'}\n",
      "- Saving files as:\n",
      "/g/data/w40/ab2313/PhD/longrunmip/regrid_retimestamped/loess/tas_mon_MIROC32_abrupt4x_150_g025_loess.nc\n",
      "/g/data/w40/ab2313/PhD/longrunmip/regrid_retimestamped/loess/tas_mon_MIROC32_control_680_g025_loess.nc\n",
      "COMPLETE - 20.258598472868712 minutes \n",
      "\n",
      "\n",
      "MPIESM11\n",
      "- Files to open:\n",
      "tas_ann_MPIESM11_abrupt4x_4459_g025.nc tas_ann_MPIESM11_control_2000_g025.nc\n",
      "- Path to files /g/data/w40/ab2313/PhD/longrunmip/regrid_retimestamped\n",
      "- Opening experiminet\n",
      "- Opening control. Using historical dataset\n",
      "- Removing nans\n",
      "- Applying loess filter to experiment\n",
      "- Applying loess filter to control\n",
      "tas_ann_MPIESM11_control_2000_g025.nc tas_ann_MPIESM11_abrupt4x_4459_g025.nc\n",
      "- New file names:\n",
      "tas_ann_MPIESM11_control_2000_g025_loess.nc tas_ann_MPIESM11_abrupt4x_4459_g025_loess.nc\n",
      "- Adding metedata to files {'history': 'Modified by Alex Borowiak on 2022/05/12', 'stats': 'loess detrended data'}\n",
      "- Saving files as:\n",
      "/g/data/w40/ab2313/PhD/longrunmip/regrid_retimestamped/loess/tas_ann_MPIESM11_abrupt4x_4459_g025_loess.nc\n",
      "/g/data/w40/ab2313/PhD/longrunmip/regrid_retimestamped/loess/tas_ann_MPIESM11_control_2000_g025_loess.nc\n",
      "COMPLETE - 169.2589830290332 minutes \n",
      "\n",
      "\n",
      "CESM104\n",
      "- Files to open:\n",
      "tas_mon_CESM104_abrupt4x_5900_g025.nc tas_mon_CESM104_control_1000_g025.nc\n",
      "- Path to files /g/data/w40/ab2313/PhD/longrunmip/regrid_retimestamped\n",
      "- Opening experiminet\n",
      "- Opening control. Using historical dataset\n"
     ]
    },
    {
     "name": "stdout",
     "output_type": "stream",
     "text": [
      "- Removing nans\n",
      "- Applying loess filter to experiment\n",
      "- Applying loess filter to control\n",
      "tas_mon_CESM104_control_1000_g025.nc tas_mon_CESM104_abrupt4x_5900_g025.nc\n",
      "- New file names:\n",
      "tas_mon_CESM104_control_1000_g025_loess.nc tas_mon_CESM104_abrupt4x_5900_g025_loess.nc\n",
      "- Adding metedata to files {'history': 'Modified by Alex Borowiak on 2022/05/12', 'stats': 'loess detrended data'}\n",
      "- Saving files as:\n",
      "/g/data/w40/ab2313/PhD/longrunmip/regrid_retimestamped/loess/tas_mon_CESM104_abrupt4x_5900_g025_loess.nc\n",
      "/g/data/w40/ab2313/PhD/longrunmip/regrid_retimestamped/loess/tas_mon_CESM104_control_1000_g025_loess.nc\n",
      "COMPLETE - 190.5454388415868 minutes \n",
      "\n",
      "\n",
      "FAMOUS\n",
      "- Files to open:\n",
      "tas_ann_FAMOUS_abrupt4x_3000_g025.nc tas_ann_FAMOUS_control_3000_g025.nc\n",
      "- Path to files /g/data/w40/ab2313/PhD/longrunmip/regrid_retimestamped\n",
      "- Opening experiminet\n",
      "- Opening control. Using historical dataset\n",
      "- Removing nans\n",
      "- Applying loess filter to experiment\n",
      "- Applying loess filter to control\n",
      "tas_ann_FAMOUS_control_3000_g025.nc tas_ann_FAMOUS_abrupt4x_3000_g025.nc\n",
      "- New file names:\n",
      "tas_ann_FAMOUS_control_3000_g025_loess.nc tas_ann_FAMOUS_abrupt4x_3000_g025_loess.nc\n",
      "- Adding metedata to files {'history': 'Modified by Alex Borowiak on 2022/05/12', 'stats': 'loess detrended data'}\n",
      "- Saving files as:\n",
      "/g/data/w40/ab2313/PhD/longrunmip/regrid_retimestamped/loess/tas_ann_FAMOUS_abrupt4x_3000_g025_loess.nc\n",
      "/g/data/w40/ab2313/PhD/longrunmip/regrid_retimestamped/loess/tas_ann_FAMOUS_control_3000_g025_loess.nc\n",
      "COMPLETE - 155.45966742066668 minutes \n",
      "\n",
      "\n",
      "HadCM3L\n",
      "- Files to open:\n",
      "tas_mon_HadCM3L_abrupt4x_1000_g025.nc tas_mon_HadCM3L_control_1000_g025.nc\n",
      "- Path to files /g/data/w40/ab2313/PhD/longrunmip/regrid_retimestamped\n",
      "- Opening experiminet\n",
      "- Opening control. Using historical dataset\n",
      "- Removing nans\n",
      "- Applying loess filter to experiment\n",
      "- Applying loess filter to control\n",
      "tas_mon_HadCM3L_control_1000_g025.nc tas_mon_HadCM3L_abrupt4x_1000_g025.nc\n",
      "- New file names:\n",
      "tas_mon_HadCM3L_control_1000_g025_loess.nc tas_mon_HadCM3L_abrupt4x_1000_g025_loess.nc\n",
      "- Adding metedata to files {'history': 'Modified by Alex Borowiak on 2022/05/12', 'stats': 'loess detrended data'}\n",
      "- Saving files as:\n",
      "/g/data/w40/ab2313/PhD/longrunmip/regrid_retimestamped/loess/tas_mon_HadCM3L_abrupt4x_1000_g025_loess.nc\n",
      "/g/data/w40/ab2313/PhD/longrunmip/regrid_retimestamped/loess/tas_mon_HadCM3L_control_1000_g025_loess.nc\n",
      "COMPLETE - 54.483272379031405 minutes \n",
      "\n",
      "\n",
      "IPSLCM5A\n",
      "- Files to open:\n",
      "tas_mon_IPSLCM5A_abrupt4x_1000_g025.nc tas_mon_IPSLCM5A_control_1000_g025.nc\n",
      "- Path to files /g/data/w40/ab2313/PhD/longrunmip/regrid_retimestamped\n",
      "- Opening experiminet\n",
      "- Opening control. Using historical dataset\n",
      "- Removing nans\n",
      "- Applying loess filter to experiment\n",
      "- Applying loess filter to control\n",
      "tas_mon_IPSLCM5A_control_1000_g025.nc tas_mon_IPSLCM5A_abrupt4x_1000_g025.nc\n",
      "- New file names:\n",
      "tas_mon_IPSLCM5A_control_1000_g025_loess.nc tas_mon_IPSLCM5A_abrupt4x_1000_g025_loess.nc\n",
      "- Adding metedata to files {'history': 'Modified by Alex Borowiak on 2022/05/12', 'stats': 'loess detrended data'}\n",
      "- Saving files as:\n",
      "/g/data/w40/ab2313/PhD/longrunmip/regrid_retimestamped/loess/tas_mon_IPSLCM5A_abrupt4x_1000_g025_loess.nc\n",
      "/g/data/w40/ab2313/PhD/longrunmip/regrid_retimestamped/loess/tas_mon_IPSLCM5A_control_1000_g025_loess.nc\n",
      "COMPLETE - 52.88684259191699 minutes \n",
      "\n",
      "\n",
      "GFDLCM3\n",
      "- Files to open:\n",
      "tas_ann_GFDLCM3_abrupt4x_150_g025.nc tas_mon_GFDLCM3_control_5200_g025.nc\n",
      "- Path to files /g/data/w40/ab2313/PhD/longrunmip/regrid_retimestamped\n",
      "- Opening experiminet\n",
      "- Opening control. Using historical dataset\n",
      "- Removing nans\n",
      "- Applying loess filter to experiment\n",
      "- Applying loess filter to control\n",
      "tas_mon_GFDLCM3_control_5200_g025.nc tas_ann_GFDLCM3_abrupt4x_150_g025.nc\n",
      "- New file names:\n",
      "tas_mon_GFDLCM3_control_5200_g025_loess.nc tas_ann_GFDLCM3_abrupt4x_150_g025_loess.nc\n",
      "- Adding metedata to files {'history': 'Modified by Alex Borowiak on 2022/05/12', 'stats': 'loess detrended data'}\n",
      "- Saving files as:\n",
      "/g/data/w40/ab2313/PhD/longrunmip/regrid_retimestamped/loess/tas_ann_GFDLCM3_abrupt4x_150_g025_loess.nc\n",
      "/g/data/w40/ab2313/PhD/longrunmip/regrid_retimestamped/loess/tas_mon_GFDLCM3_control_5200_g025_loess.nc\n",
      "COMPLETE - 159.6495594007157 minutes \n",
      "\n",
      "\n",
      "GFDLESM2M\n",
      "- Files to open:\n",
      "tas_ann_GFDLESM2M_abrupt4x_150_g025.nc tas_mon_GFDLESM2M_control_1340_g025.nc\n",
      "- Path to files /g/data/w40/ab2313/PhD/longrunmip/regrid_retimestamped\n",
      "- Opening experiminet\n",
      "- Opening control. Using historical dataset\n",
      "- Removing nans\n",
      "- Applying loess filter to experiment\n",
      "- Applying loess filter to control\n",
      "tas_mon_GFDLESM2M_control_1340_g025.nc tas_ann_GFDLESM2M_abrupt4x_150_g025.nc\n",
      "- New file names:\n",
      "tas_mon_GFDLESM2M_control_1340_g025_loess.nc tas_ann_GFDLESM2M_abrupt4x_150_g025_loess.nc\n",
      "- Adding metedata to files {'history': 'Modified by Alex Borowiak on 2022/05/12', 'stats': 'loess detrended data'}\n",
      "- Saving files as:\n",
      "/g/data/w40/ab2313/PhD/longrunmip/regrid_retimestamped/loess/tas_ann_GFDLESM2M_abrupt4x_150_g025_loess.nc\n",
      "/g/data/w40/ab2313/PhD/longrunmip/regrid_retimestamped/loess/tas_mon_GFDLESM2M_control_1340_g025_loess.nc\n",
      "COMPLETE - 41.72360175348585 minutes \n",
      "\n",
      "\n",
      "CPU times: user 1d 1h 24min 33s, sys: 6min 11s, total: 1d 1h 30min 45s\n",
      "Wall time: 1d 1h 46min 56s\n"
     ]
    }
   ],
   "source": [
    "%%time\n",
    "for model in models:\n",
    "    t1 = perf_counter()\n",
    "    print(model)\n",
    "\n",
    "    fname_experiment = [f for f in fnames_abrupt4x if model in f][0]\n",
    "    fname_control = [f for f in fnames_control if model in f][0]\n",
    "    \n",
    "    print('- Files to open:')\n",
    "    print(fname_experiment, fname_control)\n",
    "    print(f'- Path to files {ROOT_DIR}')\n",
    "\n",
    "    # Data for the model\n",
    "    print('- Opening experiminet')\n",
    "    single_experiment =  xr.open_dataset(os.path.join(ROOT_DIR,fname_experiment),\n",
    "                                 use_cftime = True, chunks = chunks).tas\n",
    "\n",
    "    # if model not in list(control_ds.data_vars):\n",
    "    #     continue\n",
    "    print('- Opening control. ', end='')\n",
    "    single_control = xr.open_dataset(os.path.join(ROOT_DIR,fname_control),\n",
    "                                 use_cftime = True, chunks = chunks).tas\n",
    "\n",
    "    # Getting the anomalies for the experiment\n",
    "    experiment_anom = single_experiment.clima.anomalies(start = single_experiment.time.dt.year.values[0], \n",
    "                                              end = single_experiment.time.dt.year.values[-1],\n",
    "                                historical = single_experiment)\n",
    "\n",
    "    # Drop na from time dim: loess will try and do this and get a mismatch otherwise\n",
    "    print('- Removing nans')\n",
    "    single_control = single_control.dropna(dim='time')\n",
    "    experiment_anom = experiment_anom.dropna(dim='time')\n",
    "\n",
    "    # Loess filtering\n",
    "    print('- Applying loess filter to experiment')\n",
    "    loess_experiment_anom = experiment_anom.sn.loess_grid()\n",
    "    print('- Applying loess filter to control')\n",
    "    loess_control = single_control.sn.loess_grid()\n",
    "\n",
    "    # Get the file name for the control and experiment by searching for the file name\n",
    "    # containing the model in the list.\n",
    "    control_save_name = [f for f in fnames_control if model.upper() in f.upper()][0]\n",
    "    experiment_save_name = [f for f in fnames_abrupt4x if model.upper() in f.upper()][0]\n",
    "\n",
    "    print(control_save_name, experiment_save_name)\n",
    "\n",
    "    control_save_name = control_save_name.replace('.nc', '_loess.nc')\n",
    "    experiment_save_name = experiment_save_name.replace('.nc', '_loess.nc')\n",
    "    print('- New file names:')\n",
    "    print(control_save_name, experiment_save_name)\n",
    "\n",
    "\n",
    "    # Adding some attributes\n",
    "    now = pd.Timestamp.now().strftime(format = '%Y/%m/%d')\n",
    "    history = {'history': f'Modified by Alex Borowiak on {now}','stats': 'loess detrended data'}\n",
    "    print(f'- Adding metedata to files {history}')\n",
    "    loess_experiment_anom.attrs = history\n",
    "    loess_control.attrs = history\n",
    "    \n",
    "    \n",
    "    # Saving files\n",
    "    print('- Saving files as:')\n",
    "    print(os.path.join(ROOT_DIR, 'loess', experiment_save_name),\\\n",
    "        os.path.join(ROOT_DIR, 'loess', control_save_name), sep='\\n')\n",
    "    \n",
    "    \n",
    "    \n",
    "    loess_experiment_anom.to_netcdf(os.path.join(ROOT_DIR, 'loess', experiment_save_name))\n",
    "    loess_control.to_netcdf(os.path.join(ROOT_DIR, 'loess', control_save_name))\n",
    "    \n",
    "    t2 = perf_counter()\n",
    "    time_taken = (t2 - t1)/60\n",
    "    print(f'COMPLETE - {time_taken} minutes \\n\\n')"
   ]
  },
  {
   "cell_type": "code",
   "execution_count": null,
   "id": "e011f12e",
   "metadata": {},
   "outputs": [],
   "source": []
  }
 ],
 "metadata": {
  "celltoolbar": "Tags",
  "kernelspec": {
   "display_name": "Python 3 (ipykernel)",
   "language": "python",
   "name": "python3"
  },
  "language_info": {
   "codemirror_mode": {
    "name": "ipython",
    "version": 3
   },
   "file_extension": ".py",
   "mimetype": "text/x-python",
   "name": "python",
   "nbconvert_exporter": "python",
   "pygments_lexer": "ipython3",
   "version": "3.9.13"
  }
 },
 "nbformat": 4,
 "nbformat_minor": 5
}
