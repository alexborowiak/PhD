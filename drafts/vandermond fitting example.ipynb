{
 "cells": [
  {
   "cell_type": "code",
   "execution_count": 1,
   "id": "8f6883c4",
   "metadata": {
    "ExecuteTime": {
     "end_time": "2023-02-16T03:27:25.997191Z",
     "start_time": "2023-02-16T03:27:21.440368Z"
    }
   },
   "outputs": [],
   "source": [
    "import nc_time_axis\n",
    "import warnings\n",
    "\n",
    "import xarray as xr\n",
    "import numpy as np\n",
    "import pandas as pd\n",
    "from importlib import reload\n",
    "import string\n",
    "\n",
    "\n",
    "import matplotlib.pyplot as plt\n",
    "import matplotlib as mpl\n",
    "import matplotlib.ticker as mticker\n",
    "import matplotlib.gridspec as gridspec \n",
    "from matplotlib.axes import Axes\n",
    "from matplotlib.colors import ListedColormap\n",
    "import matplotlib.cm as cm\n",
    "\n",
    "import os\n",
    "import sys\n",
    "\n",
    "from numpy.typing import ArrayLike\n",
    "from typing import Optional, Callable, List, Tuple, Dict\n",
    "\n",
    "warnings.filterwarnings('ignore')"
   ]
  },
  {
   "cell_type": "code",
   "execution_count": 4,
   "id": "27c92ad6",
   "metadata": {
    "ExecuteTime": {
     "end_time": "2023-02-16T03:27:48.368753Z",
     "start_time": "2023-02-16T03:27:44.564515Z"
    }
   },
   "outputs": [],
   "source": [
    "sys.path.append('../')\n",
    "import constants\n",
    "sys.path.append(constants.MODULE_DIR)\n",
    "import sn_plotting as sn_plot\n",
    "import xarray_class_accessors as xca\n",
    "import utils\n",
    "\n",
    "import xarray_extender as xce\n",
    "import signal_to_noise as sn\n",
    "import open_ds\n",
    "from classes import ExperimentTypes, LocationsLatLon\n",
    "\n",
    "logger = utils.get_notebook_logger()"
   ]
  },
  {
   "cell_type": "code",
   "execution_count": 10,
   "id": "05461036",
   "metadata": {
    "ExecuteTime": {
     "end_time": "2023-02-16T03:29:47.442996Z",
     "start_time": "2023-02-16T03:29:47.434795Z"
    }
   },
   "outputs": [
    {
     "data": {
      "text/plain": [
       "{'variable': 'tas', 'mask': None, 'hemisphere': 'global'}"
      ]
     },
     "execution_count": 10,
     "metadata": {},
     "output_type": "execute_result"
    }
   ],
   "source": [
    "experiment_params = constants.EXPERIMENTS_TO_RUN[0]\n",
    "experiment_params"
   ]
  },
  {
   "cell_type": "code",
   "execution_count": 11,
   "id": "005d044d",
   "metadata": {
    "ExecuteTime": {
     "end_time": "2023-02-16T03:30:29.155004Z",
     "start_time": "2023-02-16T03:29:48.483109Z"
    }
   },
   "outputs": [
    {
     "name": "stdout",
     "output_type": "stream",
     "text": [
      "- Removing first 10 steps\n"
     ]
    }
   ],
   "source": [
    "control_abrupt_ds = open_ds.open_experiment_files(experiment_params, ExperimentTypes.CONTROL)\n",
    "abrupt4x_ds = open_ds.open_experiment_files(experiment_params, ExperimentTypes.ABRUPT4X)"
   ]
  },
  {
   "cell_type": "markdown",
   "id": "0b58e62f",
   "metadata": {},
   "source": [
    "# Polynomial Detrend"
   ]
  },
  {
   "cell_type": "code",
   "execution_count": 199,
   "id": "e852ffe2",
   "metadata": {
    "ExecuteTime": {
     "end_time": "2023-02-16T05:20:20.971778Z",
     "start_time": "2023-02-16T05:20:20.965343Z"
    }
   },
   "outputs": [],
   "source": [
    "order = 2\n"
   ]
  },
  {
   "cell_type": "code",
   "execution_count": 200,
   "id": "6af46801",
   "metadata": {
    "ExecuteTime": {
     "end_time": "2023-02-16T05:20:21.135302Z",
     "start_time": "2023-02-16T05:20:21.127682Z"
    }
   },
   "outputs": [
    {
     "data": {
      "text/plain": [
       "array([0.56631685, 0.54249513, 0.55011905, 0.96299076, 0.57615356,\n",
       "       0.83812957, 0.03365212, 0.07628928, 0.97206216, 0.48660708,\n",
       "       0.85080901, 0.20213829])"
      ]
     },
     "execution_count": 200,
     "metadata": {},
     "output_type": "execute_result"
    }
   ],
   "source": [
    "np.random.random(12)"
   ]
  },
  {
   "cell_type": "code",
   "execution_count": 201,
   "id": "45a0e673",
   "metadata": {
    "ExecuteTime": {
     "end_time": "2023-02-16T05:20:21.251870Z",
     "start_time": "2023-02-16T05:20:21.245943Z"
    }
   },
   "outputs": [],
   "source": [
    "x = np.arange(1, 12) ** 3\n",
    "x = x + np.random.rand(len(x)) * 100"
   ]
  },
  {
   "cell_type": "code",
   "execution_count": 202,
   "id": "71de0448",
   "metadata": {
    "ExecuteTime": {
     "end_time": "2023-02-16T05:20:21.395646Z",
     "start_time": "2023-02-16T05:20:21.384746Z"
    }
   },
   "outputs": [],
   "source": [
    "x = np.array([1, 2, 3, 6, 21, 55, 102])"
   ]
  },
  {
   "cell_type": "code",
   "execution_count": 203,
   "id": "f7424e59",
   "metadata": {
    "ExecuteTime": {
     "end_time": "2023-02-16T05:20:21.488132Z",
     "start_time": "2023-02-16T05:20:21.475597Z"
    }
   },
   "outputs": [],
   "source": [
    "y = 2 * x ** 12 + 3 * x + 20"
   ]
  },
  {
   "cell_type": "code",
   "execution_count": 239,
   "id": "95d325c8",
   "metadata": {
    "ExecuteTime": {
     "end_time": "2023-02-16T05:25:04.004756Z",
     "start_time": "2023-02-16T05:25:03.999170Z"
    }
   },
   "outputs": [],
   "source": [
    "x = np.array([1, 2, 3, 4])\n",
    "y = np.array([1, 4, 9, 16])"
   ]
  },
  {
   "cell_type": "code",
   "execution_count": 240,
   "id": "5c29901f",
   "metadata": {
    "ExecuteTime": {
     "end_time": "2023-02-16T05:25:06.022089Z",
     "start_time": "2023-02-16T05:25:05.722214Z"
    }
   },
   "outputs": [
    {
     "data": {
      "text/plain": [
       "[<matplotlib.lines.Line2D at 0x7fa01b0b4b50>]"
      ]
     },
     "execution_count": 240,
     "metadata": {},
     "output_type": "execute_result"
    },
    {
     "data": {
      "image/png": "[encoded data removed]",
      "text/plain": [
       "<Figure size 432x288 with 1 Axes>"
      ]
     },
     "metadata": {
      "needs_background": "light"
     },
     "output_type": "display_data"
    }
   ],
   "source": [
    "plt.plot(y)"
   ]
  },
  {
   "cell_type": "code",
   "execution_count": 274,
   "id": "9bd6b875",
   "metadata": {
    "ExecuteTime": {
     "end_time": "2023-02-16T05:38:27.146050Z",
     "start_time": "2023-02-16T05:38:27.135756Z"
    }
   },
   "outputs": [],
   "source": [
    "def poly_fit_statsmodel(y, x=None, order=2):\n",
    "    \n",
    "    \n",
    "    nobs = y.shape[0]\n",
    "    x = np.arange(float(nobs)) if x is None else x\n",
    "    print(x)\n",
    "\n",
    "    trends = np.vander(x, N=order + 1)\n",
    "\n",
    "    beta = np.linalg.pinv(trends).dot(y)\n",
    "    print(beta)\n",
    "\n",
    "    fitted_line = np.dot(trends, beta)\n",
    "    \n",
    "    return fitted_line"
   ]
  },
  {
   "cell_type": "code",
   "execution_count": 282,
   "id": "2bd6575c",
   "metadata": {
    "ExecuteTime": {
     "end_time": "2023-02-16T05:39:27.320484Z",
     "start_time": "2023-02-16T05:39:27.313264Z"
    }
   },
   "outputs": [],
   "source": [
    "order = 4"
   ]
  },
  {
   "cell_type": "code",
   "execution_count": 286,
   "id": "6dc33d5f",
   "metadata": {
    "ExecuteTime": {
     "end_time": "2023-02-16T05:39:39.173473Z",
     "start_time": "2023-02-16T05:39:39.162555Z"
    }
   },
   "outputs": [
    {
     "data": {
      "text/plain": [
       "array([8.000000e+00, 2.400000e+01, 9.000000e+01, 1.595625e+02,\n",
       "       2.660000e+02, 2.926761e+02, 3.213696e+02, 3.521801e+02,\n",
       "       6.576000e+03, 1.600260e+05, 7.073160e+05])"
      ]
     },
     "execution_count": 286,
     "metadata": {},
     "output_type": "execute_result"
    }
   ],
   "source": [
    "x = np.array([1, 2, 3, 3.5, 4, 4.1, 4.2, 4.3, 9, 20, 29])\n",
    "y = x ** order + x + 6\n",
    "y"
   ]
  },
  {
   "cell_type": "code",
   "execution_count": 288,
   "id": "d41f29b7",
   "metadata": {
    "ExecuteTime": {
     "end_time": "2023-02-16T05:39:48.320043Z",
     "start_time": "2023-02-16T05:39:48.046841Z"
    }
   },
   "outputs": [
    {
     "data": {
      "text/plain": [
       "[<matplotlib.lines.Line2D at 0x7fa01ac10580>]"
      ]
     },
     "execution_count": 288,
     "metadata": {},
     "output_type": "execute_result"
    },
    {
     "data": {
      "image/png": "[encoded data removed]",
      "text/plain": [
       "<Figure size 432x288 with 1 Axes>"
      ]
     },
     "metadata": {
      "needs_background": "light"
     },
     "output_type": "display_data"
    }
   ],
   "source": [
    "plt.plot(x, y, marker='o')"
   ]
  },
  {
   "cell_type": "code",
   "execution_count": 289,
   "id": "46ede7f2",
   "metadata": {
    "ExecuteTime": {
     "end_time": "2023-02-16T05:39:51.235456Z",
     "start_time": "2023-02-16T05:39:51.224114Z"
    }
   },
   "outputs": [
    {
     "name": "stdout",
     "output_type": "stream",
     "text": [
      "[ 1.   2.   3.   3.5  4.   4.1  4.2  4.3  9.  20.  29. ]\n",
      "[ 1.00000000e+00  1.36424205e-12 -2.59205990e-11  1.00000000e+00\n",
      "  6.00000000e+00]\n"
     ]
    }
   ],
   "source": [
    "fiited_line_with_x = poly_fit_statsmodel(y=y, x=x, order=order)"
   ]
  },
  {
   "cell_type": "code",
   "execution_count": 297,
   "id": "0bcbee9d",
   "metadata": {
    "ExecuteTime": {
     "end_time": "2023-02-16T05:40:38.478132Z",
     "start_time": "2023-02-16T05:40:38.465506Z"
    }
   },
   "outputs": [
    {
     "name": "stdout",
     "output_type": "stream",
     "text": [
      "[ 0.  1.  2.  3.  4.  5.  6.  7.  8.  9. 10.]\n",
      "[    946.16602343  -15016.69058881   73135.41948427 -109573.90966503\n",
      "   18284.13437483]\n"
     ]
    }
   ],
   "source": [
    "fiited_line_auto_x = poly_fit_statsmodel(y=y, order=order)"
   ]
  },
  {
   "cell_type": "code",
   "execution_count": 298,
   "id": "0e2a950e",
   "metadata": {
    "ExecuteTime": {
     "end_time": "2023-02-16T05:40:38.747304Z",
     "start_time": "2023-02-16T05:40:38.738265Z"
    }
   },
   "outputs": [
    {
     "data": {
      "text/plain": [
       "array([8.000000e+00, 2.400000e+01, 9.000000e+01, 1.595625e+02,\n",
       "       2.660000e+02, 2.926761e+02, 3.213696e+02, 3.521801e+02,\n",
       "       6.576000e+03, 1.600260e+05, 7.073160e+05])"
      ]
     },
     "execution_count": 298,
     "metadata": {},
     "output_type": "execute_result"
    }
   ],
   "source": [
    "fiited_line_with_x"
   ]
  },
  {
   "cell_type": "code",
   "execution_count": 299,
   "id": "ecf421f5",
   "metadata": {
    "ExecuteTime": {
     "end_time": "2023-02-16T05:40:39.138573Z",
     "start_time": "2023-02-16T05:40:39.126219Z"
    }
   },
   "outputs": [
    {
     "data": {
      "text/plain": [
       "array([ 18284.13437483, -32224.88037133, -13316.87535385,  18969.98273776,\n",
       "        31305.51177623,  13067.51419651, -23658.22300419, -44077.92826642,\n",
       "         9310.15453147, 216715.76607342, 681056.63160558])"
      ]
     },
     "execution_count": 299,
     "metadata": {},
     "output_type": "execute_result"
    }
   ],
   "source": [
    "fiited_line_auto_x"
   ]
  },
  {
   "cell_type": "code",
   "execution_count": 308,
   "id": "09406f52",
   "metadata": {
    "ExecuteTime": {
     "end_time": "2023-02-16T05:43:23.687214Z",
     "start_time": "2023-02-16T05:43:23.432861Z"
    }
   },
   "outputs": [
    {
     "data": {
      "text/plain": [
       "[<matplotlib.lines.Line2D at 0x7fa01a7d5fa0>]"
      ]
     },
     "execution_count": 308,
     "metadata": {},
     "output_type": "execute_result"
    },
    {
     "data": {
      "image/png": "[encoded data removed]",
      "text/plain": [
       "<Figure size 432x288 with 1 Axes>"
      ]
     },
     "metadata": {
      "needs_background": "light"
     },
     "output_type": "display_data"
    }
   ],
   "source": [
    "plt.plot(y)"
   ]
  },
  {
   "cell_type": "code",
   "execution_count": 307,
   "id": "114cc71c",
   "metadata": {
    "ExecuteTime": {
     "end_time": "2023-02-16T05:43:12.493094Z",
     "start_time": "2023-02-16T05:43:12.224786Z"
    }
   },
   "outputs": [
    {
     "data": {
      "text/plain": [
       "[<matplotlib.lines.Line2D at 0x7fa01a7f5700>]"
      ]
     },
     "execution_count": 307,
     "metadata": {},
     "output_type": "execute_result"
    },
    {
     "data": {
      "image/png": "[encoded data removed]",
      "text/plain": [
       "<Figure size 432x288 with 1 Axes>"
      ]
     },
     "metadata": {
      "needs_background": "light"
     },
     "output_type": "display_data"
    }
   ],
   "source": [
    "plt.plot(fiited_line_with_x)"
   ]
  },
  {
   "cell_type": "code",
   "execution_count": 306,
   "id": "eb81bb2b",
   "metadata": {
    "ExecuteTime": {
     "end_time": "2023-02-16T05:43:03.375399Z",
     "start_time": "2023-02-16T05:43:03.129481Z"
    }
   },
   "outputs": [
    {
     "data": {
      "text/plain": [
       "[<matplotlib.lines.Line2D at 0x7fa01a88e670>]"
      ]
     },
     "execution_count": 306,
     "metadata": {},
     "output_type": "execute_result"
    },
    {
     "data": {
      "image/png": "[encoded data removed]",
      "text/plain": [
       "<Figure size 432x288 with 1 Axes>"
      ]
     },
     "metadata": {
      "needs_background": "light"
     },
     "output_type": "display_data"
    }
   ],
   "source": [
    "plt.plot(fiited_line_auto_x)"
   ]
  },
  {
   "cell_type": "code",
   "execution_count": 305,
   "id": "3d5d4bac",
   "metadata": {
    "ExecuteTime": {
     "end_time": "2023-02-16T05:42:42.189452Z",
     "start_time": "2023-02-16T05:42:41.810928Z"
    }
   },
   "outputs": [
    {
     "data": {
      "text/plain": [
       "<matplotlib.legend.Legend at 0x7fa01a953070>"
      ]
     },
     "execution_count": 305,
     "metadata": {},
     "output_type": "execute_result"
    },
    {
     "data": {
      "image/png": "[encoded data removed]",
      "text/plain": [
       "<Figure size 1296x576 with 1 Axes>"
      ]
     },
     "metadata": {
      "needs_background": "light"
     },
     "output_type": "display_data"
    }
   ],
   "source": [
    "fig = plt.figure(figsize=(18, 8))\n",
    "plt.plot(x, y, label='original', linestyle=':', marker='o', linewidth=5, color='red')\n",
    "plt.plot(x, fiited_line_with_x, label='with x', marker='x', color='green')\n",
    "plt.plot(x, fiited_line_auto_x, label='auto x', marker='>', color='blue')\n",
    "plt.legend()"
   ]
  },
  {
   "cell_type": "code",
   "execution_count": null,
   "id": "49a716f1",
   "metadata": {},
   "outputs": [],
   "source": []
  }
 ],
 "metadata": {
  "kernelspec": {
   "display_name": "Python 3 (ipykernel)",
   "language": "python",
   "name": "python3"
  },
  "language_info": {
   "codemirror_mode": {
    "name": "ipython",
    "version": 3
   },
   "file_extension": ".py",
   "mimetype": "text/x-python",
   "name": "python",
   "nbconvert_exporter": "python",
   "pygments_lexer": "ipython3",
   "version": "3.9.15"
  },
  "toc": {
   "base_numbering": 1,
   "nav_menu": {},
   "number_sections": true,
   "sideBar": true,
   "skip_h1_title": false,
   "title_cell": "Table of Contents",
   "title_sidebar": "Contents",
   "toc_cell": false,
   "toc_position": {},
   "toc_section_display": true,
   "toc_window_display": false
  },
  "varInspector": {
   "cols": {
    "lenName": 16,
    "lenType": 16,
    "lenVar": 40
   },
   "kernels_config": {
    "python": {
     "delete_cmd_postfix": "",
     "delete_cmd_prefix": "del ",
     "library": "var_list.py",
     "varRefreshCmd": "print(var_dic_list())"
    },
    "r": {
     "delete_cmd_postfix": ") ",
     "delete_cmd_prefix": "rm(",
     "library": "var_list.r",
     "varRefreshCmd": "cat(var_dic_list()) "
    }
   },
   "types_to_exclude": [
    "module",
    "function",
    "builtin_function_or_method",
    "instance",
    "_Feature"
   ],
   "window_display": false
  }
 },
 "nbformat": 4,
 "nbformat_minor": 5
}
