{
 "cells": [
  {
   "cell_type": "markdown",
   "id": "146f9ddd",
   "metadata": {},
   "source": [
    "# Testing Different SN Methods"
   ]
  },
  {
   "cell_type": "code",
   "execution_count": 1,
   "id": "04cbd17b",
   "metadata": {
    "ExecuteTime": {
     "end_time": "2023-02-07T05:47:42.830889Z",
     "start_time": "2023-02-07T05:47:38.706274Z"
    }
   },
   "outputs": [],
   "source": [
    "import numpy as np\n",
    "import xarray as xr\n",
    "import os\n",
    "import matplotlib.pyplot as plt\n"
   ]
  },
  {
   "cell_type": "code",
   "execution_count": 2,
   "id": "69f790c1",
   "metadata": {
    "ExecuteTime": {
     "end_time": "2023-02-07T05:47:42.864229Z",
     "start_time": "2023-02-07T05:47:42.835992Z"
    }
   },
   "outputs": [],
   "source": [
    "from matlab_config import matlab_config\n",
    "matlab_config()"
   ]
  },
  {
   "cell_type": "code",
   "execution_count": 3,
   "id": "8ca2a84e",
   "metadata": {
    "ExecuteTime": {
     "end_time": "2023-02-07T05:47:46.712880Z",
     "start_time": "2023-02-07T05:47:42.867797Z"
    }
   },
   "outputs": [],
   "source": [
    "import sys\n",
    "sys.path.append('../../')\n",
    "import constants\n",
    "sys.path.append(constants.MODULE_DIR)\n",
    "import xarray_class_accessors as xca\n",
    "import signal_to_noise \n",
    "import sn_plotting \n",
    "from classes import ExperimentTypes\n",
    "import open_ds\n",
    "from utils import pprint_list\n",
    "from warnings import filterwarnings\n",
    "filterwarnings('ignore')\n",
    "import utils\n",
    "from importlib import reload"
   ]
  },
  {
   "cell_type": "code",
   "execution_count": 4,
   "id": "f27af2f1",
   "metadata": {
    "ExecuteTime": {
     "end_time": "2023-02-07T05:47:47.616866Z",
     "start_time": "2023-02-07T05:47:46.718818Z"
    }
   },
   "outputs": [
    {
     "ename": "NameError",
     "evalue": "name 'experiment_params' is not defined",
     "output_type": "error",
     "traceback": [
      "\u001b[0;31m---------------------------------------------------------------------------\u001b[0m",
      "\u001b[0;31mNameError\u001b[0m                                 Traceback (most recent call last)",
      "Cell \u001b[0;32mIn[4], line 1\u001b[0m\n\u001b[0;32m----> 1\u001b[0m ROOT_DIR \u001b[38;5;241m=\u001b[39m os\u001b[38;5;241m.\u001b[39mpath\u001b[38;5;241m.\u001b[39mjoin(constants\u001b[38;5;241m.\u001b[39mLONGRUNMIP_DIR, \u001b[43mexperiment_params\u001b[49m[\u001b[38;5;124m\"\u001b[39m\u001b[38;5;124mvariable\u001b[39m\u001b[38;5;124m\"\u001b[39m], \u001b[38;5;124m'\u001b[39m\u001b[38;5;124mregrid_retimestamped\u001b[39m\u001b[38;5;124m'\u001b[39m)\n\u001b[1;32m      2\u001b[0m ROOT_DIR\n",
      "\u001b[0;31mNameError\u001b[0m: name 'experiment_params' is not defined"
     ]
    }
   ],
   "source": [
    "ROOT_DIR = os.path.join(constants.LONGRUNMIP_DIR, experiment_params[\"variable\"], 'regrid_retimestamped')\n",
    "ROOT_DIR"
   ]
  },
  {
   "cell_type": "code",
   "execution_count": 6,
   "id": "67e640ea",
   "metadata": {
    "ExecuteTime": {
     "end_time": "2023-02-07T05:48:01.658513Z",
     "start_time": "2023-02-07T05:48:01.641650Z"
    }
   },
   "outputs": [
    {
     "data": {
      "text/plain": [
       "<module 'open_ds' from '/home/563/ab2313/Documents/PhD/modules/open_ds.py'>"
      ]
     },
     "execution_count": 6,
     "metadata": {},
     "output_type": "execute_result"
    }
   ],
   "source": [
    "reload(open_ds)"
   ]
  },
  {
   "cell_type": "code",
   "execution_count": null,
   "id": "1b5a9dd3",
   "metadata": {
    "ExecuteTime": {
     "end_time": "2023-02-07T05:47:47.629248Z",
     "start_time": "2023-02-07T05:47:47.629215Z"
    }
   },
   "outputs": [],
   "source": [
    "models_to_get = open_ds.get_models_longer_than_length()\n",
    "utils.pprint_list(models_to_get, num_start_items=7)"
   ]
  },
  {
   "cell_type": "code",
   "execution_count": null,
   "id": "ce7a5826",
   "metadata": {
    "ExecuteTime": {
     "end_time": "2023-02-07T05:47:47.632208Z",
     "start_time": "2023-02-07T05:47:47.632175Z"
    }
   },
   "outputs": [],
   "source": [
    "files_to_open_experiment = open_ds.get_file_names_from_from_directory(\n",
    "    ROOT_DIR, ExperimentTypes.ABRUPT4X, models_to_get)\n",
    "\n",
    "files_to_open_control = open_ds.get_file_names_from_from_directory(\n",
    "    ROOT_DIR, ExperimentTypes.CONTROL, models_to_get)\n",
    "\n",
    "utils.pprint_list(files_to_open_experiment, num_start_items=5)"
   ]
  },
  {
   "cell_type": "code",
   "execution_count": null,
   "id": "db42b1de",
   "metadata": {
    "ExecuteTime": {
     "end_time": "2023-02-07T05:47:47.635005Z",
     "start_time": "2023-02-07T05:47:47.634973Z"
    }
   },
   "outputs": [],
   "source": [
    "control_ds = open_ds.read_and_merge_netcdfs(files_to_open_control, ROOT_DIR, \n",
    "                                            mask=experiment_params['mask'])\n",
    "abrupt4x_ds = open_ds.read_and_merge_netcdfs(files_to_open_experiment, ROOT_DIR,\n",
    "                                             mask=experiment_params['mask'])\n",
    "abrupt4x_ds"
   ]
  },
  {
   "cell_type": "code",
   "execution_count": null,
   "id": "d38724f6",
   "metadata": {
    "ExecuteTime": {
     "end_time": "2023-02-07T05:47:47.639953Z",
     "start_time": "2023-02-07T05:47:47.639888Z"
    }
   },
   "outputs": [],
   "source": [
    "abrupt4x_mean,control_ds_mean = signal_to_noise.calculate_global_value(abrupt4x_ds, control_ds, \n",
    "                                                          experiment_params[\"variable\"],\n",
    "                                                constants.HEMISPHERE_LAT[experiment_params['hemisphere']])"
   ]
  },
  {
   "cell_type": "code",
   "execution_count": null,
   "id": "4298ee20",
   "metadata": {
    "ExecuteTime": {
     "end_time": "2023-02-07T05:47:47.642801Z",
     "start_time": "2023-02-07T05:47:47.642768Z"
    }
   },
   "outputs": [],
   "source": [
    "abrupt4x_mean\n"
   ]
  },
  {
   "cell_type": "code",
   "execution_count": null,
   "id": "919a52df",
   "metadata": {
    "ExecuteTime": {
     "end_time": "2023-02-07T05:47:47.646354Z",
     "start_time": "2023-02-07T05:47:47.646321Z"
    }
   },
   "outputs": [],
   "source": [
    "da = abrupt4x_mean.cesm104\n",
    "da"
   ]
  },
  {
   "cell_type": "code",
   "execution_count": null,
   "id": "bc75adf5",
   "metadata": {
    "ExecuteTime": {
     "end_time": "2023-02-07T05:47:47.650209Z",
     "start_time": "2023-02-07T05:47:47.650157Z"
    }
   },
   "outputs": [],
   "source": [
    "plt.plot(da.values)"
   ]
  },
  {
   "cell_type": "code",
   "execution_count": null,
   "id": "8ccb8a5f",
   "metadata": {
    "ExecuteTime": {
     "end_time": "2023-02-07T05:47:47.656642Z",
     "start_time": "2023-02-07T05:47:47.656588Z"
    }
   },
   "outputs": [],
   "source": [
    "loess_list = []\n",
    "for window in (5, 10, 20, 40, 80, 120, 160):\n",
    "    da_loess_x = da.sn.apply_loess_filter(window=window)\n",
    "    loess_list.append(da_loess_x.expand_dims(\"window\").assign_coords(window=('window', [window])))"
   ]
  },
  {
   "cell_type": "code",
   "execution_count": null,
   "id": "21303b24",
   "metadata": {
    "ExecuteTime": {
     "end_time": "2023-02-07T05:47:47.661220Z",
     "start_time": "2023-02-07T05:47:47.661170Z"
    }
   },
   "outputs": [],
   "source": [
    "da_loess = xr.concat(loess_list, dim='window')"
   ]
  },
  {
   "cell_type": "code",
   "execution_count": null,
   "id": "0979e0fe",
   "metadata": {
    "ExecuteTime": {
     "end_time": "2023-02-07T05:47:47.665129Z",
     "start_time": "2023-02-07T05:47:47.665074Z"
    }
   },
   "outputs": [],
   "source": [
    "fig = plt.figure(figsize=(15,20))\n",
    "windows = da_loess.window.values\n",
    "num_rows = len(windows)\n",
    "\n",
    "for plot_num, window in enumerate(windows):\n",
    "    ax = fig.add_subplot(num_rows, 1, plot_num+1)\n",
    "    ax.plot(da_loess.sel(window=window).values[:500])\n",
    "    ax.set_title(f'{window=}')"
   ]
  },
  {
   "cell_type": "code",
   "execution_count": null,
   "id": "0da1c016",
   "metadata": {
    "ExecuteTime": {
     "end_time": "2023-02-07T05:47:47.669221Z",
     "start_time": "2023-02-07T05:47:47.669169Z"
    }
   },
   "outputs": [],
   "source": [
    "fig = plt.figure(figsize=(15,8))\n",
    "plt.plot(da_loess.sel(window=10).values[:500])"
   ]
  },
  {
   "cell_type": "code",
   "execution_count": null,
   "id": "a1fe9ff4",
   "metadata": {},
   "outputs": [],
   "source": []
  }
 ],
 "metadata": {
  "kernelspec": {
   "display_name": "Python 3 (ipykernel)",
   "language": "python",
   "name": "python3"
  },
  "language_info": {
   "codemirror_mode": {
    "name": "ipython",
    "version": 3
   },
   "file_extension": ".py",
   "mimetype": "text/x-python",
   "name": "python",
   "nbconvert_exporter": "python",
   "pygments_lexer": "ipython3",
   "version": "3.9.15"
  },
  "toc": {
   "base_numbering": 1,
   "nav_menu": {},
   "number_sections": true,
   "sideBar": true,
   "skip_h1_title": false,
   "title_cell": "Table of Contents",
   "title_sidebar": "Contents",
   "toc_cell": false,
   "toc_position": {},
   "toc_section_display": true,
   "toc_window_display": false
  },
  "varInspector": {
   "cols": {
    "lenName": 16,
    "lenType": 16,
    "lenVar": 40
   },
   "kernels_config": {
    "python": {
     "delete_cmd_postfix": "",
     "delete_cmd_prefix": "del ",
     "library": "var_list.py",
     "varRefreshCmd": "print(var_dic_list())"
    },
    "r": {
     "delete_cmd_postfix": ") ",
     "delete_cmd_prefix": "rm(",
     "library": "var_list.r",
     "varRefreshCmd": "cat(var_dic_list()) "
    }
   },
   "types_to_exclude": [
    "module",
    "function",
    "builtin_function_or_method",
    "instance",
    "_Feature"
   ],
   "window_display": false
  }
 },
 "nbformat": 4,
 "nbformat_minor": 5
}
