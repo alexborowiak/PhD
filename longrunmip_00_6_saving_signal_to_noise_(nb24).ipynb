{
 "cells": [
  {
   "cell_type": "markdown",
   "id": "dcdb290e",
   "metadata": {},
   "source": [
    "# 06_saving_consecutive_metrics_all_models\n",
    "* Calculating the consecutive metrics for all models and then saving this to a folder with in the consecutve metrics folder with the folder name being the window length.\n",
    "\n",
    "PHD-10\n",
    "* Newer more streamlined version from Documents/PhD/03_SN_global_different_windows_(nb25).ipynb\n",
    "* ALl S/N calculation and bound are handled by function"
   ]
  },
  {
   "cell_type": "markdown",
   "id": "4c9edfed",
   "metadata": {},
   "source": [
    "# Preamble"
   ]
  },
  {
   "cell_type": "code",
   "execution_count": 35,
   "id": "b1faf97d",
   "metadata": {},
   "outputs": [],
   "source": [
    "import numpy as np\n",
    "import os\n",
    "from time import perf_counter\n",
    "import itertools\n",
    "import matplotlib.pyplot as plt\n",
    "import xarray as xr\n",
    "from importlib import reload\n",
    "from glob import glob\n",
    "import cartopy.crs as ccrs\n",
    "import matplotlib.ticker as mticker\n",
    "from enum import Enum\n",
    "from dask.diagnostics import ProgressBar\n",
    "from typing import Dict, List\n",
    "from warnings import filterwarnings\n",
    "filterwarnings('ignore')"
   ]
  },
  {
   "cell_type": "code",
   "execution_count": 123,
   "id": "12456875",
   "metadata": {},
   "outputs": [],
   "source": [
    "import sys\n",
    "sys.path.append(constants.MODULE_DIR)\n",
    "import xarray_class_accessors as xca\n",
    "import sn_plotting\n",
    "import signal_to_noise\n",
    "import open_ds\n",
    "from classes import ExperimentTypes\n",
    "import constants\n",
    "import utils\n",
    "from itertools import chain\n",
    "\n",
    "\n",
    "logger = utils.get_notebook_logger()"
   ]
  },
  {
   "cell_type": "code",
   "execution_count": 36,
   "id": "e7f2c481",
   "metadata": {},
   "outputs": [],
   "source": [
    "chunks = {'lat':48/2,'lon':96/2,'time':-1}"
   ]
  },
  {
   "cell_type": "code",
   "execution_count": 32,
   "id": "dd7628ac",
   "metadata": {},
   "outputs": [],
   "source": [
    "RUN_PARAMETERS = {'window': 101, 'requested_length': 500}"
   ]
  },
  {
   "cell_type": "code",
   "execution_count": 161,
   "id": "915a9857",
   "metadata": {},
   "outputs": [
    {
     "data": {
      "text/plain": [
       "'/g/data/w40/ab2313/PhD/longrunmip/tas/regrid_retimestamped'"
      ]
     },
     "execution_count": 161,
     "metadata": {},
     "output_type": "execute_result"
    }
   ],
   "source": [
    "variable = 'tas'\n",
    "ROOT_DIR = os.path.join(constants.LONGRUNMIP_DIR, variable)\n",
    "ROOT_DIR_REGRID = os.path.join(ROOT_DIR, 'regrid_retimestamped')\n",
    "ROOT_DIR_LOWESS = os.path.join(ROOT_DIR, 'lowess')\n",
    "\n",
    "ROOT_DIR_REGRID"
   ]
  },
  {
   "cell_type": "code",
   "execution_count": 162,
   "id": "64bcc231",
   "metadata": {},
   "outputs": [
    {
     "name": "stdout",
     "output_type": "stream",
     "text": [
      "lenght = 7\n",
      " 0. ccsm3\n",
      " 1. cesm104\n",
      " 2. cnrmcm61\n",
      " 3. hadcm3l\n",
      " 4. ipslcm5a\n",
      " 5. mpiesm11\n",
      " 6. mpiesm12\n"
     ]
    }
   ],
   "source": [
    "models_to_get = open_ds.get_models_longer_than_length()\n",
    "utils.pprint_list(models_to_get, num_start_items=7)"
   ]
  },
  {
   "cell_type": "code",
   "execution_count": 163,
   "id": "775b0da4",
   "metadata": {},
   "outputs": [
    {
     "name": "stdout",
     "output_type": "stream",
     "text": [
      "lenght = 7\n",
      " 0. tas_mon_CCSM3_abrupt4x_2120_g025.nc\n",
      " 1. tas_mon_CESM104_abrupt4x_5900_g025.nc\n"
     ]
    }
   ],
   "source": [
    "files_to_open_experiment = open_ds.get_file_names_from_from_directory(ROOT_DIR_REGRID,\n",
    "                                                           ExperimentTypes.ABRUPT4X,\n",
    "                                                           models_to_get)\n",
    "\n",
    "files_to_open_control = open_ds.get_file_names_from_from_directory(ROOT_DIR_REGRID,\n",
    "                                                           ExperimentTypes.CONTROL,\n",
    "                                                           models_to_get)\n",
    "utils.pprint_list(files_to_open_experiment)"
   ]
  },
  {
   "cell_type": "code",
   "execution_count": 164,
   "id": "e9e64a63",
   "metadata": {},
   "outputs": [
    {
     "data": {
      "text/plain": [
       "array(['ccsm3', 'cesm104', 'cnrmcm61', 'hadcm3l', 'ipslcm5a', 'mpiesm11',\n",
       "       'mpiesm12'], dtype='<U8')"
      ]
     },
     "execution_count": 164,
     "metadata": {},
     "output_type": "execute_result"
    }
   ],
   "source": [
    "models_control = [fname.split('_')[2].lower() for fname  in files_to_open_control]\n",
    "models_experiment = [fname.split('_')[2].lower() for fname  in files_to_open_experiment]\n",
    "models = np.intersect1d(models_control, models_experiment)\n",
    "models"
   ]
  },
  {
   "cell_type": "code",
   "execution_count": 165,
   "id": "c7f50071",
   "metadata": {},
   "outputs": [],
   "source": [
    "RUN_PARAMETERS = {'window': 51, 'requested_length': 1000}"
   ]
  },
  {
   "cell_type": "code",
   "execution_count": 166,
   "id": "7a31990e",
   "metadata": {},
   "outputs": [
    {
     "name": "stdout",
     "output_type": "stream",
     "text": [
      "/g/data/w40/ab2313/PhD/longrunmip/tas/signal_to_noise\n",
      "/g/data/w40/ab2313/PhD/longrunmip/tas/signal_to_noise/window_51_length_1000\n"
     ]
    }
   ],
   "source": [
    "OUTPUT_DIR = os.path.join(ROOT_DIR, 'signal_to_noise')\n",
    "OUTPUT_FOLDER = 'window_{a}_length_{b}'.format(a=RUN_PARAMETERS['window'], \n",
    "                                               b=RUN_PARAMETERS['requested_length'])\n",
    "OUTPUT_DIR_2 = os.path.join(OUTPUT_DIR, OUTPUT_FOLDER)\n",
    "                            \n",
    "print(OUTPUT_DIR, OUTPUT_DIR_2, sep='\\n')"
   ]
  },
  {
   "cell_type": "code",
   "execution_count": 167,
   "id": "247a0a0a",
   "metadata": {},
   "outputs": [],
   "source": [
    "try:\n",
    "    os.mkdir(OUTPUT_DIR)\n",
    "    os.mkdir(OUTPUT_DIR_2)\n",
    "except FileExistsError as e:\n",
    "    pass"
   ]
  },
  {
   "cell_type": "code",
   "execution_count": 168,
   "id": "b930e87e",
   "metadata": {},
   "outputs": [],
   "source": [
    "def open_all_needed_netcdf_files(control_fpath, experiment_fpath):\n",
    "    \n",
    "    ds_experiment = open_ds.read_longrunmip_netcdf(experiment_fpath, ROOT_DIR_REGRID)#.to_array()\n",
    "    ds_control = open_ds.read_longrunmip_netcdf(control_fpath, ROOT_DIR_REGRID)#.to_array()\n",
    "    \n",
    "    ds_experiment_lowess = open_ds.read_longrunmip_netcdf(experiment_fpath, ROOT_DIR_LOWESS)#.to_array()\n",
    "    ds_control_lowess = open_ds.read_longrunmip_netcdf(control_fpath, ROOT_DIR_LOWESS)#.to_array()\n",
    "    \n",
    "    return ds_experiment, ds_control, ds_experiment_lowess, ds_control_lowess"
   ]
  },
  {
   "cell_type": "code",
   "execution_count": 169,
   "id": "943ce284",
   "metadata": {},
   "outputs": [],
   "source": [
    "def save_all_netcdf_files(ds_sn, ds_sn_stable, ds_sn_increasing, ds_sn_decreasing):\n",
    "    ds_sn.to_netcdf(os.path.join(OUTPUT_DIR_2, f'{model}_signal_to_noise.nc'))\n",
    "    ds_sn_stable.to_netcdf(os.path.join(OUTPUT_DIR_2, f'{model}_signal_to_noise_stable.nc'))\n",
    "    ds_sn_increasing.to_netcdf(os.path.join(OUTPUT_DIR_2, f'{model}_signal_to_noise_increasing.nc'))\n",
    "    ds_sn_decreasing.to_netcdf(os.path.join(OUTPUT_DIR_2, f'{model}_signal_to_noise_decreasing.nc'))"
   ]
  },
  {
   "cell_type": "code",
   "execution_count": 170,
   "id": "23dcd531",
   "metadata": {},
   "outputs": [
    {
     "name": "stdout",
     "output_type": "stream",
     "text": [
      "cesm104| All files have been opened\n",
      " - 66.06457434973369\n",
      "cnrmcm61| All files have been opened\n",
      " - 73.29777148726086\n",
      "hadcm3l| All files have been opened\n",
      " - 63.7271091418496\n",
      "ipslcm5a| All files have been opened\n",
      " - 63.00092467530631\n",
      "mpiesm11| All files have been opened\n",
      " - 72.69829579664705\n",
      "mpiesm12| All files have been opened\n",
      " - 65.3362397527943\n"
     ]
    }
   ],
   "source": [
    "reload(open_ds)\n",
    "for model in models[1:]:\n",
    "    \n",
    "    t1 = perf_counter()\n",
    "    print(model, end = '')\n",
    "    \n",
    "    control_fpath = [fname for fname in files_to_open_control if model in fname.lower()][0]\n",
    "    experiment_fpath = [fname for fname in files_to_open_experiment if model in fname.lower()][0]\n",
    "    \n",
    "    try:\n",
    "        ds_experiment, ds_control, ds_experiment_lowess, ds_control_lowess =\\\n",
    "                    open_all_needed_netcdf_files(control_fpath, experiment_fpath)\n",
    "        print('| All files have been opened')\n",
    "\n",
    "        ds_sn, ds_sn_stable, ds_sn_increasing, ds_sn_decreasing =\\\n",
    "                signal_to_noise.global_sn(ds_experiment, ds_control, \n",
    "                             ds_experiment_lowess, ds_control_lowess, \n",
    "                             window=RUN_PARAMETERS['window'])\n",
    "\n",
    "        save_all_netcdf_files(ds_sn, ds_sn_stable, ds_sn_increasing, ds_sn_decreasing)\n",
    "\n",
    "        t2 = perf_counter()\n",
    "        print(f' - {(t2-t1)/60}')\n",
    "        \n",
    "    except LongRunMIPError as e:\n",
    "        logger.error(e)\n",
    "    "
   ]
  }
 ],
 "metadata": {
  "celltoolbar": "Tags",
  "kernelspec": {
   "display_name": "Python 3 (ipykernel)",
   "language": "python",
   "name": "python3"
  },
  "language_info": {
   "codemirror_mode": {
    "name": "ipython",
    "version": 3
   },
   "file_extension": ".py",
   "mimetype": "text/x-python",
   "name": "python",
   "nbconvert_exporter": "python",
   "pygments_lexer": "ipython3",
   "version": "3.9.13"
  }
 },
 "nbformat": 4,
 "nbformat_minor": 5
}
