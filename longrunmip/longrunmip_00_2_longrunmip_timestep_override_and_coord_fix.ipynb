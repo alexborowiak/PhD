{
 "cells": [
  {
   "cell_type": "markdown",
   "id": "30f5a1ec",
   "metadata": {},
   "source": [
    "# Time Analysis\n",
    "\n",
    "* Time analysis of lungrunmip data\n",
    "* Number of models for each experiment.\n",
    "This notebook contains an exploration of the timesteps in the longrunmip data.\n",
    "The notebooks also contains a time override. The models in my study all need to have the same timestamps - year since initialisation. The easiest way to go about this is overriding all time stamps and adding back in new time depending if annual or monthly (ann or monn in file name). "
   ]
  },
  {
   "cell_type": "code",
   "execution_count": 1,
   "id": "cd237fda",
   "metadata": {
    "tags": []
   },
   "outputs": [],
   "source": [
    "import os, sys, warnings, cftime\n",
    "import xarray as xr\n",
    "import numpy as np\n",
    "import pandas as pd\n",
    "import matplotlib.pyplot \n",
    "import matplotlib.pyplot as plt\n",
    "warnings.filterwarnings('ignore')\n",
    "sys.path.append(os.path.join(os.getcwd(), 'Documents', 'PhD'))\n",
    "import constants\n",
    "sys.path.append(constants.MODULE_DIR)\n",
    "from importlib import reload\n",
    "from time import perf_counter\n",
    "from typing import List\n",
    "import re\n",
    "import xarray_class_accessors as xca\n",
    "import utils\n",
    "import open_ds\n",
    "\n",
    "from pprint import pprint"
   ]
  },
  {
   "cell_type": "markdown",
   "id": "99fe34d5",
   "metadata": {},
   "source": [
    "# Files"
   ]
  },
  {
   "cell_type": "code",
   "execution_count": 2,
   "id": "0fc4992e",
   "metadata": {
    "tags": []
   },
   "outputs": [],
   "source": [
    "def remove_other_variables(ds, variable):\n",
    "    try:\n",
    "        ds = ds[[variable]]\n",
    "    # The dataset does not contain the variable for some reeason\n",
    "    except KeyError as e:\n",
    "        print('| Variable not found in dataset checing for other possible names')\n",
    "        data_vars = np.array(ds.data_vars)\n",
    "        \n",
    "        # Only one variable there, so this must be it.\n",
    "        if len(data_vars) == 1:\n",
    "            ds = ds.rename({data_vars[0]: variable})\n",
    "            # Can now try this again\n",
    "            ds = ds[[variable]]\n",
    "        else:\n",
    "            possible_extra_vars = ['time_bnds', 'height', 'TAREA']\n",
    "            possible_name = data_vars[~np.isin(data_vars, possible_extra_vars)]\n",
    "            \n",
    "            if len(possible_name) != 1:\n",
    "                raise ValueError(f'Cant automate name change {possible_name=}')\n",
    "                \n",
    "            ds = ds.rename({possible_name[0]: variable})\n",
    "            \n",
    "            ds = ds[[variable]]\n",
    "        \n",
    "    return ds"
   ]
  },
  {
   "cell_type": "code",
   "execution_count": 3,
   "id": "ab49edb9",
   "metadata": {
    "tags": []
   },
   "outputs": [],
   "source": [
    "def refactor_longronmip_netcdf(ds:xr.Dataset, variable:str, months: List[int] = None) -> xr.Dataset:\n",
    "    '''\n",
    "    Refactor a longronmip netCDF dataset by modifying its dimensions and time coordinates.\n",
    "    \n",
    "    Args:\n",
    "        ds: The xarray dataset to be refactored.\n",
    "        variable: The variable that is being used. This is important for the way that the resampling occurs.\n",
    "        months: A list of month values to subset the dataset.\n",
    "    \n",
    "    Returns:\n",
    "        The refactored xarray dataset.\n",
    "    '''\n",
    "    MEAN_VARIABLES = ['tas', 'tos', 'sic', 'netTOA', 'surf']\n",
    "    SUM_VARIABLES = ['pr']\n",
    "    \n",
    "    print('\\n| Refactoring dims |', end='')\n",
    "    ds = open_ds.refactor_dims(ds)\n",
    "\n",
    "    freq = 'M' if re.search(r'\\w+mon\\w+', fname) else 'Y'\n",
    "    print(f' | freq={freq}', end='')\n",
    "    ds['time'] = open_ds.make_new_time(ds, freq=freq, debug=False)\n",
    "    \n",
    "    if months and freq == 'M':\n",
    "        print(f' | Subsetting for months {months}')\n",
    "        print(f' | Original length = {len(ds.time.values)}')\n",
    "        ds = ds.where(ds.time.dt.month.isin(months), drop=True)\n",
    "        print(f' | New length = {len(ds.time.values)}')\n",
    "\n",
    "    if freq == 'M':\n",
    "        print(f' | Resampling with resample=True')\n",
    "        print(f' | Original length = {len(ds.time.values)}', end='')\n",
    "        if variable in MEAN_VARIABLES:\n",
    "            print(' - Resampling with MEAN')\n",
    "            ds = ds.resample(time='Y').mean()\n",
    "        elif variable in SUM_VARIABLES:\n",
    "            print(' - +Resampling with SUM')\n",
    "            ds = ds.resample(time='Y').sum()\n",
    "        else:\n",
    "            raise TypeError('Variable is not in list of variables. Please define to method')\n",
    "        print(f' | New length = {len(ds.time.values)}')\n",
    "        \n",
    "    return ds"
   ]
  },
  {
   "cell_type": "code",
   "execution_count": 4,
   "id": "1f1afeb6",
   "metadata": {
    "tags": []
   },
   "outputs": [
    {
     "data": {
      "text/plain": [
       "['tas',\n",
       " 'surf',\n",
       " 'netTOA',\n",
       " 'sic_aso',\n",
       " 'sic_fma',\n",
       " 'zarr_test',\n",
       " 'landesea_masks',\n",
       " 'tos',\n",
       " 'pr',\n",
       " '.ipynb_checkpoints',\n",
       " 'psl',\n",
       " 'sic']"
      ]
     },
     "execution_count": 4,
     "metadata": {},
     "output_type": "execute_result"
    }
   ],
   "source": [
    "os.listdir(constants.LONGRUNMIP_DIR)"
   ]
  },
  {
   "cell_type": "code",
   "execution_count": 5,
   "id": "52018c76",
   "metadata": {
    "tags": []
   },
   "outputs": [],
   "source": [
    "variable = 'surf' # Completed: pr, tas, sic, surf, tos, psl, netTOA\n",
    "ROOT_DIR = os.path.join(constants.LONGRUNMIP_DIR, variable, 'regrid')"
   ]
  },
  {
   "cell_type": "code",
   "execution_count": 6,
   "id": "b203af63",
   "metadata": {
    "tags": []
   },
   "outputs": [
    {
     "name": "stdout",
     "output_type": "stream",
     "text": [
      "length = 17\n",
      "0. surf_ann_HadCM3L_control_1000_g025.nc\n",
      "1. surf_ann_CCSM3_control_1530_g025.nc\n"
     ]
    }
   ],
   "source": [
    "files = os.listdir(ROOT_DIR)\n",
    "utils.pprint_list(files)"
   ]
  },
  {
   "cell_type": "code",
   "execution_count": 7,
   "id": "74210a88-8bb7-4c62-84dd-82270553e54b",
   "metadata": {
    "tags": []
   },
   "outputs": [
    {
     "name": "stdout",
     "output_type": "stream",
     "text": [
      "None\n"
     ]
    }
   ],
   "source": [
    "month_group = None#'aso'\n",
    "MONTH_GROUP_MAPPING = {'fma': [2,3,4], 'aso': [8, 9, 10], None: None}\n",
    "months = MONTH_GROUP_MAPPING[month_group]\n",
    "print(months)"
   ]
  },
  {
   "cell_type": "code",
   "execution_count": 8,
   "id": "49fc841f",
   "metadata": {
    "tags": []
   },
   "outputs": [
    {
     "data": {
      "text/plain": [
       "'/g/data/w40/ab2313/PhD/longrunmip/surf/regrid_retimestamped'"
      ]
     },
     "execution_count": 8,
     "metadata": {},
     "output_type": "execute_result"
    }
   ],
   "source": [
    "OUTPUT_DIR = os.path.join(constants.LONGRUNMIP_DIR, variable, 'regrid_retimestamped')\n",
    "utils.mkdir_no_error(OUTPUT_DIR)\n",
    "if month_group:\n",
    "    OUTPUT_DIR = os.path.join(OUTPUT_DIR, month_group)\n",
    "    utils.mkdir_no_error(OUTPUT_DIR)\n",
    "OUTPUT_DIR"
   ]
  },
  {
   "cell_type": "code",
   "execution_count": 9,
   "id": "d62eab11",
   "metadata": {
    "tags": []
   },
   "outputs": [
    {
     "name": "stdout",
     "output_type": "stream",
     "text": [
      "length = 17\n",
      "\n"
     ]
    }
   ],
   "source": [
    "utils.pprint_list(os.listdir(OUTPUT_DIR), num_start_items=0)"
   ]
  },
  {
   "cell_type": "code",
   "execution_count": 20,
   "id": "ad68ad31",
   "metadata": {
    "tags": []
   },
   "outputs": [
    {
     "name": "stdout",
     "output_type": "stream",
     "text": [
      "length = 17\n",
      "0. surf_ann_CCSM3_abrupt4x_2130_g025.nc\n",
      "1. surf_ann_CCSM3_control_1530_g025.nc\n",
      "2. surf_ann_CESM104_abrupt4x_5900_g025.nc\n",
      "3. surf_ann_CESM104_control_1000_g025.nc\n",
      "4. surf_ann_CNRMCM61_abrupt4x_1850_g025.nc\n",
      "5. surf_ann_CNRMCM61_control_2000_g025.nc\n",
      "6. surf_ann_ECHAM5MPIOM_control_100_g025.nc\n",
      "7. surf_ann_FAMOUS_abrupt4x_3000_g025.nc\n",
      "8. surf_ann_FAMOUS_control_3000_g025.nc\n",
      "9. surf_ann_GFDLCM3_control_5200_g025.nc\n",
      "10. surf_ann_GFDLESM2M_control_1340_g025.nc\n",
      "11. surf_ann_HadCM3L_abrupt4x_1000_g025.nc\n",
      "12. surf_ann_HadCM3L_control_1000_g025.nc\n",
      "13. surf_ann_MPIESM11_abrupt4x_4520_g025.nc\n",
      "14. surf_ann_MPIESM11_control_2000_g025.nc\n",
      "15. surf_ann_MPIESM12_abrupt4x_1000_g025.nc\n",
      "16. surf_ann_MPIESM12_control_1500_g025.nc\n"
     ]
    }
   ],
   "source": [
    "# Only need 4x and control\n",
    "files = np.sort([f for f in files if 'abrupt4x' in f or 'control' in f])\n",
    "utils.pprint_list(files, num_start_items=len(files))"
   ]
  },
  {
   "cell_type": "code",
   "execution_count": 21,
   "id": "4d5e4e39",
   "metadata": {
    "tags": []
   },
   "outputs": [],
   "source": [
    "# Special files that may have failed.\n",
    "# These are checked in http://localhost:8888/notebooks/Documents/PhD/longrumip_00_07_data_opening_check.ipynb\n",
    "# 'tas_mon_CNRMCM61_control_2000_g025.nc', 'tas_mon_IPSLCM5A_abrupt4x_1000_g025.nc' \n",
    "# 'surf_ann_CESM104_abrupt4x_5900_g025.nc', 'surf_ann_CESM104_abrupt4x_5900_g025.nc'\n",
    "# files = ['sic_mon_CESM104_abrupt4x_5900_g02.nc']"
   ]
  },
  {
   "cell_type": "code",
   "execution_count": 22,
   "id": "69628083-76d7-497d-956c-3422587e4fda",
   "metadata": {
    "tags": []
   },
   "outputs": [
    {
     "name": "stdout",
     "output_type": "stream",
     "text": [
      "length = 17\n",
      "0. surf_ann_HadCM3L_control_1000_g025.nc\n",
      "1. surf_ann_CCSM3_control_1530_g025.nc\n",
      "...\n",
      "-1. surf_ann_FAMOUS_abrupt4x_3000_g025.nc\n",
      "-2. surf_ann_CNRMCM61_abrupt4x_1850_g025.nc\n"
     ]
    }
   ],
   "source": [
    "already_completed = os.listdir(OUTPUT_DIR)\n",
    "utils.pprint_list(already_completed, num_end_items=2)"
   ]
  },
  {
   "cell_type": "code",
   "execution_count": 23,
   "id": "4ae06481-930d-4808-96db-84cf89337dc6",
   "metadata": {
    "tags": []
   },
   "outputs": [
    {
     "name": "stdout",
     "output_type": "stream",
     "text": [
      "length = 0\n",
      "\n"
     ]
    }
   ],
   "source": [
    "files_to_complete = [f for f in files if f not in already_completed]\n",
    "files_to_complete = [f for f in files_to_complete if ('abrupt4x' in f or 'control' in f)]\n",
    "utils.pprint_list(files_to_complete, num_start_items=5)"
   ]
  },
  {
   "cell_type": "code",
   "execution_count": 24,
   "id": "0ca60f74-831f-443c-8900-5e17c3343cd0",
   "metadata": {
    "tags": []
   },
   "outputs": [],
   "source": [
    "files_to_complete = ['surf_ann_CESM104_control_1000_g025.nc']"
   ]
  },
  {
   "cell_type": "code",
   "execution_count": 25,
   "id": "780620d7-852a-46a0-af0d-73070f148712",
   "metadata": {
    "tags": []
   },
   "outputs": [],
   "source": [
    "chunks = {'time':-1, 'lat':72/2, 'lon':144/12}"
   ]
  },
  {
   "cell_type": "code",
   "execution_count": 26,
   "id": "00aaa36b",
   "metadata": {
    "tags": []
   },
   "outputs": [
    {
     "name": "stdout",
     "output_type": "stream",
     "text": [
      "1: - surf_ann_CESM104_control_1000_g025.nc\n",
      "| Refactoring dims | | freq=Y| complete (4.100634130649269)\n"
     ]
    }
   ],
   "source": [
    "error_log = {}\n",
    "for i, fname in enumerate(files_to_complete):\n",
    "\n",
    "    t1 = perf_counter()\n",
    "    print(f'{i+1}: - {fname}', end='')\n",
    "    fpath = os.path.join(ROOT_DIR, fname)\n",
    "\n",
    "    try:\n",
    "        ds = xr.open_dataset(fpath, use_cftime=True, chunks=chunks)\n",
    "        ds = remove_other_variables(ds, variable) \n",
    "        ds = refactor_longronmip_netcdf(ds, variable=variable, months=months)\n",
    "    except ValueError as e:\n",
    "        ds = xr.open_dataset(fpath, decode_times=False, chunks=chunks)\n",
    "        ds = remove_other_variables(ds, variable) \n",
    "        ds = refactor_longronmip_netcdf(ds, variable=variable, months=months)\n",
    "    except (ValueError, OSError, KeyError, FileNotFoundError) as e:\n",
    "        print(f'\\nERROR: {e}\\n')\n",
    "        error_log[fname] = e\n",
    "    try:\n",
    "        ds.to_netcdf(os.path.join(OUTPUT_DIR, fname))\n",
    "        t2 = perf_counter()\n",
    "        print(f'| complete ({t2-t1})')\n",
    "    except PermissionError as e:\n",
    "        print(f'\\nERROR: {e}\\n')\n",
    "        error_log[fname] = e        "
   ]
  },
  {
   "cell_type": "code",
   "execution_count": null,
   "id": "9916b906",
   "metadata": {
    "tags": []
   },
   "outputs": [],
   "source": [
    "error_log"
   ]
  },
  {
   "cell_type": "code",
   "execution_count": null,
   "id": "afddbd3e",
   "metadata": {
    "tags": []
   },
   "outputs": [],
   "source": [
    "file_check = os.listdir(OUTPUT_DIR)\n",
    "utils.pprint_list(file_check)"
   ]
  },
  {
   "cell_type": "markdown",
   "id": "30794f43",
   "metadata": {},
   "source": [
    "Failed files <br> \n",
    "<b> Pr </b>\n",
    "* <s> 'pr_mon_CESM104_abrupt4x_5900_g025.nc' </s>\n",
    "\n",
    "<b> tas </b>\n",
    "* 'tas_mon_GISSE2R_control_5225_g025.nc'\n",
    "\n",
    "<b> surf </b>\n",
    "\n",
    "lenght = 1 <br>\n",
    " 0. <s> surf_ann_CESM104_control_1000_g025.nc </s>\n",
    " \n",
    "<b> tos </b>\n",
    "\n",
    "lenght = 1 <br>\n",
    "0. <s> tos_ann_CESM104_control_1000_g025.nc </s>\n",
    "\n",
    "<b> netNOTA </b>\n",
    "\n",
    "\n",
    "\n",
    "\n",
    "<b> sic </b>\n",
    "\n"
   ]
  },
  {
   "cell_type": "code",
   "execution_count": null,
   "id": "5197ac1c",
   "metadata": {},
   "outputs": [],
   "source": []
  }
 ],
 "metadata": {
  "kernelspec": {
   "display_name": "Python 3 (ipykernel)",
   "language": "python",
   "name": "python3"
  },
  "language_info": {
   "codemirror_mode": {
    "name": "ipython",
    "version": 3
   },
   "file_extension": ".py",
   "mimetype": "text/x-python",
   "name": "python",
   "nbconvert_exporter": "python",
   "pygments_lexer": "ipython3",
   "version": "3.9.15"
  }
 },
 "nbformat": 4,
 "nbformat_minor": 5
}
