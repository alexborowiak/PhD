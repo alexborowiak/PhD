{
 "cells": [
  {
   "cell_type": "markdown",
   "id": "28458375",
   "metadata": {
    "tags": [
     "PHD-9"
    ]
   },
   "source": [
    "# Singal To Noise All Models\n",
    " - Calculates the singal to nosie for all models in longrunmip for GMST\n",
    " - Fraction of models stable for windows for GMST\n",
    " \n",
    " PHD-9:\n",
    " * read_and_merge_netcdfs moved from longrunmip_loader to open_ds\n"
   ]
  },
  {
   "cell_type": "code",
   "execution_count": 9,
   "id": "2fe36d2d",
   "metadata": {
    "ExecuteTime": {
     "end_time": "2023-03-15T06:14:20.216861Z",
     "start_time": "2023-03-15T06:14:15.821328Z"
    }
   },
   "outputs": [
    {
     "ename": "IndentationError",
     "evalue": "unindent does not match any outer indentation level (sn_plotting.py, line 195)",
     "output_type": "error",
     "traceback": [
      "Traceback \u001b[0;36m(most recent call last)\u001b[0m:\n",
      "\u001b[0m  File \u001b[1;32m/g/data/hh5/public/apps/miniconda3/envs/analysis3-22.10/lib/python3.9/site-packages/IPython/core/interactiveshell.py:3433\u001b[0m in \u001b[1;35mrun_code\u001b[0m\n    exec(code_obj, self.user_global_ns, self.user_ns)\u001b[0m\n",
      "\u001b[0;36m  Cell \u001b[0;32mIn[9], line 26\u001b[0;36m\n\u001b[0;31m    import sn_plotting as sn_plot\u001b[0;36m\n",
      "\u001b[0;36m  File \u001b[0;32m~/Documents/PhD/modules/sn_plotting.py:195\u001b[0;36m\u001b[0m\n\u001b[0;31m    models = list(temp_da.model.values)\u001b[0m\n\u001b[0m                                       ^\u001b[0m\n\u001b[0;31mIndentationError\u001b[0m\u001b[0;31m:\u001b[0m unindent does not match any outer indentation level\n"
     ]
    }
   ],
   "source": [
    "import warnings\n",
    "\n",
    "import xarray as xr\n",
    "import numpy as np\n",
    "from importlib import reload\n",
    "import string\n",
    "\n",
    "import matplotlib.pyplot as plt\n",
    "import matplotlib as mpl\n",
    "import matplotlib.ticker as mticker\n",
    "\n",
    "import os\n",
    "import sys\n",
    "\n",
    "sys.path.append('../../..')\n",
    "import constants\n",
    "\n",
    "sys.path.append(constants.MODULE_DIR)\n",
    "\n",
    "from classes import ExperimentTypes\n",
    "import utils\n",
    "import xarray_extender as xce\n",
    "import signal_to_noise as sn\n",
    "import open_ds\n",
    "import xarray_class_accessors as xca\n",
    "import sn_plotting as sn_plot\n",
    "\n",
    "warnings.filterwarnings('ignore')\n",
    "\n",
    "logger = utils.get_notebook_logger()"
   ]
  },
  {
   "cell_type": "code",
   "execution_count": null,
   "id": "69e05046",
   "metadata": {
    "ExecuteTime": {
     "end_time": "2023-03-15T06:14:20.225657Z",
     "start_time": "2023-03-15T06:14:20.225578Z"
    }
   },
   "outputs": [],
   "source": [
    "from classes import ExperimentTypes\n"
   ]
  },
  {
   "cell_type": "code",
   "execution_count": null,
   "id": "053d2e82",
   "metadata": {
    "ExecuteTime": {
     "end_time": "2023-02-28T01:55:51.436636Z",
     "start_time": "2023-02-28T01:55:51.436598Z"
    }
   },
   "outputs": [],
   "source": [
    "constants.EXPERIMENTS_TO_RUN"
   ]
  },
  {
   "cell_type": "code",
   "execution_count": null,
   "id": "5611974f",
   "metadata": {
    "ExecuteTime": {
     "end_time": "2023-02-28T01:55:51.438761Z",
     "start_time": "2023-02-28T01:55:51.438730Z"
    }
   },
   "outputs": [],
   "source": [
    "notebook_number='03_00'\n",
    "experiment_params = constants.EXPERIMENTS_TO_RUN[0] # 0, 1, 2 3, 4, 5, 6, 7\n",
    "experiment_params"
   ]
  },
  {
   "cell_type": "code",
   "execution_count": null,
   "id": "6890ca3c",
   "metadata": {
    "ExecuteTime": {
     "end_time": "2023-02-28T01:55:51.441451Z",
     "start_time": "2023-02-28T01:55:51.441407Z"
    }
   },
   "outputs": [],
   "source": [
    "ROOT_DIR = os.path.join(constants.LONGRUNMIP_DIR, experiment_params[\"variable\"], 'regrid_retimestamped')\n",
    "ROOT_DIR"
   ]
  },
  {
   "cell_type": "code",
   "execution_count": null,
   "id": "904a107f",
   "metadata": {
    "ExecuteTime": {
     "end_time": "2023-02-28T01:55:51.444323Z",
     "start_time": "2023-02-28T01:55:51.444292Z"
    }
   },
   "outputs": [],
   "source": [
    "units = constants.VARIABLE_INFO[experiment_params[\"variable\"]][\"units\"]\n",
    "longname = constants.VARIABLE_INFO[experiment_params[\"variable\"]]['longname']\n",
    "print(f'{longname=}', f'{units=}', sep=' , ')"
   ]
  },
  {
   "cell_type": "markdown",
   "id": "69c0733f",
   "metadata": {},
   "source": [
    "# Loading Data"
   ]
  },
  {
   "cell_type": "code",
   "execution_count": null,
   "id": "5a1839fb",
   "metadata": {
    "ExecuteTime": {
     "end_time": "2023-02-28T01:55:51.446787Z",
     "start_time": "2023-02-28T01:55:51.446756Z"
    }
   },
   "outputs": [],
   "source": [
    "models_to_get = open_ds.get_models_longer_than_length()\n",
    "utils.pprint_list(models_to_get, num_start_items=7)"
   ]
  },
  {
   "cell_type": "code",
   "execution_count": null,
   "id": "197c3148",
   "metadata": {
    "ExecuteTime": {
     "end_time": "2023-02-28T01:55:51.451314Z",
     "start_time": "2023-02-28T01:55:51.451283Z"
    }
   },
   "outputs": [],
   "source": [
    "files_to_open_experiment = open_ds.get_file_names_from_from_directory(\n",
    "    ROOT_DIR, ExperimentTypes.ABRUPT4X, models_to_get)\n",
    "\n",
    "files_to_open_control = open_ds.get_file_names_from_from_directory(\n",
    "    ROOT_DIR, ExperimentTypes.CONTROL, models_to_get)\n",
    "\n",
    "utils.pprint_list(files_to_open_experiment, num_start_items=5)"
   ]
  },
  {
   "cell_type": "code",
   "execution_count": 7,
   "id": "d3b02de0",
   "metadata": {
    "ExecuteTime": {
     "end_time": "2023-02-28T01:55:51.495035Z",
     "start_time": "2023-02-28T01:55:51.464783Z"
    }
   },
   "outputs": [
    {
     "ename": "NameError",
     "evalue": "name 'open_ds' is not defined",
     "output_type": "error",
     "traceback": [
      "\u001b[0;31m---------------------------------------------------------------------------\u001b[0m",
      "\u001b[0;31mNameError\u001b[0m                                 Traceback (most recent call last)",
      "Cell \u001b[0;32mIn[7], line 1\u001b[0m\n\u001b[0;32m----> 1\u001b[0m control_ds \u001b[38;5;241m=\u001b[39m \u001b[43mopen_ds\u001b[49m\u001b[38;5;241m.\u001b[39mread_and_merge_netcdfs(files_to_open_control, ROOT_DIR, \n\u001b[1;32m      2\u001b[0m                                             mask\u001b[38;5;241m=\u001b[39mexperiment_params[\u001b[38;5;124m'\u001b[39m\u001b[38;5;124mmask\u001b[39m\u001b[38;5;124m'\u001b[39m])\n\u001b[1;32m      3\u001b[0m abrupt4x_ds \u001b[38;5;241m=\u001b[39m open_ds\u001b[38;5;241m.\u001b[39mread_and_merge_netcdfs(files_to_open_experiment, ROOT_DIR,\n\u001b[1;32m      4\u001b[0m                                              mask\u001b[38;5;241m=\u001b[39mexperiment_params[\u001b[38;5;124m'\u001b[39m\u001b[38;5;124mmask\u001b[39m\u001b[38;5;124m'\u001b[39m])\n\u001b[1;32m      5\u001b[0m abrupt4x_ds\n",
      "\u001b[0;31mNameError\u001b[0m: name 'open_ds' is not defined"
     ]
    }
   ],
   "source": [
    "control_ds = open_ds.read_and_merge_netcdfs(files_to_open_control, ROOT_DIR, \n",
    "                                            mask=experiment_params['mask'])\n",
    "abrupt4x_ds = open_ds.read_and_merge_netcdfs(files_to_open_experiment, ROOT_DIR,\n",
    "                                             mask=experiment_params['mask'])\n",
    "abrupt4x_ds"
   ]
  },
  {
   "cell_type": "code",
   "execution_count": null,
   "id": "7973bb26",
   "metadata": {
    "ExecuteTime": {
     "end_time": "2023-02-28T01:55:51.500242Z",
     "start_time": "2023-02-28T01:55:51.500211Z"
    }
   },
   "outputs": [],
   "source": [
    "models = list(abrupt4x_ds.data_vars)\n",
    "num_cols = 3\n",
    "num_rows = int(np.ceil(len(models)/num_cols))\n",
    "\n",
    "fig = plt.figure(figsize=(16,10))\n",
    "\n",
    "for i,model in enumerate(models):\n",
    "    ax = fig.add_subplot(num_rows, num_cols, i+1)\n",
    "    \n",
    "    abrupt4x_ds[model].isel(time=0).plot(ax=ax)\n",
    "    ax.set_title(model)\n",
    "    \n",
    "    ax.set_title(model)"
   ]
  },
  {
   "cell_type": "code",
   "execution_count": null,
   "id": "c899c713",
   "metadata": {
    "ExecuteTime": {
     "end_time": "2023-02-28T01:55:51.503709Z",
     "start_time": "2023-02-28T01:55:51.503678Z"
    }
   },
   "outputs": [],
   "source": [
    "abrupt4x_mean,control_ds_mean = sn.calculate_global_value(abrupt4x_ds, control_ds, \n",
    "                                                          experiment_params[\"variable\"],\n",
    "                                                constants.HEMISPHERE_LAT[experiment_params['hemisphere']])"
   ]
  },
  {
   "cell_type": "code",
   "execution_count": null,
   "id": "b2a17513",
   "metadata": {
    "ExecuteTime": {
     "end_time": "2023-02-28T01:55:51.506873Z",
     "start_time": "2023-02-28T01:55:51.506842Z"
    }
   },
   "outputs": [],
   "source": [
    "constants.MULTI_WINDOW_RUN_PARAMS"
   ]
  },
  {
   "cell_type": "code",
   "execution_count": null,
   "id": "39efae0c",
   "metadata": {
    "ExecuteTime": {
     "end_time": "2023-02-28T01:55:51.511767Z",
     "start_time": "2023-02-28T01:55:51.511735Z"
    }
   },
   "outputs": [],
   "source": [
    "max_effective_length =  constants.LONGRUNMIP_LENGTH#sn.get_upper_lim(abrupt4x_mean, constants.MULTI_WINDOW_RUN_PARAMS['end_window'])\n",
    "max_effective_length"
   ]
  },
  {
   "cell_type": "code",
   "execution_count": null,
   "id": "fa0fea0b",
   "metadata": {
    "ExecuteTime": {
     "end_time": "2023-02-28T01:55:51.514347Z",
     "start_time": "2023-02-28T01:55:51.514316Z"
    },
    "scrolled": false
   },
   "outputs": [],
   "source": [
    "%%time\n",
    "stable_sn_ds, unstable_sn_ds = abrupt4x_mean.sn_ds.sn_multiwindow(\n",
    "    control_ds_mean, parallel=True, **constants.MULTI_WINDOW_RUN_PARAMS)"
   ]
  },
  {
   "cell_type": "code",
   "execution_count": null,
   "id": "dd4c8fb4",
   "metadata": {
    "ExecuteTime": {
     "end_time": "2023-02-28T01:55:51.518206Z",
     "start_time": "2023-02-28T01:55:51.518175Z"
    }
   },
   "outputs": [],
   "source": [
    "number_models_present = sn.count_over_data_vars(abrupt4x_mean, list(unstable_sn_ds.data_vars), dim='model')\n",
    "\n",
    "unstable_number_da = sn.number_finite(unstable_sn_ds)\n",
    "stable_number_da = sn.number_finite(stable_sn_ds)\n",
    "\n",
    "unstable_number_da"
   ]
  },
  {
   "cell_type": "code",
   "execution_count": 8,
   "id": "7e626dab",
   "metadata": {
    "ExecuteTime": {
     "end_time": "2023-02-28T01:55:51.840145Z",
     "start_time": "2023-02-28T01:55:51.521852Z"
    }
   },
   "outputs": [
    {
     "ename": "NameError",
     "evalue": "name 'sn' is not defined",
     "output_type": "error",
     "traceback": [
      "\u001b[0;31m---------------------------------------------------------------------------\u001b[0m",
      "\u001b[0;31mNameError\u001b[0m                                 Traceback (most recent call last)",
      "File \u001b[0;32m<timed exec>:1\u001b[0m\n",
      "\u001b[0;31mNameError\u001b[0m: name 'sn' is not defined"
     ]
    }
   ],
   "source": [
    "%%time\n",
    "stable_point_ds = sn.get_dataset_stable_year_multi_window(unstable_sn_ds).rename({'variable': 'model'})\n",
    "stable_point_ds"
   ]
  },
  {
   "cell_type": "code",
   "execution_count": 9,
   "id": "aa5f817a",
   "metadata": {
    "ExecuteTime": {
     "end_time": "2023-02-28T01:55:51.852028Z",
     "start_time": "2023-02-28T01:55:51.845185Z"
    }
   },
   "outputs": [],
   "source": [
    "# stable_point_ds = xr.where(stable_point_ds.time > max_effective_length, stable_point_ds, stable_point_ds.time)"
   ]
  },
  {
   "cell_type": "markdown",
   "id": "33625ca0",
   "metadata": {},
   "source": [
    "# Plots"
   ]
  },
  {
   "cell_type": "markdown",
   "id": "9122ba14",
   "metadata": {},
   "source": [
    "### Mean Temp Plots"
   ]
  },
  {
   "cell_type": "code",
   "execution_count": 10,
   "id": "43bcbc82",
   "metadata": {
    "ExecuteTime": {
     "end_time": "2023-02-28T01:55:51.898388Z",
     "start_time": "2023-02-28T01:55:51.858358Z"
    }
   },
   "outputs": [
    {
     "ename": "NameError",
     "evalue": "name 'string' is not defined",
     "output_type": "error",
     "traceback": [
      "\u001b[0;31m---------------------------------------------------------------------------\u001b[0m",
      "\u001b[0;31mNameError\u001b[0m                                 Traceback (most recent call last)",
      "Cell \u001b[0;32mIn[10], line 1\u001b[0m\n\u001b[0;32m----> 1\u001b[0m hemisphere_title \u001b[38;5;241m=\u001b[39m \u001b[43mstring\u001b[49m\u001b[38;5;241m.\u001b[39mcapwords(experiment_params[\u001b[38;5;124m'\u001b[39m\u001b[38;5;124mhemisphere\u001b[39m\u001b[38;5;124m'\u001b[39m]\u001b[38;5;241m.\u001b[39mreplace(\u001b[38;5;124m'\u001b[39m\u001b[38;5;124m_\u001b[39m\u001b[38;5;124m'\u001b[39m, \u001b[38;5;124m'\u001b[39m\u001b[38;5;124m \u001b[39m\u001b[38;5;124m'\u001b[39m))\n\u001b[1;32m      2\u001b[0m hemisphere_title\n",
      "\u001b[0;31mNameError\u001b[0m: name 'string' is not defined"
     ]
    }
   ],
   "source": [
    "hemisphere_title = string.capwords(experiment_params['hemisphere'].replace('_', ' '))\n",
    "hemisphere_title"
   ]
  },
  {
   "cell_type": "code",
   "execution_count": null,
   "id": "9ad8acf4",
   "metadata": {
    "ExecuteTime": {
     "end_time": "2023-02-28T01:55:51.907402Z",
     "start_time": "2023-02-28T01:55:51.907370Z"
    }
   },
   "outputs": [],
   "source": [
    "mask_title = f'({experiment_params[\"mask\"]} only)' if experiment_params[\"mask\"] else ''\n",
    "mask_title"
   ]
  },
  {
   "cell_type": "code",
   "execution_count": null,
   "id": "3145fd00",
   "metadata": {
    "ExecuteTime": {
     "end_time": "2023-02-28T01:55:51.909791Z",
     "start_time": "2023-02-28T01:55:51.909760Z"
    }
   },
   "outputs": [],
   "source": [
    "run_tag = f'{notebook_number}_{experiment_params[\"variable\"]}' +\\\n",
    "        f'_{experiment_params[\"hemisphere\"]}_mask_{experiment_params[\"mask\"]}'\n",
    "run_tag"
   ]
  },
  {
   "cell_type": "code",
   "execution_count": null,
   "id": "1e6ef1fc",
   "metadata": {
    "ExecuteTime": {
     "end_time": "2023-02-28T01:55:51.912929Z",
     "start_time": "2023-02-28T01:55:51.912898Z"
    }
   },
   "outputs": [],
   "source": [
    "plt.style.use('seaborn-darkgrid')\n",
    "fig, ax = plt.subplots(figsize=(15,8))\n",
    "\n",
    "time = control_ds_mean['time'].values\n",
    "years = [t.year for t in time]\n",
    "for var in list(control_ds_mean.data_vars):\n",
    "\n",
    "    plot_kwargs = dict(alpha = 0.6,linewidth = 2)\n",
    "        \n",
    "    ax.plot(years, control_ds_mean[var].values, label=var, **plot_kwargs) #  - 273.15\n",
    "    \n",
    "ax.set_ylabel(f'{hemisphere_title} Mean\\n{longname} ({units})', size=18, labelpad=20)\n",
    "ax.set_xlabel('Time (Years)', size=18)\n",
    "ax.set_xlim(years[0], years[500])\n",
    "ax.tick_params(axis='x', labelsize=14)\n",
    "leg = ax.legend(ncol = 5, fontsize=16)\n",
    "[line.set_linewidth(3) for line in leg.get_lines()];\n",
    "ax.set_title(f'Pre-Industrial Control {hemisphere_title} Mean {longname} {mask_title}', fontsize=25);\n",
    "\n",
    "fig.savefig(os.path.join(constants.IMAGE_SAVE_DIR_TOP_LEVEL, f'{run_tag}__mean_control.png'))"
   ]
  },
  {
   "cell_type": "code",
   "execution_count": null,
   "id": "df700785",
   "metadata": {
    "ExecuteTime": {
     "end_time": "2023-02-28T01:55:51.915338Z",
     "start_time": "2023-02-28T01:55:51.915303Z"
    }
   },
   "outputs": [],
   "source": [
    "plt.style.use('seaborn-darkgrid')\n",
    "\n",
    "data = abrupt4x_mean.where(abrupt4x_mean.time.dt.year < 13500, drop = True)\n",
    "\n",
    "fig, ax = plt.subplots(figsize=(15,8))\n",
    "\n",
    "for var in list(data.data_vars):\n",
    "    \n",
    "    # Removing nans from data\n",
    "    da = data[var].dropna(dim='time')\n",
    "    time = da.time.values\n",
    "    years = [t.year for t in time]\n",
    "\n",
    "    values = da.values\n",
    "    \n",
    "    line_kwargs = dict(alpha = 0.6,linewidth = 2)\n",
    "    \n",
    "    ax.plot(years, values, label=var, **line_kwargs)\n",
    "    c = plt.gca().lines[-1].get_color()\n",
    "#     ax.annotate(var, xy = (time[-1], values[-1]), color=c, zorder=1000, size=12)\n",
    "\n",
    "ax.set_ylabel(f'{hemisphere_title} Mean {longname} Anomaly ({units})', size=16)\n",
    "ax.set_xlabel('Time (years)', size=16);\n",
    "ax.set_title(f'{hemisphere_title} Abrupt 4xCO2 Mean {experiment_params[\"variable\"]} {mask_title}', fontsize=15);\n",
    "\n",
    "# ax.set_ylim([0,15]);|\n",
    "ax.set_xlim(years[0], years[max_effective_length])\n",
    "ax.tick_params(axis='y', labelsize=14)\n",
    "ax.tick_params(axis='x', labelsize=14)\n",
    "leg = ax.legend(ncol=4, fontsize = 16);\n",
    "[line.set_linewidth(3) for line in leg.get_lines()];\n",
    "fig.savefig(os.path.join(constants.IMAGE_SAVE_DIR_TOP_LEVEL, f'{run_tag}_mean_abrupt4x.png'))"
   ]
  },
  {
   "cell_type": "markdown",
   "id": "1c20cc1c",
   "metadata": {},
   "source": [
    "### Signal to Noise"
   ]
  },
  {
   "cell_type": "code",
   "execution_count": null,
   "id": "e93beb74",
   "metadata": {
    "ExecuteTime": {
     "end_time": "2023-02-28T01:55:51.917831Z",
     "start_time": "2023-02-28T01:55:51.917800Z"
    }
   },
   "outputs": [],
   "source": [
    "models = [model for model in list(constants.MODEL_PARAMS) if model in stable_point_ds.model.values]\n",
    "models"
   ]
  },
  {
   "cell_type": "code",
   "execution_count": null,
   "id": "1380809e",
   "metadata": {
    "ExecuteTime": {
     "end_time": "2023-02-28T01:55:51.923270Z",
     "start_time": "2023-02-28T01:55:51.923237Z"
    }
   },
   "outputs": [],
   "source": [
    "plt.style.use('seaborn-darkgrid')\n",
    "fig = plt.figure(figsize=(10, 8))\n",
    "\n",
    "ax = fig.add_subplot(111)\n",
    "\n",
    "for model in models:\n",
    "    color = constants.MODEL_PARAMS[model]['color']\n",
    "    ECS = constants.MODEL_PARAMS[model]['ECS']\n",
    "    label = f'{model} ({ECS}K)' \n",
    "    da = stable_point_ds.sel(model=model).time.plot(ax=ax,y='window', label=label, color=color, linewidth=1.5,\n",
    "                                                   alpha=0.8)\n",
    "    \n",
    "stable_point_ds.median(dim='model').time.plot(ax=ax,y='window', label='median', color='k', linewidth=1.5) \n",
    "\n",
    "ax.set_xlim(0, max_effective_length + 1)\n",
    "ax.set_ylim(20, constants.MULTI_WINDOW_RUN_PARAMS['end_window'])\n",
    "leg = ax.legend(ncol=1, bbox_to_anchor=[1, 0.857], frameon=True, facecolor='white', fontsize=14)\n",
    "leg.set_title('Model')\n",
    "leg.get_title().set_fontsize('10')\n",
    "title = f'Year of Stabilistaion for {longname} {mask_title}' #{hemisphere_title} \n",
    "ax.set_title(title, fontsize=25)\n",
    "ax.set_xlabel('Year of Stabilisation', fontsize=18)\n",
    "ax.set_ylabel('Window Length (years)', fontsize=18)\n",
    "ax.tick_params(axis='y', labelsize=14)\n",
    "ax.tick_params(axis='x', labelsize=14)\n",
    "\n",
    "\n",
    "save_name = os.path.join(\n",
    "    constants.IMAGE_SAVE_DIR_TOP_LEVEL, f'{run_tag}_all_models_stable_year.png')\n",
    "\n",
    "fig.savefig(save_name, bbox_inches='tight', dpi=200)"
   ]
  },
  {
   "cell_type": "code",
   "execution_count": null,
   "id": "b05e2833",
   "metadata": {
    "ExecuteTime": {
     "end_time": "2023-02-28T01:55:51.926980Z",
     "start_time": "2023-02-28T01:55:51.926948Z"
    }
   },
   "outputs": [],
   "source": [
    "models"
   ]
  },
  {
   "cell_type": "code",
   "execution_count": null,
   "id": "6b4c8ec8",
   "metadata": {
    "ExecuteTime": {
     "end_time": "2023-02-28T01:55:51.930246Z",
     "start_time": "2023-02-28T01:55:51.930214Z"
    }
   },
   "outputs": [],
   "source": [
    "reload(sn_plot)\n"
   ]
  },
  {
   "cell_type": "code",
   "execution_count": null,
   "id": "416835a6",
   "metadata": {
    "ExecuteTime": {
     "end_time": "2023-02-28T01:55:51.932475Z",
     "start_time": "2023-02-28T01:55:51.932443Z"
    }
   },
   "outputs": [],
   "source": [
    "reload(sn_plot)\n",
    "mpl.rcParams.update(mpl.rcParamsDefault)\n",
    "\n",
    "for model in list(models):\n",
    "    print(model)\n",
    "    ECS = constants.MODEL_PARAMS[model.lower()]['ECS']\n",
    "    title = f'{hemisphere_title} {longname.capitalize()} Signal-to-Noise for {model} {mask_title}(ECS={ECS}K)'\n",
    "    (fig, ax1, ax2, ax3, cbar) = sn_plot.sn_multi_window_in_time(unstable_sn_ds[model], \n",
    "                            stable_sn_ds[model], abrupt4x_mean[model].dropna(dim='time'),\n",
    "                            stable_point_ds = stable_point_ds.sel(model=model),\n",
    "                            title=title, step=1, xupperlim=max_effective_length, cbar_label='Signal-to-Noise',\n",
    "                            ax2_ylabel = f'{hemisphere_title} Mean\\n{longname} Anomaly ({units})',\n",
    "                                                                logginglevel='ERROR');\n",
    "\n",
    "#     stable_point_ds.sel(model=model).time.plot(y='window',  ax=ax1, color='k')\n",
    "#     ax1.set_title('')\n",
    "#     ax1.set_ylabel('Window Length (Years)', fontsize=15)\n",
    "#     ax1.set_xlabel('Time (Years)', fontsize=16)\n",
    "#     ax2.set_xlabel('Time (Years)', fontsize=16)\n",
    "    \n",
    "    save_name = os.path.join(\n",
    "        constants.IMAGE_SAVE_DIR_TOP_LEVEL, \n",
    "        f'{run_tag}_{model}_signal_to_noise_multiwindow.png')\n",
    "    \n",
    "    print(f'Saving {save_name}')\n",
    "    fig.savefig(save_name, dpi=400, bbox_inches='tight')"
   ]
  },
  {
   "cell_type": "code",
   "execution_count": null,
   "id": "746eca8f",
   "metadata": {
    "ExecuteTime": {
     "end_time": "2023-02-28T01:55:51.934286Z",
     "start_time": "2023-02-28T01:55:51.934256Z"
    }
   },
   "outputs": [],
   "source": [
    "experiment_params[\"variable\"] in ['sic', 'surf']"
   ]
  },
  {
   "cell_type": "code",
   "execution_count": null,
   "id": "ee9df119",
   "metadata": {
    "ExecuteTime": {
     "end_time": "2023-02-28T01:55:51.937521Z",
     "start_time": "2023-02-28T01:55:51.937466Z"
    }
   },
   "outputs": [],
   "source": [
    "cmap = \"Blues\" if experiment_params[\"variable\"] in ['sic', 'surf'] else 'Reds'\n",
    "cmap"
   ]
  },
  {
   "cell_type": "code",
   "execution_count": null,
   "id": "23e4a3ca",
   "metadata": {
    "ExecuteTime": {
     "end_time": "2023-02-28T01:55:51.945043Z",
     "start_time": "2023-02-28T01:55:51.944999Z"
    }
   },
   "outputs": [],
   "source": [
    "reload(sn_plot)\n",
    "mpl.rcParams.update(mpl.rcParamsDefault)\n",
    "fig, ax1, ax2, ax3,cbar = sn_plot.sn_multi_window_in_time(\n",
    "    unstable_number_da, stable_number_da, abrupt4x_mean, \n",
    "    logginglevel='ERROR', \n",
    "    hieght = 15, width = 12,\n",
    "    vmin=0, vmax=len(models)+1, step=1, cbartick_offset = 0.5,\n",
    "    cmap=cmap,\n",
    "    extend='neither', xupperlim = max_effective_length,\n",
    "    cbar_label= 'Number of Unstable Models', \n",
    "    ax2_ylabel = f'Global Mean {longname} Anomaly ({units})',\n",
    "    title = f'{hemisphere_title} Fraction of Models Stable for {longname} {mask_title}',\n",
    "    cbar_ncols = 3, filter_max=True)\n",
    "\n",
    "# ax1.set_ylabel('Window Length (Years)', fontsize=18)\n",
    "\n",
    "save_name = os.path.join(\n",
    "        constants.IMAGE_SAVE_DIR_TOP_LEVEL, \n",
    "        f'{run_tag}_all_models_signal_to_noise_multiwindow.png')\n",
    "print(save_name)\n",
    "fig.savefig(save_name , dpi=200, bbox_inches='tight')"
   ]
  },
  {
   "cell_type": "code",
   "execution_count": null,
   "id": "74990ab3",
   "metadata": {},
   "outputs": [],
   "source": []
  }
 ],
 "metadata": {
  "celltoolbar": "Tags",
  "kernelspec": {
   "display_name": "Python 3 (ipykernel)",
   "language": "python",
   "name": "python3"
  },
  "language_info": {
   "codemirror_mode": {
    "name": "ipython",
    "version": 3
   },
   "file_extension": ".py",
   "mimetype": "text/x-python",
   "name": "python",
   "nbconvert_exporter": "python",
   "pygments_lexer": "ipython3",
   "version": "3.9.15"
  },
  "toc": {
   "base_numbering": 1,
   "nav_menu": {},
   "number_sections": true,
   "sideBar": true,
   "skip_h1_title": false,
   "title_cell": "Table of Contents",
   "title_sidebar": "Contents",
   "toc_cell": false,
   "toc_position": {},
   "toc_section_display": true,
   "toc_window_display": false
  },
  "varInspector": {
   "cols": {
    "lenName": 16,
    "lenType": 16,
    "lenVar": 40
   },
   "kernels_config": {
    "python": {
     "delete_cmd_postfix": "",
     "delete_cmd_prefix": "del ",
     "library": "var_list.py",
     "varRefreshCmd": "print(var_dic_list())"
    },
    "r": {
     "delete_cmd_postfix": ") ",
     "delete_cmd_prefix": "rm(",
     "library": "var_list.r",
     "varRefreshCmd": "cat(var_dic_list()) "
    }
   },
   "types_to_exclude": [
    "module",
    "function",
    "builtin_function_or_method",
    "instance",
    "_Feature"
   ],
   "window_display": false
  }
 },
 "nbformat": 4,
 "nbformat_minor": 5
}
