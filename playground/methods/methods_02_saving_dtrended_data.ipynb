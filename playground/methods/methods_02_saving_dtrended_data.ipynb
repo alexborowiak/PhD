{
 "cells": [
  {
   "cell_type": "markdown",
   "id": "3012ac88",
   "metadata": {},
   "source": [
    "# Methods of De-treding\n",
    "This notebook outllines different methods that can be used to de-trend the LongRunMIP and ZECMIP time series."
   ]
  },
  {
   "cell_type": "code",
   "execution_count": 3,
   "id": "138fa016",
   "metadata": {
    "ExecuteTime": {
     "end_time": "2023-02-22T01:18:06.369397Z",
     "start_time": "2023-02-22T01:18:06.359510Z"
    }
   },
   "outputs": [],
   "source": [
    "import nc_time_axis\n",
    "import warnings\n",
    "\n",
    "import xarray as xr\n",
    "import numpy as np\n",
    "import pandas as pd\n",
    "from importlib import reload\n",
    "import string\n",
    "\n",
    "\n",
    "import matplotlib.pyplot as plt\n",
    "import matplotlib as mpl\n",
    "import matplotlib.ticker as mticker\n",
    "import matplotlib.gridspec as gridspec \n",
    "from matplotlib.axes import Axes\n",
    "from matplotlib.colors import ListedColormap\n",
    "import matplotlib.cm as cm\n",
    "\n",
    "import os\n",
    "import sys\n",
    "\n",
    "from numpy.typing import ArrayLike\n",
    "from typing import Optional, Callable, List, Tuple, Dict\n",
    "\n",
    "warnings.filterwarnings('ignore')"
   ]
  },
  {
   "cell_type": "code",
   "execution_count": 30,
   "id": "b5528ad2",
   "metadata": {
    "ExecuteTime": {
     "end_time": "2023-02-22T04:43:28.599200Z",
     "start_time": "2023-02-22T04:43:28.589028Z"
    }
   },
   "outputs": [],
   "source": [
    "import constants\n",
    "sys.path.append(constants.MODULE_DIR)\n",
    "import sn_plotting as sn_plot\n",
    "import xarray_class_accessors as xca\n",
    "import utils\n",
    "import stats\n",
    "import xarray_extender as xce\n",
    "import signal_to_noise as sn\n",
    "import open_ds\n",
    "from classes import ExperimentTypes, LocationsLatLon\n",
    "import time\n",
    "\n",
    "logger = utils.get_notebook_logger()"
   ]
  },
  {
   "cell_type": "code",
   "execution_count": 6,
   "id": "a8360f29",
   "metadata": {
    "ExecuteTime": {
     "end_time": "2023-02-22T01:19:01.550874Z",
     "start_time": "2023-02-22T01:19:01.545987Z"
    }
   },
   "outputs": [],
   "source": [
    "notebook_number='02'"
   ]
  },
  {
   "cell_type": "code",
   "execution_count": 7,
   "id": "fd35041a",
   "metadata": {
    "ExecuteTime": {
     "end_time": "2023-02-22T01:19:13.991429Z",
     "start_time": "2023-02-22T01:19:01.857803Z"
    }
   },
   "outputs": [
    {
     "data": {
      "text/html": [
       "<div>\n",
       "    <div style=\"width: 24px; height: 24px; background-color: #e1e1e1; border: 3px solid #9D9D9D; border-radius: 5px; position: absolute;\"> </div>\n",
       "    <div style=\"margin-left: 48px;\">\n",
       "        <h3 style=\"margin-bottom: 0px;\">Client</h3>\n",
       "        <p style=\"color: #9D9D9D; margin-bottom: 0px;\">Client-e5053dfe-b24e-11ed-96db-fa163e1f63d0</p>\n",
       "        <table style=\"width: 100%; text-align: left;\">\n",
       "\n",
       "        <tr>\n",
       "        \n",
       "            <td style=\"text-align: left;\"><strong>Connection method:</strong> Cluster object</td>\n",
       "            <td style=\"text-align: left;\"><strong>Cluster type:</strong> distributed.LocalCluster</td>\n",
       "        \n",
       "        </tr>\n",
       "\n",
       "        \n",
       "            <tr>\n",
       "                <td style=\"text-align: left;\">\n",
       "                    <strong>Dashboard: </strong> <a href=\"http://127.0.0.1:43979/status\" target=\"_blank\">http://127.0.0.1:43979/status</a>\n",
       "                </td>\n",
       "                <td style=\"text-align: left;\"></td>\n",
       "            </tr>\n",
       "        \n",
       "\n",
       "        </table>\n",
       "\n",
       "        \n",
       "\n",
       "        \n",
       "            <details>\n",
       "            <summary style=\"margin-bottom: 20px;\"><h3 style=\"display: inline;\">Cluster Info</h3></summary>\n",
       "            <div class=\"jp-RenderedHTMLCommon jp-RenderedHTML jp-mod-trusted jp-OutputArea-output\">\n",
       "    <div style=\"width: 24px; height: 24px; background-color: #e1e1e1; border: 3px solid #9D9D9D; border-radius: 5px; position: absolute;\">\n",
       "    </div>\n",
       "    <div style=\"margin-left: 48px;\">\n",
       "        <h3 style=\"margin-bottom: 0px; margin-top: 0px;\">LocalCluster</h3>\n",
       "        <p style=\"color: #9D9D9D; margin-bottom: 0px;\">55cff45a</p>\n",
       "        <table style=\"width: 100%; text-align: left;\">\n",
       "            <tr>\n",
       "                <td style=\"text-align: left;\">\n",
       "                    <strong>Dashboard:</strong> <a href=\"http://127.0.0.1:43979/status\" target=\"_blank\">http://127.0.0.1:43979/status</a>\n",
       "                </td>\n",
       "                <td style=\"text-align: left;\">\n",
       "                    <strong>Workers:</strong> 4\n",
       "                </td>\n",
       "            </tr>\n",
       "            <tr>\n",
       "                <td style=\"text-align: left;\">\n",
       "                    <strong>Total threads:</strong> 16\n",
       "                </td>\n",
       "                <td style=\"text-align: left;\">\n",
       "                    <strong>Total memory:</strong> 59.60 GiB\n",
       "                </td>\n",
       "            </tr>\n",
       "            \n",
       "            <tr>\n",
       "    <td style=\"text-align: left;\"><strong>Status:</strong> running</td>\n",
       "    <td style=\"text-align: left;\"><strong>Using processes:</strong> True</td>\n",
       "</tr>\n",
       "\n",
       "            \n",
       "        </table>\n",
       "\n",
       "        <details>\n",
       "            <summary style=\"margin-bottom: 20px;\">\n",
       "                <h3 style=\"display: inline;\">Scheduler Info</h3>\n",
       "            </summary>\n",
       "\n",
       "            <div style=\"\">\n",
       "    <div>\n",
       "        <div style=\"width: 24px; height: 24px; background-color: #FFF7E5; border: 3px solid #FF6132; border-radius: 5px; position: absolute;\"> </div>\n",
       "        <div style=\"margin-left: 48px;\">\n",
       "            <h3 style=\"margin-bottom: 0px;\">Scheduler</h3>\n",
       "            <p style=\"color: #9D9D9D; margin-bottom: 0px;\">Scheduler-df32e881-9d9d-4992-a4e6-9c37f9059940</p>\n",
       "            <table style=\"width: 100%; text-align: left;\">\n",
       "                <tr>\n",
       "                    <td style=\"text-align: left;\">\n",
       "                        <strong>Comm:</strong> tcp://127.0.0.1:40379\n",
       "                    </td>\n",
       "                    <td style=\"text-align: left;\">\n",
       "                        <strong>Workers:</strong> 4\n",
       "                    </td>\n",
       "                </tr>\n",
       "                <tr>\n",
       "                    <td style=\"text-align: left;\">\n",
       "                        <strong>Dashboard:</strong> <a href=\"http://127.0.0.1:43979/status\" target=\"_blank\">http://127.0.0.1:43979/status</a>\n",
       "                    </td>\n",
       "                    <td style=\"text-align: left;\">\n",
       "                        <strong>Total threads:</strong> 16\n",
       "                    </td>\n",
       "                </tr>\n",
       "                <tr>\n",
       "                    <td style=\"text-align: left;\">\n",
       "                        <strong>Started:</strong> Just now\n",
       "                    </td>\n",
       "                    <td style=\"text-align: left;\">\n",
       "                        <strong>Total memory:</strong> 59.60 GiB\n",
       "                    </td>\n",
       "                </tr>\n",
       "            </table>\n",
       "        </div>\n",
       "    </div>\n",
       "\n",
       "    <details style=\"margin-left: 48px;\">\n",
       "        <summary style=\"margin-bottom: 20px;\">\n",
       "            <h3 style=\"display: inline;\">Workers</h3>\n",
       "        </summary>\n",
       "\n",
       "        \n",
       "        <div style=\"margin-bottom: 20px;\">\n",
       "            <div style=\"width: 24px; height: 24px; background-color: #DBF5FF; border: 3px solid #4CC9FF; border-radius: 5px; position: absolute;\"> </div>\n",
       "            <div style=\"margin-left: 48px;\">\n",
       "            <details>\n",
       "                <summary>\n",
       "                    <h4 style=\"margin-bottom: 0px; display: inline;\">Worker: 0</h4>\n",
       "                </summary>\n",
       "                <table style=\"width: 100%; text-align: left;\">\n",
       "                    <tr>\n",
       "                        <td style=\"text-align: left;\">\n",
       "                            <strong>Comm: </strong> tcp://127.0.0.1:42819\n",
       "                        </td>\n",
       "                        <td style=\"text-align: left;\">\n",
       "                            <strong>Total threads: </strong> 4\n",
       "                        </td>\n",
       "                    </tr>\n",
       "                    <tr>\n",
       "                        <td style=\"text-align: left;\">\n",
       "                            <strong>Dashboard: </strong> <a href=\"http://127.0.0.1:44073/status\" target=\"_blank\">http://127.0.0.1:44073/status</a>\n",
       "                        </td>\n",
       "                        <td style=\"text-align: left;\">\n",
       "                            <strong>Memory: </strong> 14.90 GiB\n",
       "                        </td>\n",
       "                    </tr>\n",
       "                    <tr>\n",
       "                        <td style=\"text-align: left;\">\n",
       "                            <strong>Nanny: </strong> tcp://127.0.0.1:39503\n",
       "                        </td>\n",
       "                        <td style=\"text-align: left;\"></td>\n",
       "                    </tr>\n",
       "                    <tr>\n",
       "                        <td colspan=\"2\" style=\"text-align: left;\">\n",
       "                            <strong>Local directory: </strong> /local/w40/ab2313/tmp/tmpqv4s9x4hdask-worker-space/dask-worker-space/worker-ncf4ee48\n",
       "                        </td>\n",
       "                    </tr>\n",
       "\n",
       "                    \n",
       "\n",
       "                    \n",
       "\n",
       "                </table>\n",
       "            </details>\n",
       "            </div>\n",
       "        </div>\n",
       "        \n",
       "        <div style=\"margin-bottom: 20px;\">\n",
       "            <div style=\"width: 24px; height: 24px; background-color: #DBF5FF; border: 3px solid #4CC9FF; border-radius: 5px; position: absolute;\"> </div>\n",
       "            <div style=\"margin-left: 48px;\">\n",
       "            <details>\n",
       "                <summary>\n",
       "                    <h4 style=\"margin-bottom: 0px; display: inline;\">Worker: 1</h4>\n",
       "                </summary>\n",
       "                <table style=\"width: 100%; text-align: left;\">\n",
       "                    <tr>\n",
       "                        <td style=\"text-align: left;\">\n",
       "                            <strong>Comm: </strong> tcp://127.0.0.1:39349\n",
       "                        </td>\n",
       "                        <td style=\"text-align: left;\">\n",
       "                            <strong>Total threads: </strong> 4\n",
       "                        </td>\n",
       "                    </tr>\n",
       "                    <tr>\n",
       "                        <td style=\"text-align: left;\">\n",
       "                            <strong>Dashboard: </strong> <a href=\"http://127.0.0.1:34795/status\" target=\"_blank\">http://127.0.0.1:34795/status</a>\n",
       "                        </td>\n",
       "                        <td style=\"text-align: left;\">\n",
       "                            <strong>Memory: </strong> 14.90 GiB\n",
       "                        </td>\n",
       "                    </tr>\n",
       "                    <tr>\n",
       "                        <td style=\"text-align: left;\">\n",
       "                            <strong>Nanny: </strong> tcp://127.0.0.1:46317\n",
       "                        </td>\n",
       "                        <td style=\"text-align: left;\"></td>\n",
       "                    </tr>\n",
       "                    <tr>\n",
       "                        <td colspan=\"2\" style=\"text-align: left;\">\n",
       "                            <strong>Local directory: </strong> /local/w40/ab2313/tmp/tmpqv4s9x4hdask-worker-space/dask-worker-space/worker-k3b2215f\n",
       "                        </td>\n",
       "                    </tr>\n",
       "\n",
       "                    \n",
       "\n",
       "                    \n",
       "\n",
       "                </table>\n",
       "            </details>\n",
       "            </div>\n",
       "        </div>\n",
       "        \n",
       "        <div style=\"margin-bottom: 20px;\">\n",
       "            <div style=\"width: 24px; height: 24px; background-color: #DBF5FF; border: 3px solid #4CC9FF; border-radius: 5px; position: absolute;\"> </div>\n",
       "            <div style=\"margin-left: 48px;\">\n",
       "            <details>\n",
       "                <summary>\n",
       "                    <h4 style=\"margin-bottom: 0px; display: inline;\">Worker: 2</h4>\n",
       "                </summary>\n",
       "                <table style=\"width: 100%; text-align: left;\">\n",
       "                    <tr>\n",
       "                        <td style=\"text-align: left;\">\n",
       "                            <strong>Comm: </strong> tcp://127.0.0.1:40849\n",
       "                        </td>\n",
       "                        <td style=\"text-align: left;\">\n",
       "                            <strong>Total threads: </strong> 4\n",
       "                        </td>\n",
       "                    </tr>\n",
       "                    <tr>\n",
       "                        <td style=\"text-align: left;\">\n",
       "                            <strong>Dashboard: </strong> <a href=\"http://127.0.0.1:45749/status\" target=\"_blank\">http://127.0.0.1:45749/status</a>\n",
       "                        </td>\n",
       "                        <td style=\"text-align: left;\">\n",
       "                            <strong>Memory: </strong> 14.90 GiB\n",
       "                        </td>\n",
       "                    </tr>\n",
       "                    <tr>\n",
       "                        <td style=\"text-align: left;\">\n",
       "                            <strong>Nanny: </strong> tcp://127.0.0.1:37413\n",
       "                        </td>\n",
       "                        <td style=\"text-align: left;\"></td>\n",
       "                    </tr>\n",
       "                    <tr>\n",
       "                        <td colspan=\"2\" style=\"text-align: left;\">\n",
       "                            <strong>Local directory: </strong> /local/w40/ab2313/tmp/tmpqv4s9x4hdask-worker-space/dask-worker-space/worker-ca_ndbyh\n",
       "                        </td>\n",
       "                    </tr>\n",
       "\n",
       "                    \n",
       "\n",
       "                    \n",
       "\n",
       "                </table>\n",
       "            </details>\n",
       "            </div>\n",
       "        </div>\n",
       "        \n",
       "        <div style=\"margin-bottom: 20px;\">\n",
       "            <div style=\"width: 24px; height: 24px; background-color: #DBF5FF; border: 3px solid #4CC9FF; border-radius: 5px; position: absolute;\"> </div>\n",
       "            <div style=\"margin-left: 48px;\">\n",
       "            <details>\n",
       "                <summary>\n",
       "                    <h4 style=\"margin-bottom: 0px; display: inline;\">Worker: 3</h4>\n",
       "                </summary>\n",
       "                <table style=\"width: 100%; text-align: left;\">\n",
       "                    <tr>\n",
       "                        <td style=\"text-align: left;\">\n",
       "                            <strong>Comm: </strong> tcp://127.0.0.1:40947\n",
       "                        </td>\n",
       "                        <td style=\"text-align: left;\">\n",
       "                            <strong>Total threads: </strong> 4\n",
       "                        </td>\n",
       "                    </tr>\n",
       "                    <tr>\n",
       "                        <td style=\"text-align: left;\">\n",
       "                            <strong>Dashboard: </strong> <a href=\"http://127.0.0.1:35797/status\" target=\"_blank\">http://127.0.0.1:35797/status</a>\n",
       "                        </td>\n",
       "                        <td style=\"text-align: left;\">\n",
       "                            <strong>Memory: </strong> 14.90 GiB\n",
       "                        </td>\n",
       "                    </tr>\n",
       "                    <tr>\n",
       "                        <td style=\"text-align: left;\">\n",
       "                            <strong>Nanny: </strong> tcp://127.0.0.1:40333\n",
       "                        </td>\n",
       "                        <td style=\"text-align: left;\"></td>\n",
       "                    </tr>\n",
       "                    <tr>\n",
       "                        <td colspan=\"2\" style=\"text-align: left;\">\n",
       "                            <strong>Local directory: </strong> /local/w40/ab2313/tmp/tmpqv4s9x4hdask-worker-space/dask-worker-space/worker-pw4ppfq3\n",
       "                        </td>\n",
       "                    </tr>\n",
       "\n",
       "                    \n",
       "\n",
       "                    \n",
       "\n",
       "                </table>\n",
       "            </details>\n",
       "            </div>\n",
       "        </div>\n",
       "        \n",
       "\n",
       "    </details>\n",
       "</div>\n",
       "\n",
       "        </details>\n",
       "    </div>\n",
       "</div>\n",
       "            </details>\n",
       "        \n",
       "\n",
       "    </div>\n",
       "</div>"
      ],
      "text/plain": [
       "<Client: 'tcp://127.0.0.1:40379' processes=4 threads=16, memory=59.60 GiB>"
      ]
     },
     "execution_count": 7,
     "metadata": {},
     "output_type": "execute_result"
    }
   ],
   "source": [
    "import dask.distributed as dd\n",
    "import tempfile\n",
    "\n",
    "tempdir = tempfile.TemporaryDirectory(\"dask-worker-space\")\n",
    "dd.Client(local_directory=tempdir.name, memory_limit='16gb')"
   ]
  },
  {
   "cell_type": "markdown",
   "id": "8be5605e",
   "metadata": {},
   "source": [
    "# Loading Data"
   ]
  },
  {
   "cell_type": "code",
   "execution_count": 8,
   "id": "533c5730",
   "metadata": {
    "ExecuteTime": {
     "end_time": "2023-02-22T01:19:14.025724Z",
     "start_time": "2023-02-22T01:19:14.017743Z"
    }
   },
   "outputs": [],
   "source": [
    "experiment_params = constants.EXPERIMENTS_TO_RUN[0]"
   ]
  },
  {
   "cell_type": "code",
   "execution_count": 12,
   "id": "8fbb748c",
   "metadata": {
    "ExecuteTime": {
     "end_time": "2023-02-22T01:20:27.353201Z",
     "start_time": "2023-02-22T01:20:05.071352Z"
    },
    "scrolled": true
   },
   "outputs": [
    {
     "name": "stdout",
     "output_type": "stream",
     "text": [
      "\n",
      "\n",
      "- /g/data/w40/ab2313/PhD/longrunmip/tas/regrid_retimestamped=\n",
      "- Opening files in /g/data/w40/ab2313/PhD/longrunmip/tas/regrid_retimestamped\n",
      "- Time lengths\n",
      "- --- Running function 'read_longrunmip_netcdf'\n",
      "- Opening files /g/data/w40/ab2313/PhD/longrunmip/tas/regrid_retimestamped/tas_mon_CCSM3_control_1530_g025.nc\n",
      "- requested_length=100\n",
      "- Removing first 10 steps\n",
      "- Converting from Kelvin to C\n",
      "- tas_mon_CCSM3_control_1530_g025.nc - 1520\n",
      "- --- Running function 'read_longrunmip_netcdf'\n",
      "- Opening files /g/data/w40/ab2313/PhD/longrunmip/tas/regrid_retimestamped/tas_mon_CESM104_control_1000_g025.nc\n",
      "- requested_length=100\n",
      "- Rename var='tas' to cesm104\n",
      "- Converting from Kelvin to C\n",
      "- tas_mon_CESM104_control_1000_g025.nc - 1000\n",
      "- --- Running function 'read_longrunmip_netcdf'\n",
      "- Opening files /g/data/w40/ab2313/PhD/longrunmip/tas/regrid_retimestamped/tas_mon_CNRMCM61_control_2000_g025.nc\n",
      "- requested_length=100\n",
      "- Rename var='tas' to cnrmcm61\n",
      "- Converting from Kelvin to C\n",
      "- tas_mon_CNRMCM61_control_2000_g025.nc - 2000\n",
      "- --- Running function 'read_longrunmip_netcdf'\n",
      "- Opening files /g/data/w40/ab2313/PhD/longrunmip/tas/regrid_retimestamped/tas_mon_HadCM3L_control_1000_g025.nc\n",
      "- requested_length=100\n",
      "- Rename var='tas' to hadcm3l\n",
      "- Converting from Kelvin to C\n",
      "- tas_mon_HadCM3L_control_1000_g025.nc - 1000\n",
      "- --- Running function 'read_longrunmip_netcdf'\n",
      "- Opening files /g/data/w40/ab2313/PhD/longrunmip/tas/regrid_retimestamped/tas_mon_IPSLCM5A_control_1000_g025.nc\n",
      "- requested_length=100\n",
      "- Rename var='tas' to ipslcm5a\n",
      "- Converting from Kelvin to C\n",
      "- tas_mon_IPSLCM5A_control_1000_g025.nc - 1000\n",
      "- --- Running function 'read_longrunmip_netcdf'\n",
      "- Opening files /g/data/w40/ab2313/PhD/longrunmip/tas/regrid_retimestamped/tas_ann_MPIESM11_control_2000_g025.nc\n",
      "- requested_length=100\n",
      "- Rename var='tas' to mpiesm11\n",
      "- Converting from Kelvin to C\n",
      "- tas_ann_MPIESM11_control_2000_g025.nc - 2000\n",
      "- --- Running function 'read_longrunmip_netcdf'\n",
      "- Opening files /g/data/w40/ab2313/PhD/longrunmip/tas/regrid_retimestamped/tas_mon_MPIESM12_control_1237_g025.nc\n",
      "- requested_length=100\n",
      "- Rename var='tas' to mpiesm12\n",
      "- Converting from Kelvin to C\n",
      "- tas_mon_MPIESM12_control_1237_g025.nc - 1237\n",
      "- Time length with all models present 1000\n",
      "- Length of final dataset 1000Dataset has coords ['time', 'lon', 'lat', 'height'])Dataset has data vars ['ccsm3', 'cesm104', 'cnrmcm61', 'hadcm3l', 'ipslcm5a', 'mpiesm11', 'mpiesm12']\n",
      "\n",
      "\n",
      "- /g/data/w40/ab2313/PhD/longrunmip/tas/regrid_retimestamped=\n",
      "- Opening files in /g/data/w40/ab2313/PhD/longrunmip/tas/regrid_retimestamped\n",
      "- Time lengths\n",
      "- --- Running function 'read_longrunmip_netcdf'\n",
      "- Opening files /g/data/w40/ab2313/PhD/longrunmip/tas/regrid_retimestamped/tas_mon_CCSM3_abrupt4x_2120_g025.nc\n",
      "- requested_length=800\n",
      "- Rename var='tas' to ccsm3\n",
      "- Converting from Kelvin to C\n",
      "- tas_mon_CCSM3_abrupt4x_2120_g025.nc - 2120\n",
      "- --- Running function 'read_longrunmip_netcdf'\n",
      "- Opening files /g/data/w40/ab2313/PhD/longrunmip/tas/regrid_retimestamped/tas_mon_CESM104_abrupt4x_5900_g025.nc\n",
      "- requested_length=800\n",
      "- Rename var='tas' to cesm104\n",
      "- Converting from Kelvin to C\n",
      "- tas_mon_CESM104_abrupt4x_5900_g025.nc - 5900\n",
      "- --- Running function 'read_longrunmip_netcdf'\n",
      "- Opening files /g/data/w40/ab2313/PhD/longrunmip/tas/regrid_retimestamped/tas_mon_CNRMCM61_abrupt4x_1850_g025.nc\n",
      "- requested_length=800\n",
      "- Rename var='tas' to cnrmcm61\n",
      "- Converting from Kelvin to C\n",
      "- tas_mon_CNRMCM61_abrupt4x_1850_g025.nc - 1850\n",
      "- --- Running function 'read_longrunmip_netcdf'\n",
      "- Opening files /g/data/w40/ab2313/PhD/longrunmip/tas/regrid_retimestamped/tas_mon_HadCM3L_abrupt4x_1000_g025.nc\n",
      "- requested_length=800\n",
      "- Rename var='tas' to hadcm3l\n",
      "- Converting from Kelvin to C\n",
      "- tas_mon_HadCM3L_abrupt4x_1000_g025.nc - 1000\n",
      "- --- Running function 'read_longrunmip_netcdf'\n",
      "- Opening files /g/data/w40/ab2313/PhD/longrunmip/tas/regrid_retimestamped/tas_mon_IPSLCM5A_abrupt4x_1000_g025.nc\n",
      "- requested_length=800\n",
      "- Rename var='tas' to ipslcm5a\n",
      "- Converting from Kelvin to C\n",
      "- tas_mon_IPSLCM5A_abrupt4x_1000_g025.nc - 1000\n",
      "- --- Running function 'read_longrunmip_netcdf'\n",
      "- Opening files /g/data/w40/ab2313/PhD/longrunmip/tas/regrid_retimestamped/tas_ann_MPIESM11_abrupt4x_4459_g025.nc\n",
      "- requested_length=800\n",
      "- Rename var='tas' to mpiesm11\n",
      "- Converting from Kelvin to C\n",
      "- tas_ann_MPIESM11_abrupt4x_4459_g025.nc - 4459\n",
      "- --- Running function 'read_longrunmip_netcdf'\n",
      "- Opening files /g/data/w40/ab2313/PhD/longrunmip/tas/regrid_retimestamped/tas_mon_MPIESM12_abrupt4x_999_g025.nc\n",
      "- requested_length=800\n",
      "- Rename var='tas' to mpiesm12\n",
      "- Converting from Kelvin to C\n",
      "- tas_mon_MPIESM12_abrupt4x_999_g025.nc - 1000\n",
      "- Time length with all models present 1000\n",
      "- Length of final dataset 1000Dataset has coords ['time', 'lon', 'lat', 'height'])Dataset has data vars ['ccsm3', 'cesm104', 'cnrmcm61', 'hadcm3l', 'ipslcm5a', 'mpiesm11', 'mpiesm12']\n"
     ]
    }
   ],
   "source": [
    "control_abrupt_ds = open_ds.open_experiment_files(experiment_params, ExperimentTypes.CONTROL)\n",
    "abrupt4x_ds = open_ds.open_experiment_files(experiment_params, ExperimentTypes.ABRUPT4X)"
   ]
  },
  {
   "cell_type": "code",
   "execution_count": 16,
   "id": "dbf78027",
   "metadata": {
    "ExecuteTime": {
     "end_time": "2023-02-22T01:22:14.101619Z",
     "start_time": "2023-02-22T01:22:13.649633Z"
    },
    "collapsed": true
   },
   "outputs": [
    {
     "data": {
      "text/plain": [
       "[<matplotlib.lines.Line2D at 0x7fb4d643dc10>]"
      ]
     },
     "execution_count": 16,
     "metadata": {},
     "output_type": "execute_result"
    },
    {
     "data": {
      "image/png": "[encoded data removed]",
      "text/plain": [
       "<Figure size 1008x288 with 1 Axes>"
      ]
     },
     "metadata": {
      "needs_background": "light"
     },
     "output_type": "display_data"
    }
   ],
   "source": [
    "fig = plt.figure(figsize=(14,4))\n",
    "plt.plot(abrupt4x_ds.isel(lat=-1, lon=0).ccsm3.values)"
   ]
  },
  {
   "cell_type": "markdown",
   "id": "d625dce6",
   "metadata": {},
   "source": [
    "# Calculations"
   ]
  },
  {
   "cell_type": "markdown",
   "id": "ea4bb17e",
   "metadata": {},
   "source": [
    "## Execution"
   ]
  },
  {
   "cell_type": "code",
   "execution_count": 133,
   "id": "78ae519f",
   "metadata": {
    "ExecuteTime": {
     "end_time": "2023-02-22T06:58:32.157911Z",
     "start_time": "2023-02-22T06:58:32.126824Z"
    }
   },
   "outputs": [
    {
     "data": {
      "text/plain": [
       "'/g/data/w40/ab2313/PhD/longrunmip/tas/trend_fitted_1000y'"
      ]
     },
     "execution_count": 133,
     "metadata": {},
     "output_type": "execute_result"
    }
   ],
   "source": [
    "SAVE_DIR = os.path.join(constants.LONGRUNMIP_DIR, experiment_params['variable'], 'trend_fitted_1000y')\n",
    "SAVE_DIR"
   ]
  },
  {
   "cell_type": "code",
   "execution_count": 131,
   "id": "a2998c4c",
   "metadata": {
    "ExecuteTime": {
     "end_time": "2023-02-22T06:57:41.764783Z",
     "start_time": "2023-02-22T06:52:22.220844Z"
    }
   },
   "outputs": [
    {
     "name": "stdout",
     "output_type": "stream",
     "text": [
      "order=2- 57.51983707398176 seconds\n",
      "order=3- 116.84437557402998 seconds\n",
      "order=4- 180.6756917508319 seconds\n",
      "order=5- 249.1938598959241 seconds\n",
      "order=6- 319.5277628728654 seconds\n"
     ]
    }
   ],
   "source": [
    "start_time = time.perf_counter()\n",
    "\n",
    "method = 'polynomial'\n",
    "orders = (2,3,4,5,6)\n",
    "\n",
    "polynomial_to_save = {}\n",
    "for order in orders:\n",
    "    print(f'{order=}', end='')\n",
    "    ds = stats.trend_fit(abrupt4x_ds, method=method, order=order)\n",
    "    polynomial_to_save[order] = ds\n",
    "    print(f'- {time.perf_counter() - start_time} seconds')"
   ]
  },
  {
   "cell_type": "code",
   "execution_count": 134,
   "id": "aaa9a7ca",
   "metadata": {
    "ExecuteTime": {
     "end_time": "2023-02-22T06:58:58.720528Z",
     "start_time": "2023-02-22T06:58:34.250817Z"
    }
   },
   "outputs": [
    {
     "name": "stdout",
     "output_type": "stream",
     "text": [
      "/g/data/w40/ab2313/PhD/longrunmip/tas/trend_fitted_1000y/polynomial_2.nc\n",
      "/g/data/w40/ab2313/PhD/longrunmip/tas/trend_fitted_1000y/polynomial_3.nc\n",
      "/g/data/w40/ab2313/PhD/longrunmip/tas/trend_fitted_1000y/polynomial_4.nc\n",
      "/g/data/w40/ab2313/PhD/longrunmip/tas/trend_fitted_1000y/polynomial_5.nc\n",
      "/g/data/w40/ab2313/PhD/longrunmip/tas/trend_fitted_1000y/polynomial_6.nc\n"
     ]
    }
   ],
   "source": [
    "for order, ds in polynomial_to_save.items():\n",
    "    path = os.path.join(SAVE_DIR, f'polynomial_{order}.nc')\n",
    "    print(path)\n",
    "    ds.to_netcdf(path)"
   ]
  },
  {
   "cell_type": "code",
   "execution_count": 135,
   "id": "3002a2af",
   "metadata": {
    "ExecuteTime": {
     "end_time": "2023-02-23T07:15:16.899710Z",
     "start_time": "2023-02-22T06:58:59.196440Z"
    }
   },
   "outputs": [
    {
     "name": "stdout",
     "output_type": "stream",
     "text": [
      "lowess_window=20- 28444.36655399087 seconds\n",
      "lowess_window=50- 57714.64124307386 seconds\n",
      "lowess_window=100- 87377.689751409 seconds\n"
     ]
    }
   ],
   "source": [
    "start_time = time.perf_counter()\n",
    "\n",
    "method = 'lowess'\n",
    "lowess_windows = (20, 50, 100)\n",
    "\n",
    "lowess_to_save = {}\n",
    "for lowess_window in lowess_windows:\n",
    "    print(f'{lowess_window=}', end='')\n",
    "    ds = stats.trend_fit(abrupt4x_ds, method=method, lowess_window=lowess_window)\n",
    "    lowess_to_save[lowess_window] = ds\n",
    "    print(f'- {time.perf_counter() - start_time} seconds')"
   ]
  },
  {
   "cell_type": "code",
   "execution_count": 136,
   "id": "d6dc3b58",
   "metadata": {
    "ExecuteTime": {
     "end_time": "2023-02-23T07:15:41.079211Z",
     "start_time": "2023-02-23T07:15:17.486148Z"
    }
   },
   "outputs": [
    {
     "name": "stdout",
     "output_type": "stream",
     "text": [
      "/g/data/w40/ab2313/PhD/longrunmip/tas/trend_fitted_1000y/lowess_2.nc\n",
      "/g/data/w40/ab2313/PhD/longrunmip/tas/trend_fitted_1000y/lowess_3.nc\n",
      "/g/data/w40/ab2313/PhD/longrunmip/tas/trend_fitted_1000y/lowess_4.nc\n",
      "/g/data/w40/ab2313/PhD/longrunmip/tas/trend_fitted_1000y/lowess_5.nc\n",
      "/g/data/w40/ab2313/PhD/longrunmip/tas/trend_fitted_1000y/lowess_6.nc\n"
     ]
    }
   ],
   "source": [
    "for lowess_window, ds in polynomial_to_save.items():\n",
    "    path= os.path.join(SAVE_DIR, f'lowess_{lowess_window}.nc')\n",
    "    print(path)\n",
    "    ds.to_netcdf(path)"
   ]
  }
 ],
 "metadata": {
  "kernelspec": {
   "display_name": "Python 3 (ipykernel)",
   "language": "python",
   "name": "python3"
  },
  "language_info": {
   "codemirror_mode": {
    "name": "ipython",
    "version": 3
   },
   "file_extension": ".py",
   "mimetype": "text/x-python",
   "name": "python",
   "nbconvert_exporter": "python",
   "pygments_lexer": "ipython3",
   "version": "3.9.15"
  },
  "toc": {
   "base_numbering": 1,
   "nav_menu": {},
   "number_sections": true,
   "sideBar": true,
   "skip_h1_title": false,
   "title_cell": "Table of Contents",
   "title_sidebar": "Contents",
   "toc_cell": false,
   "toc_position": {},
   "toc_section_display": true,
   "toc_window_display": false
  },
  "varInspector": {
   "cols": {
    "lenName": 16,
    "lenType": 16,
    "lenVar": 40
   },
   "kernels_config": {
    "python": {
     "delete_cmd_postfix": "",
     "delete_cmd_prefix": "del ",
     "library": "var_list.py",
     "varRefreshCmd": "print(var_dic_list())"
    },
    "r": {
     "delete_cmd_postfix": ") ",
     "delete_cmd_prefix": "rm(",
     "library": "var_list.r",
     "varRefreshCmd": "cat(var_dic_list()) "
    }
   },
   "oldHeight": 588.85,
   "position": {
    "height": "40px",
    "left": "1416px",
    "right": "20px",
    "top": "107px",
    "width": "487px"
   },
   "types_to_exclude": [
    "module",
    "function",
    "builtin_function_or_method",
    "instance",
    "_Feature"
   ],
   "varInspector_section_display": "none",
   "window_display": false
  }
 },
 "nbformat": 4,
 "nbformat_minor": 5
}
