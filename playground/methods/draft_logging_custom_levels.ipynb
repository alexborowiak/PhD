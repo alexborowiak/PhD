{
 "cells": [
  {
   "cell_type": "code",
   "execution_count": 15,
   "id": "e6b4f419",
   "metadata": {
    "ExecuteTime": {
     "end_time": "2023-03-03T04:49:50.488254Z",
     "start_time": "2023-03-03T04:49:50.482392Z"
    }
   },
   "outputs": [],
   "source": [
    "import logging"
   ]
  },
  {
   "cell_type": "code",
   "execution_count": 16,
   "id": "ddacb6bd",
   "metadata": {
    "ExecuteTime": {
     "end_time": "2023-03-03T04:49:50.572773Z",
     "start_time": "2023-03-03T04:49:50.565944Z"
    }
   },
   "outputs": [],
   "source": [
    "\n",
    "import logging, sys\n",
    "logging.basicConfig(format=\" - %(message)s\", filemode='w', stream=sys.stdout)\n",
    "logger = logging.getLogger()\n"
   ]
  },
  {
   "cell_type": "code",
   "execution_count": 4,
   "id": "848a720b",
   "metadata": {
    "ExecuteTime": {
     "end_time": "2023-03-03T04:44:30.741856Z",
     "start_time": "2023-03-03T04:44:30.726924Z"
    }
   },
   "outputs": [],
   "source": [
    "def change_logging_level(logginglevel: str):\n",
    "    eval(f'logging.getLogger().setLevel(logging.{logginglevel})')"
   ]
  },
  {
   "cell_type": "code",
   "execution_count": 5,
   "id": "78de8eb0",
   "metadata": {
    "ExecuteTime": {
     "end_time": "2023-03-03T04:44:36.709516Z",
     "start_time": "2023-03-03T04:44:36.703587Z"
    }
   },
   "outputs": [],
   "source": [
    "change_logging_level('DEBUG')"
   ]
  },
  {
   "cell_type": "code",
   "execution_count": 6,
   "id": "a1ab14e5",
   "metadata": {
    "ExecuteTime": {
     "end_time": "2023-03-03T04:44:40.713082Z",
     "start_time": "2023-03-03T04:44:40.705333Z"
    }
   },
   "outputs": [
    {
     "name": "stdout",
     "output_type": "stream",
     "text": [
      " - Alex\n"
     ]
    }
   ],
   "source": [
    "logger.debug(\"Alex\")"
   ]
  },
  {
   "cell_type": "code",
   "execution_count": 11,
   "id": "a0e97976",
   "metadata": {
    "ExecuteTime": {
     "end_time": "2023-03-03T04:45:30.084717Z",
     "start_time": "2023-03-03T04:45:30.077839Z"
    }
   },
   "outputs": [],
   "source": [
    "@property\n",
    "def log(obj):\n",
    "    logging.addLevelName(5, 'Alex')\n",
    "    myLogger = logging.getLogger(obj.__class__.__name__)\n",
    "    setarrt(myLogger, 'Alex', lambda *args,: myLogger.log(5, *args))\n",
    "    return myLogger"
   ]
  },
  {
   "cell_type": "markdown",
   "id": "74446e4b",
   "metadata": {},
   "source": [
    "https://stackoverflow.com/questions/2183233/how-to-add-a-custom-loglevel-to-pythons-logging-facility"
   ]
  },
  {
   "cell_type": "code",
   "execution_count": 17,
   "id": "9b88fb2b",
   "metadata": {
    "ExecuteTime": {
     "end_time": "2023-03-03T04:49:52.025471Z",
     "start_time": "2023-03-03T04:49:52.019031Z"
    }
   },
   "outputs": [],
   "source": [
    "DEBUG_LEVELV_NUM = 9 \n",
    "logging.addLevelName(DEBUG_LEVELV_NUM, \"DEBUGV\")\n",
    "def debugv(self, message, *args, **kws):\n",
    "    if self.isEnabledFor(DEBUG_LEVELV_NUM):\n",
    "        # Yes, logger takes its '*args' as 'args'.\n",
    "        self._log(DEBUG_LEVELV_NUM, message, args, **kws) \n",
    "logging.Logger.debugv = debugv"
   ]
  },
  {
   "cell_type": "code",
   "execution_count": 21,
   "id": "4956d4a1",
   "metadata": {
    "ExecuteTime": {
     "end_time": "2023-03-03T04:50:30.724861Z",
     "start_time": "2023-03-03T04:50:30.687782Z"
    }
   },
   "outputs": [
    {
     "ename": "AttributeError",
     "evalue": "module 'logging' has no attribute 'DEBUGV'",
     "output_type": "error",
     "traceback": [
      "\u001b[0;31m---------------------------------------------------------------------------\u001b[0m",
      "\u001b[0;31mAttributeError\u001b[0m                            Traceback (most recent call last)",
      "Cell \u001b[0;32mIn[21], line 1\u001b[0m\n\u001b[0;32m----> 1\u001b[0m \u001b[43mchange_logging_level\u001b[49m\u001b[43m(\u001b[49m\u001b[38;5;124;43m'\u001b[39;49m\u001b[38;5;124;43mDEBUGV\u001b[39;49m\u001b[38;5;124;43m'\u001b[39;49m\u001b[43m)\u001b[49m\n",
      "Cell \u001b[0;32mIn[4], line 2\u001b[0m, in \u001b[0;36mchange_logging_level\u001b[0;34m(logginglevel)\u001b[0m\n\u001b[1;32m      1\u001b[0m \u001b[38;5;28;01mdef\u001b[39;00m \u001b[38;5;21mchange_logging_level\u001b[39m(logginglevel: \u001b[38;5;28mstr\u001b[39m):\n\u001b[0;32m----> 2\u001b[0m     \u001b[38;5;28;43meval\u001b[39;49m\u001b[43m(\u001b[49m\u001b[38;5;124;43mf\u001b[39;49m\u001b[38;5;124;43m'\u001b[39;49m\u001b[38;5;124;43mlogging.getLogger().setLevel(logging.\u001b[39;49m\u001b[38;5;132;43;01m{\u001b[39;49;00m\u001b[43mlogginglevel\u001b[49m\u001b[38;5;132;43;01m}\u001b[39;49;00m\u001b[38;5;124;43m)\u001b[39;49m\u001b[38;5;124;43m'\u001b[39;49m\u001b[43m)\u001b[49m\n",
      "File \u001b[0;32m<string>:1\u001b[0m\n",
      "\u001b[0;31mAttributeError\u001b[0m: module 'logging' has no attribute 'DEBUGV'"
     ]
    }
   ],
   "source": [
    "change_logging_level('DEBUGV')"
   ]
  },
  {
   "cell_type": "code",
   "execution_count": 19,
   "id": "751d7dc4",
   "metadata": {
    "ExecuteTime": {
     "end_time": "2023-03-03T04:50:13.047546Z",
     "start_time": "2023-03-03T04:50:13.041257Z"
    }
   },
   "outputs": [],
   "source": [
    "logger.debugv('Alex')"
   ]
  },
  {
   "cell_type": "code",
   "execution_count": null,
   "id": "607d3931",
   "metadata": {},
   "outputs": [],
   "source": []
  }
 ],
 "metadata": {
  "kernelspec": {
   "display_name": "Python 3 (ipykernel)",
   "language": "python",
   "name": "python3"
  },
  "language_info": {
   "codemirror_mode": {
    "name": "ipython",
    "version": 3
   },
   "file_extension": ".py",
   "mimetype": "text/x-python",
   "name": "python",
   "nbconvert_exporter": "python",
   "pygments_lexer": "ipython3",
   "version": "3.9.15"
  },
  "toc": {
   "base_numbering": 1,
   "nav_menu": {},
   "number_sections": true,
   "sideBar": true,
   "skip_h1_title": false,
   "title_cell": "Table of Contents",
   "title_sidebar": "Contents",
   "toc_cell": false,
   "toc_position": {},
   "toc_section_display": true,
   "toc_window_display": false
  },
  "varInspector": {
   "cols": {
    "lenName": 16,
    "lenType": 16,
    "lenVar": 40
   },
   "kernels_config": {
    "python": {
     "delete_cmd_postfix": "",
     "delete_cmd_prefix": "del ",
     "library": "var_list.py",
     "varRefreshCmd": "print(var_dic_list())"
    },
    "r": {
     "delete_cmd_postfix": ") ",
     "delete_cmd_prefix": "rm(",
     "library": "var_list.r",
     "varRefreshCmd": "cat(var_dic_list()) "
    }
   },
   "types_to_exclude": [
    "module",
    "function",
    "builtin_function_or_method",
    "instance",
    "_Feature"
   ],
   "window_display": false
  }
 },
 "nbformat": 4,
 "nbformat_minor": 5
}
