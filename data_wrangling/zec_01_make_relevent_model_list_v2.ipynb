{
 "cells": [
  {
   "cell_type": "markdown",
   "id": "0a307bf9-8a27-4326-9f13-17d24afe3058",
   "metadata": {},
   "source": [
    "# Getting Just the Matching Model Paths\n",
    "* Creates a list of dictionaries with the matching models for each experiment.\n",
    "* Data is then used in zec_02_regridding...\n",
    "\n",
    "* 6th May\n",
    "     * Updateing to only use dictionary. Previous version had a csv file with only tas. Making a new version that stores all output.\n",
    "\n",
    "TODO:\n",
    "* Currently this is only really working for piControl and 1000pgc. Need to add the 1%CO2 runs to this\n",
    "* Will eventually need to create the flows for other variables. This is perhaps partially setup."
   ]
  },
  {
   "cell_type": "code",
   "execution_count": 1,
   "id": "a8e4f437",
   "metadata": {
    "tags": []
   },
   "outputs": [],
   "source": [
    "import os\n",
    "import sys\n",
    "import numpy as np\n",
    "import pandas as pd\n",
    "from importlib import reload\n",
    "from glob import glob\n",
    "import json\n",
    "from pprint import pprint\n",
    "sys.path.append(os.path.join(os.getcwd(), 'Documents/PhD'))\n",
    "sys.path.append('modules')\n",
    "import constants\n",
    "\n",
    "from typing import List"
   ]
  },
  {
   "cell_type": "code",
   "execution_count": 3,
   "id": "7ecbf63f",
   "metadata": {
    "tags": []
   },
   "outputs": [
    {
     "data": {
      "text/plain": [
       "'/g/data/w40/ab2313/images/PhD/init'"
      ]
     },
     "execution_count": 3,
     "metadata": {},
     "output_type": "execute_result"
    }
   ],
   "source": [
    "constants.IMAGE_SAVE_DIR_INIT"
   ]
  },
  {
   "cell_type": "markdown",
   "id": "f7300208",
   "metadata": {},
   "source": [
    "# Paths"
   ]
  },
  {
   "cell_type": "markdown",
   "id": "0df52e81",
   "metadata": {},
   "source": [
    "The code below can be used to ge the paths of all the files. However, this can be ery slow (3 hours) for piControl. "
   ]
  },
  {
   "cell_type": "code",
   "execution_count": 20,
   "id": "ddb0541f",
   "metadata": {
    "tags": []
   },
   "outputs": [],
   "source": [
    "# TODO: This should be a dict not a csv so you don't have to drop nans\n",
    "# fpaths_df = pd.read_csv(os.path.join(os.getcwd(),  'Documents/PhD', 'data/fpaths_picontrol.csv'))#[['picontrol', '1000pgc']]\n",
    "# fpaths_df.head()\n",
    "# fpaths_dict = fpaths_df.to_dict(orient='list')\n",
    "# fpaths_dict['1000pgc'] = [v for v in fpaths_dict['1000pgc'] if isinstance(v, str)]\n",
    "# fpaths_dict['1pct_rad'] = [v for v in fpaths_dict['1pct_rad'] if isinstance(v, str)]\n",
    "\n",
    "# fpaths_dict.keys()\n",
    "\n",
    "# unique_picontrol_paths = np.unique(list(map(os.path.dirname, fpaths_dict['picontrol'])))\n",
    "# unique_picontrol_paths[:5]"
   ]
  },
  {
   "cell_type": "code",
   "execution_count": 37,
   "id": "a7c6015a-5f42-4bdd-9705-9b70b999eefd",
   "metadata": {
    "tags": []
   },
   "outputs": [],
   "source": [
    "with open(os.path.join(os.getcwd(),  'Documents/PhD/data', 'raw_paths.json'), 'r') as file:\n",
    "    fpaths_dict = json.loads(file.read())"
   ]
  },
  {
   "cell_type": "code",
   "execution_count": 38,
   "id": "43c8ca1f-0cee-4b2b-99ab-3d228ba0b312",
   "metadata": {
    "tags": []
   },
   "outputs": [],
   "source": [
    "variable = 'tas'"
   ]
  },
  {
   "cell_type": "code",
   "execution_count": 39,
   "id": "db153884-54f4-4ebb-a80e-a959ac610bc8",
   "metadata": {
    "tags": []
   },
   "outputs": [
    {
     "data": {
      "text/plain": [
       "dict_keys(['picontrol', '1000pgc', '1pct_rad', '1pct_bgc'])"
      ]
     },
     "execution_count": 39,
     "metadata": {},
     "output_type": "execute_result"
    }
   ],
   "source": [
    "fpaths_dict.keys()"
   ]
  },
  {
   "cell_type": "code",
   "execution_count": 40,
   "id": "b889df39-c35a-4570-a0c8-23d04a2bb576",
   "metadata": {
    "tags": []
   },
   "outputs": [
    {
     "name": "stdout",
     "output_type": "stream",
     "text": [
      "['/g/data/oi10/replicas/CMIP6/CMIP/INM/INM-CM5-0/piControl/r1i1p1f1/Amon/tas/gr1/v20190619/tas_Amon_INM-CM5-0_piControl_r1i1p1f1_gr1_314801-319612.nc', '/g/data/oi10/replicas/CMIP6/CMIP/INM/INM-CM5-0/piControl/r1i1p1f1/Amon/tas/gr1/v20190619/tas_Amon_INM-CM5-0_piControl_r1i1p1f1_gr1_246901-249512.nc', '/g/data/oi10/replicas/CMIP6/CMIP/INM/INM-CM5-0/piControl/r1i1p1f1/Amon/tas/gr1/v20190619/tas_Amon_INM-CM5-0_piControl_r1i1p1f1_gr1_236901-246812.nc']\n",
      "\n",
      "\n",
      "['/g/data/oi10/replicas/CMIP6/C4MIP/MPI-M/MPI-ESM1-2-LR/esm-1pct-brch-1000PgC/r1i1p1f1/Amon/tas/gn/v20190815/tas_Amon_MPI-ESM1-2-LR_esm-1pct-brch-1000PgC_r1i1p1f1_gn_207501-209412.nc', '/g/data/oi10/replicas/CMIP6/C4MIP/MPI-M/MPI-ESM1-2-LR/esm-1pct-brch-1000PgC/r1i1p1f1/Amon/tas/gn/v20190815/tas_Amon_MPI-ESM1-2-LR_esm-1pct-brch-1000PgC_r1i1p1f1_gn_205501-207412.nc', '/g/data/oi10/replicas/CMIP6/C4MIP/MPI-M/MPI-ESM1-2-LR/esm-1pct-brch-1000PgC/r1i1p1f1/Amon/tas/gn/v20190815/tas_Amon_MPI-ESM1-2-LR_esm-1pct-brch-1000PgC_r1i1p1f1_gn_199501-201412.nc']\n",
      "\n",
      "\n",
      "['/g/data/oi10/replicas/CMIP6/C4MIP/MPI-M/MPI-ESM1-2-LR/1pctCO2-rad/r2i1p1f1/Amon/tas/gn/v20190710/tas_Amon_MPI-ESM1-2-LR_1pctCO2-rad_r2i1p1f1_gn_191001-192912.nc', '/g/data/oi10/replicas/CMIP6/C4MIP/MPI-M/MPI-ESM1-2-LR/1pctCO2-rad/r2i1p1f1/Amon/tas/gn/v20190710/tas_Amon_MPI-ESM1-2-LR_1pctCO2-rad_r2i1p1f1_gn_197001-198912.nc', '/g/data/oi10/replicas/CMIP6/C4MIP/MPI-M/MPI-ESM1-2-LR/1pctCO2-rad/r2i1p1f1/Amon/tas/gn/v20190710/tas_Amon_MPI-ESM1-2-LR_1pctCO2-rad_r2i1p1f1_gn_195001-196912.nc']\n",
      "\n",
      "\n",
      "['/g/data/oi10/replicas/CMIP6/C4MIP/MPI-M/MPI-ESM1-2-LR/1pctCO2-bgc/r2i1p1f1/Amon/tas/gn/v20190710/tas_Amon_MPI-ESM1-2-LR_1pctCO2-bgc_r2i1p1f1_gn_191001-192912.nc', '/g/data/oi10/replicas/CMIP6/C4MIP/MPI-M/MPI-ESM1-2-LR/1pctCO2-bgc/r2i1p1f1/Amon/tas/gn/v20190710/tas_Amon_MPI-ESM1-2-LR_1pctCO2-bgc_r2i1p1f1_gn_195001-196912.nc', '/g/data/oi10/replicas/CMIP6/C4MIP/MPI-M/MPI-ESM1-2-LR/1pctCO2-bgc/r2i1p1f1/Amon/tas/gn/v20190710/tas_Amon_MPI-ESM1-2-LR_1pctCO2-bgc_r2i1p1f1_gn_193001-194912.nc']\n"
     ]
    }
   ],
   "source": [
    "print(fpaths_dict['picontrol'][variable][:3], fpaths_dict['1000pgc'][variable][:3],\n",
    "      fpaths_dict['1pct_rad'][variable][:3], fpaths_dict['1pct_bgc'][variable][:3],\n",
    "      sep='\\n\\n\\n')"
   ]
  },
  {
   "cell_type": "code",
   "execution_count": 59,
   "id": "cce2605c-3c5b-41bb-ad59-0c51415a8272",
   "metadata": {
    "tags": []
   },
   "outputs": [],
   "source": [
    "def zecmip_open_matching_path(fpath: str, \n",
    "                            path_list: List[str],\n",
    "                            experiment:str='esm-1pct-brch-1000PgC', debug=False) -> str:\n",
    "    \n",
    "    '''This function takes a path, and finds the matching path for piControl from a list of paths\n",
    "    containing piControl paths.\n",
    "    \n",
    "    Parameters\n",
    "    ----------\n",
    "    fpath: the path to the dataset that you want to match to piControl.\n",
    "    unique_picontrol_paths: paths to different piControl runs.\n",
    "    experiment: the experiment of what you are matching.\n",
    "    \n",
    "    \n",
    "    \n",
    "    Sample of split path\n",
    "    fpath = '/g/data/oi10/replicas/CMIP6/C4MIP/CCCma/CanESM5/esm-1pct-brch-1000PgC/r1i1p2f1/Amon/tas/gn/v20190429'\n",
    "    fpath.split('/')\n",
    "    0-, 1-g, 2-data, 3-oi10, 4-replicas, 5-CMIP6, 6-C4MIP, 7-CCCma, 8-CanESM5, 9-esm-1pct-brch-1000PgC, 10-r1i1p2f1, 11-Amon,       12-tas, 13-gn, 14-v20190429\n",
    "    \n",
    "    '''\n",
    "    import re\n",
    "    print(f'Attempting to open matching path for:\\n{fpath}')\n",
    "        \n",
    "    path_branch = '/'.join(fpath.split('/')[7:-2])\n",
    "    if debug: print(f'{path_branch=}')\n",
    "    path_branch = path_branch.replace(experiment, '\\w+')#'piControl|esm-piControl')\n",
    "    if debug: print(f'Searching for branch containing\\n{path_branch}')\n",
    "        \n",
    "    PATH_FOUND = False\n",
    "    for path in path_list:\n",
    "        #if path_branch in pi_path:\n",
    "        core_path = '/'.join(path.split('/')[7:-2])\n",
    "        if debug:print(f'{path_branch=} - {core_path=}')\n",
    "        if re.search(path_branch, core_path):\n",
    "            PATH_FOUND = True\n",
    "            if debug: print(f'Found branch:\\n{path_branch}')\n",
    "            break\n",
    "    if not PATH_FOUND: return np.nan\n",
    "    if debug:  print(f'Found path:\\n{picontrol_path}')\n",
    "    return path"
   ]
  },
  {
   "cell_type": "code",
   "execution_count": 75,
   "id": "ce2f0b17-7e6f-47e9-a7cb-545b34e58922",
   "metadata": {
    "tags": []
   },
   "outputs": [],
   "source": [
    "def zecmip_open_matching_path(fpath:str, path_list: List[str]) -> str:\n",
    "    split_path = fpath.split('/')\n",
    "    model = split_path[8]; ensemble_member = split_path[10]\n",
    "    print(f'Attemping to find {model=} and {ensemble_member=}')\n",
    "    for potential_match in path_list:\n",
    "        if model in potential_match and ensemble_member in potential_match: return potential_match\n",
    "    print('No match found')\n",
    "    return np.nan"
   ]
  },
  {
   "cell_type": "code",
   "execution_count": 76,
   "id": "ee51d358",
   "metadata": {
    "tags": []
   },
   "outputs": [
    {
     "data": {
      "text/plain": [
       "array(['/g/data/oi10/replicas/CMIP6/C4MIP/CCCma/CanESM5/esm-1pct-brch-1000PgC/r1i1p2f1/Amon/tas/gn/v20190429',\n",
       "       '/g/data/oi10/replicas/CMIP6/C4MIP/CCCma/CanESM5/esm-1pct-brch-1000PgC/r2i1p2f1/Amon/tas/gn/v20190429',\n",
       "       '/g/data/oi10/replicas/CMIP6/C4MIP/CCCma/CanESM5/esm-1pct-brch-1000PgC/r3i1p2f1/Amon/tas/gn/v20190429',\n",
       "       '/g/data/oi10/replicas/CMIP6/C4MIP/CCCma/CanESM5/esm-1pct-brch-1000PgC/r4i1p2f1/Amon/tas/gn/v20190429',\n",
       "       '/g/data/oi10/replicas/CMIP6/C4MIP/CCCma/CanESM5/esm-1pct-brch-1000PgC/r5i1p2f1/Amon/tas/gn/v20190429',\n",
       "       '/g/data/oi10/replicas/CMIP6/C4MIP/MIROC/MIROC-ES2L/esm-1pct-brch-1000PgC/r1i1p1f2/Amon/tas/gn/v20200622',\n",
       "       '/g/data/oi10/replicas/CMIP6/C4MIP/MOHC/UKESM1-0-LL/esm-1pct-brch-1000PgC/r1i1p1f2/Amon/tas/gn/v20200210',\n",
       "       '/g/data/oi10/replicas/CMIP6/C4MIP/MOHC/UKESM1-0-LL/esm-1pct-brch-1000PgC/r2i1p1f2/Amon/tas/gn/v20200106',\n",
       "       '/g/data/oi10/replicas/CMIP6/C4MIP/MOHC/UKESM1-0-LL/esm-1pct-brch-1000PgC/r3i1p1f2/Amon/tas/gn/v20200929',\n",
       "       '/g/data/oi10/replicas/CMIP6/C4MIP/MOHC/UKESM1-0-LL/esm-1pct-brch-1000PgC/r4i1p1f2/Amon/tas/gn/v20200708',\n",
       "       '/g/data/oi10/replicas/CMIP6/C4MIP/MPI-M/MPI-ESM1-2-LR/esm-1pct-brch-1000PgC/r1i1p1f1/Amon/tas/gn/v20190815',\n",
       "       '/g/data/oi10/replicas/CMIP6/C4MIP/NASA-GISS/GISS-E2-1-G-CC/esm-1pct-brch-1000PgC/r1i1p1f1/Amon/tas/gn/v20191202',\n",
       "       '/g/data/oi10/replicas/CMIP6/C4MIP/NCAR/CESM2/esm-1pct-brch-1000PgC/r1i1p1f1/Amon/tas/gn/v20191119',\n",
       "       '/g/data/oi10/replicas/CMIP6/C4MIP/NCC/NorESM2-LM/esm-1pct-brch-1000PgC/r1i1p1f1/Amon/tas/gn/v20191108',\n",
       "       '/g/data/oi10/replicas/CMIP6/C4MIP/NOAA-GFDL/GFDL-ESM4/esm-1pct-brch-1000PgC/r1i1p1f1/Amon/tas/gr1/v20180701'],\n",
       "      dtype='<U111')"
      ]
     },
     "execution_count": 76,
     "metadata": {},
     "output_type": "execute_result"
    }
   ],
   "source": [
    "# Unique abspath (no filename).\n",
    "base_fpaths_1000PgC = np.sort(np.unique(list(map(os.path.dirname,fpaths_dict['1000pgc'][variable]))))\n",
    "base_fpaths_1000PgC"
   ]
  },
  {
   "cell_type": "code",
   "execution_count": 93,
   "id": "b816bdc4-d9b2-4496-b6b9-7232545cc099",
   "metadata": {
    "tags": []
   },
   "outputs": [
    {
     "data": {
      "text/plain": [
       "5"
      ]
     },
     "execution_count": 93,
     "metadata": {},
     "output_type": "execute_result"
    }
   ],
   "source": [
    "len(path_matches)"
   ]
  },
  {
   "cell_type": "code",
   "execution_count": 94,
   "id": "1c2c2fff-ab2a-4659-97b3-5b5453c94a76",
   "metadata": {
    "tags": []
   },
   "outputs": [
    {
     "name": "stdout",
     "output_type": "stream",
     "text": [
      "[{'/g/data/oi10/replicas/CMIP6/C4MIP/MIROC/MIROC-ES2L/esm-1pct-brch-1000PgC/r1i1p1f2/Amon/tas/gn/v20200622': '/g/data/oi10/replicas/CMIP6/C4MIP/MIROC/MIROC-ES2L/1pctCO2-bgc/r1i1p1f2/Amon/tas/gn/v20191129/tas_Amon_MIROC-ES2L_1pctCO2-bgc_r1i1p1f2_gn_185001-199912.nc'},\n",
      " {'/g/data/oi10/replicas/CMIP6/C4MIP/MOHC/UKESM1-0-LL/esm-1pct-brch-1000PgC/r1i1p1f2/Amon/tas/gn/v20200210': '/g/data/oi10/replicas/CMIP6/C4MIP/MOHC/UKESM1-0-LL/1pctCO2-bgc/r1i1p1f2/Amon/tas/gn/v20190723/tas_Amon_UKESM1-0-LL_1pctCO2-bgc_r1i1p1f2_gn_195001-199912.nc'},\n",
      " {'/g/data/oi10/replicas/CMIP6/C4MIP/MPI-M/MPI-ESM1-2-LR/esm-1pct-brch-1000PgC/r1i1p1f1/Amon/tas/gn/v20190815': '/g/data/oi10/replicas/CMIP6/C4MIP/MPI-M/MPI-ESM1-2-LR/1pctCO2-bgc/r1i1p1f1/Amon/tas/gn/v20190710/tas_Amon_MPI-ESM1-2-LR_1pctCO2-bgc_r1i1p1f1_gn_193001-194912.nc'},\n",
      " {'/g/data/oi10/replicas/CMIP6/C4MIP/NCAR/CESM2/esm-1pct-brch-1000PgC/r1i1p1f1/Amon/tas/gn/v20191119': '/g/data/oi10/replicas/CMIP6/C4MIP/NCAR/CESM2/1pctCO2-bgc/r1i1p1f1/Amon/tas/gn/v20190724/tas_Amon_CESM2_1pctCO2-bgc_r1i1p1f1_gn_005101-010012.nc'},\n",
      " {'/g/data/oi10/replicas/CMIP6/C4MIP/NOAA-GFDL/GFDL-ESM4/esm-1pct-brch-1000PgC/r1i1p1f1/Amon/tas/gr1/v20180701': '/g/data/oi10/replicas/CMIP6/C4MIP/NOAA-GFDL/GFDL-ESM4/1pctCO2-bgc/r1i1p1f1/Amon/tas/gr1/v20180701/tas_Amon_GFDL-ESM4_1pctCO2-bgc_r1i1p1f1_gr1_010101-015012.nc'}]\n"
     ]
    }
   ],
   "source": [
    "pprint(path_matches)"
   ]
  },
  {
   "cell_type": "code",
   "execution_count": 92,
   "id": "3b9a32e1-5b3c-4b32-9469-d6f29ed2e870",
   "metadata": {
    "tags": []
   },
   "outputs": [
    {
     "name": "stdout",
     "output_type": "stream",
     "text": [
      "Attemping to find model='CanESM5' and ensemble_member='r1i1p2f1'\n",
      "No match found\n",
      "Attemping to find model='CanESM5' and ensemble_member='r2i1p2f1'\n",
      "No match found\n",
      "Attemping to find model='CanESM5' and ensemble_member='r3i1p2f1'\n",
      "No match found\n",
      "Attemping to find model='CanESM5' and ensemble_member='r4i1p2f1'\n",
      "No match found\n",
      "Attemping to find model='CanESM5' and ensemble_member='r5i1p2f1'\n",
      "No match found\n",
      "Attemping to find model='MIROC-ES2L' and ensemble_member='r1i1p1f2'\n",
      "Attemping to find model='UKESM1-0-LL' and ensemble_member='r1i1p1f2'\n",
      "Attemping to find model='UKESM1-0-LL' and ensemble_member='r2i1p1f2'\n",
      "No match found\n",
      "Attemping to find model='UKESM1-0-LL' and ensemble_member='r3i1p1f2'\n",
      "No match found\n",
      "Attemping to find model='UKESM1-0-LL' and ensemble_member='r4i1p1f2'\n",
      "No match found\n",
      "Attemping to find model='MPI-ESM1-2-LR' and ensemble_member='r1i1p1f1'\n",
      "Attemping to find model='GISS-E2-1-G-CC' and ensemble_member='r1i1p1f1'\n",
      "No match found\n",
      "Attemping to find model='CESM2' and ensemble_member='r1i1p1f1'\n",
      "Attemping to find model='NorESM2-LM' and ensemble_member='r1i1p1f1'\n",
      "No match found\n",
      "Attemping to find model='GFDL-ESM4' and ensemble_member='r1i1p1f1'\n"
     ]
    }
   ],
   "source": [
    "path_matches = []\n",
    "for fpath in base_fpaths_1000PgC:\n",
    "    match = zecmip_open_matching_path(fpath, fpaths_dict['1pct_bgc'][variable])\n",
    "    if isinstance(match, str): path_matches.append({fpath:match})"
   ]
  },
  {
   "cell_type": "code",
   "execution_count": 62,
   "id": "1dddc271-e3b7-409d-aff4-3c22e4bc79bb",
   "metadata": {
    "tags": []
   },
   "outputs": [
    {
     "data": {
      "text/plain": [
       "[{'/g/data/oi10/replicas/CMIP6/C4MIP/CCCma/CanESM5/esm-1pct-brch-1000PgC/r1i1p2f1/Amon/tas/gn/v20190429': nan},\n",
       " {'/g/data/oi10/replicas/CMIP6/C4MIP/CCCma/CanESM5/esm-1pct-brch-1000PgC/r2i1p2f1/Amon/tas/gn/v20190429': nan},\n",
       " {'/g/data/oi10/replicas/CMIP6/C4MIP/CCCma/CanESM5/esm-1pct-brch-1000PgC/r3i1p2f1/Amon/tas/gn/v20190429': nan},\n",
       " {'/g/data/oi10/replicas/CMIP6/C4MIP/CCCma/CanESM5/esm-1pct-brch-1000PgC/r4i1p2f1/Amon/tas/gn/v20190429': nan},\n",
       " {'/g/data/oi10/replicas/CMIP6/C4MIP/CCCma/CanESM5/esm-1pct-brch-1000PgC/r5i1p2f1/Amon/tas/gn/v20190429': nan},\n",
       " {'/g/data/oi10/replicas/CMIP6/C4MIP/MIROC/MIROC-ES2L/esm-1pct-brch-1000PgC/r1i1p1f2/Amon/tas/gn/v20200622': nan},\n",
       " {'/g/data/oi10/replicas/CMIP6/C4MIP/MOHC/UKESM1-0-LL/esm-1pct-brch-1000PgC/r1i1p1f2/Amon/tas/gn/v20200210': nan},\n",
       " {'/g/data/oi10/replicas/CMIP6/C4MIP/MOHC/UKESM1-0-LL/esm-1pct-brch-1000PgC/r2i1p1f2/Amon/tas/gn/v20200106': nan},\n",
       " {'/g/data/oi10/replicas/CMIP6/C4MIP/MOHC/UKESM1-0-LL/esm-1pct-brch-1000PgC/r3i1p1f2/Amon/tas/gn/v20200929': nan},\n",
       " {'/g/data/oi10/replicas/CMIP6/C4MIP/MOHC/UKESM1-0-LL/esm-1pct-brch-1000PgC/r4i1p1f2/Amon/tas/gn/v20200708': nan},\n",
       " {'/g/data/oi10/replicas/CMIP6/C4MIP/MPI-M/MPI-ESM1-2-LR/esm-1pct-brch-1000PgC/r1i1p1f1/Amon/tas/gn/v20190815': nan},\n",
       " {'/g/data/oi10/replicas/CMIP6/C4MIP/NASA-GISS/GISS-E2-1-G-CC/esm-1pct-brch-1000PgC/r1i1p1f1/Amon/tas/gn/v20191202': nan},\n",
       " {'/g/data/oi10/replicas/CMIP6/C4MIP/NCAR/CESM2/esm-1pct-brch-1000PgC/r1i1p1f1/Amon/tas/gn/v20191119': nan},\n",
       " {'/g/data/oi10/replicas/CMIP6/C4MIP/NCC/NorESM2-LM/esm-1pct-brch-1000PgC/r1i1p1f1/Amon/tas/gn/v20191108': nan},\n",
       " {'/g/data/oi10/replicas/CMIP6/C4MIP/NOAA-GFDL/GFDL-ESM4/esm-1pct-brch-1000PgC/r1i1p1f1/Amon/tas/gr1/v20180701': nan}]"
      ]
     },
     "execution_count": 62,
     "metadata": {},
     "output_type": "execute_result"
    }
   ],
   "source": [
    "path_matches"
   ]
  },
  {
   "cell_type": "code",
   "execution_count": 61,
   "id": "1ed3614d-873e-49a5-a282-0a4d875b7aa1",
   "metadata": {
    "tags": []
   },
   "outputs": [
    {
     "name": "stdout",
     "output_type": "stream",
     "text": [
      "Attempting to open matching path for:\n",
      "/g/data/oi10/replicas/CMIP6/C4MIP/CCCma/CanESM5/esm-1pct-brch-1000PgC/r1i1p2f1/Amon/tas/gn/v20190429\n",
      "Attempting to open matching path for:\n",
      "/g/data/oi10/replicas/CMIP6/C4MIP/CCCma/CanESM5/esm-1pct-brch-1000PgC/r2i1p2f1/Amon/tas/gn/v20190429\n",
      "Attempting to open matching path for:\n",
      "/g/data/oi10/replicas/CMIP6/C4MIP/CCCma/CanESM5/esm-1pct-brch-1000PgC/r3i1p2f1/Amon/tas/gn/v20190429\n",
      "Attempting to open matching path for:\n",
      "/g/data/oi10/replicas/CMIP6/C4MIP/CCCma/CanESM5/esm-1pct-brch-1000PgC/r4i1p2f1/Amon/tas/gn/v20190429\n",
      "Attempting to open matching path for:\n",
      "/g/data/oi10/replicas/CMIP6/C4MIP/CCCma/CanESM5/esm-1pct-brch-1000PgC/r5i1p2f1/Amon/tas/gn/v20190429\n",
      "Attempting to open matching path for:\n",
      "/g/data/oi10/replicas/CMIP6/C4MIP/MIROC/MIROC-ES2L/esm-1pct-brch-1000PgC/r1i1p1f2/Amon/tas/gn/v20200622\n",
      "Attempting to open matching path for:\n",
      "/g/data/oi10/replicas/CMIP6/C4MIP/MOHC/UKESM1-0-LL/esm-1pct-brch-1000PgC/r1i1p1f2/Amon/tas/gn/v20200210\n",
      "Attempting to open matching path for:\n",
      "/g/data/oi10/replicas/CMIP6/C4MIP/MOHC/UKESM1-0-LL/esm-1pct-brch-1000PgC/r2i1p1f2/Amon/tas/gn/v20200106\n",
      "Attempting to open matching path for:\n",
      "/g/data/oi10/replicas/CMIP6/C4MIP/MOHC/UKESM1-0-LL/esm-1pct-brch-1000PgC/r3i1p1f2/Amon/tas/gn/v20200929\n",
      "Attempting to open matching path for:\n",
      "/g/data/oi10/replicas/CMIP6/C4MIP/MOHC/UKESM1-0-LL/esm-1pct-brch-1000PgC/r4i1p1f2/Amon/tas/gn/v20200708\n",
      "Attempting to open matching path for:\n",
      "/g/data/oi10/replicas/CMIP6/C4MIP/MPI-M/MPI-ESM1-2-LR/esm-1pct-brch-1000PgC/r1i1p1f1/Amon/tas/gn/v20190815\n",
      "Attempting to open matching path for:\n",
      "/g/data/oi10/replicas/CMIP6/C4MIP/NASA-GISS/GISS-E2-1-G-CC/esm-1pct-brch-1000PgC/r1i1p1f1/Amon/tas/gn/v20191202\n",
      "Attempting to open matching path for:\n",
      "/g/data/oi10/replicas/CMIP6/C4MIP/NCAR/CESM2/esm-1pct-brch-1000PgC/r1i1p1f1/Amon/tas/gn/v20191119\n",
      "Attempting to open matching path for:\n",
      "/g/data/oi10/replicas/CMIP6/C4MIP/NCC/NorESM2-LM/esm-1pct-brch-1000PgC/r1i1p1f1/Amon/tas/gn/v20191108\n",
      "Attempting to open matching path for:\n",
      "/g/data/oi10/replicas/CMIP6/C4MIP/NOAA-GFDL/GFDL-ESM4/esm-1pct-brch-1000PgC/r1i1p1f1/Amon/tas/gr1/v20180701\n"
     ]
    }
   ],
   "source": [
    "path_matches = []\n",
    "for fpath in base_fpaths_1000PgC:\n",
    "    match = zecmip_open_matching_path(fpath, fpaths_dict['picontrol'][variable], 'piControl')\n",
    "    path_matches.append({fpath:match})"
   ]
  },
  {
   "cell_type": "code",
   "execution_count": 42,
   "id": "735c247f",
   "metadata": {
    "tags": []
   },
   "outputs": [
    {
     "data": {
      "text/plain": [
       "array(['/g/data/oi10/replicas/CMIP6/C4MIP/CCCma/CanESM5/esm-1pct-brch-1000PgC',\n",
       "       '/g/data/oi10/replicas/CMIP6/C4MIP/MIROC/MIROC-ES2L/esm-1pct-brch-1000PgC',\n",
       "       '/g/data/oi10/replicas/CMIP6/C4MIP/MOHC/UKESM1-0-LL/esm-1pct-brch-1000PgC',\n",
       "       '/g/data/oi10/replicas/CMIP6/C4MIP/MPI-M/MPI-ESM1-2-LR/esm-1pct-brch-1000PgC',\n",
       "       '/g/data/oi10/replicas/CMIP6/C4MIP/NASA-GISS/GISS-E2-1-G-CC/esm-1pct-brch-1000PgC',\n",
       "       '/g/data/oi10/replicas/CMIP6/C4MIP/NCAR/CESM2/esm-1pct-brch-1000PgC',\n",
       "       '/g/data/oi10/replicas/CMIP6/C4MIP/NCC/NorESM2-LM/esm-1pct-brch-1000PgC',\n",
       "       '/g/data/oi10/replicas/CMIP6/C4MIP/NOAA-GFDL/GFDL-ESM4/esm-1pct-brch-1000PgC'],\n",
       "      dtype='<U80')"
      ]
     },
     "execution_count": 42,
     "metadata": {},
     "output_type": "execute_result"
    }
   ],
   "source": [
    "# These are all of the base models - models may have different experminents (r1i1p2f1, r2i1p2f1)\n",
    "base_group = np.unique(['/'.join(f.split('/')[:10])  for f in base_fpaths_1000PgC])\n",
    "base_group"
   ]
  },
  {
   "cell_type": "code",
   "execution_count": 43,
   "id": "21bf7713",
   "metadata": {
    "tags": []
   },
   "outputs": [
    {
     "data": {
      "text/plain": [
       "['/g/data/oi10/replicas/CMIP6/C4MIP/CCCma/CanESM5/esm-1pct-brch-1000PgC/r1i1p2f1/Amon/tas/gn/v20190429',\n",
       " '/g/data/oi10/replicas/CMIP6/C4MIP/MIROC/MIROC-ES2L/esm-1pct-brch-1000PgC/r1i1p1f2/Amon/tas/gn/v20200622',\n",
       " '/g/data/oi10/replicas/CMIP6/C4MIP/MOHC/UKESM1-0-LL/esm-1pct-brch-1000PgC/r1i1p1f2/Amon/tas/gn/v20200210',\n",
       " '/g/data/oi10/replicas/CMIP6/C4MIP/MPI-M/MPI-ESM1-2-LR/esm-1pct-brch-1000PgC/r1i1p1f1/Amon/tas/gn/v20190815',\n",
       " '/g/data/oi10/replicas/CMIP6/C4MIP/NASA-GISS/GISS-E2-1-G-CC/esm-1pct-brch-1000PgC/r1i1p1f1/Amon/tas/gn/v20191202',\n",
       " '/g/data/oi10/replicas/CMIP6/C4MIP/NCAR/CESM2/esm-1pct-brch-1000PgC/r1i1p1f1/Amon/tas/gn/v20191119',\n",
       " '/g/data/oi10/replicas/CMIP6/C4MIP/NCC/NorESM2-LM/esm-1pct-brch-1000PgC/r1i1p1f1/Amon/tas/gn/v20191108',\n",
       " '/g/data/oi10/replicas/CMIP6/C4MIP/NOAA-GFDL/GFDL-ESM4/esm-1pct-brch-1000PgC/r1i1p1f1/Amon/tas/gr1/v20180701']"
      ]
     },
     "execution_count": 43,
     "metadata": {},
     "output_type": "execute_result"
    }
   ],
   "source": [
    "# Get one experiment for each modelling group\n",
    "needed_experiments = []\n",
    "# Looping through all the base paths\n",
    "for base_group_single in base_group:\n",
    "    \n",
    "    # All the experiments that have this base path\n",
    "    experiments = [f for f in base_fpaths_1000PgC if base_group_single in f]\n",
    "    # Get just the first one available\n",
    "    needed_experiments.append(experiments[0])\n",
    "    \n",
    "needed_experiments"
   ]
  },
  {
   "cell_type": "markdown",
   "id": "c9030b7c-9ca1-407d-bb25-71855c1697b3",
   "metadata": {},
   "source": [
    "# Old"
   ]
  },
  {
   "cell_type": "code",
   "execution_count": 12,
   "id": "77ed6d81",
   "metadata": {
    "tags": []
   },
   "outputs": [
    {
     "data": {
      "text/plain": [
       "{'CanESM5': '/g/data/oi10/replicas/CMIP6/C4MIP/CCCma/CanESM5/esm-1pct-brch-1000PgC/r1i1p2f1/Amon/tas/gn/v20190429',\n",
       " 'MIROC-ES2L': '/g/data/oi10/replicas/CMIP6/C4MIP/MIROC/MIROC-ES2L/esm-1pct-brch-1000PgC/r1i1p1f2/Amon/tas/gn/v20200622',\n",
       " 'UKESM1-0-LL': '/g/data/oi10/replicas/CMIP6/C4MIP/MOHC/UKESM1-0-LL/esm-1pct-brch-1000PgC/r1i1p1f2/Amon/tas/gn/v20200210',\n",
       " 'MPI-ESM1-2-LR': '/g/data/oi10/replicas/CMIP6/C4MIP/MPI-M/MPI-ESM1-2-LR/esm-1pct-brch-1000PgC/r1i1p1f1/Amon/tas/gn/v20190815',\n",
       " 'GISS-E2-1-G-CC': '/g/data/oi10/replicas/CMIP6/C4MIP/NASA-GISS/GISS-E2-1-G-CC/esm-1pct-brch-1000PgC/r1i1p1f1/Amon/tas/gn/v20191202',\n",
       " 'CESM2': '/g/data/oi10/replicas/CMIP6/C4MIP/NCAR/CESM2/esm-1pct-brch-1000PgC/r1i1p1f1/Amon/tas/gn/v20191119',\n",
       " 'NorESM2-LM': '/g/data/oi10/replicas/CMIP6/C4MIP/NCC/NorESM2-LM/esm-1pct-brch-1000PgC/r1i1p1f1/Amon/tas/gn/v20191108',\n",
       " 'GFDL-ESM4': '/g/data/oi10/replicas/CMIP6/C4MIP/NOAA-GFDL/GFDL-ESM4/esm-1pct-brch-1000PgC/r1i1p1f1/Amon/tas/gr1/v20180701'}"
      ]
     },
     "execution_count": 12,
     "metadata": {},
     "output_type": "execute_result"
    }
   ],
   "source": [
    "needed_model_dict = {v.split('/')[8]:v for v in needed_experiments}\n",
    "needed_model_dict"
   ]
  },
  {
   "cell_type": "code",
   "execution_count": 13,
   "id": "30eba9f0",
   "metadata": {
    "tags": []
   },
   "outputs": [
    {
     "data": {
      "text/plain": [
       "dict_keys(['1000pgc', 'picontrol'])"
      ]
     },
     "execution_count": 13,
     "metadata": {},
     "output_type": "execute_result"
    }
   ],
   "source": [
    "zecmip_path_dict = {'1000pgc': {'all': unique_1000PgC_paths.tolist(), 'needed': needed_model_dict}\n",
    "                    , 'picontrol': unique_picontrol_paths.tolist()}\n",
    "zecmip_path_dict.keys()"
   ]
  },
  {
   "cell_type": "code",
   "execution_count": 15,
   "id": "505c422a-6834-44a2-bcac-48f0ce84e85d",
   "metadata": {
    "tags": []
   },
   "outputs": [
    {
     "name": "stdout",
     "output_type": "stream",
     "text": [
      "{'1000pgc': {'all': ['/g/data/oi10/replicas/CMIP6/C4MIP/CCCma/CanESM5/esm-1pct-brch-1000PgC/r1i1p2f1/Amon/co2/gn/v20190429',\n",
      "                     '/g/data/oi10/replicas/CMIP6/C4MIP/CCCma/CanESM5/esm-1pct-brch-1000PgC/r1i1p2f1/Amon/pr/gn/v20190429',\n",
      "                     '/g/data/oi10/replicas/CMIP6/C4MIP/CCCma/CanESM5/esm-1pct-brch-1000PgC/r1i1p2f1/Amon/tas/gn/v20190429',\n",
      "                     '/g/data/oi10/replicas/CMIP6/C4MIP/CCCma/CanESM5/esm-1pct-brch-1000PgC/r1i1p2f1/Lmon/mrso/gn/v20190429',\n",
      "                     '/g/data/oi10/replicas/CMIP6/C4MIP/CCCma/CanESM5/esm-1pct-brch-1000PgC/r1i1p2f1/Omon/tos/gn/v20190429',\n",
      "                     '/g/data/oi10/replicas/CMIP6/C4MIP/CCCma/CanESM5/esm-1pct-brch-1000PgC/r1i1p2f1/day/pr/gn/v20190429',\n",
      "                     '/g/data/oi10/replicas/CMIP6/C4MIP/CCCma/CanESM5/esm-1pct-brch-1000PgC/r1i1p2f1/day/tas/gn/v20190429',\n",
      "                     '/g/data/oi10/replicas/CMIP6/C4MIP/CCCma/CanESM5/esm-1pct-brch-1000PgC/r1i1p2f1/day/tasmax/gn/v20190429',\n",
      "                     '/g/data/oi10/replicas/CMIP6/C4MIP/CCCma/CanESM5/esm-1pct-brch-1000PgC/r2i1p2f1/Amon/pr/gn/v20190429',\n",
      "                     '/g/data/oi10/replicas/CMIP6/C4MIP/CCCma/CanESM5/esm-1pct-brch-1000PgC/r2i1p2f1/Amon/tas/gn/v20190429',\n",
      "                     '/g/data/oi10/replicas/CMIP6/C4MIP/CCCma/CanESM5/esm-1pct-brch-1000PgC/r2i1p2f1/Lmon/mrso/gn/v20190429',\n",
      "                     '/g/data/oi10/replicas/CMIP6/C4MIP/CCCma/CanESM5/esm-1pct-brch-1000PgC/r2i1p2f1/Omon/tos/gn/v20190429',\n",
      "                     '/g/data/oi10/replicas/CMIP6/C4MIP/CCCma/CanESM5/esm-1pct-brch-1000PgC/r2i1p2f1/day/pr/gn/v20190429',\n",
      "                     '/g/data/oi10/replicas/CMIP6/C4MIP/CCCma/CanESM5/esm-1pct-brch-1000PgC/r2i1p2f1/day/tas/gn/v20190429',\n",
      "                     '/g/data/oi10/replicas/CMIP6/C4MIP/CCCma/CanESM5/esm-1pct-brch-1000PgC/r2i1p2f1/day/tasmax/gn/v20190429',\n",
      "                     '/g/data/oi10/replicas/CMIP6/C4MIP/CCCma/CanESM5/esm-1pct-brch-1000PgC/r3i1p2f1/Amon/pr/gn/v20190429',\n",
      "                     '/g/data/oi10/replicas/CMIP6/C4MIP/CCCma/CanESM5/esm-1pct-brch-1000PgC/r3i1p2f1/Amon/tas/gn/v20190429',\n",
      "                     '/g/data/oi10/replicas/CMIP6/C4MIP/CCCma/CanESM5/esm-1pct-brch-1000PgC/r3i1p2f1/Lmon/mrso/gn/v20190429',\n",
      "                     '/g/data/oi10/replicas/CMIP6/C4MIP/CCCma/CanESM5/esm-1pct-brch-1000PgC/r3i1p2f1/Omon/tos/gn/v20190429',\n",
      "                     '/g/data/oi10/replicas/CMIP6/C4MIP/CCCma/CanESM5/esm-1pct-brch-1000PgC/r3i1p2f1/day/pr/gn/v20190429',\n",
      "                     '/g/data/oi10/replicas/CMIP6/C4MIP/CCCma/CanESM5/esm-1pct-brch-1000PgC/r3i1p2f1/day/tas/gn/v20190429',\n",
      "                     '/g/data/oi10/replicas/CMIP6/C4MIP/CCCma/CanESM5/esm-1pct-brch-1000PgC/r3i1p2f1/day/tasmax/gn/v20190429',\n",
      "                     '/g/data/oi10/replicas/CMIP6/C4MIP/CCCma/CanESM5/esm-1pct-brch-1000PgC/r4i1p2f1/Amon/pr/gn/v20190429',\n",
      "                     '/g/data/oi10/replicas/CMIP6/C4MIP/CCCma/CanESM5/esm-1pct-brch-1000PgC/r4i1p2f1/Amon/tas/gn/v20190429',\n",
      "                     '/g/data/oi10/replicas/CMIP6/C4MIP/CCCma/CanESM5/esm-1pct-brch-1000PgC/r4i1p2f1/Lmon/mrso/gn/v20190429',\n",
      "                     '/g/data/oi10/replicas/CMIP6/C4MIP/CCCma/CanESM5/esm-1pct-brch-1000PgC/r4i1p2f1/Omon/tos/gn/v20190429',\n",
      "                     '/g/data/oi10/replicas/CMIP6/C4MIP/CCCma/CanESM5/esm-1pct-brch-1000PgC/r4i1p2f1/day/pr/gn/v20190429',\n",
      "                     '/g/data/oi10/replicas/CMIP6/C4MIP/CCCma/CanESM5/esm-1pct-brch-1000PgC/r4i1p2f1/day/tas/gn/v20190429',\n",
      "                     '/g/data/oi10/replicas/CMIP6/C4MIP/CCCma/CanESM5/esm-1pct-brch-1000PgC/r4i1p2f1/day/tasmax/gn/v20190429',\n",
      "                     '/g/data/oi10/replicas/CMIP6/C4MIP/CCCma/CanESM5/esm-1pct-brch-1000PgC/r5i1p2f1/Amon/pr/gn/v20190429',\n",
      "                     '/g/data/oi10/replicas/CMIP6/C4MIP/CCCma/CanESM5/esm-1pct-brch-1000PgC/r5i1p2f1/Amon/tas/gn/v20190429',\n",
      "                     '/g/data/oi10/replicas/CMIP6/C4MIP/CCCma/CanESM5/esm-1pct-brch-1000PgC/r5i1p2f1/Lmon/mrso/gn/v20190429',\n",
      "                     '/g/data/oi10/replicas/CMIP6/C4MIP/CCCma/CanESM5/esm-1pct-brch-1000PgC/r5i1p2f1/Omon/tos/gn/v20190429',\n",
      "                     '/g/data/oi10/replicas/CMIP6/C4MIP/CCCma/CanESM5/esm-1pct-brch-1000PgC/r5i1p2f1/day/pr/gn/v20190429',\n",
      "                     '/g/data/oi10/replicas/CMIP6/C4MIP/CCCma/CanESM5/esm-1pct-brch-1000PgC/r5i1p2f1/day/tas/gn/v20190429',\n",
      "                     '/g/data/oi10/replicas/CMIP6/C4MIP/CCCma/CanESM5/esm-1pct-brch-1000PgC/r5i1p2f1/day/tasmax/gn/v20190429',\n",
      "                     '/g/data/oi10/replicas/CMIP6/C4MIP/MIROC/MIROC-ES2L/esm-1pct-brch-1000PgC/r1i1p1f2/AERmon/co2/gn/v20200622',\n",
      "                     '/g/data/oi10/replicas/CMIP6/C4MIP/MIROC/MIROC-ES2L/esm-1pct-brch-1000PgC/r1i1p1f2/Amon/pr/gn/v20200622',\n",
      "                     '/g/data/oi10/replicas/CMIP6/C4MIP/MIROC/MIROC-ES2L/esm-1pct-brch-1000PgC/r1i1p1f2/Amon/tas/gn/v20200622',\n",
      "                     '/g/data/oi10/replicas/CMIP6/C4MIP/MIROC/MIROC-ES2L/esm-1pct-brch-1000PgC/r1i1p1f2/Lmon/mrso/gn/v20200622',\n",
      "                     '/g/data/oi10/replicas/CMIP6/C4MIP/MIROC/MIROC-ES2L/esm-1pct-brch-1000PgC/r1i1p1f2/Omon/tos/gn/v20200622',\n",
      "                     '/g/data/oi10/replicas/CMIP6/C4MIP/MIROC/MIROC-ES2L/esm-1pct-brch-1000PgC/r1i1p1f2/Omon/tos/gr1/v20200731',\n",
      "                     '/g/data/oi10/replicas/CMIP6/C4MIP/MIROC/MIROC-ES2L/esm-1pct-brch-1000PgC/r1i1p1f2/day/pr/gn/v20220506',\n",
      "                     '/g/data/oi10/replicas/CMIP6/C4MIP/MIROC/MIROC-ES2L/esm-1pct-brch-1000PgC/r1i1p1f2/day/tas/gn/v20220506',\n",
      "                     '/g/data/oi10/replicas/CMIP6/C4MIP/MIROC/MIROC-ES2L/esm-1pct-brch-1000PgC/r1i1p1f2/day/tasmax/gn/v20220506',\n",
      "                     '/g/data/oi10/replicas/CMIP6/C4MIP/MOHC/UKESM1-0-LL/esm-1pct-brch-1000PgC/r1i1p1f2/Amon/pr/gn/v20200210',\n",
      "                     '/g/data/oi10/replicas/CMIP6/C4MIP/MOHC/UKESM1-0-LL/esm-1pct-brch-1000PgC/r1i1p1f2/Amon/tas/gn/v20200210',\n",
      "                     '/g/data/oi10/replicas/CMIP6/C4MIP/MOHC/UKESM1-0-LL/esm-1pct-brch-1000PgC/r1i1p1f2/Lmon/mrso/gn/v20200210',\n",
      "                     '/g/data/oi10/replicas/CMIP6/C4MIP/MOHC/UKESM1-0-LL/esm-1pct-brch-1000PgC/r1i1p1f2/Omon/tos/gn/v20200210',\n",
      "                     '/g/data/oi10/replicas/CMIP6/C4MIP/MOHC/UKESM1-0-LL/esm-1pct-brch-1000PgC/r1i1p1f2/day/pr/gn/v20200210',\n",
      "                     '/g/data/oi10/replicas/CMIP6/C4MIP/MOHC/UKESM1-0-LL/esm-1pct-brch-1000PgC/r1i1p1f2/day/tas/gn/v20200210',\n",
      "                     '/g/data/oi10/replicas/CMIP6/C4MIP/MOHC/UKESM1-0-LL/esm-1pct-brch-1000PgC/r1i1p1f2/day/tasmax/gn/v20200210',\n",
      "                     '/g/data/oi10/replicas/CMIP6/C4MIP/MOHC/UKESM1-0-LL/esm-1pct-brch-1000PgC/r2i1p1f2/Amon/pr/gn/v20200106',\n",
      "                     '/g/data/oi10/replicas/CMIP6/C4MIP/MOHC/UKESM1-0-LL/esm-1pct-brch-1000PgC/r2i1p1f2/Amon/tas/gn/v20200106',\n",
      "                     '/g/data/oi10/replicas/CMIP6/C4MIP/MOHC/UKESM1-0-LL/esm-1pct-brch-1000PgC/r2i1p1f2/Lmon/mrso/gn/v20200106',\n",
      "                     '/g/data/oi10/replicas/CMIP6/C4MIP/MOHC/UKESM1-0-LL/esm-1pct-brch-1000PgC/r2i1p1f2/Omon/tos/gn/v20200929',\n",
      "                     '/g/data/oi10/replicas/CMIP6/C4MIP/MOHC/UKESM1-0-LL/esm-1pct-brch-1000PgC/r2i1p1f2/day/pr/gn/v20200106',\n",
      "                     '/g/data/oi10/replicas/CMIP6/C4MIP/MOHC/UKESM1-0-LL/esm-1pct-brch-1000PgC/r2i1p1f2/day/tas/gn/v20200106',\n",
      "                     '/g/data/oi10/replicas/CMIP6/C4MIP/MOHC/UKESM1-0-LL/esm-1pct-brch-1000PgC/r2i1p1f2/day/tasmax/gn/v20200106',\n",
      "                     '/g/data/oi10/replicas/CMIP6/C4MIP/MOHC/UKESM1-0-LL/esm-1pct-brch-1000PgC/r3i1p1f2/Amon/pr/gn/v20200929',\n",
      "                     '/g/data/oi10/replicas/CMIP6/C4MIP/MOHC/UKESM1-0-LL/esm-1pct-brch-1000PgC/r3i1p1f2/Amon/tas/gn/v20200929',\n",
      "                     '/g/data/oi10/replicas/CMIP6/C4MIP/MOHC/UKESM1-0-LL/esm-1pct-brch-1000PgC/r3i1p1f2/Lmon/mrso/gn/v20200929',\n",
      "                     '/g/data/oi10/replicas/CMIP6/C4MIP/MOHC/UKESM1-0-LL/esm-1pct-brch-1000PgC/r3i1p1f2/Omon/tos/gn/v20200929',\n",
      "                     '/g/data/oi10/replicas/CMIP6/C4MIP/MOHC/UKESM1-0-LL/esm-1pct-brch-1000PgC/r3i1p1f2/day/pr/gn/v20200929',\n",
      "                     '/g/data/oi10/replicas/CMIP6/C4MIP/MOHC/UKESM1-0-LL/esm-1pct-brch-1000PgC/r3i1p1f2/day/tas/gn/v20200929',\n",
      "                     '/g/data/oi10/replicas/CMIP6/C4MIP/MOHC/UKESM1-0-LL/esm-1pct-brch-1000PgC/r3i1p1f2/day/tasmax/gn/v20200929',\n",
      "                     '/g/data/oi10/replicas/CMIP6/C4MIP/MOHC/UKESM1-0-LL/esm-1pct-brch-1000PgC/r4i1p1f2/Amon/pr/gn/v20200708',\n",
      "                     '/g/data/oi10/replicas/CMIP6/C4MIP/MOHC/UKESM1-0-LL/esm-1pct-brch-1000PgC/r4i1p1f2/Amon/tas/gn/v20200708',\n",
      "                     '/g/data/oi10/replicas/CMIP6/C4MIP/MOHC/UKESM1-0-LL/esm-1pct-brch-1000PgC/r4i1p1f2/Lmon/mrso/gn/v20200708',\n",
      "                     '/g/data/oi10/replicas/CMIP6/C4MIP/MOHC/UKESM1-0-LL/esm-1pct-brch-1000PgC/r4i1p1f2/Omon/tos/gn/v20200708',\n",
      "                     '/g/data/oi10/replicas/CMIP6/C4MIP/MOHC/UKESM1-0-LL/esm-1pct-brch-1000PgC/r4i1p1f2/day/pr/gn/v20200708',\n",
      "                     '/g/data/oi10/replicas/CMIP6/C4MIP/MOHC/UKESM1-0-LL/esm-1pct-brch-1000PgC/r4i1p1f2/day/tas/gn/v20200708',\n",
      "                     '/g/data/oi10/replicas/CMIP6/C4MIP/MOHC/UKESM1-0-LL/esm-1pct-brch-1000PgC/r4i1p1f2/day/tasmax/gn/v20200708',\n",
      "                     '/g/data/oi10/replicas/CMIP6/C4MIP/MPI-M/MPI-ESM1-2-LR/esm-1pct-brch-1000PgC/r1i1p1f1/Amon/co2/gn/v20190815',\n",
      "                     '/g/data/oi10/replicas/CMIP6/C4MIP/MPI-M/MPI-ESM1-2-LR/esm-1pct-brch-1000PgC/r1i1p1f1/Amon/pr/gn/v20190815',\n",
      "                     '/g/data/oi10/replicas/CMIP6/C4MIP/MPI-M/MPI-ESM1-2-LR/esm-1pct-brch-1000PgC/r1i1p1f1/Amon/tas/gn/v20190815',\n",
      "                     '/g/data/oi10/replicas/CMIP6/C4MIP/MPI-M/MPI-ESM1-2-LR/esm-1pct-brch-1000PgC/r1i1p1f1/Lmon/mrso/gn/v20190815',\n",
      "                     '/g/data/oi10/replicas/CMIP6/C4MIP/MPI-M/MPI-ESM1-2-LR/esm-1pct-brch-1000PgC/r1i1p1f1/Omon/tos/gn/v20190815',\n",
      "                     '/g/data/oi10/replicas/CMIP6/C4MIP/MPI-M/MPI-ESM1-2-LR/esm-1pct-brch-1000PgC/r1i1p1f1/day/pr/gn/v20190815',\n",
      "                     '/g/data/oi10/replicas/CMIP6/C4MIP/MPI-M/MPI-ESM1-2-LR/esm-1pct-brch-1000PgC/r1i1p1f1/day/tasmax/gn/v20190815',\n",
      "                     '/g/data/oi10/replicas/CMIP6/C4MIP/NASA-GISS/GISS-E2-1-G-CC/esm-1pct-brch-1000PgC/r1i1p1f1/Amon/pr/gn/v20191202',\n",
      "                     '/g/data/oi10/replicas/CMIP6/C4MIP/NASA-GISS/GISS-E2-1-G-CC/esm-1pct-brch-1000PgC/r1i1p1f1/Amon/tas/gn/v20191202',\n",
      "                     '/g/data/oi10/replicas/CMIP6/C4MIP/NASA-GISS/GISS-E2-1-G-CC/esm-1pct-brch-1000PgC/r1i1p1f1/Lmon/mrso/gn/v20191202',\n",
      "                     '/g/data/oi10/replicas/CMIP6/C4MIP/NASA-GISS/GISS-E2-1-G-CC/esm-1pct-brch-1000PgC/r1i1p1f1/Omon/tos/gn/v20191202',\n",
      "                     '/g/data/oi10/replicas/CMIP6/C4MIP/NCAR/CESM2/esm-1pct-brch-1000PgC/r1i1p1f1/Amon/co2/gn/v20191105',\n",
      "                     '/g/data/oi10/replicas/CMIP6/C4MIP/NCAR/CESM2/esm-1pct-brch-1000PgC/r1i1p1f1/Amon/pr/gn/v20191119',\n",
      "                     '/g/data/oi10/replicas/CMIP6/C4MIP/NCAR/CESM2/esm-1pct-brch-1000PgC/r1i1p1f1/Amon/tas/gn/v20191119',\n",
      "                     '/g/data/oi10/replicas/CMIP6/C4MIP/NCAR/CESM2/esm-1pct-brch-1000PgC/r1i1p1f1/Lmon/mrso/gn/v20191119',\n",
      "                     '/g/data/oi10/replicas/CMIP6/C4MIP/NCAR/CESM2/esm-1pct-brch-1000PgC/r1i1p1f1/Omon/tos/gn/v20191119',\n",
      "                     '/g/data/oi10/replicas/CMIP6/C4MIP/NCAR/CESM2/esm-1pct-brch-1000PgC/r1i1p1f1/Omon/tos/gr/v20191119',\n",
      "                     '/g/data/oi10/replicas/CMIP6/C4MIP/NCAR/CESM2/esm-1pct-brch-1000PgC/r1i1p1f1/day/pr/gn/v20191119',\n",
      "                     '/g/data/oi10/replicas/CMIP6/C4MIP/NCAR/CESM2/esm-1pct-brch-1000PgC/r1i1p1f1/day/tas/gn/v20191119',\n",
      "                     '/g/data/oi10/replicas/CMIP6/C4MIP/NCAR/CESM2/esm-1pct-brch-1000PgC/r1i1p1f1/day/tasmax/gn/v20191119',\n",
      "                     '/g/data/oi10/replicas/CMIP6/C4MIP/NCC/NorESM2-LM/esm-1pct-brch-1000PgC/r1i1p1f1/AERmon/co2/gn/v20191108',\n",
      "                     '/g/data/oi10/replicas/CMIP6/C4MIP/NCC/NorESM2-LM/esm-1pct-brch-1000PgC/r1i1p1f1/Amon/co2/gn/v20191108',\n",
      "                     '/g/data/oi10/replicas/CMIP6/C4MIP/NCC/NorESM2-LM/esm-1pct-brch-1000PgC/r1i1p1f1/Amon/tas/gn/v20191108',\n",
      "                     '/g/data/oi10/replicas/CMIP6/C4MIP/NCC/NorESM2-LM/esm-1pct-brch-1000PgC/r1i1p1f1/Lmon/mrso/gn/v20191108',\n",
      "                     '/g/data/oi10/replicas/CMIP6/C4MIP/NCC/NorESM2-LM/esm-1pct-brch-1000PgC/r1i1p1f1/Omon/tos/gn/v20191108',\n",
      "                     '/g/data/oi10/replicas/CMIP6/C4MIP/NCC/NorESM2-LM/esm-1pct-brch-1000PgC/r1i1p1f1/day/pr/gn/v20191108',\n",
      "                     '/g/data/oi10/replicas/CMIP6/C4MIP/NCC/NorESM2-LM/esm-1pct-brch-1000PgC/r1i1p1f1/day/tas/gn/v20191108',\n",
      "                     '/g/data/oi10/replicas/CMIP6/C4MIP/NCC/NorESM2-LM/esm-1pct-brch-1000PgC/r1i1p1f1/day/tasmax/gn/v20191108',\n",
      "                     '/g/data/oi10/replicas/CMIP6/C4MIP/NOAA-GFDL/GFDL-ESM4/esm-1pct-brch-1000PgC/r1i1p1f1/Amon/co2/gr1/v20180701',\n",
      "                     '/g/data/oi10/replicas/CMIP6/C4MIP/NOAA-GFDL/GFDL-ESM4/esm-1pct-brch-1000PgC/r1i1p1f1/Amon/tas/gr1/v20180701'],\n",
      "             'needed': {'CESM2': '/g/data/oi10/replicas/CMIP6/C4MIP/NCAR/CESM2/esm-1pct-brch-1000PgC/r1i1p1f1/Amon/tas/gn/v20191119',\n",
      "                        'CanESM5': '/g/data/oi10/replicas/CMIP6/C4MIP/CCCma/CanESM5/esm-1pct-brch-1000PgC/r1i1p2f1/Amon/tas/gn/v20190429',\n",
      "                        'GFDL-ESM4': '/g/data/oi10/replicas/CMIP6/C4MIP/NOAA-GFDL/GFDL-ESM4/esm-1pct-brch-1000PgC/r1i1p1f1/Amon/tas/gr1/v20180701',\n",
      "                        'GISS-E2-1-G-CC': '/g/data/oi10/replicas/CMIP6/C4MIP/NASA-GISS/GISS-E2-1-G-CC/esm-1pct-brch-1000PgC/r1i1p1f1/Amon/tas/gn/v20191202',\n",
      "                        'MIROC-ES2L': '/g/data/oi10/replicas/CMIP6/C4MIP/MIROC/MIROC-ES2L/esm-1pct-brch-1000PgC/r1i1p1f2/Amon/tas/gn/v20200622',\n",
      "                        'MPI-ESM1-2-LR': '/g/data/oi10/replicas/CMIP6/C4MIP/MPI-M/MPI-ESM1-2-LR/esm-1pct-brch-1000PgC/r1i1p1f1/Amon/tas/gn/v20190815',\n",
      "                        'NorESM2-LM': '/g/data/oi10/replicas/CMIP6/C4MIP/NCC/NorESM2-LM/esm-1pct-brch-1000PgC/r1i1p1f1/Amon/tas/gn/v20191108',\n",
      "                        'UKESM1-0-LL': '/g/data/oi10/replicas/CMIP6/C4MIP/MOHC/UKESM1-0-LL/esm-1pct-brch-1000PgC/r1i1p1f2/Amon/tas/gn/v20200210'}},\n",
      " 'picontrol': ['/g/data/oi10/replicas/CMIP6/CMIP/AS-RCEC/TaiESM1/piControl/r1i1p1f1/Amon/tas/gn/v20200211',\n",
      "               '/g/data/oi10/replicas/CMIP6/CMIP/AWI/AWI-CM-1-1-MR/piControl/r1i1p1f1/Amon/tas/gn/v20191015',\n",
      "               '/g/data/oi10/replicas/CMIP6/CMIP/AWI/AWI-ESM-1-1-LR/piControl/r1i1p1f1/Amon/tas/gn/v20200212',\n",
      "               '/g/data/oi10/replicas/CMIP6/CMIP/BCC/BCC-CSM2-MR/esm-piControl/r1i1p1f1/Amon/tas/gn/v20181114',\n",
      "               '/g/data/oi10/replicas/CMIP6/CMIP/BCC/BCC-CSM2-MR/piControl/r1i1p1f1/Amon/tas/gn/v20181016',\n",
      "               '/g/data/oi10/replicas/CMIP6/CMIP/BCC/BCC-ESM1/piControl/r1i1p1f1/Amon/tas/gn/v20181214',\n",
      "               '/g/data/oi10/replicas/CMIP6/CMIP/CAMS/CAMS-CSM1-0/piControl/r1i1p1f1/Amon/tas/gn/v20190729',\n",
      "               '/g/data/oi10/replicas/CMIP6/CMIP/CAS/CAS-ESM2-0/piControl/r1i1p1f1/Amon/tas/gn/v20201228',\n",
      "               '/g/data/oi10/replicas/CMIP6/CMIP/CAS/FGOALS-f3-L/piControl/r1i1p1f1/Amon/tas/gr/v20191029',\n",
      "               '/g/data/oi10/replicas/CMIP6/CMIP/CAS/FGOALS-g3/piControl/r1i1p1f1/Amon/tas/gn/v20190818',\n",
      "               '/g/data/oi10/replicas/CMIP6/CMIP/CCCR-IITM/IITM-ESM/piControl/r1i1p1f1/Amon/tas/gn/v20191120',\n",
      "               '/g/data/oi10/replicas/CMIP6/CMIP/CCCma/CanESM5-CanOE/piControl/r1i1p2f1/Amon/tas/gn/v20190429',\n",
      "               '/g/data/oi10/replicas/CMIP6/CMIP/CCCma/CanESM5/esm-piControl/r1i1p1f1/Amon/tas/gn/v20190429',\n",
      "               '/g/data/oi10/replicas/CMIP6/CMIP/CCCma/CanESM5/piControl/r1i1p1f1/Amon/tas/gn/v20190306',\n",
      "               '/g/data/oi10/replicas/CMIP6/CMIP/CCCma/CanESM5/piControl/r1i1p1f1/Amon/tas/gn/v20190429',\n",
      "               '/g/data/oi10/replicas/CMIP6/CMIP/CCCma/CanESM5/piControl/r1i1p2f1/Amon/tas/gn/v20190429',\n",
      "               '/g/data/oi10/replicas/CMIP6/CMIP/CMCC/CMCC-CM2-SR5/piControl/r1i1p1f1/Amon/tas/gn/v20200616',\n",
      "               '/g/data/oi10/replicas/CMIP6/CMIP/CMCC/CMCC-ESM2/piControl/r1i1p1f1/Amon/tas/gn/v20210126',\n",
      "               '/g/data/oi10/replicas/CMIP6/CMIP/CMCC/CMCC-ESM2/piControl/r1i1p1f1/Amon/tas/gn/v20210304',\n",
      "               '/g/data/oi10/replicas/CMIP6/CMIP/CNRM-CERFACS/CNRM-CM6-1-HR/piControl/r1i1p1f2/Amon/tas/gr/v20191021',\n",
      "               '/g/data/oi10/replicas/CMIP6/CMIP/CNRM-CERFACS/CNRM-CM6-1/piControl/r1i1p1f2/Amon/tas/gr/v20180814',\n",
      "               '/g/data/oi10/replicas/CMIP6/CMIP/CNRM-CERFACS/CNRM-ESM2-1/esm-piControl/r1i1p1f2/Amon/tas/gr/v20190208',\n",
      "               '/g/data/oi10/replicas/CMIP6/CMIP/CNRM-CERFACS/CNRM-ESM2-1/piControl/r1i1p1f2/Amon/tas/gr/v20181115',\n",
      "               '/g/data/oi10/replicas/CMIP6/CMIP/E3SM-Project/E3SM-1-0/piControl/r1i1p1f1/Amon/tas/gr/v20190719',\n",
      "               '/g/data/oi10/replicas/CMIP6/CMIP/E3SM-Project/E3SM-1-1-ECA/piControl/r1i1p1f1/Amon/tas/gr/v20191216',\n",
      "               '/g/data/oi10/replicas/CMIP6/CMIP/E3SM-Project/E3SM-1-1-ECA/piControl/r1i1p1f1/Amon/tas/gr/v20201001',\n",
      "               '/g/data/oi10/replicas/CMIP6/CMIP/E3SM-Project/E3SM-1-1/piControl/r1i1p1f1/Amon/tas/gr/v20191029',\n",
      "               '/g/data/oi10/replicas/CMIP6/CMIP/E3SM-Project/E3SM-1-1/piControl/r1i1p1f1/Amon/tas/gr/v20201123',\n",
      "               '/g/data/oi10/replicas/CMIP6/CMIP/EC-Earth-Consortium/EC-Earth3-AerChem/piControl/r1i1p1f1/Amon/tas/gr/v20200821',\n",
      "               '/g/data/oi10/replicas/CMIP6/CMIP/EC-Earth-Consortium/EC-Earth3-CC/piControl/r1i1p1f1/Amon/tas/gr/v20210114',\n",
      "               '/g/data/oi10/replicas/CMIP6/CMIP/EC-Earth-Consortium/EC-Earth3-CC/piControl/r1i1p1f1/Amon/tas/gr/v20210330',\n",
      "               '/g/data/oi10/replicas/CMIP6/CMIP/EC-Earth-Consortium/EC-Earth3-LR/piControl/r1i1p1f1/Amon/tas/gr/v20190103',\n",
      "               '/g/data/oi10/replicas/CMIP6/CMIP/EC-Earth-Consortium/EC-Earth3-LR/piControl/r1i1p1f1/Amon/tas/gr/v20200409',\n",
      "               '/g/data/oi10/replicas/CMIP6/CMIP/EC-Earth-Consortium/EC-Earth3-Veg-LR/piControl/r1i1p1f1/Amon/tas/gr/v20200213',\n",
      "               '/g/data/oi10/replicas/CMIP6/CMIP/EC-Earth-Consortium/EC-Earth3-Veg/piControl/r1i1p1f1/Amon/tas/gr/v20210419',\n",
      "               '/g/data/oi10/replicas/CMIP6/CMIP/EC-Earth-Consortium/EC-Earth3/piControl/r1i1p1f1/Amon/tas/gr/v20200312',\n",
      "               '/g/data/oi10/replicas/CMIP6/CMIP/EC-Earth-Consortium/EC-Earth3/piControl/r2i1p1f1/Amon/tas/gr/v20200420',\n",
      "               '/g/data/oi10/replicas/CMIP6/CMIP/FIO-QLNM/FIO-ESM-2-0/piControl/r1i1p1f1/Amon/tas/gn/v20190910',\n",
      "               '/g/data/oi10/replicas/CMIP6/CMIP/FIO-QLNM/FIO-ESM-2-0/piControl/r1i1p1f1/Amon/tas/gn/v20191010',\n",
      "               '/g/data/oi10/replicas/CMIP6/CMIP/HAMMOZ-Consortium/MPI-ESM-1-2-HAM/piControl/r1i1p1f1/Amon/tas/gn/v20200120',\n",
      "               '/g/data/oi10/replicas/CMIP6/CMIP/INM/INM-CM4-8/piControl/r1i1p1f1/Amon/tas/gr1/v20190605',\n",
      "               '/g/data/oi10/replicas/CMIP6/CMIP/INM/INM-CM5-0/piControl/r1i1p1f1/Amon/tas/gr1/v20190619',\n",
      "               '/g/data/oi10/replicas/CMIP6/CMIP/IPSL/IPSL-CM5A2-INCA/piControl/r1i1p1f1/Amon/tas/gr/v20210216',\n",
      "               '/g/data/oi10/replicas/CMIP6/CMIP/IPSL/IPSL-CM6A-LR/piControl/r1i1p1f1/Amon/tas/gr/v20181123',\n",
      "               '/g/data/oi10/replicas/CMIP6/CMIP/IPSL/IPSL-CM6A-LR/piControl/r1i1p1f1/Amon/tas/gr/v20200326',\n",
      "               '/g/data/oi10/replicas/CMIP6/CMIP/IPSL/IPSL-CM6A-LR/piControl/r1i2p1f1/Amon/tas/gr/v20190319',\n",
      "               '/g/data/oi10/replicas/CMIP6/CMIP/KIOST/KIOST-ESM/piControl/r1i1p1f1/Amon/tas/gr1/v20191106',\n",
      "               '/g/data/oi10/replicas/CMIP6/CMIP/KIOST/KIOST-ESM/piControl/r1i1p1f1/Amon/tas/gr1/v20210329',\n",
      "               '/g/data/oi10/replicas/CMIP6/CMIP/MIROC/MIROC-ES2H/piControl/r1i1p1f2/Amon/tas/gn/v20210125',\n",
      "               '/g/data/oi10/replicas/CMIP6/CMIP/MIROC/MIROC-ES2L/esm-piControl/r1i1p1f2/Amon/tas/gn/v20200428',\n",
      "               '/g/data/oi10/replicas/CMIP6/CMIP/MIROC/MIROC-ES2L/piControl/r1i1p1f2/Amon/tas/gn/v20190823',\n",
      "               '/g/data/oi10/replicas/CMIP6/CMIP/MIROC/MIROC6/piControl/r1i1p1f1/Amon/tas/gn/v20181212',\n",
      "               '/g/data/oi10/replicas/CMIP6/CMIP/MOHC/HadGEM3-GC31-LL/piControl/r1i1p1f1/Amon/tas/gn/v20190628',\n",
      "               '/g/data/oi10/replicas/CMIP6/CMIP/MOHC/HadGEM3-GC31-MM/piControl/r1i1p1f1/Amon/tas/gn/v20190920',\n",
      "               '/g/data/oi10/replicas/CMIP6/CMIP/MOHC/UKESM1-0-LL/esm-piControl/r1i1p1f2/Amon/tas/gn/v20190916',\n",
      "               '/g/data/oi10/replicas/CMIP6/CMIP/MOHC/UKESM1-0-LL/piControl/r1i1p1f2/Amon/tas/gn/v20190410',\n",
      "               '/g/data/oi10/replicas/CMIP6/CMIP/MOHC/UKESM1-0-LL/piControl/r1i1p1f2/Amon/tas/gn/v20200630',\n",
      "               '/g/data/oi10/replicas/CMIP6/CMIP/MOHC/UKESM1-0-LL/piControl/r1i1p1f2/Amon/tas/gn/v20200828',\n",
      "               '/g/data/oi10/replicas/CMIP6/CMIP/MPI-M/ICON-ESM-LR/piControl/r1i1p1f1/Amon/tas/gn/v20210215',\n",
      "               '/g/data/oi10/replicas/CMIP6/CMIP/MPI-M/MPI-ESM1-2-HR/piControl/r1i1p1f1/Amon/tas/gn/v20190710',\n",
      "               '/g/data/oi10/replicas/CMIP6/CMIP/MPI-M/MPI-ESM1-2-LR/esm-piControl/r1i1p1f1/Amon/tas/gn/v20190815',\n",
      "               '/g/data/oi10/replicas/CMIP6/CMIP/MPI-M/MPI-ESM1-2-LR/piControl/r1i1p1f1/Amon/tas/gn/v20190710',\n",
      "               '/g/data/oi10/replicas/CMIP6/CMIP/MPI-M/MPI-ESM1-2-LR/piControl/r2i1p1f1/Amon/tas/gn/v20190815',\n",
      "               '/g/data/oi10/replicas/CMIP6/CMIP/MRI/MRI-ESM2-0/esm-piControl/r1i2p1f1/Amon/tas/gn/v20191205',\n",
      "               '/g/data/oi10/replicas/CMIP6/CMIP/MRI/MRI-ESM2-0/piControl/r1i1p1f1/Amon/tas/gn/v20190222',\n",
      "               '/g/data/oi10/replicas/CMIP6/CMIP/MRI/MRI-ESM2-0/piControl/r1i2p1f1/Amon/tas/gn/v20191205',\n",
      "               '/g/data/oi10/replicas/CMIP6/CMIP/NASA-GISS/GISS-E2-1-G-CC/piControl/r1i1p1f1/Amon/tas/gn/v20190815',\n",
      "               '/g/data/oi10/replicas/CMIP6/CMIP/NASA-GISS/GISS-E2-1-G/piControl/r101i1p1f1/Amon/tas/gn/v20190815',\n",
      "               '/g/data/oi10/replicas/CMIP6/CMIP/NASA-GISS/GISS-E2-1-G/piControl/r102i1p1f1/Amon/tas/gn/v20190815',\n",
      "               '/g/data/oi10/replicas/CMIP6/CMIP/NASA-GISS/GISS-E2-1-G/piControl/r1i1p1f1/Amon/tas/gn/v20180824',\n",
      "               '/g/data/oi10/replicas/CMIP6/CMIP/NASA-GISS/GISS-E2-1-G/piControl/r1i1p1f2/Amon/tas/gn/v20190903',\n",
      "               '/g/data/oi10/replicas/CMIP6/CMIP/NASA-GISS/GISS-E2-1-G/piControl/r1i1p1f3/Amon/tas/gn/v20190916',\n",
      "               '/g/data/oi10/replicas/CMIP6/CMIP/NASA-GISS/GISS-E2-1-G/piControl/r1i1p3f1/Amon/tas/gn/v20190710',\n",
      "               '/g/data/oi10/replicas/CMIP6/CMIP/NASA-GISS/GISS-E2-1-G/piControl/r1i1p5f1/Amon/tas/gn/v20190710',\n",
      "               '/g/data/oi10/replicas/CMIP6/CMIP/NASA-GISS/GISS-E2-1-G/piControl/r2i1p1f1/Amon/tas/gn/v20190916',\n",
      "               '/g/data/oi10/replicas/CMIP6/CMIP/NASA-GISS/GISS-E2-1-H/piControl/r1i1p1f1/Amon/tas/gn/v20190410',\n",
      "               '/g/data/oi10/replicas/CMIP6/CMIP/NASA-GISS/GISS-E2-1-H/piControl/r1i1p3f1/Amon/tas/gn/v20191010',\n",
      "               '/g/data/oi10/replicas/CMIP6/CMIP/NASA-GISS/GISS-E2-2-G/piControl/r1i1p1f1/Amon/tas/gn/v20191120',\n",
      "               '/g/data/oi10/replicas/CMIP6/CMIP/NCAR/CESM2-FV2/piControl/r1i1p1f1/Amon/tas/gn/v20191120',\n",
      "               '/g/data/oi10/replicas/CMIP6/CMIP/NCAR/CESM2-WACCM-FV2/piControl/r1i1p1f1/Amon/tas/gn/v20191120',\n",
      "               '/g/data/oi10/replicas/CMIP6/CMIP/NCAR/CESM2-WACCM/piControl/r1i1p1f1/Amon/tas/gn/v20190320',\n",
      "               '/g/data/oi10/replicas/CMIP6/CMIP/NCAR/CESM2/esm-piControl/r1i1p1f1/Amon/tas/gn/v20190723',\n",
      "               '/g/data/oi10/replicas/CMIP6/CMIP/NCAR/CESM2/piControl/r1i1p1f1/Amon/tas/gn/v20190320',\n",
      "               '/g/data/oi10/replicas/CMIP6/CMIP/NCC/NorCPM1/piControl/r1i1p1f1/Amon/tas/gn/v20190914',\n",
      "               '/g/data/oi10/replicas/CMIP6/CMIP/NCC/NorCPM1/piControl/r2i1p1f1/Amon/tas/gn/v20190914',\n",
      "               '/g/data/oi10/replicas/CMIP6/CMIP/NCC/NorCPM1/piControl/r3i1p1f1/Amon/tas/gn/v20190914',\n",
      "               '/g/data/oi10/replicas/CMIP6/CMIP/NCC/NorESM1-F/piControl/r1i1p1f1/Amon/tas/gn/v20190920',\n",
      "               '/g/data/oi10/replicas/CMIP6/CMIP/NCC/NorESM2-LM/esm-piControl/r1i1p1f1/Amon/tas/gn/v20190920',\n",
      "               '/g/data/oi10/replicas/CMIP6/CMIP/NCC/NorESM2-LM/piControl/r1i1p1f1/Amon/tas/gn/v20210118',\n",
      "               '/g/data/oi10/replicas/CMIP6/CMIP/NCC/NorESM2-MM/piControl/r1i1p1f1/Amon/tas/gn/v20191108',\n",
      "               '/g/data/oi10/replicas/CMIP6/CMIP/NIMS-KMA/KACE-1-0-G/piControl/r1i1p1f1/Amon/tas/gr/v20191017',\n",
      "               '/g/data/oi10/replicas/CMIP6/CMIP/NOAA-GFDL/GFDL-CM4/piControl/r1i1p1f1/Amon/tas/gr1/v20180701',\n",
      "               '/g/data/oi10/replicas/CMIP6/CMIP/NOAA-GFDL/GFDL-ESM4/esm-piControl/r1i1p1f1/Amon/tas/gr1/v20180701',\n",
      "               '/g/data/oi10/replicas/CMIP6/CMIP/NOAA-GFDL/GFDL-ESM4/piControl/r1i1p1f1/Amon/tas/gr1/v20180701',\n",
      "               '/g/data/oi10/replicas/CMIP6/CMIP/NUIST/NESM3/piControl/r1i1p1f1/Amon/tas/gn/v20190708',\n",
      "               '/g/data/oi10/replicas/CMIP6/CMIP/SNU/SAM0-UNICON/piControl/r1i1p1f1/Amon/tas/gn/v20190323',\n",
      "               '/g/data/oi10/replicas/CMIP6/CMIP/SNU/SAM0-UNICON/piControl/r1i1p1f1/Amon/tas/gn/v20190910',\n",
      "               '/g/data/oi10/replicas/CMIP6/CMIP/THU/CIESM/piControl/r1i1p1f1/Amon/tas/gr/v20191114',\n",
      "               '/g/data/oi10/replicas/CMIP6/CMIP/THU/CIESM/piControl/r1i1p1f1/Amon/tas/gr/v20191202',\n",
      "               '/g/data/oi10/replicas/CMIP6/CMIP/THU/CIESM/piControl/r1i1p1f1/Amon/tas/gr/v20200417',\n",
      "               '/g/data/oi10/replicas/CMIP6/CMIP/UA/MCM-UA-1-0/piControl/r1i1p1f1/Amon/tas/gn/v20190731']}\n"
     ]
    }
   ],
   "source": [
    "pprint(zecmip_path_dict)"
   ]
  },
  {
   "cell_type": "code",
   "execution_count": 10,
   "id": "cc63c468",
   "metadata": {},
   "outputs": [],
   "source": [
    "with open('data/zecmip_model_paths.json', 'w') as f:\n",
    "    json.dump(zecmip_path_dict, f)"
   ]
  }
 ],
 "metadata": {
  "kernelspec": {
   "display_name": "Python 3 (ipykernel)",
   "language": "python",
   "name": "python3"
  },
  "language_info": {
   "codemirror_mode": {
    "name": "ipython",
    "version": 3
   },
   "file_extension": ".py",
   "mimetype": "text/x-python",
   "name": "python",
   "nbconvert_exporter": "python",
   "pygments_lexer": "ipython3",
   "version": "3.9.15"
  },
  "toc": {
   "base_numbering": 1,
   "nav_menu": {},
   "number_sections": true,
   "sideBar": true,
   "skip_h1_title": false,
   "title_cell": "Table of Contents",
   "title_sidebar": "Contents",
   "toc_cell": false,
   "toc_position": {},
   "toc_section_display": true,
   "toc_window_display": false
  },
  "varInspector": {
   "cols": {
    "lenName": 16,
    "lenType": 16,
    "lenVar": 40
   },
   "kernels_config": {
    "python": {
     "delete_cmd_postfix": "",
     "delete_cmd_prefix": "del ",
     "library": "var_list.py",
     "varRefreshCmd": "print(var_dic_list())"
    },
    "r": {
     "delete_cmd_postfix": ") ",
     "delete_cmd_prefix": "rm(",
     "library": "var_list.r",
     "varRefreshCmd": "cat(var_dic_list()) "
    }
   },
   "types_to_exclude": [
    "module",
    "function",
    "builtin_function_or_method",
    "instance",
    "_Feature"
   ],
   "window_display": false
  }
 },
 "nbformat": 4,
 "nbformat_minor": 5
}
