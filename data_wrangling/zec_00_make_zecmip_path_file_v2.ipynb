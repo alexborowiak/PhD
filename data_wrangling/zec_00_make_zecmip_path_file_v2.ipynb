{
 "cells": [
  {
   "cell_type": "markdown",
   "id": "970ba615",
   "metadata": {},
   "source": [
    "# Getting ZECMIP File Paths\n",
    "\n",
    "- Getting all the file paths for zecmip takes a while to laod with glob. Savign all these files in a csv files to improve speed."
   ]
  },
  {
   "cell_type": "code",
   "execution_count": 62,
   "id": "4a9ea420",
   "metadata": {
    "tags": []
   },
   "outputs": [],
   "source": [
    "from glob import glob\n",
    "import pandas as pd\n",
    "import sys, os\n",
    "import numpy as np\n",
    "sys.path.append(os.path.join(os.getcwd(), 'Documents/PhD'))\n",
    "import constants\n",
    "import json\n",
    "from typing import List, Dict"
   ]
  },
  {
   "cell_type": "code",
   "execution_count": 5,
   "id": "cfe0d021-261b-491f-9efa-2b795020adec",
   "metadata": {
    "tags": []
   },
   "outputs": [
    {
     "data": {
      "text/plain": [
       "('/g/data/oi10/replicas/CMIP6/CMIP', '/g/data/oi10/replicas/CMIP6/C4MIP')"
      ]
     },
     "execution_count": 5,
     "metadata": {},
     "output_type": "execute_result"
    }
   ],
   "source": [
    "constants.DECK_DIR, constants.ZECMIP_DIR"
   ]
  },
  {
   "cell_type": "code",
   "execution_count": 70,
   "id": "6b042fa8",
   "metadata": {
    "tags": []
   },
   "outputs": [
    {
     "name": "stdout",
     "output_type": "stream",
     "text": [
      "CPU times: user 25.2 s, sys: 2min, total: 2min 25s\n",
      "Wall time: 6min 46s\n"
     ]
    }
   ],
   "source": [
    "%%time\n",
    "# Sample file name: tas_Amon_IPSL-CM5A2-INCA_piControl_r1i1p1f1_gr_185001-209912.nc\n",
    "fpaths_picontrol= glob(constants.DECK_DIR + '/**/*Amon*piControl*.nc', recursive=True)\n",
    "fpaths_1000PgC = glob(constants.ZECMIP_DIR + '/**/*Amon*brch-1000PgC*.nc', recursive=True)"
   ]
  },
  {
   "cell_type": "code",
   "execution_count": 71,
   "id": "fd971814-be3c-448e-ac88-2aa7e8bfac03",
   "metadata": {
    "tags": []
   },
   "outputs": [],
   "source": [
    "# Sample 1pctCO2 path: /g/data/oi10/replicas/CMIP6/CMIP/IPSL/IPSL-CM6A-LR/1pctCO2\n",
    "# tas_Amon_CanESM5_1pctCO2-rad_r1i1p1f1_gn_185001-200012\n",
    "fpaths_1pct_rad = glob(constants.ZECMIP_DIR + '/**/*Amon*1pctCO2-rad*.nc', recursive=True)\n",
    "fpaths_1pct_bgc = glob(constants.ZECMIP_DIR + '/**/*Amon*1pctCO2-bgc*.nc', recursive=True)"
   ]
  },
  {
   "cell_type": "code",
   "execution_count": 77,
   "id": "1593a672-d59b-4f70-afb5-14b490eea2c6",
   "metadata": {
    "tags": []
   },
   "outputs": [],
   "source": [
    "def sort_into_variable_groups(paths_list: List[str], variable_index: int = -4) -> Dict[str, List[str]]:\n",
    "    \"\"\"\n",
    "    Sorts a list of file paths into groups based on the variable located at a specified index in each path.\n",
    "\n",
    "    Args:\n",
    "        paths_list (List[str]): A list of file paths.\n",
    "        variable_index (int, optional): The index of the variable in each file path. Defaults to -4.\n",
    "\n",
    "    Returns:\n",
    "        Dict[str, List[str]]: A dictionary where the keys are the variables extracted from the file paths and the\n",
    "        values are the lists of file paths associated with each variable.\n",
    "    \"\"\"\n",
    "    variable_groups = {}\n",
    "    for path in paths_list:\n",
    "        variable = path.split('/')[variable_index]\n",
    "        if variable in variable_groups: variable_groups[variable].append(path)\n",
    "        else: variable_groups[variable] = [path]\n",
    "    return variable_groups"
   ]
  },
  {
   "cell_type": "code",
   "execution_count": 78,
   "id": "0e6850fe-f5ad-4030-aa7a-dd00c0555d3b",
   "metadata": {
    "tags": []
   },
   "outputs": [],
   "source": [
    "raw_path_dict = {'picontrol':sort_into_variable_groups(fpaths_picontrol), '1000pgc':sort_into_variable_groups(fpaths_1000PgC),\n",
    "                '1pct_rad':sort_into_variable_groups(fpaths_1pct_rad), '1pct_bgc': sort_into_variable_groups(fpaths_1pct_bgc)}"
   ]
  },
  {
   "cell_type": "code",
   "execution_count": 79,
   "id": "a647b580-a03f-4e5a-a8e6-8e72cc5e334a",
   "metadata": {
    "tags": []
   },
   "outputs": [
    {
     "data": {
      "text/plain": [
       "dict_keys(['picontrol', '1000pgc', '1pct_rad', '1pct_bgc'])"
      ]
     },
     "execution_count": 79,
     "metadata": {},
     "output_type": "execute_result"
    }
   ],
   "source": [
    "raw_path_dict.keys()"
   ]
  },
  {
   "cell_type": "code",
   "execution_count": 80,
   "id": "1fba80c0-82a8-475f-89af-ae9e275a5ac1",
   "metadata": {
    "tags": []
   },
   "outputs": [
    {
     "name": "stdout",
     "output_type": "stream",
     "text": [
      "picontrol\n",
      "dict_keys(['rsut', 'hus', 'pr', 'clwvi', 'tas', 'rlus', 'prc', 'rsdscs', 'ps', 'wap', 'prsn', 'cct', 'tauu', 'zg', 'prw', 'va', 'rsutcs', 'rsds', 'sfcWind', 'hfls', 'rsdt', 'hurs', 'psl', 'ts', 'vas', 'huss', 'rldscs', 'tauv', 'uas', 'hur', 'clivi', 'rlutcs', 'tasmin', 'rlds', 'rsuscs', 'hfss', 'rlut', 'ta', 'ua', 'evspsbl', 'clt', 'tasmax', 'rsus', 'cli', 'cl', 'fco2nat', 'fco2antt', 'fco2fos', 'tos'])\n",
      "-----\n",
      "1000pgc\n",
      "dict_keys(['co2', 'pr', 'tas'])\n",
      "-----\n",
      "1pct_rad\n",
      "dict_keys(['rsut', 'tas', 'rsdt', 'ts', 'rlut', 'fco2nat', 'fco2antt'])\n",
      "-----\n",
      "1pct_bgc\n",
      "dict_keys(['rsut', 'tas', 'rsdt', 'ts', 'rlut', 'fco2nat', 'fco2antt'])\n",
      "-----\n"
     ]
    }
   ],
   "source": [
    "for key, values in raw_path_dict.items():\n",
    "    print(key, values.keys(), sep='\\n'); print('-----')"
   ]
  },
  {
   "cell_type": "code",
   "execution_count": 81,
   "id": "1433804f-bcf6-4f78-9d31-3b3769c016c5",
   "metadata": {
    "tags": []
   },
   "outputs": [],
   "source": [
    "with open(os.path.join(os.getcwd(),  'Documents/PhD/data', 'raw_paths.json'), 'w') as fp:\n",
    "    json.dump(raw_path_dict, fp)"
   ]
  },
  {
   "cell_type": "code",
   "execution_count": null,
   "id": "525e36a4-f3fd-473d-98b1-0e5d7165a496",
   "metadata": {
    "tags": []
   },
   "outputs": [],
   "source": [
    "# fpaths_ds = pd.DataFrame({'picontrol': fpaths_picontrol})\n",
    "# fpaths_ds['1000pgc']= pd.Series(fpaths_1000PgC)\n",
    "# fpaths_ds['1pct_rad']= pd.Series(fpaths_1pct_rad)\n",
    "# fpaths_ds['1pct_bgc']= pd.Series(fpaths_1pct_bgc)\n",
    "\n",
    "# fpaths_ds.head()\n",
    "\n",
    "# fpaths_ds.to_csv(os.path.join(os.getcwd(),  'Documents/PhD', 'data/fpaths_picontrol.csv'))"
   ]
  }
 ],
 "metadata": {
  "kernelspec": {
   "display_name": "Python 3 (ipykernel)",
   "language": "python",
   "name": "python3"
  },
  "language_info": {
   "codemirror_mode": {
    "name": "ipython",
    "version": 3
   },
   "file_extension": ".py",
   "mimetype": "text/x-python",
   "name": "python",
   "nbconvert_exporter": "python",
   "pygments_lexer": "ipython3",
   "version": "3.9.15"
  },
  "toc": {
   "base_numbering": 1,
   "nav_menu": {},
   "number_sections": true,
   "sideBar": true,
   "skip_h1_title": false,
   "title_cell": "Table of Contents",
   "title_sidebar": "Contents",
   "toc_cell": false,
   "toc_position": {},
   "toc_section_display": true,
   "toc_window_display": false
  },
  "varInspector": {
   "cols": {
    "lenName": 16,
    "lenType": 16,
    "lenVar": 40
   },
   "kernels_config": {
    "python": {
     "delete_cmd_postfix": "",
     "delete_cmd_prefix": "del ",
     "library": "var_list.py",
     "varRefreshCmd": "print(var_dic_list())"
    },
    "r": {
     "delete_cmd_postfix": ") ",
     "delete_cmd_prefix": "rm(",
     "library": "var_list.r",
     "varRefreshCmd": "cat(var_dic_list()) "
    }
   },
   "types_to_exclude": [
    "module",
    "function",
    "builtin_function_or_method",
    "instance",
    "_Feature"
   ],
   "window_display": false
  }
 },
 "nbformat": 4,
 "nbformat_minor": 5
}
