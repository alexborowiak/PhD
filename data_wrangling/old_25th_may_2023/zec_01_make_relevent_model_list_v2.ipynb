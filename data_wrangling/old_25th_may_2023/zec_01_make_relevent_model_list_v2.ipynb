{
 "cells": [
  {
   "cell_type": "markdown",
   "id": "0a307bf9-8a27-4326-9f13-17d24afe3058",
   "metadata": {},
   "source": [
    "# Getting Just the Matching Model Paths\n",
    "* Creates a list of dictionaries with the matching models for each experiment.\n",
    "* Data is then used in zec_02_regridding...\n",
    "\n",
    "* 6th May\n",
    "     * Updateing to only use dictionary. Previous version had a csv file with only tas. Making a new version that stores all output.\n",
    "\n",
    "TODO:\n",
    "* Currently this is only really working for piControl and 1000pgc. Need to add the 1%CO2 runs to this\n",
    "* Will eventually need to create the flows for other variables. This is perhaps partially setup."
   ]
  },
  {
   "cell_type": "code",
   "execution_count": 1,
   "id": "a8e4f437",
   "metadata": {
    "tags": []
   },
   "outputs": [],
   "source": [
    "import os\n",
    "import sys\n",
    "import numpy as np\n",
    "import pandas as pd\n",
    "from importlib import reload\n",
    "from glob import glob\n",
    "import json\n",
    "from pprint import pprint\n",
    "sys.path.append(os.path.join(os.getcwd(), 'Documents/PhD'))\n",
    "sys.path.append('modules')\n",
    "import constants\n",
    "\n",
    "from typing import List"
   ]
  },
  {
   "cell_type": "markdown",
   "id": "f7300208",
   "metadata": {},
   "source": [
    "# Paths"
   ]
  },
  {
   "cell_type": "markdown",
   "id": "0df52e81",
   "metadata": {},
   "source": [
    "The code below can be used to ge the paths of all the files. However, this can be ery slow (3 hours) for piControl. "
   ]
  },
  {
   "cell_type": "code",
   "execution_count": 3,
   "id": "ddb0541f",
   "metadata": {
    "tags": []
   },
   "outputs": [],
   "source": [
    "# TODO: This should be a dict not a csv so you don't have to drop nans\n",
    "# fpaths_df = pd.read_csv(os.path.join(os.getcwd(),  'Documents/PhD', 'data/fpaths_picontrol.csv'))#[['picontrol', '1000pgc']]\n",
    "# fpaths_df.head()\n",
    "# fpaths_dict = fpaths_df.to_dict(orient='list')\n",
    "# fpaths_dict['1000pgc'] = [v for v in fpaths_dict['1000pgc'] if isinstance(v, str)]\n",
    "# fpaths_dict['1pct_rad'] = [v for v in fpaths_dict['1pct_rad'] if isinstance(v, str)]\n",
    "\n",
    "# fpaths_dict.keys()\n",
    "\n",
    "# unique_picontrol_paths = np.unique(list(map(os.path.dirname, fpaths_dict['picontrol'])))\n",
    "# unique_picontrol_paths[:5]"
   ]
  },
  {
   "cell_type": "code",
   "execution_count": 76,
   "id": "a7c6015a-5f42-4bdd-9705-9b70b999eefd",
   "metadata": {
    "tags": []
   },
   "outputs": [],
   "source": [
    "with open(os.path.join(os.getcwd(),  'Documents/PhD/data', 'raw_paths.json'), 'r') as file:\n",
    "    fpaths_dict = json.loads(file.read())"
   ]
  },
  {
   "cell_type": "code",
   "execution_count": 77,
   "id": "43c8ca1f-0cee-4b2b-99ab-3d228ba0b312",
   "metadata": {
    "tags": []
   },
   "outputs": [],
   "source": [
    "variable = 'tas'"
   ]
  },
  {
   "cell_type": "code",
   "execution_count": 78,
   "id": "db153884-54f4-4ebb-a80e-a959ac610bc8",
   "metadata": {
    "tags": []
   },
   "outputs": [
    {
     "data": {
      "text/plain": [
       "dict_keys(['picontrol', '1000pgc', '1pct_rad', '1pct_bgc', '1pct'])"
      ]
     },
     "execution_count": 78,
     "metadata": {},
     "output_type": "execute_result"
    }
   ],
   "source": [
    "fpaths_dict.keys()"
   ]
  },
  {
   "cell_type": "code",
   "execution_count": 79,
   "id": "644de5ea-5457-4aee-9da6-e3bf836307b7",
   "metadata": {
    "tags": []
   },
   "outputs": [
    {
     "name": "stdout",
     "output_type": "stream",
     "text": [
      "[(1,\n",
      "  '/g/data/oi10/replicas/CMIP6/CMIP/INM/INM-CM5-0/piControl/r1i1p1f1/Amon/tas/gr1/v20190619/tas_Amon_INM-CM5-0_piControl_r1i1p1f1_gr1_314801-319612.nc'),\n",
      " (2,\n",
      "  '/g/data/oi10/replicas/CMIP6/CMIP/INM/INM-CM5-0/piControl/r1i1p1f1/Amon/tas/gr1/v20190619/tas_Amon_INM-CM5-0_piControl_r1i1p1f1_gr1_246901-249512.nc'),\n",
      " (3,\n",
      "  '/g/data/oi10/replicas/CMIP6/CMIP/INM/INM-CM5-0/piControl/r1i1p1f1/Amon/tas/gr1/v20190619/tas_Amon_INM-CM5-0_piControl_r1i1p1f1_gr1_236901-246812.nc')]\n"
     ]
    }
   ],
   "source": [
    "pprint(list(enumerate(fpaths_dict['picontrol'][variable][:3], start=1)), depth=2)"
   ]
  },
  {
   "cell_type": "code",
   "execution_count": 80,
   "id": "b889df39-c35a-4570-a0c8-23d04a2bb576",
   "metadata": {
    "tags": []
   },
   "outputs": [
    {
     "name": "stdout",
     "output_type": "stream",
     "text": [
      "['/g/data/oi10/replicas/CMIP6/CMIP/INM/INM-CM5-0/piControl/r1i1p1f1/Amon/tas/gr1/v20190619/tas_Amon_INM-CM5-0_piControl_r1i1p1f1_gr1_314801-319612.nc', '/g/data/oi10/replicas/CMIP6/CMIP/INM/INM-CM5-0/piControl/r1i1p1f1/Amon/tas/gr1/v20190619/tas_Amon_INM-CM5-0_piControl_r1i1p1f1_gr1_246901-249512.nc', '/g/data/oi10/replicas/CMIP6/CMIP/INM/INM-CM5-0/piControl/r1i1p1f1/Amon/tas/gr1/v20190619/tas_Amon_INM-CM5-0_piControl_r1i1p1f1_gr1_236901-246812.nc']\n",
      "\n",
      "\n",
      "['/g/data/oi10/replicas/CMIP6/C4MIP/MPI-M/MPI-ESM1-2-LR/esm-1pct-brch-1000PgC/r1i1p1f1/Amon/tas/gn/v20190815/tas_Amon_MPI-ESM1-2-LR_esm-1pct-brch-1000PgC_r1i1p1f1_gn_207501-209412.nc', '/g/data/oi10/replicas/CMIP6/C4MIP/MPI-M/MPI-ESM1-2-LR/esm-1pct-brch-1000PgC/r1i1p1f1/Amon/tas/gn/v20190815/tas_Amon_MPI-ESM1-2-LR_esm-1pct-brch-1000PgC_r1i1p1f1_gn_205501-207412.nc', '/g/data/oi10/replicas/CMIP6/C4MIP/MPI-M/MPI-ESM1-2-LR/esm-1pct-brch-1000PgC/r1i1p1f1/Amon/tas/gn/v20190815/tas_Amon_MPI-ESM1-2-LR_esm-1pct-brch-1000PgC_r1i1p1f1_gn_199501-201412.nc']\n",
      "\n",
      "\n",
      "['/g/data/oi10/replicas/CMIP6/C4MIP/MPI-M/MPI-ESM1-2-LR/1pctCO2-rad/r2i1p1f1/Amon/tas/gn/v20190710/tas_Amon_MPI-ESM1-2-LR_1pctCO2-rad_r2i1p1f1_gn_191001-192912.nc', '/g/data/oi10/replicas/CMIP6/C4MIP/MPI-M/MPI-ESM1-2-LR/1pctCO2-rad/r2i1p1f1/Amon/tas/gn/v20190710/tas_Amon_MPI-ESM1-2-LR_1pctCO2-rad_r2i1p1f1_gn_197001-198912.nc', '/g/data/oi10/replicas/CMIP6/C4MIP/MPI-M/MPI-ESM1-2-LR/1pctCO2-rad/r2i1p1f1/Amon/tas/gn/v20190710/tas_Amon_MPI-ESM1-2-LR_1pctCO2-rad_r2i1p1f1_gn_195001-196912.nc']\n",
      "\n",
      "\n",
      "['/g/data/oi10/replicas/CMIP6/C4MIP/MPI-M/MPI-ESM1-2-LR/1pctCO2-bgc/r2i1p1f1/Amon/tas/gn/v20190710/tas_Amon_MPI-ESM1-2-LR_1pctCO2-bgc_r2i1p1f1_gn_191001-192912.nc', '/g/data/oi10/replicas/CMIP6/C4MIP/MPI-M/MPI-ESM1-2-LR/1pctCO2-bgc/r2i1p1f1/Amon/tas/gn/v20190710/tas_Amon_MPI-ESM1-2-LR_1pctCO2-bgc_r2i1p1f1_gn_195001-196912.nc', '/g/data/oi10/replicas/CMIP6/C4MIP/MPI-M/MPI-ESM1-2-LR/1pctCO2-bgc/r2i1p1f1/Amon/tas/gn/v20190710/tas_Amon_MPI-ESM1-2-LR_1pctCO2-bgc_r2i1p1f1_gn_193001-194912.nc']\n"
     ]
    }
   ],
   "source": [
    "print(fpaths_dict['picontrol'][variable][:3], fpaths_dict['1000pgc'][variable][:3],\n",
    "      fpaths_dict['1pct_rad'][variable][:3], fpaths_dict['1pct_bgc'][variable][:3],\n",
    "      sep='\\n\\n\\n')"
   ]
  },
  {
   "cell_type": "code",
   "execution_count": 81,
   "id": "d2dc6759-672c-4899-8b93-e90bf4bba146",
   "metadata": {
    "tags": []
   },
   "outputs": [],
   "source": [
    "def zecmip_open_matching_path(fpath: str, path_list: List[str], name=None) -> str:\n",
    "    \"\"\"\n",
    "    Find a matching path from the given list based on the model and ensemble member extracted from fpath.\n",
    "    Args:\n",
    "        fpath (str): The path to extract model and ensemble member information from.\n",
    "        path_list (List[str]): The list of potential paths to search for a match.\n",
    "    Returns:\n",
    "        str: The matched path if found, otherwise np.nan.\n",
    "    \"\"\"\n",
    "    split_path = fpath.split('/')\n",
    "    model = split_path[8]\n",
    "    ensemble_member = split_path[10]\n",
    "    print(f'Attempting to find {model=} and {ensemble_member=}', end='')\n",
    "\n",
    "    for potential_match in path_list:\n",
    "        if model in potential_match and ensemble_member in potential_match: \n",
    "            print('- Yes')\n",
    "            if name: return {model: {'1000PgC': fpath, name:potential_match}}\n",
    "            else: return {model: [fpath, potential_match]}\n",
    "            #return potential_match\n",
    "    print('- No')\n",
    "    return np.nan\n",
    "\n",
    "\n",
    "def find_all_matches(list_to_match: List[str], list_of_potential_matches: List[str], name=None) -> List[dict]:\n",
    "    \"\"\"\n",
    "    Find all matches between the given list and the potential matches list using zecmip_open_matching_path function.\n",
    "\n",
    "    Args:\n",
    "        list_to_match (List[str]): The list of paths to match against the potential matches.\n",
    "        list_of_potential_matches (List[str]): The list of potential matches to search within.\n",
    "    Returns:\n",
    "        List[dict]: A list of dictionaries containing the matched path and its corresponding potential match.\n",
    "    \"\"\"\n",
    "    path_matches = []\n",
    "    for fpath in list_to_match:\n",
    "        match = zecmip_open_matching_path(fpath, list_of_potential_matches, name)\n",
    "        if isinstance(match, dict):\n",
    "            path_matches.append(match)#({fpath: match})\n",
    "    \n",
    "    return path_matches"
   ]
  },
  {
   "cell_type": "code",
   "execution_count": 82,
   "id": "ee51d358",
   "metadata": {
    "tags": []
   },
   "outputs": [
    {
     "data": {
      "text/plain": [
       "array(['/g/data/oi10/replicas/CMIP6/C4MIP/CCCma/CanESM5/esm-1pct-brch-1000PgC/r1i1p2f1/Amon/tas/gn/v20190429',\n",
       "       '/g/data/oi10/replicas/CMIP6/C4MIP/CCCma/CanESM5/esm-1pct-brch-1000PgC/r1i1p2f1/day/tas/gn/v20190429',\n",
       "       '/g/data/oi10/replicas/CMIP6/C4MIP/CCCma/CanESM5/esm-1pct-brch-1000PgC/r2i1p2f1/Amon/tas/gn/v20190429'],\n",
       "      dtype='<U111')"
      ]
     },
     "execution_count": 82,
     "metadata": {},
     "output_type": "execute_result"
    }
   ],
   "source": [
    "# Unique abspath (no filename).\n",
    "base_fpaths_1000PgC = np.sort(np.unique(list(map(os.path.dirname, fpaths_dict['1000pgc'][variable]))))\n",
    "base_fpaths_1000PgC[:3]"
   ]
  },
  {
   "cell_type": "code",
   "execution_count": null,
   "id": "212c1581-8bf9-4c50-9cce-da0211f6210e",
   "metadata": {},
   "outputs": [],
   "source": [
    "single_path = "
   ]
  },
  {
   "cell_type": "code",
   "execution_count": 87,
   "id": "5736f7f1-b433-419b-88ad-fb9dda78e07c",
   "metadata": {
    "tags": []
   },
   "outputs": [
    {
     "data": {
      "text/plain": [
       "array(['/g/data/oi10/replicas/CMIP6/C4MIP/CCCma/CanESM5/esm-1pct-brch-1000PgC/r1i1p2f1/Amon/tas/gn/v20190429',\n",
       "       '/g/data/oi10/replicas/CMIP6/C4MIP/CCCma/CanESM5/esm-1pct-brch-1000PgC/r1i1p2f1/day/tas/gn/v20190429',\n",
       "       '/g/data/oi10/replicas/CMIP6/C4MIP/CCCma/CanESM5/esm-1pct-brch-1000PgC/r2i1p2f1/Amon/tas/gn/v20190429',\n",
       "       '/g/data/oi10/replicas/CMIP6/C4MIP/CCCma/CanESM5/esm-1pct-brch-1000PgC/r2i1p2f1/day/tas/gn/v20190429',\n",
       "       '/g/data/oi10/replicas/CMIP6/C4MIP/CCCma/CanESM5/esm-1pct-brch-1000PgC/r3i1p2f1/Amon/tas/gn/v20190429',\n",
       "       '/g/data/oi10/replicas/CMIP6/C4MIP/CCCma/CanESM5/esm-1pct-brch-1000PgC/r3i1p2f1/day/tas/gn/v20190429',\n",
       "       '/g/data/oi10/replicas/CMIP6/C4MIP/CCCma/CanESM5/esm-1pct-brch-1000PgC/r4i1p2f1/Amon/tas/gn/v20190429',\n",
       "       '/g/data/oi10/replicas/CMIP6/C4MIP/CCCma/CanESM5/esm-1pct-brch-1000PgC/r4i1p2f1/day/tas/gn/v20190429',\n",
       "       '/g/data/oi10/replicas/CMIP6/C4MIP/CCCma/CanESM5/esm-1pct-brch-1000PgC/r5i1p2f1/Amon/tas/gn/v20190429',\n",
       "       '/g/data/oi10/replicas/CMIP6/C4MIP/CCCma/CanESM5/esm-1pct-brch-1000PgC/r5i1p2f1/day/tas/gn/v20190429',\n",
       "       '/g/data/oi10/replicas/CMIP6/C4MIP/MIROC/MIROC-ES2L/esm-1pct-brch-1000PgC/r1i1p1f2/Amon/tas/gn/v20200622',\n",
       "       '/g/data/oi10/replicas/CMIP6/C4MIP/MIROC/MIROC-ES2L/esm-1pct-brch-1000PgC/r1i1p1f2/day/tas/gn/v20220506',\n",
       "       '/g/data/oi10/replicas/CMIP6/C4MIP/MOHC/UKESM1-0-LL/esm-1pct-brch-1000PgC/r1i1p1f2/Amon/tas/gn/v20200210',\n",
       "       '/g/data/oi10/replicas/CMIP6/C4MIP/MOHC/UKESM1-0-LL/esm-1pct-brch-1000PgC/r1i1p1f2/day/tas/gn/v20200210',\n",
       "       '/g/data/oi10/replicas/CMIP6/C4MIP/MOHC/UKESM1-0-LL/esm-1pct-brch-1000PgC/r2i1p1f2/Amon/tas/gn/v20200106',\n",
       "       '/g/data/oi10/replicas/CMIP6/C4MIP/MOHC/UKESM1-0-LL/esm-1pct-brch-1000PgC/r2i1p1f2/day/tas/gn/v20200106',\n",
       "       '/g/data/oi10/replicas/CMIP6/C4MIP/MOHC/UKESM1-0-LL/esm-1pct-brch-1000PgC/r3i1p1f2/Amon/tas/gn/v20200929',\n",
       "       '/g/data/oi10/replicas/CMIP6/C4MIP/MOHC/UKESM1-0-LL/esm-1pct-brch-1000PgC/r3i1p1f2/day/tas/gn/v20200929',\n",
       "       '/g/data/oi10/replicas/CMIP6/C4MIP/MOHC/UKESM1-0-LL/esm-1pct-brch-1000PgC/r4i1p1f2/Amon/tas/gn/v20200708',\n",
       "       '/g/data/oi10/replicas/CMIP6/C4MIP/MOHC/UKESM1-0-LL/esm-1pct-brch-1000PgC/r4i1p1f2/day/tas/gn/v20200708',\n",
       "       '/g/data/oi10/replicas/CMIP6/C4MIP/MPI-M/MPI-ESM1-2-LR/esm-1pct-brch-1000PgC/r1i1p1f1/Amon/tas/gn/v20190815',\n",
       "       '/g/data/oi10/replicas/CMIP6/C4MIP/NASA-GISS/GISS-E2-1-G-CC/esm-1pct-brch-1000PgC/r1i1p1f1/Amon/tas/gn/v20191202',\n",
       "       '/g/data/oi10/replicas/CMIP6/C4MIP/NCAR/CESM2/esm-1pct-brch-1000PgC/r1i1p1f1/Amon/tas/gn/v20191119',\n",
       "       '/g/data/oi10/replicas/CMIP6/C4MIP/NCAR/CESM2/esm-1pct-brch-1000PgC/r1i1p1f1/day/tas/gn/v20191119',\n",
       "       '/g/data/oi10/replicas/CMIP6/C4MIP/NCC/NorESM2-LM/esm-1pct-brch-1000PgC/r1i1p1f1/Amon/tas/gn/v20191108',\n",
       "       '/g/data/oi10/replicas/CMIP6/C4MIP/NCC/NorESM2-LM/esm-1pct-brch-1000PgC/r1i1p1f1/day/tas/gn/v20191108',\n",
       "       '/g/data/oi10/replicas/CMIP6/C4MIP/NOAA-GFDL/GFDL-ESM4/esm-1pct-brch-1000PgC/r1i1p1f1/Amon/tas/gr1/v20180701'],\n",
       "      dtype='<U111')"
      ]
     },
     "execution_count": 87,
     "metadata": {},
     "output_type": "execute_result"
    }
   ],
   "source": [
    "base_fpaths_1000PgC"
   ]
  },
  {
   "cell_type": "code",
   "execution_count": 85,
   "id": "aca5296b-9b15-49f4-8eac-4167f6c650f8",
   "metadata": {
    "tags": []
   },
   "outputs": [
    {
     "name": "stdout",
     "output_type": "stream",
     "text": [
      "Attempting to find model='CanESM5' and ensemble_member='r1i1p2f1'- No\n",
      "Attempting to find model='CanESM5' and ensemble_member='r1i1p2f1'- No\n",
      "Attempting to find model='CanESM5' and ensemble_member='r2i1p2f1'- No\n",
      "Attempting to find model='CanESM5' and ensemble_member='r2i1p2f1'- No\n",
      "Attempting to find model='CanESM5' and ensemble_member='r3i1p2f1'- No\n",
      "Attempting to find model='CanESM5' and ensemble_member='r3i1p2f1'- No\n",
      "Attempting to find model='CanESM5' and ensemble_member='r4i1p2f1'- No\n",
      "Attempting to find model='CanESM5' and ensemble_member='r4i1p2f1'- No\n",
      "Attempting to find model='CanESM5' and ensemble_member='r5i1p2f1'- No\n",
      "Attempting to find model='CanESM5' and ensemble_member='r5i1p2f1'- No\n",
      "Attempting to find model='MIROC-ES2L' and ensemble_member='r1i1p1f2'- Yes\n",
      "Attempting to find model='MIROC-ES2L' and ensemble_member='r1i1p1f2'- Yes\n",
      "Attempting to find model='UKESM1-0-LL' and ensemble_member='r1i1p1f2'- Yes\n",
      "Attempting to find model='UKESM1-0-LL' and ensemble_member='r1i1p1f2'- Yes\n",
      "Attempting to find model='UKESM1-0-LL' and ensemble_member='r2i1p1f2'- No\n",
      "Attempting to find model='UKESM1-0-LL' and ensemble_member='r2i1p1f2'- No\n",
      "Attempting to find model='UKESM1-0-LL' and ensemble_member='r3i1p1f2'- No\n",
      "Attempting to find model='UKESM1-0-LL' and ensemble_member='r3i1p1f2'- No\n",
      "Attempting to find model='UKESM1-0-LL' and ensemble_member='r4i1p1f2'- No\n",
      "Attempting to find model='UKESM1-0-LL' and ensemble_member='r4i1p1f2'- No\n",
      "Attempting to find model='MPI-ESM1-2-LR' and ensemble_member='r1i1p1f1'- Yes\n",
      "Attempting to find model='GISS-E2-1-G-CC' and ensemble_member='r1i1p1f1'- No\n",
      "Attempting to find model='CESM2' and ensemble_member='r1i1p1f1'- No\n",
      "Attempting to find model='CESM2' and ensemble_member='r1i1p1f1'- No\n",
      "Attempting to find model='NorESM2-LM' and ensemble_member='r1i1p1f1'- Yes\n",
      "Attempting to find model='NorESM2-LM' and ensemble_member='r1i1p1f1'- Yes\n",
      "Attempting to find model='GFDL-ESM4' and ensemble_member='r1i1p1f1'- Yes\n"
     ]
    }
   ],
   "source": [
    "match_1pct = find_all_matches(base_fpaths_1000PgC, fpaths_dict['1pct_rad'][variable], name='1pct')"
   ]
  },
  {
   "cell_type": "code",
   "execution_count": 84,
   "id": "296aa4bd-7b0d-462b-b278-efdae9c482d4",
   "metadata": {
    "tags": []
   },
   "outputs": [
    {
     "name": "stdout",
     "output_type": "stream",
     "text": [
      "Attempting to find model='CanESM5' and ensemble_member='r1i1p2f1'- No\n",
      "Attempting to find model='CanESM5' and ensemble_member='r1i1p2f1'- No\n",
      "Attempting to find model='CanESM5' and ensemble_member='r2i1p2f1'- No\n",
      "Attempting to find model='CanESM5' and ensemble_member='r2i1p2f1'- No\n",
      "Attempting to find model='CanESM5' and ensemble_member='r3i1p2f1'- No\n",
      "Attempting to find model='CanESM5' and ensemble_member='r3i1p2f1'- No\n",
      "Attempting to find model='CanESM5' and ensemble_member='r4i1p2f1'- No\n",
      "Attempting to find model='CanESM5' and ensemble_member='r4i1p2f1'- No\n",
      "Attempting to find model='CanESM5' and ensemble_member='r5i1p2f1'- No\n",
      "Attempting to find model='CanESM5' and ensemble_member='r5i1p2f1'- No\n",
      "Attempting to find model='MIROC-ES2L' and ensemble_member='r1i1p1f2'- Yes\n",
      "Attempting to find model='MIROC-ES2L' and ensemble_member='r1i1p1f2'- Yes\n",
      "Attempting to find model='UKESM1-0-LL' and ensemble_member='r1i1p1f2'- Yes\n",
      "Attempting to find model='UKESM1-0-LL' and ensemble_member='r1i1p1f2'- Yes\n",
      "Attempting to find model='UKESM1-0-LL' and ensemble_member='r2i1p1f2'- No\n",
      "Attempting to find model='UKESM1-0-LL' and ensemble_member='r2i1p1f2'- No\n",
      "Attempting to find model='UKESM1-0-LL' and ensemble_member='r3i1p1f2'- No\n",
      "Attempting to find model='UKESM1-0-LL' and ensemble_member='r3i1p1f2'- No\n",
      "Attempting to find model='UKESM1-0-LL' and ensemble_member='r4i1p1f2'- No\n",
      "Attempting to find model='UKESM1-0-LL' and ensemble_member='r4i1p1f2'- No\n",
      "Attempting to find model='MPI-ESM1-2-LR' and ensemble_member='r1i1p1f1'- Yes\n",
      "Attempting to find model='GISS-E2-1-G-CC' and ensemble_member='r1i1p1f1'- No\n",
      "Attempting to find model='CESM2' and ensemble_member='r1i1p1f1'- No\n",
      "Attempting to find model='CESM2' and ensemble_member='r1i1p1f1'- No\n",
      "Attempting to find model='NorESM2-LM' and ensemble_member='r1i1p1f1'- Yes\n",
      "Attempting to find model='NorESM2-LM' and ensemble_member='r1i1p1f1'- Yes\n",
      "Attempting to find model='GFDL-ESM4' and ensemble_member='r1i1p1f1'- Yes\n"
     ]
    }
   ],
   "source": [
    "match_1pct_rad = find_all_matches(base_fpaths_1000PgC, fpaths_dict['1pct_rad'][variable], name='1pct_rad')"
   ]
  },
  {
   "cell_type": "code",
   "execution_count": 44,
   "id": "17a417ea-973e-4e9c-90b2-60a573e69e6d",
   "metadata": {
    "tags": []
   },
   "outputs": [
    {
     "name": "stdout",
     "output_type": "stream",
     "text": [
      "Attempting to find model='CanESM5' and ensemble_member='r1i1p2f1'- Yes\n",
      "Attempting to find model='CanESM5' and ensemble_member='r1i1p2f1'- Yes\n",
      "Attempting to find model='CanESM5' and ensemble_member='r2i1p2f1'- No\n",
      "Attempting to find model='CanESM5' and ensemble_member='r2i1p2f1'- No\n",
      "Attempting to find model='CanESM5' and ensemble_member='r3i1p2f1'- No\n",
      "Attempting to find model='CanESM5' and ensemble_member='r3i1p2f1'- No\n",
      "Attempting to find model='CanESM5' and ensemble_member='r4i1p2f1'- No\n",
      "Attempting to find model='CanESM5' and ensemble_member='r4i1p2f1'- No\n",
      "Attempting to find model='CanESM5' and ensemble_member='r5i1p2f1'- No\n",
      "Attempting to find model='CanESM5' and ensemble_member='r5i1p2f1'- No\n",
      "Attempting to find model='MIROC-ES2L' and ensemble_member='r1i1p1f2'- Yes\n",
      "Attempting to find model='MIROC-ES2L' and ensemble_member='r1i1p1f2'- Yes\n",
      "Attempting to find model='UKESM1-0-LL' and ensemble_member='r1i1p1f2'- Yes\n",
      "Attempting to find model='UKESM1-0-LL' and ensemble_member='r1i1p1f2'- Yes\n",
      "Attempting to find model='UKESM1-0-LL' and ensemble_member='r2i1p1f2'- No\n",
      "Attempting to find model='UKESM1-0-LL' and ensemble_member='r2i1p1f2'- No\n",
      "Attempting to find model='UKESM1-0-LL' and ensemble_member='r3i1p1f2'- No\n",
      "Attempting to find model='UKESM1-0-LL' and ensemble_member='r3i1p1f2'- No\n",
      "Attempting to find model='UKESM1-0-LL' and ensemble_member='r4i1p1f2'- No\n",
      "Attempting to find model='UKESM1-0-LL' and ensemble_member='r4i1p1f2'- No\n",
      "Attempting to find model='MPI-ESM1-2-LR' and ensemble_member='r1i1p1f1'- Yes\n",
      "Attempting to find model='GISS-E2-1-G-CC' and ensemble_member='r1i1p1f1'- Yes\n",
      "Attempting to find model='CESM2' and ensemble_member='r1i1p1f1'- Yes\n",
      "Attempting to find model='CESM2' and ensemble_member='r1i1p1f1'- Yes\n",
      "Attempting to find model='NorESM2-LM' and ensemble_member='r1i1p1f1'- Yes\n",
      "Attempting to find model='NorESM2-LM' and ensemble_member='r1i1p1f1'- Yes\n",
      "Attempting to find model='GFDL-ESM4' and ensemble_member='r1i1p1f1'- Yes\n"
     ]
    }
   ],
   "source": [
    "match_picontrol = find_all_matches(base_fpaths_1000PgC, fpaths_dict['picontrol'][variable], name='picontrol')"
   ]
  },
  {
   "cell_type": "code",
   "execution_count": 45,
   "id": "20fafad8-de40-40d5-a848-2adefb0720ac",
   "metadata": {
    "tags": []
   },
   "outputs": [
    {
     "data": {
      "text/plain": [
       "13"
      ]
     },
     "execution_count": 45,
     "metadata": {},
     "output_type": "execute_result"
    }
   ],
   "source": [
    "len(match_picontrol)"
   ]
  },
  {
   "cell_type": "code",
   "execution_count": 41,
   "id": "063f4caf-0736-409c-9476-1c132f32e742",
   "metadata": {
    "tags": []
   },
   "outputs": [
    {
     "data": {
      "text/plain": [
       "8"
      ]
     },
     "execution_count": 41,
     "metadata": {},
     "output_type": "execute_result"
    }
   ],
   "source": [
    "len(match_1pct)"
   ]
  },
  {
   "cell_type": "code",
   "execution_count": 72,
   "id": "fc8546cf-f3e5-4399-b21d-f01330791155",
   "metadata": {
    "tags": []
   },
   "outputs": [
    {
     "data": {
      "text/plain": [
       "[{'CanESM5': {'1000PgC': '/g/data/oi10/replicas/CMIP6/C4MIP/CCCma/CanESM5/esm-1pct-brch-1000PgC/r1i1p2f1/Amon/tas/gn/v20190429',\n",
       "   'picontrol': '/g/data/oi10/replicas/CMIP6/CMIP/CCCma/CanESM5/piControl/r1i1p2f1/Amon/tas/gn/v20190429/tas_Amon_CanESM5_piControl_r1i1p2f1_gn_620101-640012.nc'}},\n",
       " {'CanESM5': {'1000PgC': '/g/data/oi10/replicas/CMIP6/C4MIP/CCCma/CanESM5/esm-1pct-brch-1000PgC/r1i1p2f1/day/tas/gn/v20190429',\n",
       "   'picontrol': '/g/data/oi10/replicas/CMIP6/CMIP/CCCma/CanESM5/piControl/r1i1p2f1/Amon/tas/gn/v20190429/tas_Amon_CanESM5_piControl_r1i1p2f1_gn_620101-640012.nc'}}]"
      ]
     },
     "execution_count": 72,
     "metadata": {},
     "output_type": "execute_result"
    }
   ],
   "source": [
    "match_picontrol[:2]"
   ]
  },
  {
   "cell_type": "code",
   "execution_count": 86,
   "id": "ecbc0c32-98b1-4b6a-8152-263757f3d15d",
   "metadata": {
    "tags": []
   },
   "outputs": [
    {
     "data": {
      "text/plain": [
       "[['MIROC-ES2L'],\n",
       " ['MIROC-ES2L'],\n",
       " ['UKESM1-0-LL'],\n",
       " ['UKESM1-0-LL'],\n",
       " ['MPI-ESM1-2-LR'],\n",
       " ['NorESM2-LM'],\n",
       " ['NorESM2-LM'],\n",
       " ['GFDL-ESM4']]"
      ]
     },
     "execution_count": 86,
     "metadata": {},
     "output_type": "execute_result"
    }
   ],
   "source": [
    "[list(obj) for obj in match_1pct]"
   ]
  },
  {
   "cell_type": "code",
   "execution_count": 70,
   "id": "590eb58b-04cc-4efe-bad8-a63a6b0403bb",
   "metadata": {
    "tags": []
   },
   "outputs": [
    {
     "name": "stdout",
     "output_type": "stream",
     "text": [
      "MIROC-ES2L\n",
      "MIROC-ES2L\n",
      "UKESM1-0-LL\n",
      "UKESM1-0-LL\n",
      "MPI-ESM1-2-LR\n",
      "NorESM2-LM\n",
      "NorESM2-LM\n",
      "GFDL-ESM4\n"
     ]
    }
   ],
   "source": [
    "for pctobj in match_1pct:\n",
    "    # print(piobj)\n",
    "    model = list(pctobj.keys())[0]\n",
    "    print(model)"
   ]
  },
  {
   "cell_type": "markdown",
   "id": "959eace3-17c2-4659-a9ee-b5448e179463",
   "metadata": {
    "jp-MarkdownHeadingCollapsed": true,
    "tags": []
   },
   "source": [
    "# OLD"
   ]
  },
  {
   "cell_type": "code",
   "execution_count": null,
   "id": "1ed3614d-873e-49a5-a282-0a4d875b7aa1",
   "metadata": {
    "tags": []
   },
   "outputs": [],
   "source": [
    "path_matches = []\n",
    "for fpath in base_fpaths_1000PgC:\n",
    "    match = zecmip_open_matching_path(fpath, fpaths_dict['picontrol'][variable], 'piControl')\n",
    "    path_matches.append({fpath:match})"
   ]
  },
  {
   "cell_type": "code",
   "execution_count": null,
   "id": "735c247f",
   "metadata": {
    "tags": []
   },
   "outputs": [],
   "source": [
    "# These are all of the base models - models may have different experminents (r1i1p2f1, r2i1p2f1)\n",
    "base_group = np.unique(['/'.join(f.split('/')[:10])  for f in base_fpaths_1000PgC])\n",
    "base_group"
   ]
  },
  {
   "cell_type": "code",
   "execution_count": null,
   "id": "21bf7713",
   "metadata": {
    "tags": []
   },
   "outputs": [],
   "source": [
    "# Get one experiment for each modelling group\n",
    "needed_experiments = []\n",
    "# Looping through all the base paths\n",
    "for base_group_single in base_group:\n",
    "    \n",
    "    # All the experiments that have this base path\n",
    "    experiments = [f for f in base_fpaths_1000PgC if base_group_single in f]\n",
    "    # Get just the first one available\n",
    "    needed_experiments.append(experiments[0])\n",
    "    \n",
    "needed_experiments"
   ]
  },
  {
   "cell_type": "markdown",
   "id": "c9030b7c-9ca1-407d-bb25-71855c1697b3",
   "metadata": {},
   "source": [
    "# Old"
   ]
  },
  {
   "cell_type": "code",
   "execution_count": null,
   "id": "8c4cafac-b4e4-4eea-a47b-394ee1d42479",
   "metadata": {},
   "outputs": [],
   "source": [
    "# def zecmip_open_matching_path(fpath:str, path_list: List[str]) -> str:\n",
    "#     split_path = fpath.split('/')\n",
    "#     model = split_path[8]; ensemble_member = split_path[10]\n",
    "#     print(f'Attemping to find {model=} and {ensemble_member=}', end='')\n",
    "#     for potential_match in path_list:\n",
    "#         if model in potential_match and ensemble_member in potential_match: \n",
    "#             print('- Yes')\n",
    "#             return potential_match\n",
    "#     print('- No')\n",
    "#     return np.nan\n",
    "\n",
    "# def find_all_matches(list_to_match:List[str], list_of_potentail_matches):\n",
    "    \n",
    "#     path_matches = []\n",
    "#     for fpath in list_to_match:\n",
    "#         match = zecmip_open_matching_path(list_of_potentail_matches)\n",
    "#         if isinstance(match, str): path_matches.append({fpath:match})\n",
    "#     return path_matches"
   ]
  },
  {
   "cell_type": "code",
   "execution_count": 15,
   "id": "cce2605c-3c5b-41bb-ad59-0c51415a8272",
   "metadata": {
    "tags": []
   },
   "outputs": [],
   "source": [
    "# def zecmip_open_matching_path(fpath: str, \n",
    "#                             path_list: List[str],\n",
    "#                             experiment:str='esm-1pct-brch-1000PgC', debug=False) -> str:\n",
    "    \n",
    "#     '''This function takes a path, and finds the matching path for piControl from a list of paths\n",
    "#     containing piControl paths.\n",
    "    \n",
    "#     Parameters\n",
    "#     ----------\n",
    "#     fpath: the path to the dataset that you want to match to piControl.\n",
    "#     unique_picontrol_paths: paths to different piControl runs.\n",
    "#     experiment: the experiment of what you are matching.\n",
    "    \n",
    "    \n",
    "    \n",
    "#     Sample of split path\n",
    "#     fpath = '/g/data/oi10/replicas/CMIP6/C4MIP/CCCma/CanESM5/esm-1pct-brch-1000PgC/r1i1p2f1/Amon/tas/gn/v20190429'\n",
    "#     fpath.split('/')\n",
    "#     0-, 1-g, 2-data, 3-oi10, 4-replicas, 5-CMIP6, 6-C4MIP, 7-CCCma, 8-CanESM5, 9-esm-1pct-brch-1000PgC, 10-r1i1p2f1, 11-Amon,       12-tas, 13-gn, 14-v20190429\n",
    "    \n",
    "#     '''\n",
    "#     import re\n",
    "#     print(f'Attempting to open matching path for:\\n{fpath}')\n",
    "        \n",
    "#     path_branch = '/'.join(fpath.split('/')[7:-2])\n",
    "#     if debug: print(f'{path_branch=}')\n",
    "#     path_branch = path_branch.replace(experiment, '\\w+')#'piControl|esm-piControl')\n",
    "#     if debug: print(f'Searching for branch containing\\n{path_branch}')\n",
    "        \n",
    "#     PATH_FOUND = False\n",
    "#     for path in path_list:\n",
    "#         #if path_branch in pi_path:\n",
    "#         core_path = '/'.join(path.split('/')[7:-2])\n",
    "#         if debug:print(f'{path_branch=} - {core_path=}')\n",
    "#         if re.search(path_branch, core_path):\n",
    "#             PATH_FOUND = True\n",
    "#             if debug: print(f'Found branch:\\n{path_branch}')\n",
    "#             break\n",
    "#     if not PATH_FOUND: return np.nan\n",
    "#     if debug:  print(f'Found path:\\n{picontrol_path}')\n",
    "#     return path"
   ]
  },
  {
   "cell_type": "code",
   "execution_count": null,
   "id": "77ed6d81",
   "metadata": {
    "tags": []
   },
   "outputs": [],
   "source": [
    "needed_model_dict = {v.split('/')[8]:v for v in needed_experiments}\n",
    "needed_model_dict"
   ]
  },
  {
   "cell_type": "code",
   "execution_count": null,
   "id": "30eba9f0",
   "metadata": {
    "tags": []
   },
   "outputs": [],
   "source": [
    "zecmip_path_dict = {'1000pgc': {'all': unique_1000PgC_paths.tolist(), 'needed': needed_model_dict}\n",
    "                    , 'picontrol': unique_picontrol_paths.tolist()}\n",
    "zecmip_path_dict.keys()"
   ]
  },
  {
   "cell_type": "code",
   "execution_count": null,
   "id": "505c422a-6834-44a2-bcac-48f0ce84e85d",
   "metadata": {
    "tags": []
   },
   "outputs": [],
   "source": [
    "pprint(zecmip_path_dict)"
   ]
  },
  {
   "cell_type": "code",
   "execution_count": null,
   "id": "cc63c468",
   "metadata": {},
   "outputs": [],
   "source": [
    "with open('data/zecmip_model_paths.json', 'w') as f:\n",
    "    json.dump(zecmip_path_dict, f)"
   ]
  }
 ],
 "metadata": {
  "kernelspec": {
   "display_name": "Python 3 (ipykernel)",
   "language": "python",
   "name": "python3"
  },
  "language_info": {
   "codemirror_mode": {
    "name": "ipython",
    "version": 3
   },
   "file_extension": ".py",
   "mimetype": "text/x-python",
   "name": "python",
   "nbconvert_exporter": "python",
   "pygments_lexer": "ipython3",
   "version": "3.9.15"
  },
  "toc": {
   "base_numbering": 1,
   "nav_menu": {},
   "number_sections": true,
   "sideBar": true,
   "skip_h1_title": false,
   "title_cell": "Table of Contents",
   "title_sidebar": "Contents",
   "toc_cell": false,
   "toc_position": {},
   "toc_section_display": true,
   "toc_window_display": false
  },
  "varInspector": {
   "cols": {
    "lenName": 16,
    "lenType": 16,
    "lenVar": 40
   },
   "kernels_config": {
    "python": {
     "delete_cmd_postfix": "",
     "delete_cmd_prefix": "del ",
     "library": "var_list.py",
     "varRefreshCmd": "print(var_dic_list())"
    },
    "r": {
     "delete_cmd_postfix": ") ",
     "delete_cmd_prefix": "rm(",
     "library": "var_list.r",
     "varRefreshCmd": "cat(var_dic_list()) "
    }
   },
   "types_to_exclude": [
    "module",
    "function",
    "builtin_function_or_method",
    "instance",
    "_Feature"
   ],
   "window_display": false
  }
 },
 "nbformat": 4,
 "nbformat_minor": 5
}
