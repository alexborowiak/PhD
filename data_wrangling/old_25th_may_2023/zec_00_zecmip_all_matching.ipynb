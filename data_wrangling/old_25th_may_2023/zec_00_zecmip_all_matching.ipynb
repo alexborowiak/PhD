{
 "cells": [
  {
   "cell_type": "code",
   "execution_count": 1,
   "id": "2a78c22f-3c18-4500-a985-71d1546ace00",
   "metadata": {
    "tags": []
   },
   "outputs": [],
   "source": [
    "from glob import glob\n",
    "import sys, os\n",
    "import numpy as np\n",
    "sys.path.append(os.path.join(os.getcwd(), 'Documents/PhD'))\n",
    "import constants\n",
    "import json\n",
    "from typing import List, Dict"
   ]
  },
  {
   "cell_type": "code",
   "execution_count": 2,
   "id": "ac2eb7a5-b258-444a-93c0-839defa070b8",
   "metadata": {
    "tags": []
   },
   "outputs": [
    {
     "data": {
      "text/plain": [
       "('/g/data/oi10/replicas/CMIP6/CMIP', '/g/data/oi10/replicas/CMIP6/C4MIP')"
      ]
     },
     "execution_count": 2,
     "metadata": {},
     "output_type": "execute_result"
    }
   ],
   "source": [
    "constants.DECK_DIR, constants.ZECMIP_DIR"
   ]
  },
  {
   "cell_type": "code",
   "execution_count": 6,
   "id": "2c1ecdd6-5f35-4698-b1fe-d86fb56304b2",
   "metadata": {
    "tags": []
   },
   "outputs": [],
   "source": [
    "fpaths_A1 = glob(constants.ZECMIP_DIR + '/**/*tas*brch-1000PgC*.nc', recursive=True)"
   ]
  },
  {
   "cell_type": "code",
   "execution_count": 8,
   "id": "ab8f9dd7-49bb-4f3d-8126-f0caa284fb40",
   "metadata": {
    "tags": []
   },
   "outputs": [
    {
     "data": {
      "text/plain": [
       "['/g/data/oi10/replicas/CMIP6/C4MIP/MPI-M/MPI-ESM1-2-LR/esm-1pct-brch-1000PgC/r1i1p1f1/Amon/tas/gn/v20190815/tas_Amon_MPI-ESM1-2-LR_esm-1pct-brch-1000PgC_r1i1p1f1_gn_207501-209412.nc',\n",
       " '/g/data/oi10/replicas/CMIP6/C4MIP/MPI-M/MPI-ESM1-2-LR/esm-1pct-brch-1000PgC/r1i1p1f1/Amon/tas/gn/v20190815/tas_Amon_MPI-ESM1-2-LR_esm-1pct-brch-1000PgC_r1i1p1f1_gn_205501-207412.nc',\n",
       " '/g/data/oi10/replicas/CMIP6/C4MIP/MPI-M/MPI-ESM1-2-LR/esm-1pct-brch-1000PgC/r1i1p1f1/Amon/tas/gn/v20190815/tas_Amon_MPI-ESM1-2-LR_esm-1pct-brch-1000PgC_r1i1p1f1_gn_199501-201412.nc']"
      ]
     },
     "execution_count": 8,
     "metadata": {},
     "output_type": "execute_result"
    }
   ],
   "source": [
    "fpaths_A1[:3]"
   ]
  },
  {
   "cell_type": "code",
   "execution_count": 10,
   "id": "b6cee09a-6a55-46d1-8958-7f81c93b0a54",
   "metadata": {
    "tags": []
   },
   "outputs": [
    {
     "data": {
      "text/plain": [
       "array(['g/data/oi10/replicas/CMIP6/C4MIP/CCCma/CanESM5',\n",
       "       'g/data/oi10/replicas/CMIP6/C4MIP/MIROC/MIROC-ES2L',\n",
       "       'g/data/oi10/replicas/CMIP6/C4MIP/MOHC/UKESM1-0-LL',\n",
       "       'g/data/oi10/replicas/CMIP6/C4MIP/MPI-M/MPI-ESM1-2-LR',\n",
       "       'g/data/oi10/replicas/CMIP6/C4MIP/NASA-GISS/GISS-E2-1-G-CC',\n",
       "       'g/data/oi10/replicas/CMIP6/C4MIP/NCAR/CESM2',\n",
       "       'g/data/oi10/replicas/CMIP6/C4MIP/NCC/NorESM2-LM',\n",
       "       'g/data/oi10/replicas/CMIP6/C4MIP/NOAA-GFDL/GFDL-ESM4'],\n",
       "      dtype='<U57')"
      ]
     },
     "execution_count": 10,
     "metadata": {},
     "output_type": "execute_result"
    }
   ],
   "source": [
    "base_fpaths_A1 = np.unique([os.path.join(*f.split('/')[:9]) for f in fpaths_A1])\n",
    "base_fpaths_A1"
   ]
  },
  {
   "cell_type": "code",
   "execution_count": null,
   "id": "52b19bab-7193-4257-a2ac-8d5730875a9b",
   "metadata": {},
   "outputs": [],
   "source": [
    "types_to_match = ['piControl', '1pctCO2-bgc', '1pctCO2-rad']"
   ]
  },
  {
   "cell_type": "code",
   "execution_count": null,
   "id": "4facfc88-3974-4e8c-83d3-bd61011ea642",
   "metadata": {},
   "outputs": [],
   "source": [
    "for base_fpath in base_fpaths_A1:\n",
    "    for mtype in types_to_match:\n",
    "        type_matchese = glob(os.path.join(base_fpath, f'/**/*tas*{mtype}*.nc'), recursive=True)\n",
    "        "
   ]
  },
  {
   "cell_type": "code",
   "execution_count": 17,
   "id": "d8b635c8-27e7-4bd7-8c7d-b36f6f3a7d66",
   "metadata": {
    "tags": []
   },
   "outputs": [
    {
     "data": {
      "text/plain": [
       "'/g/data/oi10/replicas/CMIP6/C4MIP/CCCma/CanESM5/**/*piControl*.nc'"
      ]
     },
     "execution_count": 17,
     "metadata": {},
     "output_type": "execute_result"
    }
   ],
   "source": [
    "'/' + os.path.join(base_fpaths_A1[0] + '/**/*piControl*.nc')"
   ]
  },
  {
   "cell_type": "code",
   "execution_count": 16,
   "id": "51923cbe-6744-40e3-83a7-bdd6b49f8c2d",
   "metadata": {
    "tags": []
   },
   "outputs": [
    {
     "data": {
      "text/plain": [
       "[]"
      ]
     },
     "execution_count": 16,
     "metadata": {},
     "output_type": "execute_result"
    }
   ],
   "source": [
    "glob('/' + os.path.join(base_fpaths_A1[0] + '/**/*piControl*.nc'), recursive=True)"
   ]
  },
  {
   "cell_type": "code",
   "execution_count": 12,
   "id": "0ccea600-4e41-42ca-8745-ccd49895c741",
   "metadata": {
    "tags": []
   },
   "outputs": [
    {
     "data": {
      "text/plain": [
       "[]"
      ]
     },
     "execution_count": 12,
     "metadata": {},
     "output_type": "execute_result"
    }
   ],
   "source": [
    "glob(os.path.join(base_fpaths_A1[0], '**/*tas*piControl*.nc'), recursive=True)"
   ]
  },
  {
   "cell_type": "code",
   "execution_count": null,
   "id": "82b02a59-ea86-47b7-9676-2eeed32e7984",
   "metadata": {},
   "outputs": [],
   "source": []
  },
  {
   "cell_type": "code",
   "execution_count": null,
   "id": "da76def1-cbd5-4c88-be46-eee61fde786d",
   "metadata": {},
   "outputs": [],
   "source": [
    "# def sort_into_variable_groups(paths_list: List[str], variable_index: int = -4) -> Dict[str, List[str]]:\n",
    "#     \"\"\"\n",
    "#     Sorts a list of file paths into groups based on the variable located at a specified index in each path.\n",
    "\n",
    "#     Args:\n",
    "#         paths_list (List[str]): A list of file paths.\n",
    "#         variable_index (int, optional): The index of the variable in each file path. Defaults to -4.\n",
    "\n",
    "#     Returns:\n",
    "#         Dict[str, List[str]]: A dictionary where the keys are the variables extracted from the file paths and the\n",
    "#         values are the lists of file paths associated with each variable.\n",
    "#     \"\"\"\n",
    "#     variable_groups = {}\n",
    "#     for path in paths_list:\n",
    "#         variable = path.split('/')[variable_index]\n",
    "#         if variable in variable_groups: variable_groups[variable].append(path)\n",
    "#         else: variable_groups[variable] = [path]\n",
    "#     return variable_groups\n",
    "\n",
    "\n",
    "# fpaths_A1_grouped = sort_into_variable_groups(fpaths_A1)\n",
    "# fpaths_A1_grouped.keys()\n",
    "# base_fpaths_A1 = np.unique([os.path.join(*f.split('/')[:9]) for f in fpaths_A1_grouped['tas']])"
   ]
  }
 ],
 "metadata": {
  "kernelspec": {
   "display_name": "Python 3 (ipykernel)",
   "language": "python",
   "name": "python3"
  },
  "language_info": {
   "codemirror_mode": {
    "name": "ipython",
    "version": 3
   },
   "file_extension": ".py",
   "mimetype": "text/x-python",
   "name": "python",
   "nbconvert_exporter": "python",
   "pygments_lexer": "ipython3",
   "version": "3.9.15"
  }
 },
 "nbformat": 4,
 "nbformat_minor": 5
}
