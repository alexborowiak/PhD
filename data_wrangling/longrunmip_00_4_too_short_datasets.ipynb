{
 "cells": [
  {
   "cell_type": "markdown",
   "id": "67851d7e",
   "metadata": {},
   "source": [
    "# Too Short Models\n",
    "There are seveal models that contain lengths that are shorter than expected from LongRunMIP. Exploring why this is the case."
   ]
  },
  {
   "cell_type": "code",
   "execution_count": 2,
   "id": "91699b76",
   "metadata": {},
   "outputs": [],
   "source": [
    "import sys, os\n",
    "import numpy as np\n",
    "import xarray as xr\n",
    "import constants\n",
    "import json\n",
    "\n",
    "sys.path.append(constants.MODULE_DIR)\n",
    "import open_ds\n",
    "\n",
    "import utils\n",
    "from classes import ExperimentTypes"
   ]
  },
  {
   "cell_type": "code",
   "execution_count": 3,
   "id": "1818b933",
   "metadata": {},
   "outputs": [
    {
     "data": {
      "text/plain": [
       "{'ccsm3': {'control': 1530, '4xCO2': 2120},\n",
       " 'cesm104': {'control': 1000, '4xCO2': 5900},\n",
       " 'cnrmcm61': {'control': 2000, '4xCO2': 1850},\n",
       " 'ecearth': {'control': 508, '4xCO2': 150},\n",
       " 'echam5mpiom': {'control': 100, '4xCO2': 1001},\n",
       " 'famous': {'control': 3000, '4xCO2': 3000},\n",
       " 'gfdlcm3': {'control': 5200, '4xCO2': 150},\n",
       " 'gfdlcm3_2': {'control': 500, '4xCO2': 150},\n",
       " 'gfdlesm2m': {'control': 1340, '4xCO2': 150},\n",
       " 'gfdlesm2m_2': {'control': 500, '4xCO2': 150},\n",
       " 'gisse2r': {'control': 128, '4xCO2': 5001},\n",
       " 'hadcm3l': {'control': 1000, '4xCO2': 1000},\n",
       " 'hadgem2': {'control': 239, '4xCO2': 1299},\n",
       " 'ipslcm5a': {'control': 1000, '4xCO2': 1000},\n",
       " 'miroc32': {'control': 681, '4xCO2': 150},\n",
       " 'mpiesm11': {'control': 2000, '4xCO2': 4459},\n",
       " 'mpiesm12': {'control': 1237, '4xCO2': 1000}}"
      ]
     },
     "execution_count": 3,
     "metadata": {},
     "output_type": "execute_result"
    }
   ],
   "source": [
    "with open('data/longrunmip_model_lengths.json', 'r') as f:\n",
    "    longrunmip_model_lengths = json.loads(f.read())\n",
    "\n",
    "longrunmip_model_lengths"
   ]
  },
  {
   "cell_type": "code",
   "execution_count": 4,
   "id": "46c3e220",
   "metadata": {},
   "outputs": [
    {
     "name": "stdout",
     "output_type": "stream",
     "text": [
      "lenght = 6\n",
      " 0. ecearth\n",
      " 1. gfdlcm3\n",
      " 2. gfdlcm3_2\n",
      " 3. gfdlesm2m\n"
     ]
    }
   ],
   "source": [
    "too_short_models = [key for key,value in longrunmip_model_lengths.items() if value['4xCO2'] < 160]\n",
    "utils.pprint_list(too_short_models, num_start_items=4)"
   ]
  },
  {
   "cell_type": "code",
   "execution_count": 5,
   "id": "48cd1a76",
   "metadata": {},
   "outputs": [
    {
     "data": {
      "text/plain": [
       "'/g/data/w40/ab2313/PhD/longrunmip/tas'"
      ]
     },
     "execution_count": 5,
     "metadata": {},
     "output_type": "execute_result"
    }
   ],
   "source": [
    "variable = 'tas'\n",
    "ROOT_DIR = os.path.join(constants.LONGRUNMIP_DIR, variable)\n",
    "ROOT_DIR"
   ]
  },
  {
   "cell_type": "code",
   "execution_count": 6,
   "id": "fb1b0d40",
   "metadata": {},
   "outputs": [
    {
     "name": "stdout",
     "output_type": "stream",
     "text": [
      "- model='gfdlcm3_2' - found_fname=None - No file found\n",
      "- model='gfdlesm2m_2' - found_fname=None - No file found\n",
      "lenght = 4\n",
      " 0. tas_mon_ECEARTH_abrupt4x_150_g025.nc\n",
      " 1. tas_ann_GFDLCM3_abrupt4x_150_g025.nc\n",
      " 2. tas_ann_GFDLESM2M_abrupt4x_150_g025.nc\n",
      " 3. tas_mon_MIROC32_abrupt4x_150_g025.nc\n"
     ]
    }
   ],
   "source": [
    "files_to_open = open_ds.get_file_names_from_from_directory(os.path.join(ROOT_DIR, 'regrid') \n",
    "                                                           ,ExperimentTypes.ABRUPT4X, \n",
    "                                                           too_short_models)\n",
    "utils.pprint_list(files_to_open, num_start_items=4)"
   ]
  },
  {
   "cell_type": "code",
   "execution_count": 7,
   "id": "52aea985",
   "metadata": {},
   "outputs": [],
   "source": [
    "ds_list = []\n",
    "\n",
    "for fname in files_to_open:\n",
    "    ds = xr.open_dataset(os.path.join(ROOT_DIR, 'regrid', fname), use_cftime=True)\n",
    "    ds_list.append(ds)"
   ]
  },
  {
   "cell_type": "code",
   "execution_count": 8,
   "id": "4039acf3",
   "metadata": {},
   "outputs": [
    {
     "data": {
      "text/plain": [
       "array([18500115., 18500215., 18500315., 18500415., 18500515., 18500615.,\n",
       "       18500715., 18500815., 18500915., 18501015., 18501115., 18501215.])"
      ]
     },
     "execution_count": 8,
     "metadata": {},
     "output_type": "execute_result"
    }
   ],
   "source": [
    "ds_list[0].time.values[:12]"
   ]
  },
  {
   "cell_type": "code",
   "execution_count": 9,
   "id": "845b1d06",
   "metadata": {},
   "outputs": [
    {
     "data": {
      "text/plain": [
       "array([cftime.DatetimeGregorian(1, 6, 30, 19, 0, 0, 0, has_year_zero=False),\n",
       "       cftime.DatetimeGregorian(2, 6, 30, 19, 0, 0, 0, has_year_zero=False),\n",
       "       cftime.DatetimeGregorian(3, 6, 30, 19, 0, 0, 0, has_year_zero=False),\n",
       "       cftime.DatetimeGregorian(4, 6, 30, 15, 0, 0, 0, has_year_zero=False),\n",
       "       cftime.DatetimeGregorian(5, 6, 30, 19, 0, 0, 0, has_year_zero=False),\n",
       "       cftime.DatetimeGregorian(6, 6, 30, 19, 0, 0, 0, has_year_zero=False),\n",
       "       cftime.DatetimeGregorian(7, 6, 30, 19, 0, 0, 0, has_year_zero=False),\n",
       "       cftime.DatetimeGregorian(8, 6, 30, 15, 0, 0, 0, has_year_zero=False),\n",
       "       cftime.DatetimeGregorian(9, 6, 30, 19, 0, 0, 0, has_year_zero=False),\n",
       "       cftime.DatetimeGregorian(10, 6, 30, 19, 0, 0, 0, has_year_zero=False),\n",
       "       cftime.DatetimeGregorian(11, 6, 30, 19, 0, 0, 0, has_year_zero=False),\n",
       "       cftime.DatetimeGregorian(12, 6, 30, 15, 0, 0, 0, has_year_zero=False)],\n",
       "      dtype=object)"
      ]
     },
     "execution_count": 9,
     "metadata": {},
     "output_type": "execute_result"
    }
   ],
   "source": [
    "ds_list[1].year.values[:12]"
   ]
  },
  {
   "cell_type": "code",
   "execution_count": null,
   "id": "c83521a4",
   "metadata": {},
   "outputs": [],
   "source": []
  },
  {
   "cell_type": "code",
   "execution_count": null,
   "id": "b2d616a0",
   "metadata": {},
   "outputs": [],
   "source": []
  }
 ],
 "metadata": {
  "kernelspec": {
   "display_name": "Python 3 (ipykernel)",
   "language": "python",
   "name": "python3"
  },
  "language_info": {
   "codemirror_mode": {
    "name": "ipython",
    "version": 3
   },
   "file_extension": ".py",
   "mimetype": "text/x-python",
   "name": "python",
   "nbconvert_exporter": "python",
   "pygments_lexer": "ipython3",
   "version": "3.9.13"
  }
 },
 "nbformat": 4,
 "nbformat_minor": 5
}
