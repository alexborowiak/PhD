{
 "cells": [
  {
   "cell_type": "markdown",
   "id": "30f5a1ec",
   "metadata": {},
   "source": [
    "# Time Analysis\n",
    "\n",
    "* Time analysis of lungrunmip data\n",
    "* Number of models for each experiment.\n",
    "This notebook contains an exploration of the timesteps in the longrunmip data.\n",
    "The notebooks also contains a time override. The models in my study all need to have the same timestamps - year since initialisation. The easiest way to go about this is overriding all time stamps and adding back in new time depending if annual or monthly (ann or monn in file name). "
   ]
  },
  {
   "cell_type": "code",
   "execution_count": 1,
   "id": "cd237fda",
   "metadata": {},
   "outputs": [],
   "source": [
    "import os, sys, warnings, cftime\n",
    "import xarray as xr\n",
    "import numpy as np\n",
    "import pandas as pd\n",
    "import matplotlib.pyplot \n",
    "import matplotlib.pyplot as plt\n",
    "warnings.filterwarnings('ignore')\n",
    "import constants\n",
    "sys.path.append(constants.MODULE_DIR)\n",
    "from importlib import reload\n",
    "from time import perf_counter\n",
    "from typing import List\n",
    "import re\n",
    "import xarray_class_accessors as xca\n",
    "import utils\n",
    "import open_ds\n",
    "\n",
    "from pprint import pprint"
   ]
  },
  {
   "cell_type": "markdown",
   "id": "99fe34d5",
   "metadata": {},
   "source": [
    "# Files"
   ]
  },
  {
   "cell_type": "code",
   "execution_count": 35,
   "id": "0fc4992e",
   "metadata": {},
   "outputs": [],
   "source": [
    "def remove_other_variables(ds, variable):\n",
    "    try:\n",
    "        ds = ds[[variable]]\n",
    "    # The dataset does not contain the variable for some reeason\n",
    "    except KeyError as e:\n",
    "        print('| Variable not found in dataset checing for other possible names')\n",
    "        data_vars = np.array(ds.data_vars)\n",
    "        \n",
    "        # Only one variable there, so this must be it.\n",
    "        if len(data_vars) == 1:\n",
    "            ds = ds.rename({data_vars[0]: variable})\n",
    "            # Can now try this again\n",
    "            ds = ds[[variable]]\n",
    "        else:\n",
    "            possible_extra_vars = ['time_bnds', 'height', 'TAREA']\n",
    "            possible_name = data_vars[~np.isin(data_vars, possible_extra_vars)]\n",
    "            \n",
    "            if len(possible_name) != 1:\n",
    "                raise ValueError(f'Cant automate name change {possible_name=}')\n",
    "                \n",
    "            ds = ds.rename({possible_name[0]: variable})\n",
    "            \n",
    "            ds = ds[[variable]]\n",
    "        \n",
    "    return ds"
   ]
  },
  {
   "cell_type": "code",
   "execution_count": 36,
   "id": "ab49edb9",
   "metadata": {},
   "outputs": [],
   "source": [
    "def refactor_longronmip_netcdf(ds: xr.Dataset, months:list = None) -> xr.Dataset:\n",
    "    print('\\n| Recatoring dims |', end='')\n",
    "    ds = open_ds.refactor_dims(ds)\n",
    "\n",
    "    freq = 'M' if re.search('\\w+mon\\w+', fname) else 'Y'\n",
    "    print(f' | {freq=}', end='')\n",
    "    ds['time'] = open_ds.make_new_time(ds, freq=freq, debug=False)\n",
    "    \n",
    "    if months and freq == 'M':\n",
    "        print(f' | subsetting for months {months}')\n",
    "        print(f' length = {len(ds.time.values)}')\n",
    "        ds = ds.where(ds.time.dt.month.isin(months), drop=True)\n",
    "        print(f' length = {len(ds.time.values)}')\n",
    "\n",
    "    if freq == 'M':\n",
    "        print(f' | resample=True, old_length = {len(ds.time.values)}, ', end='')\n",
    "        ds = ds.resample(time='Y').mean()\n",
    "    print(f' length = {len(ds.time.values)}')\n",
    "        \n",
    "    return ds   "
   ]
  },
  {
   "cell_type": "code",
   "execution_count": 37,
   "id": "1f1afeb6",
   "metadata": {},
   "outputs": [
    {
     "data": {
      "text/plain": [
       "['tas',\n",
       " 'surf',\n",
       " 'netTOA',\n",
       " 'landesea_masks',\n",
       " 'tos',\n",
       " 'pr',\n",
       " '.ipynb_checkpoints',\n",
       " 'psl',\n",
       " 'sic']"
      ]
     },
     "execution_count": 37,
     "metadata": {},
     "output_type": "execute_result"
    }
   ],
   "source": [
    "os.listdir(constants.LONGRUNMIP_DIR)"
   ]
  },
  {
   "cell_type": "code",
   "execution_count": 38,
   "id": "52018c76",
   "metadata": {},
   "outputs": [],
   "source": [
    "variable = 'sic' # Completed: pr, tas, sic, surf, tos, psl, netTOA\n",
    "ROOT_DIR = os.path.join(constants.LONGRUNMIP_DIR, variable, 'regrid')"
   ]
  },
  {
   "cell_type": "code",
   "execution_count": 39,
   "id": "b203af63",
   "metadata": {},
   "outputs": [
    {
     "name": "stdout",
     "output_type": "stream",
     "text": [
      "lenght = 47\n",
      " 0. sic_mon_GISSE2R_control_5225_g025.nc\n",
      " 1. sic_mon_CNRMCM61_abrupt2x_750_g025.nc\n"
     ]
    }
   ],
   "source": [
    "files = os.listdir(ROOT_DIR)\n",
    "utils.pprint_list(files)"
   ]
  },
  {
   "cell_type": "code",
   "execution_count": 63,
   "id": "c51b4dd8",
   "metadata": {},
   "outputs": [],
   "source": [
    "month_group = 'aso'"
   ]
  },
  {
   "cell_type": "code",
   "execution_count": 64,
   "id": "782dc8cd",
   "metadata": {},
   "outputs": [
    {
     "data": {
      "text/plain": [
       "[8, 9, 10]"
      ]
     },
     "execution_count": 64,
     "metadata": {},
     "output_type": "execute_result"
    }
   ],
   "source": [
    "MONTH_GROUP_MAPPING = {'fma': [2,3,4], 'aso': [8, 9, 10], None: None}\n",
    "months = MONTH_GROUP_MAPPING[month_group]\n",
    "months"
   ]
  },
  {
   "cell_type": "code",
   "execution_count": 65,
   "id": "49fc841f",
   "metadata": {},
   "outputs": [
    {
     "data": {
      "text/plain": [
       "'/g/data/w40/ab2313/PhD/longrunmip/sic/regrid_retimestamped/aso'"
      ]
     },
     "execution_count": 65,
     "metadata": {},
     "output_type": "execute_result"
    }
   ],
   "source": [
    "OUTPUT_DIR = os.path.join(constants.LONGRUNMIP_DIR, variable, 'regrid_retimestamped')\n",
    "utils.mkdir_no_error(OUTPUT_DIR)\n",
    "if month_group:\n",
    "    OUTPUT_DIR = os.path.join(OUTPUT_DIR, month_group)\n",
    "    utils.mkdir_no_error(OUTPUT_DIR)\n",
    "OUTPUT_DIR"
   ]
  },
  {
   "cell_type": "code",
   "execution_count": 66,
   "id": "d62eab11",
   "metadata": {},
   "outputs": [
    {
     "name": "stdout",
     "output_type": "stream",
     "text": [
      "lenght = 0\n"
     ]
    }
   ],
   "source": [
    "utils.pprint_list(os.listdir(OUTPUT_DIR), num_start_items=0)"
   ]
  },
  {
   "cell_type": "code",
   "execution_count": 67,
   "id": "ad68ad31",
   "metadata": {},
   "outputs": [
    {
     "name": "stdout",
     "output_type": "stream",
     "text": [
      "lenght = 26\n",
      " 0. sic_mon_GISSE2R_control_5225_g025.nc\n",
      " 1. sic_mon_CCSM3_abrupt4x_2120_g025.nc\n",
      " 2. sic_mon_MIROC32_abrupt4x_150_g025.nc\n",
      " 3. sic_mon_GFDLESM2M_control_1340_g025.nc\n",
      " 4. sic_mon_MPIESM11_abrupt4x_4520_g025.nc\n",
      " 5. sic_mon_HadCM3L_abrupt4x_1000_g025.nc\n",
      " 6. sic_mon_MPIESM12_control_1500_g025.nc\n",
      " 7. sic_ann_HadGEM2_abrupt4x_1295_g025.nc\n",
      " 8. sic_mon_ECEARTH_control_508_g025.nc\n",
      " 9. sic_ann_HadGEM2_control_239_g025.nc\n",
      " 10. sic_mon_GISSE2R_abrupt4x_5001_g025.nc\n",
      " 11. sic_mon_HadCM3L_control_1000_g025.nc\n",
      " 12. sic_mon_IPSLCM5A_abrupt4x_1000_g025.nc\n",
      " 13. sic_mon_CNRMCM61_control_2000_g025.nc\n",
      " 14. sic_mon_CCSM3_control_1530_g025.nc\n",
      " 15. sic_ann_FAMOUS_abrupt4x_3000_g025.nc\n",
      " 16. sic_mon_MPIESM12_abrupt4x_1000_g025.nc\n",
      " 17. sic_mon_ECHAM5MPIOM_control_100_g025.nc\n",
      " 18. sic_ann_FAMOUS_control_3000_g025.nc\n",
      " 19. sic_mon_CESM104_abrupt4x_5900_g025.nc\n",
      " 20. sic_mon_MPIESM11_control_2000_g025.nc\n",
      " 21. sic_mon_CESM104_control_1000_g025.nc\n",
      " 22. sic_mon_CNRMCM61_abrupt4x_1850_g025.nc\n",
      " 23. sic_mon_MIROC32_control_680_g025.nc\n",
      " 24. sic_mon_GFDLCM3_control_5200_g025.nc\n",
      " 25. sic_mon_IPSLCM5A_control_1200_g025.nc\n"
     ]
    }
   ],
   "source": [
    "# Only need 4x and control\n",
    "files = [f for f in files if 'abrupt4x' in f or 'control' in f]\n",
    "utils.pprint_list(files, num_start_items=len(files))"
   ]
  },
  {
   "cell_type": "code",
   "execution_count": 68,
   "id": "4d5e4e39",
   "metadata": {},
   "outputs": [],
   "source": [
    "# Special files that may have failed.\n",
    "# These are checked in http://localhost:8888/notebooks/Documents/PhD/longrumip_00_07_data_opening_check.ipynb\n",
    "# 'tas_mon_CNRMCM61_control_2000_g025.nc', 'tas_mon_IPSLCM5A_abrupt4x_1000_g025.nc' \n",
    "# 'surf_ann_CESM104_abrupt4x_5900_g025.nc', 'surf_ann_CESM104_abrupt4x_5900_g025.nc'\n",
    "# files = ['sic_mon_CESM104_abrupt4x_5900_g02.nc']"
   ]
  },
  {
   "cell_type": "code",
   "execution_count": 69,
   "id": "b32f800a",
   "metadata": {},
   "outputs": [],
   "source": [
    "error_log = []\n",
    "# sic_mon_CESM104_abrupt4x_5900_g025 error but no log"
   ]
  },
  {
   "cell_type": "code",
   "execution_count": 70,
   "id": "00aaa36b",
   "metadata": {
    "scrolled": false
   },
   "outputs": [
    {
     "name": "stdout",
     "output_type": "stream",
     "text": [
      "1: - sic_mon_GISSE2R_control_5225_g025.nc\n",
      "| Recatoring dims | | freq='M' | subsetting for months [8, 9, 10]\n",
      " length = 62700\n",
      " length = 15675\n",
      " | resample=True, old_length = 15675,  length = 5225\n",
      "| complete (7596.684042098001)\n",
      "2: - sic_mon_CCSM3_abrupt4x_2120_g025.nc\n",
      "| Recatoring dims | | freq='M' | subsetting for months [8, 9, 10]\n",
      " length = 25440\n",
      " length = 6360\n",
      " | resample=True, old_length = 6360,  length = 2120\n",
      "| complete (187.68991639837623)\n",
      "3: - sic_mon_MIROC32_abrupt4x_150_g025.nc\n",
      "| Recatoring dims | | freq='M' | subsetting for months [8, 9, 10]\n",
      " length = 1800\n",
      " length = 450\n",
      " | resample=True, old_length = 450,  length = 150\n",
      "| complete (9.663656548596919)\n",
      "4: - sic_mon_GFDLESM2M_control_1340_g025.nc\n",
      "| Recatoring dims |Chaning TIME to time\n",
      " | freq='M' | subsetting for months [8, 9, 10]\n",
      " length = 16080\n",
      " length = 4020\n",
      " | resample=True, old_length = 4020,  length = 1340\n",
      "| complete (125.61894918698817)\n",
      "5: - sic_mon_MPIESM11_abrupt4x_4520_g025.nc\n",
      "| Recatoring dims | | freq='M' | subsetting for months [8, 9, 10]\n",
      " length = 53496\n",
      " length = 13374\n",
      " | resample=True, old_length = 13374,  length = 4458\n",
      "| complete (585.27877829317)\n",
      "6: - sic_mon_HadCM3L_abrupt4x_1000_g025.nc\n",
      "| Recatoring dims |Chaning month to time\n",
      " | freq='M' | subsetting for months [8, 9, 10]\n",
      " length = 12000\n",
      " length = 3000\n",
      " | resample=True, old_length = 3000,  length = 1000\n",
      "| complete (76.86116078402847)\n",
      "7: - sic_mon_MPIESM12_control_1500_g025.nc\n",
      "| Recatoring dims | | freq='M' | subsetting for months [8, 9, 10]\n",
      " length = 18000\n",
      " length = 4500\n",
      " | resample=True, old_length = 4500,  length = 1500\n",
      "| complete (145.562888905406)\n",
      "8: - sic_ann_HadGEM2_abrupt4x_1295_g025.nc\n",
      "| Recatoring dims | | freq='Y' length = 1295\n",
      "| complete (1.8518477967008948)\n",
      "9: - sic_mon_ECEARTH_control_508_g025.nc\n",
      "| Recatoring dims | | freq='M' | subsetting for months [8, 9, 10]\n",
      " length = 5928\n",
      " length = 1482\n",
      " | resample=True, old_length = 1482,  length = 494\n",
      "| complete (38.416760524734855)\n",
      "10: - sic_ann_HadGEM2_control_239_g025.nc\n",
      "| Recatoring dims | | freq='Y' length = 239\n",
      "| complete (0.43094417825341225)\n",
      "11: - sic_mon_GISSE2R_abrupt4x_5001_g025.nc\n",
      "| Recatoring dims | | freq='M' | subsetting for months [8, 9, 10]\n",
      " length = 60012\n",
      " length = 15003\n",
      " | resample=True, old_length = 15003,  length = 5001\n",
      "| complete (6591.637946580537)\n",
      "12: - sic_mon_HadCM3L_control_1000_g025.nc\n",
      "| Recatoring dims |Chaning month to time\n",
      " | freq='M' | subsetting for months [8, 9, 10]\n",
      " length = 12000\n",
      " length = 3000\n",
      " | resample=True, old_length = 3000,  length = 1000\n",
      "| complete (85.50784740783274)\n",
      "13: - sic_mon_IPSLCM5A_abrupt4x_1000_g025.nc\n",
      "| Recatoring dims | | freq='M' | subsetting for months [8, 9, 10]\n",
      " length = 12000\n",
      " length = 3000\n",
      " | resample=True, old_length = 3000,  length = 1000\n",
      "| complete (88.35865833144635)\n",
      "14: - sic_mon_CNRMCM61_control_2000_g025.nc\n",
      "| Recatoring dims | | freq='M' | subsetting for months [8, 9, 10]\n",
      " length = 24000\n",
      " length = 6000\n",
      " | resample=True, old_length = 6000,  length = 2000\n",
      "| complete (180.41219997406006)\n",
      "15: - sic_mon_CCSM3_control_1530_g025.nc\n",
      "| Recatoring dims | | freq='M' | subsetting for months [8, 9, 10]\n",
      " length = 18360\n",
      " length = 4590\n",
      " | resample=True, old_length = 4590,  length = 1530\n",
      "| complete (130.279890130274)\n",
      "16: - sic_ann_FAMOUS_abrupt4x_3000_g025.nc\n",
      "| Recatoring dims | | freq='Y' length = 3000\n",
      "| complete (1.7285441849380732)\n",
      "17: - sic_mon_MPIESM12_abrupt4x_1000_g025.nc\n",
      "| Recatoring dims | | freq='M' | subsetting for months [8, 9, 10]\n",
      " length = 12000\n",
      " length = 3000\n",
      " | resample=True, old_length = 3000,  length = 1000\n",
      "| complete (85.7868526224047)\n",
      "18: - sic_mon_ECHAM5MPIOM_control_100_g025.nc\n",
      "| Recatoring dims | | freq='M' | subsetting for months [8, 9, 10]\n",
      " length = 1200\n",
      " length = 300\n",
      " | resample=True, old_length = 300,  length = 100\n",
      "| complete (5.117973807267845)\n",
      "19: - sic_ann_FAMOUS_control_3000_g025.nc\n",
      "| Recatoring dims | | freq='Y' length = 3000\n",
      "| complete (1.9175511104986072)\n",
      "20: - sic_mon_CESM104_abrupt4x_5900_g025.nc\n",
      "ERROR: [Errno -101] NetCDF: HDF error: b'/g/data/w40/ab2313/PhD/longrunmip/sic/regrid/sic_mon_CESM104_abrupt4x_5900_g025.nc'\n",
      "\n",
      "| complete (1.3238367959856987)\n",
      "21: - sic_mon_MPIESM11_control_2000_g025.nc\n",
      "| Recatoring dims | | freq='M' | subsetting for months [8, 9, 10]\n",
      " length = 24000\n",
      " length = 6000\n",
      " | resample=True, old_length = 6000,  length = 2000\n",
      "| complete (202.21108204033226)\n",
      "22: - sic_mon_CESM104_control_1000_g025.nc\n",
      "| Recatoring dims | | freq='M' | subsetting for months [8, 9, 10]\n",
      " length = 12000\n",
      " length = 3000\n",
      " | resample=True, old_length = 3000,  length = 1000\n",
      "| complete (81.07354339770973)\n",
      "23: - sic_mon_CNRMCM61_abrupt4x_1850_g025.nc\n",
      "| Recatoring dims | | freq='M' | subsetting for months [8, 9, 10]\n",
      " length = 22200\n",
      " length = 5550\n",
      " | resample=True, old_length = 5550,  length = 1850\n",
      "| complete (164.1944719189778)\n",
      "24: - sic_mon_MIROC32_control_680_g025.nc\n",
      "| Recatoring dims | | freq='M' | subsetting for months [8, 9, 10]\n",
      " length = 8172\n",
      " length = 2043\n",
      " | resample=True, old_length = 2043,  length = 681\n",
      "| complete (54.26502473093569)\n",
      "25: - sic_mon_GFDLCM3_control_5200_g025.nc\n",
      "| Recatoring dims |Chaning TIME to time\n",
      " | freq='M' | subsetting for months [8, 9, 10]\n",
      " length = 62400\n",
      " length = 15600\n",
      " | resample=True, old_length = 15600,  length = 5200\n",
      "| complete (681.7942722700536)\n",
      "26: - sic_mon_IPSLCM5A_control_1200_g025.nc\n",
      "| Recatoring dims | | freq='M' | subsetting for months [8, 9, 10]\n",
      " length = 12000\n",
      " length = 3000\n",
      " | resample=True, old_length = 3000,  length = 1000\n",
      "| complete (86.48390575125813)\n"
     ]
    }
   ],
   "source": [
    "for i, fname in enumerate(files):\n",
    "\n",
    "    t1 = perf_counter()\n",
    "    print(f'{i+1}: - {fname}', end='')\n",
    "    fpath = os.path.join(ROOT_DIR, fname)\n",
    "\n",
    "    try:\n",
    "        ds = xr.open_dataset(fpath, use_cftime=True)\n",
    "        ds = remove_other_variables(ds, variable) \n",
    "        ds = refactor_longronmip_netcdf(ds, months=months)\n",
    "    except ValueError as e:\n",
    "        ds = xr.open_dataset(fpath, decode_times=False)\n",
    "        ds = remove_other_variables(ds, variable) \n",
    "        ds = refactor_longronmip_netcdf(ds, months=months)\n",
    "    except (ValueError, OSError, KeyError, FileNotFoundError) as e:\n",
    "        print(f'\\nERROR: {e}\\n')\n",
    "        error_log.append({fname: e})       \n",
    "    try:\n",
    "        ds.to_netcdf(os.path.join(OUTPUT_DIR, fname))\n",
    "        t2 = perf_counter()\n",
    "        print(f'| complete ({t2-t1})')\n",
    "    except PermissionError as e:\n",
    "        print(f'\\nERROR: {e}\\n')\n",
    "        error_log.append({fname: e})        "
   ]
  },
  {
   "cell_type": "code",
   "execution_count": 71,
   "id": "9916b906",
   "metadata": {},
   "outputs": [
    {
     "data": {
      "text/plain": [
       "[{'sic_mon_CESM104_abrupt4x_5900_g025.nc': OSError(-101, 'NetCDF: HDF error')}]"
      ]
     },
     "execution_count": 71,
     "metadata": {},
     "output_type": "execute_result"
    }
   ],
   "source": [
    "error_log"
   ]
  },
  {
   "cell_type": "code",
   "execution_count": null,
   "id": "afddbd3e",
   "metadata": {},
   "outputs": [],
   "source": [
    "file_check = os.listdir(OUTPUT_DIR)\n",
    "utils.pprint_list(file_check)"
   ]
  },
  {
   "cell_type": "markdown",
   "id": "30794f43",
   "metadata": {},
   "source": [
    "Failed files <br> \n",
    "<b> Pr </b>\n",
    "* 'pr_mon_CESM104_abrupt4x_5900_g025.nc'\n",
    "\n",
    "<b> tas </b>\n",
    "* 'tas_mon_GISSE2R_control_5225_g025.nc'\n",
    "\n",
    "<b> surf </b>\n",
    "\n",
    "lenght = 1\n",
    " 0. surf_ann_CESM104_control_1000_g025.nc\n",
    " \n",
    "<b> tos </b>\n",
    "<s> \n",
    "lenght = 1\n",
    "0. tos_ann_CESM104_control_1000_g025.nc </s>\n",
    "\n",
    "<b> netNOTA </b>\n",
    "\n",
    "lenght = 13\n",
    " 0. netTOA_mon_MPIESM12_abrupt32x_103_g025.nc\n",
    " 1. netTOA_mon_ECEARTH_rcp85_1271_g025.nc\n",
    " 2. netTOA_mon_MIROC32_1pct2x_2003_g025.nc\n",
    " 3. netTOA_mon_GFDLESM2M_1pct2x_4500_g025.nc\n",
    " 4. netTOA_mon_GISSE2R_1pct4x_5001_g025.nc\n",
    " 5. netTOA_mon_ECEARTH_historical_156_g025.nc\n",
    " 6. netTOA_mon_CESM104_abrupt8x_4000_g025.nc\n",
    " 7. netTOA_mon_MPIESM12_abrupt2x_1000_g025.nc\n",
    " 8. netTOA_mon_CNRMCM61_abrupt2x_750_g025.nc\n",
    " 9. netTOA_mon_CCSM3_abrupt2x_3000_g025.nc\n",
    " 10. netTOA_mon_MPIESM12_abrupt16x_999_g025.nc\n",
    " 11. netTOA_mon_MPIESM12_abrupt8x_1000_g025.nc\n",
    " 12. netTOA_mon_MIROC32_1pct4x_2002_g025.nc\n",
    "\n",
    "\n",
    "<b> sic </b>\n",
    "None of these are 4xCO2. There is only one control file.\n",
    "lenght = 22\n",
    " 0. sic_mon_GISSE2R_control_5225_g025.nc\n",
    " 1. sic_mon_CNRMCM61_abrupt2x_750_g025.nc\n",
    " 2. sic_mon_MIROC32_1pct4x_2002_g025.nc\n",
    " 3. sic_mon_HadCM3L_abrupt2x_1000_g025.nc\n",
    " 4. sic_mon_GISSE2R_1pct4x_5001_g025.nc\n",
    " 5. sic_mon_HadCM3L_abrupt6x_1000_g025.nc\n",
    " 6. sic_mon_MPIESM12_abrupt8x_1000_g025.nc\n",
    " 7. sic_ann_FAMOUS_abrupt2x_3000_g025.nc\n",
    " 8. sic_mon_MPIESM12_abrupt16x_1000_g025.nc\n",
    " 9. sic_mon_MPIESM12_abrupt2x_1000_g025.nc\n",
    " 10. sic_mon_CESM104_abrupt8x_5100_g025.nc\n",
    " 11. sic_mon_ECEARTH_rcp85_1271_g025.nc\n",
    " 12. sic_mon_GFDLCM3_1pct2x_5000_g025.nc\n",
    " 13. sic_mon_HadCM3L_abrupt8x_1000_g025.nc\n",
    " 14. sic_mon_ECHAM5MPIOM_1pct4x_6080_g025.nc\n",
    " 15. sic_mon_CESM104_abrupt4x_5900_g025.nc\n",
    " 16. sic_mon_GFDLESM2M_1pct2x_4500_g025.nc\n",
    " 17. sic_mon_ECEARTH_historical_156_g025.nc\n",
    " 18. sic_mon_CCSM3_abrupt2x_3000_g025.nc\n",
    " 19. sic_mon_CESM104_abrupt2x_2500_g025.nc\n",
    " 20. sic_mon_MIROC32_1pct2x_2003_g025.nc\n",
    " 21. sic_mon_MPIESM12_abrupt32x_103_g025.nc\n"
   ]
  },
  {
   "cell_type": "code",
   "execution_count": null,
   "id": "5197ac1c",
   "metadata": {},
   "outputs": [],
   "source": []
  }
 ],
 "metadata": {
  "kernelspec": {
   "display_name": "Python 3 (ipykernel)",
   "language": "python",
   "name": "python3"
  },
  "language_info": {
   "codemirror_mode": {
    "name": "ipython",
    "version": 3
   },
   "file_extension": ".py",
   "mimetype": "text/x-python",
   "name": "python",
   "nbconvert_exporter": "python",
   "pygments_lexer": "ipython3",
   "version": "3.9.13"
  }
 },
 "nbformat": 4,
 "nbformat_minor": 5
}
