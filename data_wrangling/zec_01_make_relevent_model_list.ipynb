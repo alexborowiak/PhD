{
 "cells": [
  {
   "cell_type": "code",
   "execution_count": 1,
   "id": "a8e4f437",
   "metadata": {},
   "outputs": [],
   "source": [
    "import os\n",
    "import sys\n",
    "import numpy as np\n",
    "import pandas as pd\n",
    "from importlib import reload\n",
    "from glob import glob\n",
    "import json\n",
    "\n",
    "sys.path.append('modules')\n",
    "import constants"
   ]
  },
  {
   "cell_type": "code",
   "execution_count": 2,
   "id": "7ecbf63f",
   "metadata": {},
   "outputs": [
    {
     "data": {
      "text/plain": [
       "'/home/563/ab2313/gdata/images/PhD/init'"
      ]
     },
     "execution_count": 2,
     "metadata": {},
     "output_type": "execute_result"
    }
   ],
   "source": [
    "constants.IMAGE_SAVE_DIR_INIT"
   ]
  },
  {
   "cell_type": "markdown",
   "id": "f7300208",
   "metadata": {},
   "source": [
    "# Paths"
   ]
  },
  {
   "cell_type": "markdown",
   "id": "0df52e81",
   "metadata": {},
   "source": [
    "The code below can be used to ge the paths of all the files. However, this can be ery slow (3 hours) for piControl. "
   ]
  },
  {
   "cell_type": "code",
   "execution_count": 3,
   "id": "ddb0541f",
   "metadata": {},
   "outputs": [
    {
     "data": {
      "text/plain": [
       "dict_keys(['picontrol', '1000pgc'])"
      ]
     },
     "execution_count": 3,
     "metadata": {},
     "output_type": "execute_result"
    }
   ],
   "source": [
    "# TODO: This should be a dict not a csv so you don't have to drop nans\n",
    "fpaths_df = pd.read_csv('data/fpaths_picontrol.csv')[['picontrol', '1000pgc']]\n",
    "fpaths_dict = fpaths_df.to_dict(orient='list')\n",
    "fpaths_dict['1000pgc'] = [v for v in fpaths_dict['1000pgc'] if isinstance(v, str)]\n",
    "fpaths_dict.keys()"
   ]
  },
  {
   "cell_type": "code",
   "execution_count": 4,
   "id": "564c22b1",
   "metadata": {},
   "outputs": [
    {
     "data": {
      "text/plain": [
       "array(['/g/data/oi10/replicas/CMIP6/CMIP/AS-RCEC/TaiESM1/piControl/r1i1p1f1/Amon/tas/gn/v20200211',\n",
       "       '/g/data/oi10/replicas/CMIP6/CMIP/AWI/AWI-CM-1-1-MR/piControl/r1i1p1f1/Amon/tas/gn/v20191015',\n",
       "       '/g/data/oi10/replicas/CMIP6/CMIP/AWI/AWI-ESM-1-1-LR/piControl/r1i1p1f1/Amon/tas/gn/v20200212',\n",
       "       '/g/data/oi10/replicas/CMIP6/CMIP/BCC/BCC-CSM2-MR/esm-piControl/r1i1p1f1/Amon/tas/gn/v20181114',\n",
       "       '/g/data/oi10/replicas/CMIP6/CMIP/BCC/BCC-CSM2-MR/piControl/r1i1p1f1/Amon/tas/gn/v20181016'],\n",
       "      dtype='<U111')"
      ]
     },
     "execution_count": 4,
     "metadata": {},
     "output_type": "execute_result"
    }
   ],
   "source": [
    "unique_picontrol_paths = np.unique(list(map(os.path.dirname, fpaths_dict['picontrol'])))\n",
    "unique_picontrol_paths[:5]"
   ]
  },
  {
   "cell_type": "code",
   "execution_count": 5,
   "id": "ee51d358",
   "metadata": {},
   "outputs": [
    {
     "data": {
      "text/plain": [
       "['/g/data/oi10/replicas/CMIP6/C4MIP/CCCma/CanESM5/esm-1pct-brch-1000PgC/r1i1p2f1/Amon/tas/gn/v20190429',\n",
       " '/g/data/oi10/replicas/CMIP6/C4MIP/CCCma/CanESM5/esm-1pct-brch-1000PgC/r2i1p2f1/Amon/tas/gn/v20190429',\n",
       " '/g/data/oi10/replicas/CMIP6/C4MIP/CCCma/CanESM5/esm-1pct-brch-1000PgC/r3i1p2f1/Amon/tas/gn/v20190429',\n",
       " '/g/data/oi10/replicas/CMIP6/C4MIP/CCCma/CanESM5/esm-1pct-brch-1000PgC/r4i1p2f1/Amon/tas/gn/v20190429',\n",
       " '/g/data/oi10/replicas/CMIP6/C4MIP/CCCma/CanESM5/esm-1pct-brch-1000PgC/r5i1p2f1/Amon/tas/gn/v20190429']"
      ]
     },
     "execution_count": 5,
     "metadata": {},
     "output_type": "execute_result"
    }
   ],
   "source": [
    "# Unique abspath (no filename).\n",
    "unique_1000PgC_paths = np.unique(list(map(os.path.dirname,fpaths_dict['1000pgc'])))\n",
    "# Removing all precipitation files.\n",
    "base_fpaths_1000PgC = np.sort([f for f in unique_1000PgC_paths if '/tas/' in f]).tolist()\n",
    "base_fpaths_1000PgC[:5]"
   ]
  },
  {
   "cell_type": "code",
   "execution_count": 6,
   "id": "735c247f",
   "metadata": {},
   "outputs": [
    {
     "data": {
      "text/plain": [
       "array(['/g/data/oi10/replicas/CMIP6/C4MIP/CCCma/CanESM5/esm-1pct-brch-1000PgC',\n",
       "       '/g/data/oi10/replicas/CMIP6/C4MIP/MIROC/MIROC-ES2L/esm-1pct-brch-1000PgC',\n",
       "       '/g/data/oi10/replicas/CMIP6/C4MIP/MOHC/UKESM1-0-LL/esm-1pct-brch-1000PgC',\n",
       "       '/g/data/oi10/replicas/CMIP6/C4MIP/MPI-M/MPI-ESM1-2-LR/esm-1pct-brch-1000PgC',\n",
       "       '/g/data/oi10/replicas/CMIP6/C4MIP/NASA-GISS/GISS-E2-1-G-CC/esm-1pct-brch-1000PgC',\n",
       "       '/g/data/oi10/replicas/CMIP6/C4MIP/NCAR/CESM2/esm-1pct-brch-1000PgC',\n",
       "       '/g/data/oi10/replicas/CMIP6/C4MIP/NCC/NorESM2-LM/esm-1pct-brch-1000PgC',\n",
       "       '/g/data/oi10/replicas/CMIP6/C4MIP/NOAA-GFDL/GFDL-ESM4/esm-1pct-brch-1000PgC'],\n",
       "      dtype='<U80')"
      ]
     },
     "execution_count": 6,
     "metadata": {},
     "output_type": "execute_result"
    }
   ],
   "source": [
    "# These are all of the base models - models may have different experminents (r1i1p2f1, r2i1p2f1)\n",
    "base_group = np.unique(['/'.join(f.split('/')[:10])  for f in base_fpaths_1000PgC])\n",
    "base_group"
   ]
  },
  {
   "cell_type": "code",
   "execution_count": 7,
   "id": "21bf7713",
   "metadata": {},
   "outputs": [
    {
     "data": {
      "text/plain": [
       "['/g/data/oi10/replicas/CMIP6/C4MIP/CCCma/CanESM5/esm-1pct-brch-1000PgC/r1i1p2f1/Amon/tas/gn/v20190429',\n",
       " '/g/data/oi10/replicas/CMIP6/C4MIP/MIROC/MIROC-ES2L/esm-1pct-brch-1000PgC/r1i1p1f2/Amon/tas/gn/v20200622',\n",
       " '/g/data/oi10/replicas/CMIP6/C4MIP/MOHC/UKESM1-0-LL/esm-1pct-brch-1000PgC/r1i1p1f2/Amon/tas/gn/v20200210',\n",
       " '/g/data/oi10/replicas/CMIP6/C4MIP/MPI-M/MPI-ESM1-2-LR/esm-1pct-brch-1000PgC/r1i1p1f1/Amon/tas/gn/v20190815',\n",
       " '/g/data/oi10/replicas/CMIP6/C4MIP/NASA-GISS/GISS-E2-1-G-CC/esm-1pct-brch-1000PgC/r1i1p1f1/Amon/tas/gn/v20191202',\n",
       " '/g/data/oi10/replicas/CMIP6/C4MIP/NCAR/CESM2/esm-1pct-brch-1000PgC/r1i1p1f1/Amon/tas/gn/v20191119',\n",
       " '/g/data/oi10/replicas/CMIP6/C4MIP/NCC/NorESM2-LM/esm-1pct-brch-1000PgC/r1i1p1f1/Amon/tas/gn/v20191108',\n",
       " '/g/data/oi10/replicas/CMIP6/C4MIP/NOAA-GFDL/GFDL-ESM4/esm-1pct-brch-1000PgC/r1i1p1f1/Amon/tas/gr1/v20180701']"
      ]
     },
     "execution_count": 7,
     "metadata": {},
     "output_type": "execute_result"
    }
   ],
   "source": [
    "# Get one experiment for each modelling group\n",
    "needed_experiments = []\n",
    "# Looping through all the base paths\n",
    "for base_group_single in base_group:\n",
    "    \n",
    "    # All the experiments that have this base path\n",
    "    experiments = [f for f in base_fpaths_1000PgC if base_group_single in f]\n",
    "    # Get just the first one available\n",
    "    needed_experiments.append(experiments[0])\n",
    "    \n",
    "needed_experiments"
   ]
  },
  {
   "cell_type": "code",
   "execution_count": 8,
   "id": "77ed6d81",
   "metadata": {},
   "outputs": [
    {
     "data": {
      "text/plain": [
       "{'CanESM5': '/g/data/oi10/replicas/CMIP6/C4MIP/CCCma/CanESM5/esm-1pct-brch-1000PgC/r1i1p2f1/Amon/tas/gn/v20190429',\n",
       " 'MIROC-ES2L': '/g/data/oi10/replicas/CMIP6/C4MIP/MIROC/MIROC-ES2L/esm-1pct-brch-1000PgC/r1i1p1f2/Amon/tas/gn/v20200622',\n",
       " 'UKESM1-0-LL': '/g/data/oi10/replicas/CMIP6/C4MIP/MOHC/UKESM1-0-LL/esm-1pct-brch-1000PgC/r1i1p1f2/Amon/tas/gn/v20200210',\n",
       " 'MPI-ESM1-2-LR': '/g/data/oi10/replicas/CMIP6/C4MIP/MPI-M/MPI-ESM1-2-LR/esm-1pct-brch-1000PgC/r1i1p1f1/Amon/tas/gn/v20190815',\n",
       " 'GISS-E2-1-G-CC': '/g/data/oi10/replicas/CMIP6/C4MIP/NASA-GISS/GISS-E2-1-G-CC/esm-1pct-brch-1000PgC/r1i1p1f1/Amon/tas/gn/v20191202',\n",
       " 'CESM2': '/g/data/oi10/replicas/CMIP6/C4MIP/NCAR/CESM2/esm-1pct-brch-1000PgC/r1i1p1f1/Amon/tas/gn/v20191119',\n",
       " 'NorESM2-LM': '/g/data/oi10/replicas/CMIP6/C4MIP/NCC/NorESM2-LM/esm-1pct-brch-1000PgC/r1i1p1f1/Amon/tas/gn/v20191108',\n",
       " 'GFDL-ESM4': '/g/data/oi10/replicas/CMIP6/C4MIP/NOAA-GFDL/GFDL-ESM4/esm-1pct-brch-1000PgC/r1i1p1f1/Amon/tas/gr1/v20180701'}"
      ]
     },
     "execution_count": 8,
     "metadata": {},
     "output_type": "execute_result"
    }
   ],
   "source": [
    "needed_model_dict = {v.split('/')[8]:v for v in needed_experiments}\n",
    "needed_model_dict"
   ]
  },
  {
   "cell_type": "code",
   "execution_count": 9,
   "id": "30eba9f0",
   "metadata": {},
   "outputs": [
    {
     "data": {
      "text/plain": [
       "dict_keys(['1000pgc', 'picontrol'])"
      ]
     },
     "execution_count": 9,
     "metadata": {},
     "output_type": "execute_result"
    }
   ],
   "source": [
    "zecmip_path_dict = {'1000pgc': {'all': unique_1000PgC_paths.tolist(), 'needed': needed_model_dict}\n",
    "                    , 'picontrol': unique_picontrol_paths.tolist()}\n",
    "zecmip_path_dict.keys()"
   ]
  },
  {
   "cell_type": "code",
   "execution_count": 10,
   "id": "cc63c468",
   "metadata": {},
   "outputs": [],
   "source": [
    "with open('data/zecmip_model_paths.json', 'w') as f:\n",
    "    json.dump(zecmip_path_dict, f)"
   ]
  }
 ],
 "metadata": {
  "kernelspec": {
   "display_name": "Python 3 (ipykernel)",
   "language": "python",
   "name": "python3"
  },
  "language_info": {
   "codemirror_mode": {
    "name": "ipython",
    "version": 3
   },
   "file_extension": ".py",
   "mimetype": "text/x-python",
   "name": "python",
   "nbconvert_exporter": "python",
   "pygments_lexer": "ipython3",
   "version": "3.9.12"
  },
  "toc": {
   "base_numbering": 1,
   "nav_menu": {},
   "number_sections": true,
   "sideBar": true,
   "skip_h1_title": false,
   "title_cell": "Table of Contents",
   "title_sidebar": "Contents",
   "toc_cell": false,
   "toc_position": {},
   "toc_section_display": true,
   "toc_window_display": false
  },
  "varInspector": {
   "cols": {
    "lenName": 16,
    "lenType": 16,
    "lenVar": 40
   },
   "kernels_config": {
    "python": {
     "delete_cmd_postfix": "",
     "delete_cmd_prefix": "del ",
     "library": "var_list.py",
     "varRefreshCmd": "print(var_dic_list())"
    },
    "r": {
     "delete_cmd_postfix": ") ",
     "delete_cmd_prefix": "rm(",
     "library": "var_list.r",
     "varRefreshCmd": "cat(var_dic_list()) "
    }
   },
   "types_to_exclude": [
    "module",
    "function",
    "builtin_function_or_method",
    "instance",
    "_Feature"
   ],
   "window_display": false
  }
 },
 "nbformat": 4,
 "nbformat_minor": 5
}
