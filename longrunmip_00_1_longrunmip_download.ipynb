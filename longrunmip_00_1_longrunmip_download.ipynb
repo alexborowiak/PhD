{
 "cells": [
  {
   "cell_type": "markdown",
   "id": "egyptian-berlin",
   "metadata": {},
   "source": [
    "https://www.youtube.com/watch?v=XGUS6DYZfCc&list=PLLxyyob7YmEE8S3QDs1PZQkiBxA4zn_Gx&index=2"
   ]
  },
  {
   "cell_type": "code",
   "execution_count": 23,
   "id": "promotional-afternoon",
   "metadata": {},
   "outputs": [],
   "source": [
    "import requests\n",
    "import numpy as np\n",
    "import os, sys\n",
    "\n",
    "from functools import partial\n",
    "from multiprocessing import Pool\n",
    "import re\n",
    "from typing import List\n",
    "\n",
    "# https://stackoverflow.com/questions/328356/extracting-text-from-html-file-using-python\n",
    "import requests\n",
    "from bs4 import BeautifulSoup"
   ]
  },
  {
   "cell_type": "code",
   "execution_count": 24,
   "id": "9022d7dc",
   "metadata": {},
   "outputs": [],
   "source": [
    "import constants\n",
    "constants.LONGRUNMIP_DIR\n",
    "sys.path.append(constants.MODULE_DIR)\n",
    "from utils import pprint_list"
   ]
  },
  {
   "cell_type": "markdown",
   "id": "317f9a1b",
   "metadata": {},
   "source": [
    "# Getting List of All Files Names"
   ]
  },
  {
   "cell_type": "code",
   "execution_count": 25,
   "id": "sublime-reminder",
   "metadata": {},
   "outputs": [],
   "source": [
    "def list_files_with_extension(url: str, file_extension: str='') -> List[str]:\n",
    "    '''\n",
    "    Gets all the hyper-linked items ('a' - <a> ... </a>) from an url.\n",
    "    \n",
    "    Parameters\n",
    "    ----------\n",
    "    url: str\n",
    "        The url to get the files from\n",
    "    file_extension: str\n",
    "        The extensions on the files being looked for \n",
    "        (e.g. .nc for netcdf files)\n",
    "    \n",
    "    Returns\n",
    "    -------\n",
    "    - List of all the paths to the files being downloaded.\n",
    "    '''\n",
    "    # Get the text from the page\n",
    "    page = requests.get(url, auth=(username, password)).text\n",
    "    # Turn that text into html code\n",
    "    soup = BeautifulSoup(page, 'html.parser')\n",
    "    \n",
    "    \n",
    "    # Loop through all the items in soup. Each one is a contained piece of html.\n",
    "    # E.g. <h1> ... </h1>, <p> ... </p>.\n",
    "    # However, this is only being done with items with <a> ... </a> (final_all('a')) (hyper-linked items). \n",
    "    # Then, only add the items with 'file_exntension' to the list\n",
    "\n",
    "    files = [url + '/' + node.get('href') for node in soup.find_all('a')\n",
    "             if node.get('href').endswith(file_extension)]\n",
    "    return files"
   ]
  },
  {
   "cell_type": "code",
   "execution_count": 26,
   "id": "5d525491",
   "metadata": {
    "code_folding": []
   },
   "outputs": [],
   "source": [
    "def download_longrunmip_nc_file(fpath: str, SAVE_DIRECTORY: str='', debug=True) -> None:\n",
    "    '''\n",
    "    Downloads the netcdf file on longrunmip website\n",
    "    '''\n",
    "    # The name of the file\n",
    "    fname = os.path.basename(fpath)\n",
    "    if debug:\n",
    "        print(f'{fname} -> {SAVE_DIRECTORY}')\n",
    "    \n",
    "    r = requests.get(fpath, auth=(username, password), allow_redirects=True)\n",
    "    \n",
    "    # Saving the file\n",
    "    with open(os.path.join(SAVE_DIRECTORY, fname), 'wb') as f:\n",
    "        f.write(r.content)\n",
    "    if debug:\n",
    "        print(f'{fname} complete')"
   ]
  },
  {
   "cell_type": "code",
   "execution_count": 27,
   "id": "96be06be",
   "metadata": {},
   "outputs": [],
   "source": [
    "def experiment_is_needed(fname: str, needed_experiments: List[str]) -> bool:\n",
    "    '''Checks if the experiment is actually needed. If not return False'''\n",
    "    for n_exp in needed_experiments:\n",
    "        if re.search(f'\\w+{n_exp}\\w+', fname):\n",
    "            return True\n",
    "    return False"
   ]
  },
  {
   "cell_type": "code",
   "execution_count": 28,
   "id": "0706c8e2",
   "metadata": {},
   "outputs": [
    {
     "data": {
      "text/plain": [
       "['tas', 'pr', 'netTOA', 'sic', 'psl', 'tos', 'surf']"
      ]
     },
     "execution_count": 28,
     "metadata": {},
     "output_type": "execute_result"
    }
   ],
   "source": [
    "list(constants.VARIABLE_INFO)"
   ]
  },
  {
   "cell_type": "code",
   "execution_count": 29,
   "id": "ed2b276f",
   "metadata": {},
   "outputs": [],
   "source": [
    "# Username and possword for longrunmip\n",
    "username = 'longrunmip'\n",
    "password = 'data4you'"
   ]
  },
  {
   "cell_type": "code",
   "execution_count": 30,
   "id": "64dd03d7",
   "metadata": {},
   "outputs": [
    {
     "data": {
      "text/plain": [
       "'https://data.iac.ethz.ch/longrunmip/modeloutput/regrid/tas'"
      ]
     },
     "execution_count": 30,
     "metadata": {},
     "output_type": "execute_result"
    }
   ],
   "source": [
    "variable = 'tas' # Completed: tas, pr, netTOA, tas, psl, tos, surf\n",
    "url = f'https://data.iac.ethz.ch/longrunmip/modeloutput/regrid/{variable}'\n",
    "url"
   ]
  },
  {
   "cell_type": "code",
   "execution_count": 32,
   "id": "fe6df60e",
   "metadata": {},
   "outputs": [
    {
     "name": "stdout",
     "output_type": "stream",
     "text": [
      "lenght = 32\n",
      " 0. https://data.iac.ethz.ch/longrunmip/modeloutput/regrid/tas/tas_ann_FAMOUS_abrupt4x_3000_g025.nc\n",
      " 1. https://data.iac.ethz.ch/longrunmip/modeloutput/regrid/tas/tas_ann_FAMOUS_control_3000_g025.nc\n"
     ]
    }
   ],
   "source": [
    "files = list_files_with_extension(url, file_extension='.nc')\n",
    "files = [f for f in files if experiment_is_needed(f, ['picontrol', 'control', 'abrupt4x'])]\n",
    "pprint_list(files)"
   ]
  },
  {
   "cell_type": "code",
   "execution_count": 33,
   "id": "affdc613",
   "metadata": {},
   "outputs": [
    {
     "data": {
      "text/plain": [
       "'/g/data/w40/ab2313/PhD/longrunmip/tas/regrid'"
      ]
     },
     "execution_count": 33,
     "metadata": {},
     "output_type": "execute_result"
    }
   ],
   "source": [
    "SAVE_DIRECTORY = os.path.join(constants.LONGRUNMIP_DIR, variable, 'regrid')\n",
    "SAVE_DIRECTORY"
   ]
  },
  {
   "cell_type": "code",
   "execution_count": 35,
   "id": "6bfac271",
   "metadata": {},
   "outputs": [
    {
     "data": {
      "text/plain": [
       "32"
      ]
     },
     "execution_count": 35,
     "metadata": {},
     "output_type": "execute_result"
    }
   ],
   "source": [
    "len(os.listdir(SAVE_DIRECTORY))"
   ]
  },
  {
   "cell_type": "code",
   "execution_count": 34,
   "id": "22093b9b",
   "metadata": {},
   "outputs": [],
   "source": [
    "try:\n",
    "    os.mkdir(SAVE_DIRECTORY)\n",
    "except FileExistsError as e:\n",
    "    pass"
   ]
  },
  {
   "cell_type": "code",
   "execution_count": 223,
   "id": "6ae50095",
   "metadata": {},
   "outputs": [
    {
     "name": "stdout",
     "output_type": "stream",
     "text": [
      "0: surf_ann_CCSM3_abrupt4x_2130_g025.nc -> /g/data/w40/ab2313/PhD/longrunmip/surf/regrid\n",
      "surf_ann_CCSM3_abrupt4x_2130_g025.nc complete\n",
      "1: surf_ann_CCSM3_control_1530_g025.nc -> /g/data/w40/ab2313/PhD/longrunmip/surf/regrid\n",
      "surf_ann_CCSM3_control_1530_g025.nc complete\n",
      "2: surf_ann_CESM104_abrupt4x_5900_g025.nc -> /g/data/w40/ab2313/PhD/longrunmip/surf/regrid\n",
      "surf_ann_CESM104_abrupt4x_5900_g025.nc complete\n",
      "3: surf_ann_CESM104_control_1000_g025.nc -> /g/data/w40/ab2313/PhD/longrunmip/surf/regrid\n",
      "surf_ann_CESM104_control_1000_g025.nc complete\n",
      "4: surf_ann_CNRMCM61_abrupt4x_1850_g025.nc -> /g/data/w40/ab2313/PhD/longrunmip/surf/regrid\n",
      "surf_ann_CNRMCM61_abrupt4x_1850_g025.nc complete\n",
      "5: surf_ann_CNRMCM61_control_2000_g025.nc -> /g/data/w40/ab2313/PhD/longrunmip/surf/regrid\n",
      "surf_ann_CNRMCM61_control_2000_g025.nc complete\n",
      "6: surf_ann_ECHAM5MPIOM_control_100_g025.nc -> /g/data/w40/ab2313/PhD/longrunmip/surf/regrid\n",
      "surf_ann_ECHAM5MPIOM_control_100_g025.nc complete\n",
      "7: surf_ann_FAMOUS_abrupt4x_3000_g025.nc -> /g/data/w40/ab2313/PhD/longrunmip/surf/regrid\n",
      "surf_ann_FAMOUS_abrupt4x_3000_g025.nc complete\n",
      "8: surf_ann_FAMOUS_control_3000_g025.nc -> /g/data/w40/ab2313/PhD/longrunmip/surf/regrid\n",
      "surf_ann_FAMOUS_control_3000_g025.nc complete\n",
      "9: surf_ann_GFDLCM3_control_5200_g025.nc -> /g/data/w40/ab2313/PhD/longrunmip/surf/regrid\n",
      "surf_ann_GFDLCM3_control_5200_g025.nc complete\n",
      "10: surf_ann_GFDLESM2M_control_1340_g025.nc -> /g/data/w40/ab2313/PhD/longrunmip/surf/regrid\n",
      "surf_ann_GFDLESM2M_control_1340_g025.nc complete\n",
      "11: surf_ann_HadCM3L_abrupt4x_1000_g025.nc -> /g/data/w40/ab2313/PhD/longrunmip/surf/regrid\n",
      "surf_ann_HadCM3L_abrupt4x_1000_g025.nc complete\n",
      "12: surf_ann_HadCM3L_control_1000_g025.nc -> /g/data/w40/ab2313/PhD/longrunmip/surf/regrid\n",
      "surf_ann_HadCM3L_control_1000_g025.nc complete\n",
      "13: surf_ann_MPIESM11_abrupt4x_4520_g025.nc -> /g/data/w40/ab2313/PhD/longrunmip/surf/regrid\n",
      "surf_ann_MPIESM11_abrupt4x_4520_g025.nc complete\n",
      "14: surf_ann_MPIESM11_control_2000_g025.nc -> /g/data/w40/ab2313/PhD/longrunmip/surf/regrid\n",
      "surf_ann_MPIESM11_control_2000_g025.nc complete\n",
      "15: surf_ann_MPIESM12_abrupt4x_1000_g025.nc -> /g/data/w40/ab2313/PhD/longrunmip/surf/regrid\n",
      "surf_ann_MPIESM12_abrupt4x_1000_g025.nc complete\n",
      "16: surf_ann_MPIESM12_control_1500_g025.nc -> /g/data/w40/ab2313/PhD/longrunmip/surf/regrid\n",
      "surf_ann_MPIESM12_control_1500_g025.nc complete\n",
      "CPU times: user 16.6 s, sys: 11.5 s, total: 28.1 s\n",
      "Wall time: 3min 57s\n"
     ]
    }
   ],
   "source": [
    "%%time\n",
    "download_longrunmip_nc_file_with_dir = partial(download_longrunmip_nc_file, \n",
    "                                               SAVE_DIRECTORY = SAVE_DIRECTORY, debug=True)\n",
    "for i, fname in enumerate(files):\n",
    "    print(f'{i}: ', end='')\n",
    "    download_longrunmip_nc_file_with_dir(fname) "
   ]
  },
  {
   "cell_type": "code",
   "execution_count": 135,
   "id": "6f1f33fd",
   "metadata": {},
   "outputs": [],
   "source": [
    "# [download_longrunmip_nc_file_with_dir(fname) for fname in files]\n",
    "# with Pool() as pool:\n",
    "#     pool.map(download_longrunmip_nc_file_with_dir, files)\n",
    "# [download_longrunmip_nc_file(fpath, SAVE_DIRECTORY) for fpath in files]"
   ]
  }
 ],
 "metadata": {
  "kernelspec": {
   "display_name": "Python 3 (ipykernel)",
   "language": "python",
   "name": "python3"
  },
  "language_info": {
   "codemirror_mode": {
    "name": "ipython",
    "version": 3
   },
   "file_extension": ".py",
   "mimetype": "text/x-python",
   "name": "python",
   "nbconvert_exporter": "python",
   "pygments_lexer": "ipython3",
   "version": "3.9.13"
  },
  "vscode": {
   "interpreter": {
    "hash": "b335a25c7d4eb31687f8f0319f3f99a524f153d2b12283c032af44f4dbeaa5dc"
   }
  }
 },
 "nbformat": 4,
 "nbformat_minor": 5
}
