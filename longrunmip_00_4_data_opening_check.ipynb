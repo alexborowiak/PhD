{
 "cells": [
  {
   "cell_type": "markdown",
   "id": "65db9f4c",
   "metadata": {},
   "source": [
    "# Data Checks\n",
    "Chekcing what data opens for each variable, and why certain variables may be failing."
   ]
  },
  {
   "cell_type": "code",
   "execution_count": 1,
   "id": "a92f4503",
   "metadata": {},
   "outputs": [],
   "source": [
    "import xarray as xr\n",
    "import numpy as np\n",
    "import pandas as pd\n",
    "import matplotlib.pyplot as plt\n",
    "import warnings\n",
    "from importlib import reload\n",
    "import matplotlib.ticker as mticker\n",
    "import os, sys\n",
    "import constants\n",
    "sys.path.append(constants.MODULE_DIR)\n",
    "import sn_plotting as sn_plot\n",
    "import xarray_class_accessors as xca\n",
    "import open_ds\n",
    "import signal_to_noise as sn\n",
    "import xarray_extender as xce\n",
    "import utils\n",
    "from classes import ExperimentTypes\n",
    "\n",
    "warnings.filterwarnings('ignore')\n",
    "logger = utils.get_notebook_logger()"
   ]
  },
  {
   "cell_type": "code",
   "execution_count": 2,
   "id": "b0c74265",
   "metadata": {},
   "outputs": [
    {
     "data": {
      "text/plain": [
       "{'tas': {'longname': 'Near-surface air temperature', 'units': '$^{\\\\circ}C$'},\n",
       " 'pr': {'longname': 'Precipitation', 'units': 'mm\\\\year'},\n",
       " 'netTOA': {'longname': 'Net TOA flux'},\n",
       " 'sic': {'longname': 'Sea Ice Area Fraction', 'units': 'fraction'},\n",
       " 'psl': {'longname': 'Sea level pressure'},\n",
       " 'tos': {'longname': 'Sea surface temperature'},\n",
       " 'surf': {'longname': 'Neat Ocean Heat Uptake'}}"
      ]
     },
     "execution_count": 2,
     "metadata": {},
     "output_type": "execute_result"
    }
   ],
   "source": [
    "VARIABLE_INFO = constants.VARIABLE_INFO\n",
    "VARIABLE_INFO"
   ]
  },
  {
   "cell_type": "code",
   "execution_count": 5,
   "id": "eea727e8",
   "metadata": {},
   "outputs": [
    {
     "name": "stdout",
     "output_type": "stream",
     "text": [
      "lenght = 7\n",
      " 0. ccsm3\n",
      " 1. cesm104\n",
      " 2. cnrmcm61\n",
      " 3. hadcm3l\n",
      " 4. ipslcm5a\n",
      " 5. mpiesm11\n",
      " 6. mpiesm12\n"
     ]
    }
   ],
   "source": [
    "models_to_get = open_ds.get_models_longer_than_length()\n",
    "utils.pprint_list(models_to_get, num_start_items=7)"
   ]
  },
  {
   "cell_type": "code",
   "execution_count": 9,
   "id": "42547ba2",
   "metadata": {},
   "outputs": [
    {
     "data": {
      "text/plain": [
       "['tas', 'pr', 'netTOA', 'sic', 'psl', 'tos', 'surf']"
      ]
     },
     "execution_count": 9,
     "metadata": {},
     "output_type": "execute_result"
    }
   ],
   "source": [
    "variables = list(VARIABLE_INFO)\n",
    "variables"
   ]
  },
  {
   "cell_type": "code",
   "execution_count": 24,
   "id": "c60f7ba9",
   "metadata": {},
   "outputs": [
    {
     "name": "stdout",
     "output_type": "stream",
     "text": [
      "tas\n",
      "number of succesfull models - 7\n",
      "--------\n",
      "\n",
      "pr\n",
      "model='cesm104' is too short has time_length=112 < requested_length=800\n",
      "(fname='pr_mon_CESM104_abrupt4x_5900_g025.nc')\n",
      "number of succesfull models - 7\n",
      "--------\n",
      "\n",
      "sic\n",
      "model='cesm104' - found_fname=None - No file found\n",
      "number of succesfull models - 7\n",
      "--------\n",
      "\n",
      "tos\n",
      "number of succesfull models - 7\n",
      "--------\n",
      "\n"
     ]
    }
   ],
   "source": [
    "for variable in ['tas', 'pr','sic', 'tos']:\n",
    "    print(variable)\n",
    "    ROOT_DIR = os.path.join(constants.LONGRUNMIP_DIR, variable, 'regrid_retimestamped')\n",
    "    files_to_open = open_ds.get_file_names_from_from_directory(ROOT_DIR,\n",
    "                                                           ExperimentTypes.ABRUPT4X,\n",
    "                                                           models_to_get)\n",
    "    \n",
    "    \n",
    "    \n",
    "    dss = open_ds.read_and_merge_netcdfs(files_to_open, ROOT_DIR, )\n",
    "    print(f'number of succesfull models - {len(ds.data_vars)}\\n--------\\n')\n"
   ]
  },
  {
   "cell_type": "code",
   "execution_count": 23,
   "id": "7f49dbd1",
   "metadata": {},
   "outputs": [
    {
     "name": "stdout",
     "output_type": "stream",
     "text": [
      "tas\n",
      "number of succesfull models - 7\n",
      "--------\n",
      "\n",
      "pr\n",
      "number of succesfull models - 7\n",
      "--------\n",
      "\n",
      "sic\n",
      "number of succesfull models - 7\n",
      "--------\n",
      "\n",
      "tos\n",
      "number of succesfull models - 7\n",
      "--------\n",
      "\n"
     ]
    }
   ],
   "source": [
    "for variable in ['tas', 'pr','sic', 'tos']:\n",
    "    print(variable)\n",
    "    ROOT_DIR = os.path.join(constants.LONGRUNMIP_DIR, variable, 'regrid_retimestamped')\n",
    "    files_to_open = open_ds.get_file_names_from_from_directory(ROOT_DIR,\n",
    "                                                           ExperimentTypes.CONTROL,\n",
    "                                                           models_to_get)\n",
    "    \n",
    "    \n",
    "    \n",
    "    ds = open_ds.read_and_merge_netcdfs(files_to_open, ROOT_DIR, )\n",
    "    print(f'number of succesfull models - {len(ds.data_vars)}\\n--------\\n')\n"
   ]
  },
  {
   "cell_type": "code",
   "execution_count": null,
   "id": "6b656534",
   "metadata": {},
   "outputs": [],
   "source": []
  }
 ],
 "metadata": {
  "kernelspec": {
   "display_name": "Python 3 (ipykernel)",
   "language": "python",
   "name": "python3"
  },
  "language_info": {
   "codemirror_mode": {
    "name": "ipython",
    "version": 3
   },
   "file_extension": ".py",
   "mimetype": "text/x-python",
   "name": "python",
   "nbconvert_exporter": "python",
   "pygments_lexer": "ipython3",
   "version": "3.9.13"
  }
 },
 "nbformat": 4,
 "nbformat_minor": 5
}
