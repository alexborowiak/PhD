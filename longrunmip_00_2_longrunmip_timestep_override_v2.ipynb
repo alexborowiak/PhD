{
 "cells": [
  {
   "cell_type": "markdown",
   "id": "30f5a1ec",
   "metadata": {},
   "source": [
    "# Time Analysis\n",
    "\n",
    "* Time analysis of lungrunmip data\n",
    "* Number of models for each experiment.\n",
    "This notebook contains an exploration of the timesteps in the longrunmip data.\n",
    "The notebooks also contains a time override. The models in my study all need to have the same timestamps - year since initialisation. The easiest way to go about this is overriding all time stamps and adding back in new time depending if annual or monthly (ann or monn in file name). "
   ]
  },
  {
   "cell_type": "code",
   "execution_count": 1,
   "id": "cd237fda",
   "metadata": {},
   "outputs": [],
   "source": [
    "import os, sys, warnings, cftime\n",
    "import xarray as xr\n",
    "import numpy as np\n",
    "import pandas as pd\n",
    "import matplotlib.pyplot \n",
    "import matplotlib.pyplot as plt\n",
    "warnings.filterwarnings('ignore')\n",
    "import constants\n",
    "sys.path.append(constants.MODULE_DIR)\n",
    "from importlib import reload\n",
    "from time import perf_counter\n",
    "from typing import List\n",
    "import re\n",
    "import xarray_class_accessors as xca\n",
    "import utils\n",
    "import open_ds\n",
    "\n",
    "from pprint import pprint"
   ]
  },
  {
   "cell_type": "markdown",
   "id": "99fe34d5",
   "metadata": {},
   "source": [
    "# Files"
   ]
  },
  {
   "cell_type": "code",
   "execution_count": 71,
   "id": "0fc4992e",
   "metadata": {},
   "outputs": [],
   "source": [
    "def remove_other_variables(ds, variable):\n",
    "    try:\n",
    "        ds = ds[[variable]]\n",
    "    # The dataset does not contain the variable for some reeason\n",
    "    except KeyError as e:\n",
    "        print('| Variable not found in dataset checing for other possible names')\n",
    "        data_vars = np.array(ds.data_vars)\n",
    "        \n",
    "        # Only one variable there, so this must be it.\n",
    "        if len(data_vars) == 1:\n",
    "            ds = ds.rename({data_vars[0]: variable})\n",
    "            # Can now try this again\n",
    "            ds = ds[[variable]]\n",
    "        else:\n",
    "            possible_extra_vars = ['time_bnds', 'height', 'TAREA']\n",
    "            possible_name = data_vars[~np.isin(data_vars, possible_extra_vars)]\n",
    "            \n",
    "            if len(possible_name) != 1:\n",
    "                raise ValueError(f'Cant automate name change {possible_name=}')\n",
    "                \n",
    "            ds = ds.rename({possible_name[0]: variable})\n",
    "            \n",
    "            ds = ds[[variable]]\n",
    "        \n",
    "    return ds"
   ]
  },
  {
   "cell_type": "code",
   "execution_count": 72,
   "id": "ab49edb9",
   "metadata": {},
   "outputs": [],
   "source": [
    "def refactor_longronmip_netcdf(ds: xr.Dataset) -> xr.Dataset:\n",
    "    print('\\n| Recatoring dims |', end='')\n",
    "    ds = open_ds.refactor_dims(ds)\n",
    "\n",
    "    freq = 'M' if re.search('\\w+mon\\w+', fname) else 'Y'\n",
    "    print(f'| {freq=} |', end='')\n",
    "    ds['time'] = open_ds.make_new_time(ds, freq=freq, debug=False)\n",
    "    \n",
    "    if freq == 'M':\n",
    "        \n",
    "        print(f' resample=True, old_length = {len(ds.time.values)}, ', end='')\n",
    "        ds = ds.resample(time='Y').mean()\n",
    "    print(f' length = {len(ds.time.values)}')\n",
    "        \n",
    "    return ds   "
   ]
  },
  {
   "cell_type": "code",
   "execution_count": 73,
   "id": "1f1afeb6",
   "metadata": {},
   "outputs": [
    {
     "data": {
      "text/plain": [
       "['tas',\n",
       " 'surf',\n",
       " 'netTOA',\n",
       " 'landesea_masks',\n",
       " 'tos',\n",
       " 'pr',\n",
       " '.ipynb_checkpoints',\n",
       " 'psl',\n",
       " 'sic']"
      ]
     },
     "execution_count": 73,
     "metadata": {},
     "output_type": "execute_result"
    }
   ],
   "source": [
    "os.listdir(constants.LONGRUNMIP_DIR)"
   ]
  },
  {
   "cell_type": "code",
   "execution_count": 74,
   "id": "52018c76",
   "metadata": {},
   "outputs": [],
   "source": [
    "variable = 'tas' # Completed: pr, tas, sic, surf, tos, psl, netTOA\n",
    "ROOT_DIR = os.path.join(constants.LONGRUNMIP_DIR, variable, 'regrid')"
   ]
  },
  {
   "cell_type": "code",
   "execution_count": 75,
   "id": "b203af63",
   "metadata": {},
   "outputs": [
    {
     "name": "stdout",
     "output_type": "stream",
     "text": [
      "lenght = 32\n",
      " 0. tas_ann_HadGEM2_control_239_g025.nc\n",
      " 1. tas_mon_HadCM3L_control_1000_g025.nc\n"
     ]
    }
   ],
   "source": [
    "files = os.listdir(ROOT_DIR)\n",
    "utils.pprint_list(files)"
   ]
  },
  {
   "cell_type": "code",
   "execution_count": 76,
   "id": "49fc841f",
   "metadata": {},
   "outputs": [
    {
     "data": {
      "text/plain": [
       "'/g/data/w40/ab2313/PhD/longrunmip/tas/regrid_retimestamped'"
      ]
     },
     "execution_count": 76,
     "metadata": {},
     "output_type": "execute_result"
    }
   ],
   "source": [
    "OUTPUT_DIR = os.path.join(constants.LONGRUNMIP_DIR, variable, 'regrid_retimestamped')\n",
    "OUTPUT_DIR"
   ]
  },
  {
   "cell_type": "code",
   "execution_count": 77,
   "id": "cdceb87d",
   "metadata": {},
   "outputs": [],
   "source": [
    "try:\n",
    "    os.mkdir(OUTPUT_DIR)\n",
    "    print('Made new directory')\n",
    "except FileExistsError as e:\n",
    "    pass"
   ]
  },
  {
   "cell_type": "code",
   "execution_count": 78,
   "id": "d62eab11",
   "metadata": {},
   "outputs": [
    {
     "name": "stdout",
     "output_type": "stream",
     "text": [
      "lenght = 32\n"
     ]
    }
   ],
   "source": [
    "utils.pprint_list(os.listdir(OUTPUT_DIR), num_start_items=0)"
   ]
  },
  {
   "cell_type": "code",
   "execution_count": 87,
   "id": "4d5e4e39",
   "metadata": {},
   "outputs": [],
   "source": [
    "# Special files that may have failed.\n",
    "# These are checked in http://localhost:8888/notebooks/Documents/PhD/longrumip_00_07_data_opening_check.ipynb\n",
    "files = ['tas_mon_CNRMCM61_control_2000_g025.nc'] #'tas_mon_IPSLCM5A_abrupt4x_1000_g025.nc'"
   ]
  },
  {
   "cell_type": "code",
   "execution_count": 88,
   "id": "00aaa36b",
   "metadata": {
    "scrolled": false
   },
   "outputs": [
    {
     "name": "stdout",
     "output_type": "stream",
     "text": [
      "1: - tas_mon_CNRMCM61_control_2000_g025.nc\n",
      "| Recatoring dims || freq='M' | resample=True, old_length = 24000,  length = 2000\n",
      "| complete (198.6317875403911)\n"
     ]
    }
   ],
   "source": [
    "error_log = []\n",
    "for i, fname in enumerate(files):\n",
    "\n",
    "    t1 = perf_counter()\n",
    "    print(f'{i+1}: - {fname}', end='')\n",
    "    fpath = os.path.join(ROOT_DIR, fname)\n",
    "\n",
    "    try:\n",
    "        ds = xr.open_dataset(fpath, use_cftime=False)\n",
    "        \n",
    "    # Time could be something that is not really a timestampe\n",
    "    except ValueError as e:\n",
    "        ds = xr.open_dataset(fpath, decode_times=True)\n",
    "\n",
    "    ds = remove_other_variables(ds, variable) #ds[[variable]]\n",
    "    ds = refactor_longronmip_netcdf(ds)\n",
    "    \n",
    "    try:\n",
    "        ds.to_netcdf(os.path.join(OUTPUT_DIR, fname))\n",
    "\n",
    "        t2 = perf_counter()\n",
    "        print(f'| complete ({t2-t1})')\n",
    "\n",
    "    except PermissionError as e:\n",
    "        print(f'ERROR: {e}')\n",
    "        error_log.append({fname: e})\n",
    "        "
   ]
  },
  {
   "cell_type": "code",
   "execution_count": 64,
   "id": "afddbd3e",
   "metadata": {},
   "outputs": [
    {
     "name": "stdout",
     "output_type": "stream",
     "text": [
      "lenght = 25\n",
      " 0. tos_ann_CCSM3_control_1530_g025.nc\n",
      " 1. tos_ann_MPIESM11_control_2000_g025.nc\n"
     ]
    }
   ],
   "source": [
    "file_check = os.listdir(OUTPUT_DIR)\n",
    "utils.pprint_list(file_check)"
   ]
  },
  {
   "cell_type": "markdown",
   "id": "30794f43",
   "metadata": {},
   "source": [
    "Failed files <br> \n",
    "<b> Pr </b>\n",
    "* 'pr_mon_CESM104_abrupt4x_5900_g025.nc'\n",
    "\n",
    "<b> tas </b>\n",
    "* 'tas_mon_GISSE2R_control_5225_g025.nc'\n",
    "\n",
    "<b> surf </b>\n",
    "\n",
    "lenght = 1\n",
    " 0. surf_ann_CESM104_control_1000_g025.nc\n",
    " \n",
    "<b> tos </b>\n",
    "<s> \n",
    "lenght = 1\n",
    "0. tos_ann_CESM104_control_1000_g025.nc </s>\n",
    "\n",
    "<b> netNOTA </b>\n",
    "\n",
    "lenght = 13\n",
    " 0. netTOA_mon_MPIESM12_abrupt32x_103_g025.nc\n",
    " 1. netTOA_mon_ECEARTH_rcp85_1271_g025.nc\n",
    " 2. netTOA_mon_MIROC32_1pct2x_2003_g025.nc\n",
    " 3. netTOA_mon_GFDLESM2M_1pct2x_4500_g025.nc\n",
    " 4. netTOA_mon_GISSE2R_1pct4x_5001_g025.nc\n",
    " 5. netTOA_mon_ECEARTH_historical_156_g025.nc\n",
    " 6. netTOA_mon_CESM104_abrupt8x_4000_g025.nc\n",
    " 7. netTOA_mon_MPIESM12_abrupt2x_1000_g025.nc\n",
    " 8. netTOA_mon_CNRMCM61_abrupt2x_750_g025.nc\n",
    " 9. netTOA_mon_CCSM3_abrupt2x_3000_g025.nc\n",
    " 10. netTOA_mon_MPIESM12_abrupt16x_999_g025.nc\n",
    " 11. netTOA_mon_MPIESM12_abrupt8x_1000_g025.nc\n",
    " 12. netTOA_mon_MIROC32_1pct4x_2002_g025.nc\n",
    "\n",
    "\n",
    "<b> sic </b>\n",
    "None of these are 4xCO2. There is only one control file.\n",
    "lenght = 22\n",
    " 0. sic_mon_GISSE2R_control_5225_g025.nc\n",
    " 1. sic_mon_CNRMCM61_abrupt2x_750_g025.nc\n",
    " 2. sic_mon_MIROC32_1pct4x_2002_g025.nc\n",
    " 3. sic_mon_HadCM3L_abrupt2x_1000_g025.nc\n",
    " 4. sic_mon_GISSE2R_1pct4x_5001_g025.nc\n",
    " 5. sic_mon_HadCM3L_abrupt6x_1000_g025.nc\n",
    " 6. sic_mon_MPIESM12_abrupt8x_1000_g025.nc\n",
    " 7. sic_ann_FAMOUS_abrupt2x_3000_g025.nc\n",
    " 8. sic_mon_MPIESM12_abrupt16x_1000_g025.nc\n",
    " 9. sic_mon_MPIESM12_abrupt2x_1000_g025.nc\n",
    " 10. sic_mon_CESM104_abrupt8x_5100_g025.nc\n",
    " 11. sic_mon_ECEARTH_rcp85_1271_g025.nc\n",
    " 12. sic_mon_GFDLCM3_1pct2x_5000_g025.nc\n",
    " 13. sic_mon_HadCM3L_abrupt8x_1000_g025.nc\n",
    " 14. sic_mon_ECHAM5MPIOM_1pct4x_6080_g025.nc\n",
    " 15. sic_mon_CESM104_abrupt4x_5900_g025.nc\n",
    " 16. sic_mon_GFDLESM2M_1pct2x_4500_g025.nc\n",
    " 17. sic_mon_ECEARTH_historical_156_g025.nc\n",
    " 18. sic_mon_CCSM3_abrupt2x_3000_g025.nc\n",
    " 19. sic_mon_CESM104_abrupt2x_2500_g025.nc\n",
    " 20. sic_mon_MIROC32_1pct2x_2003_g025.nc\n",
    " 21. sic_mon_MPIESM12_abrupt32x_103_g025.nc\n"
   ]
  },
  {
   "cell_type": "code",
   "execution_count": null,
   "id": "5197ac1c",
   "metadata": {},
   "outputs": [],
   "source": []
  }
 ],
 "metadata": {
  "kernelspec": {
   "display_name": "Python 3 (ipykernel)",
   "language": "python",
   "name": "python3"
  },
  "language_info": {
   "codemirror_mode": {
    "name": "ipython",
    "version": 3
   },
   "file_extension": ".py",
   "mimetype": "text/x-python",
   "name": "python",
   "nbconvert_exporter": "python",
   "pygments_lexer": "ipython3",
   "version": "3.9.13"
  }
 },
 "nbformat": 4,
 "nbformat_minor": 5
}
