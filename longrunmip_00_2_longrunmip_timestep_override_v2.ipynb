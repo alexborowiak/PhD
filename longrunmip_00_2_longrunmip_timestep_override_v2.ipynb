{
 "cells": [
  {
   "cell_type": "markdown",
   "id": "30f5a1ec",
   "metadata": {},
   "source": [
    "# Time Analysis\n",
    "\n",
    "* Time analysis of lungrunmip data\n",
    "* Number of models for each experiment.\n",
    "This notebook contains an exploration of the timesteps in the longrunmip data.\n",
    "The notebooks also contains a time override. The models in my study all need to have the same timestamps - year since initialisation. The easiest way to go about this is overriding all time stamps and adding back in new time depending if annual or monthly (ann or monn in file name). "
   ]
  },
  {
   "cell_type": "code",
   "execution_count": 1,
   "id": "cd237fda",
   "metadata": {},
   "outputs": [],
   "source": [
    "import os, sys, warnings, cftime\n",
    "import xarray as xr\n",
    "import numpy as np\n",
    "import pandas as pd\n",
    "import matplotlib.pyplot \n",
    "import matplotlib.pyplot as plt\n",
    "warnings.filterwarnings('ignore')\n",
    "import constants\n",
    "sys.path.append(constants.MODULE_DIR)\n",
    "from importlib import reload\n",
    "from time import perf_counter\n",
    "from typing import List\n",
    "import re\n",
    "import xarray_class_accessors as xca\n",
    "import utils\n",
    "import open_ds\n",
    "\n",
    "from pprint import pprint"
   ]
  },
  {
   "cell_type": "markdown",
   "id": "99fe34d5",
   "metadata": {},
   "source": [
    "# Files"
   ]
  },
  {
   "cell_type": "code",
   "execution_count": 37,
   "id": "ab49edb9",
   "metadata": {},
   "outputs": [],
   "source": [
    "def refactor_longronmip_netcdf(ds: xr.Dataset) -> xr.Dataset:\n",
    "    print('\\n| Recatoring dims |', end='')\n",
    "    ds = open_ds.refactor_dims(ds)\n",
    "\n",
    "    freq = 'M' if re.search('\\w+mon\\w+', fname) else 'Y'\n",
    "    print(f'| {freq=} |', end='')\n",
    "    ds['time'] = open_ds.make_new_time(ds, freq=freq, debug=False)\n",
    "    \n",
    "    if freq == 'M':\n",
    "        \n",
    "        print(f' resample=True, old_length = {len(ds.time.values)}, ', end='')\n",
    "        ds = ds.resample(time='Y').mean()\n",
    "    print(f' length = {len(ds.time.values)}')\n",
    "        \n",
    "    return ds   "
   ]
  },
  {
   "cell_type": "code",
   "execution_count": 3,
   "id": "1f1afeb6",
   "metadata": {},
   "outputs": [
    {
     "data": {
      "text/plain": [
       "['tas', 'surf', 'netTOA', 'tos', 'pr', '.ipynb_checkpoints', 'psl', 'sic']"
      ]
     },
     "execution_count": 3,
     "metadata": {},
     "output_type": "execute_result"
    }
   ],
   "source": [
    "os.listdir(constants.LONGRUNMIP_DIR)"
   ]
  },
  {
   "cell_type": "code",
   "execution_count": 62,
   "id": "52018c76",
   "metadata": {},
   "outputs": [],
   "source": [
    "variable = 'netTOA' # Completed: pr, tas, sic, surf, tos, psl, netTOA\n",
    "ROOT_DIR = os.path.join(constants.LONGRUNMIP_DIR, variable, 'regrid')"
   ]
  },
  {
   "cell_type": "code",
   "execution_count": 63,
   "id": "b203af63",
   "metadata": {},
   "outputs": [
    {
     "name": "stdout",
     "output_type": "stream",
     "text": [
      "lenght = 44\n",
      " 0. netTOA_mon_MPIESM12_abrupt32x_103_g025.nc\n",
      " 1. netTOA_mon_ECEARTH_rcp85_1271_g025.nc\n"
     ]
    }
   ],
   "source": [
    "files = os.listdir(ROOT_DIR)\n",
    "utils.pprint_list(files)"
   ]
  },
  {
   "cell_type": "code",
   "execution_count": 64,
   "id": "49fc841f",
   "metadata": {},
   "outputs": [
    {
     "data": {
      "text/plain": [
       "'/g/data/w40/ab2313/PhD/longrunmip/netTOA/regrid_retimestamped'"
      ]
     },
     "execution_count": 64,
     "metadata": {},
     "output_type": "execute_result"
    }
   ],
   "source": [
    "OUTPUT_DIR = os.path.join(constants.LONGRUNMIP_DIR, variable, 'regrid_retimestamped')\n",
    "OUTPUT_DIR"
   ]
  },
  {
   "cell_type": "code",
   "execution_count": 65,
   "id": "cdceb87d",
   "metadata": {},
   "outputs": [],
   "source": [
    "try:\n",
    "    os.mkdir(OUTPUT_DIR)\n",
    "except FileExistsError as e:\n",
    "    pass"
   ]
  },
  {
   "cell_type": "code",
   "execution_count": 66,
   "id": "d62eab11",
   "metadata": {},
   "outputs": [
    {
     "name": "stdout",
     "output_type": "stream",
     "text": [
      "lenght = 0\n"
     ]
    }
   ],
   "source": [
    "utils.pprint_list(os.listdir(OUTPUT_DIR), num_start_items=0)"
   ]
  },
  {
   "cell_type": "code",
   "execution_count": 67,
   "id": "9f3a2de3",
   "metadata": {},
   "outputs": [
    {
     "data": {
      "text/plain": [
       "<module 'open_ds' from '/home/563/ab2313/Documents/PhD/modules/open_ds.py'>"
      ]
     },
     "execution_count": 67,
     "metadata": {},
     "output_type": "execute_result"
    }
   ],
   "source": [
    "reload(open_ds)"
   ]
  },
  {
   "cell_type": "code",
   "execution_count": 68,
   "id": "00aaa36b",
   "metadata": {},
   "outputs": [
    {
     "name": "stdout",
     "output_type": "stream",
     "text": [
      "1: - netTOA_mon_MPIESM12_abrupt32x_103_g025.nc failed to open.\n",
      "2: - netTOA_mon_ECEARTH_rcp85_1271_g025.nc failed to open.\n",
      "3: - netTOA_ann_FAMOUS_abrupt8x_95_g025.nc\n",
      "| Recatoring dims Chaning ncl1 to time\n",
      "| freq='Y' | length = 95\n",
      "| complete (0.183889701962471)\n",
      "4: - netTOA_mon_MPIESM12_abrupt4x_1000_g025.nc\n",
      "| Recatoring dims | freq='M' | resample=True, old_length = 12000,  length = 1000\n",
      "| complete (86.60383319389075)\n",
      "5: - netTOA_mon_IPSLCM5LA_control_1000_g025.nc\n",
      "| Recatoring dims | freq='M' | resample=True, old_length = 12000,  length = 1000\n",
      "| complete (90.22540307790041)\n",
      "6: - netTOA_mon_CNRMCM61_control_2000_g025.nc\n",
      "| Recatoring dims | freq='M' | resample=True, old_length = 24000,  length = 2000\n",
      "| complete (198.00411086063832)\n",
      "7: - netTOA_mon_CCSM3_abrupt8x_1450_g025.nc\n",
      "| Recatoring dims | freq='M' | resample=True, old_length = 17400,  length = 1450\n",
      "| complete (136.37060380447656)\n",
      "8: - netTOA_mon_ECEARTH_abrupt4x_150_g025.nc\n",
      "| Recatoring dims | freq='M' | resample=True, old_length = 1800,  length = 150\n",
      "| complete (9.976840610615909)\n",
      "9: - netTOA_ann_MPIESM11_abrupt4x_4459_g025.nc\n",
      "| Recatoring dims Chaning ncl1 to time\n",
      "| freq='Y' | length = 4459\n",
      "| complete (3.6125911101698875)\n",
      "10: - netTOA_mon_MIROC32_1pct2x_2003_g025.nc failed to open.\n",
      "11: - netTOA_mon_CNRMCM61_abrupt4x_1850_g025.nc\n",
      "| Recatoring dims | freq='M' | resample=True, old_length = 22200,  length = 1850\n",
      "| complete (176.6913828374818)\n",
      "12: - netTOA_mon_CESM104_abrupt4x_5300_g025.nc\n",
      "| Recatoring dims | freq='M' | resample=True, old_length = 63600,  length = 5300\n",
      "| complete (671.8056193562225)\n",
      "13: - netTOA_mon_IPSLCM5LA_abrupt4x_1000_g025.nc\n",
      "| Recatoring dims | freq='M' | resample=True, old_length = 12000,  length = 1000\n",
      "| complete (88.06300931517035)\n",
      "14: - netTOA_mon_GFDLESM2M_1pct2x_4500_g025.nc failed to open.\n",
      "15: - netTOA_mon_MPIESM12_control_1237_g025.nc\n",
      "| Recatoring dims | freq='M' | resample=True, old_length = 14844,  length = 1237\n",
      "| complete (111.5566642023623)\n",
      "16: - netTOA_ann_FAMOUS_abrupt4x_3000_g025.nc\n",
      "| Recatoring dims Chaning ncl1 to time\n",
      "| freq='Y' | length = 3000\n",
      "| complete (2.6931376345455647)\n",
      "17: - netTOA_mon_GISSE2R_1pct4x_5001_g025.nc failed to open.\n",
      "18: - netTOA_mon_MIROC32_abrupt4x_150_g025.nc\n",
      "| Recatoring dims | freq='M' | resample=True, old_length = 1800,  length = 150\n",
      "| complete (9.382882250472903)\n",
      "19: - netTOA_mon_ECEARTH_historical_156_g025.nc failed to open.\n",
      "20: - netTOA_mon_MIROC32_control_681_g025.nc\n",
      "| Recatoring dims | freq='M' | resample=True, old_length = 8172,  length = 681\n",
      "| complete (64.84363718796521)\n",
      "21: - netTOA_mon_ECEARTH_control_508_g025.nc\n",
      "| Recatoring dims | freq='M' | resample=True, old_length = 6096,  length = 508\n",
      "| complete (38.295236663892865)\n",
      "22: - netTOA_mon_GFDLESM2M_control_1340_g025.nc\n",
      "| Recatoring dims | freq='M' | resample=True, old_length = 16080,  length = 1340\n",
      "| complete (126.48320988100022)\n",
      "23: - netTOA_mon_GISSE2R_control_5525_g025.nc\n",
      "| Recatoring dims | freq='M' | resample=True, old_length = 62700,  length = 5225\n",
      "| complete (663.7115313531831)\n",
      "24: - netTOA_ann_MPIESM11_control_2000_g025.nc\n",
      "| Recatoring dims Chaning ncl1 to time\n",
      "| freq='Y' | length = 2000\n",
      "| complete (1.1038433350622654)\n",
      "25: - netTOA_mon_GISSE2R_abrupt4x_5001_g025.nc\n",
      "| Recatoring dims | freq='M' | resample=True, old_length = 60012,  length = 5001\n",
      "| complete (663.562510852702)\n",
      "26: - netTOA_mon_ECHAM5MPIOM_control_100_g025.nc\n",
      "| Recatoring dims | freq='M' | resample=True, old_length = 1200,  length = 100\n",
      "| complete (6.883284953422844)\n",
      "27: - netTOA_ann_FAMOUS_abrupt2x_3000_g025.nc\n",
      "| Recatoring dims Chaning ncl1 to time\n",
      "| freq='Y' | length = 3000\n",
      "| complete (2.6983852721750736)\n",
      "28: - netTOA_mon_CCSM3_abrupt4x_2120_g025.nc\n",
      "| Recatoring dims | freq='M' | resample=True, old_length = 25440,  length = 2120\n",
      "| complete (222.82356175687164)\n",
      "29: - netTOA_mon_CCSM3_control_1530_g025.nc\n",
      "| Recatoring dims | freq='M' | resample=True, old_length = 18360,  length = 1530\n",
      "| complete (153.71859742887318)\n",
      "30: - netTOA_mon_GFDLCM3_control_5200_g025.nc\n",
      "| Recatoring dims | freq='M' | resample=True, old_length = 62400,  length = 5200\n",
      "| complete (721.7427973141894)\n",
      "31: - netTOA_ann_FAMOUS_control_3000_g025.nc\n",
      "| Recatoring dims Chaning ncl1 to time\n",
      "| freq='Y' | length = 3000\n",
      "| complete (2.754265982657671)\n",
      "32: - netTOA_mon_CESM104_abrupt8x_4000_g025.nc failed to open.\n",
      "33: - netTOA_mon_CESM104_control_1000_g025.nc\n",
      "| Recatoring dims | freq='M' | resample=True, old_length = 12000,  length = 1000\n",
      "| complete (91.0829272698611)\n",
      "34: - netTOA_mon_MPIESM12_abrupt2x_1000_g025.nc failed to open.\n",
      "35: - netTOA_mon_GFDLCM3_1pct2x_5000_g025.nc\n",
      "| Recatoring dims | freq='M' | resample=True, old_length = 60000,  length = 5000\n",
      "| complete (683.2361564170569)\n",
      "36: - netTOA_mon_CESM104_abrupt2x_2500_g025.nc\n",
      "| Recatoring dims | freq='M' | resample=True, old_length = 30000,  length = 2500\n",
      "| complete (300.5666651185602)\n",
      "37: - netTOA_ann_HadGEM2_control_239_g025.nc\n",
      "| Recatoring dims Chaning ncl1 to time\n",
      "| freq='Y' | length = 239\n",
      "| complete (0.26852259784936905)\n",
      "38: - netTOA_mon_ECHAM5MPIOM_abrupt4x_1001_g025.nc\n",
      "| Recatoring dims | freq='M' | resample=True, old_length = 12012,  length = 1001\n",
      "| complete (92.62483898270875)\n",
      "39: - netTOA_mon_CNRMCM61_abrupt2x_750_g025.nc failed to open.\n",
      "40: - netTOA_mon_CCSM3_abrupt2x_3000_g025.nc failed to open.\n",
      "41: - netTOA_mon_MPIESM12_abrupt16x_999_g025.nc failed to open.\n",
      "42: - netTOA_mon_MPIESM12_abrupt8x_1000_g025.nc failed to open.\n",
      "43: - netTOA_mon_MIROC32_1pct4x_2002_g025.nc failed to open.\n",
      "44: - netTOA_ann_HadGEM2_abrupt4x_1299_g025.nc\n",
      "| Recatoring dims Chaning ncl1 to time\n",
      "| freq='Y' | length = 1299\n",
      "| complete (1.6102726720273495)\n"
     ]
    }
   ],
   "source": [
    "failed_files = []\n",
    "for i, fname in enumerate(files):\n",
    "\n",
    "    t1 = perf_counter()\n",
    "    print(f'{i+1}: - {fname}', end='')\n",
    "    fpath = os.path.join(ROOT_DIR, fname)\n",
    "\n",
    "    try:\n",
    "        ds = xr.open_dataset(fpath, use_cftime=True)\n",
    "        ds = refactor_longronmip_netcdf(ds)\n",
    "        ds.to_netcdf(os.path.join(OUTPUT_DIR, fname))\n",
    "            \n",
    "        t2 = perf_counter()\n",
    "        print(f'| complete ({t2-t1})')\n",
    "        \n",
    "    except:\n",
    "        print(f' failed to open.')\n",
    "        failed_files.append(fname)\n",
    "        "
   ]
  },
  {
   "cell_type": "code",
   "execution_count": 69,
   "id": "afddbd3e",
   "metadata": {},
   "outputs": [
    {
     "name": "stdout",
     "output_type": "stream",
     "text": [
      "lenght = 31\n",
      " 0. netTOA_ann_FAMOUS_abrupt8x_95_g025.nc\n",
      " 1. netTOA_mon_MPIESM12_abrupt4x_1000_g025.nc\n"
     ]
    }
   ],
   "source": [
    "file_check = os.listdir(OUTPUT_DIR)\n",
    "utils.pprint_list(file_check)"
   ]
  },
  {
   "cell_type": "code",
   "execution_count": 72,
   "id": "88ef7d43",
   "metadata": {},
   "outputs": [
    {
     "name": "stdout",
     "output_type": "stream",
     "text": [
      "lenght = 13\n",
      " 0. netTOA_mon_MPIESM12_abrupt32x_103_g025.nc\n",
      " 1. netTOA_mon_ECEARTH_rcp85_1271_g025.nc\n",
      " 2. netTOA_mon_MIROC32_1pct2x_2003_g025.nc\n",
      " 3. netTOA_mon_GFDLESM2M_1pct2x_4500_g025.nc\n",
      " 4. netTOA_mon_GISSE2R_1pct4x_5001_g025.nc\n",
      " 5. netTOA_mon_ECEARTH_historical_156_g025.nc\n",
      " 6. netTOA_mon_CESM104_abrupt8x_4000_g025.nc\n",
      " 7. netTOA_mon_MPIESM12_abrupt2x_1000_g025.nc\n",
      " 8. netTOA_mon_CNRMCM61_abrupt2x_750_g025.nc\n",
      " 9. netTOA_mon_CCSM3_abrupt2x_3000_g025.nc\n",
      " 10. netTOA_mon_MPIESM12_abrupt16x_999_g025.nc\n",
      " 11. netTOA_mon_MPIESM12_abrupt8x_1000_g025.nc\n",
      " 12. netTOA_mon_MIROC32_1pct4x_2002_g025.nc\n"
     ]
    }
   ],
   "source": [
    "utils.pprint_list(failed_files, num_start_items=13)"
   ]
  },
  {
   "cell_type": "markdown",
   "id": "30794f43",
   "metadata": {},
   "source": [
    "Failed files <br> \n",
    "<b> Pr </b>\n",
    "* 'pr_mon_CESM104_abrupt4x_5900_g025.nc'\n",
    "\n",
    "<b> tas </b>\n",
    "* 'tas_mon_GISSE2R_control_5225_g025.nc'\n",
    "\n",
    "<b> surf </b>\n",
    "\n",
    "lenght = 1\n",
    " 0. surf_ann_CESM104_control_1000_g025.nc\n",
    " \n",
    "<b> tos </b>\n",
    "\n",
    "lenght = 1\n",
    " 0. tos_ann_CESM104_control_1000_g025.nc\n",
    "\n",
    "<b> netNOTA </b>\n",
    "\n",
    "lenght = 13\n",
    " 0. netTOA_mon_MPIESM12_abrupt32x_103_g025.nc\n",
    " 1. netTOA_mon_ECEARTH_rcp85_1271_g025.nc\n",
    " 2. netTOA_mon_MIROC32_1pct2x_2003_g025.nc\n",
    " 3. netTOA_mon_GFDLESM2M_1pct2x_4500_g025.nc\n",
    " 4. netTOA_mon_GISSE2R_1pct4x_5001_g025.nc\n",
    " 5. netTOA_mon_ECEARTH_historical_156_g025.nc\n",
    " 6. netTOA_mon_CESM104_abrupt8x_4000_g025.nc\n",
    " 7. netTOA_mon_MPIESM12_abrupt2x_1000_g025.nc\n",
    " 8. netTOA_mon_CNRMCM61_abrupt2x_750_g025.nc\n",
    " 9. netTOA_mon_CCSM3_abrupt2x_3000_g025.nc\n",
    " 10. netTOA_mon_MPIESM12_abrupt16x_999_g025.nc\n",
    " 11. netTOA_mon_MPIESM12_abrupt8x_1000_g025.nc\n",
    " 12. netTOA_mon_MIROC32_1pct4x_2002_g025.nc\n",
    "\n",
    "\n",
    "<b> sic </b>\n",
    "None of these are 4xCO2. There is only one control file.\n",
    "lenght = 22\n",
    " 0. sic_mon_GISSE2R_control_5225_g025.nc\n",
    " 1. sic_mon_CNRMCM61_abrupt2x_750_g025.nc\n",
    " 2. sic_mon_MIROC32_1pct4x_2002_g025.nc\n",
    " 3. sic_mon_HadCM3L_abrupt2x_1000_g025.nc\n",
    " 4. sic_mon_GISSE2R_1pct4x_5001_g025.nc\n",
    " 5. sic_mon_HadCM3L_abrupt6x_1000_g025.nc\n",
    " 6. sic_mon_MPIESM12_abrupt8x_1000_g025.nc\n",
    " 7. sic_ann_FAMOUS_abrupt2x_3000_g025.nc\n",
    " 8. sic_mon_MPIESM12_abrupt16x_1000_g025.nc\n",
    " 9. sic_mon_MPIESM12_abrupt2x_1000_g025.nc\n",
    " 10. sic_mon_CESM104_abrupt8x_5100_g025.nc\n",
    " 11. sic_mon_ECEARTH_rcp85_1271_g025.nc\n",
    " 12. sic_mon_GFDLCM3_1pct2x_5000_g025.nc\n",
    " 13. sic_mon_HadCM3L_abrupt8x_1000_g025.nc\n",
    " 14. sic_mon_ECHAM5MPIOM_1pct4x_6080_g025.nc\n",
    " 15. sic_mon_CESM104_abrupt4x_5900_g025.nc\n",
    " 16. sic_mon_GFDLESM2M_1pct2x_4500_g025.nc\n",
    " 17. sic_mon_ECEARTH_historical_156_g025.nc\n",
    " 18. sic_mon_CCSM3_abrupt2x_3000_g025.nc\n",
    " 19. sic_mon_CESM104_abrupt2x_2500_g025.nc\n",
    " 20. sic_mon_MIROC32_1pct2x_2003_g025.nc\n",
    " 21. sic_mon_MPIESM12_abrupt32x_103_g025.nc\n"
   ]
  },
  {
   "cell_type": "code",
   "execution_count": null,
   "id": "5197ac1c",
   "metadata": {},
   "outputs": [],
   "source": []
  }
 ],
 "metadata": {
  "kernelspec": {
   "display_name": "Python 3 (ipykernel)",
   "language": "python",
   "name": "python3"
  },
  "language_info": {
   "codemirror_mode": {
    "name": "ipython",
    "version": 3
   },
   "file_extension": ".py",
   "mimetype": "text/x-python",
   "name": "python",
   "nbconvert_exporter": "python",
   "pygments_lexer": "ipython3",
   "version": "3.9.13"
  }
 },
 "nbformat": 4,
 "nbformat_minor": 5
}
